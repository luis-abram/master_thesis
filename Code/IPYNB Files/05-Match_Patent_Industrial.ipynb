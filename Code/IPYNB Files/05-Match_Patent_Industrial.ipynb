{
 "cells": [
  {
   "cell_type": "markdown",
   "metadata": {},
   "source": [
    "Library and Directory Setup"
   ]
  },
  {
   "cell_type": "code",
   "execution_count": 1,
   "metadata": {},
   "outputs": [],
   "source": [
    "options(warn=-1)"
   ]
  },
  {
   "cell_type": "code",
   "execution_count": 2,
   "metadata": {},
   "outputs": [
    {
     "name": "stderr",
     "output_type": "stream",
     "text": [
      "-- Attaching packages --------------------------------------- tidyverse 1.3.0 --\n",
      "v ggplot2 3.3.0     v purrr   0.3.3\n",
      "v tibble  2.1.3     v dplyr   0.8.5\n",
      "v tidyr   1.0.2     v stringr 1.4.0\n",
      "v readr   1.3.1     v forcats 0.5.0\n",
      "-- Conflicts ------------------------------------------ tidyverse_conflicts() --\n",
      "x dplyr::between()   masks data.table::between()\n",
      "x dplyr::filter()    masks stats::filter()\n",
      "x dplyr::first()     masks data.table::first()\n",
      "x dplyr::lag()       masks stats::lag()\n",
      "x dplyr::last()      masks data.table::last()\n",
      "x purrr::transpose() masks data.table::transpose()\n",
      "\n",
      "Attaching package: 'lubridate'\n",
      "\n",
      "The following objects are masked from 'package:data.table':\n",
      "\n",
      "    hour, isoweek, mday, minute, month, quarter, second, wday, week,\n",
      "    yday, year\n",
      "\n",
      "The following object is masked from 'package:base':\n",
      "\n",
      "    date\n",
      "\n",
      "\n",
      "Attaching package: 'plotly'\n",
      "\n",
      "The following object is masked from 'package:ggplot2':\n",
      "\n",
      "    last_plot\n",
      "\n",
      "The following object is masked from 'package:stats':\n",
      "\n",
      "    filter\n",
      "\n",
      "The following object is masked from 'package:graphics':\n",
      "\n",
      "    layout\n",
      "\n"
     ]
    }
   ],
   "source": [
    "library(data.table)\n",
    "library(tidyverse)\n",
    "library(lubridate)\n",
    "library(ggplot2)\n",
    "library(dplyr)\n",
    "library(plotly)\n",
    "library(stringdist)"
   ]
  },
  {
   "cell_type": "code",
   "execution_count": 3,
   "metadata": {},
   "outputs": [
    {
     "data": {
      "text/html": [
       "'F:/Thesis/Working_Data/Final'"
      ],
      "text/latex": [
       "'F:/Thesis/Working\\_Data/Final'"
      ],
      "text/markdown": [
       "'F:/Thesis/Working_Data/Final'"
      ],
      "text/plain": [
       "[1] \"F:/Thesis/Working_Data/Final\""
      ]
     },
     "metadata": {},
     "output_type": "display_data"
    }
   ],
   "source": [
    "setwd(\"F:/Thesis/Working_Data/Final\")\n",
    "getwd()"
   ]
  },
  {
   "cell_type": "markdown",
   "metadata": {},
   "source": [
    "# 1) Inputs"
   ]
  },
  {
   "cell_type": "code",
   "execution_count": 4,
   "metadata": {},
   "outputs": [
    {
     "data": {
      "text/html": [
       "<ol class=list-inline>\n",
       "\t<li>19606</li>\n",
       "\t<li>52</li>\n",
       "</ol>\n"
      ],
      "text/latex": [
       "\\begin{enumerate*}\n",
       "\\item 19606\n",
       "\\item 52\n",
       "\\end{enumerate*}\n"
      ],
      "text/markdown": [
       "1. 19606\n",
       "2. 52\n",
       "\n",
       "\n"
      ],
      "text/plain": [
       "[1] 19606    52"
      ]
     },
     "metadata": {},
     "output_type": "display_data"
    }
   ],
   "source": [
    "#Patent Dataset\n",
    "Patent_Dataset <- fread(\"Patent_Dataset.csv\", stringsAsFactors = FALSE, na.strings=\"\",encoding = \"UTF-8\")\n",
    "\n",
    "dim(Patent_Dataset)"
   ]
  },
  {
   "cell_type": "code",
   "execution_count": 5,
   "metadata": {},
   "outputs": [
    {
     "data": {
      "text/html": [
       "<ol class=list-inline>\n",
       "\t<li>1468640</li>\n",
       "\t<li>8</li>\n",
       "</ol>\n"
      ],
      "text/latex": [
       "\\begin{enumerate*}\n",
       "\\item 1468640\n",
       "\\item 8\n",
       "\\end{enumerate*}\n"
      ],
      "text/markdown": [
       "1. 1468640\n",
       "2. 8\n",
       "\n",
       "\n"
      ],
      "text/plain": [
       "[1] 1468640       8"
      ]
     },
     "metadata": {},
     "output_type": "display_data"
    }
   ],
   "source": [
    "# Industrial Dataset\n",
    "Industrial_Dataset <- fread(\"Industrial_Dataset.csv\", stringsAsFactors = FALSE, na.strings=\"\",encoding = \"UTF-8\")\n",
    "\n",
    "dim(Industrial_Dataset)"
   ]
  },
  {
   "cell_type": "markdown",
   "metadata": {},
   "source": [
    "Due to the scope of research we are only itnerested in obtaining information in the industrial dataset pertaining to \"Enterprise\" Applicants. For the database just a handful of columns are needed."
   ]
  },
  {
   "cell_type": "code",
   "execution_count": 6,
   "metadata": {},
   "outputs": [
    {
     "data": {
      "text/html": [
       "<ol class=list-inline>\n",
       "\t<li>16810</li>\n",
       "\t<li>4</li>\n",
       "</ol>\n"
      ],
      "text/latex": [
       "\\begin{enumerate*}\n",
       "\\item 16810\n",
       "\\item 4\n",
       "\\end{enumerate*}\n"
      ],
      "text/markdown": [
       "1. 16810\n",
       "2. 4\n",
       "\n",
       "\n"
      ],
      "text/plain": [
       "[1] 16810     4"
      ]
     },
     "metadata": {},
     "output_type": "display_data"
    },
    {
     "data": {
      "text/html": [
       "<table>\n",
       "<thead><tr><th scope=col>Patent_number</th><th scope=col>APPLICANT_MATCH_NAME</th><th scope=col>Person_ctry_code</th><th scope=col>Applicant_Key_Word</th></tr></thead>\n",
       "<tbody>\n",
       "\t<tr><td>EP0012777                                                                                  </td><td>SYSTRAN INSTITUT GES FUR FORSCHUNG &amp; ENTWICKLUNG MASCHINELLER SPRACHUBERSETZUNGSSYSTEME</td><td><span style=white-space:pre-wrap>GERMANY      </span>                                      </td><td>SYSTRAN                                                                                    </td></tr>\n",
       "\t<tr><td>EP0039393                                                                              </td><td>IBM                                                                                    </td><td>UNITED STATES                                                                          </td><td>IBM                                                                                    </td></tr>\n",
       "\t<tr><td>EP0059929                                                                              </td><td>STEULER INDUSTRIEWERKE                                                                 </td><td>GERMANY                                                                                </td><td>STEULER                                                                                </td></tr>\n",
       "\t<tr><td>EP0060671                                                                              </td><td>UBE IND                                                                                </td><td>JAPAN                                                                                  </td><td>UBE                                                                                    </td></tr>\n",
       "\t<tr><td>EP0091317                                                                              </td><td>TOSHIBA                                                                                </td><td>JAPAN                                                                                  </td><td>TOSHIBA                                                                                </td></tr>\n",
       "</tbody>\n",
       "</table>\n"
      ],
      "text/latex": [
       "\\begin{tabular}{r|llll}\n",
       " Patent\\_number & APPLICANT\\_MATCH\\_NAME & Person\\_ctry\\_code & Applicant\\_Key\\_Word\\\\\n",
       "\\hline\n",
       "\t EP0012777                                                                                 & SYSTRAN INSTITUT GES FUR FORSCHUNG \\& ENTWICKLUNG MASCHINELLER SPRACHUBERSETZUNGSSYSTEME & GERMANY                                                                                   & SYSTRAN                                                                                  \\\\\n",
       "\t EP0039393                                                                               & IBM                                                                                     & UNITED STATES                                                                           & IBM                                                                                    \\\\\n",
       "\t EP0059929                                                                               & STEULER INDUSTRIEWERKE                                                                  & GERMANY                                                                                 & STEULER                                                                                \\\\\n",
       "\t EP0060671                                                                               & UBE IND                                                                                 & JAPAN                                                                                   & UBE                                                                                    \\\\\n",
       "\t EP0091317                                                                               & TOSHIBA                                                                                 & JAPAN                                                                                   & TOSHIBA                                                                                \\\\\n",
       "\\end{tabular}\n"
      ],
      "text/markdown": [
       "\n",
       "| Patent_number | APPLICANT_MATCH_NAME | Person_ctry_code | Applicant_Key_Word |\n",
       "|---|---|---|---|\n",
       "| EP0012777                                                                               | SYSTRAN INSTITUT GES FUR FORSCHUNG & ENTWICKLUNG MASCHINELLER SPRACHUBERSETZUNGSSYSTEME | GERMANY                                                                                 | SYSTRAN                                                                                 |\n",
       "| EP0039393                                                                               | IBM                                                                                     | UNITED STATES                                                                           | IBM                                                                                     |\n",
       "| EP0059929                                                                               | STEULER INDUSTRIEWERKE                                                                  | GERMANY                                                                                 | STEULER                                                                                 |\n",
       "| EP0060671                                                                               | UBE IND                                                                                 | JAPAN                                                                                   | UBE                                                                                     |\n",
       "| EP0091317                                                                               | TOSHIBA                                                                                 | JAPAN                                                                                   | TOSHIBA                                                                                 |\n",
       "\n"
      ],
      "text/plain": [
       "  Patent_number\n",
       "1 EP0012777    \n",
       "2 EP0039393    \n",
       "3 EP0059929    \n",
       "4 EP0060671    \n",
       "5 EP0091317    \n",
       "  APPLICANT_MATCH_NAME                                                                   \n",
       "1 SYSTRAN INSTITUT GES FUR FORSCHUNG & ENTWICKLUNG MASCHINELLER SPRACHUBERSETZUNGSSYSTEME\n",
       "2 IBM                                                                                    \n",
       "3 STEULER INDUSTRIEWERKE                                                                 \n",
       "4 UBE IND                                                                                \n",
       "5 TOSHIBA                                                                                \n",
       "  Person_ctry_code Applicant_Key_Word\n",
       "1 GERMANY          SYSTRAN           \n",
       "2 UNITED STATES    IBM               \n",
       "3 GERMANY          STEULER           \n",
       "4 JAPAN            UBE               \n",
       "5 JAPAN            TOSHIBA           "
      ]
     },
     "metadata": {},
     "output_type": "display_data"
    }
   ],
   "source": [
    "Patents_Enterprise <- Patent_Dataset[Applicant_Type==\"Enterprise\",.(Patent_number, APPLICANT_MATCH_NAME,\n",
    "                                                                 Person_ctry_code, Applicant_Key_Word)]\n",
    "dim(Patents_Enterprise)\n",
    "head(Patents_Enterprise,5)"
   ]
  },
  {
   "cell_type": "code",
   "execution_count": 7,
   "metadata": {},
   "outputs": [
    {
     "data": {
      "text/html": [
       "<table>\n",
       "<thead><tr><th scope=col>PDL_ID</th><th scope=col>PDL_ORIGINAL_NAME</th><th scope=col>YEAR_FOUNDED</th><th scope=col>INDUSTRY</th><th scope=col>SIZE_RANGE</th><th scope=col>COUNTRY</th><th scope=col>PDL_MATCH_NAME</th><th scope=col>PDL_Key_Word</th></tr></thead>\n",
       "<tbody>\n",
       "\t<tr><td>4925678                               </td><td>UNIVERSITY OF GLASGOW                 </td><td>1451                                  </td><td>RESEARCH                              </td><td>5001-10000                            </td><td>UNITED KINGDOM                        </td><td>UNIVERSITY OF GLASGOW                 </td><td>UNIVERSITY                            </td></tr>\n",
       "\t<tr><td>6329506                               </td><td>TECHNOLOGY SERVICES ORGANIZATION (TSO)</td><td>1775                                  </td><td>COMPUTER SOFTWARE                     </td><td>51-200                                </td><td>UNITED STATES                         </td><td>TECHNOLOGY SERVICES ORGANIZATION TSO  </td><td>TECHNOLOGY                            </td></tr>\n",
       "\t<tr><td>2366133                                                                         </td><td><span style=white-space:pre-wrap>US NAVAL RESERVE OFFICER              </span>  </td><td>1775                                                                            </td><td><span style=white-space:pre-wrap>DEFENSE &amp; SPACE                     </span></td><td><span style=white-space:pre-wrap>11-50     </span>                              </td><td>UNITED STATES                                                                   </td><td><span style=white-space:pre-wrap>US NAVAL RESERVE OFFICER            </span>    </td><td><span style=white-space:pre-wrap>US        </span>                              </td></tr>\n",
       "\t<tr><td>3550209                               </td><td>MARINE CORPS OFFICER SELECTION        </td><td>1775                                  </td><td>MECHANICAL OR INDUSTRIAL ENGINEERING  </td><td>1-10                                  </td><td>UNITED STATES                         </td><td>MARINE CORPS OFFICER SELECTION        </td><td>MARINE                                </td></tr>\n",
       "\t<tr><td>2583526                               </td><td>WHITE HOUSE ATHLETIC CENTER           </td><td>1789                                  </td><td>HEALTH, WELLNESS AND FITNESS          </td><td>1-10                                  </td><td>UNITED STATES                         </td><td>WHITE HOUSE ATHLETIC CENTER           </td><td>WHITE                                 </td></tr>\n",
       "</tbody>\n",
       "</table>\n"
      ],
      "text/latex": [
       "\\begin{tabular}{r|llllllll}\n",
       " PDL\\_ID & PDL\\_ORIGINAL\\_NAME & YEAR\\_FOUNDED & INDUSTRY & SIZE\\_RANGE & COUNTRY & PDL\\_MATCH\\_NAME & PDL\\_Key\\_Word\\\\\n",
       "\\hline\n",
       "\t 4925678                                & UNIVERSITY OF GLASGOW                  & 1451                                   & RESEARCH                               & 5001-10000                             & UNITED KINGDOM                         & UNIVERSITY OF GLASGOW                  & UNIVERSITY                            \\\\\n",
       "\t 6329506                                & TECHNOLOGY SERVICES ORGANIZATION (TSO) & 1775                                   & COMPUTER SOFTWARE                      & 51-200                                 & UNITED STATES                          & TECHNOLOGY SERVICES ORGANIZATION TSO   & TECHNOLOGY                            \\\\\n",
       "\t 2366133                                & US NAVAL RESERVE OFFICER               & 1775                                   & DEFENSE \\& SPACE                      & 11-50                                  & UNITED STATES                          & US NAVAL RESERVE OFFICER               & US                                    \\\\\n",
       "\t 3550209                                & MARINE CORPS OFFICER SELECTION         & 1775                                   & MECHANICAL OR INDUSTRIAL ENGINEERING   & 1-10                                   & UNITED STATES                          & MARINE CORPS OFFICER SELECTION         & MARINE                                \\\\\n",
       "\t 2583526                                & WHITE HOUSE ATHLETIC CENTER            & 1789                                   & HEALTH, WELLNESS AND FITNESS           & 1-10                                   & UNITED STATES                          & WHITE HOUSE ATHLETIC CENTER            & WHITE                                 \\\\\n",
       "\\end{tabular}\n"
      ],
      "text/markdown": [
       "\n",
       "| PDL_ID | PDL_ORIGINAL_NAME | YEAR_FOUNDED | INDUSTRY | SIZE_RANGE | COUNTRY | PDL_MATCH_NAME | PDL_Key_Word |\n",
       "|---|---|---|---|---|---|---|---|\n",
       "| 4925678                                | UNIVERSITY OF GLASGOW                  | 1451                                   | RESEARCH                               | 5001-10000                             | UNITED KINGDOM                         | UNIVERSITY OF GLASGOW                  | UNIVERSITY                             |\n",
       "| 6329506                                | TECHNOLOGY SERVICES ORGANIZATION (TSO) | 1775                                   | COMPUTER SOFTWARE                      | 51-200                                 | UNITED STATES                          | TECHNOLOGY SERVICES ORGANIZATION TSO   | TECHNOLOGY                             |\n",
       "| 2366133                                | US NAVAL RESERVE OFFICER               | 1775                                   | DEFENSE & SPACE                        | 11-50                                  | UNITED STATES                          | US NAVAL RESERVE OFFICER               | US                                     |\n",
       "| 3550209                                | MARINE CORPS OFFICER SELECTION         | 1775                                   | MECHANICAL OR INDUSTRIAL ENGINEERING   | 1-10                                   | UNITED STATES                          | MARINE CORPS OFFICER SELECTION         | MARINE                                 |\n",
       "| 2583526                                | WHITE HOUSE ATHLETIC CENTER            | 1789                                   | HEALTH, WELLNESS AND FITNESS           | 1-10                                   | UNITED STATES                          | WHITE HOUSE ATHLETIC CENTER            | WHITE                                  |\n",
       "\n"
      ],
      "text/plain": [
       "  PDL_ID  PDL_ORIGINAL_NAME                      YEAR_FOUNDED\n",
       "1 4925678 UNIVERSITY OF GLASGOW                  1451        \n",
       "2 6329506 TECHNOLOGY SERVICES ORGANIZATION (TSO) 1775        \n",
       "3 2366133 US NAVAL RESERVE OFFICER               1775        \n",
       "4 3550209 MARINE CORPS OFFICER SELECTION         1775        \n",
       "5 2583526 WHITE HOUSE ATHLETIC CENTER            1789        \n",
       "  INDUSTRY                             SIZE_RANGE COUNTRY       \n",
       "1 RESEARCH                             5001-10000 UNITED KINGDOM\n",
       "2 COMPUTER SOFTWARE                    51-200     UNITED STATES \n",
       "3 DEFENSE & SPACE                      11-50      UNITED STATES \n",
       "4 MECHANICAL OR INDUSTRIAL ENGINEERING 1-10       UNITED STATES \n",
       "5 HEALTH, WELLNESS AND FITNESS         1-10       UNITED STATES \n",
       "  PDL_MATCH_NAME                       PDL_Key_Word\n",
       "1 UNIVERSITY OF GLASGOW                UNIVERSITY  \n",
       "2 TECHNOLOGY SERVICES ORGANIZATION TSO TECHNOLOGY  \n",
       "3 US NAVAL RESERVE OFFICER             US          \n",
       "4 MARINE CORPS OFFICER SELECTION       MARINE      \n",
       "5 WHITE HOUSE ATHLETIC CENTER          WHITE       "
      ]
     },
     "metadata": {},
     "output_type": "display_data"
    }
   ],
   "source": [
    "head(Industrial_Dataset,5)"
   ]
  },
  {
   "cell_type": "markdown",
   "metadata": {},
   "source": [
    "# 2) Database Matching"
   ]
  },
  {
   "cell_type": "markdown",
   "metadata": {},
   "source": [
    "## 2.1) Direct Matching"
   ]
  },
  {
   "cell_type": "markdown",
   "metadata": {},
   "source": [
    "Direct Matching is based on the merger of databased based on the exact correspondence between 'APPLICANT_MATCH_NAME' and 'PDL_MATCH_NAME'"
   ]
  },
  {
   "cell_type": "code",
   "execution_count": 8,
   "metadata": {
    "scrolled": true
   },
   "outputs": [
    {
     "data": {
      "text/html": [
       "<table>\n",
       "<thead><tr><th scope=col>PDL_ID</th><th scope=col>PDL_ORIGINAL_NAME</th><th scope=col>YEAR_FOUNDED</th><th scope=col>INDUSTRY</th><th scope=col>SIZE_RANGE</th><th scope=col>COUNTRY</th><th scope=col>PDL_MATCH_NAME</th><th scope=col>APPLICANT_MATCH_NAME</th><th scope=col>Patent_number</th><th scope=col>Person_ctry_code</th><th scope=col>Applicant_Key_Word</th></tr></thead>\n",
       "<tbody>\n",
       "\t<tr><td>NA               </td><td>NA               </td><td>NA               </td><td>NA               </td><td>NA               </td><td>NA               </td><td>1026 LABS        </td><td>1026 LABS        </td><td>WO2017120517     </td><td>UNITED STATES    </td><td>1026             </td></tr>\n",
       "\t<tr><td>NA               </td><td>NA               </td><td>NA               </td><td>NA               </td><td>NA               </td><td>NA               </td><td>1026 LABS        </td><td>1026 LABS        </td><td>WO2017196693     </td><td>UNITED STATES    </td><td>1026             </td></tr>\n",
       "\t<tr><td>NA               </td><td>NA               </td><td>NA               </td><td>NA               </td><td>NA               </td><td>NA               </td><td>1026 LABS        </td><td>1026 LABS        </td><td>WO2017196694     </td><td>UNITED STATES    </td><td>1026             </td></tr>\n",
       "\t<tr><td>NA               </td><td>NA               </td><td>NA               </td><td>NA               </td><td>NA               </td><td>NA               </td><td>1026 LABS        </td><td>1026 LABS        </td><td>WO2018075772     </td><td>UNITED STATES    </td><td>1026             </td></tr>\n",
       "\t<tr><td>NA                                                           </td><td>NA                                                           </td><td>NA                                                           </td><td>NA                                                           </td><td>NA                                                           </td><td>NA                                                           </td><td><span style=white-space:pre-wrap>11 HEALTH &amp;      </span></td><td><span style=white-space:pre-wrap>11 HEALTH &amp;      </span></td><td>WO2019094635                                                 </td><td>UNITED STATES                                                </td><td><span style=white-space:pre-wrap>11      </span>             </td></tr>\n",
       "\t<tr><td>NA               </td><td>NA               </td><td>NA               </td><td>NA               </td><td>NA               </td><td>NA               </td><td>12 SIGMA         </td><td>12 SIGMA         </td><td>WO2018026431     </td><td>UNITED STATES    </td><td>12               </td></tr>\n",
       "\t<tr><td>NA               </td><td>NA               </td><td>NA               </td><td>NA               </td><td>NA               </td><td>NA               </td><td>12DX             </td><td>12DX             </td><td>WO2014144404     </td><td>UNITED STATES    </td><td>12DX             </td></tr>\n",
       "\t<tr><td>NA               </td><td>NA               </td><td>NA               </td><td>NA               </td><td>NA               </td><td>NA               </td><td>1QB INFORMATION  </td><td>1QB INFORMATION  </td><td>WO2017179011     </td><td>CANADA           </td><td>1QB              </td></tr>\n",
       "\t<tr><td>NA               </td><td>NA               </td><td>NA               </td><td>NA               </td><td>NA               </td><td>NA               </td><td>1QB INFORMATION  </td><td>1QB INFORMATION  </td><td>WO2019104443     </td><td>CANADA           </td><td>1QB              </td></tr>\n",
       "\t<tr><td>NA               </td><td>NA               </td><td>NA               </td><td>NA               </td><td>NA               </td><td>NA               </td><td>1THEFULL PLATFORM</td><td>1THEFULL PLATFORM</td><td>WO2019050140     </td><td>SOUTH KOREA      </td><td>1THEFULL         </td></tr>\n",
       "\t<tr><td>NA               </td><td>NA               </td><td>NA               </td><td>NA               </td><td>NA               </td><td>NA               </td><td>20 20 GENESYSTEMS</td><td>20 20 GENESYSTEMS</td><td>WO2016094330     </td><td>UNITED STATES    </td><td>20               </td></tr>\n",
       "\t<tr><td>NA               </td><td>NA               </td><td>NA               </td><td>NA               </td><td>NA               </td><td>NA               </td><td>20 20 GENESYSTEMS</td><td>20 20 GENESYSTEMS</td><td>WO2017173428     </td><td>UNITED STATES    </td><td>20               </td></tr>\n",
       "\t<tr><td>NA               </td><td>NA               </td><td>NA               </td><td>NA               </td><td>NA               </td><td>NA               </td><td>20 20 SPEECH     </td><td>20 20 SPEECH     </td><td>EP1688914        </td><td>UNITED KINGDOM   </td><td>20               </td></tr>\n",
       "\t<tr><td>NA               </td><td>NA               </td><td>NA               </td><td>NA               </td><td>NA               </td><td>NA               </td><td>2028             </td><td>2028             </td><td>WO2002063493     </td><td>UNITED STATES    </td><td>2028             </td></tr>\n",
       "\t<tr><td>NA               </td><td>NA               </td><td>NA               </td><td>NA               </td><td>NA               </td><td>NA               </td><td>20Q NET          </td><td>20Q NET          </td><td>EP1710735        </td><td>CANADA           </td><td>20Q              </td></tr>\n",
       "\t<tr><td>NA               </td><td>NA               </td><td>NA               </td><td>NA               </td><td>NA               </td><td>NA               </td><td>2167959 ONTARIO  </td><td>2167959 ONTARIO  </td><td>WO2011044658     </td><td>CANADA           </td><td>2167959          </td></tr>\n",
       "\t<tr><td>NA               </td><td>NA               </td><td>NA               </td><td>NA               </td><td>NA               </td><td>NA               </td><td>21CT             </td><td>21CT             </td><td>WO2008134456     </td><td>UNITED STATES    </td><td>21CT             </td></tr>\n",
       "\t<tr><td>NA               </td><td>NA               </td><td>NA               </td><td>NA               </td><td>NA               </td><td>NA               </td><td>21CT             </td><td>21CT             </td><td>WO2010019831     </td><td>UNITED STATES    </td><td>21CT             </td></tr>\n",
       "\t<tr><td>NA               </td><td>NA               </td><td>NA               </td><td>NA               </td><td>NA               </td><td>NA               </td><td>21ST CENTURY     </td><td>21ST CENTURY     </td><td>WO2008060643     </td><td>UNITED STATES    </td><td>21ST             </td></tr>\n",
       "\t<tr><td>NA               </td><td>NA               </td><td>NA               </td><td>NA               </td><td>NA               </td><td>NA               </td><td>2236008 ONTARIO  </td><td>2236008 ONTARIO  </td><td>EP2660809        </td><td>CANADA           </td><td>2236008          </td></tr>\n",
       "\t<tr><td>NA               </td><td>NA               </td><td>NA               </td><td>NA               </td><td>NA               </td><td>NA               </td><td>2236008 ONTARIO  </td><td>2236008 ONTARIO  </td><td>EP2760019        </td><td>CANADA           </td><td>2236008          </td></tr>\n",
       "\t<tr><td>NA               </td><td>NA               </td><td>NA               </td><td>NA               </td><td>NA               </td><td>NA               </td><td>2236008 ONTARIO  </td><td>2236008 ONTARIO  </td><td>EP3299921        </td><td>CANADA           </td><td>2236008          </td></tr>\n",
       "\t<tr><td>NA               </td><td>NA               </td><td>NA               </td><td>NA               </td><td>NA               </td><td>NA               </td><td>2236008 ONTARIO  </td><td>2236008 ONTARIO  </td><td>EP3441969        </td><td>CANADA           </td><td>2236008          </td></tr>\n",
       "\t<tr><td>NA               </td><td>NA               </td><td>NA               </td><td>NA               </td><td>NA               </td><td>NA               </td><td>2236008 ONTARIO  </td><td>2236008 ONTARIO  </td><td>EP3444810        </td><td>CANADA           </td><td>2236008          </td></tr>\n",
       "\t<tr><td>NA               </td><td>NA               </td><td>NA               </td><td>NA               </td><td>NA               </td><td>NA               </td><td>2236008 ONTARIO  </td><td>2236008 ONTARIO  </td><td>EP3444812        </td><td>CANADA           </td><td>2236008          </td></tr>\n",
       "\t<tr><td>NA               </td><td>NA               </td><td>NA               </td><td>NA               </td><td>NA               </td><td>NA               </td><td>2236008 ONTARIO  </td><td>2236008 ONTARIO  </td><td>EP3444813        </td><td>CANADA           </td><td>2236008          </td></tr>\n",
       "\t<tr><td>NA               </td><td>NA               </td><td>NA               </td><td>NA               </td><td>NA               </td><td>NA               </td><td>2236008 ONTARIO  </td><td>2236008 ONTARIO  </td><td>WO2018057513     </td><td>CANADA           </td><td>2236008          </td></tr>\n",
       "\t<tr><td>NA               </td><td>NA               </td><td>NA               </td><td>NA               </td><td>NA               </td><td>NA               </td><td>2236008 ONTARIO  </td><td>2236008 ONTARIO  </td><td>WO2018058237     </td><td>CANADA           </td><td>2236008          </td></tr>\n",
       "\t<tr><td>NA               </td><td>NA               </td><td>NA               </td><td>NA               </td><td>NA               </td><td>NA               </td><td>2352409 ONTARIO  </td><td>2352409 ONTARIO  </td><td>WO2016061668     </td><td>CANADA           </td><td>2352409          </td></tr>\n",
       "\t<tr><td>NA               </td><td>NA               </td><td>NA               </td><td>NA               </td><td>NA               </td><td>NA               </td><td>24 7 AI          </td><td>24 7 AI          </td><td>WO2019028261     </td><td>UNITED STATES    </td><td>24               </td></tr>\n",
       "\t<tr><td>...</td><td>...</td><td>...</td><td>...</td><td>...</td><td>...</td><td>...</td><td>...</td><td>...</td><td>...</td><td>...</td></tr>\n",
       "\t<tr><td>     NA                            </td><td>NA                                 </td><td>  NA                               </td><td>NA                                 </td><td>NA                                 </td><td>NA                                 </td><td>3M INNOVATIVE PROPERTIES           </td><td>3M INNOVATIVE PROPERTIES           </td><td>WO2019025909                       </td><td>UNITED STATES                      </td><td>3M                                 </td></tr>\n",
       "\t<tr><td>4297988                            </td><td>3SHAPE                             </td><td>2000                               </td><td>MEDICAL DEVICES                    </td><td>1001-5000                          </td><td>DENMARK                            </td><td>3SHAPE                             </td><td>3SHAPE                             </td><td>WO2002071794                       </td><td>DENMARK                            </td><td>3SHAPE                             </td></tr>\n",
       "\t<tr><td>     NA                            </td><td>NA                                 </td><td>  NA                               </td><td>NA                                 </td><td>NA                                 </td><td>NA                                 </td><td>4D PATH                            </td><td>4D PATH                            </td><td>WO2018201072                       </td><td>UNITED STATES                      </td><td>4D                                 </td></tr>\n",
       "\t<tr><td>     NA                            </td><td>NA                                 </td><td>  NA                               </td><td>NA                                 </td><td>NA                                 </td><td>NA                                 </td><td>4DK                                </td><td>4DK                                </td><td>WO2008103581                       </td><td>UNITED STATES                      </td><td>4DK                                </td></tr>\n",
       "\t<tr><td>1997527                            </td><td>4G CLINICAL                        </td><td>2015                               </td><td>PHARMACEUTICALS                    </td><td>51-200                             </td><td>UNITED STATES                      </td><td>4G CLINICAL                        </td><td>4G CLINICAL                        </td><td>WO2017075083                       </td><td>UNITED STATES                      </td><td>4G                                 </td></tr>\n",
       "\t<tr><td>1997527                            </td><td>4G CLINICAL                        </td><td>2015                               </td><td>PHARMACEUTICALS                    </td><td>51-200                             </td><td>UNITED STATES                      </td><td>4G CLINICAL                        </td><td>4G CLINICAL                        </td><td>WO2019067613                       </td><td>UNITED STATES                      </td><td>4G                                 </td></tr>\n",
       "\t<tr><td>     NA                            </td><td>NA                                 </td><td>  NA                               </td><td>NA                                 </td><td>NA                                 </td><td>NA                                 </td><td>5 EXAMPLES                         </td><td>5 EXAMPLES                         </td><td>WO2006020992                       </td><td>UNITED STATES                      </td><td>5                                  </td></tr>\n",
       "\t<tr><td>     NA                            </td><td>NA                                 </td><td>  NA                               </td><td>NA                                 </td><td>NA                                 </td><td>NA                                 </td><td>7 SIGMA                            </td><td>7 SIGMA                            </td><td>WO2014143150                       </td><td>UNITED STATES                      </td><td>7                                  </td></tr>\n",
       "\t<tr><td>     NA                            </td><td>NA                                 </td><td>  NA                               </td><td>NA                                 </td><td>NA                                 </td><td>NA                                 </td><td>80 20 SOFTWARE                     </td><td>80 20 SOFTWARE                     </td><td>WO2002048905                       </td><td>AUSTRALIA                          </td><td>80                                 </td></tr>\n",
       "\t<tr><td>     NA                            </td><td>NA                                 </td><td>  NA                               </td><td>NA                                 </td><td>NA                                 </td><td>NA                                 </td><td>9160 8083 QUEBECC                  </td><td>9160 8083 QUEBECC                  </td><td>WO2007059622                       </td><td>CANADA                             </td><td>9160                               </td></tr>\n",
       "\t<tr><td>     NA                            </td><td>NA                                 </td><td>  NA                               </td><td>NA                                 </td><td>NA                                 </td><td>NA                                 </td><td>9206868 CA                         </td><td>9206868 CA                         </td><td>WO2018014109                       </td><td>CANADA                             </td><td>9206868                            </td></tr>\n",
       "\t<tr><td>     NA                            </td><td>NA                                 </td><td>  NA                               </td><td>NA                                 </td><td>NA                                 </td><td>NA                                 </td><td>9293507 CA                         </td><td>9293507 CA                         </td><td>WO2016199074                       </td><td>CANADA                             </td><td>9293507                            </td></tr>\n",
       "\t<tr><td>     NA                            </td><td>NA                                 </td><td>  NA                               </td><td>NA                                 </td><td>NA                                 </td><td>NA                                 </td><td>9617094 CA                         </td><td>9617094 CA                         </td><td>WO2018058253                       </td><td>CANADA                             </td><td>9617094                            </td></tr>\n",
       "\t<tr><td>     NA                            </td><td>NA                                 </td><td>  NA                               </td><td>NA                                 </td><td>NA                                 </td><td>NA                                 </td><td>A LIFE MEDICAL                     </td><td>A LIFE MEDICAL                     </td><td>WO2015035193                       </td><td>UNITED STATES                      </td><td>A                                  </td></tr>\n",
       "\t<tr><td>     NA                            </td><td>NA                                 </td><td>  NA                               </td><td>NA                                 </td><td>NA                                 </td><td>NA                                 </td><td>A LIFE MEDICAL                     </td><td>A LIFE MEDICAL                     </td><td>WO2015050936                       </td><td>UNITED STATES                      </td><td>A                                  </td></tr>\n",
       "\t<tr><td>     NA                            </td><td>NA                                 </td><td>  NA                               </td><td>NA                                 </td><td>NA                                 </td><td>NA                                 </td><td>A9 COM                             </td><td>A9 COM                             </td><td>WO2008042818                       </td><td>UNITED STATES                      </td><td>A9                                 </td></tr>\n",
       "\t<tr><td>     NA                            </td><td>NA                                 </td><td>  NA                               </td><td>NA                                 </td><td>NA                                 </td><td>NA                                 </td><td>AAYUV                              </td><td>AAYUV                              </td><td>WO2017158533                       </td><td>INDIA                              </td><td>AAYUV                              </td></tr>\n",
       "\t<tr><td>6288489                            </td><td>AB MEDICA SPA                      </td><td>1984                               </td><td>MEDICAL DEVICES                    </td><td>201-500                            </td><td>ITALY                              </td><td>AB MEDICA                          </td><td>AB MEDICA                          </td><td>EP3355766                          </td><td>ITALY                              </td><td>AB                                 </td></tr>\n",
       "\t<tr><td>6668265                            </td><td>AB MEDICA                          </td><td>2006                               </td><td>MEDICAL DEVICES                    </td><td>51-200                             </td><td>GERMANY                            </td><td>AB MEDICA                          </td><td>AB MEDICA                          </td><td>EP3355766                          </td><td>ITALY                              </td><td>AB                                 </td></tr>\n",
       "\t<tr><td>     NA                            </td><td>NA                                 </td><td>  NA                               </td><td>NA                                 </td><td>NA                                 </td><td>NA                                 </td><td>AB MEDICA HOLDING                  </td><td>AB MEDICA HOLDING                  </td><td>WO2017055354                       </td><td>ITALY                              </td><td>AB                                 </td></tr>\n",
       "\t<tr><td>1487424                            </td><td>ABB INC.                           </td><td>1989                               </td><td>ELECTRICAL/ELECTRONIC MANUFACTURING</td><td>1-10                               </td><td>CANADA                             </td><td>ABB                                </td><td>ABB                                </td><td>EP0520400                          </td><td>SWEDEN                             </td><td>ABB                                </td></tr>\n",
       "\t<tr><td>1487424                            </td><td>ABB INC.                           </td><td>1989                               </td><td>ELECTRICAL/ELECTRONIC MANUFACTURING</td><td>1-10                               </td><td>CANADA                             </td><td>ABB                                </td><td>ABB                                </td><td>EP1236110                          </td><td>SWEDEN                             </td><td>ABB                                </td></tr>\n",
       "\t<tr><td>1487424                            </td><td>ABB INC.                           </td><td>1989                               </td><td>ELECTRICAL/ELECTRONIC MANUFACTURING</td><td>1-10                               </td><td>CANADA                             </td><td>ABB                                </td><td>ABB                                </td><td>EP1389819                          </td><td>SWITZERLAND                        </td><td>ABB                                </td></tr>\n",
       "\t<tr><td>1487424                            </td><td>ABB INC.                           </td><td>1989                               </td><td>ELECTRICAL/ELECTRONIC MANUFACTURING</td><td>1-10                               </td><td>CANADA                             </td><td>ABB                                </td><td>ABB                                </td><td>EP1676179                          </td><td>UNITED STATES                      </td><td>ABB                                </td></tr>\n",
       "\t<tr><td>1487424                            </td><td>ABB INC.                           </td><td>1989                               </td><td>ELECTRICAL/ELECTRONIC MANUFACTURING</td><td>1-10                               </td><td>CANADA                             </td><td>ABB                                </td><td>ABB                                </td><td>EP1714366                          </td><td>UNITED STATES                      </td><td>ABB                                </td></tr>\n",
       "\t<tr><td>1487424                            </td><td>ABB INC.                           </td><td>1989                               </td><td>ELECTRICAL/ELECTRONIC MANUFACTURING</td><td>1-10                               </td><td>CANADA                             </td><td>ABB                                </td><td>ABB                                </td><td>EP1728302                          </td><td>SWITZERLAND                        </td><td>ABB                                </td></tr>\n",
       "\t<tr><td>1487424                            </td><td>ABB INC.                           </td><td>1989                               </td><td>ELECTRICAL/ELECTRONIC MANUFACTURING</td><td>1-10                               </td><td>CANADA                             </td><td>ABB                                </td><td>ABB                                </td><td>EP1862269                          </td><td>GERMANY                            </td><td>ABB                                </td></tr>\n",
       "\t<tr><td>1487424                            </td><td>ABB INC.                           </td><td>1989                               </td><td>ELECTRICAL/ELECTRONIC MANUFACTURING</td><td>1-10                               </td><td>CANADA                             </td><td>ABB                                </td><td>ABB                                </td><td>EP2509010                          </td><td>ITALY                              </td><td>ABB                                </td></tr>\n",
       "\t<tr><td>1487424                            </td><td>ABB INC.                           </td><td>1989                               </td><td>ELECTRICAL/ELECTRONIC MANUFACTURING</td><td>1-10                               </td><td>CANADA                             </td><td>ABB                                </td><td>ABB                                </td><td>EP3173879                          </td><td>SWITZERLAND                        </td><td>ABB                                </td></tr>\n",
       "\t<tr><td>1487424                            </td><td>ABB INC.                           </td><td>1989                               </td><td>ELECTRICAL/ELECTRONIC MANUFACTURING</td><td>1-10                               </td><td>CANADA                             </td><td>ABB                                </td><td>ABB                                </td><td>WO2002054561                       </td><td>SWEDEN                             </td><td>ABB                                </td></tr>\n",
       "</tbody>\n",
       "</table>\n"
      ],
      "text/latex": [
       "\\begin{tabular}{r|lllllllllll}\n",
       " PDL\\_ID & PDL\\_ORIGINAL\\_NAME & YEAR\\_FOUNDED & INDUSTRY & SIZE\\_RANGE & COUNTRY & PDL\\_MATCH\\_NAME & APPLICANT\\_MATCH\\_NAME & Patent\\_number & Person\\_ctry\\_code & Applicant\\_Key\\_Word\\\\\n",
       "\\hline\n",
       "\t NA                & NA                & NA                & NA                & NA                & NA                & 1026 LABS         & 1026 LABS         & WO2017120517      & UNITED STATES     & 1026             \\\\\n",
       "\t NA                & NA                & NA                & NA                & NA                & NA                & 1026 LABS         & 1026 LABS         & WO2017196693      & UNITED STATES     & 1026             \\\\\n",
       "\t NA                & NA                & NA                & NA                & NA                & NA                & 1026 LABS         & 1026 LABS         & WO2017196694      & UNITED STATES     & 1026             \\\\\n",
       "\t NA                & NA                & NA                & NA                & NA                & NA                & 1026 LABS         & 1026 LABS         & WO2018075772      & UNITED STATES     & 1026             \\\\\n",
       "\t NA                  & NA                  & NA                  & NA                  & NA                  & NA                  & 11 HEALTH \\&       & 11 HEALTH \\&       & WO2019094635        & UNITED STATES       & 11                 \\\\\n",
       "\t NA                & NA                & NA                & NA                & NA                & NA                & 12 SIGMA          & 12 SIGMA          & WO2018026431      & UNITED STATES     & 12               \\\\\n",
       "\t NA                & NA                & NA                & NA                & NA                & NA                & 12DX              & 12DX              & WO2014144404      & UNITED STATES     & 12DX             \\\\\n",
       "\t NA                & NA                & NA                & NA                & NA                & NA                & 1QB INFORMATION   & 1QB INFORMATION   & WO2017179011      & CANADA            & 1QB              \\\\\n",
       "\t NA                & NA                & NA                & NA                & NA                & NA                & 1QB INFORMATION   & 1QB INFORMATION   & WO2019104443      & CANADA            & 1QB              \\\\\n",
       "\t NA                & NA                & NA                & NA                & NA                & NA                & 1THEFULL PLATFORM & 1THEFULL PLATFORM & WO2019050140      & SOUTH KOREA       & 1THEFULL         \\\\\n",
       "\t NA                & NA                & NA                & NA                & NA                & NA                & 20 20 GENESYSTEMS & 20 20 GENESYSTEMS & WO2016094330      & UNITED STATES     & 20               \\\\\n",
       "\t NA                & NA                & NA                & NA                & NA                & NA                & 20 20 GENESYSTEMS & 20 20 GENESYSTEMS & WO2017173428      & UNITED STATES     & 20               \\\\\n",
       "\t NA                & NA                & NA                & NA                & NA                & NA                & 20 20 SPEECH      & 20 20 SPEECH      & EP1688914         & UNITED KINGDOM    & 20               \\\\\n",
       "\t NA                & NA                & NA                & NA                & NA                & NA                & 2028              & 2028              & WO2002063493      & UNITED STATES     & 2028             \\\\\n",
       "\t NA                & NA                & NA                & NA                & NA                & NA                & 20Q NET           & 20Q NET           & EP1710735         & CANADA            & 20Q              \\\\\n",
       "\t NA                & NA                & NA                & NA                & NA                & NA                & 2167959 ONTARIO   & 2167959 ONTARIO   & WO2011044658      & CANADA            & 2167959          \\\\\n",
       "\t NA                & NA                & NA                & NA                & NA                & NA                & 21CT              & 21CT              & WO2008134456      & UNITED STATES     & 21CT             \\\\\n",
       "\t NA                & NA                & NA                & NA                & NA                & NA                & 21CT              & 21CT              & WO2010019831      & UNITED STATES     & 21CT             \\\\\n",
       "\t NA                & NA                & NA                & NA                & NA                & NA                & 21ST CENTURY      & 21ST CENTURY      & WO2008060643      & UNITED STATES     & 21ST             \\\\\n",
       "\t NA                & NA                & NA                & NA                & NA                & NA                & 2236008 ONTARIO   & 2236008 ONTARIO   & EP2660809         & CANADA            & 2236008          \\\\\n",
       "\t NA                & NA                & NA                & NA                & NA                & NA                & 2236008 ONTARIO   & 2236008 ONTARIO   & EP2760019         & CANADA            & 2236008          \\\\\n",
       "\t NA                & NA                & NA                & NA                & NA                & NA                & 2236008 ONTARIO   & 2236008 ONTARIO   & EP3299921         & CANADA            & 2236008          \\\\\n",
       "\t NA                & NA                & NA                & NA                & NA                & NA                & 2236008 ONTARIO   & 2236008 ONTARIO   & EP3441969         & CANADA            & 2236008          \\\\\n",
       "\t NA                & NA                & NA                & NA                & NA                & NA                & 2236008 ONTARIO   & 2236008 ONTARIO   & EP3444810         & CANADA            & 2236008          \\\\\n",
       "\t NA                & NA                & NA                & NA                & NA                & NA                & 2236008 ONTARIO   & 2236008 ONTARIO   & EP3444812         & CANADA            & 2236008          \\\\\n",
       "\t NA                & NA                & NA                & NA                & NA                & NA                & 2236008 ONTARIO   & 2236008 ONTARIO   & EP3444813         & CANADA            & 2236008          \\\\\n",
       "\t NA                & NA                & NA                & NA                & NA                & NA                & 2236008 ONTARIO   & 2236008 ONTARIO   & WO2018057513      & CANADA            & 2236008          \\\\\n",
       "\t NA                & NA                & NA                & NA                & NA                & NA                & 2236008 ONTARIO   & 2236008 ONTARIO   & WO2018058237      & CANADA            & 2236008          \\\\\n",
       "\t NA                & NA                & NA                & NA                & NA                & NA                & 2352409 ONTARIO   & 2352409 ONTARIO   & WO2016061668      & CANADA            & 2352409          \\\\\n",
       "\t NA                & NA                & NA                & NA                & NA                & NA                & 24 7 AI           & 24 7 AI           & WO2019028261      & UNITED STATES     & 24               \\\\\n",
       "\t ... & ... & ... & ... & ... & ... & ... & ... & ... & ... & ...\\\\\n",
       "\t      NA                             & NA                                  &   NA                                & NA                                  & NA                                  & NA                                  & 3M INNOVATIVE PROPERTIES            & 3M INNOVATIVE PROPERTIES            & WO2019025909                        & UNITED STATES                       & 3M                                 \\\\\n",
       "\t 4297988                             & 3SHAPE                              & 2000                                & MEDICAL DEVICES                     & 1001-5000                           & DENMARK                             & 3SHAPE                              & 3SHAPE                              & WO2002071794                        & DENMARK                             & 3SHAPE                             \\\\\n",
       "\t      NA                             & NA                                  &   NA                                & NA                                  & NA                                  & NA                                  & 4D PATH                             & 4D PATH                             & WO2018201072                        & UNITED STATES                       & 4D                                 \\\\\n",
       "\t      NA                             & NA                                  &   NA                                & NA                                  & NA                                  & NA                                  & 4DK                                 & 4DK                                 & WO2008103581                        & UNITED STATES                       & 4DK                                \\\\\n",
       "\t 1997527                             & 4G CLINICAL                         & 2015                                & PHARMACEUTICALS                     & 51-200                              & UNITED STATES                       & 4G CLINICAL                         & 4G CLINICAL                         & WO2017075083                        & UNITED STATES                       & 4G                                 \\\\\n",
       "\t 1997527                             & 4G CLINICAL                         & 2015                                & PHARMACEUTICALS                     & 51-200                              & UNITED STATES                       & 4G CLINICAL                         & 4G CLINICAL                         & WO2019067613                        & UNITED STATES                       & 4G                                 \\\\\n",
       "\t      NA                             & NA                                  &   NA                                & NA                                  & NA                                  & NA                                  & 5 EXAMPLES                          & 5 EXAMPLES                          & WO2006020992                        & UNITED STATES                       & 5                                  \\\\\n",
       "\t      NA                             & NA                                  &   NA                                & NA                                  & NA                                  & NA                                  & 7 SIGMA                             & 7 SIGMA                             & WO2014143150                        & UNITED STATES                       & 7                                  \\\\\n",
       "\t      NA                             & NA                                  &   NA                                & NA                                  & NA                                  & NA                                  & 80 20 SOFTWARE                      & 80 20 SOFTWARE                      & WO2002048905                        & AUSTRALIA                           & 80                                 \\\\\n",
       "\t      NA                             & NA                                  &   NA                                & NA                                  & NA                                  & NA                                  & 9160 8083 QUEBECC                   & 9160 8083 QUEBECC                   & WO2007059622                        & CANADA                              & 9160                               \\\\\n",
       "\t      NA                             & NA                                  &   NA                                & NA                                  & NA                                  & NA                                  & 9206868 CA                          & 9206868 CA                          & WO2018014109                        & CANADA                              & 9206868                            \\\\\n",
       "\t      NA                             & NA                                  &   NA                                & NA                                  & NA                                  & NA                                  & 9293507 CA                          & 9293507 CA                          & WO2016199074                        & CANADA                              & 9293507                            \\\\\n",
       "\t      NA                             & NA                                  &   NA                                & NA                                  & NA                                  & NA                                  & 9617094 CA                          & 9617094 CA                          & WO2018058253                        & CANADA                              & 9617094                            \\\\\n",
       "\t      NA                             & NA                                  &   NA                                & NA                                  & NA                                  & NA                                  & A LIFE MEDICAL                      & A LIFE MEDICAL                      & WO2015035193                        & UNITED STATES                       & A                                  \\\\\n",
       "\t      NA                             & NA                                  &   NA                                & NA                                  & NA                                  & NA                                  & A LIFE MEDICAL                      & A LIFE MEDICAL                      & WO2015050936                        & UNITED STATES                       & A                                  \\\\\n",
       "\t      NA                             & NA                                  &   NA                                & NA                                  & NA                                  & NA                                  & A9 COM                              & A9 COM                              & WO2008042818                        & UNITED STATES                       & A9                                 \\\\\n",
       "\t      NA                             & NA                                  &   NA                                & NA                                  & NA                                  & NA                                  & AAYUV                               & AAYUV                               & WO2017158533                        & INDIA                               & AAYUV                              \\\\\n",
       "\t 6288489                             & AB MEDICA SPA                       & 1984                                & MEDICAL DEVICES                     & 201-500                             & ITALY                               & AB MEDICA                           & AB MEDICA                           & EP3355766                           & ITALY                               & AB                                 \\\\\n",
       "\t 6668265                             & AB MEDICA                           & 2006                                & MEDICAL DEVICES                     & 51-200                              & GERMANY                             & AB MEDICA                           & AB MEDICA                           & EP3355766                           & ITALY                               & AB                                 \\\\\n",
       "\t      NA                             & NA                                  &   NA                                & NA                                  & NA                                  & NA                                  & AB MEDICA HOLDING                   & AB MEDICA HOLDING                   & WO2017055354                        & ITALY                               & AB                                 \\\\\n",
       "\t 1487424                             & ABB INC.                            & 1989                                & ELECTRICAL/ELECTRONIC MANUFACTURING & 1-10                                & CANADA                              & ABB                                 & ABB                                 & EP0520400                           & SWEDEN                              & ABB                                \\\\\n",
       "\t 1487424                             & ABB INC.                            & 1989                                & ELECTRICAL/ELECTRONIC MANUFACTURING & 1-10                                & CANADA                              & ABB                                 & ABB                                 & EP1236110                           & SWEDEN                              & ABB                                \\\\\n",
       "\t 1487424                             & ABB INC.                            & 1989                                & ELECTRICAL/ELECTRONIC MANUFACTURING & 1-10                                & CANADA                              & ABB                                 & ABB                                 & EP1389819                           & SWITZERLAND                         & ABB                                \\\\\n",
       "\t 1487424                             & ABB INC.                            & 1989                                & ELECTRICAL/ELECTRONIC MANUFACTURING & 1-10                                & CANADA                              & ABB                                 & ABB                                 & EP1676179                           & UNITED STATES                       & ABB                                \\\\\n",
       "\t 1487424                             & ABB INC.                            & 1989                                & ELECTRICAL/ELECTRONIC MANUFACTURING & 1-10                                & CANADA                              & ABB                                 & ABB                                 & EP1714366                           & UNITED STATES                       & ABB                                \\\\\n",
       "\t 1487424                             & ABB INC.                            & 1989                                & ELECTRICAL/ELECTRONIC MANUFACTURING & 1-10                                & CANADA                              & ABB                                 & ABB                                 & EP1728302                           & SWITZERLAND                         & ABB                                \\\\\n",
       "\t 1487424                             & ABB INC.                            & 1989                                & ELECTRICAL/ELECTRONIC MANUFACTURING & 1-10                                & CANADA                              & ABB                                 & ABB                                 & EP1862269                           & GERMANY                             & ABB                                \\\\\n",
       "\t 1487424                             & ABB INC.                            & 1989                                & ELECTRICAL/ELECTRONIC MANUFACTURING & 1-10                                & CANADA                              & ABB                                 & ABB                                 & EP2509010                           & ITALY                               & ABB                                \\\\\n",
       "\t 1487424                             & ABB INC.                            & 1989                                & ELECTRICAL/ELECTRONIC MANUFACTURING & 1-10                                & CANADA                              & ABB                                 & ABB                                 & EP3173879                           & SWITZERLAND                         & ABB                                \\\\\n",
       "\t 1487424                             & ABB INC.                            & 1989                                & ELECTRICAL/ELECTRONIC MANUFACTURING & 1-10                                & CANADA                              & ABB                                 & ABB                                 & WO2002054561                        & SWEDEN                              & ABB                                \\\\\n",
       "\\end{tabular}\n"
      ],
      "text/markdown": [
       "\n",
       "| PDL_ID | PDL_ORIGINAL_NAME | YEAR_FOUNDED | INDUSTRY | SIZE_RANGE | COUNTRY | PDL_MATCH_NAME | APPLICANT_MATCH_NAME | Patent_number | Person_ctry_code | Applicant_Key_Word |\n",
       "|---|---|---|---|---|---|---|---|---|---|---|\n",
       "| NA                | NA                | NA                | NA                | NA                | NA                | 1026 LABS         | 1026 LABS         | WO2017120517      | UNITED STATES     | 1026              |\n",
       "| NA                | NA                | NA                | NA                | NA                | NA                | 1026 LABS         | 1026 LABS         | WO2017196693      | UNITED STATES     | 1026              |\n",
       "| NA                | NA                | NA                | NA                | NA                | NA                | 1026 LABS         | 1026 LABS         | WO2017196694      | UNITED STATES     | 1026              |\n",
       "| NA                | NA                | NA                | NA                | NA                | NA                | 1026 LABS         | 1026 LABS         | WO2018075772      | UNITED STATES     | 1026              |\n",
       "| NA                | NA                | NA                | NA                | NA                | NA                | 11 HEALTH &       | 11 HEALTH &       | WO2019094635      | UNITED STATES     | 11                |\n",
       "| NA                | NA                | NA                | NA                | NA                | NA                | 12 SIGMA          | 12 SIGMA          | WO2018026431      | UNITED STATES     | 12                |\n",
       "| NA                | NA                | NA                | NA                | NA                | NA                | 12DX              | 12DX              | WO2014144404      | UNITED STATES     | 12DX              |\n",
       "| NA                | NA                | NA                | NA                | NA                | NA                | 1QB INFORMATION   | 1QB INFORMATION   | WO2017179011      | CANADA            | 1QB               |\n",
       "| NA                | NA                | NA                | NA                | NA                | NA                | 1QB INFORMATION   | 1QB INFORMATION   | WO2019104443      | CANADA            | 1QB               |\n",
       "| NA                | NA                | NA                | NA                | NA                | NA                | 1THEFULL PLATFORM | 1THEFULL PLATFORM | WO2019050140      | SOUTH KOREA       | 1THEFULL          |\n",
       "| NA                | NA                | NA                | NA                | NA                | NA                | 20 20 GENESYSTEMS | 20 20 GENESYSTEMS | WO2016094330      | UNITED STATES     | 20                |\n",
       "| NA                | NA                | NA                | NA                | NA                | NA                | 20 20 GENESYSTEMS | 20 20 GENESYSTEMS | WO2017173428      | UNITED STATES     | 20                |\n",
       "| NA                | NA                | NA                | NA                | NA                | NA                | 20 20 SPEECH      | 20 20 SPEECH      | EP1688914         | UNITED KINGDOM    | 20                |\n",
       "| NA                | NA                | NA                | NA                | NA                | NA                | 2028              | 2028              | WO2002063493      | UNITED STATES     | 2028              |\n",
       "| NA                | NA                | NA                | NA                | NA                | NA                | 20Q NET           | 20Q NET           | EP1710735         | CANADA            | 20Q               |\n",
       "| NA                | NA                | NA                | NA                | NA                | NA                | 2167959 ONTARIO   | 2167959 ONTARIO   | WO2011044658      | CANADA            | 2167959           |\n",
       "| NA                | NA                | NA                | NA                | NA                | NA                | 21CT              | 21CT              | WO2008134456      | UNITED STATES     | 21CT              |\n",
       "| NA                | NA                | NA                | NA                | NA                | NA                | 21CT              | 21CT              | WO2010019831      | UNITED STATES     | 21CT              |\n",
       "| NA                | NA                | NA                | NA                | NA                | NA                | 21ST CENTURY      | 21ST CENTURY      | WO2008060643      | UNITED STATES     | 21ST              |\n",
       "| NA                | NA                | NA                | NA                | NA                | NA                | 2236008 ONTARIO   | 2236008 ONTARIO   | EP2660809         | CANADA            | 2236008           |\n",
       "| NA                | NA                | NA                | NA                | NA                | NA                | 2236008 ONTARIO   | 2236008 ONTARIO   | EP2760019         | CANADA            | 2236008           |\n",
       "| NA                | NA                | NA                | NA                | NA                | NA                | 2236008 ONTARIO   | 2236008 ONTARIO   | EP3299921         | CANADA            | 2236008           |\n",
       "| NA                | NA                | NA                | NA                | NA                | NA                | 2236008 ONTARIO   | 2236008 ONTARIO   | EP3441969         | CANADA            | 2236008           |\n",
       "| NA                | NA                | NA                | NA                | NA                | NA                | 2236008 ONTARIO   | 2236008 ONTARIO   | EP3444810         | CANADA            | 2236008           |\n",
       "| NA                | NA                | NA                | NA                | NA                | NA                | 2236008 ONTARIO   | 2236008 ONTARIO   | EP3444812         | CANADA            | 2236008           |\n",
       "| NA                | NA                | NA                | NA                | NA                | NA                | 2236008 ONTARIO   | 2236008 ONTARIO   | EP3444813         | CANADA            | 2236008           |\n",
       "| NA                | NA                | NA                | NA                | NA                | NA                | 2236008 ONTARIO   | 2236008 ONTARIO   | WO2018057513      | CANADA            | 2236008           |\n",
       "| NA                | NA                | NA                | NA                | NA                | NA                | 2236008 ONTARIO   | 2236008 ONTARIO   | WO2018058237      | CANADA            | 2236008           |\n",
       "| NA                | NA                | NA                | NA                | NA                | NA                | 2352409 ONTARIO   | 2352409 ONTARIO   | WO2016061668      | CANADA            | 2352409           |\n",
       "| NA                | NA                | NA                | NA                | NA                | NA                | 24 7 AI           | 24 7 AI           | WO2019028261      | UNITED STATES     | 24                |\n",
       "| ... | ... | ... | ... | ... | ... | ... | ... | ... | ... | ... |\n",
       "|      NA                             | NA                                  |   NA                                | NA                                  | NA                                  | NA                                  | 3M INNOVATIVE PROPERTIES            | 3M INNOVATIVE PROPERTIES            | WO2019025909                        | UNITED STATES                       | 3M                                  |\n",
       "| 4297988                             | 3SHAPE                              | 2000                                | MEDICAL DEVICES                     | 1001-5000                           | DENMARK                             | 3SHAPE                              | 3SHAPE                              | WO2002071794                        | DENMARK                             | 3SHAPE                              |\n",
       "|      NA                             | NA                                  |   NA                                | NA                                  | NA                                  | NA                                  | 4D PATH                             | 4D PATH                             | WO2018201072                        | UNITED STATES                       | 4D                                  |\n",
       "|      NA                             | NA                                  |   NA                                | NA                                  | NA                                  | NA                                  | 4DK                                 | 4DK                                 | WO2008103581                        | UNITED STATES                       | 4DK                                 |\n",
       "| 1997527                             | 4G CLINICAL                         | 2015                                | PHARMACEUTICALS                     | 51-200                              | UNITED STATES                       | 4G CLINICAL                         | 4G CLINICAL                         | WO2017075083                        | UNITED STATES                       | 4G                                  |\n",
       "| 1997527                             | 4G CLINICAL                         | 2015                                | PHARMACEUTICALS                     | 51-200                              | UNITED STATES                       | 4G CLINICAL                         | 4G CLINICAL                         | WO2019067613                        | UNITED STATES                       | 4G                                  |\n",
       "|      NA                             | NA                                  |   NA                                | NA                                  | NA                                  | NA                                  | 5 EXAMPLES                          | 5 EXAMPLES                          | WO2006020992                        | UNITED STATES                       | 5                                   |\n",
       "|      NA                             | NA                                  |   NA                                | NA                                  | NA                                  | NA                                  | 7 SIGMA                             | 7 SIGMA                             | WO2014143150                        | UNITED STATES                       | 7                                   |\n",
       "|      NA                             | NA                                  |   NA                                | NA                                  | NA                                  | NA                                  | 80 20 SOFTWARE                      | 80 20 SOFTWARE                      | WO2002048905                        | AUSTRALIA                           | 80                                  |\n",
       "|      NA                             | NA                                  |   NA                                | NA                                  | NA                                  | NA                                  | 9160 8083 QUEBECC                   | 9160 8083 QUEBECC                   | WO2007059622                        | CANADA                              | 9160                                |\n",
       "|      NA                             | NA                                  |   NA                                | NA                                  | NA                                  | NA                                  | 9206868 CA                          | 9206868 CA                          | WO2018014109                        | CANADA                              | 9206868                             |\n",
       "|      NA                             | NA                                  |   NA                                | NA                                  | NA                                  | NA                                  | 9293507 CA                          | 9293507 CA                          | WO2016199074                        | CANADA                              | 9293507                             |\n",
       "|      NA                             | NA                                  |   NA                                | NA                                  | NA                                  | NA                                  | 9617094 CA                          | 9617094 CA                          | WO2018058253                        | CANADA                              | 9617094                             |\n",
       "|      NA                             | NA                                  |   NA                                | NA                                  | NA                                  | NA                                  | A LIFE MEDICAL                      | A LIFE MEDICAL                      | WO2015035193                        | UNITED STATES                       | A                                   |\n",
       "|      NA                             | NA                                  |   NA                                | NA                                  | NA                                  | NA                                  | A LIFE MEDICAL                      | A LIFE MEDICAL                      | WO2015050936                        | UNITED STATES                       | A                                   |\n",
       "|      NA                             | NA                                  |   NA                                | NA                                  | NA                                  | NA                                  | A9 COM                              | A9 COM                              | WO2008042818                        | UNITED STATES                       | A9                                  |\n",
       "|      NA                             | NA                                  |   NA                                | NA                                  | NA                                  | NA                                  | AAYUV                               | AAYUV                               | WO2017158533                        | INDIA                               | AAYUV                               |\n",
       "| 6288489                             | AB MEDICA SPA                       | 1984                                | MEDICAL DEVICES                     | 201-500                             | ITALY                               | AB MEDICA                           | AB MEDICA                           | EP3355766                           | ITALY                               | AB                                  |\n",
       "| 6668265                             | AB MEDICA                           | 2006                                | MEDICAL DEVICES                     | 51-200                              | GERMANY                             | AB MEDICA                           | AB MEDICA                           | EP3355766                           | ITALY                               | AB                                  |\n",
       "|      NA                             | NA                                  |   NA                                | NA                                  | NA                                  | NA                                  | AB MEDICA HOLDING                   | AB MEDICA HOLDING                   | WO2017055354                        | ITALY                               | AB                                  |\n",
       "| 1487424                             | ABB INC.                            | 1989                                | ELECTRICAL/ELECTRONIC MANUFACTURING | 1-10                                | CANADA                              | ABB                                 | ABB                                 | EP0520400                           | SWEDEN                              | ABB                                 |\n",
       "| 1487424                             | ABB INC.                            | 1989                                | ELECTRICAL/ELECTRONIC MANUFACTURING | 1-10                                | CANADA                              | ABB                                 | ABB                                 | EP1236110                           | SWEDEN                              | ABB                                 |\n",
       "| 1487424                             | ABB INC.                            | 1989                                | ELECTRICAL/ELECTRONIC MANUFACTURING | 1-10                                | CANADA                              | ABB                                 | ABB                                 | EP1389819                           | SWITZERLAND                         | ABB                                 |\n",
       "| 1487424                             | ABB INC.                            | 1989                                | ELECTRICAL/ELECTRONIC MANUFACTURING | 1-10                                | CANADA                              | ABB                                 | ABB                                 | EP1676179                           | UNITED STATES                       | ABB                                 |\n",
       "| 1487424                             | ABB INC.                            | 1989                                | ELECTRICAL/ELECTRONIC MANUFACTURING | 1-10                                | CANADA                              | ABB                                 | ABB                                 | EP1714366                           | UNITED STATES                       | ABB                                 |\n",
       "| 1487424                             | ABB INC.                            | 1989                                | ELECTRICAL/ELECTRONIC MANUFACTURING | 1-10                                | CANADA                              | ABB                                 | ABB                                 | EP1728302                           | SWITZERLAND                         | ABB                                 |\n",
       "| 1487424                             | ABB INC.                            | 1989                                | ELECTRICAL/ELECTRONIC MANUFACTURING | 1-10                                | CANADA                              | ABB                                 | ABB                                 | EP1862269                           | GERMANY                             | ABB                                 |\n",
       "| 1487424                             | ABB INC.                            | 1989                                | ELECTRICAL/ELECTRONIC MANUFACTURING | 1-10                                | CANADA                              | ABB                                 | ABB                                 | EP2509010                           | ITALY                               | ABB                                 |\n",
       "| 1487424                             | ABB INC.                            | 1989                                | ELECTRICAL/ELECTRONIC MANUFACTURING | 1-10                                | CANADA                              | ABB                                 | ABB                                 | EP3173879                           | SWITZERLAND                         | ABB                                 |\n",
       "| 1487424                             | ABB INC.                            | 1989                                | ELECTRICAL/ELECTRONIC MANUFACTURING | 1-10                                | CANADA                              | ABB                                 | ABB                                 | WO2002054561                        | SWEDEN                              | ABB                                 |\n",
       "\n"
      ],
      "text/plain": [
       "    PDL_ID  PDL_ORIGINAL_NAME YEAR_FOUNDED INDUSTRY                           \n",
       "1   NA      NA                NA           NA                                 \n",
       "2   NA      NA                NA           NA                                 \n",
       "3   NA      NA                NA           NA                                 \n",
       "4   NA      NA                NA           NA                                 \n",
       "5   NA      NA                NA           NA                                 \n",
       "6   NA      NA                NA           NA                                 \n",
       "7   NA      NA                NA           NA                                 \n",
       "8   NA      NA                NA           NA                                 \n",
       "9   NA      NA                NA           NA                                 \n",
       "10  NA      NA                NA           NA                                 \n",
       "11  NA      NA                NA           NA                                 \n",
       "12  NA      NA                NA           NA                                 \n",
       "13  NA      NA                NA           NA                                 \n",
       "14  NA      NA                NA           NA                                 \n",
       "15  NA      NA                NA           NA                                 \n",
       "16  NA      NA                NA           NA                                 \n",
       "17  NA      NA                NA           NA                                 \n",
       "18  NA      NA                NA           NA                                 \n",
       "19  NA      NA                NA           NA                                 \n",
       "20  NA      NA                NA           NA                                 \n",
       "21  NA      NA                NA           NA                                 \n",
       "22  NA      NA                NA           NA                                 \n",
       "23  NA      NA                NA           NA                                 \n",
       "24  NA      NA                NA           NA                                 \n",
       "25  NA      NA                NA           NA                                 \n",
       "26  NA      NA                NA           NA                                 \n",
       "27  NA      NA                NA           NA                                 \n",
       "28  NA      NA                NA           NA                                 \n",
       "29  NA      NA                NA           NA                                 \n",
       "30  NA      NA                NA           NA                                 \n",
       "... ...     ...               ...          ...                                \n",
       "71       NA NA                  NA         NA                                 \n",
       "72  4297988 3SHAPE            2000         MEDICAL DEVICES                    \n",
       "73       NA NA                  NA         NA                                 \n",
       "74       NA NA                  NA         NA                                 \n",
       "75  1997527 4G CLINICAL       2015         PHARMACEUTICALS                    \n",
       "76  1997527 4G CLINICAL       2015         PHARMACEUTICALS                    \n",
       "77       NA NA                  NA         NA                                 \n",
       "78       NA NA                  NA         NA                                 \n",
       "79       NA NA                  NA         NA                                 \n",
       "80       NA NA                  NA         NA                                 \n",
       "81       NA NA                  NA         NA                                 \n",
       "82       NA NA                  NA         NA                                 \n",
       "83       NA NA                  NA         NA                                 \n",
       "84       NA NA                  NA         NA                                 \n",
       "85       NA NA                  NA         NA                                 \n",
       "86       NA NA                  NA         NA                                 \n",
       "87       NA NA                  NA         NA                                 \n",
       "88  6288489 AB MEDICA SPA     1984         MEDICAL DEVICES                    \n",
       "89  6668265 AB MEDICA         2006         MEDICAL DEVICES                    \n",
       "90       NA NA                  NA         NA                                 \n",
       "91  1487424 ABB INC.          1989         ELECTRICAL/ELECTRONIC MANUFACTURING\n",
       "92  1487424 ABB INC.          1989         ELECTRICAL/ELECTRONIC MANUFACTURING\n",
       "93  1487424 ABB INC.          1989         ELECTRICAL/ELECTRONIC MANUFACTURING\n",
       "94  1487424 ABB INC.          1989         ELECTRICAL/ELECTRONIC MANUFACTURING\n",
       "95  1487424 ABB INC.          1989         ELECTRICAL/ELECTRONIC MANUFACTURING\n",
       "96  1487424 ABB INC.          1989         ELECTRICAL/ELECTRONIC MANUFACTURING\n",
       "97  1487424 ABB INC.          1989         ELECTRICAL/ELECTRONIC MANUFACTURING\n",
       "98  1487424 ABB INC.          1989         ELECTRICAL/ELECTRONIC MANUFACTURING\n",
       "99  1487424 ABB INC.          1989         ELECTRICAL/ELECTRONIC MANUFACTURING\n",
       "100 1487424 ABB INC.          1989         ELECTRICAL/ELECTRONIC MANUFACTURING\n",
       "    SIZE_RANGE COUNTRY       PDL_MATCH_NAME           APPLICANT_MATCH_NAME    \n",
       "1   NA         NA            1026 LABS                1026 LABS               \n",
       "2   NA         NA            1026 LABS                1026 LABS               \n",
       "3   NA         NA            1026 LABS                1026 LABS               \n",
       "4   NA         NA            1026 LABS                1026 LABS               \n",
       "5   NA         NA            11 HEALTH &              11 HEALTH &             \n",
       "6   NA         NA            12 SIGMA                 12 SIGMA                \n",
       "7   NA         NA            12DX                     12DX                    \n",
       "8   NA         NA            1QB INFORMATION          1QB INFORMATION         \n",
       "9   NA         NA            1QB INFORMATION          1QB INFORMATION         \n",
       "10  NA         NA            1THEFULL PLATFORM        1THEFULL PLATFORM       \n",
       "11  NA         NA            20 20 GENESYSTEMS        20 20 GENESYSTEMS       \n",
       "12  NA         NA            20 20 GENESYSTEMS        20 20 GENESYSTEMS       \n",
       "13  NA         NA            20 20 SPEECH             20 20 SPEECH            \n",
       "14  NA         NA            2028                     2028                    \n",
       "15  NA         NA            20Q NET                  20Q NET                 \n",
       "16  NA         NA            2167959 ONTARIO          2167959 ONTARIO         \n",
       "17  NA         NA            21CT                     21CT                    \n",
       "18  NA         NA            21CT                     21CT                    \n",
       "19  NA         NA            21ST CENTURY             21ST CENTURY            \n",
       "20  NA         NA            2236008 ONTARIO          2236008 ONTARIO         \n",
       "21  NA         NA            2236008 ONTARIO          2236008 ONTARIO         \n",
       "22  NA         NA            2236008 ONTARIO          2236008 ONTARIO         \n",
       "23  NA         NA            2236008 ONTARIO          2236008 ONTARIO         \n",
       "24  NA         NA            2236008 ONTARIO          2236008 ONTARIO         \n",
       "25  NA         NA            2236008 ONTARIO          2236008 ONTARIO         \n",
       "26  NA         NA            2236008 ONTARIO          2236008 ONTARIO         \n",
       "27  NA         NA            2236008 ONTARIO          2236008 ONTARIO         \n",
       "28  NA         NA            2236008 ONTARIO          2236008 ONTARIO         \n",
       "29  NA         NA            2352409 ONTARIO          2352409 ONTARIO         \n",
       "30  NA         NA            24 7 AI                  24 7 AI                 \n",
       "... ...        ...           ...                      ...                     \n",
       "71  NA         NA            3M INNOVATIVE PROPERTIES 3M INNOVATIVE PROPERTIES\n",
       "72  1001-5000  DENMARK       3SHAPE                   3SHAPE                  \n",
       "73  NA         NA            4D PATH                  4D PATH                 \n",
       "74  NA         NA            4DK                      4DK                     \n",
       "75  51-200     UNITED STATES 4G CLINICAL              4G CLINICAL             \n",
       "76  51-200     UNITED STATES 4G CLINICAL              4G CLINICAL             \n",
       "77  NA         NA            5 EXAMPLES               5 EXAMPLES              \n",
       "78  NA         NA            7 SIGMA                  7 SIGMA                 \n",
       "79  NA         NA            80 20 SOFTWARE           80 20 SOFTWARE          \n",
       "80  NA         NA            9160 8083 QUEBECC        9160 8083 QUEBECC       \n",
       "81  NA         NA            9206868 CA               9206868 CA              \n",
       "82  NA         NA            9293507 CA               9293507 CA              \n",
       "83  NA         NA            9617094 CA               9617094 CA              \n",
       "84  NA         NA            A LIFE MEDICAL           A LIFE MEDICAL          \n",
       "85  NA         NA            A LIFE MEDICAL           A LIFE MEDICAL          \n",
       "86  NA         NA            A9 COM                   A9 COM                  \n",
       "87  NA         NA            AAYUV                    AAYUV                   \n",
       "88  201-500    ITALY         AB MEDICA                AB MEDICA               \n",
       "89  51-200     GERMANY       AB MEDICA                AB MEDICA               \n",
       "90  NA         NA            AB MEDICA HOLDING        AB MEDICA HOLDING       \n",
       "91  1-10       CANADA        ABB                      ABB                     \n",
       "92  1-10       CANADA        ABB                      ABB                     \n",
       "93  1-10       CANADA        ABB                      ABB                     \n",
       "94  1-10       CANADA        ABB                      ABB                     \n",
       "95  1-10       CANADA        ABB                      ABB                     \n",
       "96  1-10       CANADA        ABB                      ABB                     \n",
       "97  1-10       CANADA        ABB                      ABB                     \n",
       "98  1-10       CANADA        ABB                      ABB                     \n",
       "99  1-10       CANADA        ABB                      ABB                     \n",
       "100 1-10       CANADA        ABB                      ABB                     \n",
       "    Patent_number Person_ctry_code Applicant_Key_Word\n",
       "1   WO2017120517  UNITED STATES    1026              \n",
       "2   WO2017196693  UNITED STATES    1026              \n",
       "3   WO2017196694  UNITED STATES    1026              \n",
       "4   WO2018075772  UNITED STATES    1026              \n",
       "5   WO2019094635  UNITED STATES    11                \n",
       "6   WO2018026431  UNITED STATES    12                \n",
       "7   WO2014144404  UNITED STATES    12DX              \n",
       "8   WO2017179011  CANADA           1QB               \n",
       "9   WO2019104443  CANADA           1QB               \n",
       "10  WO2019050140  SOUTH KOREA      1THEFULL          \n",
       "11  WO2016094330  UNITED STATES    20                \n",
       "12  WO2017173428  UNITED STATES    20                \n",
       "13  EP1688914     UNITED KINGDOM   20                \n",
       "14  WO2002063493  UNITED STATES    2028              \n",
       "15  EP1710735     CANADA           20Q               \n",
       "16  WO2011044658  CANADA           2167959           \n",
       "17  WO2008134456  UNITED STATES    21CT              \n",
       "18  WO2010019831  UNITED STATES    21CT              \n",
       "19  WO2008060643  UNITED STATES    21ST              \n",
       "20  EP2660809     CANADA           2236008           \n",
       "21  EP2760019     CANADA           2236008           \n",
       "22  EP3299921     CANADA           2236008           \n",
       "23  EP3441969     CANADA           2236008           \n",
       "24  EP3444810     CANADA           2236008           \n",
       "25  EP3444812     CANADA           2236008           \n",
       "26  EP3444813     CANADA           2236008           \n",
       "27  WO2018057513  CANADA           2236008           \n",
       "28  WO2018058237  CANADA           2236008           \n",
       "29  WO2016061668  CANADA           2352409           \n",
       "30  WO2019028261  UNITED STATES    24                \n",
       "... ...           ...              ...               \n",
       "71  WO2019025909  UNITED STATES    3M                \n",
       "72  WO2002071794  DENMARK          3SHAPE            \n",
       "73  WO2018201072  UNITED STATES    4D                \n",
       "74  WO2008103581  UNITED STATES    4DK               \n",
       "75  WO2017075083  UNITED STATES    4G                \n",
       "76  WO2019067613  UNITED STATES    4G                \n",
       "77  WO2006020992  UNITED STATES    5                 \n",
       "78  WO2014143150  UNITED STATES    7                 \n",
       "79  WO2002048905  AUSTRALIA        80                \n",
       "80  WO2007059622  CANADA           9160              \n",
       "81  WO2018014109  CANADA           9206868           \n",
       "82  WO2016199074  CANADA           9293507           \n",
       "83  WO2018058253  CANADA           9617094           \n",
       "84  WO2015035193  UNITED STATES    A                 \n",
       "85  WO2015050936  UNITED STATES    A                 \n",
       "86  WO2008042818  UNITED STATES    A9                \n",
       "87  WO2017158533  INDIA            AAYUV             \n",
       "88  EP3355766     ITALY            AB                \n",
       "89  EP3355766     ITALY            AB                \n",
       "90  WO2017055354  ITALY            AB                \n",
       "91  EP0520400     SWEDEN           ABB               \n",
       "92  EP1236110     SWEDEN           ABB               \n",
       "93  EP1389819     SWITZERLAND      ABB               \n",
       "94  EP1676179     UNITED STATES    ABB               \n",
       "95  EP1714366     UNITED STATES    ABB               \n",
       "96  EP1728302     SWITZERLAND      ABB               \n",
       "97  EP1862269     GERMANY          ABB               \n",
       "98  EP2509010     ITALY            ABB               \n",
       "99  EP3173879     SWITZERLAND      ABB               \n",
       "100 WO2002054561  SWEDEN           ABB               "
      ]
     },
     "metadata": {},
     "output_type": "display_data"
    }
   ],
   "source": [
    "#Define keys for both dataset\n",
    "setkey(Patents_Enterprise, APPLICANT_MATCH_NAME)\n",
    "setkey(Industrial_Dataset, PDL_MATCH_NAME)\n",
    "\n",
    "#Data Merger\n",
    "Direct_Match <- Industrial_Dataset[Patents_Enterprise, .(PDL_ID, PDL_ORIGINAL_NAME, YEAR_FOUNDED, INDUSTRY, SIZE_RANGE,\n",
    "                                                   COUNTRY, PDL_MATCH_NAME, APPLICANT_MATCH_NAME, Patent_number,\n",
    "                                                   Person_ctry_code, Applicant_Key_Word)]\n",
    "head(Direct_Match,100)"
   ]
  },
  {
   "cell_type": "markdown",
   "metadata": {},
   "source": [
    "As to be expected, not all patents matched exactly, in fact only 46% of patent applications were matched with an organization in the industrial dataset"
   ]
  },
  {
   "cell_type": "code",
   "execution_count": 9,
   "metadata": {},
   "outputs": [
    {
     "data": {
      "text/html": [
       "10427"
      ],
      "text/latex": [
       "10427"
      ],
      "text/markdown": [
       "10427"
      ],
      "text/plain": [
       "[1] 10427"
      ]
     },
     "metadata": {},
     "output_type": "display_data"
    },
    {
     "data": {
      "text/html": [
       "8876"
      ],
      "text/latex": [
       "8876"
      ],
      "text/markdown": [
       "8876"
      ],
      "text/plain": [
       "[1] 8876"
      ]
     },
     "metadata": {},
     "output_type": "display_data"
    },
    {
     "data": {
      "text/html": [
       "0.46"
      ],
      "text/latex": [
       "0.46"
      ],
      "text/markdown": [
       "0.46"
      ],
      "text/plain": [
       "[1] 0.46"
      ]
     },
     "metadata": {},
     "output_type": "display_data"
    }
   ],
   "source": [
    "#Number of patent application without Indsutrial set correspondend\n",
    "sum(is.na(Direct_Match$PDL_ID))\n",
    "\n",
    "#Number matched patent applications\n",
    "nrow(Direct_Match)-sum(is.na(Direct_Match$PDL_ID))\n",
    "\n",
    "#Success Rate\n",
    "DM_Success <- (nrow(Direct_Match)-sum(is.na(Direct_Match$PDL_ID)))/nrow(Direct_Match)\n",
    "round(DM_Success,2)"
   ]
  },
  {
   "cell_type": "markdown",
   "metadata": {},
   "source": [
    "### **Select patent applications that did not have a match for the Convoluted Fuzzy Match step**"
   ]
  },
  {
   "cell_type": "code",
   "execution_count": 10,
   "metadata": {},
   "outputs": [
    {
     "data": {
      "text/html": [
       "<ol class=list-inline>\n",
       "\t<li>10427</li>\n",
       "\t<li>11</li>\n",
       "</ol>\n"
      ],
      "text/latex": [
       "\\begin{enumerate*}\n",
       "\\item 10427\n",
       "\\item 11\n",
       "\\end{enumerate*}\n"
      ],
      "text/markdown": [
       "1. 10427\n",
       "2. 11\n",
       "\n",
       "\n"
      ],
      "text/plain": [
       "[1] 10427    11"
      ]
     },
     "metadata": {},
     "output_type": "display_data"
    }
   ],
   "source": [
    "Applicants_Fuzzy <- Direct_Match[is.na(PDL_ID)==TRUE,]\n",
    "\n",
    "#Consistency Check\n",
    "dim(Applicants_Fuzzy)"
   ]
  },
  {
   "cell_type": "markdown",
   "metadata": {},
   "source": [
    "### 2.1.1) Direct Match Result Processing"
   ]
  },
  {
   "cell_type": "code",
   "execution_count": 11,
   "metadata": {},
   "outputs": [
    {
     "data": {
      "text/html": [
       "<ol class=list-inline>\n",
       "\t<li>8876</li>\n",
       "\t<li>11</li>\n",
       "</ol>\n"
      ],
      "text/latex": [
       "\\begin{enumerate*}\n",
       "\\item 8876\n",
       "\\item 11\n",
       "\\end{enumerate*}\n"
      ],
      "text/markdown": [
       "1. 8876\n",
       "2. 11\n",
       "\n",
       "\n"
      ],
      "text/plain": [
       "[1] 8876   11"
      ]
     },
     "metadata": {},
     "output_type": "display_data"
    }
   ],
   "source": [
    "#Remove unmatched patent applications\n",
    "Direct_Match <- na.omit(Direct_Match, col=1)\n",
    "\n",
    "#Consistency Check\n",
    "dim(Direct_Match)"
   ]
  },
  {
   "cell_type": "code",
   "execution_count": 12,
   "metadata": {},
   "outputs": [
    {
     "data": {
      "text/html": [
       "<table>\n",
       "<thead><tr><th scope=col>PDL_ID</th><th scope=col>PDL_ORIGINAL_NAME</th><th scope=col>YEAR_FOUNDED</th><th scope=col>INDUSTRY</th><th scope=col>SIZE_RANGE</th><th scope=col>COUNTRY</th><th scope=col>PDL_MATCH_NAME</th><th scope=col>APPLICANT_MATCH_NAME</th><th scope=col>Patent_number</th><th scope=col>Person_ctry_code</th><th scope=col>Applicant_Key_Word</th></tr></thead>\n",
       "<tbody>\n",
       "\t<tr><td>5804991                            </td><td>360 KNEE SYSTEMS                   </td><td>2014                               </td><td>MEDICAL DEVICES                    </td><td>11-50                              </td><td>UNITED STATES                      </td><td>360 KNEE SYSTEMS                   </td><td>360 KNEE SYSTEMS                   </td><td>WO2017075657                       </td><td>AUSTRALIA                          </td><td>360                                </td></tr>\n",
       "\t<tr><td>5804991                            </td><td>360 KNEE SYSTEMS                   </td><td>2014                               </td><td>MEDICAL DEVICES                    </td><td>11-50                              </td><td>UNITED STATES                      </td><td>360 KNEE SYSTEMS                   </td><td>360 KNEE SYSTEMS                   </td><td>WO2017214656                       </td><td>AUSTRALIA                          </td><td>360                                </td></tr>\n",
       "\t<tr><td>2617189                            </td><td>360FLY                             </td><td>1998                               </td><td>CONSUMER ELECTRONICS               </td><td>11-50                              </td><td>UNITED STATES                      </td><td>360FLY                             </td><td>360FLY                             </td><td>WO2017120224                       </td><td>UNITED STATES                      </td><td>360FLY                             </td></tr>\n",
       "\t<tr><td>4297988                            </td><td>3SHAPE                             </td><td>2000                               </td><td>MEDICAL DEVICES                    </td><td>1001-5000                          </td><td>DENMARK                            </td><td>3SHAPE                             </td><td>3SHAPE                             </td><td>WO2002071794                       </td><td>DENMARK                            </td><td>3SHAPE                             </td></tr>\n",
       "\t<tr><td>1997527                            </td><td>4G CLINICAL                        </td><td>2015                               </td><td>PHARMACEUTICALS                    </td><td>51-200                             </td><td>UNITED STATES                      </td><td>4G CLINICAL                        </td><td>4G CLINICAL                        </td><td>WO2017075083                       </td><td>UNITED STATES                      </td><td>4G                                 </td></tr>\n",
       "\t<tr><td>1997527                            </td><td>4G CLINICAL                        </td><td>2015                               </td><td>PHARMACEUTICALS                    </td><td>51-200                             </td><td>UNITED STATES                      </td><td>4G CLINICAL                        </td><td>4G CLINICAL                        </td><td>WO2019067613                       </td><td>UNITED STATES                      </td><td>4G                                 </td></tr>\n",
       "\t<tr><td>6288489                            </td><td>AB MEDICA SPA                      </td><td>1984                               </td><td>MEDICAL DEVICES                    </td><td>201-500                            </td><td>ITALY                              </td><td>AB MEDICA                          </td><td>AB MEDICA                          </td><td>EP3355766                          </td><td>ITALY                              </td><td>AB                                 </td></tr>\n",
       "\t<tr><td>6668265                            </td><td>AB MEDICA                          </td><td>2006                               </td><td>MEDICAL DEVICES                    </td><td>51-200                             </td><td>GERMANY                            </td><td>AB MEDICA                          </td><td>AB MEDICA                          </td><td>EP3355766                          </td><td>ITALY                              </td><td>AB                                 </td></tr>\n",
       "\t<tr><td>1487424                            </td><td>ABB INC.                           </td><td>1989                               </td><td>ELECTRICAL/ELECTRONIC MANUFACTURING</td><td>1-10                               </td><td>CANADA                             </td><td>ABB                                </td><td>ABB                                </td><td>EP0520400                          </td><td>SWEDEN                             </td><td>ABB                                </td></tr>\n",
       "\t<tr><td>1487424                            </td><td>ABB INC.                           </td><td>1989                               </td><td>ELECTRICAL/ELECTRONIC MANUFACTURING</td><td>1-10                               </td><td>CANADA                             </td><td>ABB                                </td><td>ABB                                </td><td>EP1236110                          </td><td>SWEDEN                             </td><td>ABB                                </td></tr>\n",
       "\t<tr><td>1487424                            </td><td>ABB INC.                           </td><td>1989                               </td><td>ELECTRICAL/ELECTRONIC MANUFACTURING</td><td>1-10                               </td><td>CANADA                             </td><td>ABB                                </td><td>ABB                                </td><td>EP1389819                          </td><td>SWITZERLAND                        </td><td>ABB                                </td></tr>\n",
       "\t<tr><td>1487424                            </td><td>ABB INC.                           </td><td>1989                               </td><td>ELECTRICAL/ELECTRONIC MANUFACTURING</td><td>1-10                               </td><td>CANADA                             </td><td>ABB                                </td><td>ABB                                </td><td>EP1676179                          </td><td>UNITED STATES                      </td><td>ABB                                </td></tr>\n",
       "\t<tr><td>1487424                            </td><td>ABB INC.                           </td><td>1989                               </td><td>ELECTRICAL/ELECTRONIC MANUFACTURING</td><td>1-10                               </td><td>CANADA                             </td><td>ABB                                </td><td>ABB                                </td><td>EP1714366                          </td><td>UNITED STATES                      </td><td>ABB                                </td></tr>\n",
       "\t<tr><td>1487424                            </td><td>ABB INC.                           </td><td>1989                               </td><td>ELECTRICAL/ELECTRONIC MANUFACTURING</td><td>1-10                               </td><td>CANADA                             </td><td>ABB                                </td><td>ABB                                </td><td>EP1728302                          </td><td>SWITZERLAND                        </td><td>ABB                                </td></tr>\n",
       "\t<tr><td>1487424                            </td><td>ABB INC.                           </td><td>1989                               </td><td>ELECTRICAL/ELECTRONIC MANUFACTURING</td><td>1-10                               </td><td>CANADA                             </td><td>ABB                                </td><td>ABB                                </td><td>EP1862269                          </td><td>GERMANY                            </td><td>ABB                                </td></tr>\n",
       "\t<tr><td>1487424                            </td><td>ABB INC.                           </td><td>1989                               </td><td>ELECTRICAL/ELECTRONIC MANUFACTURING</td><td>1-10                               </td><td>CANADA                             </td><td>ABB                                </td><td>ABB                                </td><td>EP2509010                          </td><td>ITALY                              </td><td>ABB                                </td></tr>\n",
       "\t<tr><td>1487424                            </td><td>ABB INC.                           </td><td>1989                               </td><td>ELECTRICAL/ELECTRONIC MANUFACTURING</td><td>1-10                               </td><td>CANADA                             </td><td>ABB                                </td><td>ABB                                </td><td>EP3173879                          </td><td>SWITZERLAND                        </td><td>ABB                                </td></tr>\n",
       "\t<tr><td>1487424                            </td><td>ABB INC.                           </td><td>1989                               </td><td>ELECTRICAL/ELECTRONIC MANUFACTURING</td><td>1-10                               </td><td>CANADA                             </td><td>ABB                                </td><td>ABB                                </td><td>WO2002054561                       </td><td>SWEDEN                             </td><td>ABB                                </td></tr>\n",
       "\t<tr><td>1487424                            </td><td>ABB INC.                           </td><td>1989                               </td><td>ELECTRICAL/ELECTRONIC MANUFACTURING</td><td>1-10                               </td><td>CANADA                             </td><td>ABB                                </td><td>ABB                                </td><td>WO2002065345                       </td><td>SWITZERLAND                        </td><td>ABB                                </td></tr>\n",
       "\t<tr><td>1487424                            </td><td>ABB INC.                           </td><td>1989                               </td><td>ELECTRICAL/ELECTRONIC MANUFACTURING</td><td>1-10                               </td><td>CANADA                             </td><td>ABB                                </td><td>ABB                                </td><td>WO2003045640                       </td><td>SWEDEN                             </td><td>ABB                                </td></tr>\n",
       "\t<tr><td>1487424                            </td><td>ABB INC.                           </td><td>1989                               </td><td>ELECTRICAL/ELECTRONIC MANUFACTURING</td><td>1-10                               </td><td>CANADA                             </td><td>ABB                                </td><td>ABB                                </td><td>WO2005076428                       </td><td>UNITED STATES                      </td><td>ABB                                </td></tr>\n",
       "\t<tr><td>1487424                            </td><td>ABB INC.                           </td><td>1989                               </td><td>ELECTRICAL/ELECTRONIC MANUFACTURING</td><td>1-10                               </td><td>CANADA                             </td><td>ABB                                </td><td>ABB                                </td><td>WO2005091458                       </td><td>SWITZERLAND                        </td><td>ABB                                </td></tr>\n",
       "\t<tr><td>1487424                            </td><td>ABB INC.                           </td><td>1989                               </td><td>ELECTRICAL/ELECTRONIC MANUFACTURING</td><td>1-10                               </td><td>CANADA                             </td><td>ABB                                </td><td>ABB                                </td><td>WO2009155947                       </td><td>GERMANY                            </td><td>ABB                                </td></tr>\n",
       "\t<tr><td>1487424                            </td><td>ABB INC.                           </td><td>1989                               </td><td>ELECTRICAL/ELECTRONIC MANUFACTURING</td><td>1-10                               </td><td>CANADA                             </td><td>ABB                                </td><td>ABB                                </td><td>WO2013000654                       </td><td>SWITZERLAND                        </td><td>ABB                                </td></tr>\n",
       "\t<tr><td>1487424                            </td><td>ABB INC.                           </td><td>1989                               </td><td>ELECTRICAL/ELECTRONIC MANUFACTURING</td><td>1-10                               </td><td>CANADA                             </td><td>ABB                                </td><td>ABB                                </td><td>WO2014078830                       </td><td>SWITZERLAND                        </td><td>ABB                                </td></tr>\n",
       "\t<tr><td>1487424                            </td><td>ABB INC.                           </td><td>1989                               </td><td>ELECTRICAL/ELECTRONIC MANUFACTURING</td><td>1-10                               </td><td>CANADA                             </td><td>ABB                                </td><td>ABB                                </td><td>WO2014160760                       </td><td>SWITZERLAND                        </td><td>ABB                                </td></tr>\n",
       "\t<tr><td>1487424                            </td><td>ABB INC.                           </td><td>1989                               </td><td>ELECTRICAL/ELECTRONIC MANUFACTURING</td><td>1-10                               </td><td>CANADA                             </td><td>ABB                                </td><td>ABB                                </td><td>WO2016051303                       </td><td>SWITZERLAND                        </td><td>ABB                                </td></tr>\n",
       "\t<tr><td>1487424                            </td><td>ABB INC.                           </td><td>1989                               </td><td>ELECTRICAL/ELECTRONIC MANUFACTURING</td><td>1-10                               </td><td>CANADA                             </td><td>ABB                                </td><td>ABB                                </td><td>WO2016196512                       </td><td>SWITZERLAND                        </td><td>ABB                                </td></tr>\n",
       "\t<tr><td>6183632                            </td><td>ABBOTT                             </td><td>1976                               </td><td>COMMERCIAL REAL ESTATE             </td><td>1-10                               </td><td>UNITED STATES                      </td><td>ABBOTT                             </td><td>ABBOTT                             </td><td>WO2008005814                       </td><td>GERMANY                            </td><td>ABBOTT                             </td></tr>\n",
       "\t<tr><td> 538484                            </td><td>ABEJA                              </td><td>1998                               </td><td>INFORMATION TECHNOLOGY AND SERVICES</td><td>1-10                               </td><td>BELGIUM                            </td><td>ABEJA                              </td><td>ABEJA                              </td><td>WO2019003485                       </td><td>JAPAN                              </td><td>ABEJA                              </td></tr>\n",
       "\t<tr><td>...</td><td>...</td><td>...</td><td>...</td><td>...</td><td>...</td><td>...</td><td>...</td><td>...</td><td>...</td><td>...</td></tr>\n",
       "\t<tr><td>2280129                                                                        </td><td><span style=white-space:pre-wrap>AGFA HEALTHCARE        </span>                </td><td>1867                                                                           </td><td><span style=white-space:pre-wrap>HOSPITAL &amp; HEALTH CARE             </span></td><td>5001-10000                                                                     </td><td><span style=white-space:pre-wrap>BELGIUM       </span>                         </td><td><span style=white-space:pre-wrap>AGFA HEALTHCARE      </span>                  </td><td><span style=white-space:pre-wrap>AGFA HEALTHCARE      </span>                  </td><td><span style=white-space:pre-wrap>EP2811458   </span>                           </td><td><span style=white-space:pre-wrap>BELGIUM       </span>                         </td><td><span style=white-space:pre-wrap>AGFA    </span>                               </td></tr>\n",
       "\t<tr><td>2280129                                                                        </td><td><span style=white-space:pre-wrap>AGFA HEALTHCARE        </span>                </td><td>1867                                                                           </td><td><span style=white-space:pre-wrap>HOSPITAL &amp; HEALTH CARE             </span></td><td>5001-10000                                                                     </td><td><span style=white-space:pre-wrap>BELGIUM       </span>                         </td><td><span style=white-space:pre-wrap>AGFA HEALTHCARE      </span>                  </td><td><span style=white-space:pre-wrap>AGFA HEALTHCARE      </span>                  </td><td>WO2017036867                                                                   </td><td><span style=white-space:pre-wrap>BELGIUM       </span>                         </td><td><span style=white-space:pre-wrap>AGFA    </span>                               </td></tr>\n",
       "\t<tr><td>2280129                                                                        </td><td><span style=white-space:pre-wrap>AGFA HEALTHCARE        </span>                </td><td>1867                                                                           </td><td><span style=white-space:pre-wrap>HOSPITAL &amp; HEALTH CARE             </span></td><td>5001-10000                                                                     </td><td><span style=white-space:pre-wrap>BELGIUM       </span>                         </td><td><span style=white-space:pre-wrap>AGFA HEALTHCARE      </span>                  </td><td><span style=white-space:pre-wrap>AGFA HEALTHCARE      </span>                  </td><td>WO2018138104                                                                   </td><td><span style=white-space:pre-wrap>BELGIUM       </span>                         </td><td><span style=white-space:pre-wrap>AGFA    </span>                               </td></tr>\n",
       "\t<tr><td>2280129                                                                        </td><td><span style=white-space:pre-wrap>AGFA HEALTHCARE        </span>                </td><td>1867                                                                           </td><td><span style=white-space:pre-wrap>HOSPITAL &amp; HEALTH CARE             </span></td><td>5001-10000                                                                     </td><td><span style=white-space:pre-wrap>BELGIUM       </span>                         </td><td><span style=white-space:pre-wrap>AGFA HEALTHCARE      </span>                  </td><td><span style=white-space:pre-wrap>AGFA HEALTHCARE      </span>                  </td><td>WO2019081208                                                                   </td><td><span style=white-space:pre-wrap>BELGIUM       </span>                         </td><td><span style=white-space:pre-wrap>AGFA    </span>                               </td></tr>\n",
       "\t<tr><td>5980991                                                                        </td><td><span style=white-space:pre-wrap>AGI                    </span>                </td><td>1989                                                                           </td><td><span style=white-space:pre-wrap>DEFENSE &amp; SPACE                    </span></td><td>501-1,000                                                                      </td><td>UNITED STATES                                                                  </td><td><span style=white-space:pre-wrap>AGI                  </span>                  </td><td><span style=white-space:pre-wrap>AGI                  </span>                  </td><td><span style=white-space:pre-wrap>EP1318505   </span>                           </td><td><span style=white-space:pre-wrap>JAPAN         </span>                         </td><td><span style=white-space:pre-wrap>AGI     </span>                               </td></tr>\n",
       "\t<tr><td>6722871                            </td><td>AGI CORPORATION                    </td><td>2005                               </td><td>MARKETING AND ADVERTISING          </td><td>1-10                               </td><td>UNITED STATES                      </td><td>AGI                                </td><td>AGI                                </td><td>EP1318505                          </td><td>JAPAN                              </td><td>AGI                                </td></tr>\n",
       "\t<tr><td>1976010                            </td><td>AGIOS PHARMACEUTICALS              </td><td>2008                               </td><td>PHARMACEUTICALS                    </td><td>501-1,000                          </td><td>UNITED STATES                      </td><td>AGIOS PHARMACEUTICALS              </td><td>AGIOS PHARMACEUTICALS              </td><td>WO2018057359                       </td><td>UNITED STATES                      </td><td>AGIOS                              </td></tr>\n",
       "\t<tr><td> 153188                            </td><td>AGNITIO                            </td><td>2001                               </td><td>INFORMATION TECHNOLOGY AND SERVICES</td><td>51-200                             </td><td>DENMARK                            </td><td>AGNITIO                            </td><td>AGNITIO                            </td><td>EP2860706                          </td><td>SPAIN                              </td><td>AGNITIO                            </td></tr>\n",
       "\t<tr><td>3896625                            </td><td>AGNITIO                            </td><td>2004                               </td><td>COMPUTER SOFTWARE                  </td><td>1-10                               </td><td>SPAIN                              </td><td>AGNITIO                            </td><td>AGNITIO                            </td><td>EP2860706                          </td><td>SPAIN                              </td><td>AGNITIO                            </td></tr>\n",
       "\t<tr><td> 153188                            </td><td>AGNITIO                            </td><td>2001                               </td><td>INFORMATION TECHNOLOGY AND SERVICES</td><td>51-200                             </td><td>DENMARK                            </td><td>AGNITIO                            </td><td>AGNITIO                            </td><td>WO2014048855                       </td><td>SPAIN                              </td><td>AGNITIO                            </td></tr>\n",
       "\t<tr><td>3896625                            </td><td>AGNITIO                            </td><td>2004                               </td><td>COMPUTER SOFTWARE                  </td><td>1-10                               </td><td>SPAIN                              </td><td>AGNITIO                            </td><td>AGNITIO                            </td><td>WO2014048855                       </td><td>SPAIN                              </td><td>AGNITIO                            </td></tr>\n",
       "\t<tr><td>4706781                            </td><td>AGNITY, INC                        </td><td>2007                               </td><td>INFORMATION TECHNOLOGY AND SERVICES</td><td>51-200                             </td><td>UNITED STATES                      </td><td>AGNITY                             </td><td>AGNITY                             </td><td>WO2013152228                       </td><td>UNITED STATES                      </td><td>AGNITY                             </td></tr>\n",
       "\t<tr><td>5081862                            </td><td>AGOGO AMALGAMATED, INC.            </td><td>2010                               </td><td>INTERNET                           </td><td>11-50                              </td><td>UNITED STATES                      </td><td>AGOGO AMALGAMATED                  </td><td>AGOGO AMALGAMATED                  </td><td>WO2014008048                       </td><td>UNITED STATES                      </td><td>AGOGO                              </td></tr>\n",
       "\t<tr><td>3310731                            </td><td>AHA! SOFTWARE                      </td><td>2003                               </td><td>COMPUTER SOFTWARE                  </td><td>1-10                               </td><td>UNITED STATES                      </td><td>AHA SOFTWARE                       </td><td>AHA SOFTWARE                       </td><td>WO2014099127                       </td><td>UNITED STATES                      </td><td>AHA                                </td></tr>\n",
       "\t<tr><td>  64476                            </td><td>AIBRAIN, INC.                      </td><td>2012                               </td><td>COMPUTER SOFTWARE                  </td><td>11-50                              </td><td>UNITED STATES                      </td><td>AIBRAIN                            </td><td>AIBRAIN                            </td><td>WO2018187712                       </td><td>UNITED STATES                      </td><td>AIBRAIN                            </td></tr>\n",
       "\t<tr><td>  64476                            </td><td>AIBRAIN, INC.                      </td><td>2012                               </td><td>COMPUTER SOFTWARE                  </td><td>11-50                              </td><td>UNITED STATES                      </td><td>AIBRAIN                            </td><td>AIBRAIN                            </td><td>WO2018195307                       </td><td>UNITED STATES                      </td><td>AIBRAIN                            </td></tr>\n",
       "\t<tr><td>3867425                                                                        </td><td><span style=white-space:pre-wrap>AICARE SRL             </span>                </td><td>2016                                                                           </td><td><span style=white-space:pre-wrap>HOSPITAL &amp; HEALTH CARE             </span></td><td><span style=white-space:pre-wrap>1-10      </span>                             </td><td><span style=white-space:pre-wrap>ITALY         </span>                         </td><td><span style=white-space:pre-wrap>AICARE               </span>                  </td><td><span style=white-space:pre-wrap>AICARE               </span>                  </td><td>WO2019094345                                                                   </td><td>UNITED STATES                                                                  </td><td><span style=white-space:pre-wrap>AICARE  </span>                               </td></tr>\n",
       "\t<tr><td>3867425                                                                        </td><td><span style=white-space:pre-wrap>AICARE SRL             </span>                </td><td>2016                                                                           </td><td><span style=white-space:pre-wrap>HOSPITAL &amp; HEALTH CARE             </span></td><td><span style=white-space:pre-wrap>1-10      </span>                             </td><td><span style=white-space:pre-wrap>ITALY         </span>                         </td><td><span style=white-space:pre-wrap>AICARE               </span>                  </td><td><span style=white-space:pre-wrap>AICARE               </span>                  </td><td>WO2019094348                                                                   </td><td>UNITED STATES                                                                  </td><td><span style=white-space:pre-wrap>AICARE  </span>                               </td></tr>\n",
       "\t<tr><td>1549444                            </td><td>AILIVE INC.                        </td><td>2000                               </td><td>COMPUTER SOFTWARE                  </td><td>1-10                               </td><td>UNITED STATES                      </td><td>AILIVE                             </td><td>AILIVE                             </td><td>WO2006014560                       </td><td>UNITED STATES                      </td><td>AILIVE                             </td></tr>\n",
       "\t<tr><td>6812680                            </td><td>AIQ                                </td><td>2012                               </td><td>INFORMATION TECHNOLOGY AND SERVICES</td><td>1-10                               </td><td>AUSTRALIA                          </td><td>AIQ                                </td><td>AIQ                                </td><td>WO2018048355                       </td><td>SINGAPORE                          </td><td>AIQ                                </td></tr>\n",
       "\t<tr><td>2376224                            </td><td>AIQ                                </td><td>2017                               </td><td>INFORMATION TECHNOLOGY AND SERVICES</td><td>11-50                              </td><td>SINGAPORE                          </td><td>AIQ                                </td><td>AIQ                                </td><td>WO2018048355                       </td><td>SINGAPORE                          </td><td>AIQ                                </td></tr>\n",
       "\t<tr><td>4913624                            </td><td>AIQ                                </td><td>2017                               </td><td>INTERNET                           </td><td>1-10                               </td><td>UNITED STATES                      </td><td>AIQ                                </td><td>AIQ                                </td><td>WO2018048355                       </td><td>SINGAPORE                          </td><td>AIQ                                </td></tr>\n",
       "\t<tr><td>3925660                            </td><td>AIQUDO                             </td><td>2017                               </td><td>INTERNET                           </td><td>11-50                              </td><td>UNITED STATES                      </td><td>AIQUDO                             </td><td>AIQUDO                             </td><td>WO2018213725                       </td><td>UNITED STATES                      </td><td>AIQUDO                             </td></tr>\n",
       "\t<tr><td>4190408                            </td><td>AIRBNB                             </td><td>2008                               </td><td>INTERNET                           </td><td>5001-10000                         </td><td>UNITED STATES                      </td><td>AIRBNB                             </td><td>AIRBNB                             </td><td>WO2019022863                       </td><td>UNITED STATES                      </td><td>AIRBNB                             </td></tr>\n",
       "\t<tr><td>4190408                            </td><td>AIRBNB                             </td><td>2008                               </td><td>INTERNET                           </td><td>5001-10000                         </td><td>UNITED STATES                      </td><td>AIRBNB                             </td><td>AIRBNB                             </td><td>WO2019027763                       </td><td>UNITED STATES                      </td><td>AIRBNB                             </td></tr>\n",
       "\t<tr><td>6675364                                                                        </td><td><span style=white-space:pre-wrap>AIRCUITY               </span>                </td><td>2000                                                                           </td><td><span style=white-space:pre-wrap>RENEWABLES &amp; ENVIRONMENT           </span></td><td><span style=white-space:pre-wrap>51-200    </span>                             </td><td>UNITED STATES                                                                  </td><td><span style=white-space:pre-wrap>AIRCUITY             </span>                  </td><td><span style=white-space:pre-wrap>AIRCUITY             </span>                  </td><td>WO2002063294                                                                   </td><td>UNITED STATES                                                                  </td><td>AIRCUITY                                                                       </td></tr>\n",
       "\t<tr><td>2955268                                                                        </td><td><span style=white-space:pre-wrap>AIRSPACE SYSTEMS INC.  </span>                </td><td>2015                                                                           </td><td><span style=white-space:pre-wrap>AVIATION &amp; AEROSPACE               </span></td><td><span style=white-space:pre-wrap>51-200    </span>                             </td><td>UNITED STATES                                                                  </td><td><span style=white-space:pre-wrap>AIRSPACE SYSTEMS     </span>                  </td><td><span style=white-space:pre-wrap>AIRSPACE SYSTEMS     </span>                  </td><td>WO2019067695                                                                   </td><td>UNITED STATES                                                                  </td><td>AIRSPACE                                                                       </td></tr>\n",
       "\t<tr><td>3466075                                                                        </td><td><span style=white-space:pre-wrap>AIRSPACE SYSTEMS INC   </span>                </td><td>2015                                                                           </td><td><span style=white-space:pre-wrap>AVIATION &amp; AEROSPACE               </span></td><td><span style=white-space:pre-wrap>1-10      </span>                             </td><td>UNITED STATES                                                                  </td><td><span style=white-space:pre-wrap>AIRSPACE SYSTEMS     </span>                  </td><td><span style=white-space:pre-wrap>AIRSPACE SYSTEMS     </span>                  </td><td>WO2019067695                                                                   </td><td>UNITED STATES                                                                  </td><td>AIRSPACE                                                                       </td></tr>\n",
       "\t<tr><td>1372984                            </td><td>AISTEMOS LIMITED                   </td><td>2013                               </td><td>INFORMATION SERVICES               </td><td>11-50                              </td><td>UNITED KINGDOM                     </td><td>AISTEMOS                           </td><td>AISTEMOS                           </td><td>WO2015128472                       </td><td>UNITED KINGDOM                     </td><td>AISTEMOS                           </td></tr>\n",
       "\t<tr><td>2153023                            </td><td>AKAMAI                             </td><td>2015                               </td><td>CONSUMER GOODS                     </td><td>1-10                               </td><td>UNITED STATES                      </td><td>AKAMAI                             </td><td>AKAMAI                             </td><td>WO2013096758                       </td><td>UNITED STATES                      </td><td>AKAMAI                             </td></tr>\n",
       "</tbody>\n",
       "</table>\n"
      ],
      "text/latex": [
       "\\begin{tabular}{r|lllllllllll}\n",
       " PDL\\_ID & PDL\\_ORIGINAL\\_NAME & YEAR\\_FOUNDED & INDUSTRY & SIZE\\_RANGE & COUNTRY & PDL\\_MATCH\\_NAME & APPLICANT\\_MATCH\\_NAME & Patent\\_number & Person\\_ctry\\_code & Applicant\\_Key\\_Word\\\\\n",
       "\\hline\n",
       "\t 5804991                             & 360 KNEE SYSTEMS                    & 2014                                & MEDICAL DEVICES                     & 11-50                               & UNITED STATES                       & 360 KNEE SYSTEMS                    & 360 KNEE SYSTEMS                    & WO2017075657                        & AUSTRALIA                           & 360                                \\\\\n",
       "\t 5804991                             & 360 KNEE SYSTEMS                    & 2014                                & MEDICAL DEVICES                     & 11-50                               & UNITED STATES                       & 360 KNEE SYSTEMS                    & 360 KNEE SYSTEMS                    & WO2017214656                        & AUSTRALIA                           & 360                                \\\\\n",
       "\t 2617189                             & 360FLY                              & 1998                                & CONSUMER ELECTRONICS                & 11-50                               & UNITED STATES                       & 360FLY                              & 360FLY                              & WO2017120224                        & UNITED STATES                       & 360FLY                             \\\\\n",
       "\t 4297988                             & 3SHAPE                              & 2000                                & MEDICAL DEVICES                     & 1001-5000                           & DENMARK                             & 3SHAPE                              & 3SHAPE                              & WO2002071794                        & DENMARK                             & 3SHAPE                             \\\\\n",
       "\t 1997527                             & 4G CLINICAL                         & 2015                                & PHARMACEUTICALS                     & 51-200                              & UNITED STATES                       & 4G CLINICAL                         & 4G CLINICAL                         & WO2017075083                        & UNITED STATES                       & 4G                                 \\\\\n",
       "\t 1997527                             & 4G CLINICAL                         & 2015                                & PHARMACEUTICALS                     & 51-200                              & UNITED STATES                       & 4G CLINICAL                         & 4G CLINICAL                         & WO2019067613                        & UNITED STATES                       & 4G                                 \\\\\n",
       "\t 6288489                             & AB MEDICA SPA                       & 1984                                & MEDICAL DEVICES                     & 201-500                             & ITALY                               & AB MEDICA                           & AB MEDICA                           & EP3355766                           & ITALY                               & AB                                 \\\\\n",
       "\t 6668265                             & AB MEDICA                           & 2006                                & MEDICAL DEVICES                     & 51-200                              & GERMANY                             & AB MEDICA                           & AB MEDICA                           & EP3355766                           & ITALY                               & AB                                 \\\\\n",
       "\t 1487424                             & ABB INC.                            & 1989                                & ELECTRICAL/ELECTRONIC MANUFACTURING & 1-10                                & CANADA                              & ABB                                 & ABB                                 & EP0520400                           & SWEDEN                              & ABB                                \\\\\n",
       "\t 1487424                             & ABB INC.                            & 1989                                & ELECTRICAL/ELECTRONIC MANUFACTURING & 1-10                                & CANADA                              & ABB                                 & ABB                                 & EP1236110                           & SWEDEN                              & ABB                                \\\\\n",
       "\t 1487424                             & ABB INC.                            & 1989                                & ELECTRICAL/ELECTRONIC MANUFACTURING & 1-10                                & CANADA                              & ABB                                 & ABB                                 & EP1389819                           & SWITZERLAND                         & ABB                                \\\\\n",
       "\t 1487424                             & ABB INC.                            & 1989                                & ELECTRICAL/ELECTRONIC MANUFACTURING & 1-10                                & CANADA                              & ABB                                 & ABB                                 & EP1676179                           & UNITED STATES                       & ABB                                \\\\\n",
       "\t 1487424                             & ABB INC.                            & 1989                                & ELECTRICAL/ELECTRONIC MANUFACTURING & 1-10                                & CANADA                              & ABB                                 & ABB                                 & EP1714366                           & UNITED STATES                       & ABB                                \\\\\n",
       "\t 1487424                             & ABB INC.                            & 1989                                & ELECTRICAL/ELECTRONIC MANUFACTURING & 1-10                                & CANADA                              & ABB                                 & ABB                                 & EP1728302                           & SWITZERLAND                         & ABB                                \\\\\n",
       "\t 1487424                             & ABB INC.                            & 1989                                & ELECTRICAL/ELECTRONIC MANUFACTURING & 1-10                                & CANADA                              & ABB                                 & ABB                                 & EP1862269                           & GERMANY                             & ABB                                \\\\\n",
       "\t 1487424                             & ABB INC.                            & 1989                                & ELECTRICAL/ELECTRONIC MANUFACTURING & 1-10                                & CANADA                              & ABB                                 & ABB                                 & EP2509010                           & ITALY                               & ABB                                \\\\\n",
       "\t 1487424                             & ABB INC.                            & 1989                                & ELECTRICAL/ELECTRONIC MANUFACTURING & 1-10                                & CANADA                              & ABB                                 & ABB                                 & EP3173879                           & SWITZERLAND                         & ABB                                \\\\\n",
       "\t 1487424                             & ABB INC.                            & 1989                                & ELECTRICAL/ELECTRONIC MANUFACTURING & 1-10                                & CANADA                              & ABB                                 & ABB                                 & WO2002054561                        & SWEDEN                              & ABB                                \\\\\n",
       "\t 1487424                             & ABB INC.                            & 1989                                & ELECTRICAL/ELECTRONIC MANUFACTURING & 1-10                                & CANADA                              & ABB                                 & ABB                                 & WO2002065345                        & SWITZERLAND                         & ABB                                \\\\\n",
       "\t 1487424                             & ABB INC.                            & 1989                                & ELECTRICAL/ELECTRONIC MANUFACTURING & 1-10                                & CANADA                              & ABB                                 & ABB                                 & WO2003045640                        & SWEDEN                              & ABB                                \\\\\n",
       "\t 1487424                             & ABB INC.                            & 1989                                & ELECTRICAL/ELECTRONIC MANUFACTURING & 1-10                                & CANADA                              & ABB                                 & ABB                                 & WO2005076428                        & UNITED STATES                       & ABB                                \\\\\n",
       "\t 1487424                             & ABB INC.                            & 1989                                & ELECTRICAL/ELECTRONIC MANUFACTURING & 1-10                                & CANADA                              & ABB                                 & ABB                                 & WO2005091458                        & SWITZERLAND                         & ABB                                \\\\\n",
       "\t 1487424                             & ABB INC.                            & 1989                                & ELECTRICAL/ELECTRONIC MANUFACTURING & 1-10                                & CANADA                              & ABB                                 & ABB                                 & WO2009155947                        & GERMANY                             & ABB                                \\\\\n",
       "\t 1487424                             & ABB INC.                            & 1989                                & ELECTRICAL/ELECTRONIC MANUFACTURING & 1-10                                & CANADA                              & ABB                                 & ABB                                 & WO2013000654                        & SWITZERLAND                         & ABB                                \\\\\n",
       "\t 1487424                             & ABB INC.                            & 1989                                & ELECTRICAL/ELECTRONIC MANUFACTURING & 1-10                                & CANADA                              & ABB                                 & ABB                                 & WO2014078830                        & SWITZERLAND                         & ABB                                \\\\\n",
       "\t 1487424                             & ABB INC.                            & 1989                                & ELECTRICAL/ELECTRONIC MANUFACTURING & 1-10                                & CANADA                              & ABB                                 & ABB                                 & WO2014160760                        & SWITZERLAND                         & ABB                                \\\\\n",
       "\t 1487424                             & ABB INC.                            & 1989                                & ELECTRICAL/ELECTRONIC MANUFACTURING & 1-10                                & CANADA                              & ABB                                 & ABB                                 & WO2016051303                        & SWITZERLAND                         & ABB                                \\\\\n",
       "\t 1487424                             & ABB INC.                            & 1989                                & ELECTRICAL/ELECTRONIC MANUFACTURING & 1-10                                & CANADA                              & ABB                                 & ABB                                 & WO2016196512                        & SWITZERLAND                         & ABB                                \\\\\n",
       "\t 6183632                             & ABBOTT                              & 1976                                & COMMERCIAL REAL ESTATE              & 1-10                                & UNITED STATES                       & ABBOTT                              & ABBOTT                              & WO2008005814                        & GERMANY                             & ABBOTT                             \\\\\n",
       "\t  538484                             & ABEJA                               & 1998                                & INFORMATION TECHNOLOGY AND SERVICES & 1-10                                & BELGIUM                             & ABEJA                               & ABEJA                               & WO2019003485                        & JAPAN                               & ABEJA                              \\\\\n",
       "\t ... & ... & ... & ... & ... & ... & ... & ... & ... & ... & ...\\\\\n",
       "\t 2280129                               & AGFA HEALTHCARE                       & 1867                                  & HOSPITAL \\& HEALTH CARE              & 5001-10000                            & BELGIUM                               & AGFA HEALTHCARE                       & AGFA HEALTHCARE                       & EP2811458                             & BELGIUM                               & AGFA                                 \\\\\n",
       "\t 2280129                               & AGFA HEALTHCARE                       & 1867                                  & HOSPITAL \\& HEALTH CARE              & 5001-10000                            & BELGIUM                               & AGFA HEALTHCARE                       & AGFA HEALTHCARE                       & WO2017036867                          & BELGIUM                               & AGFA                                 \\\\\n",
       "\t 2280129                               & AGFA HEALTHCARE                       & 1867                                  & HOSPITAL \\& HEALTH CARE              & 5001-10000                            & BELGIUM                               & AGFA HEALTHCARE                       & AGFA HEALTHCARE                       & WO2018138104                          & BELGIUM                               & AGFA                                 \\\\\n",
       "\t 2280129                               & AGFA HEALTHCARE                       & 1867                                  & HOSPITAL \\& HEALTH CARE              & 5001-10000                            & BELGIUM                               & AGFA HEALTHCARE                       & AGFA HEALTHCARE                       & WO2019081208                          & BELGIUM                               & AGFA                                 \\\\\n",
       "\t 5980991                               & AGI                                   & 1989                                  & DEFENSE \\& SPACE                     & 501-1,000                             & UNITED STATES                         & AGI                                   & AGI                                   & EP1318505                             & JAPAN                                 & AGI                                  \\\\\n",
       "\t 6722871                             & AGI CORPORATION                     & 2005                                & MARKETING AND ADVERTISING           & 1-10                                & UNITED STATES                       & AGI                                 & AGI                                 & EP1318505                           & JAPAN                               & AGI                                \\\\\n",
       "\t 1976010                             & AGIOS PHARMACEUTICALS               & 2008                                & PHARMACEUTICALS                     & 501-1,000                           & UNITED STATES                       & AGIOS PHARMACEUTICALS               & AGIOS PHARMACEUTICALS               & WO2018057359                        & UNITED STATES                       & AGIOS                              \\\\\n",
       "\t  153188                             & AGNITIO                             & 2001                                & INFORMATION TECHNOLOGY AND SERVICES & 51-200                              & DENMARK                             & AGNITIO                             & AGNITIO                             & EP2860706                           & SPAIN                               & AGNITIO                            \\\\\n",
       "\t 3896625                             & AGNITIO                             & 2004                                & COMPUTER SOFTWARE                   & 1-10                                & SPAIN                               & AGNITIO                             & AGNITIO                             & EP2860706                           & SPAIN                               & AGNITIO                            \\\\\n",
       "\t  153188                             & AGNITIO                             & 2001                                & INFORMATION TECHNOLOGY AND SERVICES & 51-200                              & DENMARK                             & AGNITIO                             & AGNITIO                             & WO2014048855                        & SPAIN                               & AGNITIO                            \\\\\n",
       "\t 3896625                             & AGNITIO                             & 2004                                & COMPUTER SOFTWARE                   & 1-10                                & SPAIN                               & AGNITIO                             & AGNITIO                             & WO2014048855                        & SPAIN                               & AGNITIO                            \\\\\n",
       "\t 4706781                             & AGNITY, INC                         & 2007                                & INFORMATION TECHNOLOGY AND SERVICES & 51-200                              & UNITED STATES                       & AGNITY                              & AGNITY                              & WO2013152228                        & UNITED STATES                       & AGNITY                             \\\\\n",
       "\t 5081862                             & AGOGO AMALGAMATED, INC.             & 2010                                & INTERNET                            & 11-50                               & UNITED STATES                       & AGOGO AMALGAMATED                   & AGOGO AMALGAMATED                   & WO2014008048                        & UNITED STATES                       & AGOGO                              \\\\\n",
       "\t 3310731                             & AHA! SOFTWARE                       & 2003                                & COMPUTER SOFTWARE                   & 1-10                                & UNITED STATES                       & AHA SOFTWARE                        & AHA SOFTWARE                        & WO2014099127                        & UNITED STATES                       & AHA                                \\\\\n",
       "\t   64476                             & AIBRAIN, INC.                       & 2012                                & COMPUTER SOFTWARE                   & 11-50                               & UNITED STATES                       & AIBRAIN                             & AIBRAIN                             & WO2018187712                        & UNITED STATES                       & AIBRAIN                            \\\\\n",
       "\t   64476                             & AIBRAIN, INC.                       & 2012                                & COMPUTER SOFTWARE                   & 11-50                               & UNITED STATES                       & AIBRAIN                             & AIBRAIN                             & WO2018195307                        & UNITED STATES                       & AIBRAIN                            \\\\\n",
       "\t 3867425                               & AICARE SRL                            & 2016                                  & HOSPITAL \\& HEALTH CARE              & 1-10                                  & ITALY                                 & AICARE                                & AICARE                                & WO2019094345                          & UNITED STATES                         & AICARE                               \\\\\n",
       "\t 3867425                               & AICARE SRL                            & 2016                                  & HOSPITAL \\& HEALTH CARE              & 1-10                                  & ITALY                                 & AICARE                                & AICARE                                & WO2019094348                          & UNITED STATES                         & AICARE                               \\\\\n",
       "\t 1549444                             & AILIVE INC.                         & 2000                                & COMPUTER SOFTWARE                   & 1-10                                & UNITED STATES                       & AILIVE                              & AILIVE                              & WO2006014560                        & UNITED STATES                       & AILIVE                             \\\\\n",
       "\t 6812680                             & AIQ                                 & 2012                                & INFORMATION TECHNOLOGY AND SERVICES & 1-10                                & AUSTRALIA                           & AIQ                                 & AIQ                                 & WO2018048355                        & SINGAPORE                           & AIQ                                \\\\\n",
       "\t 2376224                             & AIQ                                 & 2017                                & INFORMATION TECHNOLOGY AND SERVICES & 11-50                               & SINGAPORE                           & AIQ                                 & AIQ                                 & WO2018048355                        & SINGAPORE                           & AIQ                                \\\\\n",
       "\t 4913624                             & AIQ                                 & 2017                                & INTERNET                            & 1-10                                & UNITED STATES                       & AIQ                                 & AIQ                                 & WO2018048355                        & SINGAPORE                           & AIQ                                \\\\\n",
       "\t 3925660                             & AIQUDO                              & 2017                                & INTERNET                            & 11-50                               & UNITED STATES                       & AIQUDO                              & AIQUDO                              & WO2018213725                        & UNITED STATES                       & AIQUDO                             \\\\\n",
       "\t 4190408                             & AIRBNB                              & 2008                                & INTERNET                            & 5001-10000                          & UNITED STATES                       & AIRBNB                              & AIRBNB                              & WO2019022863                        & UNITED STATES                       & AIRBNB                             \\\\\n",
       "\t 4190408                             & AIRBNB                              & 2008                                & INTERNET                            & 5001-10000                          & UNITED STATES                       & AIRBNB                              & AIRBNB                              & WO2019027763                        & UNITED STATES                       & AIRBNB                             \\\\\n",
       "\t 6675364                               & AIRCUITY                              & 2000                                  & RENEWABLES \\& ENVIRONMENT            & 51-200                                & UNITED STATES                         & AIRCUITY                              & AIRCUITY                              & WO2002063294                          & UNITED STATES                         & AIRCUITY                             \\\\\n",
       "\t 2955268                               & AIRSPACE SYSTEMS INC.                 & 2015                                  & AVIATION \\& AEROSPACE                & 51-200                                & UNITED STATES                         & AIRSPACE SYSTEMS                      & AIRSPACE SYSTEMS                      & WO2019067695                          & UNITED STATES                         & AIRSPACE                             \\\\\n",
       "\t 3466075                               & AIRSPACE SYSTEMS INC                  & 2015                                  & AVIATION \\& AEROSPACE                & 1-10                                  & UNITED STATES                         & AIRSPACE SYSTEMS                      & AIRSPACE SYSTEMS                      & WO2019067695                          & UNITED STATES                         & AIRSPACE                             \\\\\n",
       "\t 1372984                             & AISTEMOS LIMITED                    & 2013                                & INFORMATION SERVICES                & 11-50                               & UNITED KINGDOM                      & AISTEMOS                            & AISTEMOS                            & WO2015128472                        & UNITED KINGDOM                      & AISTEMOS                           \\\\\n",
       "\t 2153023                             & AKAMAI                              & 2015                                & CONSUMER GOODS                      & 1-10                                & UNITED STATES                       & AKAMAI                              & AKAMAI                              & WO2013096758                        & UNITED STATES                       & AKAMAI                             \\\\\n",
       "\\end{tabular}\n"
      ],
      "text/markdown": [
       "\n",
       "| PDL_ID | PDL_ORIGINAL_NAME | YEAR_FOUNDED | INDUSTRY | SIZE_RANGE | COUNTRY | PDL_MATCH_NAME | APPLICANT_MATCH_NAME | Patent_number | Person_ctry_code | Applicant_Key_Word |\n",
       "|---|---|---|---|---|---|---|---|---|---|---|\n",
       "| 5804991                             | 360 KNEE SYSTEMS                    | 2014                                | MEDICAL DEVICES                     | 11-50                               | UNITED STATES                       | 360 KNEE SYSTEMS                    | 360 KNEE SYSTEMS                    | WO2017075657                        | AUSTRALIA                           | 360                                 |\n",
       "| 5804991                             | 360 KNEE SYSTEMS                    | 2014                                | MEDICAL DEVICES                     | 11-50                               | UNITED STATES                       | 360 KNEE SYSTEMS                    | 360 KNEE SYSTEMS                    | WO2017214656                        | AUSTRALIA                           | 360                                 |\n",
       "| 2617189                             | 360FLY                              | 1998                                | CONSUMER ELECTRONICS                | 11-50                               | UNITED STATES                       | 360FLY                              | 360FLY                              | WO2017120224                        | UNITED STATES                       | 360FLY                              |\n",
       "| 4297988                             | 3SHAPE                              | 2000                                | MEDICAL DEVICES                     | 1001-5000                           | DENMARK                             | 3SHAPE                              | 3SHAPE                              | WO2002071794                        | DENMARK                             | 3SHAPE                              |\n",
       "| 1997527                             | 4G CLINICAL                         | 2015                                | PHARMACEUTICALS                     | 51-200                              | UNITED STATES                       | 4G CLINICAL                         | 4G CLINICAL                         | WO2017075083                        | UNITED STATES                       | 4G                                  |\n",
       "| 1997527                             | 4G CLINICAL                         | 2015                                | PHARMACEUTICALS                     | 51-200                              | UNITED STATES                       | 4G CLINICAL                         | 4G CLINICAL                         | WO2019067613                        | UNITED STATES                       | 4G                                  |\n",
       "| 6288489                             | AB MEDICA SPA                       | 1984                                | MEDICAL DEVICES                     | 201-500                             | ITALY                               | AB MEDICA                           | AB MEDICA                           | EP3355766                           | ITALY                               | AB                                  |\n",
       "| 6668265                             | AB MEDICA                           | 2006                                | MEDICAL DEVICES                     | 51-200                              | GERMANY                             | AB MEDICA                           | AB MEDICA                           | EP3355766                           | ITALY                               | AB                                  |\n",
       "| 1487424                             | ABB INC.                            | 1989                                | ELECTRICAL/ELECTRONIC MANUFACTURING | 1-10                                | CANADA                              | ABB                                 | ABB                                 | EP0520400                           | SWEDEN                              | ABB                                 |\n",
       "| 1487424                             | ABB INC.                            | 1989                                | ELECTRICAL/ELECTRONIC MANUFACTURING | 1-10                                | CANADA                              | ABB                                 | ABB                                 | EP1236110                           | SWEDEN                              | ABB                                 |\n",
       "| 1487424                             | ABB INC.                            | 1989                                | ELECTRICAL/ELECTRONIC MANUFACTURING | 1-10                                | CANADA                              | ABB                                 | ABB                                 | EP1389819                           | SWITZERLAND                         | ABB                                 |\n",
       "| 1487424                             | ABB INC.                            | 1989                                | ELECTRICAL/ELECTRONIC MANUFACTURING | 1-10                                | CANADA                              | ABB                                 | ABB                                 | EP1676179                           | UNITED STATES                       | ABB                                 |\n",
       "| 1487424                             | ABB INC.                            | 1989                                | ELECTRICAL/ELECTRONIC MANUFACTURING | 1-10                                | CANADA                              | ABB                                 | ABB                                 | EP1714366                           | UNITED STATES                       | ABB                                 |\n",
       "| 1487424                             | ABB INC.                            | 1989                                | ELECTRICAL/ELECTRONIC MANUFACTURING | 1-10                                | CANADA                              | ABB                                 | ABB                                 | EP1728302                           | SWITZERLAND                         | ABB                                 |\n",
       "| 1487424                             | ABB INC.                            | 1989                                | ELECTRICAL/ELECTRONIC MANUFACTURING | 1-10                                | CANADA                              | ABB                                 | ABB                                 | EP1862269                           | GERMANY                             | ABB                                 |\n",
       "| 1487424                             | ABB INC.                            | 1989                                | ELECTRICAL/ELECTRONIC MANUFACTURING | 1-10                                | CANADA                              | ABB                                 | ABB                                 | EP2509010                           | ITALY                               | ABB                                 |\n",
       "| 1487424                             | ABB INC.                            | 1989                                | ELECTRICAL/ELECTRONIC MANUFACTURING | 1-10                                | CANADA                              | ABB                                 | ABB                                 | EP3173879                           | SWITZERLAND                         | ABB                                 |\n",
       "| 1487424                             | ABB INC.                            | 1989                                | ELECTRICAL/ELECTRONIC MANUFACTURING | 1-10                                | CANADA                              | ABB                                 | ABB                                 | WO2002054561                        | SWEDEN                              | ABB                                 |\n",
       "| 1487424                             | ABB INC.                            | 1989                                | ELECTRICAL/ELECTRONIC MANUFACTURING | 1-10                                | CANADA                              | ABB                                 | ABB                                 | WO2002065345                        | SWITZERLAND                         | ABB                                 |\n",
       "| 1487424                             | ABB INC.                            | 1989                                | ELECTRICAL/ELECTRONIC MANUFACTURING | 1-10                                | CANADA                              | ABB                                 | ABB                                 | WO2003045640                        | SWEDEN                              | ABB                                 |\n",
       "| 1487424                             | ABB INC.                            | 1989                                | ELECTRICAL/ELECTRONIC MANUFACTURING | 1-10                                | CANADA                              | ABB                                 | ABB                                 | WO2005076428                        | UNITED STATES                       | ABB                                 |\n",
       "| 1487424                             | ABB INC.                            | 1989                                | ELECTRICAL/ELECTRONIC MANUFACTURING | 1-10                                | CANADA                              | ABB                                 | ABB                                 | WO2005091458                        | SWITZERLAND                         | ABB                                 |\n",
       "| 1487424                             | ABB INC.                            | 1989                                | ELECTRICAL/ELECTRONIC MANUFACTURING | 1-10                                | CANADA                              | ABB                                 | ABB                                 | WO2009155947                        | GERMANY                             | ABB                                 |\n",
       "| 1487424                             | ABB INC.                            | 1989                                | ELECTRICAL/ELECTRONIC MANUFACTURING | 1-10                                | CANADA                              | ABB                                 | ABB                                 | WO2013000654                        | SWITZERLAND                         | ABB                                 |\n",
       "| 1487424                             | ABB INC.                            | 1989                                | ELECTRICAL/ELECTRONIC MANUFACTURING | 1-10                                | CANADA                              | ABB                                 | ABB                                 | WO2014078830                        | SWITZERLAND                         | ABB                                 |\n",
       "| 1487424                             | ABB INC.                            | 1989                                | ELECTRICAL/ELECTRONIC MANUFACTURING | 1-10                                | CANADA                              | ABB                                 | ABB                                 | WO2014160760                        | SWITZERLAND                         | ABB                                 |\n",
       "| 1487424                             | ABB INC.                            | 1989                                | ELECTRICAL/ELECTRONIC MANUFACTURING | 1-10                                | CANADA                              | ABB                                 | ABB                                 | WO2016051303                        | SWITZERLAND                         | ABB                                 |\n",
       "| 1487424                             | ABB INC.                            | 1989                                | ELECTRICAL/ELECTRONIC MANUFACTURING | 1-10                                | CANADA                              | ABB                                 | ABB                                 | WO2016196512                        | SWITZERLAND                         | ABB                                 |\n",
       "| 6183632                             | ABBOTT                              | 1976                                | COMMERCIAL REAL ESTATE              | 1-10                                | UNITED STATES                       | ABBOTT                              | ABBOTT                              | WO2008005814                        | GERMANY                             | ABBOTT                              |\n",
       "|  538484                             | ABEJA                               | 1998                                | INFORMATION TECHNOLOGY AND SERVICES | 1-10                                | BELGIUM                             | ABEJA                               | ABEJA                               | WO2019003485                        | JAPAN                               | ABEJA                               |\n",
       "| ... | ... | ... | ... | ... | ... | ... | ... | ... | ... | ... |\n",
       "| 2280129                             | AGFA HEALTHCARE                     | 1867                                | HOSPITAL & HEALTH CARE              | 5001-10000                          | BELGIUM                             | AGFA HEALTHCARE                     | AGFA HEALTHCARE                     | EP2811458                           | BELGIUM                             | AGFA                                |\n",
       "| 2280129                             | AGFA HEALTHCARE                     | 1867                                | HOSPITAL & HEALTH CARE              | 5001-10000                          | BELGIUM                             | AGFA HEALTHCARE                     | AGFA HEALTHCARE                     | WO2017036867                        | BELGIUM                             | AGFA                                |\n",
       "| 2280129                             | AGFA HEALTHCARE                     | 1867                                | HOSPITAL & HEALTH CARE              | 5001-10000                          | BELGIUM                             | AGFA HEALTHCARE                     | AGFA HEALTHCARE                     | WO2018138104                        | BELGIUM                             | AGFA                                |\n",
       "| 2280129                             | AGFA HEALTHCARE                     | 1867                                | HOSPITAL & HEALTH CARE              | 5001-10000                          | BELGIUM                             | AGFA HEALTHCARE                     | AGFA HEALTHCARE                     | WO2019081208                        | BELGIUM                             | AGFA                                |\n",
       "| 5980991                             | AGI                                 | 1989                                | DEFENSE & SPACE                     | 501-1,000                           | UNITED STATES                       | AGI                                 | AGI                                 | EP1318505                           | JAPAN                               | AGI                                 |\n",
       "| 6722871                             | AGI CORPORATION                     | 2005                                | MARKETING AND ADVERTISING           | 1-10                                | UNITED STATES                       | AGI                                 | AGI                                 | EP1318505                           | JAPAN                               | AGI                                 |\n",
       "| 1976010                             | AGIOS PHARMACEUTICALS               | 2008                                | PHARMACEUTICALS                     | 501-1,000                           | UNITED STATES                       | AGIOS PHARMACEUTICALS               | AGIOS PHARMACEUTICALS               | WO2018057359                        | UNITED STATES                       | AGIOS                               |\n",
       "|  153188                             | AGNITIO                             | 2001                                | INFORMATION TECHNOLOGY AND SERVICES | 51-200                              | DENMARK                             | AGNITIO                             | AGNITIO                             | EP2860706                           | SPAIN                               | AGNITIO                             |\n",
       "| 3896625                             | AGNITIO                             | 2004                                | COMPUTER SOFTWARE                   | 1-10                                | SPAIN                               | AGNITIO                             | AGNITIO                             | EP2860706                           | SPAIN                               | AGNITIO                             |\n",
       "|  153188                             | AGNITIO                             | 2001                                | INFORMATION TECHNOLOGY AND SERVICES | 51-200                              | DENMARK                             | AGNITIO                             | AGNITIO                             | WO2014048855                        | SPAIN                               | AGNITIO                             |\n",
       "| 3896625                             | AGNITIO                             | 2004                                | COMPUTER SOFTWARE                   | 1-10                                | SPAIN                               | AGNITIO                             | AGNITIO                             | WO2014048855                        | SPAIN                               | AGNITIO                             |\n",
       "| 4706781                             | AGNITY, INC                         | 2007                                | INFORMATION TECHNOLOGY AND SERVICES | 51-200                              | UNITED STATES                       | AGNITY                              | AGNITY                              | WO2013152228                        | UNITED STATES                       | AGNITY                              |\n",
       "| 5081862                             | AGOGO AMALGAMATED, INC.             | 2010                                | INTERNET                            | 11-50                               | UNITED STATES                       | AGOGO AMALGAMATED                   | AGOGO AMALGAMATED                   | WO2014008048                        | UNITED STATES                       | AGOGO                               |\n",
       "| 3310731                             | AHA! SOFTWARE                       | 2003                                | COMPUTER SOFTWARE                   | 1-10                                | UNITED STATES                       | AHA SOFTWARE                        | AHA SOFTWARE                        | WO2014099127                        | UNITED STATES                       | AHA                                 |\n",
       "|   64476                             | AIBRAIN, INC.                       | 2012                                | COMPUTER SOFTWARE                   | 11-50                               | UNITED STATES                       | AIBRAIN                             | AIBRAIN                             | WO2018187712                        | UNITED STATES                       | AIBRAIN                             |\n",
       "|   64476                             | AIBRAIN, INC.                       | 2012                                | COMPUTER SOFTWARE                   | 11-50                               | UNITED STATES                       | AIBRAIN                             | AIBRAIN                             | WO2018195307                        | UNITED STATES                       | AIBRAIN                             |\n",
       "| 3867425                             | AICARE SRL                          | 2016                                | HOSPITAL & HEALTH CARE              | 1-10                                | ITALY                               | AICARE                              | AICARE                              | WO2019094345                        | UNITED STATES                       | AICARE                              |\n",
       "| 3867425                             | AICARE SRL                          | 2016                                | HOSPITAL & HEALTH CARE              | 1-10                                | ITALY                               | AICARE                              | AICARE                              | WO2019094348                        | UNITED STATES                       | AICARE                              |\n",
       "| 1549444                             | AILIVE INC.                         | 2000                                | COMPUTER SOFTWARE                   | 1-10                                | UNITED STATES                       | AILIVE                              | AILIVE                              | WO2006014560                        | UNITED STATES                       | AILIVE                              |\n",
       "| 6812680                             | AIQ                                 | 2012                                | INFORMATION TECHNOLOGY AND SERVICES | 1-10                                | AUSTRALIA                           | AIQ                                 | AIQ                                 | WO2018048355                        | SINGAPORE                           | AIQ                                 |\n",
       "| 2376224                             | AIQ                                 | 2017                                | INFORMATION TECHNOLOGY AND SERVICES | 11-50                               | SINGAPORE                           | AIQ                                 | AIQ                                 | WO2018048355                        | SINGAPORE                           | AIQ                                 |\n",
       "| 4913624                             | AIQ                                 | 2017                                | INTERNET                            | 1-10                                | UNITED STATES                       | AIQ                                 | AIQ                                 | WO2018048355                        | SINGAPORE                           | AIQ                                 |\n",
       "| 3925660                             | AIQUDO                              | 2017                                | INTERNET                            | 11-50                               | UNITED STATES                       | AIQUDO                              | AIQUDO                              | WO2018213725                        | UNITED STATES                       | AIQUDO                              |\n",
       "| 4190408                             | AIRBNB                              | 2008                                | INTERNET                            | 5001-10000                          | UNITED STATES                       | AIRBNB                              | AIRBNB                              | WO2019022863                        | UNITED STATES                       | AIRBNB                              |\n",
       "| 4190408                             | AIRBNB                              | 2008                                | INTERNET                            | 5001-10000                          | UNITED STATES                       | AIRBNB                              | AIRBNB                              | WO2019027763                        | UNITED STATES                       | AIRBNB                              |\n",
       "| 6675364                             | AIRCUITY                            | 2000                                | RENEWABLES & ENVIRONMENT            | 51-200                              | UNITED STATES                       | AIRCUITY                            | AIRCUITY                            | WO2002063294                        | UNITED STATES                       | AIRCUITY                            |\n",
       "| 2955268                             | AIRSPACE SYSTEMS INC.               | 2015                                | AVIATION & AEROSPACE                | 51-200                              | UNITED STATES                       | AIRSPACE SYSTEMS                    | AIRSPACE SYSTEMS                    | WO2019067695                        | UNITED STATES                       | AIRSPACE                            |\n",
       "| 3466075                             | AIRSPACE SYSTEMS INC                | 2015                                | AVIATION & AEROSPACE                | 1-10                                | UNITED STATES                       | AIRSPACE SYSTEMS                    | AIRSPACE SYSTEMS                    | WO2019067695                        | UNITED STATES                       | AIRSPACE                            |\n",
       "| 1372984                             | AISTEMOS LIMITED                    | 2013                                | INFORMATION SERVICES                | 11-50                               | UNITED KINGDOM                      | AISTEMOS                            | AISTEMOS                            | WO2015128472                        | UNITED KINGDOM                      | AISTEMOS                            |\n",
       "| 2153023                             | AKAMAI                              | 2015                                | CONSUMER GOODS                      | 1-10                                | UNITED STATES                       | AKAMAI                              | AKAMAI                              | WO2013096758                        | UNITED STATES                       | AKAMAI                              |\n",
       "\n"
      ],
      "text/plain": [
       "    PDL_ID  PDL_ORIGINAL_NAME       YEAR_FOUNDED\n",
       "1   5804991 360 KNEE SYSTEMS        2014        \n",
       "2   5804991 360 KNEE SYSTEMS        2014        \n",
       "3   2617189 360FLY                  1998        \n",
       "4   4297988 3SHAPE                  2000        \n",
       "5   1997527 4G CLINICAL             2015        \n",
       "6   1997527 4G CLINICAL             2015        \n",
       "7   6288489 AB MEDICA SPA           1984        \n",
       "8   6668265 AB MEDICA               2006        \n",
       "9   1487424 ABB INC.                1989        \n",
       "10  1487424 ABB INC.                1989        \n",
       "11  1487424 ABB INC.                1989        \n",
       "12  1487424 ABB INC.                1989        \n",
       "13  1487424 ABB INC.                1989        \n",
       "14  1487424 ABB INC.                1989        \n",
       "15  1487424 ABB INC.                1989        \n",
       "16  1487424 ABB INC.                1989        \n",
       "17  1487424 ABB INC.                1989        \n",
       "18  1487424 ABB INC.                1989        \n",
       "19  1487424 ABB INC.                1989        \n",
       "20  1487424 ABB INC.                1989        \n",
       "21  1487424 ABB INC.                1989        \n",
       "22  1487424 ABB INC.                1989        \n",
       "23  1487424 ABB INC.                1989        \n",
       "24  1487424 ABB INC.                1989        \n",
       "25  1487424 ABB INC.                1989        \n",
       "26  1487424 ABB INC.                1989        \n",
       "27  1487424 ABB INC.                1989        \n",
       "28  1487424 ABB INC.                1989        \n",
       "29  6183632 ABBOTT                  1976        \n",
       "30   538484 ABEJA                   1998        \n",
       "... ...     ...                     ...         \n",
       "71  2280129 AGFA HEALTHCARE         1867        \n",
       "72  2280129 AGFA HEALTHCARE         1867        \n",
       "73  2280129 AGFA HEALTHCARE         1867        \n",
       "74  2280129 AGFA HEALTHCARE         1867        \n",
       "75  5980991 AGI                     1989        \n",
       "76  6722871 AGI CORPORATION         2005        \n",
       "77  1976010 AGIOS PHARMACEUTICALS   2008        \n",
       "78   153188 AGNITIO                 2001        \n",
       "79  3896625 AGNITIO                 2004        \n",
       "80   153188 AGNITIO                 2001        \n",
       "81  3896625 AGNITIO                 2004        \n",
       "82  4706781 AGNITY, INC             2007        \n",
       "83  5081862 AGOGO AMALGAMATED, INC. 2010        \n",
       "84  3310731 AHA! SOFTWARE           2003        \n",
       "85    64476 AIBRAIN, INC.           2012        \n",
       "86    64476 AIBRAIN, INC.           2012        \n",
       "87  3867425 AICARE SRL              2016        \n",
       "88  3867425 AICARE SRL              2016        \n",
       "89  1549444 AILIVE INC.             2000        \n",
       "90  6812680 AIQ                     2012        \n",
       "91  2376224 AIQ                     2017        \n",
       "92  4913624 AIQ                     2017        \n",
       "93  3925660 AIQUDO                  2017        \n",
       "94  4190408 AIRBNB                  2008        \n",
       "95  4190408 AIRBNB                  2008        \n",
       "96  6675364 AIRCUITY                2000        \n",
       "97  2955268 AIRSPACE SYSTEMS INC.   2015        \n",
       "98  3466075 AIRSPACE SYSTEMS INC    2015        \n",
       "99  1372984 AISTEMOS LIMITED        2013        \n",
       "100 2153023 AKAMAI                  2015        \n",
       "    INDUSTRY                            SIZE_RANGE COUNTRY       \n",
       "1   MEDICAL DEVICES                     11-50      UNITED STATES \n",
       "2   MEDICAL DEVICES                     11-50      UNITED STATES \n",
       "3   CONSUMER ELECTRONICS                11-50      UNITED STATES \n",
       "4   MEDICAL DEVICES                     1001-5000  DENMARK       \n",
       "5   PHARMACEUTICALS                     51-200     UNITED STATES \n",
       "6   PHARMACEUTICALS                     51-200     UNITED STATES \n",
       "7   MEDICAL DEVICES                     201-500    ITALY         \n",
       "8   MEDICAL DEVICES                     51-200     GERMANY       \n",
       "9   ELECTRICAL/ELECTRONIC MANUFACTURING 1-10       CANADA        \n",
       "10  ELECTRICAL/ELECTRONIC MANUFACTURING 1-10       CANADA        \n",
       "11  ELECTRICAL/ELECTRONIC MANUFACTURING 1-10       CANADA        \n",
       "12  ELECTRICAL/ELECTRONIC MANUFACTURING 1-10       CANADA        \n",
       "13  ELECTRICAL/ELECTRONIC MANUFACTURING 1-10       CANADA        \n",
       "14  ELECTRICAL/ELECTRONIC MANUFACTURING 1-10       CANADA        \n",
       "15  ELECTRICAL/ELECTRONIC MANUFACTURING 1-10       CANADA        \n",
       "16  ELECTRICAL/ELECTRONIC MANUFACTURING 1-10       CANADA        \n",
       "17  ELECTRICAL/ELECTRONIC MANUFACTURING 1-10       CANADA        \n",
       "18  ELECTRICAL/ELECTRONIC MANUFACTURING 1-10       CANADA        \n",
       "19  ELECTRICAL/ELECTRONIC MANUFACTURING 1-10       CANADA        \n",
       "20  ELECTRICAL/ELECTRONIC MANUFACTURING 1-10       CANADA        \n",
       "21  ELECTRICAL/ELECTRONIC MANUFACTURING 1-10       CANADA        \n",
       "22  ELECTRICAL/ELECTRONIC MANUFACTURING 1-10       CANADA        \n",
       "23  ELECTRICAL/ELECTRONIC MANUFACTURING 1-10       CANADA        \n",
       "24  ELECTRICAL/ELECTRONIC MANUFACTURING 1-10       CANADA        \n",
       "25  ELECTRICAL/ELECTRONIC MANUFACTURING 1-10       CANADA        \n",
       "26  ELECTRICAL/ELECTRONIC MANUFACTURING 1-10       CANADA        \n",
       "27  ELECTRICAL/ELECTRONIC MANUFACTURING 1-10       CANADA        \n",
       "28  ELECTRICAL/ELECTRONIC MANUFACTURING 1-10       CANADA        \n",
       "29  COMMERCIAL REAL ESTATE              1-10       UNITED STATES \n",
       "30  INFORMATION TECHNOLOGY AND SERVICES 1-10       BELGIUM       \n",
       "... ...                                 ...        ...           \n",
       "71  HOSPITAL & HEALTH CARE              5001-10000 BELGIUM       \n",
       "72  HOSPITAL & HEALTH CARE              5001-10000 BELGIUM       \n",
       "73  HOSPITAL & HEALTH CARE              5001-10000 BELGIUM       \n",
       "74  HOSPITAL & HEALTH CARE              5001-10000 BELGIUM       \n",
       "75  DEFENSE & SPACE                     501-1,000  UNITED STATES \n",
       "76  MARKETING AND ADVERTISING           1-10       UNITED STATES \n",
       "77  PHARMACEUTICALS                     501-1,000  UNITED STATES \n",
       "78  INFORMATION TECHNOLOGY AND SERVICES 51-200     DENMARK       \n",
       "79  COMPUTER SOFTWARE                   1-10       SPAIN         \n",
       "80  INFORMATION TECHNOLOGY AND SERVICES 51-200     DENMARK       \n",
       "81  COMPUTER SOFTWARE                   1-10       SPAIN         \n",
       "82  INFORMATION TECHNOLOGY AND SERVICES 51-200     UNITED STATES \n",
       "83  INTERNET                            11-50      UNITED STATES \n",
       "84  COMPUTER SOFTWARE                   1-10       UNITED STATES \n",
       "85  COMPUTER SOFTWARE                   11-50      UNITED STATES \n",
       "86  COMPUTER SOFTWARE                   11-50      UNITED STATES \n",
       "87  HOSPITAL & HEALTH CARE              1-10       ITALY         \n",
       "88  HOSPITAL & HEALTH CARE              1-10       ITALY         \n",
       "89  COMPUTER SOFTWARE                   1-10       UNITED STATES \n",
       "90  INFORMATION TECHNOLOGY AND SERVICES 1-10       AUSTRALIA     \n",
       "91  INFORMATION TECHNOLOGY AND SERVICES 11-50      SINGAPORE     \n",
       "92  INTERNET                            1-10       UNITED STATES \n",
       "93  INTERNET                            11-50      UNITED STATES \n",
       "94  INTERNET                            5001-10000 UNITED STATES \n",
       "95  INTERNET                            5001-10000 UNITED STATES \n",
       "96  RENEWABLES & ENVIRONMENT            51-200     UNITED STATES \n",
       "97  AVIATION & AEROSPACE                51-200     UNITED STATES \n",
       "98  AVIATION & AEROSPACE                1-10       UNITED STATES \n",
       "99  INFORMATION SERVICES                11-50      UNITED KINGDOM\n",
       "100 CONSUMER GOODS                      1-10       UNITED STATES \n",
       "    PDL_MATCH_NAME        APPLICANT_MATCH_NAME  Patent_number Person_ctry_code\n",
       "1   360 KNEE SYSTEMS      360 KNEE SYSTEMS      WO2017075657  AUSTRALIA       \n",
       "2   360 KNEE SYSTEMS      360 KNEE SYSTEMS      WO2017214656  AUSTRALIA       \n",
       "3   360FLY                360FLY                WO2017120224  UNITED STATES   \n",
       "4   3SHAPE                3SHAPE                WO2002071794  DENMARK         \n",
       "5   4G CLINICAL           4G CLINICAL           WO2017075083  UNITED STATES   \n",
       "6   4G CLINICAL           4G CLINICAL           WO2019067613  UNITED STATES   \n",
       "7   AB MEDICA             AB MEDICA             EP3355766     ITALY           \n",
       "8   AB MEDICA             AB MEDICA             EP3355766     ITALY           \n",
       "9   ABB                   ABB                   EP0520400     SWEDEN          \n",
       "10  ABB                   ABB                   EP1236110     SWEDEN          \n",
       "11  ABB                   ABB                   EP1389819     SWITZERLAND     \n",
       "12  ABB                   ABB                   EP1676179     UNITED STATES   \n",
       "13  ABB                   ABB                   EP1714366     UNITED STATES   \n",
       "14  ABB                   ABB                   EP1728302     SWITZERLAND     \n",
       "15  ABB                   ABB                   EP1862269     GERMANY         \n",
       "16  ABB                   ABB                   EP2509010     ITALY           \n",
       "17  ABB                   ABB                   EP3173879     SWITZERLAND     \n",
       "18  ABB                   ABB                   WO2002054561  SWEDEN          \n",
       "19  ABB                   ABB                   WO2002065345  SWITZERLAND     \n",
       "20  ABB                   ABB                   WO2003045640  SWEDEN          \n",
       "21  ABB                   ABB                   WO2005076428  UNITED STATES   \n",
       "22  ABB                   ABB                   WO2005091458  SWITZERLAND     \n",
       "23  ABB                   ABB                   WO2009155947  GERMANY         \n",
       "24  ABB                   ABB                   WO2013000654  SWITZERLAND     \n",
       "25  ABB                   ABB                   WO2014078830  SWITZERLAND     \n",
       "26  ABB                   ABB                   WO2014160760  SWITZERLAND     \n",
       "27  ABB                   ABB                   WO2016051303  SWITZERLAND     \n",
       "28  ABB                   ABB                   WO2016196512  SWITZERLAND     \n",
       "29  ABBOTT                ABBOTT                WO2008005814  GERMANY         \n",
       "30  ABEJA                 ABEJA                 WO2019003485  JAPAN           \n",
       "... ...                   ...                   ...           ...             \n",
       "71  AGFA HEALTHCARE       AGFA HEALTHCARE       EP2811458     BELGIUM         \n",
       "72  AGFA HEALTHCARE       AGFA HEALTHCARE       WO2017036867  BELGIUM         \n",
       "73  AGFA HEALTHCARE       AGFA HEALTHCARE       WO2018138104  BELGIUM         \n",
       "74  AGFA HEALTHCARE       AGFA HEALTHCARE       WO2019081208  BELGIUM         \n",
       "75  AGI                   AGI                   EP1318505     JAPAN           \n",
       "76  AGI                   AGI                   EP1318505     JAPAN           \n",
       "77  AGIOS PHARMACEUTICALS AGIOS PHARMACEUTICALS WO2018057359  UNITED STATES   \n",
       "78  AGNITIO               AGNITIO               EP2860706     SPAIN           \n",
       "79  AGNITIO               AGNITIO               EP2860706     SPAIN           \n",
       "80  AGNITIO               AGNITIO               WO2014048855  SPAIN           \n",
       "81  AGNITIO               AGNITIO               WO2014048855  SPAIN           \n",
       "82  AGNITY                AGNITY                WO2013152228  UNITED STATES   \n",
       "83  AGOGO AMALGAMATED     AGOGO AMALGAMATED     WO2014008048  UNITED STATES   \n",
       "84  AHA SOFTWARE          AHA SOFTWARE          WO2014099127  UNITED STATES   \n",
       "85  AIBRAIN               AIBRAIN               WO2018187712  UNITED STATES   \n",
       "86  AIBRAIN               AIBRAIN               WO2018195307  UNITED STATES   \n",
       "87  AICARE                AICARE                WO2019094345  UNITED STATES   \n",
       "88  AICARE                AICARE                WO2019094348  UNITED STATES   \n",
       "89  AILIVE                AILIVE                WO2006014560  UNITED STATES   \n",
       "90  AIQ                   AIQ                   WO2018048355  SINGAPORE       \n",
       "91  AIQ                   AIQ                   WO2018048355  SINGAPORE       \n",
       "92  AIQ                   AIQ                   WO2018048355  SINGAPORE       \n",
       "93  AIQUDO                AIQUDO                WO2018213725  UNITED STATES   \n",
       "94  AIRBNB                AIRBNB                WO2019022863  UNITED STATES   \n",
       "95  AIRBNB                AIRBNB                WO2019027763  UNITED STATES   \n",
       "96  AIRCUITY              AIRCUITY              WO2002063294  UNITED STATES   \n",
       "97  AIRSPACE SYSTEMS      AIRSPACE SYSTEMS      WO2019067695  UNITED STATES   \n",
       "98  AIRSPACE SYSTEMS      AIRSPACE SYSTEMS      WO2019067695  UNITED STATES   \n",
       "99  AISTEMOS              AISTEMOS              WO2015128472  UNITED KINGDOM  \n",
       "100 AKAMAI                AKAMAI                WO2013096758  UNITED STATES   \n",
       "    Applicant_Key_Word\n",
       "1   360               \n",
       "2   360               \n",
       "3   360FLY            \n",
       "4   3SHAPE            \n",
       "5   4G                \n",
       "6   4G                \n",
       "7   AB                \n",
       "8   AB                \n",
       "9   ABB               \n",
       "10  ABB               \n",
       "11  ABB               \n",
       "12  ABB               \n",
       "13  ABB               \n",
       "14  ABB               \n",
       "15  ABB               \n",
       "16  ABB               \n",
       "17  ABB               \n",
       "18  ABB               \n",
       "19  ABB               \n",
       "20  ABB               \n",
       "21  ABB               \n",
       "22  ABB               \n",
       "23  ABB               \n",
       "24  ABB               \n",
       "25  ABB               \n",
       "26  ABB               \n",
       "27  ABB               \n",
       "28  ABB               \n",
       "29  ABBOTT            \n",
       "30  ABEJA             \n",
       "... ...               \n",
       "71  AGFA              \n",
       "72  AGFA              \n",
       "73  AGFA              \n",
       "74  AGFA              \n",
       "75  AGI               \n",
       "76  AGI               \n",
       "77  AGIOS             \n",
       "78  AGNITIO           \n",
       "79  AGNITIO           \n",
       "80  AGNITIO           \n",
       "81  AGNITIO           \n",
       "82  AGNITY            \n",
       "83  AGOGO             \n",
       "84  AHA               \n",
       "85  AIBRAIN           \n",
       "86  AIBRAIN           \n",
       "87  AICARE            \n",
       "88  AICARE            \n",
       "89  AILIVE            \n",
       "90  AIQ               \n",
       "91  AIQ               \n",
       "92  AIQ               \n",
       "93  AIQUDO            \n",
       "94  AIRBNB            \n",
       "95  AIRBNB            \n",
       "96  AIRCUITY          \n",
       "97  AIRSPACE          \n",
       "98  AIRSPACE          \n",
       "99  AISTEMOS          \n",
       "100 AKAMAI            "
      ]
     },
     "metadata": {},
     "output_type": "display_data"
    }
   ],
   "source": [
    "head(Direct_Match,100)"
   ]
  },
  {
   "cell_type": "markdown",
   "metadata": {},
   "source": [
    "Given that in the Industrial Dataset there were several organization with the same 'PDL_MATCH_NAME' (eg. \"VESTAS\") it is conveninent to mark all those patent applications that were assigned to more than one orgnaization. Example below"
   ]
  },
  {
   "cell_type": "code",
   "execution_count": 13,
   "metadata": {},
   "outputs": [
    {
     "data": {
      "text/html": [
       "<table>\n",
       "<thead><tr><th scope=col>PDL_ID</th><th scope=col>PDL_ORIGINAL_NAME</th><th scope=col>YEAR_FOUNDED</th><th scope=col>INDUSTRY</th><th scope=col>SIZE_RANGE</th><th scope=col>COUNTRY</th><th scope=col>PDL_MATCH_NAME</th><th scope=col>APPLICANT_MATCH_NAME</th><th scope=col>Patent_number</th><th scope=col>Person_ctry_code</th><th scope=col>Applicant_Key_Word</th></tr></thead>\n",
       "<tbody>\n",
       "\t<tr><td> 153188                            </td><td>AGNITIO                            </td><td>2001                               </td><td>INFORMATION TECHNOLOGY AND SERVICES</td><td>51-200                             </td><td>DENMARK                            </td><td>AGNITIO                            </td><td>AGNITIO                            </td><td>WO2014048855                       </td><td>SPAIN                              </td><td>AGNITIO                            </td></tr>\n",
       "\t<tr><td>3896625                            </td><td>AGNITIO                            </td><td>2004                               </td><td>COMPUTER SOFTWARE                  </td><td>1-10                               </td><td>SPAIN                              </td><td>AGNITIO                            </td><td>AGNITIO                            </td><td>WO2014048855                       </td><td>SPAIN                              </td><td>AGNITIO                            </td></tr>\n",
       "</tbody>\n",
       "</table>\n"
      ],
      "text/latex": [
       "\\begin{tabular}{r|lllllllllll}\n",
       " PDL\\_ID & PDL\\_ORIGINAL\\_NAME & YEAR\\_FOUNDED & INDUSTRY & SIZE\\_RANGE & COUNTRY & PDL\\_MATCH\\_NAME & APPLICANT\\_MATCH\\_NAME & Patent\\_number & Person\\_ctry\\_code & Applicant\\_Key\\_Word\\\\\n",
       "\\hline\n",
       "\t  153188                             & AGNITIO                             & 2001                                & INFORMATION TECHNOLOGY AND SERVICES & 51-200                              & DENMARK                             & AGNITIO                             & AGNITIO                             & WO2014048855                        & SPAIN                               & AGNITIO                            \\\\\n",
       "\t 3896625                             & AGNITIO                             & 2004                                & COMPUTER SOFTWARE                   & 1-10                                & SPAIN                               & AGNITIO                             & AGNITIO                             & WO2014048855                        & SPAIN                               & AGNITIO                            \\\\\n",
       "\\end{tabular}\n"
      ],
      "text/markdown": [
       "\n",
       "| PDL_ID | PDL_ORIGINAL_NAME | YEAR_FOUNDED | INDUSTRY | SIZE_RANGE | COUNTRY | PDL_MATCH_NAME | APPLICANT_MATCH_NAME | Patent_number | Person_ctry_code | Applicant_Key_Word |\n",
       "|---|---|---|---|---|---|---|---|---|---|---|\n",
       "|  153188                             | AGNITIO                             | 2001                                | INFORMATION TECHNOLOGY AND SERVICES | 51-200                              | DENMARK                             | AGNITIO                             | AGNITIO                             | WO2014048855                        | SPAIN                               | AGNITIO                             |\n",
       "| 3896625                             | AGNITIO                             | 2004                                | COMPUTER SOFTWARE                   | 1-10                                | SPAIN                               | AGNITIO                             | AGNITIO                             | WO2014048855                        | SPAIN                               | AGNITIO                             |\n",
       "\n"
      ],
      "text/plain": [
       "  PDL_ID  PDL_ORIGINAL_NAME YEAR_FOUNDED INDUSTRY                           \n",
       "1  153188 AGNITIO           2001         INFORMATION TECHNOLOGY AND SERVICES\n",
       "2 3896625 AGNITIO           2004         COMPUTER SOFTWARE                  \n",
       "  SIZE_RANGE COUNTRY PDL_MATCH_NAME APPLICANT_MATCH_NAME Patent_number\n",
       "1 51-200     DENMARK AGNITIO        AGNITIO              WO2014048855 \n",
       "2 1-10       SPAIN   AGNITIO        AGNITIO              WO2014048855 \n",
       "  Person_ctry_code Applicant_Key_Word\n",
       "1 SPAIN            AGNITIO           \n",
       "2 SPAIN            AGNITIO           "
      ]
     },
     "metadata": {},
     "output_type": "display_data"
    }
   ],
   "source": [
    "Direct_Match[Patent_number==\"WO2014048855\",]"
   ]
  },
  {
   "cell_type": "markdown",
   "metadata": {},
   "source": [
    "It is safer to assume that a company that comes from a 'COUNTRY' that is the same as 'Person_ctry_code' of the Applicant is truly the applicant behind the patent application. To indicate this, a new column 'COUNTRY_MATCH' is added to the Table"
   ]
  },
  {
   "cell_type": "code",
   "execution_count": 14,
   "metadata": {},
   "outputs": [
    {
     "data": {
      "text/plain": [
       "\n",
       "FALSE  TRUE \n",
       " 2815  6061 "
      ]
     },
     "metadata": {},
     "output_type": "display_data"
    }
   ],
   "source": [
    "Direct_Match <- Direct_Match[, COUNTRY_MATCH := Direct_Match$COUNTRY==Direct_Match$Person_ctry_code]\n",
    "\n",
    "table(Direct_Match$COUNTRY_MATCH)"
   ]
  },
  {
   "cell_type": "markdown",
   "metadata": {},
   "source": [
    "Lastly, a column names 'METHOD' is added to the table to control for the match method"
   ]
  },
  {
   "cell_type": "code",
   "execution_count": 15,
   "metadata": {},
   "outputs": [
    {
     "data": {
      "text/html": [
       "<ol class=list-inline>\n",
       "\t<li>'PDL_ID'</li>\n",
       "\t<li>'PDL_ORIGINAL_NAME'</li>\n",
       "\t<li>'YEAR_FOUNDED'</li>\n",
       "\t<li>'INDUSTRY'</li>\n",
       "\t<li>'SIZE_RANGE'</li>\n",
       "\t<li>'COUNTRY'</li>\n",
       "\t<li>'PDL_MATCH_NAME'</li>\n",
       "\t<li>'APPLICANT_MATCH_NAME'</li>\n",
       "\t<li>'Patent_number'</li>\n",
       "\t<li>'Person_ctry_code'</li>\n",
       "\t<li>'Applicant_Key_Word'</li>\n",
       "\t<li>'COUNTRY_MATCH'</li>\n",
       "\t<li>'METHOD'</li>\n",
       "</ol>\n"
      ],
      "text/latex": [
       "\\begin{enumerate*}\n",
       "\\item 'PDL\\_ID'\n",
       "\\item 'PDL\\_ORIGINAL\\_NAME'\n",
       "\\item 'YEAR\\_FOUNDED'\n",
       "\\item 'INDUSTRY'\n",
       "\\item 'SIZE\\_RANGE'\n",
       "\\item 'COUNTRY'\n",
       "\\item 'PDL\\_MATCH\\_NAME'\n",
       "\\item 'APPLICANT\\_MATCH\\_NAME'\n",
       "\\item 'Patent\\_number'\n",
       "\\item 'Person\\_ctry\\_code'\n",
       "\\item 'Applicant\\_Key\\_Word'\n",
       "\\item 'COUNTRY\\_MATCH'\n",
       "\\item 'METHOD'\n",
       "\\end{enumerate*}\n"
      ],
      "text/markdown": [
       "1. 'PDL_ID'\n",
       "2. 'PDL_ORIGINAL_NAME'\n",
       "3. 'YEAR_FOUNDED'\n",
       "4. 'INDUSTRY'\n",
       "5. 'SIZE_RANGE'\n",
       "6. 'COUNTRY'\n",
       "7. 'PDL_MATCH_NAME'\n",
       "8. 'APPLICANT_MATCH_NAME'\n",
       "9. 'Patent_number'\n",
       "10. 'Person_ctry_code'\n",
       "11. 'Applicant_Key_Word'\n",
       "12. 'COUNTRY_MATCH'\n",
       "13. 'METHOD'\n",
       "\n",
       "\n"
      ],
      "text/plain": [
       " [1] \"PDL_ID\"               \"PDL_ORIGINAL_NAME\"    \"YEAR_FOUNDED\"        \n",
       " [4] \"INDUSTRY\"             \"SIZE_RANGE\"           \"COUNTRY\"             \n",
       " [7] \"PDL_MATCH_NAME\"       \"APPLICANT_MATCH_NAME\" \"Patent_number\"       \n",
       "[10] \"Person_ctry_code\"     \"Applicant_Key_Word\"   \"COUNTRY_MATCH\"       \n",
       "[13] \"METHOD\"              "
      ]
     },
     "metadata": {},
     "output_type": "display_data"
    }
   ],
   "source": [
    "Direct_Match <- Direct_Match[, METHOD := \"Direct_Match\"]\n",
    "\n",
    "colnames(Direct_Match)"
   ]
  },
  {
   "cell_type": "markdown",
   "metadata": {},
   "source": [
    "## 2.2) Convoluted Fuzzy Match"
   ]
  },
  {
   "cell_type": "markdown",
   "metadata": {},
   "source": [
    "### 2.2.1) Data Preparation"
   ]
  },
  {
   "cell_type": "code",
   "execution_count": 16,
   "metadata": {},
   "outputs": [
    {
     "data": {
      "text/html": [
       "<ol class=list-inline>\n",
       "\t<li>'PDL_ID'</li>\n",
       "\t<li>'PDL_ORIGINAL_NAME'</li>\n",
       "\t<li>'YEAR_FOUNDED'</li>\n",
       "\t<li>'INDUSTRY'</li>\n",
       "\t<li>'SIZE_RANGE'</li>\n",
       "\t<li>'COUNTRY'</li>\n",
       "\t<li>'PDL_MATCH_NAME'</li>\n",
       "\t<li>'APPLICANT_MATCH_NAME'</li>\n",
       "\t<li>'Patent_number'</li>\n",
       "\t<li>'Person_ctry_code'</li>\n",
       "\t<li>'Applicant_Key_Word'</li>\n",
       "</ol>\n"
      ],
      "text/latex": [
       "\\begin{enumerate*}\n",
       "\\item 'PDL\\_ID'\n",
       "\\item 'PDL\\_ORIGINAL\\_NAME'\n",
       "\\item 'YEAR\\_FOUNDED'\n",
       "\\item 'INDUSTRY'\n",
       "\\item 'SIZE\\_RANGE'\n",
       "\\item 'COUNTRY'\n",
       "\\item 'PDL\\_MATCH\\_NAME'\n",
       "\\item 'APPLICANT\\_MATCH\\_NAME'\n",
       "\\item 'Patent\\_number'\n",
       "\\item 'Person\\_ctry\\_code'\n",
       "\\item 'Applicant\\_Key\\_Word'\n",
       "\\end{enumerate*}\n"
      ],
      "text/markdown": [
       "1. 'PDL_ID'\n",
       "2. 'PDL_ORIGINAL_NAME'\n",
       "3. 'YEAR_FOUNDED'\n",
       "4. 'INDUSTRY'\n",
       "5. 'SIZE_RANGE'\n",
       "6. 'COUNTRY'\n",
       "7. 'PDL_MATCH_NAME'\n",
       "8. 'APPLICANT_MATCH_NAME'\n",
       "9. 'Patent_number'\n",
       "10. 'Person_ctry_code'\n",
       "11. 'Applicant_Key_Word'\n",
       "\n",
       "\n"
      ],
      "text/plain": [
       " [1] \"PDL_ID\"               \"PDL_ORIGINAL_NAME\"    \"YEAR_FOUNDED\"        \n",
       " [4] \"INDUSTRY\"             \"SIZE_RANGE\"           \"COUNTRY\"             \n",
       " [7] \"PDL_MATCH_NAME\"       \"APPLICANT_MATCH_NAME\" \"Patent_number\"       \n",
       "[10] \"Person_ctry_code\"     \"Applicant_Key_Word\"  "
      ]
     },
     "metadata": {},
     "output_type": "display_data"
    }
   ],
   "source": [
    "colnames(Applicants_Fuzzy)"
   ]
  },
  {
   "cell_type": "code",
   "execution_count": 17,
   "metadata": {},
   "outputs": [
    {
     "data": {
      "text/html": [
       "<ol class=list-inline>\n",
       "\t<li>'APPLICANT_MATCH_NAME'</li>\n",
       "\t<li>'Patent_number'</li>\n",
       "\t<li>'Person_ctry_code'</li>\n",
       "\t<li>'Applicant_Key_Word'</li>\n",
       "</ol>\n"
      ],
      "text/latex": [
       "\\begin{enumerate*}\n",
       "\\item 'APPLICANT\\_MATCH\\_NAME'\n",
       "\\item 'Patent\\_number'\n",
       "\\item 'Person\\_ctry\\_code'\n",
       "\\item 'Applicant\\_Key\\_Word'\n",
       "\\end{enumerate*}\n"
      ],
      "text/markdown": [
       "1. 'APPLICANT_MATCH_NAME'\n",
       "2. 'Patent_number'\n",
       "3. 'Person_ctry_code'\n",
       "4. 'Applicant_Key_Word'\n",
       "\n",
       "\n"
      ],
      "text/plain": [
       "[1] \"APPLICANT_MATCH_NAME\" \"Patent_number\"        \"Person_ctry_code\"    \n",
       "[4] \"Applicant_Key_Word\"  "
      ]
     },
     "metadata": {},
     "output_type": "display_data"
    },
    {
     "data": {
      "text/html": [
       "<ol class=list-inline>\n",
       "\t<li>10427</li>\n",
       "\t<li>4</li>\n",
       "</ol>\n"
      ],
      "text/latex": [
       "\\begin{enumerate*}\n",
       "\\item 10427\n",
       "\\item 4\n",
       "\\end{enumerate*}\n"
      ],
      "text/markdown": [
       "1. 10427\n",
       "2. 4\n",
       "\n",
       "\n"
      ],
      "text/plain": [
       "[1] 10427     4"
      ]
     },
     "metadata": {},
     "output_type": "display_data"
    }
   ],
   "source": [
    "#Remove unnecesary columns\n",
    "Drop_Features <- c(\"PDL_ID\", \"PDL_ORIGINAL_NAME\",\"YEAR_FOUNDED\", \"INDUSTRY\",\"SIZE_RANGE\", \"COUNTRY\",\"PDL_MATCH_NAME\")\n",
    "Applicants_Fuzzy <- dplyr::select(Applicants_Fuzzy, -!!Drop_Features)\n",
    "\n",
    "colnames(Applicants_Fuzzy)\n",
    "dim(Applicants_Fuzzy)"
   ]
  },
  {
   "cell_type": "markdown",
   "metadata": {},
   "source": [
    "### 2.2.2) Create structures for algorithm"
   ]
  },
  {
   "cell_type": "markdown",
   "metadata": {},
   "source": [
    "+ **Industrial_Subset**: list containing, per patent application in the 'Applicants_Fuzzy', the subset of the 'Industrial_dataset'  for which the fuzzy scores are calculated. Each patent applicant is assigned a subset so that there are as many lists as rows in the 'Applicants_Fuzzy' table. The selection of the subset is based on the match of (1) the 'PDL_Key_Word' and 'Applicant_Key_Word', and (2) 'Country' in the industrial dataset and the 'Person_ctry_code' in the patent dataset."
   ]
  },
  {
   "cell_type": "code",
   "execution_count": 18,
   "metadata": {},
   "outputs": [],
   "source": [
    "Industrial_Subset <- list()"
   ]
  },
  {
   "cell_type": "markdown",
   "metadata": {},
   "source": [
    "+ **Jaro_Winkler, Levensthein, Damerau-Levensthein**: list where the fuzzy scores are stored. Every list corresponds to the 'APPLICANT_MATCH_NAME' so that there are as many lists as rows in 'Applicants_Fuzzy'. Furthermore. every list contains as many scores as the number of organizations in the 'Industrial_Subset\" corresponding to the application. "
   ]
  },
  {
   "cell_type": "code",
   "execution_count": 19,
   "metadata": {},
   "outputs": [],
   "source": [
    "Jaro_Winkler <- list()\n",
    "Levenshtein <- list()\n",
    "Damerau_Levenshtein <- list()"
   ]
  },
  {
   "cell_type": "markdown",
   "metadata": {},
   "source": [
    "\n",
    "+ **nchar_Applicant** stores the number of characters in 'APPLICANT_MATCH_NAME'\n",
    "+ **nchar_Industrial_Subset** stores the number of characters of the name the organizations included in the Industrial_Subset. It thus has the same dimensions as the 'Industrial_Subset'. \n",
    "+ The count of characters is required for the standarization (betwee o and 1) of the *Levensthein* and *Damerau-Levensthein* scores.\n"
   ]
  },
  {
   "cell_type": "code",
   "execution_count": 20,
   "metadata": {},
   "outputs": [],
   "source": [
    "nchar_Applicant <- list()\n",
    "nchar_Industrial_Subset <- list()"
   ]
  },
  {
   "cell_type": "markdown",
   "metadata": {},
   "source": [
    "+ **Convoluted_Distance** stores the combination of the three fuzzy socres"
   ]
  },
  {
   "cell_type": "code",
   "execution_count": 21,
   "metadata": {},
   "outputs": [],
   "source": [
    "Convoluted_Distance <- list()"
   ]
  },
  {
   "cell_type": "markdown",
   "metadata": {},
   "source": [
    "+ **max_distance** selects the organization in the 'Industrial_Subset' for which the fuzzy score is the highest "
   ]
  },
  {
   "cell_type": "code",
   "execution_count": 22,
   "metadata": {},
   "outputs": [],
   "source": [
    "max_distance <- list()"
   ]
  },
  {
   "cell_type": "markdown",
   "metadata": {},
   "source": [
    "+ **candidate_list** groups 'APPLICANT_MATCH_NAME', the organization in the 'Industrial_Subset\" with the highest Convoluted Fuzzy Score and the 'Person_ctry_code' corresponding to the patent applicant"
   ]
  },
  {
   "cell_type": "code",
   "execution_count": 23,
   "metadata": {},
   "outputs": [],
   "source": [
    "candidate_list <- list()"
   ]
  },
  {
   "cell_type": "markdown",
   "metadata": {},
   "source": [
    "### 2.2.3) Algorithm"
   ]
  },
  {
   "cell_type": "markdown",
   "metadata": {},
   "source": [
    "Steps included in the loop: \n",
    "\n",
    "1. For each patent application create the subset of organizations in the industrial subset\n",
    "2. Calculate the *Jaro-Winkler* distance\n",
    "3. Count of characters of all 'APPLICAN_MATCH_NAME' in the 'Applicant_Fuzzy' table \n",
    "4. Count characters of organizations included in  'Indsutrial_Subset'\n",
    "5. Calculate *Levensthein* distance\n",
    "6. Standarize between 0 and 1 *Levensthein* distance\n",
    "7. Calculate *Damerau-Levensthein* distance\n",
    "8. Standarize between 0 and 1 *Damerau-Levensthein* distance\n",
    "9. Zero all scores in the *Jaro-Winkler*, *Levensthein* and *Damerau-Levensthein* below the set threshold. \n",
    "10. Calculate the Convoluted Fuzzy Match Score\n",
    "11. Determine per 'APPLICANT_MATCH_NAME' the organization in the 'Industrial_Subset' with the highest Convoluted Fuzzy Match Score\n",
    "12. Group 'APPLICANT_MATCH_NAME', the name of the organization with the max Convoluted Fuzzy Match Score and the corresponding 'Person_ctry_code'\n",
    "\n"
   ]
  },
  {
   "cell_type": "code",
   "execution_count": 24,
   "metadata": {},
   "outputs": [],
   "source": [
    "for (i in 1:nrow(Applicants_Fuzzy)){\n",
    "    \n",
    "    #Step 1  \n",
    "    Industrial_Subset[[i]]<- Industrial_Dataset[PDL_Key_Word==as.character(Applicants_Fuzzy[i,Applicant_Key_Word])\n",
    "                                    & COUNTRY==as.character(Applicants_Fuzzy[i,Person_ctry_code]),\n",
    "                                    PDL_MATCH_NAME]\n",
    "    #Step 2\n",
    "      Jaro_Winkler[[i]] <- 1-stringdist::stringdistmatrix(Industrial_Subset[[i]], Applicants_Fuzzy[i,APPLICANT_MATCH_NAME],\n",
    "                                              method = \"jw\", useBytes = FALSE,\n",
    "                                              weight = c(d = 1, i = 1, s = 1, t = 1),p = 0.1,\n",
    "                                              bt = 0, useNames = c(\"string\"))\n",
    "    #Step 3\n",
    "      nchar_Applicant[[i]] <- nchar(Applicants_Fuzzy[i,APPLICANT_MATCH_NAME], type = \"chars\", allowNA = FALSE)\n",
    "    \n",
    "    #Step 4\n",
    "      nchar_Industrial_Subset[[i]] <- nchar(Industrial_Subset[[i]], type = \"chars\", allowNA = FALSE)\n",
    "      \n",
    "    #Step 5\n",
    "      Levenshtein[[i]] <- stringdist::stringdistmatrix(Industrial_Subset[[i]], Applicants_Fuzzy[i,APPLICANT_MATCH_NAME],\n",
    "                                           method = \"lv\")\n",
    "    #Step 6\n",
    "      for (n in 1:nrow(Levenshtein[[i]])) {\n",
    "            Levenshtein[[i]][n] <- 1- (Levenshtein[[i]][n]/max((nchar_Industrial_Subset[[i]][n]),(nchar_Applicant[[i]])))\n",
    "      }\n",
    "      \n",
    "    #Step 7\n",
    "      Damerau_Levenshtein[[i]] <- stringdist::stringdistmatrix(Industrial_Subset[[i]],\n",
    "                                                   Applicants_Fuzzy[i,APPLICANT_MATCH_NAME], method = \"dl\")\n",
    "    \n",
    "    #Step 8\n",
    "      for (n in 1:nrow(Damerau_Levenshtein[[i]])) {\n",
    "            Damerau_Levenshtein[[i]][n] <- 1- (Damerau_Levenshtein[[i]][n]/max(\n",
    "                  (nchar_Industrial_Subset[[i]][n]),\n",
    "                  (nchar_Applicant[[i]])))\n",
    "      }\n",
    "      \n",
    "    #Step 9\n",
    "      Jaro_Winkler[[i]][Jaro_Winkler[[i]]<0.85] <- 0\n",
    "      Levenshtein[[i]][Levenshtein[[i]]<0.5] <- 0\n",
    "      Damerau_Levenshtein[[i]][Damerau_Levenshtein[[i]]<0.5] <- 0\n",
    "      \n",
    "    #Step 10\n",
    "      Convoluted_Distance[[i]] <- sqrt(Jaro_Winkler[[i]]^2 + Levenshtein[[i]]^2 + Damerau_Levenshtein[[i]]^2)/sqrt(3)\n",
    "    \n",
    "    #Step 11\n",
    "      max_distance[[i]] <-ifelse(max(Convoluted_Distance[[i]])==0,NA,which.max(Convoluted_Distance[[i]]))\n",
    "    \n",
    "    #Step 12\n",
    "      candidate_list[[i]]<- matrix(NA, nrow=1, ncol=3)\n",
    "      candidate_list[[i]][1,1] <- as.character(Applicants_Fuzzy[i,APPLICANT_MATCH_NAME])\n",
    "      candidate_list[[i]][1,2] <- ifelse(length(max_distance[[i]])==0,NA,\n",
    "                                         as.character(Industrial_Subset[[i]][max_distance[[i]]]))\n",
    "      candidate_list[[i]][1,3] <- as.character(Applicants_Fuzzy[i,Person_ctry_code])\n",
    "       \n",
    "}"
   ]
  },
  {
   "cell_type": "code",
   "execution_count": 25,
   "metadata": {
    "scrolled": true
   },
   "outputs": [
    {
     "data": {
      "text/html": [
       "<ol class=list-inline>\n",
       "\t<li>10427</li>\n",
       "\t<li>3</li>\n",
       "</ol>\n"
      ],
      "text/latex": [
       "\\begin{enumerate*}\n",
       "\\item 10427\n",
       "\\item 3\n",
       "\\end{enumerate*}\n"
      ],
      "text/markdown": [
       "1. 10427\n",
       "2. 3\n",
       "\n",
       "\n"
      ],
      "text/plain": [
       "[1] 10427     3"
      ]
     },
     "metadata": {},
     "output_type": "display_data"
    },
    {
     "data": {
      "text/html": [
       "<table>\n",
       "<thead><tr><th scope=col>Patent_Match_Name</th><th scope=col>PDL_Match_Name</th><th scope=col>Person_ctry_code</th></tr></thead>\n",
       "<tbody>\n",
       "\t<tr><td>1026 LABS                         </td><td>NA                                </td><td>UNITED STATES                     </td></tr>\n",
       "\t<tr><td>1026 LABS                         </td><td>NA                                </td><td>UNITED STATES                     </td></tr>\n",
       "\t<tr><td>1026 LABS                         </td><td>NA                                </td><td>UNITED STATES                     </td></tr>\n",
       "\t<tr><td>1026 LABS                         </td><td>NA                                </td><td>UNITED STATES                     </td></tr>\n",
       "\t<tr><td><span style=white-space:pre-wrap>11 HEALTH &amp;      </span>             </td><td><span style=white-space:pre-wrap>NA                                </span></td><td>UNITED STATES                                                             </td></tr>\n",
       "\t<tr><td>12 SIGMA                          </td><td>12 SIGMA TECHNOLOGIES             </td><td>UNITED STATES                     </td></tr>\n",
       "\t<tr><td>12DX                              </td><td>NA                                </td><td>UNITED STATES                     </td></tr>\n",
       "\t<tr><td>1QB INFORMATION                   </td><td>1QB INFORMATION TECHNOLOGIES 1QBIT</td><td>CANADA                            </td></tr>\n",
       "\t<tr><td>1QB INFORMATION                   </td><td>1QB INFORMATION TECHNOLOGIES 1QBIT</td><td>CANADA                            </td></tr>\n",
       "\t<tr><td>1THEFULL PLATFORM                 </td><td>NA                                </td><td>SOUTH KOREA                       </td></tr>\n",
       "\t<tr><td>20 20 GENESYSTEMS                 </td><td>NA                                </td><td>UNITED STATES                     </td></tr>\n",
       "\t<tr><td>20 20 GENESYSTEMS                 </td><td>NA                                </td><td>UNITED STATES                     </td></tr>\n",
       "\t<tr><td>20 20 SPEECH                      </td><td>NA                                </td><td>UNITED KINGDOM                    </td></tr>\n",
       "\t<tr><td>2028                              </td><td>NA                                </td><td>UNITED STATES                     </td></tr>\n",
       "\t<tr><td>20Q NET                           </td><td>NA                                </td><td>CANADA                            </td></tr>\n",
       "\t<tr><td>2167959 ONTARIO                   </td><td>NA                                </td><td>CANADA                            </td></tr>\n",
       "\t<tr><td>21CT                              </td><td>NA                                </td><td>UNITED STATES                     </td></tr>\n",
       "\t<tr><td>21CT                              </td><td>NA                                </td><td>UNITED STATES                     </td></tr>\n",
       "\t<tr><td>21ST CENTURY                      </td><td>21ST SENSORY                      </td><td>UNITED STATES                     </td></tr>\n",
       "\t<tr><td>2236008 ONTARIO                   </td><td>NA                                </td><td>CANADA                            </td></tr>\n",
       "\t<tr><td>2236008 ONTARIO                   </td><td>NA                                </td><td>CANADA                            </td></tr>\n",
       "\t<tr><td>2236008 ONTARIO                   </td><td>NA                                </td><td>CANADA                            </td></tr>\n",
       "\t<tr><td>2236008 ONTARIO                   </td><td>NA                                </td><td>CANADA                            </td></tr>\n",
       "\t<tr><td>2236008 ONTARIO                   </td><td>NA                                </td><td>CANADA                            </td></tr>\n",
       "\t<tr><td>2236008 ONTARIO                   </td><td>NA                                </td><td>CANADA                            </td></tr>\n",
       "\t<tr><td>2236008 ONTARIO                   </td><td>NA                                </td><td>CANADA                            </td></tr>\n",
       "\t<tr><td>2236008 ONTARIO                   </td><td>NA                                </td><td>CANADA                            </td></tr>\n",
       "\t<tr><td>2236008 ONTARIO                   </td><td>NA                                </td><td>CANADA                            </td></tr>\n",
       "\t<tr><td>2352409 ONTARIO                   </td><td>NA                                </td><td>CANADA                            </td></tr>\n",
       "\t<tr><td>24 7 AI                           </td><td>24 ALARM                          </td><td>UNITED STATES                     </td></tr>\n",
       "\t<tr><td>...</td><td>...</td><td>...</td></tr>\n",
       "\t<tr><td>5 EXAMPLES       </td><td>NA               </td><td>UNITED STATES    </td></tr>\n",
       "\t<tr><td>7 SIGMA          </td><td>NA               </td><td>UNITED STATES    </td></tr>\n",
       "\t<tr><td>80 20 SOFTWARE   </td><td>NA               </td><td>AUSTRALIA        </td></tr>\n",
       "\t<tr><td>9160 8083 QUEBECC</td><td>NA               </td><td>CANADA           </td></tr>\n",
       "\t<tr><td>9206868 CA       </td><td>NA               </td><td>CANADA           </td></tr>\n",
       "\t<tr><td>9293507 CA       </td><td>NA               </td><td>CANADA           </td></tr>\n",
       "\t<tr><td>9617094 CA       </td><td>NA               </td><td>CANADA           </td></tr>\n",
       "\t<tr><td>A LIFE MEDICAL   </td><td>A LIFE LIVED     </td><td>UNITED STATES    </td></tr>\n",
       "\t<tr><td>A LIFE MEDICAL   </td><td>A LIFE LIVED     </td><td>UNITED STATES    </td></tr>\n",
       "\t<tr><td>A9 COM           </td><td>NA               </td><td>UNITED STATES    </td></tr>\n",
       "\t<tr><td>AAYUV            </td><td>NA               </td><td>INDIA            </td></tr>\n",
       "\t<tr><td>AB MEDICA HOLDING</td><td>AB MEDICA        </td><td>ITALY            </td></tr>\n",
       "\t<tr><td>ABB AUTOMATION   </td><td>ABB INTERNATIONAL</td><td>UNITED STATES    </td></tr>\n",
       "\t<tr><td>ABB PATENT       </td><td>NA               </td><td>GERMANY          </td></tr>\n",
       "\t<tr><td>ABB PATENT       </td><td>NA               </td><td>GERMANY          </td></tr>\n",
       "\t<tr><td>ABB PATENT       </td><td>NA               </td><td>GERMANY          </td></tr>\n",
       "\t<tr><td>ABB PATENT       </td><td>NA               </td><td>GERMANY          </td></tr>\n",
       "\t<tr><td>ABB PATENT       </td><td>NA               </td><td>GERMANY          </td></tr>\n",
       "\t<tr><td><span style=white-space:pre-wrap>ABB POWER T&amp;D    </span></td><td><span style=white-space:pre-wrap>NA               </span>    </td><td>UNITED STATES                                                </td></tr>\n",
       "\t<tr><td>ABB RESEARCH     </td><td>NA               </td><td>SWITZERLAND      </td></tr>\n",
       "\t<tr><td>ABB RESEARCH     </td><td>NA               </td><td>SWITZERLAND      </td></tr>\n",
       "\t<tr><td>ABB RESEARCH     </td><td>NA               </td><td>SWITZERLAND      </td></tr>\n",
       "\t<tr><td>ABB RESEARCH     </td><td>NA               </td><td>SWITZERLAND      </td></tr>\n",
       "\t<tr><td>ABB RESEARCH     </td><td>NA               </td><td>SWITZERLAND      </td></tr>\n",
       "\t<tr><td>ABB RESEARCH     </td><td>NA               </td><td>SWITZERLAND      </td></tr>\n",
       "\t<tr><td>ABB RESEARCH     </td><td>NA               </td><td>SWITZERLAND      </td></tr>\n",
       "\t<tr><td>ABB RESEARCH     </td><td>NA               </td><td>SWITZERLAND      </td></tr>\n",
       "\t<tr><td>ABB RESEARCH     </td><td>NA               </td><td>SWITZERLAND      </td></tr>\n",
       "\t<tr><td>ABB RESEARCH     </td><td>NA               </td><td>SWITZERLAND      </td></tr>\n",
       "\t<tr><td>ABB RESEARCH     </td><td>NA               </td><td>SWITZERLAND      </td></tr>\n",
       "</tbody>\n",
       "</table>\n"
      ],
      "text/latex": [
       "\\begin{tabular}{r|lll}\n",
       " Patent\\_Match\\_Name & PDL\\_Match\\_Name & Person\\_ctry\\_code\\\\\n",
       "\\hline\n",
       "\t 1026 LABS                          & NA                                 & UNITED STATES                     \\\\\n",
       "\t 1026 LABS                          & NA                                 & UNITED STATES                     \\\\\n",
       "\t 1026 LABS                          & NA                                 & UNITED STATES                     \\\\\n",
       "\t 1026 LABS                          & NA                                 & UNITED STATES                     \\\\\n",
       "\t 11 HEALTH \\&                      & NA                                 & UNITED STATES                     \\\\\n",
       "\t 12 SIGMA                           & 12 SIGMA TECHNOLOGIES              & UNITED STATES                     \\\\\n",
       "\t 12DX                               & NA                                 & UNITED STATES                     \\\\\n",
       "\t 1QB INFORMATION                    & 1QB INFORMATION TECHNOLOGIES 1QBIT & CANADA                            \\\\\n",
       "\t 1QB INFORMATION                    & 1QB INFORMATION TECHNOLOGIES 1QBIT & CANADA                            \\\\\n",
       "\t 1THEFULL PLATFORM                  & NA                                 & SOUTH KOREA                       \\\\\n",
       "\t 20 20 GENESYSTEMS                  & NA                                 & UNITED STATES                     \\\\\n",
       "\t 20 20 GENESYSTEMS                  & NA                                 & UNITED STATES                     \\\\\n",
       "\t 20 20 SPEECH                       & NA                                 & UNITED KINGDOM                    \\\\\n",
       "\t 2028                               & NA                                 & UNITED STATES                     \\\\\n",
       "\t 20Q NET                            & NA                                 & CANADA                            \\\\\n",
       "\t 2167959 ONTARIO                    & NA                                 & CANADA                            \\\\\n",
       "\t 21CT                               & NA                                 & UNITED STATES                     \\\\\n",
       "\t 21CT                               & NA                                 & UNITED STATES                     \\\\\n",
       "\t 21ST CENTURY                       & 21ST SENSORY                       & UNITED STATES                     \\\\\n",
       "\t 2236008 ONTARIO                    & NA                                 & CANADA                            \\\\\n",
       "\t 2236008 ONTARIO                    & NA                                 & CANADA                            \\\\\n",
       "\t 2236008 ONTARIO                    & NA                                 & CANADA                            \\\\\n",
       "\t 2236008 ONTARIO                    & NA                                 & CANADA                            \\\\\n",
       "\t 2236008 ONTARIO                    & NA                                 & CANADA                            \\\\\n",
       "\t 2236008 ONTARIO                    & NA                                 & CANADA                            \\\\\n",
       "\t 2236008 ONTARIO                    & NA                                 & CANADA                            \\\\\n",
       "\t 2236008 ONTARIO                    & NA                                 & CANADA                            \\\\\n",
       "\t 2236008 ONTARIO                    & NA                                 & CANADA                            \\\\\n",
       "\t 2352409 ONTARIO                    & NA                                 & CANADA                            \\\\\n",
       "\t 24 7 AI                            & 24 ALARM                           & UNITED STATES                     \\\\\n",
       "\t ... & ... & ...\\\\\n",
       "\t 5 EXAMPLES        & NA                & UNITED STATES    \\\\\n",
       "\t 7 SIGMA           & NA                & UNITED STATES    \\\\\n",
       "\t 80 20 SOFTWARE    & NA                & AUSTRALIA        \\\\\n",
       "\t 9160 8083 QUEBECC & NA                & CANADA           \\\\\n",
       "\t 9206868 CA        & NA                & CANADA           \\\\\n",
       "\t 9293507 CA        & NA                & CANADA           \\\\\n",
       "\t 9617094 CA        & NA                & CANADA           \\\\\n",
       "\t A LIFE MEDICAL    & A LIFE LIVED      & UNITED STATES    \\\\\n",
       "\t A LIFE MEDICAL    & A LIFE LIVED      & UNITED STATES    \\\\\n",
       "\t A9 COM            & NA                & UNITED STATES    \\\\\n",
       "\t AAYUV             & NA                & INDIA            \\\\\n",
       "\t AB MEDICA HOLDING & AB MEDICA         & ITALY            \\\\\n",
       "\t ABB AUTOMATION    & ABB INTERNATIONAL & UNITED STATES    \\\\\n",
       "\t ABB PATENT        & NA                & GERMANY          \\\\\n",
       "\t ABB PATENT        & NA                & GERMANY          \\\\\n",
       "\t ABB PATENT        & NA                & GERMANY          \\\\\n",
       "\t ABB PATENT        & NA                & GERMANY          \\\\\n",
       "\t ABB PATENT        & NA                & GERMANY          \\\\\n",
       "\t ABB POWER T\\&D     & NA                  & UNITED STATES      \\\\\n",
       "\t ABB RESEARCH      & NA                & SWITZERLAND      \\\\\n",
       "\t ABB RESEARCH      & NA                & SWITZERLAND      \\\\\n",
       "\t ABB RESEARCH      & NA                & SWITZERLAND      \\\\\n",
       "\t ABB RESEARCH      & NA                & SWITZERLAND      \\\\\n",
       "\t ABB RESEARCH      & NA                & SWITZERLAND      \\\\\n",
       "\t ABB RESEARCH      & NA                & SWITZERLAND      \\\\\n",
       "\t ABB RESEARCH      & NA                & SWITZERLAND      \\\\\n",
       "\t ABB RESEARCH      & NA                & SWITZERLAND      \\\\\n",
       "\t ABB RESEARCH      & NA                & SWITZERLAND      \\\\\n",
       "\t ABB RESEARCH      & NA                & SWITZERLAND      \\\\\n",
       "\t ABB RESEARCH      & NA                & SWITZERLAND      \\\\\n",
       "\\end{tabular}\n"
      ],
      "text/markdown": [
       "\n",
       "| Patent_Match_Name | PDL_Match_Name | Person_ctry_code |\n",
       "|---|---|---|\n",
       "| 1026 LABS                          | NA                                 | UNITED STATES                      |\n",
       "| 1026 LABS                          | NA                                 | UNITED STATES                      |\n",
       "| 1026 LABS                          | NA                                 | UNITED STATES                      |\n",
       "| 1026 LABS                          | NA                                 | UNITED STATES                      |\n",
       "| 11 HEALTH &                        | NA                                 | UNITED STATES                      |\n",
       "| 12 SIGMA                           | 12 SIGMA TECHNOLOGIES              | UNITED STATES                      |\n",
       "| 12DX                               | NA                                 | UNITED STATES                      |\n",
       "| 1QB INFORMATION                    | 1QB INFORMATION TECHNOLOGIES 1QBIT | CANADA                             |\n",
       "| 1QB INFORMATION                    | 1QB INFORMATION TECHNOLOGIES 1QBIT | CANADA                             |\n",
       "| 1THEFULL PLATFORM                  | NA                                 | SOUTH KOREA                        |\n",
       "| 20 20 GENESYSTEMS                  | NA                                 | UNITED STATES                      |\n",
       "| 20 20 GENESYSTEMS                  | NA                                 | UNITED STATES                      |\n",
       "| 20 20 SPEECH                       | NA                                 | UNITED KINGDOM                     |\n",
       "| 2028                               | NA                                 | UNITED STATES                      |\n",
       "| 20Q NET                            | NA                                 | CANADA                             |\n",
       "| 2167959 ONTARIO                    | NA                                 | CANADA                             |\n",
       "| 21CT                               | NA                                 | UNITED STATES                      |\n",
       "| 21CT                               | NA                                 | UNITED STATES                      |\n",
       "| 21ST CENTURY                       | 21ST SENSORY                       | UNITED STATES                      |\n",
       "| 2236008 ONTARIO                    | NA                                 | CANADA                             |\n",
       "| 2236008 ONTARIO                    | NA                                 | CANADA                             |\n",
       "| 2236008 ONTARIO                    | NA                                 | CANADA                             |\n",
       "| 2236008 ONTARIO                    | NA                                 | CANADA                             |\n",
       "| 2236008 ONTARIO                    | NA                                 | CANADA                             |\n",
       "| 2236008 ONTARIO                    | NA                                 | CANADA                             |\n",
       "| 2236008 ONTARIO                    | NA                                 | CANADA                             |\n",
       "| 2236008 ONTARIO                    | NA                                 | CANADA                             |\n",
       "| 2236008 ONTARIO                    | NA                                 | CANADA                             |\n",
       "| 2352409 ONTARIO                    | NA                                 | CANADA                             |\n",
       "| 24 7 AI                            | 24 ALARM                           | UNITED STATES                      |\n",
       "| ... | ... | ... |\n",
       "| 5 EXAMPLES        | NA                | UNITED STATES     |\n",
       "| 7 SIGMA           | NA                | UNITED STATES     |\n",
       "| 80 20 SOFTWARE    | NA                | AUSTRALIA         |\n",
       "| 9160 8083 QUEBECC | NA                | CANADA            |\n",
       "| 9206868 CA        | NA                | CANADA            |\n",
       "| 9293507 CA        | NA                | CANADA            |\n",
       "| 9617094 CA        | NA                | CANADA            |\n",
       "| A LIFE MEDICAL    | A LIFE LIVED      | UNITED STATES     |\n",
       "| A LIFE MEDICAL    | A LIFE LIVED      | UNITED STATES     |\n",
       "| A9 COM            | NA                | UNITED STATES     |\n",
       "| AAYUV             | NA                | INDIA             |\n",
       "| AB MEDICA HOLDING | AB MEDICA         | ITALY             |\n",
       "| ABB AUTOMATION    | ABB INTERNATIONAL | UNITED STATES     |\n",
       "| ABB PATENT        | NA                | GERMANY           |\n",
       "| ABB PATENT        | NA                | GERMANY           |\n",
       "| ABB PATENT        | NA                | GERMANY           |\n",
       "| ABB PATENT        | NA                | GERMANY           |\n",
       "| ABB PATENT        | NA                | GERMANY           |\n",
       "| ABB POWER T&D     | NA                | UNITED STATES     |\n",
       "| ABB RESEARCH      | NA                | SWITZERLAND       |\n",
       "| ABB RESEARCH      | NA                | SWITZERLAND       |\n",
       "| ABB RESEARCH      | NA                | SWITZERLAND       |\n",
       "| ABB RESEARCH      | NA                | SWITZERLAND       |\n",
       "| ABB RESEARCH      | NA                | SWITZERLAND       |\n",
       "| ABB RESEARCH      | NA                | SWITZERLAND       |\n",
       "| ABB RESEARCH      | NA                | SWITZERLAND       |\n",
       "| ABB RESEARCH      | NA                | SWITZERLAND       |\n",
       "| ABB RESEARCH      | NA                | SWITZERLAND       |\n",
       "| ABB RESEARCH      | NA                | SWITZERLAND       |\n",
       "| ABB RESEARCH      | NA                | SWITZERLAND       |\n",
       "\n"
      ],
      "text/plain": [
       "    Patent_Match_Name PDL_Match_Name                     Person_ctry_code\n",
       "1   1026 LABS         NA                                 UNITED STATES   \n",
       "2   1026 LABS         NA                                 UNITED STATES   \n",
       "3   1026 LABS         NA                                 UNITED STATES   \n",
       "4   1026 LABS         NA                                 UNITED STATES   \n",
       "5   11 HEALTH &       NA                                 UNITED STATES   \n",
       "6   12 SIGMA          12 SIGMA TECHNOLOGIES              UNITED STATES   \n",
       "7   12DX              NA                                 UNITED STATES   \n",
       "8   1QB INFORMATION   1QB INFORMATION TECHNOLOGIES 1QBIT CANADA          \n",
       "9   1QB INFORMATION   1QB INFORMATION TECHNOLOGIES 1QBIT CANADA          \n",
       "10  1THEFULL PLATFORM NA                                 SOUTH KOREA     \n",
       "11  20 20 GENESYSTEMS NA                                 UNITED STATES   \n",
       "12  20 20 GENESYSTEMS NA                                 UNITED STATES   \n",
       "13  20 20 SPEECH      NA                                 UNITED KINGDOM  \n",
       "14  2028              NA                                 UNITED STATES   \n",
       "15  20Q NET           NA                                 CANADA          \n",
       "16  2167959 ONTARIO   NA                                 CANADA          \n",
       "17  21CT              NA                                 UNITED STATES   \n",
       "18  21CT              NA                                 UNITED STATES   \n",
       "19  21ST CENTURY      21ST SENSORY                       UNITED STATES   \n",
       "20  2236008 ONTARIO   NA                                 CANADA          \n",
       "21  2236008 ONTARIO   NA                                 CANADA          \n",
       "22  2236008 ONTARIO   NA                                 CANADA          \n",
       "23  2236008 ONTARIO   NA                                 CANADA          \n",
       "24  2236008 ONTARIO   NA                                 CANADA          \n",
       "25  2236008 ONTARIO   NA                                 CANADA          \n",
       "26  2236008 ONTARIO   NA                                 CANADA          \n",
       "27  2236008 ONTARIO   NA                                 CANADA          \n",
       "28  2236008 ONTARIO   NA                                 CANADA          \n",
       "29  2352409 ONTARIO   NA                                 CANADA          \n",
       "30  24 7 AI           24 ALARM                           UNITED STATES   \n",
       "... ...               ...                                ...             \n",
       "71  5 EXAMPLES        NA                                 UNITED STATES   \n",
       "72  7 SIGMA           NA                                 UNITED STATES   \n",
       "73  80 20 SOFTWARE    NA                                 AUSTRALIA       \n",
       "74  9160 8083 QUEBECC NA                                 CANADA          \n",
       "75  9206868 CA        NA                                 CANADA          \n",
       "76  9293507 CA        NA                                 CANADA          \n",
       "77  9617094 CA        NA                                 CANADA          \n",
       "78  A LIFE MEDICAL    A LIFE LIVED                       UNITED STATES   \n",
       "79  A LIFE MEDICAL    A LIFE LIVED                       UNITED STATES   \n",
       "80  A9 COM            NA                                 UNITED STATES   \n",
       "81  AAYUV             NA                                 INDIA           \n",
       "82  AB MEDICA HOLDING AB MEDICA                          ITALY           \n",
       "83  ABB AUTOMATION    ABB INTERNATIONAL                  UNITED STATES   \n",
       "84  ABB PATENT        NA                                 GERMANY         \n",
       "85  ABB PATENT        NA                                 GERMANY         \n",
       "86  ABB PATENT        NA                                 GERMANY         \n",
       "87  ABB PATENT        NA                                 GERMANY         \n",
       "88  ABB PATENT        NA                                 GERMANY         \n",
       "89  ABB POWER T&D     NA                                 UNITED STATES   \n",
       "90  ABB RESEARCH      NA                                 SWITZERLAND     \n",
       "91  ABB RESEARCH      NA                                 SWITZERLAND     \n",
       "92  ABB RESEARCH      NA                                 SWITZERLAND     \n",
       "93  ABB RESEARCH      NA                                 SWITZERLAND     \n",
       "94  ABB RESEARCH      NA                                 SWITZERLAND     \n",
       "95  ABB RESEARCH      NA                                 SWITZERLAND     \n",
       "96  ABB RESEARCH      NA                                 SWITZERLAND     \n",
       "97  ABB RESEARCH      NA                                 SWITZERLAND     \n",
       "98  ABB RESEARCH      NA                                 SWITZERLAND     \n",
       "99  ABB RESEARCH      NA                                 SWITZERLAND     \n",
       "100 ABB RESEARCH      NA                                 SWITZERLAND     "
      ]
     },
     "metadata": {},
     "output_type": "display_data"
    }
   ],
   "source": [
    "Candidate_List <- data.table(do.call(rbind, candidate_list))\n",
    "colnames(Candidate_List) <- c(\"Patent_Match_Name\", \"PDL_Match_Name\", \"Person_ctry_code\")\n",
    "#Consistency Check\n",
    "dim(Candidate_List)\n",
    "\n",
    "#Overview\n",
    "head(Candidate_List,100)"
   ]
  },
  {
   "cell_type": "code",
   "execution_count": 26,
   "metadata": {},
   "outputs": [
    {
     "data": {
      "text/html": [
       "5008"
      ],
      "text/latex": [
       "5008"
      ],
      "text/markdown": [
       "5008"
      ],
      "text/plain": [
       "[1] 5008"
      ]
     },
     "metadata": {},
     "output_type": "display_data"
    },
    {
     "data": {
      "text/html": [
       "0.52"
      ],
      "text/latex": [
       "0.52"
      ],
      "text/markdown": [
       "0.52"
      ],
      "text/plain": [
       "[1] 0.52"
      ]
     },
     "metadata": {},
     "output_type": "display_data"
    }
   ],
   "source": [
    "#Estimation of completenesss of the Convoluted Fuzzy Match approach\n",
    "#Number of patent applicatiosn matched via Fuzzy Matchin\n",
    "nrow(Candidate_List)-sum(is.na(Candidate_List))\n",
    "\n",
    "# Fail Rate\n",
    "round(sum(is.na(Candidate_List))/nrow(Candidate_List),2)"
   ]
  },
  {
   "cell_type": "markdown",
   "metadata": {},
   "source": [
    "### 2.2.4) Post-Match Processing"
   ]
  },
  {
   "cell_type": "code",
   "execution_count": 27,
   "metadata": {},
   "outputs": [
    {
     "data": {
      "text/html": [
       "<ol class=list-inline>\n",
       "\t<li>'APPLICANT_MATCH_NAME'</li>\n",
       "\t<li>'Patent_number'</li>\n",
       "\t<li>'Person_ctry_code'</li>\n",
       "\t<li>'Applicant_Key_Word'</li>\n",
       "\t<li>'Patent_Match_Name'</li>\n",
       "\t<li>'PDL_Match_Name'</li>\n",
       "\t<li>'Person_ctry_code'</li>\n",
       "</ol>\n"
      ],
      "text/latex": [
       "\\begin{enumerate*}\n",
       "\\item 'APPLICANT\\_MATCH\\_NAME'\n",
       "\\item 'Patent\\_number'\n",
       "\\item 'Person\\_ctry\\_code'\n",
       "\\item 'Applicant\\_Key\\_Word'\n",
       "\\item 'Patent\\_Match\\_Name'\n",
       "\\item 'PDL\\_Match\\_Name'\n",
       "\\item 'Person\\_ctry\\_code'\n",
       "\\end{enumerate*}\n"
      ],
      "text/markdown": [
       "1. 'APPLICANT_MATCH_NAME'\n",
       "2. 'Patent_number'\n",
       "3. 'Person_ctry_code'\n",
       "4. 'Applicant_Key_Word'\n",
       "5. 'Patent_Match_Name'\n",
       "6. 'PDL_Match_Name'\n",
       "7. 'Person_ctry_code'\n",
       "\n",
       "\n"
      ],
      "text/plain": [
       "[1] \"APPLICANT_MATCH_NAME\" \"Patent_number\"        \"Person_ctry_code\"    \n",
       "[4] \"Applicant_Key_Word\"   \"Patent_Match_Name\"    \"PDL_Match_Name\"      \n",
       "[7] \"Person_ctry_code\"    "
      ]
     },
     "metadata": {},
     "output_type": "display_data"
    }
   ],
   "source": [
    "#Combine the pre-existing Applicants_Fuzzy Table with the Candidate_List\n",
    "Applicants_Fuzzy <- cbind(Applicants_Fuzzy, Candidate_List)\n",
    "colnames(Applicants_Fuzzy)"
   ]
  },
  {
   "cell_type": "code",
   "execution_count": 28,
   "metadata": {},
   "outputs": [
    {
     "data": {
      "text/html": [
       "<ol class=list-inline>\n",
       "\t<li>5008</li>\n",
       "\t<li>7</li>\n",
       "</ol>\n"
      ],
      "text/latex": [
       "\\begin{enumerate*}\n",
       "\\item 5008\n",
       "\\item 7\n",
       "\\end{enumerate*}\n"
      ],
      "text/markdown": [
       "1. 5008\n",
       "2. 7\n",
       "\n",
       "\n"
      ],
      "text/plain": [
       "[1] 5008    7"
      ]
     },
     "metadata": {},
     "output_type": "display_data"
    }
   ],
   "source": [
    "#Eliminate entries for which there is no PDL match by means of PDL_Match_Name\n",
    "Applicants_Fuzzy <- na.omit(Applicants_Fuzzy, col=6)\n",
    "\n",
    "#Consistency Check\n",
    "dim(Applicants_Fuzzy)"
   ]
  },
  {
   "cell_type": "code",
   "execution_count": 29,
   "metadata": {},
   "outputs": [
    {
     "data": {
      "text/html": [
       "<table>\n",
       "<thead><tr><th scope=col>APPLICANT_MATCH_NAME</th><th scope=col>Patent_number</th><th scope=col>Person_ctry_code</th><th scope=col>Applicant_Key_Word</th><th scope=col>Patent_Match_Name</th><th scope=col>PDL_Match_Name</th><th scope=col>Person_ctry_code</th></tr></thead>\n",
       "<tbody>\n",
       "\t<tr><td>12 SIGMA                          </td><td>WO2018026431                      </td><td>UNITED STATES                     </td><td>12                                </td><td>12 SIGMA                          </td><td>12 SIGMA TECHNOLOGIES             </td><td>UNITED STATES                     </td></tr>\n",
       "\t<tr><td>1QB INFORMATION                   </td><td>WO2017179011                      </td><td>CANADA                            </td><td>1QB                               </td><td>1QB INFORMATION                   </td><td>1QB INFORMATION TECHNOLOGIES 1QBIT</td><td>CANADA                            </td></tr>\n",
       "\t<tr><td>1QB INFORMATION                   </td><td>WO2019104443                      </td><td>CANADA                            </td><td>1QB                               </td><td>1QB INFORMATION                   </td><td>1QB INFORMATION TECHNOLOGIES 1QBIT</td><td>CANADA                            </td></tr>\n",
       "\t<tr><td>21ST CENTURY                      </td><td>WO2008060643                      </td><td>UNITED STATES                     </td><td>21ST                              </td><td>21ST CENTURY                      </td><td>21ST SENSORY                      </td><td>UNITED STATES                     </td></tr>\n",
       "\t<tr><td>24 7 AI                           </td><td>WO2019028261                      </td><td>UNITED STATES                     </td><td>24                                </td><td>24 7 AI                           </td><td>24 ALARM                          </td><td>UNITED STATES                     </td></tr>\n",
       "\t<tr><td>24 7 AI                           </td><td>WO2019104180                      </td><td>UNITED STATES                     </td><td>24                                </td><td>24 7 AI                           </td><td>24 ALARM                          </td><td>UNITED STATES                     </td></tr>\n",
       "</tbody>\n",
       "</table>\n"
      ],
      "text/latex": [
       "\\begin{tabular}{r|lllllll}\n",
       " APPLICANT\\_MATCH\\_NAME & Patent\\_number & Person\\_ctry\\_code & Applicant\\_Key\\_Word & Patent\\_Match\\_Name & PDL\\_Match\\_Name & Person\\_ctry\\_code\\\\\n",
       "\\hline\n",
       "\t 12 SIGMA                           & WO2018026431                       & UNITED STATES                      & 12                                 & 12 SIGMA                           & 12 SIGMA TECHNOLOGIES              & UNITED STATES                     \\\\\n",
       "\t 1QB INFORMATION                    & WO2017179011                       & CANADA                             & 1QB                                & 1QB INFORMATION                    & 1QB INFORMATION TECHNOLOGIES 1QBIT & CANADA                            \\\\\n",
       "\t 1QB INFORMATION                    & WO2019104443                       & CANADA                             & 1QB                                & 1QB INFORMATION                    & 1QB INFORMATION TECHNOLOGIES 1QBIT & CANADA                            \\\\\n",
       "\t 21ST CENTURY                       & WO2008060643                       & UNITED STATES                      & 21ST                               & 21ST CENTURY                       & 21ST SENSORY                       & UNITED STATES                     \\\\\n",
       "\t 24 7 AI                            & WO2019028261                       & UNITED STATES                      & 24                                 & 24 7 AI                            & 24 ALARM                           & UNITED STATES                     \\\\\n",
       "\t 24 7 AI                            & WO2019104180                       & UNITED STATES                      & 24                                 & 24 7 AI                            & 24 ALARM                           & UNITED STATES                     \\\\\n",
       "\\end{tabular}\n"
      ],
      "text/markdown": [
       "\n",
       "| APPLICANT_MATCH_NAME | Patent_number | Person_ctry_code | Applicant_Key_Word | Patent_Match_Name | PDL_Match_Name | Person_ctry_code |\n",
       "|---|---|---|---|---|---|---|\n",
       "| 12 SIGMA                           | WO2018026431                       | UNITED STATES                      | 12                                 | 12 SIGMA                           | 12 SIGMA TECHNOLOGIES              | UNITED STATES                      |\n",
       "| 1QB INFORMATION                    | WO2017179011                       | CANADA                             | 1QB                                | 1QB INFORMATION                    | 1QB INFORMATION TECHNOLOGIES 1QBIT | CANADA                             |\n",
       "| 1QB INFORMATION                    | WO2019104443                       | CANADA                             | 1QB                                | 1QB INFORMATION                    | 1QB INFORMATION TECHNOLOGIES 1QBIT | CANADA                             |\n",
       "| 21ST CENTURY                       | WO2008060643                       | UNITED STATES                      | 21ST                               | 21ST CENTURY                       | 21ST SENSORY                       | UNITED STATES                      |\n",
       "| 24 7 AI                            | WO2019028261                       | UNITED STATES                      | 24                                 | 24 7 AI                            | 24 ALARM                           | UNITED STATES                      |\n",
       "| 24 7 AI                            | WO2019104180                       | UNITED STATES                      | 24                                 | 24 7 AI                            | 24 ALARM                           | UNITED STATES                      |\n",
       "\n"
      ],
      "text/plain": [
       "  APPLICANT_MATCH_NAME Patent_number Person_ctry_code Applicant_Key_Word\n",
       "1 12 SIGMA             WO2018026431  UNITED STATES    12                \n",
       "2 1QB INFORMATION      WO2017179011  CANADA           1QB               \n",
       "3 1QB INFORMATION      WO2019104443  CANADA           1QB               \n",
       "4 21ST CENTURY         WO2008060643  UNITED STATES    21ST              \n",
       "5 24 7 AI              WO2019028261  UNITED STATES    24                \n",
       "6 24 7 AI              WO2019104180  UNITED STATES    24                \n",
       "  Patent_Match_Name PDL_Match_Name                     Person_ctry_code\n",
       "1 12 SIGMA          12 SIGMA TECHNOLOGIES              UNITED STATES   \n",
       "2 1QB INFORMATION   1QB INFORMATION TECHNOLOGIES 1QBIT CANADA          \n",
       "3 1QB INFORMATION   1QB INFORMATION TECHNOLOGIES 1QBIT CANADA          \n",
       "4 21ST CENTURY      21ST SENSORY                       UNITED STATES   \n",
       "5 24 7 AI           24 ALARM                           UNITED STATES   \n",
       "6 24 7 AI           24 ALARM                           UNITED STATES   "
      ]
     },
     "metadata": {},
     "output_type": "display_data"
    }
   ],
   "source": [
    "head(Applicants_Fuzzy)"
   ]
  },
  {
   "cell_type": "markdown",
   "metadata": {},
   "source": [
    "Complement 'Applicants_Fuzzy' with the remaining columns of the Indsutrial_Database (e.g. year of foundation, indsutry, size range, etc.)\n",
    "\n"
   ]
  },
  {
   "cell_type": "code",
   "execution_count": 30,
   "metadata": {},
   "outputs": [],
   "source": [
    "#set key columns thorugh which to merge datasets: Match Name and Country\n",
    "setkey(Industrial_Dataset, PDL_MATCH_NAME, COUNTRY)\n",
    "setkey(Applicants_Fuzzy, PDL_Match_Name, Person_ctry_code)"
   ]
  },
  {
   "cell_type": "code",
   "execution_count": 31,
   "metadata": {},
   "outputs": [
    {
     "data": {
      "text/html": [
       "<table>\n",
       "<thead><tr><th scope=col>PDL_ID</th><th scope=col>PDL_ORIGINAL_NAME</th><th scope=col>YEAR_FOUNDED</th><th scope=col>INDUSTRY</th><th scope=col>SIZE_RANGE</th><th scope=col>COUNTRY</th><th scope=col>PDL_MATCH_NAME</th><th scope=col>APPLICANT_MATCH_NAME</th><th scope=col>Patent_number</th><th scope=col>Person_ctry_code</th><th scope=col>Applicant_Key_Word</th></tr></thead>\n",
       "<tbody>\n",
       "\t<tr><td>2967870                             </td><td>12 SIGMA TECHNOLOGIES               </td><td>2015                                </td><td>COMPUTER SOFTWARE                   </td><td>11-50                               </td><td>UNITED STATES                       </td><td>12 SIGMA TECHNOLOGIES               </td><td>12 SIGMA                            </td><td>WO2018026431                        </td><td>UNITED STATES                       </td><td>12                                  </td></tr>\n",
       "\t<tr><td>1341365                             </td><td>1QB INFORMATION TECHNOLOGIES (1QBIT)</td><td>2012                                </td><td>INFORMATION TECHNOLOGY AND SERVICES </td><td>51-200                              </td><td>CANADA                              </td><td>1QB INFORMATION TECHNOLOGIES 1QBIT  </td><td>1QB INFORMATION                     </td><td>WO2017179011                        </td><td>CANADA                              </td><td>1QB                                 </td></tr>\n",
       "\t<tr><td>1341365                             </td><td>1QB INFORMATION TECHNOLOGIES (1QBIT)</td><td>2012                                </td><td>INFORMATION TECHNOLOGY AND SERVICES </td><td>51-200                              </td><td>CANADA                              </td><td>1QB INFORMATION TECHNOLOGIES 1QBIT  </td><td>1QB INFORMATION                     </td><td>WO2019104443                        </td><td>CANADA                              </td><td>1QB                                 </td></tr>\n",
       "\t<tr><td>6180902                             </td><td>21ST SENSORY                        </td><td>1994                                </td><td>RESEARCH                            </td><td>11-50                               </td><td>UNITED STATES                       </td><td>21ST SENSORY                        </td><td>21ST CENTURY                        </td><td>WO2008060643                        </td><td>UNITED STATES                       </td><td>21ST                                </td></tr>\n",
       "\t<tr><td>6646250                             </td><td>24 ALARM                            </td><td>2015                                </td><td>SECURITY AND INVESTIGATIONS         </td><td>1-10                                </td><td>UNITED STATES                       </td><td>24 ALARM                            </td><td>24 7 AI                             </td><td>WO2019028261                        </td><td>UNITED STATES                       </td><td>24                                  </td></tr>\n",
       "\t<tr><td>6646250                             </td><td>24 ALARM                            </td><td>2015                                </td><td>SECURITY AND INVESTIGATIONS         </td><td>1-10                                </td><td>UNITED STATES                       </td><td>24 ALARM                            </td><td>24 7 AI                             </td><td>WO2019104180                        </td><td>UNITED STATES                       </td><td>24                                  </td></tr>\n",
       "</tbody>\n",
       "</table>\n"
      ],
      "text/latex": [
       "\\begin{tabular}{r|lllllllllll}\n",
       " PDL\\_ID & PDL\\_ORIGINAL\\_NAME & YEAR\\_FOUNDED & INDUSTRY & SIZE\\_RANGE & COUNTRY & PDL\\_MATCH\\_NAME & APPLICANT\\_MATCH\\_NAME & Patent\\_number & Person\\_ctry\\_code & Applicant\\_Key\\_Word\\\\\n",
       "\\hline\n",
       "\t 2967870                              & 12 SIGMA TECHNOLOGIES                & 2015                                 & COMPUTER SOFTWARE                    & 11-50                                & UNITED STATES                        & 12 SIGMA TECHNOLOGIES                & 12 SIGMA                             & WO2018026431                         & UNITED STATES                        & 12                                  \\\\\n",
       "\t 1341365                              & 1QB INFORMATION TECHNOLOGIES (1QBIT) & 2012                                 & INFORMATION TECHNOLOGY AND SERVICES  & 51-200                               & CANADA                               & 1QB INFORMATION TECHNOLOGIES 1QBIT   & 1QB INFORMATION                      & WO2017179011                         & CANADA                               & 1QB                                 \\\\\n",
       "\t 1341365                              & 1QB INFORMATION TECHNOLOGIES (1QBIT) & 2012                                 & INFORMATION TECHNOLOGY AND SERVICES  & 51-200                               & CANADA                               & 1QB INFORMATION TECHNOLOGIES 1QBIT   & 1QB INFORMATION                      & WO2019104443                         & CANADA                               & 1QB                                 \\\\\n",
       "\t 6180902                              & 21ST SENSORY                         & 1994                                 & RESEARCH                             & 11-50                                & UNITED STATES                        & 21ST SENSORY                         & 21ST CENTURY                         & WO2008060643                         & UNITED STATES                        & 21ST                                \\\\\n",
       "\t 6646250                              & 24 ALARM                             & 2015                                 & SECURITY AND INVESTIGATIONS          & 1-10                                 & UNITED STATES                        & 24 ALARM                             & 24 7 AI                              & WO2019028261                         & UNITED STATES                        & 24                                  \\\\\n",
       "\t 6646250                              & 24 ALARM                             & 2015                                 & SECURITY AND INVESTIGATIONS          & 1-10                                 & UNITED STATES                        & 24 ALARM                             & 24 7 AI                              & WO2019104180                         & UNITED STATES                        & 24                                  \\\\\n",
       "\\end{tabular}\n"
      ],
      "text/markdown": [
       "\n",
       "| PDL_ID | PDL_ORIGINAL_NAME | YEAR_FOUNDED | INDUSTRY | SIZE_RANGE | COUNTRY | PDL_MATCH_NAME | APPLICANT_MATCH_NAME | Patent_number | Person_ctry_code | Applicant_Key_Word |\n",
       "|---|---|---|---|---|---|---|---|---|---|---|\n",
       "| 2967870                              | 12 SIGMA TECHNOLOGIES                | 2015                                 | COMPUTER SOFTWARE                    | 11-50                                | UNITED STATES                        | 12 SIGMA TECHNOLOGIES                | 12 SIGMA                             | WO2018026431                         | UNITED STATES                        | 12                                   |\n",
       "| 1341365                              | 1QB INFORMATION TECHNOLOGIES (1QBIT) | 2012                                 | INFORMATION TECHNOLOGY AND SERVICES  | 51-200                               | CANADA                               | 1QB INFORMATION TECHNOLOGIES 1QBIT   | 1QB INFORMATION                      | WO2017179011                         | CANADA                               | 1QB                                  |\n",
       "| 1341365                              | 1QB INFORMATION TECHNOLOGIES (1QBIT) | 2012                                 | INFORMATION TECHNOLOGY AND SERVICES  | 51-200                               | CANADA                               | 1QB INFORMATION TECHNOLOGIES 1QBIT   | 1QB INFORMATION                      | WO2019104443                         | CANADA                               | 1QB                                  |\n",
       "| 6180902                              | 21ST SENSORY                         | 1994                                 | RESEARCH                             | 11-50                                | UNITED STATES                        | 21ST SENSORY                         | 21ST CENTURY                         | WO2008060643                         | UNITED STATES                        | 21ST                                 |\n",
       "| 6646250                              | 24 ALARM                             | 2015                                 | SECURITY AND INVESTIGATIONS          | 1-10                                 | UNITED STATES                        | 24 ALARM                             | 24 7 AI                              | WO2019028261                         | UNITED STATES                        | 24                                   |\n",
       "| 6646250                              | 24 ALARM                             | 2015                                 | SECURITY AND INVESTIGATIONS          | 1-10                                 | UNITED STATES                        | 24 ALARM                             | 24 7 AI                              | WO2019104180                         | UNITED STATES                        | 24                                   |\n",
       "\n"
      ],
      "text/plain": [
       "  PDL_ID  PDL_ORIGINAL_NAME                    YEAR_FOUNDED\n",
       "1 2967870 12 SIGMA TECHNOLOGIES                2015        \n",
       "2 1341365 1QB INFORMATION TECHNOLOGIES (1QBIT) 2012        \n",
       "3 1341365 1QB INFORMATION TECHNOLOGIES (1QBIT) 2012        \n",
       "4 6180902 21ST SENSORY                         1994        \n",
       "5 6646250 24 ALARM                             2015        \n",
       "6 6646250 24 ALARM                             2015        \n",
       "  INDUSTRY                            SIZE_RANGE COUNTRY      \n",
       "1 COMPUTER SOFTWARE                   11-50      UNITED STATES\n",
       "2 INFORMATION TECHNOLOGY AND SERVICES 51-200     CANADA       \n",
       "3 INFORMATION TECHNOLOGY AND SERVICES 51-200     CANADA       \n",
       "4 RESEARCH                            11-50      UNITED STATES\n",
       "5 SECURITY AND INVESTIGATIONS         1-10       UNITED STATES\n",
       "6 SECURITY AND INVESTIGATIONS         1-10       UNITED STATES\n",
       "  PDL_MATCH_NAME                     APPLICANT_MATCH_NAME Patent_number\n",
       "1 12 SIGMA TECHNOLOGIES              12 SIGMA             WO2018026431 \n",
       "2 1QB INFORMATION TECHNOLOGIES 1QBIT 1QB INFORMATION      WO2017179011 \n",
       "3 1QB INFORMATION TECHNOLOGIES 1QBIT 1QB INFORMATION      WO2019104443 \n",
       "4 21ST SENSORY                       21ST CENTURY         WO2008060643 \n",
       "5 24 ALARM                           24 7 AI              WO2019028261 \n",
       "6 24 ALARM                           24 7 AI              WO2019104180 \n",
       "  Person_ctry_code Applicant_Key_Word\n",
       "1 UNITED STATES    12                \n",
       "2 CANADA           1QB               \n",
       "3 CANADA           1QB               \n",
       "4 UNITED STATES    21ST              \n",
       "5 UNITED STATES    24                \n",
       "6 UNITED STATES    24                "
      ]
     },
     "metadata": {},
     "output_type": "display_data"
    }
   ],
   "source": [
    "#Merge datasets:\n",
    "Applicants_Fuzzy <- Industrial_Dataset[Applicants_Fuzzy, .(PDL_ID, PDL_ORIGINAL_NAME, YEAR_FOUNDED, INDUSTRY, SIZE_RANGE,\n",
    "                                                   COUNTRY, PDL_MATCH_NAME, APPLICANT_MATCH_NAME, Patent_number,\n",
    "                                                   Person_ctry_code, Applicant_Key_Word)]\n",
    "head(Applicants_Fuzzy)"
   ]
  },
  {
   "cell_type": "code",
   "execution_count": 32,
   "metadata": {},
   "outputs": [
    {
     "data": {
      "text/html": [
       "<table>\n",
       "<thead><tr><th scope=col>PDL_ID</th><th scope=col>PDL_ORIGINAL_NAME</th><th scope=col>YEAR_FOUNDED</th><th scope=col>INDUSTRY</th><th scope=col>SIZE_RANGE</th><th scope=col>COUNTRY</th><th scope=col>PDL_MATCH_NAME</th><th scope=col>APPLICANT_MATCH_NAME</th><th scope=col>Patent_number</th><th scope=col>Person_ctry_code</th><th scope=col>Applicant_Key_Word</th><th scope=col>COUNTRY_MATCH</th><th scope=col>METHOD</th></tr></thead>\n",
       "<tbody>\n",
       "\t<tr><td>2967870                             </td><td>12 SIGMA TECHNOLOGIES               </td><td>2015                                </td><td>COMPUTER SOFTWARE                   </td><td>11-50                               </td><td>UNITED STATES                       </td><td>12 SIGMA TECHNOLOGIES               </td><td>12 SIGMA                            </td><td>WO2018026431                        </td><td>UNITED STATES                       </td><td>12                                  </td><td>TRUE                                </td><td>Fuzzy_Match                         </td></tr>\n",
       "\t<tr><td>1341365                             </td><td>1QB INFORMATION TECHNOLOGIES (1QBIT)</td><td>2012                                </td><td>INFORMATION TECHNOLOGY AND SERVICES </td><td>51-200                              </td><td>CANADA                              </td><td>1QB INFORMATION TECHNOLOGIES 1QBIT  </td><td>1QB INFORMATION                     </td><td>WO2017179011                        </td><td>CANADA                              </td><td>1QB                                 </td><td>TRUE                                </td><td>Fuzzy_Match                         </td></tr>\n",
       "\t<tr><td>1341365                             </td><td>1QB INFORMATION TECHNOLOGIES (1QBIT)</td><td>2012                                </td><td>INFORMATION TECHNOLOGY AND SERVICES </td><td>51-200                              </td><td>CANADA                              </td><td>1QB INFORMATION TECHNOLOGIES 1QBIT  </td><td>1QB INFORMATION                     </td><td>WO2019104443                        </td><td>CANADA                              </td><td>1QB                                 </td><td>TRUE                                </td><td>Fuzzy_Match                         </td></tr>\n",
       "\t<tr><td>6180902                             </td><td>21ST SENSORY                        </td><td>1994                                </td><td>RESEARCH                            </td><td>11-50                               </td><td>UNITED STATES                       </td><td>21ST SENSORY                        </td><td>21ST CENTURY                        </td><td>WO2008060643                        </td><td>UNITED STATES                       </td><td>21ST                                </td><td>TRUE                                </td><td>Fuzzy_Match                         </td></tr>\n",
       "\t<tr><td>6646250                             </td><td>24 ALARM                            </td><td>2015                                </td><td>SECURITY AND INVESTIGATIONS         </td><td>1-10                                </td><td>UNITED STATES                       </td><td>24 ALARM                            </td><td>24 7 AI                             </td><td>WO2019028261                        </td><td>UNITED STATES                       </td><td>24                                  </td><td>TRUE                                </td><td>Fuzzy_Match                         </td></tr>\n",
       "\t<tr><td>6646250                             </td><td>24 ALARM                            </td><td>2015                                </td><td>SECURITY AND INVESTIGATIONS         </td><td>1-10                                </td><td>UNITED STATES                       </td><td>24 ALARM                            </td><td>24 7 AI                             </td><td>WO2019104180                        </td><td>UNITED STATES                       </td><td>24                                  </td><td>TRUE                                </td><td>Fuzzy_Match                         </td></tr>\n",
       "</tbody>\n",
       "</table>\n"
      ],
      "text/latex": [
       "\\begin{tabular}{r|lllllllllllll}\n",
       " PDL\\_ID & PDL\\_ORIGINAL\\_NAME & YEAR\\_FOUNDED & INDUSTRY & SIZE\\_RANGE & COUNTRY & PDL\\_MATCH\\_NAME & APPLICANT\\_MATCH\\_NAME & Patent\\_number & Person\\_ctry\\_code & Applicant\\_Key\\_Word & COUNTRY\\_MATCH & METHOD\\\\\n",
       "\\hline\n",
       "\t 2967870                              & 12 SIGMA TECHNOLOGIES                & 2015                                 & COMPUTER SOFTWARE                    & 11-50                                & UNITED STATES                        & 12 SIGMA TECHNOLOGIES                & 12 SIGMA                             & WO2018026431                         & UNITED STATES                        & 12                                   & TRUE                                 & Fuzzy\\_Match                       \\\\\n",
       "\t 1341365                              & 1QB INFORMATION TECHNOLOGIES (1QBIT) & 2012                                 & INFORMATION TECHNOLOGY AND SERVICES  & 51-200                               & CANADA                               & 1QB INFORMATION TECHNOLOGIES 1QBIT   & 1QB INFORMATION                      & WO2017179011                         & CANADA                               & 1QB                                  & TRUE                                 & Fuzzy\\_Match                       \\\\\n",
       "\t 1341365                              & 1QB INFORMATION TECHNOLOGIES (1QBIT) & 2012                                 & INFORMATION TECHNOLOGY AND SERVICES  & 51-200                               & CANADA                               & 1QB INFORMATION TECHNOLOGIES 1QBIT   & 1QB INFORMATION                      & WO2019104443                         & CANADA                               & 1QB                                  & TRUE                                 & Fuzzy\\_Match                       \\\\\n",
       "\t 6180902                              & 21ST SENSORY                         & 1994                                 & RESEARCH                             & 11-50                                & UNITED STATES                        & 21ST SENSORY                         & 21ST CENTURY                         & WO2008060643                         & UNITED STATES                        & 21ST                                 & TRUE                                 & Fuzzy\\_Match                       \\\\\n",
       "\t 6646250                              & 24 ALARM                             & 2015                                 & SECURITY AND INVESTIGATIONS          & 1-10                                 & UNITED STATES                        & 24 ALARM                             & 24 7 AI                              & WO2019028261                         & UNITED STATES                        & 24                                   & TRUE                                 & Fuzzy\\_Match                       \\\\\n",
       "\t 6646250                              & 24 ALARM                             & 2015                                 & SECURITY AND INVESTIGATIONS          & 1-10                                 & UNITED STATES                        & 24 ALARM                             & 24 7 AI                              & WO2019104180                         & UNITED STATES                        & 24                                   & TRUE                                 & Fuzzy\\_Match                       \\\\\n",
       "\\end{tabular}\n"
      ],
      "text/markdown": [
       "\n",
       "| PDL_ID | PDL_ORIGINAL_NAME | YEAR_FOUNDED | INDUSTRY | SIZE_RANGE | COUNTRY | PDL_MATCH_NAME | APPLICANT_MATCH_NAME | Patent_number | Person_ctry_code | Applicant_Key_Word | COUNTRY_MATCH | METHOD |\n",
       "|---|---|---|---|---|---|---|---|---|---|---|---|---|\n",
       "| 2967870                              | 12 SIGMA TECHNOLOGIES                | 2015                                 | COMPUTER SOFTWARE                    | 11-50                                | UNITED STATES                        | 12 SIGMA TECHNOLOGIES                | 12 SIGMA                             | WO2018026431                         | UNITED STATES                        | 12                                   | TRUE                                 | Fuzzy_Match                          |\n",
       "| 1341365                              | 1QB INFORMATION TECHNOLOGIES (1QBIT) | 2012                                 | INFORMATION TECHNOLOGY AND SERVICES  | 51-200                               | CANADA                               | 1QB INFORMATION TECHNOLOGIES 1QBIT   | 1QB INFORMATION                      | WO2017179011                         | CANADA                               | 1QB                                  | TRUE                                 | Fuzzy_Match                          |\n",
       "| 1341365                              | 1QB INFORMATION TECHNOLOGIES (1QBIT) | 2012                                 | INFORMATION TECHNOLOGY AND SERVICES  | 51-200                               | CANADA                               | 1QB INFORMATION TECHNOLOGIES 1QBIT   | 1QB INFORMATION                      | WO2019104443                         | CANADA                               | 1QB                                  | TRUE                                 | Fuzzy_Match                          |\n",
       "| 6180902                              | 21ST SENSORY                         | 1994                                 | RESEARCH                             | 11-50                                | UNITED STATES                        | 21ST SENSORY                         | 21ST CENTURY                         | WO2008060643                         | UNITED STATES                        | 21ST                                 | TRUE                                 | Fuzzy_Match                          |\n",
       "| 6646250                              | 24 ALARM                             | 2015                                 | SECURITY AND INVESTIGATIONS          | 1-10                                 | UNITED STATES                        | 24 ALARM                             | 24 7 AI                              | WO2019028261                         | UNITED STATES                        | 24                                   | TRUE                                 | Fuzzy_Match                          |\n",
       "| 6646250                              | 24 ALARM                             | 2015                                 | SECURITY AND INVESTIGATIONS          | 1-10                                 | UNITED STATES                        | 24 ALARM                             | 24 7 AI                              | WO2019104180                         | UNITED STATES                        | 24                                   | TRUE                                 | Fuzzy_Match                          |\n",
       "\n"
      ],
      "text/plain": [
       "  PDL_ID  PDL_ORIGINAL_NAME                    YEAR_FOUNDED\n",
       "1 2967870 12 SIGMA TECHNOLOGIES                2015        \n",
       "2 1341365 1QB INFORMATION TECHNOLOGIES (1QBIT) 2012        \n",
       "3 1341365 1QB INFORMATION TECHNOLOGIES (1QBIT) 2012        \n",
       "4 6180902 21ST SENSORY                         1994        \n",
       "5 6646250 24 ALARM                             2015        \n",
       "6 6646250 24 ALARM                             2015        \n",
       "  INDUSTRY                            SIZE_RANGE COUNTRY      \n",
       "1 COMPUTER SOFTWARE                   11-50      UNITED STATES\n",
       "2 INFORMATION TECHNOLOGY AND SERVICES 51-200     CANADA       \n",
       "3 INFORMATION TECHNOLOGY AND SERVICES 51-200     CANADA       \n",
       "4 RESEARCH                            11-50      UNITED STATES\n",
       "5 SECURITY AND INVESTIGATIONS         1-10       UNITED STATES\n",
       "6 SECURITY AND INVESTIGATIONS         1-10       UNITED STATES\n",
       "  PDL_MATCH_NAME                     APPLICANT_MATCH_NAME Patent_number\n",
       "1 12 SIGMA TECHNOLOGIES              12 SIGMA             WO2018026431 \n",
       "2 1QB INFORMATION TECHNOLOGIES 1QBIT 1QB INFORMATION      WO2017179011 \n",
       "3 1QB INFORMATION TECHNOLOGIES 1QBIT 1QB INFORMATION      WO2019104443 \n",
       "4 21ST SENSORY                       21ST CENTURY         WO2008060643 \n",
       "5 24 ALARM                           24 7 AI              WO2019028261 \n",
       "6 24 ALARM                           24 7 AI              WO2019104180 \n",
       "  Person_ctry_code Applicant_Key_Word COUNTRY_MATCH METHOD     \n",
       "1 UNITED STATES    12                 TRUE          Fuzzy_Match\n",
       "2 CANADA           1QB                TRUE          Fuzzy_Match\n",
       "3 CANADA           1QB                TRUE          Fuzzy_Match\n",
       "4 UNITED STATES    21ST               TRUE          Fuzzy_Match\n",
       "5 UNITED STATES    24                 TRUE          Fuzzy_Match\n",
       "6 UNITED STATES    24                 TRUE          Fuzzy_Match"
      ]
     },
     "metadata": {},
     "output_type": "display_data"
    }
   ],
   "source": [
    "# Add columns indicating the combination method and wether the Country in the Indsutrial_Dataset matched with the 'Person_ctry_code'\n",
    "#in the patent datast\n",
    "Applicants_Fuzzy <- Applicants_Fuzzy[, COUNTRY_MATCH := Applicants_Fuzzy$COUNTRY==Applicants_Fuzzy$Person_ctry_code]\n",
    "Applicants_Fuzzy <- Applicants_Fuzzy[, METHOD := \"Fuzzy_Match\"]\n",
    "head(Applicants_Fuzzy)"
   ]
  },
  {
   "cell_type": "markdown",
   "metadata": {},
   "source": [
    "## 2.3) Combination Direct Match and Fuzzy Match Tables"
   ]
  },
  {
   "cell_type": "code",
   "execution_count": 33,
   "metadata": {},
   "outputs": [
    {
     "data": {
      "text/html": [
       "<ol class=list-inline>\n",
       "\t<li>'PDL_ID'</li>\n",
       "\t<li>'PDL_ORIGINAL_NAME'</li>\n",
       "\t<li>'YEAR_FOUNDED'</li>\n",
       "\t<li>'INDUSTRY'</li>\n",
       "\t<li>'SIZE_RANGE'</li>\n",
       "\t<li>'COUNTRY'</li>\n",
       "\t<li>'PDL_MATCH_NAME'</li>\n",
       "\t<li>'APPLICANT_MATCH_NAME'</li>\n",
       "\t<li>'Patent_number'</li>\n",
       "\t<li>'Person_ctry_code'</li>\n",
       "\t<li>'Applicant_Key_Word'</li>\n",
       "\t<li>'COUNTRY_MATCH'</li>\n",
       "\t<li>'METHOD'</li>\n",
       "</ol>\n"
      ],
      "text/latex": [
       "\\begin{enumerate*}\n",
       "\\item 'PDL\\_ID'\n",
       "\\item 'PDL\\_ORIGINAL\\_NAME'\n",
       "\\item 'YEAR\\_FOUNDED'\n",
       "\\item 'INDUSTRY'\n",
       "\\item 'SIZE\\_RANGE'\n",
       "\\item 'COUNTRY'\n",
       "\\item 'PDL\\_MATCH\\_NAME'\n",
       "\\item 'APPLICANT\\_MATCH\\_NAME'\n",
       "\\item 'Patent\\_number'\n",
       "\\item 'Person\\_ctry\\_code'\n",
       "\\item 'Applicant\\_Key\\_Word'\n",
       "\\item 'COUNTRY\\_MATCH'\n",
       "\\item 'METHOD'\n",
       "\\end{enumerate*}\n"
      ],
      "text/markdown": [
       "1. 'PDL_ID'\n",
       "2. 'PDL_ORIGINAL_NAME'\n",
       "3. 'YEAR_FOUNDED'\n",
       "4. 'INDUSTRY'\n",
       "5. 'SIZE_RANGE'\n",
       "6. 'COUNTRY'\n",
       "7. 'PDL_MATCH_NAME'\n",
       "8. 'APPLICANT_MATCH_NAME'\n",
       "9. 'Patent_number'\n",
       "10. 'Person_ctry_code'\n",
       "11. 'Applicant_Key_Word'\n",
       "12. 'COUNTRY_MATCH'\n",
       "13. 'METHOD'\n",
       "\n",
       "\n"
      ],
      "text/plain": [
       " [1] \"PDL_ID\"               \"PDL_ORIGINAL_NAME\"    \"YEAR_FOUNDED\"        \n",
       " [4] \"INDUSTRY\"             \"SIZE_RANGE\"           \"COUNTRY\"             \n",
       " [7] \"PDL_MATCH_NAME\"       \"APPLICANT_MATCH_NAME\" \"Patent_number\"       \n",
       "[10] \"Person_ctry_code\"     \"Applicant_Key_Word\"   \"COUNTRY_MATCH\"       \n",
       "[13] \"METHOD\"              "
      ]
     },
     "metadata": {},
     "output_type": "display_data"
    },
    {
     "data": {
      "text/html": [
       "<ol class=list-inline>\n",
       "\t<li>'PDL_ID'</li>\n",
       "\t<li>'PDL_ORIGINAL_NAME'</li>\n",
       "\t<li>'YEAR_FOUNDED'</li>\n",
       "\t<li>'INDUSTRY'</li>\n",
       "\t<li>'SIZE_RANGE'</li>\n",
       "\t<li>'COUNTRY'</li>\n",
       "\t<li>'PDL_MATCH_NAME'</li>\n",
       "\t<li>'APPLICANT_MATCH_NAME'</li>\n",
       "\t<li>'Patent_number'</li>\n",
       "\t<li>'Person_ctry_code'</li>\n",
       "\t<li>'Applicant_Key_Word'</li>\n",
       "\t<li>'COUNTRY_MATCH'</li>\n",
       "\t<li>'METHOD'</li>\n",
       "</ol>\n"
      ],
      "text/latex": [
       "\\begin{enumerate*}\n",
       "\\item 'PDL\\_ID'\n",
       "\\item 'PDL\\_ORIGINAL\\_NAME'\n",
       "\\item 'YEAR\\_FOUNDED'\n",
       "\\item 'INDUSTRY'\n",
       "\\item 'SIZE\\_RANGE'\n",
       "\\item 'COUNTRY'\n",
       "\\item 'PDL\\_MATCH\\_NAME'\n",
       "\\item 'APPLICANT\\_MATCH\\_NAME'\n",
       "\\item 'Patent\\_number'\n",
       "\\item 'Person\\_ctry\\_code'\n",
       "\\item 'Applicant\\_Key\\_Word'\n",
       "\\item 'COUNTRY\\_MATCH'\n",
       "\\item 'METHOD'\n",
       "\\end{enumerate*}\n"
      ],
      "text/markdown": [
       "1. 'PDL_ID'\n",
       "2. 'PDL_ORIGINAL_NAME'\n",
       "3. 'YEAR_FOUNDED'\n",
       "4. 'INDUSTRY'\n",
       "5. 'SIZE_RANGE'\n",
       "6. 'COUNTRY'\n",
       "7. 'PDL_MATCH_NAME'\n",
       "8. 'APPLICANT_MATCH_NAME'\n",
       "9. 'Patent_number'\n",
       "10. 'Person_ctry_code'\n",
       "11. 'Applicant_Key_Word'\n",
       "12. 'COUNTRY_MATCH'\n",
       "13. 'METHOD'\n",
       "\n",
       "\n"
      ],
      "text/plain": [
       " [1] \"PDL_ID\"               \"PDL_ORIGINAL_NAME\"    \"YEAR_FOUNDED\"        \n",
       " [4] \"INDUSTRY\"             \"SIZE_RANGE\"           \"COUNTRY\"             \n",
       " [7] \"PDL_MATCH_NAME\"       \"APPLICANT_MATCH_NAME\" \"Patent_number\"       \n",
       "[10] \"Person_ctry_code\"     \"Applicant_Key_Word\"   \"COUNTRY_MATCH\"       \n",
       "[13] \"METHOD\"              "
      ]
     },
     "metadata": {},
     "output_type": "display_data"
    },
    {
     "data": {
      "text/html": [
       "<ol class=list-inline>\n",
       "\t<li>TRUE</li>\n",
       "\t<li>TRUE</li>\n",
       "\t<li>TRUE</li>\n",
       "\t<li>TRUE</li>\n",
       "\t<li>TRUE</li>\n",
       "\t<li>TRUE</li>\n",
       "\t<li>TRUE</li>\n",
       "\t<li>TRUE</li>\n",
       "\t<li>TRUE</li>\n",
       "\t<li>TRUE</li>\n",
       "\t<li>TRUE</li>\n",
       "\t<li>TRUE</li>\n",
       "\t<li>TRUE</li>\n",
       "</ol>\n"
      ],
      "text/latex": [
       "\\begin{enumerate*}\n",
       "\\item TRUE\n",
       "\\item TRUE\n",
       "\\item TRUE\n",
       "\\item TRUE\n",
       "\\item TRUE\n",
       "\\item TRUE\n",
       "\\item TRUE\n",
       "\\item TRUE\n",
       "\\item TRUE\n",
       "\\item TRUE\n",
       "\\item TRUE\n",
       "\\item TRUE\n",
       "\\item TRUE\n",
       "\\end{enumerate*}\n"
      ],
      "text/markdown": [
       "1. TRUE\n",
       "2. TRUE\n",
       "3. TRUE\n",
       "4. TRUE\n",
       "5. TRUE\n",
       "6. TRUE\n",
       "7. TRUE\n",
       "8. TRUE\n",
       "9. TRUE\n",
       "10. TRUE\n",
       "11. TRUE\n",
       "12. TRUE\n",
       "13. TRUE\n",
       "\n",
       "\n"
      ],
      "text/plain": [
       " [1] TRUE TRUE TRUE TRUE TRUE TRUE TRUE TRUE TRUE TRUE TRUE TRUE TRUE"
      ]
     },
     "metadata": {},
     "output_type": "display_data"
    }
   ],
   "source": [
    "#check column consistency between tables\n",
    "colnames(Direct_Match)\n",
    "colnames(Applicants_Fuzzy)\n",
    "colnames(Direct_Match)==colnames(Applicants_Fuzzy)"
   ]
  },
  {
   "cell_type": "code",
   "execution_count": 34,
   "metadata": {},
   "outputs": [
    {
     "data": {
      "text/html": [
       "<ol class=list-inline>\n",
       "\t<li>13932</li>\n",
       "\t<li>13</li>\n",
       "</ol>\n"
      ],
      "text/latex": [
       "\\begin{enumerate*}\n",
       "\\item 13932\n",
       "\\item 13\n",
       "\\end{enumerate*}\n"
      ],
      "text/markdown": [
       "1. 13932\n",
       "2. 13\n",
       "\n",
       "\n"
      ],
      "text/plain": [
       "[1] 13932    13"
      ]
     },
     "metadata": {},
     "output_type": "display_data"
    }
   ],
   "source": [
    "#Matched Applicats in one table\n",
    "Matched_Applicants <- rbind(Direct_Match,Applicants_Fuzzy)\n",
    "dim(Matched_Applicants)"
   ]
  },
  {
   "cell_type": "markdown",
   "metadata": {},
   "source": [
    "## 2.4) Industrial-Patent Dataset: Combination Matched Applicants and Patent Dataset"
   ]
  },
  {
   "cell_type": "code",
   "execution_count": 35,
   "metadata": {},
   "outputs": [],
   "source": [
    "#set column keys\n",
    "setkey(Patent_Dataset, Patent_number, APPLICANT_MATCH_NAME, Person_ctry_code)\n",
    "setkey(Matched_Applicants, Patent_number, APPLICANT_MATCH_NAME, Person_ctry_code)"
   ]
  },
  {
   "cell_type": "code",
   "execution_count": 36,
   "metadata": {},
   "outputs": [
    {
     "data": {
      "text/html": [
       "<ol class=list-inline>\n",
       "\t<li>22155</li>\n",
       "\t<li>62</li>\n",
       "</ol>\n"
      ],
      "text/latex": [
       "\\begin{enumerate*}\n",
       "\\item 22155\n",
       "\\item 62\n",
       "\\end{enumerate*}\n"
      ],
      "text/markdown": [
       "1. 22155\n",
       "2. 62\n",
       "\n",
       "\n"
      ],
      "text/plain": [
       "[1] 22155    62"
      ]
     },
     "metadata": {},
     "output_type": "display_data"
    },
    {
     "data": {
      "text/html": [
       "<table>\n",
       "<thead><tr><th scope=col>PDL_ID</th><th scope=col>PDL_ORIGINAL_NAME</th><th scope=col>YEAR_FOUNDED</th><th scope=col>INDUSTRY</th><th scope=col>SIZE_RANGE</th><th scope=col>COUNTRY</th><th scope=col>PDL_MATCH_NAME</th><th scope=col>APPLICANT_MATCH_NAME</th><th scope=col>Patent_number</th><th scope=col>Person_ctry_code</th><th scope=col>...</th><th scope=col>Speech Processing</th><th scope=col>Telecommunications</th><th scope=col>Transportation</th><th scope=col>Field_Applications</th><th scope=col>Functional_Applications</th><th scope=col>Techniques</th><th scope=col>Applicant_Type</th><th scope=col>i.Applicant_Key_Word</th><th scope=col>Multiple_Applicants</th><th scope=col>GPT_Scope</th></tr></thead>\n",
       "<tbody>\n",
       "\t<tr><td><span style=white-space:pre-wrap>     NA</span>                                            </td><td><span style=white-space:pre-wrap>NA                  </span>                               </td><td><span style=white-space:pre-wrap>  NA</span>                                               </td><td><span style=white-space:pre-wrap>NA                                 </span>                </td><td><span style=white-space:pre-wrap>NA    </span>                                             </td><td><span style=white-space:pre-wrap>NA           </span>                                      </td><td><span style=white-space:pre-wrap>NA            </span>                                     </td><td>SYSTRAN INSTITUT GES FUR FORSCHUNG &amp; ENTWICKLUNG MASCHINELLER SPRACHUBERSETZUNGSSYSTEME</td><td>EP0012777                                                                                  </td><td><span style=white-space:pre-wrap>GERMANY      </span>                                      </td><td>...                                                                                        </td><td>0                                                                                          </td><td>0                                                                                          </td><td>1                                                                                          </td><td>1                                                                                          </td><td>1                                                                                          </td><td>1                                                                                          </td><td>Enterprise                                                                                 </td><td>SYSTRAN                                                                                    </td><td>FALSE                                                                                      </td><td>Applied_AI                                                                                 </td></tr>\n",
       "\t<tr><td>5872184                                                                                                                        </td><td><span style=white-space:pre-wrap>IBM                 </span>                                                                   </td><td>1911                                                                                                                           </td><td>INFORMATION TECHNOLOGY AND SERVICES                                                                                            </td><td>&gt;10000                                                                                                                      </td><td>UNITED STATES                                                                                                                  </td><td><span style=white-space:pre-wrap>IBM           </span>                                                                         </td><td><span style=white-space:pre-wrap>IBM                                                                                    </span></td><td>EP0039393                                                                                                                      </td><td>UNITED STATES                                                                                                                  </td><td>...                                                                                                                            </td><td>0                                                                                                                              </td><td>0                                                                                                                              </td><td>0                                                                                                                              </td><td>1                                                                                                                              </td><td>1                                                                                                                              </td><td>1                                                                                                                              </td><td>Enterprise                                                                                                                     </td><td><span style=white-space:pre-wrap>IBM    </span>                                                                                </td><td>FALSE                                                                                                                          </td><td>Applied_AI                                                                                                                     </td></tr>\n",
       "\t<tr><td>2567154                                                                                </td><td>IBM                                                                                    </td><td>1914                                                                                   </td><td>INFORMATION TECHNOLOGY AND SERVICES                                                    </td><td>1-10                                                                                   </td><td>FRANCE                                                                                 </td><td>IBM                                                                                    </td><td>IBM                                                                                    </td><td>EP0039393                                                                              </td><td>UNITED STATES                                                                          </td><td>...                                                                                    </td><td>0                                                                                      </td><td>0                                                                                      </td><td>0                                                                                      </td><td>1                                                                                      </td><td>1                                                                                      </td><td>1                                                                                      </td><td>Enterprise                                                                             </td><td>IBM                                                                                    </td><td>FALSE                                                                                  </td><td>Applied_AI                                                                             </td></tr>\n",
       "\t<tr><td>5479744                                                                                </td><td>IBM                                                                                    </td><td>2003                                                                                   </td><td>COMPUTER SOFTWARE                                                                      </td><td>1-10                                                                                   </td><td>ISRAEL                                                                                 </td><td>IBM                                                                                    </td><td>IBM                                                                                    </td><td>EP0039393                                                                              </td><td>UNITED STATES                                                                          </td><td>...                                                                                    </td><td>0                                                                                      </td><td>0                                                                                      </td><td>0                                                                                      </td><td>1                                                                                      </td><td>1                                                                                      </td><td>1                                                                                      </td><td>Enterprise                                                                             </td><td>IBM                                                                                    </td><td>FALSE                                                                                  </td><td>Applied_AI                                                                             </td></tr>\n",
       "\t<tr><td>     NA                                                                                </td><td>NA                                                                                     </td><td>  NA                                                                                   </td><td>NA                                                                                     </td><td>NA                                                                                     </td><td>NA                                                                                     </td><td>NA                                                                                     </td><td>STEULER INDUSTRIEWERKE                                                                 </td><td>EP0059929                                                                              </td><td>GERMANY                                                                                </td><td>...                                                                                    </td><td>0                                                                                      </td><td>0                                                                                      </td><td>0                                                                                      </td><td>1                                                                                      </td><td>0                                                                                      </td><td>0                                                                                      </td><td>Enterprise                                                                             </td><td>STEULER                                                                                </td><td>FALSE                                                                                  </td><td>Applied_AI                                                                             </td></tr>\n",
       "\t<tr><td>4399494                                                                                </td><td>UBE INDUSTRIES, LTD.                                                                   </td><td>1897                                                                                   </td><td>CHEMICALS                                                                              </td><td>51-200                                                                                 </td><td>JAPAN                                                                                  </td><td>UBE INDUSTRIES                                                                         </td><td>UBE IND                                                                                </td><td>EP0060671                                                                              </td><td>JAPAN                                                                                  </td><td>...                                                                                    </td><td>0                                                                                      </td><td>0                                                                                      </td><td>0                                                                                      </td><td>1                                                                                      </td><td>0                                                                                      </td><td>0                                                                                      </td><td>Enterprise                                                                             </td><td>UBE                                                                                    </td><td>FALSE                                                                                  </td><td>Applied_AI                                                                             </td></tr>\n",
       "</tbody>\n",
       "</table>\n"
      ],
      "text/latex": [
       "\\begin{tabular}{r|llllllllllllllllllllllllllllllllllllllllllllllllllllllllllllll}\n",
       " PDL\\_ID & PDL\\_ORIGINAL\\_NAME & YEAR\\_FOUNDED & INDUSTRY & SIZE\\_RANGE & COUNTRY & PDL\\_MATCH\\_NAME & APPLICANT\\_MATCH\\_NAME & Patent\\_number & Person\\_ctry\\_code & ... & Speech Processing & Telecommunications & Transportation & Field\\_Applications & Functional\\_Applications & Techniques & Applicant\\_Type & i.Applicant\\_Key\\_Word & Multiple\\_Applicants & GPT\\_Scope\\\\\n",
       "\\hline\n",
       "\t      NA                                                                                   & NA                                                                                        &   NA                                                                                      & NA                                                                                        & NA                                                                                        & NA                                                                                        & NA                                                                                        & SYSTRAN INSTITUT GES FUR FORSCHUNG \\& ENTWICKLUNG MASCHINELLER SPRACHUBERSETZUNGSSYSTEME & EP0012777                                                                                 & GERMANY                                                                                   & ...                                                                                       & 0                                                                                         & 0                                                                                         & 1                                                                                         & 1                                                                                         & 1                                                                                         & 1                                                                                         & Enterprise                                                                                & SYSTRAN                                                                                   & FALSE                                                                                     & Applied\\_AI                                                                             \\\\\n",
       "\t 5872184                                                                                 & IBM                                                                                     & 1911                                                                                    & INFORMATION TECHNOLOGY AND SERVICES                                                     & >10000                                                                                  & UNITED STATES                                                                           & IBM                                                                                     & IBM                                                                                     & EP0039393                                                                               & UNITED STATES                                                                           & ...                                                                                     & 0                                                                                       & 0                                                                                       & 0                                                                                       & 1                                                                                       & 1                                                                                       & 1                                                                                       & Enterprise                                                                              & IBM                                                                                     & FALSE                                                                                   & Applied\\_AI                                                                           \\\\\n",
       "\t 2567154                                                                                 & IBM                                                                                     & 1914                                                                                    & INFORMATION TECHNOLOGY AND SERVICES                                                     & 1-10                                                                                    & FRANCE                                                                                  & IBM                                                                                     & IBM                                                                                     & EP0039393                                                                               & UNITED STATES                                                                           & ...                                                                                     & 0                                                                                       & 0                                                                                       & 0                                                                                       & 1                                                                                       & 1                                                                                       & 1                                                                                       & Enterprise                                                                              & IBM                                                                                     & FALSE                                                                                   & Applied\\_AI                                                                           \\\\\n",
       "\t 5479744                                                                                 & IBM                                                                                     & 2003                                                                                    & COMPUTER SOFTWARE                                                                       & 1-10                                                                                    & ISRAEL                                                                                  & IBM                                                                                     & IBM                                                                                     & EP0039393                                                                               & UNITED STATES                                                                           & ...                                                                                     & 0                                                                                       & 0                                                                                       & 0                                                                                       & 1                                                                                       & 1                                                                                       & 1                                                                                       & Enterprise                                                                              & IBM                                                                                     & FALSE                                                                                   & Applied\\_AI                                                                           \\\\\n",
       "\t      NA                                                                                 & NA                                                                                      &   NA                                                                                    & NA                                                                                      & NA                                                                                      & NA                                                                                      & NA                                                                                      & STEULER INDUSTRIEWERKE                                                                  & EP0059929                                                                               & GERMANY                                                                                 & ...                                                                                     & 0                                                                                       & 0                                                                                       & 0                                                                                       & 1                                                                                       & 0                                                                                       & 0                                                                                       & Enterprise                                                                              & STEULER                                                                                 & FALSE                                                                                   & Applied\\_AI                                                                           \\\\\n",
       "\t 4399494                                                                                 & UBE INDUSTRIES, LTD.                                                                    & 1897                                                                                    & CHEMICALS                                                                               & 51-200                                                                                  & JAPAN                                                                                   & UBE INDUSTRIES                                                                          & UBE IND                                                                                 & EP0060671                                                                               & JAPAN                                                                                   & ...                                                                                     & 0                                                                                       & 0                                                                                       & 0                                                                                       & 1                                                                                       & 0                                                                                       & 0                                                                                       & Enterprise                                                                              & UBE                                                                                     & FALSE                                                                                   & Applied\\_AI                                                                           \\\\\n",
       "\\end{tabular}\n"
      ],
      "text/markdown": [
       "\n",
       "| PDL_ID | PDL_ORIGINAL_NAME | YEAR_FOUNDED | INDUSTRY | SIZE_RANGE | COUNTRY | PDL_MATCH_NAME | APPLICANT_MATCH_NAME | Patent_number | Person_ctry_code | ... | Speech Processing | Telecommunications | Transportation | Field_Applications | Functional_Applications | Techniques | Applicant_Type | i.Applicant_Key_Word | Multiple_Applicants | GPT_Scope |\n",
       "|---|---|---|---|---|---|---|---|---|---|---|---|---|---|---|---|---|---|---|---|---|\n",
       "|      NA                                                                                 | NA                                                                                      |   NA                                                                                    | NA                                                                                      | NA                                                                                      | NA                                                                                      | NA                                                                                      | SYSTRAN INSTITUT GES FUR FORSCHUNG & ENTWICKLUNG MASCHINELLER SPRACHUBERSETZUNGSSYSTEME | EP0012777                                                                               | GERMANY                                                                                 | ...                                                                                     | 0                                                                                       | 0                                                                                       | 1                                                                                       | 1                                                                                       | 1                                                                                       | 1                                                                                       | Enterprise                                                                              | SYSTRAN                                                                                 | FALSE                                                                                   | Applied_AI                                                                              |\n",
       "| 5872184                                                                                 | IBM                                                                                     | 1911                                                                                    | INFORMATION TECHNOLOGY AND SERVICES                                                     | >10000                                                                                  | UNITED STATES                                                                           | IBM                                                                                     | IBM                                                                                     | EP0039393                                                                               | UNITED STATES                                                                           | ...                                                                                     | 0                                                                                       | 0                                                                                       | 0                                                                                       | 1                                                                                       | 1                                                                                       | 1                                                                                       | Enterprise                                                                              | IBM                                                                                     | FALSE                                                                                   | Applied_AI                                                                              |\n",
       "| 2567154                                                                                 | IBM                                                                                     | 1914                                                                                    | INFORMATION TECHNOLOGY AND SERVICES                                                     | 1-10                                                                                    | FRANCE                                                                                  | IBM                                                                                     | IBM                                                                                     | EP0039393                                                                               | UNITED STATES                                                                           | ...                                                                                     | 0                                                                                       | 0                                                                                       | 0                                                                                       | 1                                                                                       | 1                                                                                       | 1                                                                                       | Enterprise                                                                              | IBM                                                                                     | FALSE                                                                                   | Applied_AI                                                                              |\n",
       "| 5479744                                                                                 | IBM                                                                                     | 2003                                                                                    | COMPUTER SOFTWARE                                                                       | 1-10                                                                                    | ISRAEL                                                                                  | IBM                                                                                     | IBM                                                                                     | EP0039393                                                                               | UNITED STATES                                                                           | ...                                                                                     | 0                                                                                       | 0                                                                                       | 0                                                                                       | 1                                                                                       | 1                                                                                       | 1                                                                                       | Enterprise                                                                              | IBM                                                                                     | FALSE                                                                                   | Applied_AI                                                                              |\n",
       "|      NA                                                                                 | NA                                                                                      |   NA                                                                                    | NA                                                                                      | NA                                                                                      | NA                                                                                      | NA                                                                                      | STEULER INDUSTRIEWERKE                                                                  | EP0059929                                                                               | GERMANY                                                                                 | ...                                                                                     | 0                                                                                       | 0                                                                                       | 0                                                                                       | 1                                                                                       | 0                                                                                       | 0                                                                                       | Enterprise                                                                              | STEULER                                                                                 | FALSE                                                                                   | Applied_AI                                                                              |\n",
       "| 4399494                                                                                 | UBE INDUSTRIES, LTD.                                                                    | 1897                                                                                    | CHEMICALS                                                                               | 51-200                                                                                  | JAPAN                                                                                   | UBE INDUSTRIES                                                                          | UBE IND                                                                                 | EP0060671                                                                               | JAPAN                                                                                   | ...                                                                                     | 0                                                                                       | 0                                                                                       | 0                                                                                       | 1                                                                                       | 0                                                                                       | 0                                                                                       | Enterprise                                                                              | UBE                                                                                     | FALSE                                                                                   | Applied_AI                                                                              |\n",
       "\n"
      ],
      "text/plain": [
       "  PDL_ID  PDL_ORIGINAL_NAME    YEAR_FOUNDED INDUSTRY                           \n",
       "1      NA NA                     NA         NA                                 \n",
       "2 5872184 IBM                  1911         INFORMATION TECHNOLOGY AND SERVICES\n",
       "3 2567154 IBM                  1914         INFORMATION TECHNOLOGY AND SERVICES\n",
       "4 5479744 IBM                  2003         COMPUTER SOFTWARE                  \n",
       "5      NA NA                     NA         NA                                 \n",
       "6 4399494 UBE INDUSTRIES, LTD. 1897         CHEMICALS                          \n",
       "  SIZE_RANGE COUNTRY       PDL_MATCH_NAME\n",
       "1 NA         NA            NA            \n",
       "2 >10000     UNITED STATES IBM           \n",
       "3 1-10       FRANCE        IBM           \n",
       "4 1-10       ISRAEL        IBM           \n",
       "5 NA         NA            NA            \n",
       "6 51-200     JAPAN         UBE INDUSTRIES\n",
       "  APPLICANT_MATCH_NAME                                                                   \n",
       "1 SYSTRAN INSTITUT GES FUR FORSCHUNG & ENTWICKLUNG MASCHINELLER SPRACHUBERSETZUNGSSYSTEME\n",
       "2 IBM                                                                                    \n",
       "3 IBM                                                                                    \n",
       "4 IBM                                                                                    \n",
       "5 STEULER INDUSTRIEWERKE                                                                 \n",
       "6 UBE IND                                                                                \n",
       "  Patent_number Person_ctry_code ... Speech Processing Telecommunications\n",
       "1 EP0012777     GERMANY          ... 0                 0                 \n",
       "2 EP0039393     UNITED STATES    ... 0                 0                 \n",
       "3 EP0039393     UNITED STATES    ... 0                 0                 \n",
       "4 EP0039393     UNITED STATES    ... 0                 0                 \n",
       "5 EP0059929     GERMANY          ... 0                 0                 \n",
       "6 EP0060671     JAPAN            ... 0                 0                 \n",
       "  Transportation Field_Applications Functional_Applications Techniques\n",
       "1 1              1                  1                       1         \n",
       "2 0              1                  1                       1         \n",
       "3 0              1                  1                       1         \n",
       "4 0              1                  1                       1         \n",
       "5 0              1                  0                       0         \n",
       "6 0              1                  0                       0         \n",
       "  Applicant_Type i.Applicant_Key_Word Multiple_Applicants GPT_Scope \n",
       "1 Enterprise     SYSTRAN              FALSE               Applied_AI\n",
       "2 Enterprise     IBM                  FALSE               Applied_AI\n",
       "3 Enterprise     IBM                  FALSE               Applied_AI\n",
       "4 Enterprise     IBM                  FALSE               Applied_AI\n",
       "5 Enterprise     STEULER              FALSE               Applied_AI\n",
       "6 Enterprise     UBE                  FALSE               Applied_AI"
      ]
     },
     "metadata": {},
     "output_type": "display_data"
    }
   ],
   "source": [
    "#Merge tables\n",
    "Industrial_Patent_Dataset <- Matched_Applicants[Patent_Dataset]\n",
    "\n",
    "dim(Industrial_Patent_Dataset)\n",
    "head(Industrial_Patent_Dataset)"
   ]
  },
  {
   "cell_type": "markdown",
   "metadata": {},
   "source": [
    "Elimination of duplicate patents due to several entries with the same name in Industrial Database"
   ]
  },
  {
   "cell_type": "code",
   "execution_count": 37,
   "metadata": {
    "scrolled": true
   },
   "outputs": [
    {
     "data": {
      "text/html": [
       "<table>\n",
       "<thead><tr><th scope=col>PDL_ID</th><th scope=col>PDL_ORIGINAL_NAME</th><th scope=col>YEAR_FOUNDED</th><th scope=col>INDUSTRY</th><th scope=col>SIZE_RANGE</th><th scope=col>COUNTRY</th><th scope=col>PDL_MATCH_NAME</th><th scope=col>APPLICANT_MATCH_NAME</th><th scope=col>Patent_number</th><th scope=col>Person_ctry_code</th><th scope=col>...</th><th scope=col>Speech Processing</th><th scope=col>Telecommunications</th><th scope=col>Transportation</th><th scope=col>Field_Applications</th><th scope=col>Functional_Applications</th><th scope=col>Techniques</th><th scope=col>Applicant_Type</th><th scope=col>i.Applicant_Key_Word</th><th scope=col>Multiple_Applicants</th><th scope=col>GPT_Scope</th></tr></thead>\n",
       "<tbody>\n",
       "\t<tr><td>5872184                            </td><td>IBM                                </td><td>1911                               </td><td>INFORMATION TECHNOLOGY AND SERVICES</td><td>&gt;10000                          </td><td>UNITED STATES                      </td><td>IBM                                </td><td>IBM                                </td><td>EP0039393                          </td><td>UNITED STATES                      </td><td>...                                </td><td>0                                  </td><td>0                                  </td><td>0                                  </td><td>1                                  </td><td>1                                  </td><td>1                                  </td><td>Enterprise                         </td><td>IBM                                </td><td>FALSE                              </td><td>Applied_AI                         </td></tr>\n",
       "\t<tr><td>2567154                            </td><td>IBM                                </td><td>1914                               </td><td>INFORMATION TECHNOLOGY AND SERVICES</td><td>1-10                               </td><td>FRANCE                             </td><td>IBM                                </td><td>IBM                                </td><td>EP0039393                          </td><td>UNITED STATES                      </td><td>...                                </td><td>0                                  </td><td>0                                  </td><td>0                                  </td><td>1                                  </td><td>1                                  </td><td>1                                  </td><td>Enterprise                         </td><td>IBM                                </td><td>FALSE                              </td><td>Applied_AI                         </td></tr>\n",
       "\t<tr><td>5479744                            </td><td>IBM                                </td><td>2003                               </td><td>COMPUTER SOFTWARE                  </td><td>1-10                               </td><td>ISRAEL                             </td><td>IBM                                </td><td>IBM                                </td><td>EP0039393                          </td><td>UNITED STATES                      </td><td>...                                </td><td>0                                  </td><td>0                                  </td><td>0                                  </td><td>1                                  </td><td>1                                  </td><td>1                                  </td><td>Enterprise                         </td><td>IBM                                </td><td>FALSE                              </td><td>Applied_AI                         </td></tr>\n",
       "</tbody>\n",
       "</table>\n"
      ],
      "text/latex": [
       "\\begin{tabular}{r|llllllllllllllllllllllllllllllllllllllllllllllllllllllllllllll}\n",
       " PDL\\_ID & PDL\\_ORIGINAL\\_NAME & YEAR\\_FOUNDED & INDUSTRY & SIZE\\_RANGE & COUNTRY & PDL\\_MATCH\\_NAME & APPLICANT\\_MATCH\\_NAME & Patent\\_number & Person\\_ctry\\_code & ... & Speech Processing & Telecommunications & Transportation & Field\\_Applications & Functional\\_Applications & Techniques & Applicant\\_Type & i.Applicant\\_Key\\_Word & Multiple\\_Applicants & GPT\\_Scope\\\\\n",
       "\\hline\n",
       "\t 5872184                             & IBM                                 & 1911                                & INFORMATION TECHNOLOGY AND SERVICES & >10000                              & UNITED STATES                       & IBM                                 & IBM                                 & EP0039393                           & UNITED STATES                       & ...                                 & 0                                   & 0                                   & 0                                   & 1                                   & 1                                   & 1                                   & Enterprise                          & IBM                                 & FALSE                               & Applied\\_AI                       \\\\\n",
       "\t 2567154                             & IBM                                 & 1914                                & INFORMATION TECHNOLOGY AND SERVICES & 1-10                                & FRANCE                              & IBM                                 & IBM                                 & EP0039393                           & UNITED STATES                       & ...                                 & 0                                   & 0                                   & 0                                   & 1                                   & 1                                   & 1                                   & Enterprise                          & IBM                                 & FALSE                               & Applied\\_AI                       \\\\\n",
       "\t 5479744                             & IBM                                 & 2003                                & COMPUTER SOFTWARE                   & 1-10                                & ISRAEL                              & IBM                                 & IBM                                 & EP0039393                           & UNITED STATES                       & ...                                 & 0                                   & 0                                   & 0                                   & 1                                   & 1                                   & 1                                   & Enterprise                          & IBM                                 & FALSE                               & Applied\\_AI                       \\\\\n",
       "\\end{tabular}\n"
      ],
      "text/markdown": [
       "\n",
       "| PDL_ID | PDL_ORIGINAL_NAME | YEAR_FOUNDED | INDUSTRY | SIZE_RANGE | COUNTRY | PDL_MATCH_NAME | APPLICANT_MATCH_NAME | Patent_number | Person_ctry_code | ... | Speech Processing | Telecommunications | Transportation | Field_Applications | Functional_Applications | Techniques | Applicant_Type | i.Applicant_Key_Word | Multiple_Applicants | GPT_Scope |\n",
       "|---|---|---|---|---|---|---|---|---|---|---|---|---|---|---|---|---|---|---|---|---|\n",
       "| 5872184                             | IBM                                 | 1911                                | INFORMATION TECHNOLOGY AND SERVICES | >10000                              | UNITED STATES                       | IBM                                 | IBM                                 | EP0039393                           | UNITED STATES                       | ...                                 | 0                                   | 0                                   | 0                                   | 1                                   | 1                                   | 1                                   | Enterprise                          | IBM                                 | FALSE                               | Applied_AI                          |\n",
       "| 2567154                             | IBM                                 | 1914                                | INFORMATION TECHNOLOGY AND SERVICES | 1-10                                | FRANCE                              | IBM                                 | IBM                                 | EP0039393                           | UNITED STATES                       | ...                                 | 0                                   | 0                                   | 0                                   | 1                                   | 1                                   | 1                                   | Enterprise                          | IBM                                 | FALSE                               | Applied_AI                          |\n",
       "| 5479744                             | IBM                                 | 2003                                | COMPUTER SOFTWARE                   | 1-10                                | ISRAEL                              | IBM                                 | IBM                                 | EP0039393                           | UNITED STATES                       | ...                                 | 0                                   | 0                                   | 0                                   | 1                                   | 1                                   | 1                                   | Enterprise                          | IBM                                 | FALSE                               | Applied_AI                          |\n",
       "\n"
      ],
      "text/plain": [
       "  PDL_ID  PDL_ORIGINAL_NAME YEAR_FOUNDED INDUSTRY                           \n",
       "1 5872184 IBM               1911         INFORMATION TECHNOLOGY AND SERVICES\n",
       "2 2567154 IBM               1914         INFORMATION TECHNOLOGY AND SERVICES\n",
       "3 5479744 IBM               2003         COMPUTER SOFTWARE                  \n",
       "  SIZE_RANGE COUNTRY       PDL_MATCH_NAME APPLICANT_MATCH_NAME Patent_number\n",
       "1 >10000     UNITED STATES IBM            IBM                  EP0039393    \n",
       "2 1-10       FRANCE        IBM            IBM                  EP0039393    \n",
       "3 1-10       ISRAEL        IBM            IBM                  EP0039393    \n",
       "  Person_ctry_code ... Speech Processing Telecommunications Transportation\n",
       "1 UNITED STATES    ... 0                 0                  0             \n",
       "2 UNITED STATES    ... 0                 0                  0             \n",
       "3 UNITED STATES    ... 0                 0                  0             \n",
       "  Field_Applications Functional_Applications Techniques Applicant_Type\n",
       "1 1                  1                       1          Enterprise    \n",
       "2 1                  1                       1          Enterprise    \n",
       "3 1                  1                       1          Enterprise    \n",
       "  i.Applicant_Key_Word Multiple_Applicants GPT_Scope \n",
       "1 IBM                  FALSE               Applied_AI\n",
       "2 IBM                  FALSE               Applied_AI\n",
       "3 IBM                  FALSE               Applied_AI"
      ]
     },
     "metadata": {},
     "output_type": "display_data"
    }
   ],
   "source": [
    "Industrial_Patent_Dataset[Patent_number==\"EP0039393\",]"
   ]
  },
  {
   "cell_type": "code",
   "execution_count": 38,
   "metadata": {
    "scrolled": true
   },
   "outputs": [
    {
     "data": {
      "text/html": [
       "<table>\n",
       "<thead><tr><th scope=col>PDL_ID</th><th scope=col>PDL_ORIGINAL_NAME</th><th scope=col>YEAR_FOUNDED</th><th scope=col>INDUSTRY</th><th scope=col>SIZE_RANGE</th><th scope=col>COUNTRY</th><th scope=col>PDL_MATCH_NAME</th><th scope=col>APPLICANT_MATCH_NAME</th><th scope=col>Patent_number</th><th scope=col>Person_ctry_code</th><th scope=col>...</th><th scope=col>Speech Processing</th><th scope=col>Telecommunications</th><th scope=col>Transportation</th><th scope=col>Field_Applications</th><th scope=col>Functional_Applications</th><th scope=col>Techniques</th><th scope=col>Applicant_Type</th><th scope=col>i.Applicant_Key_Word</th><th scope=col>Multiple_Applicants</th><th scope=col>GPT_Scope</th></tr></thead>\n",
       "<tbody>\n",
       "\t<tr><td>5742525                             </td><td>AXIS INC.                           </td><td>1987                                </td><td>MECHANICAL OR INDUSTRIAL ENGINEERING</td><td>51-200                              </td><td>UNITED STATES                       </td><td>AXIS                                </td><td>AXIS                                </td><td>EP3457324                           </td><td>SWEDEN                              </td><td>...                                 </td><td>1                                   </td><td>0                                   </td><td>1                                   </td><td>1                                   </td><td>1                                   </td><td>1                                   </td><td>Enterprise                          </td><td>AXIS                                </td><td>FALSE                               </td><td>Applied_AI                          </td></tr>\n",
       "\t<tr><td>6569915                             </td><td>AXIS                                </td><td>1990                                </td><td>MARKETING AND ADVERTISING           </td><td>201-500                             </td><td>UNITED KINGDOM                      </td><td>AXIS                                </td><td>AXIS                                </td><td>EP3457324                           </td><td>SWEDEN                              </td><td>...                                 </td><td>1                                   </td><td>0                                   </td><td>1                                   </td><td>1                                   </td><td>1                                   </td><td>1                                   </td><td>Enterprise                          </td><td>AXIS                                </td><td>FALSE                               </td><td>Applied_AI                          </td></tr>\n",
       "\t<tr><td>1352210                             </td><td>AXIS                                </td><td>1997                                </td><td>PLASTICS                            </td><td>1-10                                </td><td>FRANCE                              </td><td>AXIS                                </td><td>AXIS                                </td><td>EP3457324                           </td><td>SWEDEN                              </td><td>...                                 </td><td>1                                   </td><td>0                                   </td><td>1                                   </td><td>1                                   </td><td>1                                   </td><td>1                                   </td><td>Enterprise                          </td><td>AXIS                                </td><td>FALSE                               </td><td>Applied_AI                          </td></tr>\n",
       "\t<tr><td>3036646                             </td><td>AXIS, INC.                          </td><td>2011                                </td><td>MEDIA PRODUCTION                    </td><td>1-10                                </td><td>UNITED STATES                       </td><td>AXIS                                </td><td>AXIS                                </td><td>EP3457324                           </td><td>SWEDEN                              </td><td>...                                 </td><td>1                                   </td><td>0                                   </td><td>1                                   </td><td>1                                   </td><td>1                                   </td><td>1                                   </td><td>Enterprise                          </td><td>AXIS                                </td><td>FALSE                               </td><td>Applied_AI                          </td></tr>\n",
       "</tbody>\n",
       "</table>\n"
      ],
      "text/latex": [
       "\\begin{tabular}{r|llllllllllllllllllllllllllllllllllllllllllllllllllllllllllllll}\n",
       " PDL\\_ID & PDL\\_ORIGINAL\\_NAME & YEAR\\_FOUNDED & INDUSTRY & SIZE\\_RANGE & COUNTRY & PDL\\_MATCH\\_NAME & APPLICANT\\_MATCH\\_NAME & Patent\\_number & Person\\_ctry\\_code & ... & Speech Processing & Telecommunications & Transportation & Field\\_Applications & Functional\\_Applications & Techniques & Applicant\\_Type & i.Applicant\\_Key\\_Word & Multiple\\_Applicants & GPT\\_Scope\\\\\n",
       "\\hline\n",
       "\t 5742525                              & AXIS INC.                            & 1987                                 & MECHANICAL OR INDUSTRIAL ENGINEERING & 51-200                               & UNITED STATES                        & AXIS                                 & AXIS                                 & EP3457324                            & SWEDEN                               & ...                                  & 1                                    & 0                                    & 1                                    & 1                                    & 1                                    & 1                                    & Enterprise                           & AXIS                                 & FALSE                                & Applied\\_AI                        \\\\\n",
       "\t 6569915                              & AXIS                                 & 1990                                 & MARKETING AND ADVERTISING            & 201-500                              & UNITED KINGDOM                       & AXIS                                 & AXIS                                 & EP3457324                            & SWEDEN                               & ...                                  & 1                                    & 0                                    & 1                                    & 1                                    & 1                                    & 1                                    & Enterprise                           & AXIS                                 & FALSE                                & Applied\\_AI                        \\\\\n",
       "\t 1352210                              & AXIS                                 & 1997                                 & PLASTICS                             & 1-10                                 & FRANCE                               & AXIS                                 & AXIS                                 & EP3457324                            & SWEDEN                               & ...                                  & 1                                    & 0                                    & 1                                    & 1                                    & 1                                    & 1                                    & Enterprise                           & AXIS                                 & FALSE                                & Applied\\_AI                        \\\\\n",
       "\t 3036646                              & AXIS, INC.                           & 2011                                 & MEDIA PRODUCTION                     & 1-10                                 & UNITED STATES                        & AXIS                                 & AXIS                                 & EP3457324                            & SWEDEN                               & ...                                  & 1                                    & 0                                    & 1                                    & 1                                    & 1                                    & 1                                    & Enterprise                           & AXIS                                 & FALSE                                & Applied\\_AI                        \\\\\n",
       "\\end{tabular}\n"
      ],
      "text/markdown": [
       "\n",
       "| PDL_ID | PDL_ORIGINAL_NAME | YEAR_FOUNDED | INDUSTRY | SIZE_RANGE | COUNTRY | PDL_MATCH_NAME | APPLICANT_MATCH_NAME | Patent_number | Person_ctry_code | ... | Speech Processing | Telecommunications | Transportation | Field_Applications | Functional_Applications | Techniques | Applicant_Type | i.Applicant_Key_Word | Multiple_Applicants | GPT_Scope |\n",
       "|---|---|---|---|---|---|---|---|---|---|---|---|---|---|---|---|---|---|---|---|---|\n",
       "| 5742525                              | AXIS INC.                            | 1987                                 | MECHANICAL OR INDUSTRIAL ENGINEERING | 51-200                               | UNITED STATES                        | AXIS                                 | AXIS                                 | EP3457324                            | SWEDEN                               | ...                                  | 1                                    | 0                                    | 1                                    | 1                                    | 1                                    | 1                                    | Enterprise                           | AXIS                                 | FALSE                                | Applied_AI                           |\n",
       "| 6569915                              | AXIS                                 | 1990                                 | MARKETING AND ADVERTISING            | 201-500                              | UNITED KINGDOM                       | AXIS                                 | AXIS                                 | EP3457324                            | SWEDEN                               | ...                                  | 1                                    | 0                                    | 1                                    | 1                                    | 1                                    | 1                                    | Enterprise                           | AXIS                                 | FALSE                                | Applied_AI                           |\n",
       "| 1352210                              | AXIS                                 | 1997                                 | PLASTICS                             | 1-10                                 | FRANCE                               | AXIS                                 | AXIS                                 | EP3457324                            | SWEDEN                               | ...                                  | 1                                    | 0                                    | 1                                    | 1                                    | 1                                    | 1                                    | Enterprise                           | AXIS                                 | FALSE                                | Applied_AI                           |\n",
       "| 3036646                              | AXIS, INC.                           | 2011                                 | MEDIA PRODUCTION                     | 1-10                                 | UNITED STATES                        | AXIS                                 | AXIS                                 | EP3457324                            | SWEDEN                               | ...                                  | 1                                    | 0                                    | 1                                    | 1                                    | 1                                    | 1                                    | Enterprise                           | AXIS                                 | FALSE                                | Applied_AI                           |\n",
       "\n"
      ],
      "text/plain": [
       "  PDL_ID  PDL_ORIGINAL_NAME YEAR_FOUNDED INDUSTRY                            \n",
       "1 5742525 AXIS INC.         1987         MECHANICAL OR INDUSTRIAL ENGINEERING\n",
       "2 6569915 AXIS              1990         MARKETING AND ADVERTISING           \n",
       "3 1352210 AXIS              1997         PLASTICS                            \n",
       "4 3036646 AXIS, INC.        2011         MEDIA PRODUCTION                    \n",
       "  SIZE_RANGE COUNTRY        PDL_MATCH_NAME APPLICANT_MATCH_NAME Patent_number\n",
       "1 51-200     UNITED STATES  AXIS           AXIS                 EP3457324    \n",
       "2 201-500    UNITED KINGDOM AXIS           AXIS                 EP3457324    \n",
       "3 1-10       FRANCE         AXIS           AXIS                 EP3457324    \n",
       "4 1-10       UNITED STATES  AXIS           AXIS                 EP3457324    \n",
       "  Person_ctry_code ... Speech Processing Telecommunications Transportation\n",
       "1 SWEDEN           ... 1                 0                  1             \n",
       "2 SWEDEN           ... 1                 0                  1             \n",
       "3 SWEDEN           ... 1                 0                  1             \n",
       "4 SWEDEN           ... 1                 0                  1             \n",
       "  Field_Applications Functional_Applications Techniques Applicant_Type\n",
       "1 1                  1                       1          Enterprise    \n",
       "2 1                  1                       1          Enterprise    \n",
       "3 1                  1                       1          Enterprise    \n",
       "4 1                  1                       1          Enterprise    \n",
       "  i.Applicant_Key_Word Multiple_Applicants GPT_Scope \n",
       "1 AXIS                 FALSE               Applied_AI\n",
       "2 AXIS                 FALSE               Applied_AI\n",
       "3 AXIS                 FALSE               Applied_AI\n",
       "4 AXIS                 FALSE               Applied_AI"
      ]
     },
     "metadata": {},
     "output_type": "display_data"
    }
   ],
   "source": [
    "Industrial_Patent_Dataset[Patent_number==\"EP3457324\",]"
   ]
  },
  {
   "cell_type": "markdown",
   "metadata": {},
   "source": [
    "Criteria for duplicate elimination: \n",
    "\n",
    "(1) The 'Country' in industrial dataset is the same as 'Person_ctry_code', i.e. COUNTRY_MATCH==TRUE\n",
    "\n",
    "(t2) Keep companies with oldest year of foundation\n"
   ]
  },
  {
   "cell_type": "code",
   "execution_count": 39,
   "metadata": {
    "scrolled": true
   },
   "outputs": [
    {
     "data": {
      "text/html": [
       "<table>\n",
       "<thead><tr><th scope=col>PDL_ID</th><th scope=col>PDL_ORIGINAL_NAME</th><th scope=col>YEAR_FOUNDED</th><th scope=col>INDUSTRY</th><th scope=col>SIZE_RANGE</th><th scope=col>COUNTRY</th><th scope=col>PDL_MATCH_NAME</th><th scope=col>APPLICANT_MATCH_NAME</th><th scope=col>Patent_number</th><th scope=col>Person_ctry_code</th><th scope=col>...</th><th scope=col>Speech Processing</th><th scope=col>Telecommunications</th><th scope=col>Transportation</th><th scope=col>Field_Applications</th><th scope=col>Functional_Applications</th><th scope=col>Techniques</th><th scope=col>Applicant_Type</th><th scope=col>i.Applicant_Key_Word</th><th scope=col>Multiple_Applicants</th><th scope=col>GPT_Scope</th></tr></thead>\n",
       "<tbody>\n",
       "\t<tr><td>5479744                            </td><td>IBM                                </td><td>2003                               </td><td>COMPUTER SOFTWARE                  </td><td>1-10                               </td><td>ISRAEL                             </td><td>IBM                                </td><td>IBM                                </td><td>EP0039393                          </td><td>UNITED STATES                      </td><td>...                                </td><td>0                                  </td><td>0                                  </td><td>0                                  </td><td>1                                  </td><td>1                                  </td><td>1                                  </td><td>Enterprise                         </td><td>IBM                                </td><td>FALSE                              </td><td>Applied_AI                         </td></tr>\n",
       "\t<tr><td>2567154                            </td><td>IBM                                </td><td>1914                               </td><td>INFORMATION TECHNOLOGY AND SERVICES</td><td>1-10                               </td><td>FRANCE                             </td><td>IBM                                </td><td>IBM                                </td><td>EP0039393                          </td><td>UNITED STATES                      </td><td>...                                </td><td>0                                  </td><td>0                                  </td><td>0                                  </td><td>1                                  </td><td>1                                  </td><td>1                                  </td><td>Enterprise                         </td><td>IBM                                </td><td>FALSE                              </td><td>Applied_AI                         </td></tr>\n",
       "\t<tr><td>5872184                            </td><td>IBM                                </td><td>1911                               </td><td>INFORMATION TECHNOLOGY AND SERVICES</td><td>&gt;10000                          </td><td>UNITED STATES                      </td><td>IBM                                </td><td>IBM                                </td><td>EP0039393                          </td><td>UNITED STATES                      </td><td>...                                </td><td>0                                  </td><td>0                                  </td><td>0                                  </td><td>1                                  </td><td>1                                  </td><td>1                                  </td><td>Enterprise                         </td><td>IBM                                </td><td>FALSE                              </td><td>Applied_AI                         </td></tr>\n",
       "</tbody>\n",
       "</table>\n"
      ],
      "text/latex": [
       "\\begin{tabular}{r|llllllllllllllllllllllllllllllllllllllllllllllllllllllllllllll}\n",
       " PDL\\_ID & PDL\\_ORIGINAL\\_NAME & YEAR\\_FOUNDED & INDUSTRY & SIZE\\_RANGE & COUNTRY & PDL\\_MATCH\\_NAME & APPLICANT\\_MATCH\\_NAME & Patent\\_number & Person\\_ctry\\_code & ... & Speech Processing & Telecommunications & Transportation & Field\\_Applications & Functional\\_Applications & Techniques & Applicant\\_Type & i.Applicant\\_Key\\_Word & Multiple\\_Applicants & GPT\\_Scope\\\\\n",
       "\\hline\n",
       "\t 5479744                             & IBM                                 & 2003                                & COMPUTER SOFTWARE                   & 1-10                                & ISRAEL                              & IBM                                 & IBM                                 & EP0039393                           & UNITED STATES                       & ...                                 & 0                                   & 0                                   & 0                                   & 1                                   & 1                                   & 1                                   & Enterprise                          & IBM                                 & FALSE                               & Applied\\_AI                       \\\\\n",
       "\t 2567154                             & IBM                                 & 1914                                & INFORMATION TECHNOLOGY AND SERVICES & 1-10                                & FRANCE                              & IBM                                 & IBM                                 & EP0039393                           & UNITED STATES                       & ...                                 & 0                                   & 0                                   & 0                                   & 1                                   & 1                                   & 1                                   & Enterprise                          & IBM                                 & FALSE                               & Applied\\_AI                       \\\\\n",
       "\t 5872184                             & IBM                                 & 1911                                & INFORMATION TECHNOLOGY AND SERVICES & >10000                              & UNITED STATES                       & IBM                                 & IBM                                 & EP0039393                           & UNITED STATES                       & ...                                 & 0                                   & 0                                   & 0                                   & 1                                   & 1                                   & 1                                   & Enterprise                          & IBM                                 & FALSE                               & Applied\\_AI                       \\\\\n",
       "\\end{tabular}\n"
      ],
      "text/markdown": [
       "\n",
       "| PDL_ID | PDL_ORIGINAL_NAME | YEAR_FOUNDED | INDUSTRY | SIZE_RANGE | COUNTRY | PDL_MATCH_NAME | APPLICANT_MATCH_NAME | Patent_number | Person_ctry_code | ... | Speech Processing | Telecommunications | Transportation | Field_Applications | Functional_Applications | Techniques | Applicant_Type | i.Applicant_Key_Word | Multiple_Applicants | GPT_Scope |\n",
       "|---|---|---|---|---|---|---|---|---|---|---|---|---|---|---|---|---|---|---|---|---|\n",
       "| 5479744                             | IBM                                 | 2003                                | COMPUTER SOFTWARE                   | 1-10                                | ISRAEL                              | IBM                                 | IBM                                 | EP0039393                           | UNITED STATES                       | ...                                 | 0                                   | 0                                   | 0                                   | 1                                   | 1                                   | 1                                   | Enterprise                          | IBM                                 | FALSE                               | Applied_AI                          |\n",
       "| 2567154                             | IBM                                 | 1914                                | INFORMATION TECHNOLOGY AND SERVICES | 1-10                                | FRANCE                              | IBM                                 | IBM                                 | EP0039393                           | UNITED STATES                       | ...                                 | 0                                   | 0                                   | 0                                   | 1                                   | 1                                   | 1                                   | Enterprise                          | IBM                                 | FALSE                               | Applied_AI                          |\n",
       "| 5872184                             | IBM                                 | 1911                                | INFORMATION TECHNOLOGY AND SERVICES | >10000                              | UNITED STATES                       | IBM                                 | IBM                                 | EP0039393                           | UNITED STATES                       | ...                                 | 0                                   | 0                                   | 0                                   | 1                                   | 1                                   | 1                                   | Enterprise                          | IBM                                 | FALSE                               | Applied_AI                          |\n",
       "\n"
      ],
      "text/plain": [
       "  PDL_ID  PDL_ORIGINAL_NAME YEAR_FOUNDED INDUSTRY                           \n",
       "1 5479744 IBM               2003         COMPUTER SOFTWARE                  \n",
       "2 2567154 IBM               1914         INFORMATION TECHNOLOGY AND SERVICES\n",
       "3 5872184 IBM               1911         INFORMATION TECHNOLOGY AND SERVICES\n",
       "  SIZE_RANGE COUNTRY       PDL_MATCH_NAME APPLICANT_MATCH_NAME Patent_number\n",
       "1 1-10       ISRAEL        IBM            IBM                  EP0039393    \n",
       "2 1-10       FRANCE        IBM            IBM                  EP0039393    \n",
       "3 >10000     UNITED STATES IBM            IBM                  EP0039393    \n",
       "  Person_ctry_code ... Speech Processing Telecommunications Transportation\n",
       "1 UNITED STATES    ... 0                 0                  0             \n",
       "2 UNITED STATES    ... 0                 0                  0             \n",
       "3 UNITED STATES    ... 0                 0                  0             \n",
       "  Field_Applications Functional_Applications Techniques Applicant_Type\n",
       "1 1                  1                       1          Enterprise    \n",
       "2 1                  1                       1          Enterprise    \n",
       "3 1                  1                       1          Enterprise    \n",
       "  i.Applicant_Key_Word Multiple_Applicants GPT_Scope \n",
       "1 IBM                  FALSE               Applied_AI\n",
       "2 IBM                  FALSE               Applied_AI\n",
       "3 IBM                  FALSE               Applied_AI"
      ]
     },
     "metadata": {},
     "output_type": "display_data"
    }
   ],
   "source": [
    "#Order dataset so that the entry with COUNTRY_MATCH==TRUE and oldest Year of foundation comes last \n",
    "Industrial_Patent_Dataset <- Industrial_Patent_Dataset[order(Patent_number,-YEAR_FOUNDED, -COUNTRY_MATCH)]\n",
    "\n",
    "Industrial_Patent_Dataset[Patent_number==\"EP0039393\",]"
   ]
  },
  {
   "cell_type": "code",
   "execution_count": 40,
   "metadata": {},
   "outputs": [
    {
     "data": {
      "text/html": [
       "<table>\n",
       "<thead><tr><th scope=col>PDL_ID</th><th scope=col>PDL_ORIGINAL_NAME</th><th scope=col>YEAR_FOUNDED</th><th scope=col>INDUSTRY</th><th scope=col>SIZE_RANGE</th><th scope=col>COUNTRY</th><th scope=col>PDL_MATCH_NAME</th><th scope=col>APPLICANT_MATCH_NAME</th><th scope=col>Patent_number</th><th scope=col>Person_ctry_code</th><th scope=col>...</th><th scope=col>Telecommunications</th><th scope=col>Transportation</th><th scope=col>Field_Applications</th><th scope=col>Functional_Applications</th><th scope=col>Techniques</th><th scope=col>Applicant_Type</th><th scope=col>i.Applicant_Key_Word</th><th scope=col>Multiple_Applicants</th><th scope=col>GPT_Scope</th><th scope=col>Grp</th></tr></thead>\n",
       "<tbody>\n",
       "\t<tr><td>5479744                            </td><td>IBM                                </td><td>2003                               </td><td>COMPUTER SOFTWARE                  </td><td>1-10                               </td><td>ISRAEL                             </td><td>IBM                                </td><td>IBM                                </td><td>EP0039393                          </td><td>UNITED STATES                      </td><td>...                                </td><td>0                                  </td><td>0                                  </td><td>1                                  </td><td>1                                  </td><td>1                                  </td><td>Enterprise                         </td><td>IBM                                </td><td>FALSE                              </td><td>Applied_AI                         </td><td>2                                  </td></tr>\n",
       "\t<tr><td>2567154                            </td><td>IBM                                </td><td>1914                               </td><td>INFORMATION TECHNOLOGY AND SERVICES</td><td>1-10                               </td><td>FRANCE                             </td><td>IBM                                </td><td>IBM                                </td><td>EP0039393                          </td><td>UNITED STATES                      </td><td>...                                </td><td>0                                  </td><td>0                                  </td><td>1                                  </td><td>1                                  </td><td>1                                  </td><td>Enterprise                         </td><td>IBM                                </td><td>FALSE                              </td><td>Applied_AI                         </td><td>2                                  </td></tr>\n",
       "\t<tr><td>5872184                            </td><td>IBM                                </td><td>1911                               </td><td>INFORMATION TECHNOLOGY AND SERVICES</td><td>&gt;10000                          </td><td>UNITED STATES                      </td><td>IBM                                </td><td>IBM                                </td><td>EP0039393                          </td><td>UNITED STATES                      </td><td>...                                </td><td>0                                  </td><td>0                                  </td><td>1                                  </td><td>1                                  </td><td>1                                  </td><td>Enterprise                         </td><td>IBM                                </td><td>FALSE                              </td><td>Applied_AI                         </td><td>2                                  </td></tr>\n",
       "</tbody>\n",
       "</table>\n"
      ],
      "text/latex": [
       "\\begin{tabular}{r|lllllllllllllllllllllllllllllllllllllllllllllllllllllllllllllll}\n",
       " PDL\\_ID & PDL\\_ORIGINAL\\_NAME & YEAR\\_FOUNDED & INDUSTRY & SIZE\\_RANGE & COUNTRY & PDL\\_MATCH\\_NAME & APPLICANT\\_MATCH\\_NAME & Patent\\_number & Person\\_ctry\\_code & ... & Telecommunications & Transportation & Field\\_Applications & Functional\\_Applications & Techniques & Applicant\\_Type & i.Applicant\\_Key\\_Word & Multiple\\_Applicants & GPT\\_Scope & Grp\\\\\n",
       "\\hline\n",
       "\t 5479744                             & IBM                                 & 2003                                & COMPUTER SOFTWARE                   & 1-10                                & ISRAEL                              & IBM                                 & IBM                                 & EP0039393                           & UNITED STATES                       & ...                                 & 0                                   & 0                                   & 1                                   & 1                                   & 1                                   & Enterprise                          & IBM                                 & FALSE                               & Applied\\_AI                        & 2                                  \\\\\n",
       "\t 2567154                             & IBM                                 & 1914                                & INFORMATION TECHNOLOGY AND SERVICES & 1-10                                & FRANCE                              & IBM                                 & IBM                                 & EP0039393                           & UNITED STATES                       & ...                                 & 0                                   & 0                                   & 1                                   & 1                                   & 1                                   & Enterprise                          & IBM                                 & FALSE                               & Applied\\_AI                        & 2                                  \\\\\n",
       "\t 5872184                             & IBM                                 & 1911                                & INFORMATION TECHNOLOGY AND SERVICES & >10000                              & UNITED STATES                       & IBM                                 & IBM                                 & EP0039393                           & UNITED STATES                       & ...                                 & 0                                   & 0                                   & 1                                   & 1                                   & 1                                   & Enterprise                          & IBM                                 & FALSE                               & Applied\\_AI                        & 2                                  \\\\\n",
       "\\end{tabular}\n"
      ],
      "text/markdown": [
       "\n",
       "| PDL_ID | PDL_ORIGINAL_NAME | YEAR_FOUNDED | INDUSTRY | SIZE_RANGE | COUNTRY | PDL_MATCH_NAME | APPLICANT_MATCH_NAME | Patent_number | Person_ctry_code | ... | Telecommunications | Transportation | Field_Applications | Functional_Applications | Techniques | Applicant_Type | i.Applicant_Key_Word | Multiple_Applicants | GPT_Scope | Grp |\n",
       "|---|---|---|---|---|---|---|---|---|---|---|---|---|---|---|---|---|---|---|---|---|\n",
       "| 5479744                             | IBM                                 | 2003                                | COMPUTER SOFTWARE                   | 1-10                                | ISRAEL                              | IBM                                 | IBM                                 | EP0039393                           | UNITED STATES                       | ...                                 | 0                                   | 0                                   | 1                                   | 1                                   | 1                                   | Enterprise                          | IBM                                 | FALSE                               | Applied_AI                          | 2                                   |\n",
       "| 2567154                             | IBM                                 | 1914                                | INFORMATION TECHNOLOGY AND SERVICES | 1-10                                | FRANCE                              | IBM                                 | IBM                                 | EP0039393                           | UNITED STATES                       | ...                                 | 0                                   | 0                                   | 1                                   | 1                                   | 1                                   | Enterprise                          | IBM                                 | FALSE                               | Applied_AI                          | 2                                   |\n",
       "| 5872184                             | IBM                                 | 1911                                | INFORMATION TECHNOLOGY AND SERVICES | >10000                              | UNITED STATES                       | IBM                                 | IBM                                 | EP0039393                           | UNITED STATES                       | ...                                 | 0                                   | 0                                   | 1                                   | 1                                   | 1                                   | Enterprise                          | IBM                                 | FALSE                               | Applied_AI                          | 2                                   |\n",
       "\n"
      ],
      "text/plain": [
       "  PDL_ID  PDL_ORIGINAL_NAME YEAR_FOUNDED INDUSTRY                           \n",
       "1 5479744 IBM               2003         COMPUTER SOFTWARE                  \n",
       "2 2567154 IBM               1914         INFORMATION TECHNOLOGY AND SERVICES\n",
       "3 5872184 IBM               1911         INFORMATION TECHNOLOGY AND SERVICES\n",
       "  SIZE_RANGE COUNTRY       PDL_MATCH_NAME APPLICANT_MATCH_NAME Patent_number\n",
       "1 1-10       ISRAEL        IBM            IBM                  EP0039393    \n",
       "2 1-10       FRANCE        IBM            IBM                  EP0039393    \n",
       "3 >10000     UNITED STATES IBM            IBM                  EP0039393    \n",
       "  Person_ctry_code ... Telecommunications Transportation Field_Applications\n",
       "1 UNITED STATES    ... 0                  0              1                 \n",
       "2 UNITED STATES    ... 0                  0              1                 \n",
       "3 UNITED STATES    ... 0                  0              1                 \n",
       "  Functional_Applications Techniques Applicant_Type i.Applicant_Key_Word\n",
       "1 1                       1          Enterprise     IBM                 \n",
       "2 1                       1          Enterprise     IBM                 \n",
       "3 1                       1          Enterprise     IBM                 \n",
       "  Multiple_Applicants GPT_Scope  Grp\n",
       "1 FALSE               Applied_AI 2  \n",
       "2 FALSE               Applied_AI 2  \n",
       "3 FALSE               Applied_AI 2  "
      ]
     },
     "metadata": {},
     "output_type": "display_data"
    }
   ],
   "source": [
    "#Group patents based on Patent_number, Clean_name and number them wihtin the group \n",
    "Industrial_Patent_Dataset <- Industrial_Patent_Dataset[, Grp := .GRP, by = .(Patent_number, Clean_name)][]\n",
    "Industrial_Patent_Dataset[Patent_number==\"EP0039393\",]"
   ]
  },
  {
   "cell_type": "code",
   "execution_count": 41,
   "metadata": {},
   "outputs": [
    {
     "data": {
      "text/html": [
       "<table>\n",
       "<thead><tr><th scope=col>PDL_ID</th><th scope=col>PDL_ORIGINAL_NAME</th><th scope=col>YEAR_FOUNDED</th><th scope=col>INDUSTRY</th><th scope=col>SIZE_RANGE</th><th scope=col>COUNTRY</th><th scope=col>PDL_MATCH_NAME</th><th scope=col>APPLICANT_MATCH_NAME</th><th scope=col>Patent_number</th><th scope=col>Person_ctry_code</th><th scope=col>...</th><th scope=col>Transportation</th><th scope=col>Field_Applications</th><th scope=col>Functional_Applications</th><th scope=col>Techniques</th><th scope=col>Applicant_Type</th><th scope=col>i.Applicant_Key_Word</th><th scope=col>Multiple_Applicants</th><th scope=col>GPT_Scope</th><th scope=col>Grp</th><th scope=col>DROP</th></tr></thead>\n",
       "<tbody>\n",
       "\t<tr><td>5479744                            </td><td>IBM                                </td><td>2003                               </td><td>COMPUTER SOFTWARE                  </td><td>1-10                               </td><td>ISRAEL                             </td><td>IBM                                </td><td>IBM                                </td><td>EP0039393                          </td><td>UNITED STATES                      </td><td>...                                </td><td>0                                  </td><td>1                                  </td><td>1                                  </td><td>1                                  </td><td>Enterprise                         </td><td>IBM                                </td><td>FALSE                              </td><td>Applied_AI                         </td><td>2                                  </td><td> TRUE                              </td></tr>\n",
       "\t<tr><td>2567154                            </td><td>IBM                                </td><td>1914                               </td><td>INFORMATION TECHNOLOGY AND SERVICES</td><td>1-10                               </td><td>FRANCE                             </td><td>IBM                                </td><td>IBM                                </td><td>EP0039393                          </td><td>UNITED STATES                      </td><td>...                                </td><td>0                                  </td><td>1                                  </td><td>1                                  </td><td>1                                  </td><td>Enterprise                         </td><td>IBM                                </td><td>FALSE                              </td><td>Applied_AI                         </td><td>2                                  </td><td> TRUE                              </td></tr>\n",
       "\t<tr><td>5872184                            </td><td>IBM                                </td><td>1911                               </td><td>INFORMATION TECHNOLOGY AND SERVICES</td><td>&gt;10000                          </td><td>UNITED STATES                      </td><td>IBM                                </td><td>IBM                                </td><td>EP0039393                          </td><td>UNITED STATES                      </td><td>...                                </td><td>0                                  </td><td>1                                  </td><td>1                                  </td><td>1                                  </td><td>Enterprise                         </td><td>IBM                                </td><td>FALSE                              </td><td>Applied_AI                         </td><td>2                                  </td><td>FALSE                              </td></tr>\n",
       "</tbody>\n",
       "</table>\n"
      ],
      "text/latex": [
       "\\begin{tabular}{r|llllllllllllllllllllllllllllllllllllllllllllllllllllllllllllllll}\n",
       " PDL\\_ID & PDL\\_ORIGINAL\\_NAME & YEAR\\_FOUNDED & INDUSTRY & SIZE\\_RANGE & COUNTRY & PDL\\_MATCH\\_NAME & APPLICANT\\_MATCH\\_NAME & Patent\\_number & Person\\_ctry\\_code & ... & Transportation & Field\\_Applications & Functional\\_Applications & Techniques & Applicant\\_Type & i.Applicant\\_Key\\_Word & Multiple\\_Applicants & GPT\\_Scope & Grp & DROP\\\\\n",
       "\\hline\n",
       "\t 5479744                             & IBM                                 & 2003                                & COMPUTER SOFTWARE                   & 1-10                                & ISRAEL                              & IBM                                 & IBM                                 & EP0039393                           & UNITED STATES                       & ...                                 & 0                                   & 1                                   & 1                                   & 1                                   & Enterprise                          & IBM                                 & FALSE                               & Applied\\_AI                        & 2                                   &  TRUE                              \\\\\n",
       "\t 2567154                             & IBM                                 & 1914                                & INFORMATION TECHNOLOGY AND SERVICES & 1-10                                & FRANCE                              & IBM                                 & IBM                                 & EP0039393                           & UNITED STATES                       & ...                                 & 0                                   & 1                                   & 1                                   & 1                                   & Enterprise                          & IBM                                 & FALSE                               & Applied\\_AI                        & 2                                   &  TRUE                              \\\\\n",
       "\t 5872184                             & IBM                                 & 1911                                & INFORMATION TECHNOLOGY AND SERVICES & >10000                              & UNITED STATES                       & IBM                                 & IBM                                 & EP0039393                           & UNITED STATES                       & ...                                 & 0                                   & 1                                   & 1                                   & 1                                   & Enterprise                          & IBM                                 & FALSE                               & Applied\\_AI                        & 2                                   & FALSE                              \\\\\n",
       "\\end{tabular}\n"
      ],
      "text/markdown": [
       "\n",
       "| PDL_ID | PDL_ORIGINAL_NAME | YEAR_FOUNDED | INDUSTRY | SIZE_RANGE | COUNTRY | PDL_MATCH_NAME | APPLICANT_MATCH_NAME | Patent_number | Person_ctry_code | ... | Transportation | Field_Applications | Functional_Applications | Techniques | Applicant_Type | i.Applicant_Key_Word | Multiple_Applicants | GPT_Scope | Grp | DROP |\n",
       "|---|---|---|---|---|---|---|---|---|---|---|---|---|---|---|---|---|---|---|---|---|\n",
       "| 5479744                             | IBM                                 | 2003                                | COMPUTER SOFTWARE                   | 1-10                                | ISRAEL                              | IBM                                 | IBM                                 | EP0039393                           | UNITED STATES                       | ...                                 | 0                                   | 1                                   | 1                                   | 1                                   | Enterprise                          | IBM                                 | FALSE                               | Applied_AI                          | 2                                   |  TRUE                               |\n",
       "| 2567154                             | IBM                                 | 1914                                | INFORMATION TECHNOLOGY AND SERVICES | 1-10                                | FRANCE                              | IBM                                 | IBM                                 | EP0039393                           | UNITED STATES                       | ...                                 | 0                                   | 1                                   | 1                                   | 1                                   | Enterprise                          | IBM                                 | FALSE                               | Applied_AI                          | 2                                   |  TRUE                               |\n",
       "| 5872184                             | IBM                                 | 1911                                | INFORMATION TECHNOLOGY AND SERVICES | >10000                              | UNITED STATES                       | IBM                                 | IBM                                 | EP0039393                           | UNITED STATES                       | ...                                 | 0                                   | 1                                   | 1                                   | 1                                   | Enterprise                          | IBM                                 | FALSE                               | Applied_AI                          | 2                                   | FALSE                               |\n",
       "\n"
      ],
      "text/plain": [
       "  PDL_ID  PDL_ORIGINAL_NAME YEAR_FOUNDED INDUSTRY                           \n",
       "1 5479744 IBM               2003         COMPUTER SOFTWARE                  \n",
       "2 2567154 IBM               1914         INFORMATION TECHNOLOGY AND SERVICES\n",
       "3 5872184 IBM               1911         INFORMATION TECHNOLOGY AND SERVICES\n",
       "  SIZE_RANGE COUNTRY       PDL_MATCH_NAME APPLICANT_MATCH_NAME Patent_number\n",
       "1 1-10       ISRAEL        IBM            IBM                  EP0039393    \n",
       "2 1-10       FRANCE        IBM            IBM                  EP0039393    \n",
       "3 >10000     UNITED STATES IBM            IBM                  EP0039393    \n",
       "  Person_ctry_code ... Transportation Field_Applications\n",
       "1 UNITED STATES    ... 0              1                 \n",
       "2 UNITED STATES    ... 0              1                 \n",
       "3 UNITED STATES    ... 0              1                 \n",
       "  Functional_Applications Techniques Applicant_Type i.Applicant_Key_Word\n",
       "1 1                       1          Enterprise     IBM                 \n",
       "2 1                       1          Enterprise     IBM                 \n",
       "3 1                       1          Enterprise     IBM                 \n",
       "  Multiple_Applicants GPT_Scope  Grp DROP \n",
       "1 FALSE               Applied_AI 2    TRUE\n",
       "2 FALSE               Applied_AI 2    TRUE\n",
       "3 FALSE               Applied_AI 2   FALSE"
      ]
     },
     "metadata": {},
     "output_type": "display_data"
    }
   ],
   "source": [
    "# Create column where is indicated which rows ought to be dropped from the table.\n",
    "#The only entry for a given group to be kept is the first from below\n",
    "Industrial_Patent_Dataset <- Industrial_Patent_Dataset[, DROP := duplicated(Grp, fromLast = TRUE)]\n",
    "Industrial_Patent_Dataset[Patent_number==\"EP0039393\",]"
   ]
  },
  {
   "cell_type": "code",
   "execution_count": 42,
   "metadata": {},
   "outputs": [
    {
     "data": {
      "text/html": [
       "<table>\n",
       "<thead><tr><th scope=col>PDL_ID</th><th scope=col>PDL_ORIGINAL_NAME</th><th scope=col>YEAR_FOUNDED</th><th scope=col>INDUSTRY</th><th scope=col>SIZE_RANGE</th><th scope=col>COUNTRY</th><th scope=col>PDL_MATCH_NAME</th><th scope=col>APPLICANT_MATCH_NAME</th><th scope=col>Patent_number</th><th scope=col>Person_ctry_code</th><th scope=col>...</th><th scope=col>Transportation</th><th scope=col>Field_Applications</th><th scope=col>Functional_Applications</th><th scope=col>Techniques</th><th scope=col>Applicant_Type</th><th scope=col>i.Applicant_Key_Word</th><th scope=col>Multiple_Applicants</th><th scope=col>GPT_Scope</th><th scope=col>Grp</th><th scope=col>DROP</th></tr></thead>\n",
       "<tbody>\n",
       "\t<tr><td>5872184                            </td><td>IBM                                </td><td>1911                               </td><td>INFORMATION TECHNOLOGY AND SERVICES</td><td>&gt;10000                          </td><td>UNITED STATES                      </td><td>IBM                                </td><td>IBM                                </td><td>EP0039393                          </td><td>UNITED STATES                      </td><td>...                                </td><td>0                                  </td><td>1                                  </td><td>1                                  </td><td>1                                  </td><td>Enterprise                         </td><td>IBM                                </td><td>FALSE                              </td><td>Applied_AI                         </td><td>2                                  </td><td>FALSE                              </td></tr>\n",
       "</tbody>\n",
       "</table>\n"
      ],
      "text/latex": [
       "\\begin{tabular}{r|llllllllllllllllllllllllllllllllllllllllllllllllllllllllllllllll}\n",
       " PDL\\_ID & PDL\\_ORIGINAL\\_NAME & YEAR\\_FOUNDED & INDUSTRY & SIZE\\_RANGE & COUNTRY & PDL\\_MATCH\\_NAME & APPLICANT\\_MATCH\\_NAME & Patent\\_number & Person\\_ctry\\_code & ... & Transportation & Field\\_Applications & Functional\\_Applications & Techniques & Applicant\\_Type & i.Applicant\\_Key\\_Word & Multiple\\_Applicants & GPT\\_Scope & Grp & DROP\\\\\n",
       "\\hline\n",
       "\t 5872184                             & IBM                                 & 1911                                & INFORMATION TECHNOLOGY AND SERVICES & >10000                              & UNITED STATES                       & IBM                                 & IBM                                 & EP0039393                           & UNITED STATES                       & ...                                 & 0                                   & 1                                   & 1                                   & 1                                   & Enterprise                          & IBM                                 & FALSE                               & Applied\\_AI                        & 2                                   & FALSE                              \\\\\n",
       "\\end{tabular}\n"
      ],
      "text/markdown": [
       "\n",
       "| PDL_ID | PDL_ORIGINAL_NAME | YEAR_FOUNDED | INDUSTRY | SIZE_RANGE | COUNTRY | PDL_MATCH_NAME | APPLICANT_MATCH_NAME | Patent_number | Person_ctry_code | ... | Transportation | Field_Applications | Functional_Applications | Techniques | Applicant_Type | i.Applicant_Key_Word | Multiple_Applicants | GPT_Scope | Grp | DROP |\n",
       "|---|---|---|---|---|---|---|---|---|---|---|---|---|---|---|---|---|---|---|---|---|\n",
       "| 5872184                             | IBM                                 | 1911                                | INFORMATION TECHNOLOGY AND SERVICES | >10000                              | UNITED STATES                       | IBM                                 | IBM                                 | EP0039393                           | UNITED STATES                       | ...                                 | 0                                   | 1                                   | 1                                   | 1                                   | Enterprise                          | IBM                                 | FALSE                               | Applied_AI                          | 2                                   | FALSE                               |\n",
       "\n"
      ],
      "text/plain": [
       "  PDL_ID  PDL_ORIGINAL_NAME YEAR_FOUNDED INDUSTRY                           \n",
       "1 5872184 IBM               1911         INFORMATION TECHNOLOGY AND SERVICES\n",
       "  SIZE_RANGE COUNTRY       PDL_MATCH_NAME APPLICANT_MATCH_NAME Patent_number\n",
       "1 >10000     UNITED STATES IBM            IBM                  EP0039393    \n",
       "  Person_ctry_code ... Transportation Field_Applications\n",
       "1 UNITED STATES    ... 0              1                 \n",
       "  Functional_Applications Techniques Applicant_Type i.Applicant_Key_Word\n",
       "1 1                       1          Enterprise     IBM                 \n",
       "  Multiple_Applicants GPT_Scope  Grp DROP \n",
       "1 FALSE               Applied_AI 2   FALSE"
      ]
     },
     "metadata": {},
     "output_type": "display_data"
    }
   ],
   "source": [
    "#Keep only rows where DROP==FALSE\n",
    "Industrial_Patent_Dataset <- Industrial_Patent_Dataset[DROP==FALSE,]\n",
    "\n",
    "Industrial_Patent_Dataset[Patent_number==\"EP0039393\",]"
   ]
  },
  {
   "cell_type": "code",
   "execution_count": 43,
   "metadata": {},
   "outputs": [
    {
     "data": {
      "text/html": [
       "<ol class=list-inline>\n",
       "\t<li>19602</li>\n",
       "\t<li>64</li>\n",
       "</ol>\n"
      ],
      "text/latex": [
       "\\begin{enumerate*}\n",
       "\\item 19602\n",
       "\\item 64\n",
       "\\end{enumerate*}\n"
      ],
      "text/markdown": [
       "1. 19602\n",
       "2. 64\n",
       "\n",
       "\n"
      ],
      "text/plain": [
       "[1] 19602    64"
      ]
     },
     "metadata": {},
     "output_type": "display_data"
    }
   ],
   "source": [
    "dim(Industrial_Patent_Dataset)"
   ]
  },
  {
   "cell_type": "markdown",
   "metadata": {},
   "source": [
    "Overview Statistis of Dataset Merging"
   ]
  },
  {
   "cell_type": "code",
   "execution_count": 44,
   "metadata": {},
   "outputs": [
    {
     "data": {
      "text/html": [
       "5417"
      ],
      "text/latex": [
       "5417"
      ],
      "text/markdown": [
       "5417"
      ],
      "text/plain": [
       "[1] 5417"
      ]
     },
     "metadata": {},
     "output_type": "display_data"
    },
    {
     "data": {
      "text/html": [
       "16806"
      ],
      "text/latex": [
       "16806"
      ],
      "text/markdown": [
       "16806"
      ],
      "text/plain": [
       "[1] 16806"
      ]
     },
     "metadata": {},
     "output_type": "display_data"
    },
    {
     "data": {
      "text/html": [
       "0.32232535999048"
      ],
      "text/latex": [
       "0.32232535999048"
      ],
      "text/markdown": [
       "0.32232535999048"
      ],
      "text/plain": [
       "[1] 0.3223254"
      ]
     },
     "metadata": {},
     "output_type": "display_data"
    },
    {
     "data": {
      "text/html": [
       "2466"
      ],
      "text/latex": [
       "2466"
      ],
      "text/markdown": [
       "2466"
      ],
      "text/plain": [
       "[1] 2466"
      ]
     },
     "metadata": {},
     "output_type": "display_data"
    },
    {
     "data": {
      "text/html": [
       "5825"
      ],
      "text/latex": [
       "5825"
      ],
      "text/markdown": [
       "5825"
      ],
      "text/plain": [
       "[1] 5825"
      ]
     },
     "metadata": {},
     "output_type": "display_data"
    },
    {
     "data": {
      "text/html": [
       "0.423347639484979"
      ],
      "text/latex": [
       "0.423347639484979"
      ],
      "text/markdown": [
       "0.423347639484979"
      ],
      "text/plain": [
       "[1] 0.4233476"
      ]
     },
     "metadata": {},
     "output_type": "display_data"
    }
   ],
   "source": [
    "#Number of enterprise applications wth no match\n",
    "No_Match_Applications <- sum(is.na(Industrial_Patent_Dataset[Applicant_Type==\"Enterprise\",PDL_ORIGINAL_NAME]))\n",
    "No_Match_Applications\n",
    "\n",
    "#Total number of enterprise applications\n",
    "Total_Applications <- nrow(Industrial_Patent_Dataset[Applicant_Type==\"Enterprise\",])\n",
    "Total_Applications\n",
    "\n",
    "#Fail rate enterprise applications\n",
    "Fail_Rate_Applications <- No_Match_Applications/Total_Applications\n",
    "Fail_Rate_Applications\n",
    "\n",
    "#Number enterprise applicants with no match\n",
    "No_Match_Applicants <- length(unique(Industrial_Patent_Dataset[Applicant_Type==\"Enterprise\" & \n",
    "                                                               is.na(PDL_ORIGINAL_NAME),Clean_name]))\n",
    "No_Match_Applicants\n",
    "\n",
    "#Total number of enterprise applications\n",
    "Total_Applicants <-length(unique(Industrial_Patent_Dataset[Applicant_Type==\"Enterprise\",Clean_name]))\n",
    "Total_Applicants\n",
    "\n",
    "#Fail rate enterprise applicats\n",
    "Fail_Rate_Applicants <- No_Match_Applicants/Total_Applicants\n",
    "Fail_Rate_Applicants\n"
   ]
  },
  {
   "cell_type": "code",
   "execution_count": 45,
   "metadata": {},
   "outputs": [
    {
     "data": {
      "text/plain": [
       "\n",
       "Direct_Match  Fuzzy_Match \n",
       "        6383         5006 "
      ]
     },
     "metadata": {},
     "output_type": "display_data"
    }
   ],
   "source": [
    "table(Industrial_Patent_Dataset$METHOD)\n",
    "\n"
   ]
  },
  {
   "cell_type": "markdown",
   "metadata": {},
   "source": [
    "## 2.5) Applicant Age Column"
   ]
  },
  {
   "cell_type": "markdown",
   "metadata": {},
   "source": [
    "Add column where the age of the applicant at time of patent application is calculated"
   ]
  },
  {
   "cell_type": "code",
   "execution_count": 46,
   "metadata": {},
   "outputs": [],
   "source": [
    "Industrial_Patent_Dataset <- Industrial_Patent_Dataset[, Year:= lubridate::year(Application_Date)]"
   ]
  },
  {
   "cell_type": "code",
   "execution_count": 47,
   "metadata": {},
   "outputs": [
    {
     "data": {
      "text/html": [
       "<table>\n",
       "<thead><tr><th scope=col>PDL_ID</th><th scope=col>PDL_ORIGINAL_NAME</th><th scope=col>YEAR_FOUNDED</th><th scope=col>INDUSTRY</th><th scope=col>SIZE_RANGE</th><th scope=col>COUNTRY</th><th scope=col>PDL_MATCH_NAME</th><th scope=col>APPLICANT_MATCH_NAME</th><th scope=col>Patent_number</th><th scope=col>Person_ctry_code</th><th scope=col>...</th><th scope=col>Functional_Applications</th><th scope=col>Techniques</th><th scope=col>Applicant_Type</th><th scope=col>i.Applicant_Key_Word</th><th scope=col>Multiple_Applicants</th><th scope=col>GPT_Scope</th><th scope=col>Grp</th><th scope=col>DROP</th><th scope=col>Year</th><th scope=col>Applicant_Age</th></tr></thead>\n",
       "<tbody>\n",
       "\t<tr><td><span style=white-space:pre-wrap>     NA</span>                                            </td><td><span style=white-space:pre-wrap>NA                  </span>                               </td><td><span style=white-space:pre-wrap>  NA</span>                                               </td><td><span style=white-space:pre-wrap>NA                                 </span>                </td><td><span style=white-space:pre-wrap>NA       </span>                                          </td><td><span style=white-space:pre-wrap>NA           </span>                                      </td><td><span style=white-space:pre-wrap>NA            </span>                                     </td><td>SYSTRAN INSTITUT GES FUR FORSCHUNG &amp; ENTWICKLUNG MASCHINELLER SPRACHUBERSETZUNGSSYSTEME</td><td>EP0012777                                                                                  </td><td><span style=white-space:pre-wrap>GERMANY      </span>                                      </td><td>...                                                                                        </td><td>1                                                                                          </td><td>1                                                                                          </td><td>Enterprise                                                                                 </td><td>SYSTRAN                                                                                    </td><td>FALSE                                                                                      </td><td>Applied_AI                                                                                 </td><td>1                                                                                          </td><td>FALSE                                                                                      </td><td>1978                                                                                       </td><td> NA                                                                                        </td></tr>\n",
       "\t<tr><td>5872184                                                                                                                        </td><td><span style=white-space:pre-wrap>IBM                 </span>                                                                   </td><td>1911                                                                                                                           </td><td>INFORMATION TECHNOLOGY AND SERVICES                                                                                            </td><td><span style=white-space:pre-wrap>&gt;10000   </span>                                                                           </td><td>UNITED STATES                                                                                                                  </td><td><span style=white-space:pre-wrap>IBM           </span>                                                                         </td><td><span style=white-space:pre-wrap>IBM                                                                                    </span></td><td>EP0039393                                                                                                                      </td><td>UNITED STATES                                                                                                                  </td><td>...                                                                                                                            </td><td>1                                                                                                                              </td><td>1                                                                                                                              </td><td>Enterprise                                                                                                                     </td><td><span style=white-space:pre-wrap>IBM    </span>                                                                                </td><td>FALSE                                                                                                                          </td><td>Applied_AI                                                                                                                     </td><td>2                                                                                                                              </td><td>FALSE                                                                                                                          </td><td>1981                                                                                                                           </td><td> 70                                                                                                                            </td></tr>\n",
       "\t<tr><td>     NA                                                                                </td><td>NA                                                                                     </td><td>  NA                                                                                   </td><td>NA                                                                                     </td><td>NA                                                                                     </td><td>NA                                                                                     </td><td>NA                                                                                     </td><td>STEULER INDUSTRIEWERKE                                                                 </td><td>EP0059929                                                                              </td><td>GERMANY                                                                                </td><td>...                                                                                    </td><td>0                                                                                      </td><td>0                                                                                      </td><td>Enterprise                                                                             </td><td>STEULER                                                                                </td><td>FALSE                                                                                  </td><td>Applied_AI                                                                             </td><td>3                                                                                      </td><td>FALSE                                                                                  </td><td>1982                                                                                   </td><td> NA                                                                                    </td></tr>\n",
       "\t<tr><td>4399494                                                                                </td><td>UBE INDUSTRIES, LTD.                                                                   </td><td>1897                                                                                   </td><td>CHEMICALS                                                                              </td><td>51-200                                                                                 </td><td>JAPAN                                                                                  </td><td>UBE INDUSTRIES                                                                         </td><td>UBE IND                                                                                </td><td>EP0060671                                                                              </td><td>JAPAN                                                                                  </td><td>...                                                                                    </td><td>0                                                                                      </td><td>0                                                                                      </td><td>Enterprise                                                                             </td><td>UBE                                                                                    </td><td>FALSE                                                                                  </td><td>Applied_AI                                                                             </td><td>4                                                                                      </td><td>FALSE                                                                                  </td><td>1982                                                                                   </td><td> 85                                                                                    </td></tr>\n",
       "\t<tr><td> 471306                                                                                </td><td>TOSHIBA CORPORATION                                                                    </td><td>1875                                                                                   </td><td>ELECTRICAL/ELECTRONIC MANUFACTURING                                                    </td><td>501-1,000                                                                              </td><td>JAPAN                                                                                  </td><td>TOSHIBA                                                                                </td><td>TOSHIBA                                                                                </td><td>EP0091317                                                                              </td><td>JAPAN                                                                                  </td><td>...                                                                                    </td><td>1                                                                                      </td><td>0                                                                                      </td><td>Enterprise                                                                             </td><td>TOSHIBA                                                                                </td><td>FALSE                                                                                  </td><td>Applied_AI                                                                             </td><td>5                                                                                      </td><td>FALSE                                                                                  </td><td>1983                                                                                   </td><td>108                                                                                    </td></tr>\n",
       "\t<tr><td>5454895                                                                                                                        </td><td><span style=white-space:pre-wrap>NCR CORPORATION     </span>                                                                   </td><td>1884                                                                                                                           </td><td>INFORMATION TECHNOLOGY AND SERVICES                                                                                            </td><td><span style=white-space:pre-wrap>&gt;10000   </span>                                                                           </td><td>UNITED STATES                                                                                                                  </td><td><span style=white-space:pre-wrap>NCR           </span>                                                                         </td><td><span style=white-space:pre-wrap>NCR                                                                                    </span></td><td>EP0096712                                                                                                                      </td><td>UNITED STATES                                                                                                                  </td><td>...                                                                                                                            </td><td>1                                                                                                                              </td><td>1                                                                                                                              </td><td>Enterprise                                                                                                                     </td><td><span style=white-space:pre-wrap>NCR    </span>                                                                                </td><td>FALSE                                                                                                                          </td><td>Applied_AI                                                                                                                     </td><td>6                                                                                                                              </td><td>FALSE                                                                                                                          </td><td>1982                                                                                                                           </td><td> 98                                                                                                                            </td></tr>\n",
       "</tbody>\n",
       "</table>\n"
      ],
      "text/latex": [
       "\\begin{tabular}{r|llllllllllllllllllllllllllllllllllllllllllllllllllllllllllllllllll}\n",
       " PDL\\_ID & PDL\\_ORIGINAL\\_NAME & YEAR\\_FOUNDED & INDUSTRY & SIZE\\_RANGE & COUNTRY & PDL\\_MATCH\\_NAME & APPLICANT\\_MATCH\\_NAME & Patent\\_number & Person\\_ctry\\_code & ... & Functional\\_Applications & Techniques & Applicant\\_Type & i.Applicant\\_Key\\_Word & Multiple\\_Applicants & GPT\\_Scope & Grp & DROP & Year & Applicant\\_Age\\\\\n",
       "\\hline\n",
       "\t      NA                                                                                   & NA                                                                                        &   NA                                                                                      & NA                                                                                        & NA                                                                                        & NA                                                                                        & NA                                                                                        & SYSTRAN INSTITUT GES FUR FORSCHUNG \\& ENTWICKLUNG MASCHINELLER SPRACHUBERSETZUNGSSYSTEME & EP0012777                                                                                 & GERMANY                                                                                   & ...                                                                                       & 1                                                                                         & 1                                                                                         & Enterprise                                                                                & SYSTRAN                                                                                   & FALSE                                                                                     & Applied\\_AI                                                                              & 1                                                                                         & FALSE                                                                                     & 1978                                                                                      &  NA                                                                                      \\\\\n",
       "\t 5872184                                                                                 & IBM                                                                                     & 1911                                                                                    & INFORMATION TECHNOLOGY AND SERVICES                                                     & >10000                                                                                  & UNITED STATES                                                                           & IBM                                                                                     & IBM                                                                                     & EP0039393                                                                               & UNITED STATES                                                                           & ...                                                                                     & 1                                                                                       & 1                                                                                       & Enterprise                                                                              & IBM                                                                                     & FALSE                                                                                   & Applied\\_AI                                                                            & 2                                                                                       & FALSE                                                                                   & 1981                                                                                    &  70                                                                                    \\\\\n",
       "\t      NA                                                                                 & NA                                                                                      &   NA                                                                                    & NA                                                                                      & NA                                                                                      & NA                                                                                      & NA                                                                                      & STEULER INDUSTRIEWERKE                                                                  & EP0059929                                                                               & GERMANY                                                                                 & ...                                                                                     & 0                                                                                       & 0                                                                                       & Enterprise                                                                              & STEULER                                                                                 & FALSE                                                                                   & Applied\\_AI                                                                            & 3                                                                                       & FALSE                                                                                   & 1982                                                                                    &  NA                                                                                    \\\\\n",
       "\t 4399494                                                                                 & UBE INDUSTRIES, LTD.                                                                    & 1897                                                                                    & CHEMICALS                                                                               & 51-200                                                                                  & JAPAN                                                                                   & UBE INDUSTRIES                                                                          & UBE IND                                                                                 & EP0060671                                                                               & JAPAN                                                                                   & ...                                                                                     & 0                                                                                       & 0                                                                                       & Enterprise                                                                              & UBE                                                                                     & FALSE                                                                                   & Applied\\_AI                                                                            & 4                                                                                       & FALSE                                                                                   & 1982                                                                                    &  85                                                                                    \\\\\n",
       "\t  471306                                                                                 & TOSHIBA CORPORATION                                                                     & 1875                                                                                    & ELECTRICAL/ELECTRONIC MANUFACTURING                                                     & 501-1,000                                                                               & JAPAN                                                                                   & TOSHIBA                                                                                 & TOSHIBA                                                                                 & EP0091317                                                                               & JAPAN                                                                                   & ...                                                                                     & 1                                                                                       & 0                                                                                       & Enterprise                                                                              & TOSHIBA                                                                                 & FALSE                                                                                   & Applied\\_AI                                                                            & 5                                                                                       & FALSE                                                                                   & 1983                                                                                    & 108                                                                                    \\\\\n",
       "\t 5454895                                                                                 & NCR CORPORATION                                                                         & 1884                                                                                    & INFORMATION TECHNOLOGY AND SERVICES                                                     & >10000                                                                                  & UNITED STATES                                                                           & NCR                                                                                     & NCR                                                                                     & EP0096712                                                                               & UNITED STATES                                                                           & ...                                                                                     & 1                                                                                       & 1                                                                                       & Enterprise                                                                              & NCR                                                                                     & FALSE                                                                                   & Applied\\_AI                                                                            & 6                                                                                       & FALSE                                                                                   & 1982                                                                                    &  98                                                                                    \\\\\n",
       "\\end{tabular}\n"
      ],
      "text/markdown": [
       "\n",
       "| PDL_ID | PDL_ORIGINAL_NAME | YEAR_FOUNDED | INDUSTRY | SIZE_RANGE | COUNTRY | PDL_MATCH_NAME | APPLICANT_MATCH_NAME | Patent_number | Person_ctry_code | ... | Functional_Applications | Techniques | Applicant_Type | i.Applicant_Key_Word | Multiple_Applicants | GPT_Scope | Grp | DROP | Year | Applicant_Age |\n",
       "|---|---|---|---|---|---|---|---|---|---|---|---|---|---|---|---|---|---|---|---|---|\n",
       "|      NA                                                                                 | NA                                                                                      |   NA                                                                                    | NA                                                                                      | NA                                                                                      | NA                                                                                      | NA                                                                                      | SYSTRAN INSTITUT GES FUR FORSCHUNG & ENTWICKLUNG MASCHINELLER SPRACHUBERSETZUNGSSYSTEME | EP0012777                                                                               | GERMANY                                                                                 | ...                                                                                     | 1                                                                                       | 1                                                                                       | Enterprise                                                                              | SYSTRAN                                                                                 | FALSE                                                                                   | Applied_AI                                                                              | 1                                                                                       | FALSE                                                                                   | 1978                                                                                    |  NA                                                                                     |\n",
       "| 5872184                                                                                 | IBM                                                                                     | 1911                                                                                    | INFORMATION TECHNOLOGY AND SERVICES                                                     | >10000                                                                                  | UNITED STATES                                                                           | IBM                                                                                     | IBM                                                                                     | EP0039393                                                                               | UNITED STATES                                                                           | ...                                                                                     | 1                                                                                       | 1                                                                                       | Enterprise                                                                              | IBM                                                                                     | FALSE                                                                                   | Applied_AI                                                                              | 2                                                                                       | FALSE                                                                                   | 1981                                                                                    |  70                                                                                     |\n",
       "|      NA                                                                                 | NA                                                                                      |   NA                                                                                    | NA                                                                                      | NA                                                                                      | NA                                                                                      | NA                                                                                      | STEULER INDUSTRIEWERKE                                                                  | EP0059929                                                                               | GERMANY                                                                                 | ...                                                                                     | 0                                                                                       | 0                                                                                       | Enterprise                                                                              | STEULER                                                                                 | FALSE                                                                                   | Applied_AI                                                                              | 3                                                                                       | FALSE                                                                                   | 1982                                                                                    |  NA                                                                                     |\n",
       "| 4399494                                                                                 | UBE INDUSTRIES, LTD.                                                                    | 1897                                                                                    | CHEMICALS                                                                               | 51-200                                                                                  | JAPAN                                                                                   | UBE INDUSTRIES                                                                          | UBE IND                                                                                 | EP0060671                                                                               | JAPAN                                                                                   | ...                                                                                     | 0                                                                                       | 0                                                                                       | Enterprise                                                                              | UBE                                                                                     | FALSE                                                                                   | Applied_AI                                                                              | 4                                                                                       | FALSE                                                                                   | 1982                                                                                    |  85                                                                                     |\n",
       "|  471306                                                                                 | TOSHIBA CORPORATION                                                                     | 1875                                                                                    | ELECTRICAL/ELECTRONIC MANUFACTURING                                                     | 501-1,000                                                                               | JAPAN                                                                                   | TOSHIBA                                                                                 | TOSHIBA                                                                                 | EP0091317                                                                               | JAPAN                                                                                   | ...                                                                                     | 1                                                                                       | 0                                                                                       | Enterprise                                                                              | TOSHIBA                                                                                 | FALSE                                                                                   | Applied_AI                                                                              | 5                                                                                       | FALSE                                                                                   | 1983                                                                                    | 108                                                                                     |\n",
       "| 5454895                                                                                 | NCR CORPORATION                                                                         | 1884                                                                                    | INFORMATION TECHNOLOGY AND SERVICES                                                     | >10000                                                                                  | UNITED STATES                                                                           | NCR                                                                                     | NCR                                                                                     | EP0096712                                                                               | UNITED STATES                                                                           | ...                                                                                     | 1                                                                                       | 1                                                                                       | Enterprise                                                                              | NCR                                                                                     | FALSE                                                                                   | Applied_AI                                                                              | 6                                                                                       | FALSE                                                                                   | 1982                                                                                    |  98                                                                                     |\n",
       "\n"
      ],
      "text/plain": [
       "  PDL_ID  PDL_ORIGINAL_NAME    YEAR_FOUNDED INDUSTRY                           \n",
       "1      NA NA                     NA         NA                                 \n",
       "2 5872184 IBM                  1911         INFORMATION TECHNOLOGY AND SERVICES\n",
       "3      NA NA                     NA         NA                                 \n",
       "4 4399494 UBE INDUSTRIES, LTD. 1897         CHEMICALS                          \n",
       "5  471306 TOSHIBA CORPORATION  1875         ELECTRICAL/ELECTRONIC MANUFACTURING\n",
       "6 5454895 NCR CORPORATION      1884         INFORMATION TECHNOLOGY AND SERVICES\n",
       "  SIZE_RANGE COUNTRY       PDL_MATCH_NAME\n",
       "1 NA         NA            NA            \n",
       "2 >10000     UNITED STATES IBM           \n",
       "3 NA         NA            NA            \n",
       "4 51-200     JAPAN         UBE INDUSTRIES\n",
       "5 501-1,000  JAPAN         TOSHIBA       \n",
       "6 >10000     UNITED STATES NCR           \n",
       "  APPLICANT_MATCH_NAME                                                                   \n",
       "1 SYSTRAN INSTITUT GES FUR FORSCHUNG & ENTWICKLUNG MASCHINELLER SPRACHUBERSETZUNGSSYSTEME\n",
       "2 IBM                                                                                    \n",
       "3 STEULER INDUSTRIEWERKE                                                                 \n",
       "4 UBE IND                                                                                \n",
       "5 TOSHIBA                                                                                \n",
       "6 NCR                                                                                    \n",
       "  Patent_number Person_ctry_code ... Functional_Applications Techniques\n",
       "1 EP0012777     GERMANY          ... 1                       1         \n",
       "2 EP0039393     UNITED STATES    ... 1                       1         \n",
       "3 EP0059929     GERMANY          ... 0                       0         \n",
       "4 EP0060671     JAPAN            ... 0                       0         \n",
       "5 EP0091317     JAPAN            ... 1                       0         \n",
       "6 EP0096712     UNITED STATES    ... 1                       1         \n",
       "  Applicant_Type i.Applicant_Key_Word Multiple_Applicants GPT_Scope  Grp DROP \n",
       "1 Enterprise     SYSTRAN              FALSE               Applied_AI 1   FALSE\n",
       "2 Enterprise     IBM                  FALSE               Applied_AI 2   FALSE\n",
       "3 Enterprise     STEULER              FALSE               Applied_AI 3   FALSE\n",
       "4 Enterprise     UBE                  FALSE               Applied_AI 4   FALSE\n",
       "5 Enterprise     TOSHIBA              FALSE               Applied_AI 5   FALSE\n",
       "6 Enterprise     NCR                  FALSE               Applied_AI 6   FALSE\n",
       "  Year Applicant_Age\n",
       "1 1978  NA          \n",
       "2 1981  70          \n",
       "3 1982  NA          \n",
       "4 1982  85          \n",
       "5 1983 108          \n",
       "6 1982  98          "
      ]
     },
     "metadata": {},
     "output_type": "display_data"
    }
   ],
   "source": [
    "Industrial_Patent_Dataset <- Industrial_Patent_Dataset[, Applicant_Age:= Year-YEAR_FOUNDED]\n",
    "head(Industrial_Patent_Dataset)"
   ]
  },
  {
   "cell_type": "markdown",
   "metadata": {},
   "source": [
    "### 2.5.1) Remove Industrial Information of Patent Applications with Negative Applicant Age "
   ]
  },
  {
   "cell_type": "code",
   "execution_count": 48,
   "metadata": {},
   "outputs": [
    {
     "data": {
      "text/plain": [
       "   Min. 1st Qu.  Median    Mean 3rd Qu.    Max.    NA's \n",
       " -28.00    5.00   20.00   36.63   50.00  199.00    8213 "
      ]
     },
     "metadata": {},
     "output_type": "display_data"
    }
   ],
   "source": [
    "summary(Industrial_Patent_Dataset$Applicant_Age)"
   ]
  },
  {
   "cell_type": "code",
   "execution_count": 49,
   "metadata": {},
   "outputs": [],
   "source": [
    "Industrial_Patent_Dataset <- Industrial_Patent_Dataset[, Applicant_Age:= ifelse(Applicant_Age<0, NA,Applicant_Age)]"
   ]
  },
  {
   "cell_type": "code",
   "execution_count": 50,
   "metadata": {},
   "outputs": [
    {
     "data": {
      "text/plain": [
       "   Min. 1st Qu.  Median    Mean 3rd Qu.    Max.    NA's \n",
       "   0.00    8.00   24.00   40.81   59.00  199.00    9160 "
      ]
     },
     "metadata": {},
     "output_type": "display_data"
    }
   ],
   "source": [
    "summary(Industrial_Patent_Dataset$Applicant_Age)"
   ]
  },
  {
   "cell_type": "markdown",
   "metadata": {},
   "source": [
    "Make other columns from the industrial dataset NA"
   ]
  },
  {
   "cell_type": "code",
   "execution_count": 55,
   "metadata": {},
   "outputs": [],
   "source": [
    "#PDL_ID\n",
    "Industrial_Patent_Dataset <- Industrial_Patent_Dataset[,PDL_ID := ifelse(is.na(Applicant_Age)==TRUE, NA, PDL_ID)]\n",
    "\n",
    "#PDL_ORIGINAL_NAME\n",
    "Industrial_Patent_Dataset <- Industrial_Patent_Dataset[,PDL_ORIGINAL_NAME := ifelse(is.na(Applicant_Age)==TRUE, \n",
    "                                                                                    NA, PDL_ORIGINAL_NAME)]\n",
    "\n",
    "#YEAR_FOUNDED\n",
    "Industrial_Patent_Dataset <- Industrial_Patent_Dataset[,YEAR_FOUNDED := ifelse(is.na(Applicant_Age)==TRUE,\n",
    "                                                                               NA, YEAR_FOUNDED)]\n",
    "\n",
    "#INDUSTRY\n",
    "Industrial_Patent_Dataset <- Industrial_Patent_Dataset[,INDUSTRY := ifelse(is.na(Applicant_Age)==TRUE, NA, INDUSTRY)]\n",
    "\n",
    "#SIZE_RANGE\n",
    "Industrial_Patent_Dataset <- Industrial_Patent_Dataset[,SIZE_RANGE := ifelse(is.na(Applicant_Age)==TRUE, NA, SIZE_RANGE)]\n",
    "\n",
    "#COUNTRY\n",
    "Industrial_Patent_Dataset <- Industrial_Patent_Dataset[,COUNTRY := ifelse(is.na(Applicant_Age)==TRUE, NA, COUNTRY)]\n",
    "\n",
    "#PDL_MATCH_NAME\n",
    "Industrial_Patent_Dataset <- Industrial_Patent_Dataset[,PDL_MATCH_NAME := ifelse(is.na(Applicant_Age)==TRUE, NA, PDL_MATCH_NAME)]\n"
   ]
  },
  {
   "cell_type": "markdown",
   "metadata": {},
   "source": [
    "Consistency check"
   ]
  },
  {
   "cell_type": "code",
   "execution_count": 57,
   "metadata": {},
   "outputs": [
    {
     "data": {
      "text/html": [
       "9160"
      ],
      "text/latex": [
       "9160"
      ],
      "text/markdown": [
       "9160"
      ],
      "text/plain": [
       "[1] 9160"
      ]
     },
     "metadata": {},
     "output_type": "display_data"
    },
    {
     "data": {
      "text/html": [
       "9160"
      ],
      "text/latex": [
       "9160"
      ],
      "text/markdown": [
       "9160"
      ],
      "text/plain": [
       "[1] 9160"
      ]
     },
     "metadata": {},
     "output_type": "display_data"
    },
    {
     "data": {
      "text/html": [
       "9160"
      ],
      "text/latex": [
       "9160"
      ],
      "text/markdown": [
       "9160"
      ],
      "text/plain": [
       "[1] 9160"
      ]
     },
     "metadata": {},
     "output_type": "display_data"
    },
    {
     "data": {
      "text/html": [
       "9160"
      ],
      "text/latex": [
       "9160"
      ],
      "text/markdown": [
       "9160"
      ],
      "text/plain": [
       "[1] 9160"
      ]
     },
     "metadata": {},
     "output_type": "display_data"
    },
    {
     "data": {
      "text/html": [
       "9160"
      ],
      "text/latex": [
       "9160"
      ],
      "text/markdown": [
       "9160"
      ],
      "text/plain": [
       "[1] 9160"
      ]
     },
     "metadata": {},
     "output_type": "display_data"
    },
    {
     "data": {
      "text/html": [
       "9160"
      ],
      "text/latex": [
       "9160"
      ],
      "text/markdown": [
       "9160"
      ],
      "text/plain": [
       "[1] 9160"
      ]
     },
     "metadata": {},
     "output_type": "display_data"
    },
    {
     "data": {
      "text/html": [
       "9160"
      ],
      "text/latex": [
       "9160"
      ],
      "text/markdown": [
       "9160"
      ],
      "text/plain": [
       "[1] 9160"
      ]
     },
     "metadata": {},
     "output_type": "display_data"
    }
   ],
   "source": [
    "sum(is.na(Industrial_Patent_Dataset$PDL_ID))\n",
    "sum(is.na(Industrial_Patent_Dataset$PDL_ORIGINAL_NAME))\n",
    "sum(is.na(Industrial_Patent_Dataset$YEAR_FOUNDED))\n",
    "sum(is.na(Industrial_Patent_Dataset$INDUSTRY))\n",
    "sum(is.na(Industrial_Patent_Dataset$SIZE_RANGE))\n",
    "sum(is.na(Industrial_Patent_Dataset$COUNTRY))\n",
    "sum(is.na(Industrial_Patent_Dataset$PDL_MATCH_NAME))"
   ]
  },
  {
   "cell_type": "markdown",
   "metadata": {},
   "source": [
    "# 4) Output "
   ]
  },
  {
   "cell_type": "code",
   "execution_count": 58,
   "metadata": {},
   "outputs": [
    {
     "data": {
      "text/html": [
       "<ol class=list-inline>\n",
       "\t<li>19602</li>\n",
       "\t<li>54</li>\n",
       "</ol>\n"
      ],
      "text/latex": [
       "\\begin{enumerate*}\n",
       "\\item 19602\n",
       "\\item 54\n",
       "\\end{enumerate*}\n"
      ],
      "text/markdown": [
       "1. 19602\n",
       "2. 54\n",
       "\n",
       "\n"
      ],
      "text/plain": [
       "[1] 19602    54"
      ]
     },
     "metadata": {},
     "output_type": "display_data"
    }
   ],
   "source": [
    "#Drop irrelevant features\n",
    "Drop_Features_Final <- c(\"PDL_ID\", \"Applicant_Key_Word\", \"HAN_ID\", \"Country\", \"Title\", \"Applicants\", \n",
    "                    \"Inventors\", \"i.Applicant_Key_Word\", \"COUNTRY_MATCH\",\"Multiple_Applicants\",\"Grp\", \"DROP\")\n",
    "\n",
    "Industrial_Patent_Dataset <- dplyr::select(Industrial_Patent_Dataset, -!!Drop_Features_Final)\n",
    "dim(Industrial_Patent_Dataset)"
   ]
  },
  {
   "cell_type": "code",
   "execution_count": 59,
   "metadata": {},
   "outputs": [
    {
     "data": {
      "text/html": [
       "<ol class=list-inline>\n",
       "\t<li>'Patent_number'</li>\n",
       "\t<li>'Application_Date'</li>\n",
       "\t<li>'Clean_name'</li>\n",
       "\t<li>'APPLICANT_MATCH_NAME'</li>\n",
       "\t<li>'PDL_ORIGINAL_NAME'</li>\n",
       "\t<li>'PDL_MATCH_NAME'</li>\n",
       "\t<li>'METHOD'</li>\n",
       "\t<li>'Person_ctry_code'</li>\n",
       "\t<li>'COUNTRY'</li>\n",
       "\t<li>'Applicant_Type'</li>\n",
       "\t<li>'YEAR_FOUNDED'</li>\n",
       "\t<li>'SIZE_RANGE'</li>\n",
       "\t<li>'INDUSTRY'</li>\n",
       "\t<li>'GPT_Scope'</li>\n",
       "\t<li>'Year'</li>\n",
       "\t<li>'Applicant_Age'</li>\n",
       "\t<li>'Agriculture'</li>\n",
       "\t<li>'Arts and Humanities'</li>\n",
       "\t<li>'Banking and Finance'</li>\n",
       "\t<li>'Business'</li>\n",
       "\t<li>'Cartography'</li>\n",
       "\t<li>'Computer Vision'</li>\n",
       "\t<li>'Computing in Government'</li>\n",
       "\t<li>'Control Methods'</li>\n",
       "\t<li>'Distributed Artificial Intelligence'</li>\n",
       "\t<li>'Document Management and Text Processing'</li>\n",
       "\t<li>'Education'</li>\n",
       "\t<li>'Energy Management'</li>\n",
       "\t<li>'Entertainment'</li>\n",
       "\t<li>'Fuzzy Logic'</li>\n",
       "\t<li>'Knowledge Representation And Reasoning'</li>\n",
       "\t<li>'Law Social and Behavioral Sciences'</li>\n",
       "\t<li>'Life and Medical Sciences'</li>\n",
       "\t<li>'Logic Programming'</li>\n",
       "\t<li>'Machine Learning'</li>\n",
       "\t<li>'Military'</li>\n",
       "\t<li>'Natural Language Processing'</li>\n",
       "\t<li>'Networks'</li>\n",
       "\t<li>'Ontology Engineering'</li>\n",
       "\t<li>'Personal Devices Computing and Hc'</li>\n",
       "\t<li>'Physical Sciences and Engineering'</li>\n",
       "\t<li>'Planning and Scheduling'</li>\n",
       "\t<li>'Predictive Analytics'</li>\n",
       "\t<li>'Probabilistic Reasoning'</li>\n",
       "\t<li>'Publishing'</li>\n",
       "\t<li>'Robotics'</li>\n",
       "\t<li>'Search Methods'</li>\n",
       "\t<li>'Security'</li>\n",
       "\t<li>'Speech Processing'</li>\n",
       "\t<li>'Telecommunications'</li>\n",
       "\t<li>'Transportation'</li>\n",
       "\t<li>'Field_Applications'</li>\n",
       "\t<li>'Functional_Applications'</li>\n",
       "\t<li>'Techniques'</li>\n",
       "</ol>\n"
      ],
      "text/latex": [
       "\\begin{enumerate*}\n",
       "\\item 'Patent\\_number'\n",
       "\\item 'Application\\_Date'\n",
       "\\item 'Clean\\_name'\n",
       "\\item 'APPLICANT\\_MATCH\\_NAME'\n",
       "\\item 'PDL\\_ORIGINAL\\_NAME'\n",
       "\\item 'PDL\\_MATCH\\_NAME'\n",
       "\\item 'METHOD'\n",
       "\\item 'Person\\_ctry\\_code'\n",
       "\\item 'COUNTRY'\n",
       "\\item 'Applicant\\_Type'\n",
       "\\item 'YEAR\\_FOUNDED'\n",
       "\\item 'SIZE\\_RANGE'\n",
       "\\item 'INDUSTRY'\n",
       "\\item 'GPT\\_Scope'\n",
       "\\item 'Year'\n",
       "\\item 'Applicant\\_Age'\n",
       "\\item 'Agriculture'\n",
       "\\item 'Arts and Humanities'\n",
       "\\item 'Banking and Finance'\n",
       "\\item 'Business'\n",
       "\\item 'Cartography'\n",
       "\\item 'Computer Vision'\n",
       "\\item 'Computing in Government'\n",
       "\\item 'Control Methods'\n",
       "\\item 'Distributed Artificial Intelligence'\n",
       "\\item 'Document Management and Text Processing'\n",
       "\\item 'Education'\n",
       "\\item 'Energy Management'\n",
       "\\item 'Entertainment'\n",
       "\\item 'Fuzzy Logic'\n",
       "\\item 'Knowledge Representation And Reasoning'\n",
       "\\item 'Law Social and Behavioral Sciences'\n",
       "\\item 'Life and Medical Sciences'\n",
       "\\item 'Logic Programming'\n",
       "\\item 'Machine Learning'\n",
       "\\item 'Military'\n",
       "\\item 'Natural Language Processing'\n",
       "\\item 'Networks'\n",
       "\\item 'Ontology Engineering'\n",
       "\\item 'Personal Devices Computing and Hc'\n",
       "\\item 'Physical Sciences and Engineering'\n",
       "\\item 'Planning and Scheduling'\n",
       "\\item 'Predictive Analytics'\n",
       "\\item 'Probabilistic Reasoning'\n",
       "\\item 'Publishing'\n",
       "\\item 'Robotics'\n",
       "\\item 'Search Methods'\n",
       "\\item 'Security'\n",
       "\\item 'Speech Processing'\n",
       "\\item 'Telecommunications'\n",
       "\\item 'Transportation'\n",
       "\\item 'Field\\_Applications'\n",
       "\\item 'Functional\\_Applications'\n",
       "\\item 'Techniques'\n",
       "\\end{enumerate*}\n"
      ],
      "text/markdown": [
       "1. 'Patent_number'\n",
       "2. 'Application_Date'\n",
       "3. 'Clean_name'\n",
       "4. 'APPLICANT_MATCH_NAME'\n",
       "5. 'PDL_ORIGINAL_NAME'\n",
       "6. 'PDL_MATCH_NAME'\n",
       "7. 'METHOD'\n",
       "8. 'Person_ctry_code'\n",
       "9. 'COUNTRY'\n",
       "10. 'Applicant_Type'\n",
       "11. 'YEAR_FOUNDED'\n",
       "12. 'SIZE_RANGE'\n",
       "13. 'INDUSTRY'\n",
       "14. 'GPT_Scope'\n",
       "15. 'Year'\n",
       "16. 'Applicant_Age'\n",
       "17. 'Agriculture'\n",
       "18. 'Arts and Humanities'\n",
       "19. 'Banking and Finance'\n",
       "20. 'Business'\n",
       "21. 'Cartography'\n",
       "22. 'Computer Vision'\n",
       "23. 'Computing in Government'\n",
       "24. 'Control Methods'\n",
       "25. 'Distributed Artificial Intelligence'\n",
       "26. 'Document Management and Text Processing'\n",
       "27. 'Education'\n",
       "28. 'Energy Management'\n",
       "29. 'Entertainment'\n",
       "30. 'Fuzzy Logic'\n",
       "31. 'Knowledge Representation And Reasoning'\n",
       "32. 'Law Social and Behavioral Sciences'\n",
       "33. 'Life and Medical Sciences'\n",
       "34. 'Logic Programming'\n",
       "35. 'Machine Learning'\n",
       "36. 'Military'\n",
       "37. 'Natural Language Processing'\n",
       "38. 'Networks'\n",
       "39. 'Ontology Engineering'\n",
       "40. 'Personal Devices Computing and Hc'\n",
       "41. 'Physical Sciences and Engineering'\n",
       "42. 'Planning and Scheduling'\n",
       "43. 'Predictive Analytics'\n",
       "44. 'Probabilistic Reasoning'\n",
       "45. 'Publishing'\n",
       "46. 'Robotics'\n",
       "47. 'Search Methods'\n",
       "48. 'Security'\n",
       "49. 'Speech Processing'\n",
       "50. 'Telecommunications'\n",
       "51. 'Transportation'\n",
       "52. 'Field_Applications'\n",
       "53. 'Functional_Applications'\n",
       "54. 'Techniques'\n",
       "\n",
       "\n"
      ],
      "text/plain": [
       " [1] \"Patent_number\"                          \n",
       " [2] \"Application_Date\"                       \n",
       " [3] \"Clean_name\"                             \n",
       " [4] \"APPLICANT_MATCH_NAME\"                   \n",
       " [5] \"PDL_ORIGINAL_NAME\"                      \n",
       " [6] \"PDL_MATCH_NAME\"                         \n",
       " [7] \"METHOD\"                                 \n",
       " [8] \"Person_ctry_code\"                       \n",
       " [9] \"COUNTRY\"                                \n",
       "[10] \"Applicant_Type\"                         \n",
       "[11] \"YEAR_FOUNDED\"                           \n",
       "[12] \"SIZE_RANGE\"                             \n",
       "[13] \"INDUSTRY\"                               \n",
       "[14] \"GPT_Scope\"                              \n",
       "[15] \"Year\"                                   \n",
       "[16] \"Applicant_Age\"                          \n",
       "[17] \"Agriculture\"                            \n",
       "[18] \"Arts and Humanities\"                    \n",
       "[19] \"Banking and Finance\"                    \n",
       "[20] \"Business\"                               \n",
       "[21] \"Cartography\"                            \n",
       "[22] \"Computer Vision\"                        \n",
       "[23] \"Computing in Government\"                \n",
       "[24] \"Control Methods\"                        \n",
       "[25] \"Distributed Artificial Intelligence\"    \n",
       "[26] \"Document Management and Text Processing\"\n",
       "[27] \"Education\"                              \n",
       "[28] \"Energy Management\"                      \n",
       "[29] \"Entertainment\"                          \n",
       "[30] \"Fuzzy Logic\"                            \n",
       "[31] \"Knowledge Representation And Reasoning\" \n",
       "[32] \"Law Social and Behavioral Sciences\"     \n",
       "[33] \"Life and Medical Sciences\"              \n",
       "[34] \"Logic Programming\"                      \n",
       "[35] \"Machine Learning\"                       \n",
       "[36] \"Military\"                               \n",
       "[37] \"Natural Language Processing\"            \n",
       "[38] \"Networks\"                               \n",
       "[39] \"Ontology Engineering\"                   \n",
       "[40] \"Personal Devices Computing and Hc\"      \n",
       "[41] \"Physical Sciences and Engineering\"      \n",
       "[42] \"Planning and Scheduling\"                \n",
       "[43] \"Predictive Analytics\"                   \n",
       "[44] \"Probabilistic Reasoning\"                \n",
       "[45] \"Publishing\"                             \n",
       "[46] \"Robotics\"                               \n",
       "[47] \"Search Methods\"                         \n",
       "[48] \"Security\"                               \n",
       "[49] \"Speech Processing\"                      \n",
       "[50] \"Telecommunications\"                     \n",
       "[51] \"Transportation\"                         \n",
       "[52] \"Field_Applications\"                     \n",
       "[53] \"Functional_Applications\"                \n",
       "[54] \"Techniques\"                             "
      ]
     },
     "metadata": {},
     "output_type": "display_data"
    }
   ],
   "source": [
    "#reorder columns\n",
    "setcolorder(Industrial_Patent_Dataset, c(\"Patent_number\", \"Application_Date\", \"Clean_name\", \"APPLICANT_MATCH_NAME\", \n",
    "                          \"PDL_ORIGINAL_NAME\",\"PDL_MATCH_NAME\",\"METHOD\", \"Person_ctry_code\", \"COUNTRY\",\n",
    "                          \"Applicant_Type\", \"YEAR_FOUNDED\",\"SIZE_RANGE\", \"INDUSTRY\",\"GPT_Scope\", \"Year\",\"Applicant_Age\"))\n",
    "colnames(Industrial_Patent_Dataset)"
   ]
  },
  {
   "cell_type": "code",
   "execution_count": 60,
   "metadata": {},
   "outputs": [],
   "source": [
    "fwrite(Industrial_Patent_Dataset, \"F:/Thesis/Working_Data/Final\\\\Industrial_Patent_Dataset.csv\", col.names = TRUE )"
   ]
  },
  {
   "cell_type": "code",
   "execution_count": null,
   "metadata": {},
   "outputs": [],
   "source": []
  }
 ],
 "metadata": {
  "kernelspec": {
   "display_name": "R",
   "language": "R",
   "name": "ir"
  },
  "language_info": {
   "codemirror_mode": "r",
   "file_extension": ".r",
   "mimetype": "text/x-r-source",
   "name": "R",
   "pygments_lexer": "r",
   "version": "3.6.1"
  }
 },
 "nbformat": 4,
 "nbformat_minor": 2
}
