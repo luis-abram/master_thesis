{
 "cells": [
  {
   "cell_type": "markdown",
   "metadata": {},
   "source": [
    "Library and Directory Setup"
   ]
  },
  {
   "cell_type": "code",
   "execution_count": 1,
   "metadata": {},
   "outputs": [
    {
     "name": "stderr",
     "output_type": "stream",
     "text": [
      "Warning message:\n",
      "\"package 'data.table' was built under R version 3.6.3\""
     ]
    }
   ],
   "source": [
    "library(data.table)"
   ]
  },
  {
   "cell_type": "code",
   "execution_count": 2,
   "metadata": {},
   "outputs": [
    {
     "data": {
      "text/html": [
       "'F:/Thesis/Source_Data/OECD_HAN'"
      ],
      "text/latex": [
       "'F:/Thesis/Source\\_Data/OECD\\_HAN'"
      ],
      "text/markdown": [
       "'F:/Thesis/Source_Data/OECD_HAN'"
      ],
      "text/plain": [
       "[1] \"F:/Thesis/Source_Data/OECD_HAN\""
      ]
     },
     "metadata": {},
     "output_type": "display_data"
    }
   ],
   "source": [
    "setwd(\"F:/Thesis/Source_Data/OECD_HAN\")\n",
    "getwd()"
   ]
  },
  {
   "cell_type": "markdown",
   "metadata": {},
   "source": [
    "## 1) Call Necessary HAN Tables\n",
    "HARM_NAMES and HAN_PATENTS\n",
    "\n",
    "Tables have been previously unzipped\n",
    "\n",
    "WARNING: may take some time loading as HAN_PATENTS has around 16 million entries"
   ]
  },
  {
   "cell_type": "code",
   "execution_count": 3,
   "metadata": {},
   "outputs": [
    {
     "data": {
      "text/html": [
       "<ol class=list-inline>\n",
       "\t<li>4355564</li>\n",
       "\t<li>3</li>\n",
       "</ol>\n"
      ],
      "text/latex": [
       "\\begin{enumerate*}\n",
       "\\item 4355564\n",
       "\\item 3\n",
       "\\end{enumerate*}\n"
      ],
      "text/markdown": [
       "1. 4355564\n",
       "2. 3\n",
       "\n",
       "\n"
      ],
      "text/plain": [
       "[1] 4355564       3"
      ]
     },
     "metadata": {},
     "output_type": "display_data"
    },
    {
     "data": {
      "text/html": [
       "<ol class=list-inline>\n",
       "\t<li>16113907</li>\n",
       "\t<li>5</li>\n",
       "</ol>\n"
      ],
      "text/latex": [
       "\\begin{enumerate*}\n",
       "\\item 16113907\n",
       "\\item 5\n",
       "\\end{enumerate*}\n"
      ],
      "text/markdown": [
       "1. 16113907\n",
       "2. 5\n",
       "\n",
       "\n"
      ],
      "text/plain": [
       "[1] 16113907        5"
      ]
     },
     "metadata": {},
     "output_type": "display_data"
    }
   ],
   "source": [
    "HARM_NAMES <- fread(\"202001_HARM_NAMES.txt\", header=TRUE, sep=\"|\", encoding=\"UTF-8\")\n",
    "HAN_PATENTS <-fread(\"202001_HAN_PATENTS.txt\", header=TRUE, sep = \"|\", encoding=\"UTF-8\")\n",
    "\n",
    "dim(HARM_NAMES)\n",
    "dim(HAN_PATENTS)"
   ]
  },
  {
   "cell_type": "markdown",
   "metadata": {},
   "source": [
    "## 2) Combine Tables"
   ]
  },
  {
   "cell_type": "code",
   "execution_count": 4,
   "metadata": {},
   "outputs": [
    {
     "data": {
      "text/html": [
       "<ol class=list-inline>\n",
       "\t<li>'HARM_ID'</li>\n",
       "\t<li>'Clean_name'</li>\n",
       "\t<li>'Person_ctry_code'</li>\n",
       "</ol>\n"
      ],
      "text/latex": [
       "\\begin{enumerate*}\n",
       "\\item 'HARM\\_ID'\n",
       "\\item 'Clean\\_name'\n",
       "\\item 'Person\\_ctry\\_code'\n",
       "\\end{enumerate*}\n"
      ],
      "text/markdown": [
       "1. 'HARM_ID'\n",
       "2. 'Clean_name'\n",
       "3. 'Person_ctry_code'\n",
       "\n",
       "\n"
      ],
      "text/plain": [
       "[1] \"HARM_ID\"          \"Clean_name\"       \"Person_ctry_code\""
      ]
     },
     "metadata": {},
     "output_type": "display_data"
    },
    {
     "data": {
      "text/html": [
       "<ol class=list-inline>\n",
       "\t<li>'HAN_ID'</li>\n",
       "\t<li>'HARM_ID'</li>\n",
       "\t<li>'Appln_id'</li>\n",
       "\t<li>'Publn_auth'</li>\n",
       "\t<li>'Patent_number'</li>\n",
       "</ol>\n"
      ],
      "text/latex": [
       "\\begin{enumerate*}\n",
       "\\item 'HAN\\_ID'\n",
       "\\item 'HARM\\_ID'\n",
       "\\item 'Appln\\_id'\n",
       "\\item 'Publn\\_auth'\n",
       "\\item 'Patent\\_number'\n",
       "\\end{enumerate*}\n"
      ],
      "text/markdown": [
       "1. 'HAN_ID'\n",
       "2. 'HARM_ID'\n",
       "3. 'Appln_id'\n",
       "4. 'Publn_auth'\n",
       "5. 'Patent_number'\n",
       "\n",
       "\n"
      ],
      "text/plain": [
       "[1] \"HAN_ID\"        \"HARM_ID\"       \"Appln_id\"      \"Publn_auth\"   \n",
       "[5] \"Patent_number\""
      ]
     },
     "metadata": {},
     "output_type": "display_data"
    }
   ],
   "source": [
    "colnames(HARM_NAMES)\n",
    "colnames(HAN_PATENTS)"
   ]
  },
  {
   "cell_type": "code",
   "execution_count": null,
   "metadata": {},
   "outputs": [],
   "source": [
    "Match by setting 'HARM_ID' as identification key"
   ]
  },
  {
   "cell_type": "code",
   "execution_count": 5,
   "metadata": {},
   "outputs": [
    {
     "data": {
      "text/html": [
       "<table>\n",
       "<thead><tr><th scope=col>HARM_ID</th><th scope=col>HAN_ID</th><th scope=col>Appln_id</th><th scope=col>Publn_auth</th><th scope=col>Patent_number</th><th scope=col>Clean_name</th><th scope=col>Person_ctry_code</th></tr></thead>\n",
       "<tbody>\n",
       "\t<tr><td> 4                                                                   </td><td> 4                                                                   </td><td>311606173                                                            </td><td>US                                                                   </td><td>US8668089                                                            </td><td>“DEUTSCHE SEE” GMBH                                                  </td><td>DE                                                                   </td></tr>\n",
       "\t<tr><td> 7                                                                   </td><td> 7                                                                   </td><td>439191607                                                            </td><td>US                                                                   </td><td>US9409947                                                            </td><td>“IVIX” LTD                                                           </td><td>RU                                                                   </td></tr>\n",
       "\t<tr><td>10                                                                   </td><td>10                                                                   </td><td>365204276                                                            </td><td>US                                                                   </td><td>US8513480                                                            </td><td>“RRT” LTD                                                            </td><td>RU                                                                   </td></tr>\n",
       "\t<tr><td>14                                                                   </td><td>14                                                                   </td><td>336903179                                                            </td><td>WO                                                                   </td><td>WO2011112122                                                         </td><td>«FEDERAL GRID CO UNIFIED ENERGY SYSTEMS» JOINT STOCK CO «FGC UES» JSC</td><td>RU                                                                   </td></tr>\n",
       "\t<tr><td>14                                                                   </td><td>14                                                                   </td><td>363622722                                                            </td><td>WO                                                                   </td><td>WO2012064218                                                         </td><td>«FEDERAL GRID CO UNIFIED ENERGY SYSTEMS» JOINT STOCK CO «FGC UES» JSC</td><td>RU                                                                   </td></tr>\n",
       "</tbody>\n",
       "</table>\n"
      ],
      "text/latex": [
       "\\begin{tabular}{r|lllllll}\n",
       " HARM\\_ID & HAN\\_ID & Appln\\_id & Publn\\_auth & Patent\\_number & Clean\\_name & Person\\_ctry\\_code\\\\\n",
       "\\hline\n",
       "\t  4                                                                    &  4                                                                    & 311606173                                                             & US                                                                    & US8668089                                                             & “DEUTSCHE SEE” GMBH                                                   & DE                                                                   \\\\\n",
       "\t  7                                                                    &  7                                                                    & 439191607                                                             & US                                                                    & US9409947                                                             & “IVIX” LTD                                                            & RU                                                                   \\\\\n",
       "\t 10                                                                    & 10                                                                    & 365204276                                                             & US                                                                    & US8513480                                                             & “RRT” LTD                                                             & RU                                                                   \\\\\n",
       "\t 14                                                                    & 14                                                                    & 336903179                                                             & WO                                                                    & WO2011112122                                                          & «FEDERAL GRID CO UNIFIED ENERGY SYSTEMS» JOINT STOCK CO «FGC UES» JSC & RU                                                                   \\\\\n",
       "\t 14                                                                    & 14                                                                    & 363622722                                                             & WO                                                                    & WO2012064218                                                          & «FEDERAL GRID CO UNIFIED ENERGY SYSTEMS» JOINT STOCK CO «FGC UES» JSC & RU                                                                   \\\\\n",
       "\\end{tabular}\n"
      ],
      "text/markdown": [
       "\n",
       "| HARM_ID | HAN_ID | Appln_id | Publn_auth | Patent_number | Clean_name | Person_ctry_code |\n",
       "|---|---|---|---|---|---|---|\n",
       "|  4                                                                    |  4                                                                    | 311606173                                                             | US                                                                    | US8668089                                                             | “DEUTSCHE SEE” GMBH                                                   | DE                                                                    |\n",
       "|  7                                                                    |  7                                                                    | 439191607                                                             | US                                                                    | US9409947                                                             | “IVIX” LTD                                                            | RU                                                                    |\n",
       "| 10                                                                    | 10                                                                    | 365204276                                                             | US                                                                    | US8513480                                                             | “RRT” LTD                                                             | RU                                                                    |\n",
       "| 14                                                                    | 14                                                                    | 336903179                                                             | WO                                                                    | WO2011112122                                                          | «FEDERAL GRID CO UNIFIED ENERGY SYSTEMS» JOINT STOCK CO «FGC UES» JSC | RU                                                                    |\n",
       "| 14                                                                    | 14                                                                    | 363622722                                                             | WO                                                                    | WO2012064218                                                          | «FEDERAL GRID CO UNIFIED ENERGY SYSTEMS» JOINT STOCK CO «FGC UES» JSC | RU                                                                    |\n",
       "\n"
      ],
      "text/plain": [
       "  HARM_ID HAN_ID Appln_id  Publn_auth Patent_number\n",
       "1  4       4     311606173 US         US8668089    \n",
       "2  7       7     439191607 US         US9409947    \n",
       "3 10      10     365204276 US         US8513480    \n",
       "4 14      14     336903179 WO         WO2011112122 \n",
       "5 14      14     363622722 WO         WO2012064218 \n",
       "  Clean_name                                                           \n",
       "1 “DEUTSCHE SEE” GMBH                                                  \n",
       "2 “IVIX” LTD                                                           \n",
       "3 “RRT” LTD                                                            \n",
       "4 «FEDERAL GRID CO UNIFIED ENERGY SYSTEMS» JOINT STOCK CO «FGC UES» JSC\n",
       "5 «FEDERAL GRID CO UNIFIED ENERGY SYSTEMS» JOINT STOCK CO «FGC UES» JSC\n",
       "  Person_ctry_code\n",
       "1 DE              \n",
       "2 RU              \n",
       "3 RU              \n",
       "4 RU              \n",
       "5 RU              "
      ]
     },
     "metadata": {},
     "output_type": "display_data"
    }
   ],
   "source": [
    "setkey(HARM_NAMES,HARM_ID)\n",
    "setkey(HAN_PATENTS,HARM_ID)\n",
    "\n",
    "HAN_TABLE <- merge(HAN_PATENTS,HARM_NAMES)\n",
    "head(HAN_TABLE,5)"
   ]
  },
  {
   "cell_type": "markdown",
   "metadata": {},
   "source": [
    "## Output"
   ]
  },
  {
   "cell_type": "code",
   "execution_count": 6,
   "metadata": {},
   "outputs": [],
   "source": [
    "fwrite(HAN_TABLE, file=\"F:/Thesis/Working_Data/Final\\\\HAN_Dataset.txt\", sep=\"|\", col.names = TRUE)"
   ]
  }
 ],
 "metadata": {
  "kernelspec": {
   "display_name": "R",
   "language": "R",
   "name": "ir"
  },
  "language_info": {
   "codemirror_mode": "r",
   "file_extension": ".r",
   "mimetype": "text/x-r-source",
   "name": "R",
   "pygments_lexer": "r",
   "version": "3.6.1"
  }
 },
 "nbformat": 4,
 "nbformat_minor": 2
}
