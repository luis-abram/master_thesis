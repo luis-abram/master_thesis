{
 "cells": [
  {
   "cell_type": "markdown",
   "metadata": {},
   "source": [
    "Library and Directory Setup"
   ]
  },
  {
   "cell_type": "code",
   "execution_count": 1,
   "metadata": {},
   "outputs": [],
   "source": [
    "options(warn=-1)"
   ]
  },
  {
   "cell_type": "code",
   "execution_count": 2,
   "metadata": {
    "scrolled": true
   },
   "outputs": [
    {
     "name": "stderr",
     "output_type": "stream",
     "text": [
      "\n",
      "Attaching package: 'dplyr'\n",
      "\n",
      "The following objects are masked from 'package:data.table':\n",
      "\n",
      "    between, first, last\n",
      "\n",
      "The following objects are masked from 'package:stats':\n",
      "\n",
      "    filter, lag\n",
      "\n",
      "The following objects are masked from 'package:base':\n",
      "\n",
      "    intersect, setdiff, setequal, union\n",
      "\n",
      "\n",
      "Attaching package: 'purrr'\n",
      "\n",
      "The following object is masked from 'package:data.table':\n",
      "\n",
      "    transpose\n",
      "\n",
      "\n",
      "Attaching package: 'lubridate'\n",
      "\n",
      "The following objects are masked from 'package:data.table':\n",
      "\n",
      "    hour, isoweek, mday, minute, month, quarter, second, wday, week,\n",
      "    yday, year\n",
      "\n",
      "The following object is masked from 'package:base':\n",
      "\n",
      "    date\n",
      "\n",
      "-- Attaching packages --------------------------------------- tidyverse 1.3.0 --\n",
      "v ggplot2 3.3.0     v stringr 1.4.0\n",
      "v tibble  2.1.3     v forcats 0.5.0\n",
      "-- Conflicts ------------------------------------------ tidyverse_conflicts() --\n",
      "x lubridate::as.difftime() masks base::as.difftime()\n",
      "x dplyr::between()         masks data.table::between()\n",
      "x lubridate::date()        masks base::date()\n",
      "x dplyr::filter()          masks stats::filter()\n",
      "x dplyr::first()           masks data.table::first()\n",
      "x lubridate::hour()        masks data.table::hour()\n",
      "x lubridate::intersect()   masks base::intersect()\n",
      "x lubridate::isoweek()     masks data.table::isoweek()\n",
      "x dplyr::lag()             masks stats::lag()\n",
      "x dplyr::last()            masks data.table::last()\n",
      "x lubridate::mday()        masks data.table::mday()\n",
      "x lubridate::minute()      masks data.table::minute()\n",
      "x lubridate::month()       masks data.table::month()\n",
      "x lubridate::quarter()     masks data.table::quarter()\n",
      "x lubridate::second()      masks data.table::second()\n",
      "x lubridate::setdiff()     masks base::setdiff()\n",
      "x purrr::transpose()       masks data.table::transpose()\n",
      "x lubridate::union()       masks base::union()\n",
      "x lubridate::wday()        masks data.table::wday()\n",
      "x lubridate::week()        masks data.table::week()\n",
      "x lubridate::yday()        masks data.table::yday()\n",
      "x lubridate::year()        masks data.table::year()\n"
     ]
    }
   ],
   "source": [
    "library(data.table)\n",
    "library(dplyr)\n",
    "library(readr)\n",
    "library(purrr)\n",
    "library(tidyr)\n",
    "library(lubridate)\n",
    "library(tidyverse)\n",
    "library(stringr)\n",
    "library(rio)\n",
    "library(readxl)"
   ]
  },
  {
   "cell_type": "code",
   "execution_count": 3,
   "metadata": {},
   "outputs": [
    {
     "data": {
      "text/html": [
       "'F:/Thesis/Source_Data/AI_Index_2019'"
      ],
      "text/latex": [
       "'F:/Thesis/Source\\_Data/AI\\_Index\\_2019'"
      ],
      "text/markdown": [
       "'F:/Thesis/Source_Data/AI_Index_2019'"
      ],
      "text/plain": [
       "[1] \"F:/Thesis/Source_Data/AI_Index_2019\""
      ]
     },
     "metadata": {},
     "output_type": "display_data"
    }
   ],
   "source": [
    "setwd(\"F:/Thesis/Source_Data/AI_Index_2019\")\n",
    "getwd()"
   ]
  },
  {
   "cell_type": "markdown",
   "metadata": {},
   "source": [
    "# 1) Input"
   ]
  },
  {
   "cell_type": "code",
   "execution_count": 4,
   "metadata": {},
   "outputs": [
    {
     "name": "stderr",
     "output_type": "stream",
     "text": [
      "New names:\n",
      "* `` -> ...1\n"
     ]
    },
    {
     "data": {
      "text/html": [
       "<ol class=list-inline>\n",
       "\t<li>'...1'</li>\n",
       "\t<li>'Date of Funding Event'</li>\n",
       "\t<li>'Event ID'</li>\n",
       "\t<li>'Event Type'</li>\n",
       "\t<li>'Funding in USD'</li>\n",
       "\t<li>'Target Company ID'</li>\n",
       "\t<li>'countries'</li>\n",
       "\t<li>'clusters'</li>\n",
       "\t<li>'Target Name'</li>\n",
       "\t<li>'isProfileOrganization'</li>\n",
       "\t<li>'Quarter of Funding Event'</li>\n",
       "\t<li>'Year of Funding Event'</li>\n",
       "</ol>\n"
      ],
      "text/latex": [
       "\\begin{enumerate*}\n",
       "\\item '...1'\n",
       "\\item 'Date of Funding Event'\n",
       "\\item 'Event ID'\n",
       "\\item 'Event Type'\n",
       "\\item 'Funding in USD'\n",
       "\\item 'Target Company ID'\n",
       "\\item 'countries'\n",
       "\\item 'clusters'\n",
       "\\item 'Target Name'\n",
       "\\item 'isProfileOrganization'\n",
       "\\item 'Quarter of Funding Event'\n",
       "\\item 'Year of Funding Event'\n",
       "\\end{enumerate*}\n"
      ],
      "text/markdown": [
       "1. '...1'\n",
       "2. 'Date of Funding Event'\n",
       "3. 'Event ID'\n",
       "4. 'Event Type'\n",
       "5. 'Funding in USD'\n",
       "6. 'Target Company ID'\n",
       "7. 'countries'\n",
       "8. 'clusters'\n",
       "9. 'Target Name'\n",
       "10. 'isProfileOrganization'\n",
       "11. 'Quarter of Funding Event'\n",
       "12. 'Year of Funding Event'\n",
       "\n",
       "\n"
      ],
      "text/plain": [
       " [1] \"...1\"                     \"Date of Funding Event\"   \n",
       " [3] \"Event ID\"                 \"Event Type\"              \n",
       " [5] \"Funding in USD\"           \"Target Company ID\"       \n",
       " [7] \"countries\"                \"clusters\"                \n",
       " [9] \"Target Name\"              \"isProfileOrganization\"   \n",
       "[11] \"Quarter of Funding Event\" \"Year of Funding Event\"   "
      ]
     },
     "metadata": {},
     "output_type": "display_data"
    }
   ],
   "source": [
    "Venture_Raw <- data.table(readxl::read_excel(\"Chapter 4.2. CAPIQ, CB, Quid - Investment Activity.xlsx\",\n",
    "                                    sheet = \"raw_event report\"))\n",
    "colnames(Venture_Raw)"
   ]
  },
  {
   "cell_type": "markdown",
   "metadata": {},
   "source": [
    "Remove unnecesary columns"
   ]
  },
  {
   "cell_type": "code",
   "execution_count": 5,
   "metadata": {},
   "outputs": [
    {
     "data": {
      "text/html": [
       "<table>\n",
       "<thead><tr><th scope=col>Event Type</th><th scope=col>Funding in USD</th><th scope=col>countries</th><th scope=col>clusters</th><th scope=col>Target Name</th><th scope=col>Year of Funding Event</th></tr></thead>\n",
       "<tbody>\n",
       "\t<tr><td>Private Investment                                               </td><td>1740000                                                          </td><td>Italy                                                            </td><td>Crypto, Wealth management, Traders, Cryptocurrency               </td><td>Kellify                                                          </td><td>2018                                                             </td></tr>\n",
       "\t<tr><td>Private Investment                                               </td><td> 600000                                                          </td><td>Canada                                                           </td><td>Sentiment, Customer feedback, Employee experience, Text analytics</td><td>Swae                                                             </td><td>2018                                                             </td></tr>\n",
       "\t<tr><td>Private Investment                                               </td><td>      0                                                          </td><td>United Kingdom                                                   </td><td>Invoices, Medium businesses, Cash flow, Receipts                 </td><td>Crystal Apps Ltd.                                                </td><td>2017                                                             </td></tr>\n",
       "\t<tr><td>Private Investment                                               </td><td>1131601                                                          </td><td>United Kingdom                                                   </td><td>Invoices, Medium businesses, Cash flow, Receipts                 </td><td>Crystal Apps Ltd.                                                </td><td>2016                                                             </td></tr>\n",
       "\t<tr><td>Private Investment                                               </td><td> 218623                                                          </td><td>United Kingdom                                                   </td><td>Invoices, Medium businesses, Cash flow, Receipts                 </td><td>Crystal Apps Ltd.                                                </td><td>2016                                                             </td></tr>\n",
       "\t<tr><td>Private Investment                                               </td><td> 607927                                                          </td><td>United Kingdom                                                   </td><td>Sql, Hadoop, Python, Data preparation                            </td><td>Lumilinks                                                        </td><td>2019                                                             </td></tr>\n",
       "</tbody>\n",
       "</table>\n"
      ],
      "text/latex": [
       "\\begin{tabular}{r|llllll}\n",
       " Event Type & Funding in USD & countries & clusters & Target Name & Year of Funding Event\\\\\n",
       "\\hline\n",
       "\t Private Investment                                                & 1740000                                                           & Italy                                                             & Crypto, Wealth management, Traders, Cryptocurrency                & Kellify                                                           & 2018                                                             \\\\\n",
       "\t Private Investment                                                &  600000                                                           & Canada                                                            & Sentiment, Customer feedback, Employee experience, Text analytics & Swae                                                              & 2018                                                             \\\\\n",
       "\t Private Investment                                                &       0                                                           & United Kingdom                                                    & Invoices, Medium businesses, Cash flow, Receipts                  & Crystal Apps Ltd.                                                 & 2017                                                             \\\\\n",
       "\t Private Investment                                                & 1131601                                                           & United Kingdom                                                    & Invoices, Medium businesses, Cash flow, Receipts                  & Crystal Apps Ltd.                                                 & 2016                                                             \\\\\n",
       "\t Private Investment                                                &  218623                                                           & United Kingdom                                                    & Invoices, Medium businesses, Cash flow, Receipts                  & Crystal Apps Ltd.                                                 & 2016                                                             \\\\\n",
       "\t Private Investment                                                &  607927                                                           & United Kingdom                                                    & Sql, Hadoop, Python, Data preparation                             & Lumilinks                                                         & 2019                                                             \\\\\n",
       "\\end{tabular}\n"
      ],
      "text/markdown": [
       "\n",
       "| Event Type | Funding in USD | countries | clusters | Target Name | Year of Funding Event |\n",
       "|---|---|---|---|---|---|\n",
       "| Private Investment                                                | 1740000                                                           | Italy                                                             | Crypto, Wealth management, Traders, Cryptocurrency                | Kellify                                                           | 2018                                                              |\n",
       "| Private Investment                                                |  600000                                                           | Canada                                                            | Sentiment, Customer feedback, Employee experience, Text analytics | Swae                                                              | 2018                                                              |\n",
       "| Private Investment                                                |       0                                                           | United Kingdom                                                    | Invoices, Medium businesses, Cash flow, Receipts                  | Crystal Apps Ltd.                                                 | 2017                                                              |\n",
       "| Private Investment                                                | 1131601                                                           | United Kingdom                                                    | Invoices, Medium businesses, Cash flow, Receipts                  | Crystal Apps Ltd.                                                 | 2016                                                              |\n",
       "| Private Investment                                                |  218623                                                           | United Kingdom                                                    | Invoices, Medium businesses, Cash flow, Receipts                  | Crystal Apps Ltd.                                                 | 2016                                                              |\n",
       "| Private Investment                                                |  607927                                                           | United Kingdom                                                    | Sql, Hadoop, Python, Data preparation                             | Lumilinks                                                         | 2019                                                              |\n",
       "\n"
      ],
      "text/plain": [
       "  Event Type         Funding in USD countries     \n",
       "1 Private Investment 1740000        Italy         \n",
       "2 Private Investment  600000        Canada        \n",
       "3 Private Investment       0        United Kingdom\n",
       "4 Private Investment 1131601        United Kingdom\n",
       "5 Private Investment  218623        United Kingdom\n",
       "6 Private Investment  607927        United Kingdom\n",
       "  clusters                                                         \n",
       "1 Crypto, Wealth management, Traders, Cryptocurrency               \n",
       "2 Sentiment, Customer feedback, Employee experience, Text analytics\n",
       "3 Invoices, Medium businesses, Cash flow, Receipts                 \n",
       "4 Invoices, Medium businesses, Cash flow, Receipts                 \n",
       "5 Invoices, Medium businesses, Cash flow, Receipts                 \n",
       "6 Sql, Hadoop, Python, Data preparation                            \n",
       "  Target Name       Year of Funding Event\n",
       "1 Kellify           2018                 \n",
       "2 Swae              2018                 \n",
       "3 Crystal Apps Ltd. 2017                 \n",
       "4 Crystal Apps Ltd. 2016                 \n",
       "5 Crystal Apps Ltd. 2016                 \n",
       "6 Lumilinks         2019                 "
      ]
     },
     "metadata": {},
     "output_type": "display_data"
    }
   ],
   "source": [
    "DropFeatures <- c(\"...1\",\"Date of Funding Event\", \"Event ID\", \"Target Company ID\", \"isProfileOrganization\",\n",
    "                  \"Quarter of Funding Event\")\n",
    "Venture_Raw <-dplyr::select(Venture_Raw, -!!DropFeatures)\n",
    "head(Venture_Raw)\n",
    "n_rows0 <- nrow(Venture_Raw)"
   ]
  },
  {
   "cell_type": "markdown",
   "metadata": {},
   "source": [
    "# 2) Data Preparation"
   ]
  },
  {
   "cell_type": "markdown",
   "metadata": {},
   "source": [
    "## 2.1) Minor Adjustment"
   ]
  },
  {
   "cell_type": "markdown",
   "metadata": {},
   "source": [
    "Header Adjustments"
   ]
  },
  {
   "cell_type": "code",
   "execution_count": 6,
   "metadata": {},
   "outputs": [
    {
     "data": {
      "text/html": [
       "<ol class=list-inline>\n",
       "\t<li>'EVENT_TYPE'</li>\n",
       "\t<li>'FUNDING_IN_USD'</li>\n",
       "\t<li>'COUNTRIES'</li>\n",
       "\t<li>'CLUSTERS'</li>\n",
       "\t<li>'Original_Venture_Name'</li>\n",
       "\t<li>'YEAR_OF_FUNDING_EVENT'</li>\n",
       "</ol>\n"
      ],
      "text/latex": [
       "\\begin{enumerate*}\n",
       "\\item 'EVENT\\_TYPE'\n",
       "\\item 'FUNDING\\_IN\\_USD'\n",
       "\\item 'COUNTRIES'\n",
       "\\item 'CLUSTERS'\n",
       "\\item 'Original\\_Venture\\_Name'\n",
       "\\item 'YEAR\\_OF\\_FUNDING\\_EVENT'\n",
       "\\end{enumerate*}\n"
      ],
      "text/markdown": [
       "1. 'EVENT_TYPE'\n",
       "2. 'FUNDING_IN_USD'\n",
       "3. 'COUNTRIES'\n",
       "4. 'CLUSTERS'\n",
       "5. 'Original_Venture_Name'\n",
       "6. 'YEAR_OF_FUNDING_EVENT'\n",
       "\n",
       "\n"
      ],
      "text/plain": [
       "[1] \"EVENT_TYPE\"            \"FUNDING_IN_USD\"        \"COUNTRIES\"            \n",
       "[4] \"CLUSTERS\"              \"Original_Venture_Name\" \"YEAR_OF_FUNDING_EVENT\""
      ]
     },
     "metadata": {},
     "output_type": "display_data"
    }
   ],
   "source": [
    "colnames(Venture_Raw) <- toupper(colnames(Venture_Raw))\n",
    "colnames(Venture_Raw) <- gsub(\" \",\"_\", colnames(Venture_Raw))\n",
    "colnames(Venture_Raw)[5] <- \"Original_Venture_Name\"\n",
    "\n",
    "colnames(Venture_Raw)"
   ]
  },
  {
   "cell_type": "markdown",
   "metadata": {},
   "source": [
    "Capital Letters"
   ]
  },
  {
   "cell_type": "code",
   "execution_count": 7,
   "metadata": {},
   "outputs": [
    {
     "data": {
      "text/html": [
       "<table>\n",
       "<thead><tr><th scope=col>EVENT_TYPE</th><th scope=col>FUNDING_IN_USD</th><th scope=col>COUNTRIES</th><th scope=col>CLUSTERS</th><th scope=col>Original_Venture_Name</th><th scope=col>YEAR_OF_FUNDING_EVENT</th></tr></thead>\n",
       "<tbody>\n",
       "\t<tr><td>Private Investment                                               </td><td>1740000                                                          </td><td>ITALY                                                            </td><td>CRYPTO, WEALTH MANAGEMENT, TRADERS, CRYPTOCURRENCY               </td><td>Kellify                                                          </td><td>2018                                                             </td></tr>\n",
       "\t<tr><td>Private Investment                                               </td><td> 600000                                                          </td><td>CANADA                                                           </td><td>SENTIMENT, CUSTOMER FEEDBACK, EMPLOYEE EXPERIENCE, TEXT ANALYTICS</td><td>Swae                                                             </td><td>2018                                                             </td></tr>\n",
       "\t<tr><td>Private Investment                                               </td><td>      0                                                          </td><td>UNITED KINGDOM                                                   </td><td>INVOICES, MEDIUM BUSINESSES, CASH FLOW, RECEIPTS                 </td><td>Crystal Apps Ltd.                                                </td><td>2017                                                             </td></tr>\n",
       "\t<tr><td>Private Investment                                               </td><td>1131601                                                          </td><td>UNITED KINGDOM                                                   </td><td>INVOICES, MEDIUM BUSINESSES, CASH FLOW, RECEIPTS                 </td><td>Crystal Apps Ltd.                                                </td><td>2016                                                             </td></tr>\n",
       "\t<tr><td>Private Investment                                               </td><td> 218623                                                          </td><td>UNITED KINGDOM                                                   </td><td>INVOICES, MEDIUM BUSINESSES, CASH FLOW, RECEIPTS                 </td><td>Crystal Apps Ltd.                                                </td><td>2016                                                             </td></tr>\n",
       "\t<tr><td>Private Investment                                               </td><td> 607927                                                          </td><td>UNITED KINGDOM                                                   </td><td>SQL, HADOOP, PYTHON, DATA PREPARATION                            </td><td>Lumilinks                                                        </td><td>2019                                                             </td></tr>\n",
       "</tbody>\n",
       "</table>\n"
      ],
      "text/latex": [
       "\\begin{tabular}{r|llllll}\n",
       " EVENT\\_TYPE & FUNDING\\_IN\\_USD & COUNTRIES & CLUSTERS & Original\\_Venture\\_Name & YEAR\\_OF\\_FUNDING\\_EVENT\\\\\n",
       "\\hline\n",
       "\t Private Investment                                                & 1740000                                                           & ITALY                                                             & CRYPTO, WEALTH MANAGEMENT, TRADERS, CRYPTOCURRENCY                & Kellify                                                           & 2018                                                             \\\\\n",
       "\t Private Investment                                                &  600000                                                           & CANADA                                                            & SENTIMENT, CUSTOMER FEEDBACK, EMPLOYEE EXPERIENCE, TEXT ANALYTICS & Swae                                                              & 2018                                                             \\\\\n",
       "\t Private Investment                                                &       0                                                           & UNITED KINGDOM                                                    & INVOICES, MEDIUM BUSINESSES, CASH FLOW, RECEIPTS                  & Crystal Apps Ltd.                                                 & 2017                                                             \\\\\n",
       "\t Private Investment                                                & 1131601                                                           & UNITED KINGDOM                                                    & INVOICES, MEDIUM BUSINESSES, CASH FLOW, RECEIPTS                  & Crystal Apps Ltd.                                                 & 2016                                                             \\\\\n",
       "\t Private Investment                                                &  218623                                                           & UNITED KINGDOM                                                    & INVOICES, MEDIUM BUSINESSES, CASH FLOW, RECEIPTS                  & Crystal Apps Ltd.                                                 & 2016                                                             \\\\\n",
       "\t Private Investment                                                &  607927                                                           & UNITED KINGDOM                                                    & SQL, HADOOP, PYTHON, DATA PREPARATION                             & Lumilinks                                                         & 2019                                                             \\\\\n",
       "\\end{tabular}\n"
      ],
      "text/markdown": [
       "\n",
       "| EVENT_TYPE | FUNDING_IN_USD | COUNTRIES | CLUSTERS | Original_Venture_Name | YEAR_OF_FUNDING_EVENT |\n",
       "|---|---|---|---|---|---|\n",
       "| Private Investment                                                | 1740000                                                           | ITALY                                                             | CRYPTO, WEALTH MANAGEMENT, TRADERS, CRYPTOCURRENCY                | Kellify                                                           | 2018                                                              |\n",
       "| Private Investment                                                |  600000                                                           | CANADA                                                            | SENTIMENT, CUSTOMER FEEDBACK, EMPLOYEE EXPERIENCE, TEXT ANALYTICS | Swae                                                              | 2018                                                              |\n",
       "| Private Investment                                                |       0                                                           | UNITED KINGDOM                                                    | INVOICES, MEDIUM BUSINESSES, CASH FLOW, RECEIPTS                  | Crystal Apps Ltd.                                                 | 2017                                                              |\n",
       "| Private Investment                                                | 1131601                                                           | UNITED KINGDOM                                                    | INVOICES, MEDIUM BUSINESSES, CASH FLOW, RECEIPTS                  | Crystal Apps Ltd.                                                 | 2016                                                              |\n",
       "| Private Investment                                                |  218623                                                           | UNITED KINGDOM                                                    | INVOICES, MEDIUM BUSINESSES, CASH FLOW, RECEIPTS                  | Crystal Apps Ltd.                                                 | 2016                                                              |\n",
       "| Private Investment                                                |  607927                                                           | UNITED KINGDOM                                                    | SQL, HADOOP, PYTHON, DATA PREPARATION                             | Lumilinks                                                         | 2019                                                              |\n",
       "\n"
      ],
      "text/plain": [
       "  EVENT_TYPE         FUNDING_IN_USD COUNTRIES     \n",
       "1 Private Investment 1740000        ITALY         \n",
       "2 Private Investment  600000        CANADA        \n",
       "3 Private Investment       0        UNITED KINGDOM\n",
       "4 Private Investment 1131601        UNITED KINGDOM\n",
       "5 Private Investment  218623        UNITED KINGDOM\n",
       "6 Private Investment  607927        UNITED KINGDOM\n",
       "  CLUSTERS                                                         \n",
       "1 CRYPTO, WEALTH MANAGEMENT, TRADERS, CRYPTOCURRENCY               \n",
       "2 SENTIMENT, CUSTOMER FEEDBACK, EMPLOYEE EXPERIENCE, TEXT ANALYTICS\n",
       "3 INVOICES, MEDIUM BUSINESSES, CASH FLOW, RECEIPTS                 \n",
       "4 INVOICES, MEDIUM BUSINESSES, CASH FLOW, RECEIPTS                 \n",
       "5 INVOICES, MEDIUM BUSINESSES, CASH FLOW, RECEIPTS                 \n",
       "6 SQL, HADOOP, PYTHON, DATA PREPARATION                            \n",
       "  Original_Venture_Name YEAR_OF_FUNDING_EVENT\n",
       "1 Kellify               2018                 \n",
       "2 Swae                  2018                 \n",
       "3 Crystal Apps Ltd.     2017                 \n",
       "4 Crystal Apps Ltd.     2016                 \n",
       "5 Crystal Apps Ltd.     2016                 \n",
       "6 Lumilinks             2019                 "
      ]
     },
     "metadata": {},
     "output_type": "display_data"
    }
   ],
   "source": [
    "Venture_Raw <- Venture_Raw[, c(\"CLUSTERS\", \"COUNTRIES\") := lapply(.SD, toupper),\n",
    "                               .SDcols = c(\"CLUSTERS\", \"COUNTRIES\")]\n",
    "\n",
    "head(Venture_Raw)"
   ]
  },
  {
   "cell_type": "markdown",
   "metadata": {},
   "source": [
    "Funding Million Dollars"
   ]
  },
  {
   "cell_type": "code",
   "execution_count": 8,
   "metadata": {},
   "outputs": [],
   "source": [
    "Venture_Raw <- Venture_Raw[,FUNDING_IN_USD:= FUNDING_IN_USD/1000000]"
   ]
  },
  {
   "cell_type": "markdown",
   "metadata": {},
   "source": [
    "## 2.2) Data Selection"
   ]
  },
  {
   "cell_type": "code",
   "execution_count": 9,
   "metadata": {},
   "outputs": [
    {
     "data": {
      "text/html": [
       "<ol class=list-inline>\n",
       "\t<li>'Private Investment'</li>\n",
       "\t<li>'Merger/Acquisition'</li>\n",
       "\t<li>'Public Offering'</li>\n",
       "\t<li>'Minority Stake'</li>\n",
       "</ol>\n"
      ],
      "text/latex": [
       "\\begin{enumerate*}\n",
       "\\item 'Private Investment'\n",
       "\\item 'Merger/Acquisition'\n",
       "\\item 'Public Offering'\n",
       "\\item 'Minority Stake'\n",
       "\\end{enumerate*}\n"
      ],
      "text/markdown": [
       "1. 'Private Investment'\n",
       "2. 'Merger/Acquisition'\n",
       "3. 'Public Offering'\n",
       "4. 'Minority Stake'\n",
       "\n",
       "\n"
      ],
      "text/plain": [
       "[1] \"Private Investment\" \"Merger/Acquisition\" \"Public Offering\"   \n",
       "[4] \"Minority Stake\"    "
      ]
     },
     "metadata": {},
     "output_type": "display_data"
    }
   ],
   "source": [
    "unique(Venture_Raw$EVENT_TYPE)"
   ]
  },
  {
   "cell_type": "markdown",
   "metadata": {},
   "source": [
    "Select only Private Investment "
   ]
  },
  {
   "cell_type": "code",
   "execution_count": 10,
   "metadata": {},
   "outputs": [
    {
     "data": {
      "text/html": [
       "6672"
      ],
      "text/latex": [
       "6672"
      ],
      "text/markdown": [
       "6672"
      ],
      "text/plain": [
       "[1] 6672"
      ]
     },
     "metadata": {},
     "output_type": "display_data"
    }
   ],
   "source": [
    "Venture_Raw <- Venture_Raw[EVENT_TYPE == \"Private Investment\",]\n",
    "n_rows1 <- nrow(Venture_Raw)\n",
    "length(unique((Venture_Raw$Original_Venture_Name)))"
   ]
  },
  {
   "cell_type": "markdown",
   "metadata": {},
   "source": [
    "Select only ventures based on selected countries"
   ]
  },
  {
   "cell_type": "code",
   "execution_count": 11,
   "metadata": {},
   "outputs": [
    {
     "data": {
      "text/html": [
       "6206"
      ],
      "text/latex": [
       "6206"
      ],
      "text/markdown": [
       "6206"
      ],
      "text/plain": [
       "[1] 6206"
      ]
     },
     "metadata": {},
     "output_type": "display_data"
    }
   ],
   "source": [
    "Top_Countries <- c(\"UNITED STATES\", \"JAPAN\",\"UNITED KINGDOM\", \"GERMANY\", \"CHINA\", \"CANADA\", \"NETHERLANDS\",\n",
    "                   \"ISRAEL\", \"SOUTH KOREA\", \"FRANCE\", \"SWITZERLAND\", \"AUSTRALIA\", \"FINLAND\", \"ITALY\",\n",
    "                   \"SWEDEN\", \"INDIA\", \"BELGIUM\", \"SINGAPORE\", \"SPAIN\", \"DENMARK\")\n",
    "\n",
    "Venture_Raw <- Venture_Raw[COUNTRIES %in% Top_Countries,]\n",
    "n_rows2 <- nrow(Venture_Raw)\n",
    "length(unique((Venture_Raw$Original_Venture_Name)))"
   ]
  },
  {
   "cell_type": "markdown",
   "metadata": {},
   "source": [
    "## 2.3) Removal Legal Designation and Non-alphanumeric Characters"
   ]
  },
  {
   "cell_type": "code",
   "execution_count": 12,
   "metadata": {},
   "outputs": [
    {
     "data": {
      "text/html": [
       "<ol class=list-inline>\n",
       "\t<li>'KELLIFY'</li>\n",
       "\t<li>'SWAE'</li>\n",
       "\t<li>'CRYSTAL APPS LTD'</li>\n",
       "\t<li>'CRYSTAL APPS LTD'</li>\n",
       "\t<li>'CRYSTAL APPS LTD'</li>\n",
       "\t<li>'LUMILINKS'</li>\n",
       "\t<li>'JINGLE MAGIC BEIJING TECHNOLOGY'</li>\n",
       "\t<li>'DRONEAI'</li>\n",
       "\t<li>'DRONEAI'</li>\n",
       "\t<li>'CONTRACTPODAI'</li>\n",
       "\t<li>'CONTRACTPODAI'</li>\n",
       "\t<li>'CUJO AI'</li>\n",
       "\t<li>'CUJO AI'</li>\n",
       "\t<li>'CUJO AI'</li>\n",
       "\t<li>'CUJO AI'</li>\n",
       "\t<li>'HOLI'</li>\n",
       "\t<li>'HOLI'</li>\n",
       "\t<li>'URBANSTAT'</li>\n",
       "\t<li>'URBANSTAT'</li>\n",
       "\t<li>'EDSIGHTS'</li>\n",
       "\t<li>'GOODVISION'</li>\n",
       "\t<li>'PALADIN.AI'</li>\n",
       "\t<li>'PALADIN.AI'</li>\n",
       "\t<li>'VYASA ANALYTICS'</li>\n",
       "\t<li>'THIRDPRESENCE'</li>\n",
       "\t<li>'THIRDPRESENCE'</li>\n",
       "\t<li>'THIRDPRESENCE'</li>\n",
       "\t<li>'THIRDPRESENCE'</li>\n",
       "\t<li>'THIRDPRESENCE'</li>\n",
       "\t<li>'THIRDPRESENCE'</li>\n",
       "\t<li>'BLOOM INTELLIGENCE'</li>\n",
       "\t<li>'CEN INC'</li>\n",
       "\t<li>'NEOLIX'</li>\n",
       "\t<li>'PARKWISE'</li>\n",
       "\t<li>'PARKWISE'</li>\n",
       "\t<li>'PARKWISE'</li>\n",
       "\t<li>'PARKWISE'</li>\n",
       "\t<li>'PARKWISE'</li>\n",
       "\t<li>'PARKWISE'</li>\n",
       "\t<li>'CALM ENERGY'</li>\n",
       "\t<li>'SUPPLANT'</li>\n",
       "\t<li>'HUMANZ'</li>\n",
       "\t<li>'HUMANZ'</li>\n",
       "\t<li>'MERCANTO'</li>\n",
       "\t<li>'MERCANTO'</li>\n",
       "\t<li>'ZIMPLISTIC'</li>\n",
       "\t<li>'ZIMPLISTIC'</li>\n",
       "\t<li>'ZIMPLISTIC'</li>\n",
       "\t<li>'ZIMPLISTIC'</li>\n",
       "\t<li>'SOCIALMATTERS.AI'</li>\n",
       "</ol>\n"
      ],
      "text/latex": [
       "\\begin{enumerate*}\n",
       "\\item 'KELLIFY'\n",
       "\\item 'SWAE'\n",
       "\\item 'CRYSTAL APPS LTD'\n",
       "\\item 'CRYSTAL APPS LTD'\n",
       "\\item 'CRYSTAL APPS LTD'\n",
       "\\item 'LUMILINKS'\n",
       "\\item 'JINGLE MAGIC BEIJING TECHNOLOGY'\n",
       "\\item 'DRONEAI'\n",
       "\\item 'DRONEAI'\n",
       "\\item 'CONTRACTPODAI'\n",
       "\\item 'CONTRACTPODAI'\n",
       "\\item 'CUJO AI'\n",
       "\\item 'CUJO AI'\n",
       "\\item 'CUJO AI'\n",
       "\\item 'CUJO AI'\n",
       "\\item 'HOLI'\n",
       "\\item 'HOLI'\n",
       "\\item 'URBANSTAT'\n",
       "\\item 'URBANSTAT'\n",
       "\\item 'EDSIGHTS'\n",
       "\\item 'GOODVISION'\n",
       "\\item 'PALADIN.AI'\n",
       "\\item 'PALADIN.AI'\n",
       "\\item 'VYASA ANALYTICS'\n",
       "\\item 'THIRDPRESENCE'\n",
       "\\item 'THIRDPRESENCE'\n",
       "\\item 'THIRDPRESENCE'\n",
       "\\item 'THIRDPRESENCE'\n",
       "\\item 'THIRDPRESENCE'\n",
       "\\item 'THIRDPRESENCE'\n",
       "\\item 'BLOOM INTELLIGENCE'\n",
       "\\item 'CEN INC'\n",
       "\\item 'NEOLIX'\n",
       "\\item 'PARKWISE'\n",
       "\\item 'PARKWISE'\n",
       "\\item 'PARKWISE'\n",
       "\\item 'PARKWISE'\n",
       "\\item 'PARKWISE'\n",
       "\\item 'PARKWISE'\n",
       "\\item 'CALM ENERGY'\n",
       "\\item 'SUPPLANT'\n",
       "\\item 'HUMANZ'\n",
       "\\item 'HUMANZ'\n",
       "\\item 'MERCANTO'\n",
       "\\item 'MERCANTO'\n",
       "\\item 'ZIMPLISTIC'\n",
       "\\item 'ZIMPLISTIC'\n",
       "\\item 'ZIMPLISTIC'\n",
       "\\item 'ZIMPLISTIC'\n",
       "\\item 'SOCIALMATTERS.AI'\n",
       "\\end{enumerate*}\n"
      ],
      "text/markdown": [
       "1. 'KELLIFY'\n",
       "2. 'SWAE'\n",
       "3. 'CRYSTAL APPS LTD'\n",
       "4. 'CRYSTAL APPS LTD'\n",
       "5. 'CRYSTAL APPS LTD'\n",
       "6. 'LUMILINKS'\n",
       "7. 'JINGLE MAGIC BEIJING TECHNOLOGY'\n",
       "8. 'DRONEAI'\n",
       "9. 'DRONEAI'\n",
       "10. 'CONTRACTPODAI'\n",
       "11. 'CONTRACTPODAI'\n",
       "12. 'CUJO AI'\n",
       "13. 'CUJO AI'\n",
       "14. 'CUJO AI'\n",
       "15. 'CUJO AI'\n",
       "16. 'HOLI'\n",
       "17. 'HOLI'\n",
       "18. 'URBANSTAT'\n",
       "19. 'URBANSTAT'\n",
       "20. 'EDSIGHTS'\n",
       "21. 'GOODVISION'\n",
       "22. 'PALADIN.AI'\n",
       "23. 'PALADIN.AI'\n",
       "24. 'VYASA ANALYTICS'\n",
       "25. 'THIRDPRESENCE'\n",
       "26. 'THIRDPRESENCE'\n",
       "27. 'THIRDPRESENCE'\n",
       "28. 'THIRDPRESENCE'\n",
       "29. 'THIRDPRESENCE'\n",
       "30. 'THIRDPRESENCE'\n",
       "31. 'BLOOM INTELLIGENCE'\n",
       "32. 'CEN INC'\n",
       "33. 'NEOLIX'\n",
       "34. 'PARKWISE'\n",
       "35. 'PARKWISE'\n",
       "36. 'PARKWISE'\n",
       "37. 'PARKWISE'\n",
       "38. 'PARKWISE'\n",
       "39. 'PARKWISE'\n",
       "40. 'CALM ENERGY'\n",
       "41. 'SUPPLANT'\n",
       "42. 'HUMANZ'\n",
       "43. 'HUMANZ'\n",
       "44. 'MERCANTO'\n",
       "45. 'MERCANTO'\n",
       "46. 'ZIMPLISTIC'\n",
       "47. 'ZIMPLISTIC'\n",
       "48. 'ZIMPLISTIC'\n",
       "49. 'ZIMPLISTIC'\n",
       "50. 'SOCIALMATTERS.AI'\n",
       "\n",
       "\n"
      ],
      "text/plain": [
       " [1] \"KELLIFY\"                         \"SWAE\"                           \n",
       " [3] \"CRYSTAL APPS LTD\"                \"CRYSTAL APPS LTD\"               \n",
       " [5] \"CRYSTAL APPS LTD\"                \"LUMILINKS\"                      \n",
       " [7] \"JINGLE MAGIC BEIJING TECHNOLOGY\" \"DRONEAI\"                        \n",
       " [9] \"DRONEAI\"                         \"CONTRACTPODAI\"                  \n",
       "[11] \"CONTRACTPODAI\"                   \"CUJO AI\"                        \n",
       "[13] \"CUJO AI\"                         \"CUJO AI\"                        \n",
       "[15] \"CUJO AI\"                         \"HOLI\"                           \n",
       "[17] \"HOLI\"                            \"URBANSTAT\"                      \n",
       "[19] \"URBANSTAT\"                       \"EDSIGHTS\"                       \n",
       "[21] \"GOODVISION\"                      \"PALADIN.AI\"                     \n",
       "[23] \"PALADIN.AI\"                      \"VYASA ANALYTICS\"                \n",
       "[25] \"THIRDPRESENCE\"                   \"THIRDPRESENCE\"                  \n",
       "[27] \"THIRDPRESENCE\"                   \"THIRDPRESENCE\"                  \n",
       "[29] \"THIRDPRESENCE\"                   \"THIRDPRESENCE\"                  \n",
       "[31] \"BLOOM INTELLIGENCE\"              \"CEN INC\"                        \n",
       "[33] \"NEOLIX\"                          \"PARKWISE\"                       \n",
       "[35] \"PARKWISE\"                        \"PARKWISE\"                       \n",
       "[37] \"PARKWISE\"                        \"PARKWISE\"                       \n",
       "[39] \"PARKWISE\"                        \"CALM ENERGY\"                    \n",
       "[41] \"SUPPLANT\"                        \"HUMANZ\"                         \n",
       "[43] \"HUMANZ\"                          \"MERCANTO\"                       \n",
       "[45] \"MERCANTO\"                        \"ZIMPLISTIC\"                     \n",
       "[47] \"ZIMPLISTIC\"                      \"ZIMPLISTIC\"                     \n",
       "[49] \"ZIMPLISTIC\"                      \"SOCIALMATTERS.AI\"               "
      ]
     },
     "metadata": {},
     "output_type": "display_data"
    }
   ],
   "source": [
    "#Non-aplhanumeric characters\n",
    "Venture_Raw[, Clean_Name := Original_Venture_Name %>%\n",
    "                  iconv(., from = \"UTF-8\", to=\"ASCII//TRANSLIT\") %>%\n",
    "                  gsub(\"[^[:alnum:][:blank:].,]\",\"\",.)]\n",
    "\n",
    "Venture_Raw[, Clean_Name:= Clean_Name %>%\n",
    "                     gsub(\"\\\\.$\",\"\",.) %>%\n",
    "                     trimws() %>%\n",
    "                     toupper(.)]\n",
    "\n",
    "head(Venture_Raw$Clean_Name,50)"
   ]
  },
  {
   "cell_type": "markdown",
   "metadata": {},
   "source": [
    "Legal Designation by Country"
   ]
  },
  {
   "cell_type": "code",
   "execution_count": 13,
   "metadata": {},
   "outputs": [],
   "source": [
    "#United States\n",
    "Venture_Raw[COUNTRIES==\"UNITED STATES\", Clean_Name := Clean_Name %>%\n",
    "                  gsub(\"INCORPORATED$\",\"\",.) %>%\n",
    "                  gsub(\" INC$\",\"\",.) %>%\n",
    "                  gsub(\",INC$\",\"\",.) %>%\n",
    "                  gsub(\"LIMITED$\",\"\",.) %>%\n",
    "                  gsub(\" LTD$\",\"\",.) %>%\n",
    "                  gsub(\",LTD$\",\"\",.) %>%\n",
    "                  gsub(\" LLC$\",\"\",.) %>%\n",
    "                  gsub(\",LLC$\",\"\",.) %>%\n",
    "                  gsub(\"L.L.C$\",\"\",.) %>%\n",
    "                  gsub(\" LLP$\",\"\",.) %>%\n",
    "                  gsub(\",LLP$\",\"\",.) %>%\n",
    "                  gsub(\"CORPORATION$\",\"\",.) %>%\n",
    "                  gsub(\" CORP$\",\"\",.) %>%\n",
    "                  gsub(\",CORP$\",\"\",.) %>%\n",
    "                  gsub(\" CO INC$\",\"\",.) %>%\n",
    "                  gsub(\" CO LLC$\",\"\",.) %>%\n",
    "                  gsub(\" CO$\",\"\",.) %>%\n",
    "                  gsub(\",CO$\",\"\",.) %>%\n",
    "                  gsub(\" LP$\",\"\",.) %>%\n",
    "                  gsub(\",LP$\",\"\",.) %>%\n",
    "                  trimws()]"
   ]
  },
  {
   "cell_type": "code",
   "execution_count": 14,
   "metadata": {},
   "outputs": [],
   "source": [
    "#China\n",
    "Venture_Raw[COUNTRIES==\"CHINA\", Clean_Name := Clean_Name %>%\n",
    "                  gsub(\"CO.,LTD$\",\"\",.) %>%\n",
    "                  gsub(\"CO., LTD$\",\"\",.) %>%\n",
    "                  gsub(\"CO. LTD$\",\"\",.) %>%\n",
    "                  gsub(\"CO.LTD$\",\"\",.) %>%\n",
    "                  gsub(\"CORPORATION$\",\"\",.) %>%\n",
    "                  gsub(\" CORP$\",\"\",.) %>%\n",
    "                  gsub(\",CORP$\",\"\",.) %>%\n",
    "                  gsub(\" CO$\",\"\",.) %>%\n",
    "                  gsub(\"CO$\",\"\",.) %>%\n",
    "                  gsub(\" CORP LTD$\",\"\",.) %>%\n",
    "                  gsub(\",CORP LTD$\",\"\",.) %>%\n",
    "                  gsub(\"LIMITED$\",\"\",.) %>%\n",
    "                  gsub(\" LTD$\",\"\",.) %>%\n",
    "                  gsub(\",LTD$\",\"\",.) %>%\n",
    "                  gsub(\"INCORPORATED$\",\"\",.) %>%\n",
    "                  gsub(\" INC$\",\"\",.) %>%\n",
    "                  gsub(\",INC$\",\"\",.) %>%\n",
    "                  trimws()]"
   ]
  },
  {
   "cell_type": "code",
   "execution_count": 15,
   "metadata": {},
   "outputs": [],
   "source": [
    "#United Kingdom \n",
    "Venture_Raw[COUNTRIES==\"UNITED KINGDOM\", Clean_Name := Clean_Name %>%\n",
    "                  gsub(\"LIMITED$\", \"\",.) %>%\n",
    "                  gsub(\" LTD$\", \"\",.) %>%\n",
    "                  gsub(\",LTD$\", \"\",.) %>%\n",
    "                  gsub(\" LLC$\", \"\",.) %>%\n",
    "                  gsub(\",LLC$\", \"\",.) %>%\n",
    "                  gsub(\" PLC$\", \"\",.) %>%\n",
    "                  gsub(\",PLC$\", \"\",.) %>%\n",
    "                  gsub(\" INC$\", \"\",.) %>%\n",
    "                  gsub(\",INC$\", \"\",.) %>%\n",
    "                  trimws()]"
   ]
  },
  {
   "cell_type": "code",
   "execution_count": 16,
   "metadata": {},
   "outputs": [],
   "source": [
    "#France\n",
    "Venture_Raw[COUNTRIES==\"FRANCE\", Clean_Name := Clean_Name %>%\n",
    "                  gsub(\"SÀRL$\",\"\",.) %>%\n",
    "                  gsub(\" SARL$\",\"\",.) %>%\n",
    "                  gsub(\",SARL$\",\"\",.) %>%\n",
    "                  gsub(\" SASU$\",\"\",.) %>%\n",
    "                  gsub(\",SASU$\",\"\",.) %>%\n",
    "                  gsub(\" SRL$\",\"\",.) %>%\n",
    "                  gsub(\",SRL$\",\"\",.) %>%\n",
    "                  gsub(\"S.A.S$\",\"\",.) %>%\n",
    "                  gsub(\" SAS$\",\"\",.) %>%\n",
    "                  gsub(\",SAS$\",\"\",.) %>%\n",
    "                  gsub(\"S.A$\",\"\",.) %>%\n",
    "                  gsub(\" SA$\",\"\",.) %>%\n",
    "                  gsub(\",SA$\",\"\",.) %>%\n",
    "                  gsub(\" SE$\",\"\",.) %>%\n",
    "                  gsub(\",SE$\",\"\",.) %>%\n",
    "                  gsub(\"SOCIÉTÉ ANONYME$\",\"\",.) %>%\n",
    "                  gsub(\"^SAS \",\"\",.) %>%\n",
    "                  trimws()]"
   ]
  },
  {
   "cell_type": "code",
   "execution_count": 17,
   "metadata": {},
   "outputs": [],
   "source": [
    "#Israel\n",
    "Venture_Raw[COUNTRIES==\"ISRAEL\", Clean_Name := Clean_Name %>%\n",
    "                  gsub(\"LIMITED$\",\"\",.) %>%\n",
    "                  gsub(\" LTD$\", \"\",.) %>%\n",
    "                  gsub(\",LTD$\", \"\",.) %>%\n",
    "                  gsub(\"INCOPORATED$\",\"\",.) %>%\n",
    "                  gsub(\" INC$\", \"\",.) %>%\n",
    "                  gsub(\",INC$\", \"\",.) %>%\n",
    "                  gsub(\"CO LTD$\",\"\",.) %>%\n",
    "                  trimws()]"
   ]
  },
  {
   "cell_type": "code",
   "execution_count": 18,
   "metadata": {},
   "outputs": [],
   "source": [
    "#Canada\n",
    "Venture_Raw[COUNTRIES==\"CANADA\", Clean_Name := Clean_Name %>%\n",
    "                  gsub(\"INCORPORATED$\",\"\",.) %>%\n",
    "                  gsub(\" INC$\", \"\",.) %>%\n",
    "                  gsub(\",INC$\", \"\",.) %>%\n",
    "                  gsub(\"CORPORATION$\", \"\",.) %>%\n",
    "                  gsub(\" CORP$\", \"\",.) %>%\n",
    "                  gsub(\",CORP$\", \"\",.) %>%\n",
    "                  gsub(\"LIMITED$\", \"\",.) %>%\n",
    "                  gsub(\" LTD$\", \"\",.) %>%\n",
    "                  gsub(\",LTD$\", \"\",.) %>%\n",
    "                  gsub(\" ULC$\",\"\",.) %>%\n",
    "                  gsub(\",ULC$\",\"\",.) %>%\n",
    "                  gsub(\" LP$\",\"\",.) %>%\n",
    "                  gsub(\",LP$\",\"\",.) %>%\n",
    "                  trimws()]"
   ]
  },
  {
   "cell_type": "code",
   "execution_count": 19,
   "metadata": {},
   "outputs": [],
   "source": [
    "#Japan\n",
    "Venture_Raw[COUNTRIES==\"JAPAN\", Clean_Name := Clean_Name %>%\n",
    "                  gsub(\"CO.,LTD$\",\"\",.) %>%\n",
    "                  gsub(\"CO., LTD$\",\"\",.) %>%\n",
    "                  gsub(\"CO. LTD$\",\"\",.) %>%\n",
    "                  gsub(\"CO.LTD$\",\"\",.) %>% \n",
    "                  gsub(\"CORPORATION$\",\"\",.) %>%\n",
    "                  gsub(\" CORP$\",\"\",.) %>%\n",
    "                  gsub(\",CORP$\",\"\",.) %>%\n",
    "                  gsub(\"CO INC$\",\"\",.) %>%\n",
    "                  gsub(\" CO$\",\"\",.) %>%\n",
    "                  gsub(\",CO$\",\"\",.) %>%\n",
    "                  gsub(\"LIMITED$\",\"\",.) %>%\n",
    "                  gsub(\" LTD$\",\"\",.) %>%\n",
    "                  gsub(\",LTD$\",\"\",.) %>%\n",
    "                  gsub(\"INCORPORATED$\",\"\",.) %>%\n",
    "                  gsub(\" INC$\",\"\",.) %>%\n",
    "                  gsub(\",INC$\",\"\",.) %>%\n",
    "                  gsub(\"K.K$\",\"\",.) %>%\n",
    "                  gsub(\" KK$\",\"\",.) %>%\n",
    "                  gsub(\",KK$\",\"\",.) %>%\n",
    "                  gsub(\"^CO LTD\",\"\",.) %>%\n",
    "                  trimws()]"
   ]
  },
  {
   "cell_type": "code",
   "execution_count": 20,
   "metadata": {},
   "outputs": [],
   "source": [
    "#India\n",
    "Venture_Raw[COUNTRIES==\"INDIA\", Clean_Name :=  Clean_Name %>%\n",
    "                  gsub(\"PRIVATE LIMITED$\",\"\",.) %>%\n",
    "                  gsub(\"PRIVATE LTD$\",\"\",.) %>%\n",
    "                  gsub(\"PVT.LTD$\",\"\",.) %>%\n",
    "                  gsub(\"PVT. LTD$\",\"\",.) %>%\n",
    "                  gsub(\"PVT LTD$\",\"\",.) %>%\n",
    "                  gsub(\" PVT$\",\"\",.) %>%\n",
    "                  gsub(\",PVT$\",\"\",.) %>%\n",
    "                  gsub(\" INC$\",\"\",.) %>%\n",
    "                  gsub(\",INC$\",\"\",.) %>%\n",
    "                  gsub(\" LTD$\",\"\",.) %>%\n",
    "                  gsub(\",LTD$\",\"\",.) %>%\n",
    "                  trimws()]"
   ]
  },
  {
   "cell_type": "code",
   "execution_count": 21,
   "metadata": {},
   "outputs": [],
   "source": [
    "#Germany\n",
    "Venture_Raw[COUNTRIES==\"GERMANY\", Clean_Name := Clean_Name %>%\n",
    "                  gsub(\" SLU GMBH$\", \"\",.) %>%\n",
    "                  gsub(\"GMBH & CO KG$\", \"\",.) %>%\n",
    "                  gsub(\"GMBH & CO. KG$\", \"\",.) %>%\n",
    "                  gsub(\"GMBH & CO$\", \"\",.) %>%\n",
    "                  gsub(\" KG$\", \"\",.) %>%\n",
    "                  gsub(\",KG$\", \"\",.) %>%\n",
    "                  gsub(\"GMBH$\", \"\",.) %>%\n",
    "                  gsub(\"MBH$\", \"\",.) %>%\n",
    "                  gsub(\" AG$\", \"\",.) %>%\n",
    "                  gsub(\",AG$\", \"\",.) %>%\n",
    "                  gsub(\" SE$\", \"\",.) %>%\n",
    "                  gsub(\",SE$\", \"\",.) %>%\n",
    "                  trimws()]"
   ]
  },
  {
   "cell_type": "code",
   "execution_count": 22,
   "metadata": {},
   "outputs": [],
   "source": [
    "#Singapore\n",
    "Venture_Raw[COUNTRIES==\"SINGAPORE\", Clean_Name := Clean_Name %>%\n",
    "                  gsub(\"PRIVATE LIMITED$\", \"\",.) %>%\n",
    "                  gsub(\"PTE. LTD$\", \"\",.) %>%\n",
    "                  gsub(\"PTE LTD$\", \"\",.) %>%\n",
    "                  gsub(\"LIMITED$\", \"\",.) %>%\n",
    "                  gsub(\" LTD$\", \"\",.) %>%\n",
    "                  gsub(\",LTD$\", \"\",.) %>%\n",
    "                  gsub(\"CORP LTD$\",\"\",.) %>%\n",
    "                  trimws()]"
   ]
  },
  {
   "cell_type": "code",
   "execution_count": 23,
   "metadata": {},
   "outputs": [],
   "source": [
    "#Australia\n",
    "Venture_Raw[COUNTRIES==\"AUSTRALIA\", Clean_Name := Clean_Name %>%\n",
    "                  gsub(\"PTY. LTD$\",\"\",.) %>%\n",
    "                  gsub(\"PTY.LTD$\",\"\",.) %>%\n",
    "                  gsub(\"PTY LTD$\",\"\",.) %>%\n",
    "                  gsub(\"(PTY)$\",\"\",.) %>%\n",
    "                  gsub(\"PTY LIMITED$\",\"\",.) %>%\n",
    "                  gsub(\"LIMITED$\",\"\",.) %>%\n",
    "                  gsub(\" LTD$\",\"\",.) %>%\n",
    "                  gsub(\",LTD$\",\"\",.) %>%\n",
    "                  gsub(\"CORPORATION$\",\"\",.) %>%\n",
    "                  gsub(\" CROP$\",\"\",.) %>%\n",
    "                  gsub(\" CO$\",\"\",.) %>%\n",
    "                  gsub(\",CO$\",\"\",.) %>%\n",
    "                  trimws()]"
   ]
  },
  {
   "cell_type": "code",
   "execution_count": 24,
   "metadata": {},
   "outputs": [],
   "source": [
    "#Sweden\n",
    "Venture_Raw[COUNTRIES==\"SWEDEN\", Clean_Name := Clean_Name %>%\n",
    "                  gsub(\"\\\\(PUBL)$\",\"\",.) %>%\n",
    "                  gsub(\"SE AB$\",\"\",.) %>% \n",
    "                  gsub(\" AB$\",\"\",.) %>%\n",
    "                  gsub(\",AB$\",\"\",.) %>%\n",
    "                  gsub(\"^AB \",\"\",.) %>%\n",
    "                  gsub(\" CORP$\",\"\",.) %>%\n",
    "                  gsub(\",CORP$\",\"\",.) %>%\n",
    "                  trimws()]"
   ]
  },
  {
   "cell_type": "code",
   "execution_count": 25,
   "metadata": {},
   "outputs": [],
   "source": [
    "#Spain\n",
    "Venture_Raw[COUNTRIES==\"SPAIN\", Clean_Name := Clean_Name %>%\n",
    "                  gsub(\" SL$\",\"\",.) %>%\n",
    "                  gsub(\",SL$\",\"\",.) %>%\n",
    "                  gsub(\"S.L$\",\"\",.) %>%\n",
    "                  gsub(\", S.L$\",\"\",.) %>%\n",
    "                  gsub(\" SA$\",\"\",.) %>%\n",
    "                  gsub(\",SA$\",\"\",.) %>%\n",
    "                  gsub(\"S.A$\",\"\",.) %>%\n",
    "                  gsub(\", S.A$\",\"\",.) %>%\n",
    "                  gsub(\"S.L.U$\",\"\",.) %>%\n",
    "                  gsub(\" SLU$\",\"\",.) %>%\n",
    "                  gsub(\",SLU$\",\"\",.) %>%\n",
    "                  trimws()]"
   ]
  },
  {
   "cell_type": "code",
   "execution_count": 26,
   "metadata": {},
   "outputs": [],
   "source": [
    "#Switzerland\n",
    "Venture_Raw[COUNTRIES==\"SWITZERLAND\", Clean_Name := Clean_Name %>%\n",
    "                  gsub(\"SÀRL$\",\"\",.) %>%\n",
    "                  gsub(\" AG$\",\"\",.) %>% \n",
    "                  gsub(\",AG$\",\"\",.) %>% \n",
    "                  gsub(\"GMBH$\",\"\",.) %>%\n",
    "                  gsub(\"S.A$\",\"\",.) %>%\n",
    "                  gsub(\" SA$\",\"\",.) %>%\n",
    "                  gsub(\",SA$\",\"\",.) %>%\n",
    "                  gsub(\" SARL$\",\"\",.) %>%\n",
    "                  gsub(\" LTD$\",\"\",.) %>%\n",
    "                  gsub(\",LTD$\",\"\",.) %>%\n",
    "                  trimws()]"
   ]
  },
  {
   "cell_type": "code",
   "execution_count": 27,
   "metadata": {},
   "outputs": [],
   "source": [
    "#Belgium\n",
    "Venture_Raw[COUNTRIES==\"BELGIUM\", Clean_Name := Clean_Name %>%\n",
    "                  gsub(\" NV SA$\",\"\",.) %>%\n",
    "                  gsub(\" NV$\",\"\",.) %>%\n",
    "                  gsub(\" SA$\",\"\",.) %>%\n",
    "                  gsub(\" VZW$\",\"\",.) %>%\n",
    "                  gsub(\" BVBA$\",\"\",.) %>%\n",
    "                  gsub(\" SPRL$\",\"\",.) %>%\n",
    "                  trimws()]"
   ]
  },
  {
   "cell_type": "code",
   "execution_count": 28,
   "metadata": {},
   "outputs": [],
   "source": [
    "#Netherlands\n",
    "Venture_Raw[COUNTRIES==\"NETHERLANDS\", Clean_Name := Clean_Name %>%\n",
    "                  gsub(\"N.V$\",\"\",.) %>%\n",
    "                  gsub(\" NV$\",\"\",.) %>%\n",
    "                  gsub(\",NV$\",\"\",.) %>%\n",
    "                  gsub(\"B.V$\",\"\",.) %>%\n",
    "                  gsub(\" BV$\",\"\",.) %>%\n",
    "                  gsub(\",BV$\",\"\",.) %>%\n",
    "                  trimws()]"
   ]
  },
  {
   "cell_type": "code",
   "execution_count": 29,
   "metadata": {},
   "outputs": [],
   "source": [
    "#South Korea\n",
    "Venture_Raw[COUNTRIES==\"SOUTH KOREA\", Clean_Name := Clean_Name %>%\n",
    "                  gsub(\"CO.,LTD$\",\"\",.) %>%\n",
    "                  gsub(\"CO., LTD$\",\"\",.) %>%\n",
    "                  gsub(\"CO. LTD$\",\"\",.) %>%\n",
    "                  gsub(\"CO.LTD$\",\"\",.) %>%\n",
    "                  gsub(\"CORPORATION$\",\"\",.) %>%\n",
    "                  gsub(\"CORP$\",\"\",.) %>%\n",
    "                  gsub(\" CO$\",\"\",.) %>%\n",
    "                  gsub(\",CO$\",\"\",.) %>%\n",
    "                  gsub(\"LIMITED$\",\"\",.) %>%\n",
    "                  gsub(\" LTD$\",\"\",.) %>%\n",
    "                  gsub(\",LTD$\",\"\",.) %>%\n",
    "                  gsub(\"INCORPORATED$\",\"\",.) %>%\n",
    "                  gsub(\" INC$\",\"\",.) %>%\n",
    "                  gsub(\", INC$\",\"\",.) %>%\n",
    "                  trimws()]"
   ]
  },
  {
   "cell_type": "code",
   "execution_count": 30,
   "metadata": {},
   "outputs": [],
   "source": [
    "#Italy\n",
    "Venture_Raw[COUNTRIES==\"ITALY\", Clean_Name := Clean_Name %>%\n",
    "                  gsub(\"S.P.A$\",\"\",.) %>%\n",
    "                  gsub(\" SPA$\",\"\",.) %>%\n",
    "                  gsub(\",SPA$\",\"\",.) %>%\n",
    "                  gsub(\"S.R.L$\",\"\",.) %>%\n",
    "                  gsub(\" SRL$\",\"\",.) %>%\n",
    "                  gsub(\",SRL$\",\"\",.) %>%\n",
    "                  trimws()]"
   ]
  },
  {
   "cell_type": "code",
   "execution_count": 31,
   "metadata": {},
   "outputs": [],
   "source": [
    "#Finland\n",
    "Venture_Raw[COUNTRIES==\"FINLAND\", Clean_Name := Clean_Name %>%\n",
    "                  gsub(\"OYJ$\",\"\",.) %>%\n",
    "                  gsub(\"OY AB$\",\"\",.) %>%\n",
    "                  gsub(\"OY$\",\"\",.) %>%\n",
    "                  gsub(\" INC$\",\"\",.) %>%\n",
    "                  gsub(\",INC$\",\"\",.) %>%\n",
    "                  gsub(\" LTD$\",\"\",.) %>%\n",
    "                  gsub(\", LTD$\",\"\",.) %>%\n",
    "                  gsub(\" CORP$\",\"\",.) %>%\n",
    "                  gsub(\" CORP$\",\"\",.) %>%\n",
    "                  gsub(\" AB$\",\"\",.) %>%\n",
    "                  gsub(\" AB LTD$\",\"\",.) %>%\n",
    "                  gsub(\" PLC$\",\"\",.) %>%\n",
    "                  gsub(\"^OY \",\"\",.) %>%\n",
    "                  trimws()]"
   ]
  },
  {
   "cell_type": "code",
   "execution_count": 32,
   "metadata": {},
   "outputs": [],
   "source": [
    "#Denmark\n",
    "Venture_Raw[COUNTRIES==\"DEMARK\", Clean_Name := Clean_Name %>%\n",
    "                  gsub(\" APS$\",\"\",.) %>%\n",
    "                  gsub(\" AS$\",\"\",.) %>%\n",
    "                  trimws()]"
   ]
  },
  {
   "cell_type": "code",
   "execution_count": 33,
   "metadata": {},
   "outputs": [],
   "source": [
    "#Remove commas and dots at end of names\n",
    "Venture_Raw[, Clean_Name := Clean_Name %>%\n",
    "                    gsub(\"\\\\.$\",\"\",.) %>%\n",
    "                    gsub(\",$\",\"\",.) %>%\n",
    "                    trimws()]"
   ]
  },
  {
   "cell_type": "markdown",
   "metadata": {},
   "source": [
    "# 3) Foundation Year"
   ]
  },
  {
   "cell_type": "markdown",
   "metadata": {},
   "source": [
    "## 3.1) Input"
   ]
  },
  {
   "cell_type": "code",
   "execution_count": 34,
   "metadata": {},
   "outputs": [
    {
     "data": {
      "text/html": [
       "<table>\n",
       "<thead><tr><th scope=col>Original_Venture_Name</th><th scope=col>Year_Foundation</th><th scope=col>Alternative_Name</th></tr></thead>\n",
       "<tbody>\n",
       "\t<tr><td>Zippy Inc.                                       </td><td>2017                                             </td><td>Zippy.ai                                         </td></tr>\n",
       "\t<tr><td>Blue Jay Finlease Ltd.                           </td><td>2015                                             </td><td>ZipLoan                                          </td></tr>\n",
       "\t<tr><td>Cognical, Inc.                                   </td><td>2012                                             </td><td>Zibby                                            </td></tr>\n",
       "\t<tr><td>Zhuiyi Shenzhen Chaoyi Technology Co., Ltd.      </td><td>2016                                             </td><td>Zhuiyi Technology                                </td></tr>\n",
       "\t<tr><td>Shenzhen Zhongshunyi Financial Services Co., Ltd.</td><td>2015                                             </td><td>Zhongshunyi Financial                            </td></tr>\n",
       "\t<tr><td>Anhui Zhongke Haoyin Technology Co., Ltd.        </td><td>2019                                             </td><td>Zhongke Haoyin                                   </td></tr>\n",
       "</tbody>\n",
       "</table>\n"
      ],
      "text/latex": [
       "\\begin{tabular}{r|lll}\n",
       " Original\\_Venture\\_Name & Year\\_Foundation & Alternative\\_Name\\\\\n",
       "\\hline\n",
       "\t Zippy Inc.                                        & 2017                                              & Zippy.ai                                         \\\\\n",
       "\t Blue Jay Finlease Ltd.                            & 2015                                              & ZipLoan                                          \\\\\n",
       "\t Cognical, Inc.                                    & 2012                                              & Zibby                                            \\\\\n",
       "\t Zhuiyi Shenzhen Chaoyi Technology Co., Ltd.       & 2016                                              & Zhuiyi Technology                                \\\\\n",
       "\t Shenzhen Zhongshunyi Financial Services Co., Ltd. & 2015                                              & Zhongshunyi Financial                            \\\\\n",
       "\t Anhui Zhongke Haoyin Technology Co., Ltd.         & 2019                                              & Zhongke Haoyin                                   \\\\\n",
       "\\end{tabular}\n"
      ],
      "text/markdown": [
       "\n",
       "| Original_Venture_Name | Year_Foundation | Alternative_Name |\n",
       "|---|---|---|\n",
       "| Zippy Inc.                                        | 2017                                              | Zippy.ai                                          |\n",
       "| Blue Jay Finlease Ltd.                            | 2015                                              | ZipLoan                                           |\n",
       "| Cognical, Inc.                                    | 2012                                              | Zibby                                             |\n",
       "| Zhuiyi Shenzhen Chaoyi Technology Co., Ltd.       | 2016                                              | Zhuiyi Technology                                 |\n",
       "| Shenzhen Zhongshunyi Financial Services Co., Ltd. | 2015                                              | Zhongshunyi Financial                             |\n",
       "| Anhui Zhongke Haoyin Technology Co., Ltd.         | 2019                                              | Zhongke Haoyin                                    |\n",
       "\n"
      ],
      "text/plain": [
       "  Original_Venture_Name                             Year_Foundation\n",
       "1 Zippy Inc.                                        2017           \n",
       "2 Blue Jay Finlease Ltd.                            2015           \n",
       "3 Cognical, Inc.                                    2012           \n",
       "4 Zhuiyi Shenzhen Chaoyi Technology Co., Ltd.       2016           \n",
       "5 Shenzhen Zhongshunyi Financial Services Co., Ltd. 2015           \n",
       "6 Anhui Zhongke Haoyin Technology Co., Ltd.         2019           \n",
       "  Alternative_Name     \n",
       "1 Zippy.ai             \n",
       "2 ZipLoan              \n",
       "3 Zibby                \n",
       "4 Zhuiyi Technology    \n",
       "5 Zhongshunyi Financial\n",
       "6 Zhongke Haoyin       "
      ]
     },
     "metadata": {},
     "output_type": "display_data"
    }
   ],
   "source": [
    "Mannual_Venture_Data <- fread(\"F:/Thesis/Source_Data/AI_Index_2019\\\\Mannual_Venture_Data.csv\",\n",
    "                              stringsAsFactors = FALSE, na.strings = \"\")\n",
    "head(Mannual_Venture_Data)"
   ]
  },
  {
   "cell_type": "code",
   "execution_count": 35,
   "metadata": {
    "scrolled": true
   },
   "outputs": [
    {
     "data": {
      "text/html": [
       "6671"
      ],
      "text/latex": [
       "6671"
      ],
      "text/markdown": [
       "6671"
      ],
      "text/plain": [
       "[1] 6671"
      ]
     },
     "metadata": {},
     "output_type": "display_data"
    },
    {
     "data": {
      "text/html": [
       "474"
      ],
      "text/latex": [
       "474"
      ],
      "text/markdown": [
       "474"
      ],
      "text/plain": [
       "[1] 474"
      ]
     },
     "metadata": {},
     "output_type": "display_data"
    }
   ],
   "source": [
    "nrow(Mannual_Venture_Data)\n",
    "sum(is.na(Mannual_Venture_Data$Year_Foundation))"
   ]
  },
  {
   "cell_type": "markdown",
   "metadata": {},
   "source": [
    "## 3.2) Data Combination"
   ]
  },
  {
   "cell_type": "code",
   "execution_count": 36,
   "metadata": {},
   "outputs": [
    {
     "data": {
      "text/html": [
       "<table>\n",
       "<thead><tr><th scope=col>Original_Venture_Name</th><th scope=col>Year_Foundation</th><th scope=col>Alternative_Name</th><th scope=col>EVENT_TYPE</th><th scope=col>FUNDING_IN_USD</th><th scope=col>COUNTRIES</th><th scope=col>CLUSTERS</th><th scope=col>YEAR_OF_FUNDING_EVENT</th><th scope=col>Clean_Name</th></tr></thead>\n",
       "<tbody>\n",
       "\t<tr><td>1-10 HOLDINGS, Inc.                                         </td><td>1997                                                        </td><td>NA                                                          </td><td>Private Investment                                          </td><td> 4.268640                                                   </td><td>JAPAN                                                       </td><td>AUGMENTED REALITY, VR, VIRTUAL REALITY, AR                  </td><td>2016                                                        </td><td>110 HOLDINGS                                                </td></tr>\n",
       "\t<tr><td>101 Commerce, Inc.                                          </td><td>2018                                                        </td><td>NA                                                          </td><td>Private Investment                                          </td><td> 2.532098                                                   </td><td>UNITED STATES                                               </td><td>ECOMMERCE, MARKETING AUTOMATION, SHOPPERS, RETAIL TECHNOLOGY</td><td>2019                                                        </td><td>101 COMMERCE                                                </td></tr>\n",
       "\t<tr><td>101 Commerce, Inc.                                          </td><td>2018                                                        </td><td>NA                                                          </td><td>Private Investment                                          </td><td>12.745520                                                   </td><td>UNITED STATES                                               </td><td>ECOMMERCE, MARKETING AUTOMATION, SHOPPERS, RETAIL TECHNOLOGY</td><td>2018                                                        </td><td>101 COMMERCE                                                </td></tr>\n",
       "\t<tr><td>10XTS, Inc.                                                 </td><td>2017                                                        </td><td>NA                                                          </td><td>Private Investment                                          </td><td> 0.000000                                                   </td><td>UNITED STATES                                               </td><td>CRYPTO, WEALTH MANAGEMENT, TRADERS, CRYPTOCURRENCY          </td><td>2018                                                        </td><td>10XTS                                                       </td></tr>\n",
       "\t<tr><td>10XTS, Inc.                                                 </td><td>2017                                                        </td><td>NA                                                          </td><td>Private Investment                                          </td><td> 1.069999                                                   </td><td>UNITED STATES                                               </td><td>CRYPTO, WEALTH MANAGEMENT, TRADERS, CRYPTOCURRENCY          </td><td>2018                                                        </td><td>10XTS                                                       </td></tr>\n",
       "\t<tr><td>10x Future Technologies Limited                             </td><td>2015                                                        </td><td>NA                                                          </td><td>Private Investment                                          </td><td>19.642249                                                   </td><td>UNITED KINGDOM                                              </td><td>LENDING, LOANS, CREDIT SCORE, CONSUMER FINANCE              </td><td>2019                                                        </td><td>10X FUTURE TECHNOLOGIES                                     </td></tr>\n",
       "</tbody>\n",
       "</table>\n"
      ],
      "text/latex": [
       "\\begin{tabular}{r|lllllllll}\n",
       " Original\\_Venture\\_Name & Year\\_Foundation & Alternative\\_Name & EVENT\\_TYPE & FUNDING\\_IN\\_USD & COUNTRIES & CLUSTERS & YEAR\\_OF\\_FUNDING\\_EVENT & Clean\\_Name\\\\\n",
       "\\hline\n",
       "\t 1-10 HOLDINGS, Inc.                                          & 1997                                                         & NA                                                           & Private Investment                                           &  4.268640                                                    & JAPAN                                                        & AUGMENTED REALITY, VR, VIRTUAL REALITY, AR                   & 2016                                                         & 110 HOLDINGS                                                \\\\\n",
       "\t 101 Commerce, Inc.                                           & 2018                                                         & NA                                                           & Private Investment                                           &  2.532098                                                    & UNITED STATES                                                & ECOMMERCE, MARKETING AUTOMATION, SHOPPERS, RETAIL TECHNOLOGY & 2019                                                         & 101 COMMERCE                                                \\\\\n",
       "\t 101 Commerce, Inc.                                           & 2018                                                         & NA                                                           & Private Investment                                           & 12.745520                                                    & UNITED STATES                                                & ECOMMERCE, MARKETING AUTOMATION, SHOPPERS, RETAIL TECHNOLOGY & 2018                                                         & 101 COMMERCE                                                \\\\\n",
       "\t 10XTS, Inc.                                                  & 2017                                                         & NA                                                           & Private Investment                                           &  0.000000                                                    & UNITED STATES                                                & CRYPTO, WEALTH MANAGEMENT, TRADERS, CRYPTOCURRENCY           & 2018                                                         & 10XTS                                                       \\\\\n",
       "\t 10XTS, Inc.                                                  & 2017                                                         & NA                                                           & Private Investment                                           &  1.069999                                                    & UNITED STATES                                                & CRYPTO, WEALTH MANAGEMENT, TRADERS, CRYPTOCURRENCY           & 2018                                                         & 10XTS                                                       \\\\\n",
       "\t 10x Future Technologies Limited                              & 2015                                                         & NA                                                           & Private Investment                                           & 19.642249                                                    & UNITED KINGDOM                                               & LENDING, LOANS, CREDIT SCORE, CONSUMER FINANCE               & 2019                                                         & 10X FUTURE TECHNOLOGIES                                     \\\\\n",
       "\\end{tabular}\n"
      ],
      "text/markdown": [
       "\n",
       "| Original_Venture_Name | Year_Foundation | Alternative_Name | EVENT_TYPE | FUNDING_IN_USD | COUNTRIES | CLUSTERS | YEAR_OF_FUNDING_EVENT | Clean_Name |\n",
       "|---|---|---|---|---|---|---|---|---|\n",
       "| 1-10 HOLDINGS, Inc.                                          | 1997                                                         | NA                                                           | Private Investment                                           |  4.268640                                                    | JAPAN                                                        | AUGMENTED REALITY, VR, VIRTUAL REALITY, AR                   | 2016                                                         | 110 HOLDINGS                                                 |\n",
       "| 101 Commerce, Inc.                                           | 2018                                                         | NA                                                           | Private Investment                                           |  2.532098                                                    | UNITED STATES                                                | ECOMMERCE, MARKETING AUTOMATION, SHOPPERS, RETAIL TECHNOLOGY | 2019                                                         | 101 COMMERCE                                                 |\n",
       "| 101 Commerce, Inc.                                           | 2018                                                         | NA                                                           | Private Investment                                           | 12.745520                                                    | UNITED STATES                                                | ECOMMERCE, MARKETING AUTOMATION, SHOPPERS, RETAIL TECHNOLOGY | 2018                                                         | 101 COMMERCE                                                 |\n",
       "| 10XTS, Inc.                                                  | 2017                                                         | NA                                                           | Private Investment                                           |  0.000000                                                    | UNITED STATES                                                | CRYPTO, WEALTH MANAGEMENT, TRADERS, CRYPTOCURRENCY           | 2018                                                         | 10XTS                                                        |\n",
       "| 10XTS, Inc.                                                  | 2017                                                         | NA                                                           | Private Investment                                           |  1.069999                                                    | UNITED STATES                                                | CRYPTO, WEALTH MANAGEMENT, TRADERS, CRYPTOCURRENCY           | 2018                                                         | 10XTS                                                        |\n",
       "| 10x Future Technologies Limited                              | 2015                                                         | NA                                                           | Private Investment                                           | 19.642249                                                    | UNITED KINGDOM                                               | LENDING, LOANS, CREDIT SCORE, CONSUMER FINANCE               | 2019                                                         | 10X FUTURE TECHNOLOGIES                                      |\n",
       "\n"
      ],
      "text/plain": [
       "  Original_Venture_Name           Year_Foundation Alternative_Name\n",
       "1 1-10 HOLDINGS, Inc.             1997            NA              \n",
       "2 101 Commerce, Inc.              2018            NA              \n",
       "3 101 Commerce, Inc.              2018            NA              \n",
       "4 10XTS, Inc.                     2017            NA              \n",
       "5 10XTS, Inc.                     2017            NA              \n",
       "6 10x Future Technologies Limited 2015            NA              \n",
       "  EVENT_TYPE         FUNDING_IN_USD COUNTRIES     \n",
       "1 Private Investment  4.268640      JAPAN         \n",
       "2 Private Investment  2.532098      UNITED STATES \n",
       "3 Private Investment 12.745520      UNITED STATES \n",
       "4 Private Investment  0.000000      UNITED STATES \n",
       "5 Private Investment  1.069999      UNITED STATES \n",
       "6 Private Investment 19.642249      UNITED KINGDOM\n",
       "  CLUSTERS                                                    \n",
       "1 AUGMENTED REALITY, VR, VIRTUAL REALITY, AR                  \n",
       "2 ECOMMERCE, MARKETING AUTOMATION, SHOPPERS, RETAIL TECHNOLOGY\n",
       "3 ECOMMERCE, MARKETING AUTOMATION, SHOPPERS, RETAIL TECHNOLOGY\n",
       "4 CRYPTO, WEALTH MANAGEMENT, TRADERS, CRYPTOCURRENCY          \n",
       "5 CRYPTO, WEALTH MANAGEMENT, TRADERS, CRYPTOCURRENCY          \n",
       "6 LENDING, LOANS, CREDIT SCORE, CONSUMER FINANCE              \n",
       "  YEAR_OF_FUNDING_EVENT Clean_Name             \n",
       "1 2016                  110 HOLDINGS           \n",
       "2 2019                  101 COMMERCE           \n",
       "3 2018                  101 COMMERCE           \n",
       "4 2018                  10XTS                  \n",
       "5 2018                  10XTS                  \n",
       "6 2019                  10X FUTURE TECHNOLOGIES"
      ]
     },
     "metadata": {},
     "output_type": "display_data"
    }
   ],
   "source": [
    "setkey(Venture_Raw, Original_Venture_Name)\n",
    "setkey(Mannual_Venture_Data, Original_Venture_Name)\n",
    "\n",
    "Venture_Raw <- Mannual_Venture_Data[Venture_Raw]\n",
    "head(Venture_Raw)"
   ]
  },
  {
   "cell_type": "markdown",
   "metadata": {},
   "source": [
    "## 3.3) Drop Startups for which the Founding Year is not available"
   ]
  },
  {
   "cell_type": "code",
   "execution_count": 38,
   "metadata": {},
   "outputs": [
    {
     "data": {
      "text/html": [
       "0"
      ],
      "text/latex": [
       "0"
      ],
      "text/markdown": [
       "0"
      ],
      "text/plain": [
       "[1] 0"
      ]
     },
     "metadata": {},
     "output_type": "display_data"
    }
   ],
   "source": [
    "Venture_Raw <- Venture_Raw[is.na(Year_Foundation)==FALSE,]\n",
    "sum(is.na(Venture_Raw$Year_Foundation))"
   ]
  },
  {
   "cell_type": "markdown",
   "metadata": {},
   "source": [
    "# 4) WIPO Sector Mapping"
   ]
  },
  {
   "cell_type": "markdown",
   "metadata": {},
   "source": [
    "## 4.1) Input"
   ]
  },
  {
   "cell_type": "code",
   "execution_count": 39,
   "metadata": {},
   "outputs": [
    {
     "data": {
      "text/html": [
       "<table>\n",
       "<thead><tr><th scope=col>Cluster</th><th scope=col>Field</th><th scope=col>Justification</th></tr></thead>\n",
       "<tbody>\n",
       "\t<tr><td>AGRICULTURE, FARMERS, FARMING, CROP                            </td><td>Agriculture                                                    </td><td>Key phrases \"Agriculture\"                                      </td></tr>\n",
       "\t<tr><td>LENDING, LOANS, CREDIT SCORE, CONSUMER FINANCE                 </td><td>Banking and Finance                                            </td><td>Key phrases \"Finance\"                                          </td></tr>\n",
       "\t<tr><td>CRYPTO, WEALTH MANAGEMENT, TRADERS, CRYPTOCURRENCY             </td><td>Banking and Finance                                            </td><td>Key phrases \"Trading\"                                          </td></tr>\n",
       "\t<tr><td>INSURTECH, INSURANCE INDUSTRY, UNDERWRITING, INSURANCE PRODUCTS</td><td>Banking and Finance                                            </td><td>Key phrases \"Insurance\"                                        </td></tr>\n",
       "\t<tr><td>INVOICES, MEDIUM BUSINESSES, CASH FLOW, RECEIPTS               </td><td>Business                                                       </td><td>Enterprise Computing is a subfield of Business                 </td></tr>\n",
       "\t<tr><td>SQL, HADOOP, PYTHON, DATA PREPARATION                          </td><td>Business                                                       </td><td>Enterprise Computing is a subfield of Business                 </td></tr>\n",
       "</tbody>\n",
       "</table>\n"
      ],
      "text/latex": [
       "\\begin{tabular}{r|lll}\n",
       " Cluster & Field & Justification\\\\\n",
       "\\hline\n",
       "\t AGRICULTURE, FARMERS, FARMING, CROP                             & Agriculture                                                     & Key phrases \"Agriculture\"                                      \\\\\n",
       "\t LENDING, LOANS, CREDIT SCORE, CONSUMER FINANCE                  & Banking and Finance                                             & Key phrases \"Finance\"                                          \\\\\n",
       "\t CRYPTO, WEALTH MANAGEMENT, TRADERS, CRYPTOCURRENCY              & Banking and Finance                                             & Key phrases \"Trading\"                                          \\\\\n",
       "\t INSURTECH, INSURANCE INDUSTRY, UNDERWRITING, INSURANCE PRODUCTS & Banking and Finance                                             & Key phrases \"Insurance\"                                        \\\\\n",
       "\t INVOICES, MEDIUM BUSINESSES, CASH FLOW, RECEIPTS                & Business                                                        & Enterprise Computing is a subfield of Business                 \\\\\n",
       "\t SQL, HADOOP, PYTHON, DATA PREPARATION                           & Business                                                        & Enterprise Computing is a subfield of Business                 \\\\\n",
       "\\end{tabular}\n"
      ],
      "text/markdown": [
       "\n",
       "| Cluster | Field | Justification |\n",
       "|---|---|---|\n",
       "| AGRICULTURE, FARMERS, FARMING, CROP                             | Agriculture                                                     | Key phrases \"Agriculture\"                                       |\n",
       "| LENDING, LOANS, CREDIT SCORE, CONSUMER FINANCE                  | Banking and Finance                                             | Key phrases \"Finance\"                                           |\n",
       "| CRYPTO, WEALTH MANAGEMENT, TRADERS, CRYPTOCURRENCY              | Banking and Finance                                             | Key phrases \"Trading\"                                           |\n",
       "| INSURTECH, INSURANCE INDUSTRY, UNDERWRITING, INSURANCE PRODUCTS | Banking and Finance                                             | Key phrases \"Insurance\"                                         |\n",
       "| INVOICES, MEDIUM BUSINESSES, CASH FLOW, RECEIPTS                | Business                                                        | Enterprise Computing is a subfield of Business                  |\n",
       "| SQL, HADOOP, PYTHON, DATA PREPARATION                           | Business                                                        | Enterprise Computing is a subfield of Business                  |\n",
       "\n"
      ],
      "text/plain": [
       "  Cluster                                                        \n",
       "1 AGRICULTURE, FARMERS, FARMING, CROP                            \n",
       "2 LENDING, LOANS, CREDIT SCORE, CONSUMER FINANCE                 \n",
       "3 CRYPTO, WEALTH MANAGEMENT, TRADERS, CRYPTOCURRENCY             \n",
       "4 INSURTECH, INSURANCE INDUSTRY, UNDERWRITING, INSURANCE PRODUCTS\n",
       "5 INVOICES, MEDIUM BUSINESSES, CASH FLOW, RECEIPTS               \n",
       "6 SQL, HADOOP, PYTHON, DATA PREPARATION                          \n",
       "  Field               Justification                                 \n",
       "1 Agriculture         Key phrases \"Agriculture\"                     \n",
       "2 Banking and Finance Key phrases \"Finance\"                         \n",
       "3 Banking and Finance Key phrases \"Trading\"                         \n",
       "4 Banking and Finance Key phrases \"Insurance\"                       \n",
       "5 Business            Enterprise Computing is a subfield of Business\n",
       "6 Business            Enterprise Computing is a subfield of Business"
      ]
     },
     "metadata": {},
     "output_type": "display_data"
    }
   ],
   "source": [
    "WIPO_Sector_Mapping <- data.table(readxl::read_excel(\"F:/Thesis/Source_Data/AI_Index_2019\\\\AI Index - WIPO Mapping.xlsx\",\n",
    "                              sheet = \"AI Index - WIPO Mapping\"))\n",
    "head(WIPO_Sector_Mapping)"
   ]
  },
  {
   "cell_type": "markdown",
   "metadata": {},
   "source": [
    "## 4.2) Data Combination"
   ]
  },
  {
   "cell_type": "code",
   "execution_count": 40,
   "metadata": {},
   "outputs": [
    {
     "data": {
      "text/html": [
       "<table>\n",
       "<thead><tr><th scope=col>Cluster</th><th scope=col>Field</th><th scope=col>Justification</th><th scope=col>Original_Venture_Name</th><th scope=col>Year_Foundation</th><th scope=col>Alternative_Name</th><th scope=col>EVENT_TYPE</th><th scope=col>FUNDING_IN_USD</th><th scope=col>COUNTRIES</th><th scope=col>YEAR_OF_FUNDING_EVENT</th><th scope=col>Clean_Name</th></tr></thead>\n",
       "<tbody>\n",
       "\t<tr><td>ADVERTISERS, PROGRAMMATIC, MOBILE ADVERTISING, REAL TIME BIDDING</td><td>Business                                                        </td><td>E-commerce is a subfield of Business                            </td><td>3LOQ Labs Pvt. Ltd.                                             </td><td>2012                                                            </td><td>NA                                                              </td><td>Private Investment                                              </td><td>2.000000                                                        </td><td>INDIA                                                           </td><td>2013                                                            </td><td>3LOQ LABS                                                       </td></tr>\n",
       "\t<tr><td>ADVERTISERS, PROGRAMMATIC, MOBILE ADVERTISING, REAL TIME BIDDING</td><td>Business                                                        </td><td>E-commerce is a subfield of Business                            </td><td>4w MarketPlace srl                                              </td><td>2007                                                            </td><td>NA                                                              </td><td>Private Investment                                              </td><td>3.240231                                                        </td><td>ITALY                                                           </td><td>2012                                                            </td><td>4W MARKETPLACE                                                  </td></tr>\n",
       "\t<tr><td>ADVERTISERS, PROGRAMMATIC, MOBILE ADVERTISING, REAL TIME BIDDING</td><td>Business                                                        </td><td>E-commerce is a subfield of Business                            </td><td>ADCORE Inc.                                                     </td><td>2003                                                            </td><td>NA                                                              </td><td>Private Investment                                              </td><td>1.903872                                                        </td><td>ISRAEL                                                          </td><td>2019                                                            </td><td>ADCORE                                                          </td></tr>\n",
       "\t<tr><td>ADVERTISERS, PROGRAMMATIC, MOBILE ADVERTISING, REAL TIME BIDDING</td><td>Business                                                        </td><td>E-commerce is a subfield of Business                            </td><td>ADCORE Inc.                                                     </td><td>2003                                                            </td><td>NA                                                              </td><td>Private Investment                                              </td><td>3.724201                                                        </td><td>ISRAEL                                                          </td><td>2019                                                            </td><td>ADCORE                                                          </td></tr>\n",
       "\t<tr><td>ADVERTISERS, PROGRAMMATIC, MOBILE ADVERTISING, REAL TIME BIDDING</td><td>Business                                                        </td><td>E-commerce is a subfield of Business                            </td><td>ADEXT Inc.                                                      </td><td>2017                                                            </td><td>Adext AI                                                        </td><td>Private Investment                                              </td><td>3.000000                                                        </td><td>UNITED STATES                                                   </td><td>2017                                                            </td><td>ADEXT                                                           </td></tr>\n",
       "\t<tr><td>ADVERTISERS, PROGRAMMATIC, MOBILE ADVERTISING, REAL TIME BIDDING</td><td>Business                                                        </td><td>E-commerce is a subfield of Business                            </td><td>ADFIN Solutions, Inc.                                           </td><td>2012                                                            </td><td>NA                                                              </td><td>Private Investment                                              </td><td>4.150000                                                        </td><td>UNITED STATES                                                   </td><td>2013                                                            </td><td>ADFIN SOLUTIONS                                                 </td></tr>\n",
       "</tbody>\n",
       "</table>\n"
      ],
      "text/latex": [
       "\\begin{tabular}{r|lllllllllll}\n",
       " Cluster & Field & Justification & Original\\_Venture\\_Name & Year\\_Foundation & Alternative\\_Name & EVENT\\_TYPE & FUNDING\\_IN\\_USD & COUNTRIES & YEAR\\_OF\\_FUNDING\\_EVENT & Clean\\_Name\\\\\n",
       "\\hline\n",
       "\t ADVERTISERS, PROGRAMMATIC, MOBILE ADVERTISING, REAL TIME BIDDING & Business                                                         & E-commerce is a subfield of Business                             & 3LOQ Labs Pvt. Ltd.                                              & 2012                                                             & NA                                                               & Private Investment                                               & 2.000000                                                         & INDIA                                                            & 2013                                                             & 3LOQ LABS                                                       \\\\\n",
       "\t ADVERTISERS, PROGRAMMATIC, MOBILE ADVERTISING, REAL TIME BIDDING & Business                                                         & E-commerce is a subfield of Business                             & 4w MarketPlace srl                                               & 2007                                                             & NA                                                               & Private Investment                                               & 3.240231                                                         & ITALY                                                            & 2012                                                             & 4W MARKETPLACE                                                  \\\\\n",
       "\t ADVERTISERS, PROGRAMMATIC, MOBILE ADVERTISING, REAL TIME BIDDING & Business                                                         & E-commerce is a subfield of Business                             & ADCORE Inc.                                                      & 2003                                                             & NA                                                               & Private Investment                                               & 1.903872                                                         & ISRAEL                                                           & 2019                                                             & ADCORE                                                          \\\\\n",
       "\t ADVERTISERS, PROGRAMMATIC, MOBILE ADVERTISING, REAL TIME BIDDING & Business                                                         & E-commerce is a subfield of Business                             & ADCORE Inc.                                                      & 2003                                                             & NA                                                               & Private Investment                                               & 3.724201                                                         & ISRAEL                                                           & 2019                                                             & ADCORE                                                          \\\\\n",
       "\t ADVERTISERS, PROGRAMMATIC, MOBILE ADVERTISING, REAL TIME BIDDING & Business                                                         & E-commerce is a subfield of Business                             & ADEXT Inc.                                                       & 2017                                                             & Adext AI                                                         & Private Investment                                               & 3.000000                                                         & UNITED STATES                                                    & 2017                                                             & ADEXT                                                           \\\\\n",
       "\t ADVERTISERS, PROGRAMMATIC, MOBILE ADVERTISING, REAL TIME BIDDING & Business                                                         & E-commerce is a subfield of Business                             & ADFIN Solutions, Inc.                                            & 2012                                                             & NA                                                               & Private Investment                                               & 4.150000                                                         & UNITED STATES                                                    & 2013                                                             & ADFIN SOLUTIONS                                                 \\\\\n",
       "\\end{tabular}\n"
      ],
      "text/markdown": [
       "\n",
       "| Cluster | Field | Justification | Original_Venture_Name | Year_Foundation | Alternative_Name | EVENT_TYPE | FUNDING_IN_USD | COUNTRIES | YEAR_OF_FUNDING_EVENT | Clean_Name |\n",
       "|---|---|---|---|---|---|---|---|---|---|---|\n",
       "| ADVERTISERS, PROGRAMMATIC, MOBILE ADVERTISING, REAL TIME BIDDING | Business                                                         | E-commerce is a subfield of Business                             | 3LOQ Labs Pvt. Ltd.                                              | 2012                                                             | NA                                                               | Private Investment                                               | 2.000000                                                         | INDIA                                                            | 2013                                                             | 3LOQ LABS                                                        |\n",
       "| ADVERTISERS, PROGRAMMATIC, MOBILE ADVERTISING, REAL TIME BIDDING | Business                                                         | E-commerce is a subfield of Business                             | 4w MarketPlace srl                                               | 2007                                                             | NA                                                               | Private Investment                                               | 3.240231                                                         | ITALY                                                            | 2012                                                             | 4W MARKETPLACE                                                   |\n",
       "| ADVERTISERS, PROGRAMMATIC, MOBILE ADVERTISING, REAL TIME BIDDING | Business                                                         | E-commerce is a subfield of Business                             | ADCORE Inc.                                                      | 2003                                                             | NA                                                               | Private Investment                                               | 1.903872                                                         | ISRAEL                                                           | 2019                                                             | ADCORE                                                           |\n",
       "| ADVERTISERS, PROGRAMMATIC, MOBILE ADVERTISING, REAL TIME BIDDING | Business                                                         | E-commerce is a subfield of Business                             | ADCORE Inc.                                                      | 2003                                                             | NA                                                               | Private Investment                                               | 3.724201                                                         | ISRAEL                                                           | 2019                                                             | ADCORE                                                           |\n",
       "| ADVERTISERS, PROGRAMMATIC, MOBILE ADVERTISING, REAL TIME BIDDING | Business                                                         | E-commerce is a subfield of Business                             | ADEXT Inc.                                                       | 2017                                                             | Adext AI                                                         | Private Investment                                               | 3.000000                                                         | UNITED STATES                                                    | 2017                                                             | ADEXT                                                            |\n",
       "| ADVERTISERS, PROGRAMMATIC, MOBILE ADVERTISING, REAL TIME BIDDING | Business                                                         | E-commerce is a subfield of Business                             | ADFIN Solutions, Inc.                                            | 2012                                                             | NA                                                               | Private Investment                                               | 4.150000                                                         | UNITED STATES                                                    | 2013                                                             | ADFIN SOLUTIONS                                                  |\n",
       "\n"
      ],
      "text/plain": [
       "  Cluster                                                          Field   \n",
       "1 ADVERTISERS, PROGRAMMATIC, MOBILE ADVERTISING, REAL TIME BIDDING Business\n",
       "2 ADVERTISERS, PROGRAMMATIC, MOBILE ADVERTISING, REAL TIME BIDDING Business\n",
       "3 ADVERTISERS, PROGRAMMATIC, MOBILE ADVERTISING, REAL TIME BIDDING Business\n",
       "4 ADVERTISERS, PROGRAMMATIC, MOBILE ADVERTISING, REAL TIME BIDDING Business\n",
       "5 ADVERTISERS, PROGRAMMATIC, MOBILE ADVERTISING, REAL TIME BIDDING Business\n",
       "6 ADVERTISERS, PROGRAMMATIC, MOBILE ADVERTISING, REAL TIME BIDDING Business\n",
       "  Justification                        Original_Venture_Name Year_Foundation\n",
       "1 E-commerce is a subfield of Business 3LOQ Labs Pvt. Ltd.   2012           \n",
       "2 E-commerce is a subfield of Business 4w MarketPlace srl    2007           \n",
       "3 E-commerce is a subfield of Business ADCORE Inc.           2003           \n",
       "4 E-commerce is a subfield of Business ADCORE Inc.           2003           \n",
       "5 E-commerce is a subfield of Business ADEXT Inc.            2017           \n",
       "6 E-commerce is a subfield of Business ADFIN Solutions, Inc. 2012           \n",
       "  Alternative_Name EVENT_TYPE         FUNDING_IN_USD COUNTRIES    \n",
       "1 NA               Private Investment 2.000000       INDIA        \n",
       "2 NA               Private Investment 3.240231       ITALY        \n",
       "3 NA               Private Investment 1.903872       ISRAEL       \n",
       "4 NA               Private Investment 3.724201       ISRAEL       \n",
       "5 Adext AI         Private Investment 3.000000       UNITED STATES\n",
       "6 NA               Private Investment 4.150000       UNITED STATES\n",
       "  YEAR_OF_FUNDING_EVENT Clean_Name     \n",
       "1 2013                  3LOQ LABS      \n",
       "2 2012                  4W MARKETPLACE \n",
       "3 2019                  ADCORE         \n",
       "4 2019                  ADCORE         \n",
       "5 2017                  ADEXT          \n",
       "6 2013                  ADFIN SOLUTIONS"
      ]
     },
     "metadata": {},
     "output_type": "display_data"
    }
   ],
   "source": [
    "setkey(Venture_Raw, CLUSTERS)\n",
    "setkey(WIPO_Sector_Mapping, Cluster)\n",
    "Venture_Raw <- WIPO_Sector_Mapping[Venture_Raw]\n",
    "\n",
    "head(Venture_Raw)"
   ]
  },
  {
   "cell_type": "markdown",
   "metadata": {},
   "source": [
    "# 5) GPT Market Cluster Mapping"
   ]
  },
  {
   "cell_type": "code",
   "execution_count": 41,
   "metadata": {},
   "outputs": [
    {
     "data": {
      "text/html": [
       "<table>\n",
       "<thead><tr><th scope=col>Cluster</th><th scope=col>Field</th><th scope=col>Justification</th><th scope=col>Original_Venture_Name</th><th scope=col>Year_Foundation</th><th scope=col>Alternative_Name</th><th scope=col>EVENT_TYPE</th><th scope=col>FUNDING_IN_USD</th><th scope=col>COUNTRIES</th><th scope=col>YEAR_OF_FUNDING_EVENT</th><th scope=col>Clean_Name</th><th scope=col>GPT_Scope</th></tr></thead>\n",
       "<tbody>\n",
       "\t<tr><td>ADVERTISERS, PROGRAMMATIC, MOBILE ADVERTISING, REAL TIME BIDDING</td><td>Business                                                        </td><td>E-commerce is a subfield of Business                            </td><td>3LOQ Labs Pvt. Ltd.                                             </td><td>2012                                                            </td><td>NA                                                              </td><td>Private Investment                                              </td><td>2.000000                                                        </td><td>INDIA                                                           </td><td>2013                                                            </td><td>3LOQ LABS                                                       </td><td>Applied_AI                                                      </td></tr>\n",
       "\t<tr><td>ADVERTISERS, PROGRAMMATIC, MOBILE ADVERTISING, REAL TIME BIDDING</td><td>Business                                                        </td><td>E-commerce is a subfield of Business                            </td><td>4w MarketPlace srl                                              </td><td>2007                                                            </td><td>NA                                                              </td><td>Private Investment                                              </td><td>3.240231                                                        </td><td>ITALY                                                           </td><td>2012                                                            </td><td>4W MARKETPLACE                                                  </td><td>Applied_AI                                                      </td></tr>\n",
       "\t<tr><td>ADVERTISERS, PROGRAMMATIC, MOBILE ADVERTISING, REAL TIME BIDDING</td><td>Business                                                        </td><td>E-commerce is a subfield of Business                            </td><td>ADCORE Inc.                                                     </td><td>2003                                                            </td><td>NA                                                              </td><td>Private Investment                                              </td><td>1.903872                                                        </td><td>ISRAEL                                                          </td><td>2019                                                            </td><td>ADCORE                                                          </td><td>Applied_AI                                                      </td></tr>\n",
       "\t<tr><td>ADVERTISERS, PROGRAMMATIC, MOBILE ADVERTISING, REAL TIME BIDDING</td><td>Business                                                        </td><td>E-commerce is a subfield of Business                            </td><td>ADCORE Inc.                                                     </td><td>2003                                                            </td><td>NA                                                              </td><td>Private Investment                                              </td><td>3.724201                                                        </td><td>ISRAEL                                                          </td><td>2019                                                            </td><td>ADCORE                                                          </td><td>Applied_AI                                                      </td></tr>\n",
       "\t<tr><td>ADVERTISERS, PROGRAMMATIC, MOBILE ADVERTISING, REAL TIME BIDDING</td><td>Business                                                        </td><td>E-commerce is a subfield of Business                            </td><td>ADEXT Inc.                                                      </td><td>2017                                                            </td><td>Adext AI                                                        </td><td>Private Investment                                              </td><td>3.000000                                                        </td><td>UNITED STATES                                                   </td><td>2017                                                            </td><td>ADEXT                                                           </td><td>Applied_AI                                                      </td></tr>\n",
       "\t<tr><td>ADVERTISERS, PROGRAMMATIC, MOBILE ADVERTISING, REAL TIME BIDDING</td><td>Business                                                        </td><td>E-commerce is a subfield of Business                            </td><td>ADFIN Solutions, Inc.                                           </td><td>2012                                                            </td><td>NA                                                              </td><td>Private Investment                                              </td><td>4.150000                                                        </td><td>UNITED STATES                                                   </td><td>2013                                                            </td><td>ADFIN SOLUTIONS                                                 </td><td>Applied_AI                                                      </td></tr>\n",
       "</tbody>\n",
       "</table>\n"
      ],
      "text/latex": [
       "\\begin{tabular}{r|llllllllllll}\n",
       " Cluster & Field & Justification & Original\\_Venture\\_Name & Year\\_Foundation & Alternative\\_Name & EVENT\\_TYPE & FUNDING\\_IN\\_USD & COUNTRIES & YEAR\\_OF\\_FUNDING\\_EVENT & Clean\\_Name & GPT\\_Scope\\\\\n",
       "\\hline\n",
       "\t ADVERTISERS, PROGRAMMATIC, MOBILE ADVERTISING, REAL TIME BIDDING & Business                                                         & E-commerce is a subfield of Business                             & 3LOQ Labs Pvt. Ltd.                                              & 2012                                                             & NA                                                               & Private Investment                                               & 2.000000                                                         & INDIA                                                            & 2013                                                             & 3LOQ LABS                                                        & Applied\\_AI                                                    \\\\\n",
       "\t ADVERTISERS, PROGRAMMATIC, MOBILE ADVERTISING, REAL TIME BIDDING & Business                                                         & E-commerce is a subfield of Business                             & 4w MarketPlace srl                                               & 2007                                                             & NA                                                               & Private Investment                                               & 3.240231                                                         & ITALY                                                            & 2012                                                             & 4W MARKETPLACE                                                   & Applied\\_AI                                                    \\\\\n",
       "\t ADVERTISERS, PROGRAMMATIC, MOBILE ADVERTISING, REAL TIME BIDDING & Business                                                         & E-commerce is a subfield of Business                             & ADCORE Inc.                                                      & 2003                                                             & NA                                                               & Private Investment                                               & 1.903872                                                         & ISRAEL                                                           & 2019                                                             & ADCORE                                                           & Applied\\_AI                                                    \\\\\n",
       "\t ADVERTISERS, PROGRAMMATIC, MOBILE ADVERTISING, REAL TIME BIDDING & Business                                                         & E-commerce is a subfield of Business                             & ADCORE Inc.                                                      & 2003                                                             & NA                                                               & Private Investment                                               & 3.724201                                                         & ISRAEL                                                           & 2019                                                             & ADCORE                                                           & Applied\\_AI                                                    \\\\\n",
       "\t ADVERTISERS, PROGRAMMATIC, MOBILE ADVERTISING, REAL TIME BIDDING & Business                                                         & E-commerce is a subfield of Business                             & ADEXT Inc.                                                       & 2017                                                             & Adext AI                                                         & Private Investment                                               & 3.000000                                                         & UNITED STATES                                                    & 2017                                                             & ADEXT                                                            & Applied\\_AI                                                    \\\\\n",
       "\t ADVERTISERS, PROGRAMMATIC, MOBILE ADVERTISING, REAL TIME BIDDING & Business                                                         & E-commerce is a subfield of Business                             & ADFIN Solutions, Inc.                                            & 2012                                                             & NA                                                               & Private Investment                                               & 4.150000                                                         & UNITED STATES                                                    & 2013                                                             & ADFIN SOLUTIONS                                                  & Applied\\_AI                                                    \\\\\n",
       "\\end{tabular}\n"
      ],
      "text/markdown": [
       "\n",
       "| Cluster | Field | Justification | Original_Venture_Name | Year_Foundation | Alternative_Name | EVENT_TYPE | FUNDING_IN_USD | COUNTRIES | YEAR_OF_FUNDING_EVENT | Clean_Name | GPT_Scope |\n",
       "|---|---|---|---|---|---|---|---|---|---|---|---|\n",
       "| ADVERTISERS, PROGRAMMATIC, MOBILE ADVERTISING, REAL TIME BIDDING | Business                                                         | E-commerce is a subfield of Business                             | 3LOQ Labs Pvt. Ltd.                                              | 2012                                                             | NA                                                               | Private Investment                                               | 2.000000                                                         | INDIA                                                            | 2013                                                             | 3LOQ LABS                                                        | Applied_AI                                                       |\n",
       "| ADVERTISERS, PROGRAMMATIC, MOBILE ADVERTISING, REAL TIME BIDDING | Business                                                         | E-commerce is a subfield of Business                             | 4w MarketPlace srl                                               | 2007                                                             | NA                                                               | Private Investment                                               | 3.240231                                                         | ITALY                                                            | 2012                                                             | 4W MARKETPLACE                                                   | Applied_AI                                                       |\n",
       "| ADVERTISERS, PROGRAMMATIC, MOBILE ADVERTISING, REAL TIME BIDDING | Business                                                         | E-commerce is a subfield of Business                             | ADCORE Inc.                                                      | 2003                                                             | NA                                                               | Private Investment                                               | 1.903872                                                         | ISRAEL                                                           | 2019                                                             | ADCORE                                                           | Applied_AI                                                       |\n",
       "| ADVERTISERS, PROGRAMMATIC, MOBILE ADVERTISING, REAL TIME BIDDING | Business                                                         | E-commerce is a subfield of Business                             | ADCORE Inc.                                                      | 2003                                                             | NA                                                               | Private Investment                                               | 3.724201                                                         | ISRAEL                                                           | 2019                                                             | ADCORE                                                           | Applied_AI                                                       |\n",
       "| ADVERTISERS, PROGRAMMATIC, MOBILE ADVERTISING, REAL TIME BIDDING | Business                                                         | E-commerce is a subfield of Business                             | ADEXT Inc.                                                       | 2017                                                             | Adext AI                                                         | Private Investment                                               | 3.000000                                                         | UNITED STATES                                                    | 2017                                                             | ADEXT                                                            | Applied_AI                                                       |\n",
       "| ADVERTISERS, PROGRAMMATIC, MOBILE ADVERTISING, REAL TIME BIDDING | Business                                                         | E-commerce is a subfield of Business                             | ADFIN Solutions, Inc.                                            | 2012                                                             | NA                                                               | Private Investment                                               | 4.150000                                                         | UNITED STATES                                                    | 2013                                                             | ADFIN SOLUTIONS                                                  | Applied_AI                                                       |\n",
       "\n"
      ],
      "text/plain": [
       "  Cluster                                                          Field   \n",
       "1 ADVERTISERS, PROGRAMMATIC, MOBILE ADVERTISING, REAL TIME BIDDING Business\n",
       "2 ADVERTISERS, PROGRAMMATIC, MOBILE ADVERTISING, REAL TIME BIDDING Business\n",
       "3 ADVERTISERS, PROGRAMMATIC, MOBILE ADVERTISING, REAL TIME BIDDING Business\n",
       "4 ADVERTISERS, PROGRAMMATIC, MOBILE ADVERTISING, REAL TIME BIDDING Business\n",
       "5 ADVERTISERS, PROGRAMMATIC, MOBILE ADVERTISING, REAL TIME BIDDING Business\n",
       "6 ADVERTISERS, PROGRAMMATIC, MOBILE ADVERTISING, REAL TIME BIDDING Business\n",
       "  Justification                        Original_Venture_Name Year_Foundation\n",
       "1 E-commerce is a subfield of Business 3LOQ Labs Pvt. Ltd.   2012           \n",
       "2 E-commerce is a subfield of Business 4w MarketPlace srl    2007           \n",
       "3 E-commerce is a subfield of Business ADCORE Inc.           2003           \n",
       "4 E-commerce is a subfield of Business ADCORE Inc.           2003           \n",
       "5 E-commerce is a subfield of Business ADEXT Inc.            2017           \n",
       "6 E-commerce is a subfield of Business ADFIN Solutions, Inc. 2012           \n",
       "  Alternative_Name EVENT_TYPE         FUNDING_IN_USD COUNTRIES    \n",
       "1 NA               Private Investment 2.000000       INDIA        \n",
       "2 NA               Private Investment 3.240231       ITALY        \n",
       "3 NA               Private Investment 1.903872       ISRAEL       \n",
       "4 NA               Private Investment 3.724201       ISRAEL       \n",
       "5 Adext AI         Private Investment 3.000000       UNITED STATES\n",
       "6 NA               Private Investment 4.150000       UNITED STATES\n",
       "  YEAR_OF_FUNDING_EVENT Clean_Name      GPT_Scope \n",
       "1 2013                  3LOQ LABS       Applied_AI\n",
       "2 2012                  4W MARKETPLACE  Applied_AI\n",
       "3 2019                  ADCORE          Applied_AI\n",
       "4 2019                  ADCORE          Applied_AI\n",
       "5 2017                  ADEXT           Applied_AI\n",
       "6 2013                  ADFIN SOLUTIONS Applied_AI"
      ]
     },
     "metadata": {},
     "output_type": "display_data"
    }
   ],
   "source": [
    "Field_Applications <- c(\"Agriculture\",\"Arts and Humanities\",\"Banking and Finance\",\"Business\",\"Cartography\",\n",
    "                        \"Computing in Government\",\"Document Management and Text Processing\",\"Education\",\n",
    "                        \"Energy Management\",\"Entertainment\",\"Industry and manufacturing\",\n",
    "                        \"Law Social and Behavioral Sciences\",\"Life and Medical Sciences\", \"Military\",\"Networks\",\n",
    "                        \"Personal Devices Computing and Hc\",\"Physical Sciences and Engineering\",\"Publishing\",\n",
    "                        \"Security\",\"Telecommunications\",\"Transportation\")\n",
    "\n",
    "Venture_Raw <- Venture_Raw[,GPT_Scope := ifelse(Field==\"Miscellaneous\",\"Other\",\n",
    "                                                                    Field %in% Field_Applications)]\n",
    "Venture_Raw <- Venture_Raw[,GPT_Scope := ifelse(GPT_Scope==TRUE,\"Applied_AI\",\n",
    "                                                                    ifelse(GPT_Scope==FALSE,\"Core_AI\", \"Other\"))]\n",
    "head(Venture_Raw)"
   ]
  },
  {
   "cell_type": "code",
   "execution_count": 42,
   "metadata": {},
   "outputs": [
    {
     "data": {
      "text/html": [
       "5743"
      ],
      "text/latex": [
       "5743"
      ],
      "text/markdown": [
       "5743"
      ],
      "text/plain": [
       "[1] 5743"
      ]
     },
     "metadata": {},
     "output_type": "display_data"
    },
    {
     "data": {
      "text/html": [
       "0"
      ],
      "text/latex": [
       "0"
      ],
      "text/markdown": [
       "0"
      ],
      "text/plain": [
       "[1] 0"
      ]
     },
     "metadata": {},
     "output_type": "display_data"
    },
    {
     "data": {
      "text/html": [
       "0"
      ],
      "text/latex": [
       "0"
      ],
      "text/markdown": [
       "0"
      ],
      "text/plain": [
       "[1] 0"
      ]
     },
     "metadata": {},
     "output_type": "display_data"
    }
   ],
   "source": [
    "length(unique(Venture_Raw$Original_Venture_Name))\n",
    "sum(is.na(Venture_Raw$Year_Foundation))\n",
    "\n",
    "sum(is.na(Venture_Raw$Year_Foundation))/length(unique(Venture_Raw$Original_Venture_Name))"
   ]
  },
  {
   "cell_type": "markdown",
   "metadata": {},
   "source": [
    "# 6) Age of Startups at Time of Investment"
   ]
  },
  {
   "cell_type": "code",
   "execution_count": 43,
   "metadata": {},
   "outputs": [
    {
     "data": {
      "text/plain": [
       "   Min. 1st Qu.  Median    Mean 3rd Qu.    Max. \n",
       " -9.000   1.000   2.000   3.511   4.000 217.000 "
      ]
     },
     "metadata": {},
     "output_type": "display_data"
    }
   ],
   "source": [
    "Venture_Raw <- Venture_Raw[, Venture_Age:= YEAR_OF_FUNDING_EVENT - Year_Foundation]\n",
    "summary(Venture_Raw$Venture_Age)"
   ]
  },
  {
   "cell_type": "code",
   "execution_count": 44,
   "metadata": {},
   "outputs": [
    {
     "data": {
      "text/plain": [
       "\n",
       "  -9   -8   -7   -6   -5   -4   -3   -2   -1    0    1    2    3    4    5    6 \n",
       "   1    1    2    2    5   13   20   27   49 1316 2513 2388 1850 1280  832  496 \n",
       "   7    8    9   10   11   12   13   14   15   16   17   18   19   20   21   22 \n",
       " 381  251  209  135  128   99   84   63   43   36   22   18   19   10   13    7 \n",
       "  23   24   25   26   27   28   29   30   31   32   33   34   35   36   39   41 \n",
       "  11    5    4   12    9    2    3    4    2    3    2    2    1    1    1    1 \n",
       "  43   44   45   46   47   48   55   57   65   77   82   83   89   91   93   95 \n",
       "   1    1    1    1    1    1    1    1    1    1    1    1    1    2    1    1 \n",
       " 108  112  217 \n",
       "   1    1    1 "
      ]
     },
     "metadata": {},
     "output_type": "display_data"
    }
   ],
   "source": [
    "table(Venture_Raw$Venture_Age)"
   ]
  },
  {
   "cell_type": "markdown",
   "metadata": {},
   "source": [
    "Remove companeis that received funding before being founded"
   ]
  },
  {
   "cell_type": "code",
   "execution_count": 50,
   "metadata": {},
   "outputs": [
    {
     "data": {
      "text/plain": [
       "   Min. 1st Qu.  Median    Mean 3rd Qu.    Max. \n",
       "  0.000   1.000   2.000   3.568   4.000 217.000 "
      ]
     },
     "metadata": {},
     "output_type": "display_data"
    },
    {
     "data": {
      "text/html": [
       "5719"
      ],
      "text/latex": [
       "5719"
      ],
      "text/markdown": [
       "5719"
      ],
      "text/plain": [
       "[1] 5719"
      ]
     },
     "metadata": {},
     "output_type": "display_data"
    }
   ],
   "source": [
    "Venture_Raw <- Venture_Raw[Venture_Age>=0,]\n",
    "summary(Venture_Raw$Venture_Age)\n",
    "length(unique(Venture_Raw$Original_Venture_Name))"
   ]
  },
  {
   "cell_type": "markdown",
   "metadata": {},
   "source": [
    "# 7) OUTPUT"
   ]
  },
  {
   "cell_type": "code",
   "execution_count": 51,
   "metadata": {},
   "outputs": [],
   "source": [
    "fwrite(Venture_Raw, \"F:/Thesis/Working_Data/Final\\\\Entrepreneurial_Dataset.csv\", col.name=TRUE)"
   ]
  }
 ],
 "metadata": {
  "kernelspec": {
   "display_name": "R",
   "language": "R",
   "name": "ir"
  },
  "language_info": {
   "codemirror_mode": "r",
   "file_extension": ".r",
   "mimetype": "text/x-r-source",
   "name": "R",
   "pygments_lexer": "r",
   "version": "3.6.1"
  }
 },
 "nbformat": 4,
 "nbformat_minor": 2
}
