{
 "cells": [
  {
   "cell_type": "markdown",
   "metadata": {},
   "source": [
    "Library and Directory Setup"
   ]
  },
  {
   "cell_type": "code",
   "execution_count": 1,
   "metadata": {},
   "outputs": [],
   "source": [
    "options(warn=-1)"
   ]
  },
  {
   "cell_type": "code",
   "execution_count": 2,
   "metadata": {},
   "outputs": [],
   "source": [
    "suppressPackageStartupMessages(library(data.table))\n",
    "suppressPackageStartupMessages(library(tidyverse))\n",
    "suppressPackageStartupMessages(library(lubridate))\n",
    "suppressPackageStartupMessages(library(ggplot2))\n",
    "suppressPackageStartupMessages(library(dplyr))\n",
    "suppressPackageStartupMessages(library(plotly))\n",
    "suppressPackageStartupMessages(library(VennDiagram))\n",
    "suppressPackageStartupMessages(library(RColorBrewer))\n",
    "suppressPackageStartupMessages(library(scales))\n",
    "suppressPackageStartupMessages(library(Cairo))\n",
    "suppressPackageStartupMessages(library(wesanderson))\n",
    "suppressPackageStartupMessages(library(ggridges))"
   ]
  },
  {
   "cell_type": "code",
   "execution_count": 3,
   "metadata": {},
   "outputs": [
    {
     "data": {
      "text/html": [
       "'F:/Thesis/Working_Data/Final'"
      ],
      "text/latex": [
       "'F:/Thesis/Working\\_Data/Final'"
      ],
      "text/markdown": [
       "'F:/Thesis/Working_Data/Final'"
      ],
      "text/plain": [
       "[1] \"F:/Thesis/Working_Data/Final\""
      ]
     },
     "metadata": {},
     "output_type": "display_data"
    }
   ],
   "source": [
    "setwd(\"F:/Thesis/Working_Data/Final\")\n",
    "getwd()"
   ]
  },
  {
   "cell_type": "markdown",
   "metadata": {},
   "source": [
    "# 0) Input"
   ]
  },
  {
   "cell_type": "code",
   "execution_count": 4,
   "metadata": {
    "scrolled": true
   },
   "outputs": [
    {
     "data": {
      "text/html": [
       "<ol class=list-inline>\n",
       "\t<li>19602</li>\n",
       "\t<li>54</li>\n",
       "</ol>\n"
      ],
      "text/latex": [
       "\\begin{enumerate*}\n",
       "\\item 19602\n",
       "\\item 54\n",
       "\\end{enumerate*}\n"
      ],
      "text/markdown": [
       "1. 19602\n",
       "2. 54\n",
       "\n",
       "\n"
      ],
      "text/plain": [
       "[1] 19602    54"
      ]
     },
     "metadata": {},
     "output_type": "display_data"
    },
    {
     "data": {
      "text/html": [
       "<dl class=dl-horizontal>\n",
       "\t<dt>Patent_number</dt>\n",
       "\t\t<dd>'character'</dd>\n",
       "\t<dt>Application_Date</dt>\n",
       "\t\t<dd>'character'</dd>\n",
       "\t<dt>Clean_name</dt>\n",
       "\t\t<dd>'character'</dd>\n",
       "\t<dt>APPLICANT_MATCH_NAME</dt>\n",
       "\t\t<dd>'character'</dd>\n",
       "\t<dt>PDL_ORIGINAL_NAME</dt>\n",
       "\t\t<dd>'character'</dd>\n",
       "\t<dt>PDL_MATCH_NAME</dt>\n",
       "\t\t<dd>'character'</dd>\n",
       "\t<dt>METHOD</dt>\n",
       "\t\t<dd>'character'</dd>\n",
       "\t<dt>Person_ctry_code</dt>\n",
       "\t\t<dd>'character'</dd>\n",
       "\t<dt>COUNTRY</dt>\n",
       "\t\t<dd>'character'</dd>\n",
       "\t<dt>Applicant_Type</dt>\n",
       "\t\t<dd>'character'</dd>\n",
       "\t<dt>YEAR_FOUNDED</dt>\n",
       "\t\t<dd>'integer'</dd>\n",
       "\t<dt>SIZE_RANGE</dt>\n",
       "\t\t<dd>'character'</dd>\n",
       "\t<dt>INDUSTRY</dt>\n",
       "\t\t<dd>'character'</dd>\n",
       "\t<dt>GPT_Scope</dt>\n",
       "\t\t<dd>'character'</dd>\n",
       "\t<dt>Year</dt>\n",
       "\t\t<dd>'integer'</dd>\n",
       "\t<dt>Applicant_Age</dt>\n",
       "\t\t<dd>'integer'</dd>\n",
       "\t<dt>Agriculture</dt>\n",
       "\t\t<dd>'integer'</dd>\n",
       "\t<dt>Arts and Humanities</dt>\n",
       "\t\t<dd>'integer'</dd>\n",
       "\t<dt>Banking and Finance</dt>\n",
       "\t\t<dd>'integer'</dd>\n",
       "\t<dt>Business</dt>\n",
       "\t\t<dd>'integer'</dd>\n",
       "\t<dt>Cartography</dt>\n",
       "\t\t<dd>'integer'</dd>\n",
       "\t<dt>Computer Vision</dt>\n",
       "\t\t<dd>'integer'</dd>\n",
       "\t<dt>Computing in Government</dt>\n",
       "\t\t<dd>'integer'</dd>\n",
       "\t<dt>Control Methods</dt>\n",
       "\t\t<dd>'integer'</dd>\n",
       "\t<dt>Distributed Artificial Intelligence</dt>\n",
       "\t\t<dd>'integer'</dd>\n",
       "\t<dt>Document Management and Text Processing</dt>\n",
       "\t\t<dd>'integer'</dd>\n",
       "\t<dt>Education</dt>\n",
       "\t\t<dd>'integer'</dd>\n",
       "\t<dt>Energy Management</dt>\n",
       "\t\t<dd>'integer'</dd>\n",
       "\t<dt>Entertainment</dt>\n",
       "\t\t<dd>'integer'</dd>\n",
       "\t<dt>Fuzzy Logic</dt>\n",
       "\t\t<dd>'integer'</dd>\n",
       "\t<dt>Knowledge Representation And Reasoning</dt>\n",
       "\t\t<dd>'integer'</dd>\n",
       "\t<dt>Law Social and Behavioral Sciences</dt>\n",
       "\t\t<dd>'integer'</dd>\n",
       "\t<dt>Life and Medical Sciences</dt>\n",
       "\t\t<dd>'integer'</dd>\n",
       "\t<dt>Logic Programming</dt>\n",
       "\t\t<dd>'integer'</dd>\n",
       "\t<dt>Machine Learning</dt>\n",
       "\t\t<dd>'integer'</dd>\n",
       "\t<dt>Military</dt>\n",
       "\t\t<dd>'integer'</dd>\n",
       "\t<dt>Natural Language Processing</dt>\n",
       "\t\t<dd>'integer'</dd>\n",
       "\t<dt>Networks</dt>\n",
       "\t\t<dd>'integer'</dd>\n",
       "\t<dt>Ontology Engineering</dt>\n",
       "\t\t<dd>'integer'</dd>\n",
       "\t<dt>Personal Devices Computing and Hc</dt>\n",
       "\t\t<dd>'integer'</dd>\n",
       "\t<dt>Physical Sciences and Engineering</dt>\n",
       "\t\t<dd>'integer'</dd>\n",
       "\t<dt>Planning and Scheduling</dt>\n",
       "\t\t<dd>'integer'</dd>\n",
       "\t<dt>Predictive Analytics</dt>\n",
       "\t\t<dd>'integer'</dd>\n",
       "\t<dt>Probabilistic Reasoning</dt>\n",
       "\t\t<dd>'integer'</dd>\n",
       "\t<dt>Publishing</dt>\n",
       "\t\t<dd>'integer'</dd>\n",
       "\t<dt>Robotics</dt>\n",
       "\t\t<dd>'integer'</dd>\n",
       "\t<dt>Search Methods</dt>\n",
       "\t\t<dd>'integer'</dd>\n",
       "\t<dt>Security</dt>\n",
       "\t\t<dd>'integer'</dd>\n",
       "\t<dt>Speech Processing</dt>\n",
       "\t\t<dd>'integer'</dd>\n",
       "\t<dt>Telecommunications</dt>\n",
       "\t\t<dd>'integer'</dd>\n",
       "\t<dt>Transportation</dt>\n",
       "\t\t<dd>'integer'</dd>\n",
       "\t<dt>Field_Applications</dt>\n",
       "\t\t<dd>'integer'</dd>\n",
       "\t<dt>Functional_Applications</dt>\n",
       "\t\t<dd>'integer'</dd>\n",
       "\t<dt>Techniques</dt>\n",
       "\t\t<dd>'integer'</dd>\n",
       "</dl>\n"
      ],
      "text/latex": [
       "\\begin{description*}\n",
       "\\item[Patent\\textbackslash{}\\_number] 'character'\n",
       "\\item[Application\\textbackslash{}\\_Date] 'character'\n",
       "\\item[Clean\\textbackslash{}\\_name] 'character'\n",
       "\\item[APPLICANT\\textbackslash{}\\_MATCH\\textbackslash{}\\_NAME] 'character'\n",
       "\\item[PDL\\textbackslash{}\\_ORIGINAL\\textbackslash{}\\_NAME] 'character'\n",
       "\\item[PDL\\textbackslash{}\\_MATCH\\textbackslash{}\\_NAME] 'character'\n",
       "\\item[METHOD] 'character'\n",
       "\\item[Person\\textbackslash{}\\_ctry\\textbackslash{}\\_code] 'character'\n",
       "\\item[COUNTRY] 'character'\n",
       "\\item[Applicant\\textbackslash{}\\_Type] 'character'\n",
       "\\item[YEAR\\textbackslash{}\\_FOUNDED] 'integer'\n",
       "\\item[SIZE\\textbackslash{}\\_RANGE] 'character'\n",
       "\\item[INDUSTRY] 'character'\n",
       "\\item[GPT\\textbackslash{}\\_Scope] 'character'\n",
       "\\item[Year] 'integer'\n",
       "\\item[Applicant\\textbackslash{}\\_Age] 'integer'\n",
       "\\item[Agriculture] 'integer'\n",
       "\\item[Arts and Humanities] 'integer'\n",
       "\\item[Banking and Finance] 'integer'\n",
       "\\item[Business] 'integer'\n",
       "\\item[Cartography] 'integer'\n",
       "\\item[Computer Vision] 'integer'\n",
       "\\item[Computing in Government] 'integer'\n",
       "\\item[Control Methods] 'integer'\n",
       "\\item[Distributed Artificial Intelligence] 'integer'\n",
       "\\item[Document Management and Text Processing] 'integer'\n",
       "\\item[Education] 'integer'\n",
       "\\item[Energy Management] 'integer'\n",
       "\\item[Entertainment] 'integer'\n",
       "\\item[Fuzzy Logic] 'integer'\n",
       "\\item[Knowledge Representation And Reasoning] 'integer'\n",
       "\\item[Law Social and Behavioral Sciences] 'integer'\n",
       "\\item[Life and Medical Sciences] 'integer'\n",
       "\\item[Logic Programming] 'integer'\n",
       "\\item[Machine Learning] 'integer'\n",
       "\\item[Military] 'integer'\n",
       "\\item[Natural Language Processing] 'integer'\n",
       "\\item[Networks] 'integer'\n",
       "\\item[Ontology Engineering] 'integer'\n",
       "\\item[Personal Devices Computing and Hc] 'integer'\n",
       "\\item[Physical Sciences and Engineering] 'integer'\n",
       "\\item[Planning and Scheduling] 'integer'\n",
       "\\item[Predictive Analytics] 'integer'\n",
       "\\item[Probabilistic Reasoning] 'integer'\n",
       "\\item[Publishing] 'integer'\n",
       "\\item[Robotics] 'integer'\n",
       "\\item[Search Methods] 'integer'\n",
       "\\item[Security] 'integer'\n",
       "\\item[Speech Processing] 'integer'\n",
       "\\item[Telecommunications] 'integer'\n",
       "\\item[Transportation] 'integer'\n",
       "\\item[Field\\textbackslash{}\\_Applications] 'integer'\n",
       "\\item[Functional\\textbackslash{}\\_Applications] 'integer'\n",
       "\\item[Techniques] 'integer'\n",
       "\\end{description*}\n"
      ],
      "text/markdown": [
       "Patent_number\n",
       ":   'character'Application_Date\n",
       ":   'character'Clean_name\n",
       ":   'character'APPLICANT_MATCH_NAME\n",
       ":   'character'PDL_ORIGINAL_NAME\n",
       ":   'character'PDL_MATCH_NAME\n",
       ":   'character'METHOD\n",
       ":   'character'Person_ctry_code\n",
       ":   'character'COUNTRY\n",
       ":   'character'Applicant_Type\n",
       ":   'character'YEAR_FOUNDED\n",
       ":   'integer'SIZE_RANGE\n",
       ":   'character'INDUSTRY\n",
       ":   'character'GPT_Scope\n",
       ":   'character'Year\n",
       ":   'integer'Applicant_Age\n",
       ":   'integer'Agriculture\n",
       ":   'integer'Arts and Humanities\n",
       ":   'integer'Banking and Finance\n",
       ":   'integer'Business\n",
       ":   'integer'Cartography\n",
       ":   'integer'Computer Vision\n",
       ":   'integer'Computing in Government\n",
       ":   'integer'Control Methods\n",
       ":   'integer'Distributed Artificial Intelligence\n",
       ":   'integer'Document Management and Text Processing\n",
       ":   'integer'Education\n",
       ":   'integer'Energy Management\n",
       ":   'integer'Entertainment\n",
       ":   'integer'Fuzzy Logic\n",
       ":   'integer'Knowledge Representation And Reasoning\n",
       ":   'integer'Law Social and Behavioral Sciences\n",
       ":   'integer'Life and Medical Sciences\n",
       ":   'integer'Logic Programming\n",
       ":   'integer'Machine Learning\n",
       ":   'integer'Military\n",
       ":   'integer'Natural Language Processing\n",
       ":   'integer'Networks\n",
       ":   'integer'Ontology Engineering\n",
       ":   'integer'Personal Devices Computing and Hc\n",
       ":   'integer'Physical Sciences and Engineering\n",
       ":   'integer'Planning and Scheduling\n",
       ":   'integer'Predictive Analytics\n",
       ":   'integer'Probabilistic Reasoning\n",
       ":   'integer'Publishing\n",
       ":   'integer'Robotics\n",
       ":   'integer'Search Methods\n",
       ":   'integer'Security\n",
       ":   'integer'Speech Processing\n",
       ":   'integer'Telecommunications\n",
       ":   'integer'Transportation\n",
       ":   'integer'Field_Applications\n",
       ":   'integer'Functional_Applications\n",
       ":   'integer'Techniques\n",
       ":   'integer'\n",
       "\n"
      ],
      "text/plain": [
       "                          Patent_number                        Application_Date \n",
       "                            \"character\"                             \"character\" \n",
       "                             Clean_name                    APPLICANT_MATCH_NAME \n",
       "                            \"character\"                             \"character\" \n",
       "                      PDL_ORIGINAL_NAME                          PDL_MATCH_NAME \n",
       "                            \"character\"                             \"character\" \n",
       "                                 METHOD                        Person_ctry_code \n",
       "                            \"character\"                             \"character\" \n",
       "                                COUNTRY                          Applicant_Type \n",
       "                            \"character\"                             \"character\" \n",
       "                           YEAR_FOUNDED                              SIZE_RANGE \n",
       "                              \"integer\"                             \"character\" \n",
       "                               INDUSTRY                               GPT_Scope \n",
       "                            \"character\"                             \"character\" \n",
       "                                   Year                           Applicant_Age \n",
       "                              \"integer\"                               \"integer\" \n",
       "                            Agriculture                     Arts and Humanities \n",
       "                              \"integer\"                               \"integer\" \n",
       "                    Banking and Finance                                Business \n",
       "                              \"integer\"                               \"integer\" \n",
       "                            Cartography                         Computer Vision \n",
       "                              \"integer\"                               \"integer\" \n",
       "                Computing in Government                         Control Methods \n",
       "                              \"integer\"                               \"integer\" \n",
       "    Distributed Artificial Intelligence Document Management and Text Processing \n",
       "                              \"integer\"                               \"integer\" \n",
       "                              Education                       Energy Management \n",
       "                              \"integer\"                               \"integer\" \n",
       "                          Entertainment                             Fuzzy Logic \n",
       "                              \"integer\"                               \"integer\" \n",
       " Knowledge Representation And Reasoning      Law Social and Behavioral Sciences \n",
       "                              \"integer\"                               \"integer\" \n",
       "              Life and Medical Sciences                       Logic Programming \n",
       "                              \"integer\"                               \"integer\" \n",
       "                       Machine Learning                                Military \n",
       "                              \"integer\"                               \"integer\" \n",
       "            Natural Language Processing                                Networks \n",
       "                              \"integer\"                               \"integer\" \n",
       "                   Ontology Engineering       Personal Devices Computing and Hc \n",
       "                              \"integer\"                               \"integer\" \n",
       "      Physical Sciences and Engineering                 Planning and Scheduling \n",
       "                              \"integer\"                               \"integer\" \n",
       "                   Predictive Analytics                 Probabilistic Reasoning \n",
       "                              \"integer\"                               \"integer\" \n",
       "                             Publishing                                Robotics \n",
       "                              \"integer\"                               \"integer\" \n",
       "                         Search Methods                                Security \n",
       "                              \"integer\"                               \"integer\" \n",
       "                      Speech Processing                      Telecommunications \n",
       "                              \"integer\"                               \"integer\" \n",
       "                         Transportation                      Field_Applications \n",
       "                              \"integer\"                               \"integer\" \n",
       "                Functional_Applications                              Techniques \n",
       "                              \"integer\"                               \"integer\" "
      ]
     },
     "metadata": {},
     "output_type": "display_data"
    }
   ],
   "source": [
    "Industrial_Patent_Dataset <- fread(\"Industrial_Patent_Dataset.csv\", stringsAsFactors = FALSE, na.strings=\"\")\n",
    "dim(Industrial_Patent_Dataset)\n",
    "sapply(Industrial_Patent_Dataset,class)"
   ]
  },
  {
   "cell_type": "markdown",
   "metadata": {},
   "source": [
    "Join features into groups"
   ]
  },
  {
   "cell_type": "code",
   "execution_count": 5,
   "metadata": {},
   "outputs": [
    {
     "data": {
      "text/html": [
       "<ol class=list-inline>\n",
       "\t<li>'Patent_number'</li>\n",
       "\t<li>'Application_Date'</li>\n",
       "\t<li>'Clean_name'</li>\n",
       "\t<li>'APPLICANT_MATCH_NAME'</li>\n",
       "\t<li>'PDL_ORIGINAL_NAME'</li>\n",
       "\t<li>'PDL_MATCH_NAME'</li>\n",
       "\t<li>'METHOD'</li>\n",
       "\t<li>'Person_ctry_code'</li>\n",
       "\t<li>'COUNTRY'</li>\n",
       "\t<li>'Applicant_Type'</li>\n",
       "\t<li>'YEAR_FOUNDED'</li>\n",
       "\t<li>'SIZE_RANGE'</li>\n",
       "\t<li>'INDUSTRY'</li>\n",
       "\t<li>'GPT_Scope'</li>\n",
       "\t<li>'Year'</li>\n",
       "\t<li>'Applicant_Age'</li>\n",
       "</ol>\n"
      ],
      "text/latex": [
       "\\begin{enumerate*}\n",
       "\\item 'Patent\\_number'\n",
       "\\item 'Application\\_Date'\n",
       "\\item 'Clean\\_name'\n",
       "\\item 'APPLICANT\\_MATCH\\_NAME'\n",
       "\\item 'PDL\\_ORIGINAL\\_NAME'\n",
       "\\item 'PDL\\_MATCH\\_NAME'\n",
       "\\item 'METHOD'\n",
       "\\item 'Person\\_ctry\\_code'\n",
       "\\item 'COUNTRY'\n",
       "\\item 'Applicant\\_Type'\n",
       "\\item 'YEAR\\_FOUNDED'\n",
       "\\item 'SIZE\\_RANGE'\n",
       "\\item 'INDUSTRY'\n",
       "\\item 'GPT\\_Scope'\n",
       "\\item 'Year'\n",
       "\\item 'Applicant\\_Age'\n",
       "\\end{enumerate*}\n"
      ],
      "text/markdown": [
       "1. 'Patent_number'\n",
       "2. 'Application_Date'\n",
       "3. 'Clean_name'\n",
       "4. 'APPLICANT_MATCH_NAME'\n",
       "5. 'PDL_ORIGINAL_NAME'\n",
       "6. 'PDL_MATCH_NAME'\n",
       "7. 'METHOD'\n",
       "8. 'Person_ctry_code'\n",
       "9. 'COUNTRY'\n",
       "10. 'Applicant_Type'\n",
       "11. 'YEAR_FOUNDED'\n",
       "12. 'SIZE_RANGE'\n",
       "13. 'INDUSTRY'\n",
       "14. 'GPT_Scope'\n",
       "15. 'Year'\n",
       "16. 'Applicant_Age'\n",
       "\n",
       "\n"
      ],
      "text/plain": [
       " [1] \"Patent_number\"        \"Application_Date\"     \"Clean_name\"          \n",
       " [4] \"APPLICANT_MATCH_NAME\" \"PDL_ORIGINAL_NAME\"    \"PDL_MATCH_NAME\"      \n",
       " [7] \"METHOD\"               \"Person_ctry_code\"     \"COUNTRY\"             \n",
       "[10] \"Applicant_Type\"       \"YEAR_FOUNDED\"         \"SIZE_RANGE\"          \n",
       "[13] \"INDUSTRY\"             \"GPT_Scope\"            \"Year\"                \n",
       "[16] \"Applicant_Age\"       "
      ]
     },
     "metadata": {},
     "output_type": "display_data"
    },
    {
     "data": {
      "text/html": [
       "<ol class=list-inline>\n",
       "\t<li>'Field_Applications'</li>\n",
       "\t<li>'Functional_Applications'</li>\n",
       "\t<li>'Techniques'</li>\n",
       "</ol>\n"
      ],
      "text/latex": [
       "\\begin{enumerate*}\n",
       "\\item 'Field\\_Applications'\n",
       "\\item 'Functional\\_Applications'\n",
       "\\item 'Techniques'\n",
       "\\end{enumerate*}\n"
      ],
      "text/markdown": [
       "1. 'Field_Applications'\n",
       "2. 'Functional_Applications'\n",
       "3. 'Techniques'\n",
       "\n",
       "\n"
      ],
      "text/plain": [
       "[1] \"Field_Applications\"      \"Functional_Applications\"\n",
       "[3] \"Techniques\"             "
      ]
     },
     "metadata": {},
     "output_type": "display_data"
    },
    {
     "data": {
      "text/html": [
       "<ol class=list-inline>\n",
       "\t<li>'Agriculture'</li>\n",
       "\t<li>'Arts and Humanities'</li>\n",
       "\t<li>'Banking and Finance'</li>\n",
       "\t<li>'Business'</li>\n",
       "\t<li>'Cartography'</li>\n",
       "\t<li>'Computer Vision'</li>\n",
       "\t<li>'Computing in Government'</li>\n",
       "\t<li>'Control Methods'</li>\n",
       "\t<li>'Distributed Artificial Intelligence'</li>\n",
       "\t<li>'Document Management and Text Processing'</li>\n",
       "\t<li>'Education'</li>\n",
       "\t<li>'Energy Management'</li>\n",
       "\t<li>'Entertainment'</li>\n",
       "\t<li>'Fuzzy Logic'</li>\n",
       "\t<li>'Knowledge Representation And Reasoning'</li>\n",
       "\t<li>'Law Social and Behavioral Sciences'</li>\n",
       "\t<li>'Life and Medical Sciences'</li>\n",
       "\t<li>'Logic Programming'</li>\n",
       "\t<li>'Machine Learning'</li>\n",
       "\t<li>'Military'</li>\n",
       "\t<li>'Natural Language Processing'</li>\n",
       "\t<li>'Networks'</li>\n",
       "\t<li>'Ontology Engineering'</li>\n",
       "\t<li>'Personal Devices Computing and Hc'</li>\n",
       "\t<li>'Physical Sciences and Engineering'</li>\n",
       "\t<li>'Planning and Scheduling'</li>\n",
       "\t<li>'Predictive Analytics'</li>\n",
       "\t<li>'Probabilistic Reasoning'</li>\n",
       "\t<li>'Publishing'</li>\n",
       "\t<li>'Robotics'</li>\n",
       "\t<li>'Search Methods'</li>\n",
       "\t<li>'Security'</li>\n",
       "\t<li>'Speech Processing'</li>\n",
       "\t<li>'Telecommunications'</li>\n",
       "\t<li>'Transportation'</li>\n",
       "</ol>\n"
      ],
      "text/latex": [
       "\\begin{enumerate*}\n",
       "\\item 'Agriculture'\n",
       "\\item 'Arts and Humanities'\n",
       "\\item 'Banking and Finance'\n",
       "\\item 'Business'\n",
       "\\item 'Cartography'\n",
       "\\item 'Computer Vision'\n",
       "\\item 'Computing in Government'\n",
       "\\item 'Control Methods'\n",
       "\\item 'Distributed Artificial Intelligence'\n",
       "\\item 'Document Management and Text Processing'\n",
       "\\item 'Education'\n",
       "\\item 'Energy Management'\n",
       "\\item 'Entertainment'\n",
       "\\item 'Fuzzy Logic'\n",
       "\\item 'Knowledge Representation And Reasoning'\n",
       "\\item 'Law Social and Behavioral Sciences'\n",
       "\\item 'Life and Medical Sciences'\n",
       "\\item 'Logic Programming'\n",
       "\\item 'Machine Learning'\n",
       "\\item 'Military'\n",
       "\\item 'Natural Language Processing'\n",
       "\\item 'Networks'\n",
       "\\item 'Ontology Engineering'\n",
       "\\item 'Personal Devices Computing and Hc'\n",
       "\\item 'Physical Sciences and Engineering'\n",
       "\\item 'Planning and Scheduling'\n",
       "\\item 'Predictive Analytics'\n",
       "\\item 'Probabilistic Reasoning'\n",
       "\\item 'Publishing'\n",
       "\\item 'Robotics'\n",
       "\\item 'Search Methods'\n",
       "\\item 'Security'\n",
       "\\item 'Speech Processing'\n",
       "\\item 'Telecommunications'\n",
       "\\item 'Transportation'\n",
       "\\end{enumerate*}\n"
      ],
      "text/markdown": [
       "1. 'Agriculture'\n",
       "2. 'Arts and Humanities'\n",
       "3. 'Banking and Finance'\n",
       "4. 'Business'\n",
       "5. 'Cartography'\n",
       "6. 'Computer Vision'\n",
       "7. 'Computing in Government'\n",
       "8. 'Control Methods'\n",
       "9. 'Distributed Artificial Intelligence'\n",
       "10. 'Document Management and Text Processing'\n",
       "11. 'Education'\n",
       "12. 'Energy Management'\n",
       "13. 'Entertainment'\n",
       "14. 'Fuzzy Logic'\n",
       "15. 'Knowledge Representation And Reasoning'\n",
       "16. 'Law Social and Behavioral Sciences'\n",
       "17. 'Life and Medical Sciences'\n",
       "18. 'Logic Programming'\n",
       "19. 'Machine Learning'\n",
       "20. 'Military'\n",
       "21. 'Natural Language Processing'\n",
       "22. 'Networks'\n",
       "23. 'Ontology Engineering'\n",
       "24. 'Personal Devices Computing and Hc'\n",
       "25. 'Physical Sciences and Engineering'\n",
       "26. 'Planning and Scheduling'\n",
       "27. 'Predictive Analytics'\n",
       "28. 'Probabilistic Reasoning'\n",
       "29. 'Publishing'\n",
       "30. 'Robotics'\n",
       "31. 'Search Methods'\n",
       "32. 'Security'\n",
       "33. 'Speech Processing'\n",
       "34. 'Telecommunications'\n",
       "35. 'Transportation'\n",
       "\n",
       "\n"
      ],
      "text/plain": [
       " [1] \"Agriculture\"                            \n",
       " [2] \"Arts and Humanities\"                    \n",
       " [3] \"Banking and Finance\"                    \n",
       " [4] \"Business\"                               \n",
       " [5] \"Cartography\"                            \n",
       " [6] \"Computer Vision\"                        \n",
       " [7] \"Computing in Government\"                \n",
       " [8] \"Control Methods\"                        \n",
       " [9] \"Distributed Artificial Intelligence\"    \n",
       "[10] \"Document Management and Text Processing\"\n",
       "[11] \"Education\"                              \n",
       "[12] \"Energy Management\"                      \n",
       "[13] \"Entertainment\"                          \n",
       "[14] \"Fuzzy Logic\"                            \n",
       "[15] \"Knowledge Representation And Reasoning\" \n",
       "[16] \"Law Social and Behavioral Sciences\"     \n",
       "[17] \"Life and Medical Sciences\"              \n",
       "[18] \"Logic Programming\"                      \n",
       "[19] \"Machine Learning\"                       \n",
       "[20] \"Military\"                               \n",
       "[21] \"Natural Language Processing\"            \n",
       "[22] \"Networks\"                               \n",
       "[23] \"Ontology Engineering\"                   \n",
       "[24] \"Personal Devices Computing and Hc\"      \n",
       "[25] \"Physical Sciences and Engineering\"      \n",
       "[26] \"Planning and Scheduling\"                \n",
       "[27] \"Predictive Analytics\"                   \n",
       "[28] \"Probabilistic Reasoning\"                \n",
       "[29] \"Publishing\"                             \n",
       "[30] \"Robotics\"                               \n",
       "[31] \"Search Methods\"                         \n",
       "[32] \"Security\"                               \n",
       "[33] \"Speech Processing\"                      \n",
       "[34] \"Telecommunications\"                     \n",
       "[35] \"Transportation\"                         "
      ]
     },
     "metadata": {},
     "output_type": "display_data"
    }
   ],
   "source": [
    "Features <- colnames(Industrial_Patent_Dataset)\n",
    "General_Features <- Features[1:16]\n",
    "Category_Features <- Features[(length(Features)-2):(length(Features))]\n",
    "Field_Features <- Features[17:(length(Features)-3)]\n",
    "\n",
    "General_Features\n",
    "Category_Features\n",
    "Field_Features"
   ]
  },
  {
   "cell_type": "markdown",
   "metadata": {},
   "source": [
    "# 1) Development and Diffusion Path and Knowledge Concentration"
   ]
  },
  {
   "cell_type": "markdown",
   "metadata": {},
   "source": [
    "## 1.1) GPT Market Cluster Evolution Over Time"
   ]
  },
  {
   "cell_type": "markdown",
   "metadata": {},
   "source": [
    "Evolution over time of Applied AI and Core AI patent applications"
   ]
  },
  {
   "cell_type": "code",
   "execution_count": 6,
   "metadata": {},
   "outputs": [
    {
     "data": {
      "text/html": [
       "<table>\n",
       "<thead><tr><th scope=col>Year</th><th scope=col>GPT_Scope</th><th scope=col>Number_Patents</th></tr></thead>\n",
       "<tbody>\n",
       "\t<tr><td>1978      </td><td>Applied_AI</td><td> 1        </td></tr>\n",
       "\t<tr><td>1981      </td><td>Applied_AI</td><td> 1        </td></tr>\n",
       "\t<tr><td>1982      </td><td>Applied_AI</td><td> 6        </td></tr>\n",
       "\t<tr><td>1983      </td><td>Applied_AI</td><td> 3        </td></tr>\n",
       "\t<tr><td>1984      </td><td>Applied_AI</td><td>10        </td></tr>\n",
       "\t<tr><td>1985      </td><td>Applied_AI</td><td>10        </td></tr>\n",
       "\t<tr><td>1985      </td><td>Core_AI   </td><td> 1        </td></tr>\n",
       "\t<tr><td>1986      </td><td>Applied_AI</td><td>12        </td></tr>\n",
       "\t<tr><td>1987      </td><td>Applied_AI</td><td>13        </td></tr>\n",
       "\t<tr><td>1988      </td><td>Applied_AI</td><td>34        </td></tr>\n",
       "</tbody>\n",
       "</table>\n"
      ],
      "text/latex": [
       "\\begin{tabular}{r|lll}\n",
       " Year & GPT\\_Scope & Number\\_Patents\\\\\n",
       "\\hline\n",
       "\t 1978         & Applied\\_AI &  1          \\\\\n",
       "\t 1981         & Applied\\_AI &  1          \\\\\n",
       "\t 1982         & Applied\\_AI &  6          \\\\\n",
       "\t 1983         & Applied\\_AI &  3          \\\\\n",
       "\t 1984         & Applied\\_AI & 10          \\\\\n",
       "\t 1985         & Applied\\_AI & 10          \\\\\n",
       "\t 1985         & Core\\_AI    &  1          \\\\\n",
       "\t 1986         & Applied\\_AI & 12          \\\\\n",
       "\t 1987         & Applied\\_AI & 13          \\\\\n",
       "\t 1988         & Applied\\_AI & 34          \\\\\n",
       "\\end{tabular}\n"
      ],
      "text/markdown": [
       "\n",
       "| Year | GPT_Scope | Number_Patents |\n",
       "|---|---|---|\n",
       "| 1978       | Applied_AI |  1         |\n",
       "| 1981       | Applied_AI |  1         |\n",
       "| 1982       | Applied_AI |  6         |\n",
       "| 1983       | Applied_AI |  3         |\n",
       "| 1984       | Applied_AI | 10         |\n",
       "| 1985       | Applied_AI | 10         |\n",
       "| 1985       | Core_AI    |  1         |\n",
       "| 1986       | Applied_AI | 12         |\n",
       "| 1987       | Applied_AI | 13         |\n",
       "| 1988       | Applied_AI | 34         |\n",
       "\n"
      ],
      "text/plain": [
       "   Year GPT_Scope  Number_Patents\n",
       "1  1978 Applied_AI  1            \n",
       "2  1981 Applied_AI  1            \n",
       "3  1982 Applied_AI  6            \n",
       "4  1983 Applied_AI  3            \n",
       "5  1984 Applied_AI 10            \n",
       "6  1985 Applied_AI 10            \n",
       "7  1985 Core_AI     1            \n",
       "8  1986 Applied_AI 12            \n",
       "9  1987 Applied_AI 13            \n",
       "10 1988 Applied_AI 34            "
      ]
     },
     "metadata": {},
     "output_type": "display_data"
    }
   ],
   "source": [
    "GPT_ByYear <- unique(Industrial_Patent_Dataset, by=c(\"Patent_number\"))\n",
    "GPT_ByYear <- GPT_ByYear[, .N, by = c(\"Year\", \"GPT_Scope\")]\n",
    "colnames(GPT_ByYear)[3] <- \"Number_Patents\"\n",
    "GPT_ByYear <- GPT_ByYear[order(GPT_ByYear[,Year])]\n",
    "head(GPT_ByYear,10)"
   ]
  },
  {
   "cell_type": "code",
   "execution_count": 7,
   "metadata": {},
   "outputs": [
    {
     "data": {
      "text/html": [
       "16184"
      ],
      "text/latex": [
       "16184"
      ],
      "text/markdown": [
       "16184"
      ],
      "text/plain": [
       "[1] 16184"
      ]
     },
     "metadata": {},
     "output_type": "display_data"
    },
    {
     "data": {
      "text/html": [
       "787"
      ],
      "text/latex": [
       "787"
      ],
      "text/markdown": [
       "787"
      ],
      "text/plain": [
       "[1] 787"
      ]
     },
     "metadata": {},
     "output_type": "display_data"
    },
    {
     "data": {
      "text/html": [
       "16971"
      ],
      "text/latex": [
       "16971"
      ],
      "text/markdown": [
       "16971"
      ],
      "text/plain": [
       "[1] 16971"
      ]
     },
     "metadata": {},
     "output_type": "display_data"
    }
   ],
   "source": [
    "#Consistency Check\n",
    "sum(GPT_ByYear[GPT_Scope==\"Applied_AI\",Number_Patents])\n",
    "sum(GPT_ByYear[GPT_Scope==\"Core_AI\",Number_Patents])\n",
    "sum(GPT_ByYear[,Number_Patents])"
   ]
  },
  {
   "cell_type": "markdown",
   "metadata": {},
   "source": [
    "Distribution Statistics"
   ]
  },
  {
   "cell_type": "code",
   "execution_count": 8,
   "metadata": {},
   "outputs": [
    {
     "data": {
      "text/plain": [
       "   Min. 1st Qu.  Median    Mean 3rd Qu.    Max. \n",
       "   1985    1996    2003    2003    2010    2018 "
      ]
     },
     "metadata": {},
     "output_type": "display_data"
    },
    {
     "data": {
      "text/plain": [
       "   Min. 1st Qu.  Median    Mean 3rd Qu.    Max. \n",
       "   1978    1990    1999    1999    2008    2018 "
      ]
     },
     "metadata": {},
     "output_type": "display_data"
    }
   ],
   "source": [
    "summary(GPT_ByYear[GPT_Scope==\"Core_AI\",Year])\n",
    "summary(GPT_ByYear[GPT_Scope==\"Applied_AI\",Year])"
   ]
  },
  {
   "cell_type": "code",
   "execution_count": 28,
   "metadata": {
    "scrolled": false
   },
   "outputs": [
    {
     "data": {
      "image/png": "[encoded data removed]",
      "text/plain": [
       "plot without title"
      ]
     },
     "metadata": {},
     "output_type": "display_data"
    }
   ],
   "source": [
    "GPT_Scope_Trend <- ggplot(GPT_ByYear, aes(x = Year, y = Number_Patents,fill=GPT_Scope)) + \n",
    "      labs(caption=\"Number of patents:16,971\") +\n",
    "      geom_bar(stat=\"identity\") +    \n",
    "      scale_fill_manual(values=c(\"deepskyblue4\", \"darkgrey\"), name = \"GPT Scope\", labels = c(\"Applied AI\", \"Core AI\")) +\n",
    "      geom_segment(aes(x = 1978, y = 0, xend = 1978, yend = 1000), color = \"black\", size=0.25) + \n",
    "      geom_segment(aes(x = 1985, y = 0, xend = 1985, yend = 1500), color = \"black\", size=0.25) + \n",
    "      geom_segment(aes(x = 1988, y = 0, xend = 1988, yend = 1000), color = \"black\", size=0.5, linetype=\"dashed\") +\n",
    "      geom_segment(aes(x = 1998, y = 0, xend = 1998, yend = 1000), color = \"black\", size=0.5, linetype=\"dashed\") +\n",
    "      geom_segment(aes(x = 2012, y = 0, xend = 2012, yend = 1000), color = \"black\", size=0.5, linetype=\"dashed\") +\n",
    "      geom_segment(aes(x = 2016, y = 0, xend = 2016, yend = 500), color = \"black\", size=0.5, linetype=\"dashed\") +\n",
    "      scale_x_continuous(name=NULL, limits = c(1977,2019), breaks=seq(1978,2019,10)) + \n",
    "      scale_y_continuous(name=\"Patent Applications per Year\", breaks = seq(0,3000,500),\n",
    "                         labels=function(x) format(x, big.mark = \",\", decimal.mark = \".\", scientific = FALSE)) +\n",
    "      theme_bw() +\n",
    "      theme(plot.caption=element_text(family=\"sans\",size=8)) + \n",
    "      theme(axis.text.x = element_text(family=\"sans\",size=10, color=\"black\")) + \n",
    "      theme(axis.text.y = element_text(family=\"sans\",size=10, color=\"black\")) +\n",
    "      theme(axis.title.y=element_text(size=8)) +\n",
    "      theme(legend.position = \"top\",legend.title=element_blank(),legend.margin=margin(0,0,0,0),\n",
    "            legend.box.margin=margin(-5,-5,-5,-5),legend.key.size=unit(\"0.25\",\"cm\")) +\n",
    "      annotate(geom=\"text\", x=1978, y=1100, label=\"1st Applied AI Patent\",\n",
    "               color=\"black\", size=2.5,family=\"sans\", hjust=\"left\") +\n",
    "      annotate(geom=\"text\", x=1985, y=1500, label=\"1st Core AI Patent\",\n",
    "               color=\"black\", size=2.5, family=\"sans\", hjust=\"left\")\n",
    "GPT_Scope_Trend"
   ]
  },
  {
   "cell_type": "markdown",
   "metadata": {},
   "source": [
    "Export graph for Word Document"
   ]
  },
  {
   "cell_type": "code",
   "execution_count": null,
   "metadata": {},
   "outputs": [],
   "source": [
    "#In Jupyter Notebook code gives error but in RSutdio it works fine.\n",
    "ggsave(plot=GPT_Scope_Trend,\n",
    "       filename=\"GPT_Scope_Trend.png\",\n",
    "       type = \"cairo-png\",\n",
    "       path=\"F:/Thesis/Charts/Final/Research_Question_I\",\n",
    "       scale=1,\n",
    "       width=3.54,\n",
    "       height=(3.54*0.75),\n",
    "       units=c(\"in\"),\n",
    "       dpi=300)"
   ]
  },
  {
   "cell_type": "markdown",
   "metadata": {},
   "source": [
    "## 1.2) Application Sector Distribution Overtime"
   ]
  },
  {
   "cell_type": "code",
   "execution_count": 12,
   "metadata": {},
   "outputs": [
    {
     "data": {
      "text/html": [
       "16184"
      ],
      "text/latex": [
       "16184"
      ],
      "text/markdown": [
       "16184"
      ],
      "text/plain": [
       "[1] 16184"
      ]
     },
     "metadata": {},
     "output_type": "display_data"
    }
   ],
   "source": [
    "GPT_ByYear_AS <- Industrial_Patent_Dataset[GPT_Scope==\"Applied_AI\"]\n",
    "GPT_ByYear_AS <- unique(GPT_ByYear_AS, by=c(\"Patent_number\"))\n",
    "\n",
    "#Consistency Check\n",
    "nrow(GPT_ByYear_AS)"
   ]
  },
  {
   "cell_type": "markdown",
   "metadata": {},
   "source": [
    "Count the number of patent applications per Field Application per Year"
   ]
  },
  {
   "cell_type": "code",
   "execution_count": 13,
   "metadata": {},
   "outputs": [],
   "source": [
    "Field_Applications <- c(\"Agriculture\",\"Arts and Humanities\",\"Banking and Finance\",\"Business\",\"Cartography\",\n",
    "                        \"Computing in Government\",\"Document Management and Text Processing\",\"Education\",\n",
    "                        \"Energy Management\",\"Entertainment\",\"Law Social and Behavioral Sciences\",\n",
    "                        \"Life and Medical Sciences\", \"Military\",\"Networks\",\"Personal Devices Computing and Hc\",\n",
    "                        \"Physical Sciences and Engineering\",\"Publishing\",\"Security\",\"Telecommunications\",\n",
    "                        \"Transportation\")"
   ]
  },
  {
   "cell_type": "code",
   "execution_count": 14,
   "metadata": {},
   "outputs": [
    {
     "data": {
      "text/html": [
       "<table>\n",
       "<thead><tr><th scope=col>Year</th><th scope=col>Agriculture</th><th scope=col>Arts and Humanities</th><th scope=col>Banking and Finance</th><th scope=col>Business</th><th scope=col>Cartography</th><th scope=col>Computing in Government</th><th scope=col>Document Management and Text Processing</th><th scope=col>Education</th><th scope=col>Energy Management</th><th scope=col>...</th><th scope=col>Law Social and Behavioral Sciences</th><th scope=col>Life and Medical Sciences</th><th scope=col>Military</th><th scope=col>Networks</th><th scope=col>Personal Devices Computing and Hc</th><th scope=col>Physical Sciences and Engineering</th><th scope=col>Publishing</th><th scope=col>Security</th><th scope=col>Telecommunications</th><th scope=col>Transportation</th></tr></thead>\n",
       "<tbody>\n",
       "\t<tr><td>1978</td><td>0   </td><td>1   </td><td>0   </td><td>0   </td><td>0   </td><td>1   </td><td>0   </td><td>0   </td><td>0   </td><td>... </td><td>0   </td><td>1   </td><td>0   </td><td>0   </td><td>0   </td><td>1   </td><td>0   </td><td>0   </td><td>0   </td><td>1   </td></tr>\n",
       "\t<tr><td>1981</td><td>0   </td><td>1   </td><td>1   </td><td>1   </td><td>0   </td><td>1   </td><td>1   </td><td>0   </td><td>0   </td><td>... </td><td>0   </td><td>1   </td><td>0   </td><td>0   </td><td>1   </td><td>1   </td><td>0   </td><td>0   </td><td>0   </td><td>0   </td></tr>\n",
       "\t<tr><td>1982</td><td>0   </td><td>0   </td><td>1   </td><td>1   </td><td>0   </td><td>0   </td><td>0   </td><td>0   </td><td>0   </td><td>... </td><td>0   </td><td>3   </td><td>0   </td><td>0   </td><td>1   </td><td>3   </td><td>0   </td><td>3   </td><td>0   </td><td>1   </td></tr>\n",
       "\t<tr><td>1983</td><td>0   </td><td>1   </td><td>0   </td><td>0   </td><td>0   </td><td>0   </td><td>1   </td><td>0   </td><td>0   </td><td>... </td><td>0   </td><td>3   </td><td>0   </td><td>0   </td><td>2   </td><td>0   </td><td>1   </td><td>0   </td><td>0   </td><td>2   </td></tr>\n",
       "\t<tr><td>1984</td><td>0   </td><td>0   </td><td>1   </td><td>0   </td><td>0   </td><td>0   </td><td>0   </td><td>0   </td><td>0   </td><td>... </td><td>2   </td><td>6   </td><td>0   </td><td>0   </td><td>5   </td><td>4   </td><td>0   </td><td>5   </td><td>2   </td><td>2   </td></tr>\n",
       "\t<tr><td>1985</td><td>0   </td><td>2   </td><td>2   </td><td>0   </td><td>0   </td><td>2   </td><td>0   </td><td>1   </td><td>0   </td><td>... </td><td>1   </td><td>5   </td><td>0   </td><td>0   </td><td>5   </td><td>5   </td><td>6   </td><td>3   </td><td>0   </td><td>4   </td></tr>\n",
       "</tbody>\n",
       "</table>\n"
      ],
      "text/latex": [
       "\\begin{tabular}{r|lllllllllllllllllllll}\n",
       " Year & Agriculture & Arts and Humanities & Banking and Finance & Business & Cartography & Computing in Government & Document Management and Text Processing & Education & Energy Management & ... & Law Social and Behavioral Sciences & Life and Medical Sciences & Military & Networks & Personal Devices Computing and Hc & Physical Sciences and Engineering & Publishing & Security & Telecommunications & Transportation\\\\\n",
       "\\hline\n",
       "\t 1978 & 0    & 1    & 0    & 0    & 0    & 1    & 0    & 0    & 0    & ...  & 0    & 1    & 0    & 0    & 0    & 1    & 0    & 0    & 0    & 1   \\\\\n",
       "\t 1981 & 0    & 1    & 1    & 1    & 0    & 1    & 1    & 0    & 0    & ...  & 0    & 1    & 0    & 0    & 1    & 1    & 0    & 0    & 0    & 0   \\\\\n",
       "\t 1982 & 0    & 0    & 1    & 1    & 0    & 0    & 0    & 0    & 0    & ...  & 0    & 3    & 0    & 0    & 1    & 3    & 0    & 3    & 0    & 1   \\\\\n",
       "\t 1983 & 0    & 1    & 0    & 0    & 0    & 0    & 1    & 0    & 0    & ...  & 0    & 3    & 0    & 0    & 2    & 0    & 1    & 0    & 0    & 2   \\\\\n",
       "\t 1984 & 0    & 0    & 1    & 0    & 0    & 0    & 0    & 0    & 0    & ...  & 2    & 6    & 0    & 0    & 5    & 4    & 0    & 5    & 2    & 2   \\\\\n",
       "\t 1985 & 0    & 2    & 2    & 0    & 0    & 2    & 0    & 1    & 0    & ...  & 1    & 5    & 0    & 0    & 5    & 5    & 6    & 3    & 0    & 4   \\\\\n",
       "\\end{tabular}\n"
      ],
      "text/markdown": [
       "\n",
       "| Year | Agriculture | Arts and Humanities | Banking and Finance | Business | Cartography | Computing in Government | Document Management and Text Processing | Education | Energy Management | ... | Law Social and Behavioral Sciences | Life and Medical Sciences | Military | Networks | Personal Devices Computing and Hc | Physical Sciences and Engineering | Publishing | Security | Telecommunications | Transportation |\n",
       "|---|---|---|---|---|---|---|---|---|---|---|---|---|---|---|---|---|---|---|---|---|\n",
       "| 1978 | 0    | 1    | 0    | 0    | 0    | 1    | 0    | 0    | 0    | ...  | 0    | 1    | 0    | 0    | 0    | 1    | 0    | 0    | 0    | 1    |\n",
       "| 1981 | 0    | 1    | 1    | 1    | 0    | 1    | 1    | 0    | 0    | ...  | 0    | 1    | 0    | 0    | 1    | 1    | 0    | 0    | 0    | 0    |\n",
       "| 1982 | 0    | 0    | 1    | 1    | 0    | 0    | 0    | 0    | 0    | ...  | 0    | 3    | 0    | 0    | 1    | 3    | 0    | 3    | 0    | 1    |\n",
       "| 1983 | 0    | 1    | 0    | 0    | 0    | 0    | 1    | 0    | 0    | ...  | 0    | 3    | 0    | 0    | 2    | 0    | 1    | 0    | 0    | 2    |\n",
       "| 1984 | 0    | 0    | 1    | 0    | 0    | 0    | 0    | 0    | 0    | ...  | 2    | 6    | 0    | 0    | 5    | 4    | 0    | 5    | 2    | 2    |\n",
       "| 1985 | 0    | 2    | 2    | 0    | 0    | 2    | 0    | 1    | 0    | ...  | 1    | 5    | 0    | 0    | 5    | 5    | 6    | 3    | 0    | 4    |\n",
       "\n"
      ],
      "text/plain": [
       "  Year Agriculture Arts and Humanities Banking and Finance Business Cartography\n",
       "1 1978 0           1                   0                   0        0          \n",
       "2 1981 0           1                   1                   1        0          \n",
       "3 1982 0           0                   1                   1        0          \n",
       "4 1983 0           1                   0                   0        0          \n",
       "5 1984 0           0                   1                   0        0          \n",
       "6 1985 0           2                   2                   0        0          \n",
       "  Computing in Government Document Management and Text Processing Education\n",
       "1 1                       0                                       0        \n",
       "2 1                       1                                       0        \n",
       "3 0                       0                                       0        \n",
       "4 0                       1                                       0        \n",
       "5 0                       0                                       0        \n",
       "6 2                       0                                       1        \n",
       "  Energy Management ... Law Social and Behavioral Sciences\n",
       "1 0                 ... 0                                 \n",
       "2 0                 ... 0                                 \n",
       "3 0                 ... 0                                 \n",
       "4 0                 ... 0                                 \n",
       "5 0                 ... 2                                 \n",
       "6 0                 ... 1                                 \n",
       "  Life and Medical Sciences Military Networks Personal Devices Computing and Hc\n",
       "1 1                         0        0        0                                \n",
       "2 1                         0        0        1                                \n",
       "3 3                         0        0        1                                \n",
       "4 3                         0        0        2                                \n",
       "5 6                         0        0        5                                \n",
       "6 5                         0        0        5                                \n",
       "  Physical Sciences and Engineering Publishing Security Telecommunications\n",
       "1 1                                 0          0        0                 \n",
       "2 1                                 0          0        0                 \n",
       "3 3                                 0          3        0                 \n",
       "4 0                                 1          0        0                 \n",
       "5 4                                 0          5        2                 \n",
       "6 5                                 6          3        0                 \n",
       "  Transportation\n",
       "1 1             \n",
       "2 0             \n",
       "3 1             \n",
       "4 2             \n",
       "5 2             \n",
       "6 4             "
      ]
     },
     "metadata": {},
     "output_type": "display_data"
    }
   ],
   "source": [
    "GPT_ByYear_AS <- data.table(GPT_ByYear_AS[, by = Year,\n",
    "                                          lapply(.SD, sum),\n",
    "                                          .SDcols = as.character(Field_Applications)])\n",
    "head(GPT_ByYear_AS)"
   ]
  },
  {
   "cell_type": "code",
   "execution_count": 15,
   "metadata": {
    "scrolled": true
   },
   "outputs": [
    {
     "data": {
      "text/html": [
       "<table>\n",
       "<thead><tr><th scope=col>Year</th><th scope=col>Field</th><th scope=col>Total_AS_Patents</th></tr></thead>\n",
       "<tbody>\n",
       "\t<tr><td>1978       </td><td>Agriculture</td><td> 0         </td></tr>\n",
       "\t<tr><td>1981       </td><td>Agriculture</td><td> 0         </td></tr>\n",
       "\t<tr><td>1982       </td><td>Agriculture</td><td> 0         </td></tr>\n",
       "\t<tr><td>1983       </td><td>Agriculture</td><td> 0         </td></tr>\n",
       "\t<tr><td>1984       </td><td>Agriculture</td><td> 0         </td></tr>\n",
       "\t<tr><td>1985       </td><td>Agriculture</td><td> 0         </td></tr>\n",
       "\t<tr><td>1986       </td><td>Agriculture</td><td> 1         </td></tr>\n",
       "\t<tr><td>1987       </td><td>Agriculture</td><td> 1         </td></tr>\n",
       "\t<tr><td>1988       </td><td>Agriculture</td><td> 1         </td></tr>\n",
       "\t<tr><td>1989       </td><td>Agriculture</td><td> 0         </td></tr>\n",
       "\t<tr><td>1990       </td><td>Agriculture</td><td> 1         </td></tr>\n",
       "\t<tr><td>1991       </td><td>Agriculture</td><td> 0         </td></tr>\n",
       "\t<tr><td>1992       </td><td>Agriculture</td><td> 0         </td></tr>\n",
       "\t<tr><td>1993       </td><td>Agriculture</td><td> 2         </td></tr>\n",
       "\t<tr><td>1994       </td><td>Agriculture</td><td> 4         </td></tr>\n",
       "\t<tr><td>1995       </td><td>Agriculture</td><td> 6         </td></tr>\n",
       "\t<tr><td>1996       </td><td>Agriculture</td><td> 7         </td></tr>\n",
       "\t<tr><td>1997       </td><td>Agriculture</td><td> 9         </td></tr>\n",
       "\t<tr><td>1998       </td><td>Agriculture</td><td>13         </td></tr>\n",
       "\t<tr><td>1999       </td><td>Agriculture</td><td>19         </td></tr>\n",
       "</tbody>\n",
       "</table>\n"
      ],
      "text/latex": [
       "\\begin{tabular}{r|lll}\n",
       " Year & Field & Total\\_AS\\_Patents\\\\\n",
       "\\hline\n",
       "\t 1978        & Agriculture &  0         \\\\\n",
       "\t 1981        & Agriculture &  0         \\\\\n",
       "\t 1982        & Agriculture &  0         \\\\\n",
       "\t 1983        & Agriculture &  0         \\\\\n",
       "\t 1984        & Agriculture &  0         \\\\\n",
       "\t 1985        & Agriculture &  0         \\\\\n",
       "\t 1986        & Agriculture &  1         \\\\\n",
       "\t 1987        & Agriculture &  1         \\\\\n",
       "\t 1988        & Agriculture &  1         \\\\\n",
       "\t 1989        & Agriculture &  0         \\\\\n",
       "\t 1990        & Agriculture &  1         \\\\\n",
       "\t 1991        & Agriculture &  0         \\\\\n",
       "\t 1992        & Agriculture &  0         \\\\\n",
       "\t 1993        & Agriculture &  2         \\\\\n",
       "\t 1994        & Agriculture &  4         \\\\\n",
       "\t 1995        & Agriculture &  6         \\\\\n",
       "\t 1996        & Agriculture &  7         \\\\\n",
       "\t 1997        & Agriculture &  9         \\\\\n",
       "\t 1998        & Agriculture & 13         \\\\\n",
       "\t 1999        & Agriculture & 19         \\\\\n",
       "\\end{tabular}\n"
      ],
      "text/markdown": [
       "\n",
       "| Year | Field | Total_AS_Patents |\n",
       "|---|---|---|\n",
       "| 1978        | Agriculture |  0          |\n",
       "| 1981        | Agriculture |  0          |\n",
       "| 1982        | Agriculture |  0          |\n",
       "| 1983        | Agriculture |  0          |\n",
       "| 1984        | Agriculture |  0          |\n",
       "| 1985        | Agriculture |  0          |\n",
       "| 1986        | Agriculture |  1          |\n",
       "| 1987        | Agriculture |  1          |\n",
       "| 1988        | Agriculture |  1          |\n",
       "| 1989        | Agriculture |  0          |\n",
       "| 1990        | Agriculture |  1          |\n",
       "| 1991        | Agriculture |  0          |\n",
       "| 1992        | Agriculture |  0          |\n",
       "| 1993        | Agriculture |  2          |\n",
       "| 1994        | Agriculture |  4          |\n",
       "| 1995        | Agriculture |  6          |\n",
       "| 1996        | Agriculture |  7          |\n",
       "| 1997        | Agriculture |  9          |\n",
       "| 1998        | Agriculture | 13          |\n",
       "| 1999        | Agriculture | 19          |\n",
       "\n"
      ],
      "text/plain": [
       "   Year Field       Total_AS_Patents\n",
       "1  1978 Agriculture  0              \n",
       "2  1981 Agriculture  0              \n",
       "3  1982 Agriculture  0              \n",
       "4  1983 Agriculture  0              \n",
       "5  1984 Agriculture  0              \n",
       "6  1985 Agriculture  0              \n",
       "7  1986 Agriculture  1              \n",
       "8  1987 Agriculture  1              \n",
       "9  1988 Agriculture  1              \n",
       "10 1989 Agriculture  0              \n",
       "11 1990 Agriculture  1              \n",
       "12 1991 Agriculture  0              \n",
       "13 1992 Agriculture  0              \n",
       "14 1993 Agriculture  2              \n",
       "15 1994 Agriculture  4              \n",
       "16 1995 Agriculture  6              \n",
       "17 1996 Agriculture  7              \n",
       "18 1997 Agriculture  9              \n",
       "19 1998 Agriculture 13              \n",
       "20 1999 Agriculture 19              "
      ]
     },
     "metadata": {},
     "output_type": "display_data"
    }
   ],
   "source": [
    "#Adjust table format for graph\n",
    "GPT_ByYear_AS <- melt(GPT_ByYear_AS, \n",
    "                            id.vars = \"Year\",\n",
    "                            measure.vars = as.character(Field_Applications),\n",
    "                            variable.name = \"Field\",\n",
    "                            value.name = \"Total_AS_Patents\")\n",
    "head(GPT_ByYear_AS,20)"
   ]
  },
  {
   "cell_type": "code",
   "execution_count": 29,
   "metadata": {},
   "outputs": [
    {
     "data": {
      "image/png": "[encoded data removed]",
      "text/plain": [
       "plot without title"
      ]
     },
     "metadata": {},
     "output_type": "display_data"
    }
   ],
   "source": [
    "GPT_ByYear_AS_Chart <- GPT_ByYear_AS %>%\n",
    "      mutate(Field=fct_reorder(Field,Total_AS_Patents)) %>%\n",
    "      ggplot(aes(x= Year, y=Field)) +\n",
    "      labs(caption=\"\\nNumber of Applied AI patents:16,184\\nPatents can be allocated to multiple Application Sectors\\nColor intensity and size of squares represent the number of patents\\nSectors listed in decreasing order by total number of patents\") +\n",
    "      geom_point(aes(colour=Total_AS_Patents, size=Total_AS_Patents), shape=15) +\n",
    "      geom_segment(aes(x=1988, xend=1988, y=0, yend=20), color = \"black\", size=0.25, linetype=\"dashed\") +\n",
    "      geom_segment(aes(x=1998, xend=1998, y=0, yend=20), color = \"black\", size=0.25, linetype=\"dashed\") +\n",
    "      geom_segment(aes(x=2012, xend=2012, y=0, yend=20), color = \"black\", size=0.25, linetype=\"dashed\") +\n",
    "      scale_x_continuous(name=NULL,limits = c(1977,2019), breaks=seq(1978,2018,5)) +\n",
    "      scale_y_discrete(name=NULL) + \n",
    "      theme_bw() +\n",
    "      theme(legend.position = \"none\",legend.title=element_blank()) + \n",
    "      theme( plot.caption=element_text(family=\"sans\",size=8)) + \n",
    "      theme(axis.text.x = element_text(family=\"sans\",size=8, color=\"black\")) + \n",
    "      theme(axis.text.y = element_text(family=\"sans\",size=6, color=\"black\")) +\n",
    "      scale_color_gradient(low=\"khaki\", high=\"darkred\")\n",
    "GPT_ByYear_AS_Chart"
   ]
  },
  {
   "cell_type": "markdown",
   "metadata": {},
   "source": [
    "Export graph for Word Document"
   ]
  },
  {
   "cell_type": "code",
   "execution_count": null,
   "metadata": {},
   "outputs": [],
   "source": [
    "#In Jupyter Notebook code gives error but in RSutdio it works fine. \n",
    "ggsave(plot=GPT_ByYear_AS_Chart,\n",
    "       filename=\"GPT_ByYear_AS_Chart.png\",\n",
    "       type = \"cairo-png\",\n",
    "       path=\"F:/Thesis/Charts/Final/Research_Question_I\",\n",
    "       scale=1,\n",
    "       width=5,\n",
    "       height=(5*0.75),\n",
    "       units=c(\"in\"),\n",
    "       dpi=300)"
   ]
  },
  {
   "cell_type": "markdown",
   "metadata": {},
   "source": [
    "# 2) Concentration of AI Knowledge"
   ]
  },
  {
   "cell_type": "markdown",
   "metadata": {},
   "source": [
    "## 2.1) Number of Applicants per Year"
   ]
  },
  {
   "cell_type": "markdown",
   "metadata": {},
   "source": [
    "Count the number of applications per applicant per year distinguishing between Applied and Core AI"
   ]
  },
  {
   "cell_type": "code",
   "execution_count": 17,
   "metadata": {
    "scrolled": true
   },
   "outputs": [
    {
     "data": {
      "text/html": [
       "<table>\n",
       "<thead><tr><th scope=col>Year</th><th scope=col>APPLICANT_MATCH_NAME</th><th scope=col>GPT_Scope</th><th scope=col>N</th></tr></thead>\n",
       "<tbody>\n",
       "\t<tr><td>1978                                                                                       </td><td>SYSTRAN INSTITUT GES FUR FORSCHUNG &amp; ENTWICKLUNG MASCHINELLER SPRACHUBERSETZUNGSSYSTEME</td><td>Applied_AI                                                                                 </td><td>1                                                                                          </td></tr>\n",
       "\t<tr><td>1981                                                                                   </td><td>IBM                                                                                    </td><td>Applied_AI                                                                             </td><td>1                                                                                      </td></tr>\n",
       "\t<tr><td>1982                                                                                   </td><td>STEULER INDUSTRIEWERKE                                                                 </td><td>Applied_AI                                                                             </td><td>1                                                                                      </td></tr>\n",
       "\t<tr><td>1982                                                                                   </td><td>UBE IND                                                                                </td><td>Applied_AI                                                                             </td><td>1                                                                                      </td></tr>\n",
       "\t<tr><td>1983                                                                                   </td><td>TOSHIBA                                                                                </td><td>Applied_AI                                                                             </td><td>1                                                                                      </td></tr>\n",
       "\t<tr><td>1982                                                                                   </td><td>NCR                                                                                    </td><td>Applied_AI                                                                             </td><td>1                                                                                      </td></tr>\n",
       "\t<tr><td>1982                                                                                   </td><td>EASTMAN KODAK                                                                          </td><td>Applied_AI                                                                             </td><td>2                                                                                      </td></tr>\n",
       "\t<tr><td>1983                                                                                   </td><td>IBM                                                                                    </td><td>Applied_AI                                                                             </td><td>1                                                                                      </td></tr>\n",
       "\t<tr><td>1984                                                                                   </td><td>PICKER INT                                                                             </td><td>Applied_AI                                                                             </td><td>1                                                                                      </td></tr>\n",
       "\t<tr><td>1984                                                                                   </td><td>RUTLAND PLASTICS                                                                       </td><td>Applied_AI                                                                             </td><td>1                                                                                      </td></tr>\n",
       "\t<tr><td>1984                                                                                   </td><td>VICTAULIC                                                                              </td><td>Applied_AI                                                                             </td><td>1                                                                                      </td></tr>\n",
       "\t<tr><td>1984                                                                                   </td><td>CAMBRIDGE LIFE SCIENCES                                                                </td><td>Applied_AI                                                                             </td><td>2                                                                                      </td></tr>\n",
       "\t<tr><td>1984                                                                                   </td><td>TEXAS INSTRUMENTS                                                                      </td><td>Applied_AI                                                                             </td><td>2                                                                                      </td></tr>\n",
       "\t<tr><td>1984                                                                                   </td><td>ADVANCED MAGNETICS                                                                     </td><td>Applied_AI                                                                             </td><td>1                                                                                      </td></tr>\n",
       "\t<tr><td>1983                                                                                   </td><td>VANDERBILT UNIVERSITY                                                                  </td><td>Applied_AI                                                                             </td><td>1                                                                                      </td></tr>\n",
       "\t<tr><td>1984                                                                                   </td><td>PELAM                                                                                  </td><td>Applied_AI                                                                             </td><td>1                                                                                      </td></tr>\n",
       "\t<tr><td>1984                                                                                   </td><td>SCHAEFER PHILIPP                                                                       </td><td>Applied_AI                                                                             </td><td>2                                                                                      </td></tr>\n",
       "\t<tr><td>1984                                                                                   </td><td>VELCRO IND                                                                             </td><td>Applied_AI                                                                             </td><td>2                                                                                      </td></tr>\n",
       "\t<tr><td>1985                                                                                   </td><td>NIPPON OIL                                                                             </td><td>Applied_AI                                                                             </td><td>1                                                                                      </td></tr>\n",
       "\t<tr><td>1985                                                                                   </td><td>HITACHI                                                                                </td><td>Applied_AI                                                                             </td><td>1                                                                                      </td></tr>\n",
       "</tbody>\n",
       "</table>\n"
      ],
      "text/latex": [
       "\\begin{tabular}{r|llll}\n",
       " Year & APPLICANT\\_MATCH\\_NAME & GPT\\_Scope & N\\\\\n",
       "\\hline\n",
       "\t 1978                                                                                      & SYSTRAN INSTITUT GES FUR FORSCHUNG \\& ENTWICKLUNG MASCHINELLER SPRACHUBERSETZUNGSSYSTEME & Applied\\_AI                                                                              & 1                                                                                        \\\\\n",
       "\t 1981                                                                                    & IBM                                                                                     & Applied\\_AI                                                                            & 1                                                                                      \\\\\n",
       "\t 1982                                                                                    & STEULER INDUSTRIEWERKE                                                                  & Applied\\_AI                                                                            & 1                                                                                      \\\\\n",
       "\t 1982                                                                                    & UBE IND                                                                                 & Applied\\_AI                                                                            & 1                                                                                      \\\\\n",
       "\t 1983                                                                                    & TOSHIBA                                                                                 & Applied\\_AI                                                                            & 1                                                                                      \\\\\n",
       "\t 1982                                                                                    & NCR                                                                                     & Applied\\_AI                                                                            & 1                                                                                      \\\\\n",
       "\t 1982                                                                                    & EASTMAN KODAK                                                                           & Applied\\_AI                                                                            & 2                                                                                      \\\\\n",
       "\t 1983                                                                                    & IBM                                                                                     & Applied\\_AI                                                                            & 1                                                                                      \\\\\n",
       "\t 1984                                                                                    & PICKER INT                                                                              & Applied\\_AI                                                                            & 1                                                                                      \\\\\n",
       "\t 1984                                                                                    & RUTLAND PLASTICS                                                                        & Applied\\_AI                                                                            & 1                                                                                      \\\\\n",
       "\t 1984                                                                                    & VICTAULIC                                                                               & Applied\\_AI                                                                            & 1                                                                                      \\\\\n",
       "\t 1984                                                                                    & CAMBRIDGE LIFE SCIENCES                                                                 & Applied\\_AI                                                                            & 2                                                                                      \\\\\n",
       "\t 1984                                                                                    & TEXAS INSTRUMENTS                                                                       & Applied\\_AI                                                                            & 2                                                                                      \\\\\n",
       "\t 1984                                                                                    & ADVANCED MAGNETICS                                                                      & Applied\\_AI                                                                            & 1                                                                                      \\\\\n",
       "\t 1983                                                                                    & VANDERBILT UNIVERSITY                                                                   & Applied\\_AI                                                                            & 1                                                                                      \\\\\n",
       "\t 1984                                                                                    & PELAM                                                                                   & Applied\\_AI                                                                            & 1                                                                                      \\\\\n",
       "\t 1984                                                                                    & SCHAEFER PHILIPP                                                                        & Applied\\_AI                                                                            & 2                                                                                      \\\\\n",
       "\t 1984                                                                                    & VELCRO IND                                                                              & Applied\\_AI                                                                            & 2                                                                                      \\\\\n",
       "\t 1985                                                                                    & NIPPON OIL                                                                              & Applied\\_AI                                                                            & 1                                                                                      \\\\\n",
       "\t 1985                                                                                    & HITACHI                                                                                 & Applied\\_AI                                                                            & 1                                                                                      \\\\\n",
       "\\end{tabular}\n"
      ],
      "text/markdown": [
       "\n",
       "| Year | APPLICANT_MATCH_NAME | GPT_Scope | N |\n",
       "|---|---|---|---|\n",
       "| 1978                                                                                    | SYSTRAN INSTITUT GES FUR FORSCHUNG & ENTWICKLUNG MASCHINELLER SPRACHUBERSETZUNGSSYSTEME | Applied_AI                                                                              | 1                                                                                       |\n",
       "| 1981                                                                                    | IBM                                                                                     | Applied_AI                                                                              | 1                                                                                       |\n",
       "| 1982                                                                                    | STEULER INDUSTRIEWERKE                                                                  | Applied_AI                                                                              | 1                                                                                       |\n",
       "| 1982                                                                                    | UBE IND                                                                                 | Applied_AI                                                                              | 1                                                                                       |\n",
       "| 1983                                                                                    | TOSHIBA                                                                                 | Applied_AI                                                                              | 1                                                                                       |\n",
       "| 1982                                                                                    | NCR                                                                                     | Applied_AI                                                                              | 1                                                                                       |\n",
       "| 1982                                                                                    | EASTMAN KODAK                                                                           | Applied_AI                                                                              | 2                                                                                       |\n",
       "| 1983                                                                                    | IBM                                                                                     | Applied_AI                                                                              | 1                                                                                       |\n",
       "| 1984                                                                                    | PICKER INT                                                                              | Applied_AI                                                                              | 1                                                                                       |\n",
       "| 1984                                                                                    | RUTLAND PLASTICS                                                                        | Applied_AI                                                                              | 1                                                                                       |\n",
       "| 1984                                                                                    | VICTAULIC                                                                               | Applied_AI                                                                              | 1                                                                                       |\n",
       "| 1984                                                                                    | CAMBRIDGE LIFE SCIENCES                                                                 | Applied_AI                                                                              | 2                                                                                       |\n",
       "| 1984                                                                                    | TEXAS INSTRUMENTS                                                                       | Applied_AI                                                                              | 2                                                                                       |\n",
       "| 1984                                                                                    | ADVANCED MAGNETICS                                                                      | Applied_AI                                                                              | 1                                                                                       |\n",
       "| 1983                                                                                    | VANDERBILT UNIVERSITY                                                                   | Applied_AI                                                                              | 1                                                                                       |\n",
       "| 1984                                                                                    | PELAM                                                                                   | Applied_AI                                                                              | 1                                                                                       |\n",
       "| 1984                                                                                    | SCHAEFER PHILIPP                                                                        | Applied_AI                                                                              | 2                                                                                       |\n",
       "| 1984                                                                                    | VELCRO IND                                                                              | Applied_AI                                                                              | 2                                                                                       |\n",
       "| 1985                                                                                    | NIPPON OIL                                                                              | Applied_AI                                                                              | 1                                                                                       |\n",
       "| 1985                                                                                    | HITACHI                                                                                 | Applied_AI                                                                              | 1                                                                                       |\n",
       "\n"
      ],
      "text/plain": [
       "   Year\n",
       "1  1978\n",
       "2  1981\n",
       "3  1982\n",
       "4  1982\n",
       "5  1983\n",
       "6  1982\n",
       "7  1982\n",
       "8  1983\n",
       "9  1984\n",
       "10 1984\n",
       "11 1984\n",
       "12 1984\n",
       "13 1984\n",
       "14 1984\n",
       "15 1983\n",
       "16 1984\n",
       "17 1984\n",
       "18 1984\n",
       "19 1985\n",
       "20 1985\n",
       "   APPLICANT_MATCH_NAME                                                                   \n",
       "1  SYSTRAN INSTITUT GES FUR FORSCHUNG & ENTWICKLUNG MASCHINELLER SPRACHUBERSETZUNGSSYSTEME\n",
       "2  IBM                                                                                    \n",
       "3  STEULER INDUSTRIEWERKE                                                                 \n",
       "4  UBE IND                                                                                \n",
       "5  TOSHIBA                                                                                \n",
       "6  NCR                                                                                    \n",
       "7  EASTMAN KODAK                                                                          \n",
       "8  IBM                                                                                    \n",
       "9  PICKER INT                                                                             \n",
       "10 RUTLAND PLASTICS                                                                       \n",
       "11 VICTAULIC                                                                              \n",
       "12 CAMBRIDGE LIFE SCIENCES                                                                \n",
       "13 TEXAS INSTRUMENTS                                                                      \n",
       "14 ADVANCED MAGNETICS                                                                     \n",
       "15 VANDERBILT UNIVERSITY                                                                  \n",
       "16 PELAM                                                                                  \n",
       "17 SCHAEFER PHILIPP                                                                       \n",
       "18 VELCRO IND                                                                             \n",
       "19 NIPPON OIL                                                                             \n",
       "20 HITACHI                                                                                \n",
       "   GPT_Scope  N\n",
       "1  Applied_AI 1\n",
       "2  Applied_AI 1\n",
       "3  Applied_AI 1\n",
       "4  Applied_AI 1\n",
       "5  Applied_AI 1\n",
       "6  Applied_AI 1\n",
       "7  Applied_AI 2\n",
       "8  Applied_AI 1\n",
       "9  Applied_AI 1\n",
       "10 Applied_AI 1\n",
       "11 Applied_AI 1\n",
       "12 Applied_AI 2\n",
       "13 Applied_AI 2\n",
       "14 Applied_AI 1\n",
       "15 Applied_AI 1\n",
       "16 Applied_AI 1\n",
       "17 Applied_AI 2\n",
       "18 Applied_AI 2\n",
       "19 Applied_AI 1\n",
       "20 Applied_AI 1"
      ]
     },
     "metadata": {},
     "output_type": "display_data"
    }
   ],
   "source": [
    "ByDate_Applicant <- Industrial_Patent_Dataset[,.N, by=c(\"Year\",\"APPLICANT_MATCH_NAME\", \"GPT_Scope\")]\n",
    "head(ByDate_Applicant,20)"
   ]
  },
  {
   "cell_type": "code",
   "execution_count": 18,
   "metadata": {},
   "outputs": [
    {
     "data": {
      "text/html": [
       "19602"
      ],
      "text/latex": [
       "19602"
      ],
      "text/markdown": [
       "19602"
      ],
      "text/plain": [
       "[1] 19602"
      ]
     },
     "metadata": {},
     "output_type": "display_data"
    },
    {
     "data": {
      "text/html": [
       "<table>\n",
       "<thead><tr><th scope=col>Year</th><th scope=col>APPLICANT_MATCH_NAME</th><th scope=col>GPT_Scope</th><th scope=col>Number_Patents</th></tr></thead>\n",
       "<tbody>\n",
       "\t<tr><td>1978                                                                                       </td><td>SYSTRAN INSTITUT GES FUR FORSCHUNG &amp; ENTWICKLUNG MASCHINELLER SPRACHUBERSETZUNGSSYSTEME</td><td>Applied_AI                                                                                 </td><td>1                                                                                          </td></tr>\n",
       "\t<tr><td>1981                                                                                   </td><td>IBM                                                                                    </td><td>Applied_AI                                                                             </td><td>1                                                                                      </td></tr>\n",
       "\t<tr><td>1982                                                                                   </td><td>STEULER INDUSTRIEWERKE                                                                 </td><td>Applied_AI                                                                             </td><td>1                                                                                      </td></tr>\n",
       "\t<tr><td>1982                                                                                   </td><td>UBE IND                                                                                </td><td>Applied_AI                                                                             </td><td>1                                                                                      </td></tr>\n",
       "\t<tr><td>1982                                                                                   </td><td>NCR                                                                                    </td><td>Applied_AI                                                                             </td><td>1                                                                                      </td></tr>\n",
       "\t<tr><td>1982                                                                                   </td><td>EASTMAN KODAK                                                                          </td><td>Applied_AI                                                                             </td><td>2                                                                                      </td></tr>\n",
       "</tbody>\n",
       "</table>\n"
      ],
      "text/latex": [
       "\\begin{tabular}{r|llll}\n",
       " Year & APPLICANT\\_MATCH\\_NAME & GPT\\_Scope & Number\\_Patents\\\\\n",
       "\\hline\n",
       "\t 1978                                                                                      & SYSTRAN INSTITUT GES FUR FORSCHUNG \\& ENTWICKLUNG MASCHINELLER SPRACHUBERSETZUNGSSYSTEME & Applied\\_AI                                                                              & 1                                                                                        \\\\\n",
       "\t 1981                                                                                    & IBM                                                                                     & Applied\\_AI                                                                            & 1                                                                                      \\\\\n",
       "\t 1982                                                                                    & STEULER INDUSTRIEWERKE                                                                  & Applied\\_AI                                                                            & 1                                                                                      \\\\\n",
       "\t 1982                                                                                    & UBE IND                                                                                 & Applied\\_AI                                                                            & 1                                                                                      \\\\\n",
       "\t 1982                                                                                    & NCR                                                                                     & Applied\\_AI                                                                            & 1                                                                                      \\\\\n",
       "\t 1982                                                                                    & EASTMAN KODAK                                                                           & Applied\\_AI                                                                            & 2                                                                                      \\\\\n",
       "\\end{tabular}\n"
      ],
      "text/markdown": [
       "\n",
       "| Year | APPLICANT_MATCH_NAME | GPT_Scope | Number_Patents |\n",
       "|---|---|---|---|\n",
       "| 1978                                                                                    | SYSTRAN INSTITUT GES FUR FORSCHUNG & ENTWICKLUNG MASCHINELLER SPRACHUBERSETZUNGSSYSTEME | Applied_AI                                                                              | 1                                                                                       |\n",
       "| 1981                                                                                    | IBM                                                                                     | Applied_AI                                                                              | 1                                                                                       |\n",
       "| 1982                                                                                    | STEULER INDUSTRIEWERKE                                                                  | Applied_AI                                                                              | 1                                                                                       |\n",
       "| 1982                                                                                    | UBE IND                                                                                 | Applied_AI                                                                              | 1                                                                                       |\n",
       "| 1982                                                                                    | NCR                                                                                     | Applied_AI                                                                              | 1                                                                                       |\n",
       "| 1982                                                                                    | EASTMAN KODAK                                                                           | Applied_AI                                                                              | 2                                                                                       |\n",
       "\n"
      ],
      "text/plain": [
       "  Year\n",
       "1 1978\n",
       "2 1981\n",
       "3 1982\n",
       "4 1982\n",
       "5 1982\n",
       "6 1982\n",
       "  APPLICANT_MATCH_NAME                                                                   \n",
       "1 SYSTRAN INSTITUT GES FUR FORSCHUNG & ENTWICKLUNG MASCHINELLER SPRACHUBERSETZUNGSSYSTEME\n",
       "2 IBM                                                                                    \n",
       "3 STEULER INDUSTRIEWERKE                                                                 \n",
       "4 UBE IND                                                                                \n",
       "5 NCR                                                                                    \n",
       "6 EASTMAN KODAK                                                                          \n",
       "  GPT_Scope  Number_Patents\n",
       "1 Applied_AI 1             \n",
       "2 Applied_AI 1             \n",
       "3 Applied_AI 1             \n",
       "4 Applied_AI 1             \n",
       "5 Applied_AI 1             \n",
       "6 Applied_AI 2             "
      ]
     },
     "metadata": {},
     "output_type": "display_data"
    }
   ],
   "source": [
    "#Order by Date\n",
    "ByDate_Applicant <- ByDate_Applicant[order(ByDate_Applicant[,Year]),]\n",
    "\n",
    "colnames(ByDate_Applicant)[4] <- \"Number_Patents\"\n",
    "\n",
    "#Consistency Check\n",
    "sum(ByDate_Applicant$Number_Patents)\n",
    "\n",
    "head(ByDate_Applicant)"
   ]
  },
  {
   "cell_type": "markdown",
   "metadata": {},
   "source": [
    "Summarize by year"
   ]
  },
  {
   "cell_type": "code",
   "execution_count": 19,
   "metadata": {},
   "outputs": [
    {
     "data": {
      "text/html": [
       "<table>\n",
       "<thead><tr><th scope=col>Year</th><th scope=col>GPT_Scope</th><th scope=col>Number_Applicants</th></tr></thead>\n",
       "<tbody>\n",
       "\t<tr><td>1978      </td><td>Applied_AI</td><td> 1        </td></tr>\n",
       "\t<tr><td>1981      </td><td>Applied_AI</td><td> 1        </td></tr>\n",
       "\t<tr><td>1982      </td><td>Applied_AI</td><td> 5        </td></tr>\n",
       "\t<tr><td>1983      </td><td>Applied_AI</td><td> 3        </td></tr>\n",
       "\t<tr><td>1984      </td><td>Applied_AI</td><td> 9        </td></tr>\n",
       "\t<tr><td>1985      </td><td>Applied_AI</td><td> 9        </td></tr>\n",
       "\t<tr><td>1985      </td><td>Core_AI   </td><td> 1        </td></tr>\n",
       "\t<tr><td>1986      </td><td>Applied_AI</td><td>11        </td></tr>\n",
       "\t<tr><td>1987      </td><td>Applied_AI</td><td>11        </td></tr>\n",
       "\t<tr><td>1988      </td><td>Applied_AI</td><td>22        </td></tr>\n",
       "</tbody>\n",
       "</table>\n"
      ],
      "text/latex": [
       "\\begin{tabular}{r|lll}\n",
       " Year & GPT\\_Scope & Number\\_Applicants\\\\\n",
       "\\hline\n",
       "\t 1978         & Applied\\_AI &  1          \\\\\n",
       "\t 1981         & Applied\\_AI &  1          \\\\\n",
       "\t 1982         & Applied\\_AI &  5          \\\\\n",
       "\t 1983         & Applied\\_AI &  3          \\\\\n",
       "\t 1984         & Applied\\_AI &  9          \\\\\n",
       "\t 1985         & Applied\\_AI &  9          \\\\\n",
       "\t 1985         & Core\\_AI    &  1          \\\\\n",
       "\t 1986         & Applied\\_AI & 11          \\\\\n",
       "\t 1987         & Applied\\_AI & 11          \\\\\n",
       "\t 1988         & Applied\\_AI & 22          \\\\\n",
       "\\end{tabular}\n"
      ],
      "text/markdown": [
       "\n",
       "| Year | GPT_Scope | Number_Applicants |\n",
       "|---|---|---|\n",
       "| 1978       | Applied_AI |  1         |\n",
       "| 1981       | Applied_AI |  1         |\n",
       "| 1982       | Applied_AI |  5         |\n",
       "| 1983       | Applied_AI |  3         |\n",
       "| 1984       | Applied_AI |  9         |\n",
       "| 1985       | Applied_AI |  9         |\n",
       "| 1985       | Core_AI    |  1         |\n",
       "| 1986       | Applied_AI | 11         |\n",
       "| 1987       | Applied_AI | 11         |\n",
       "| 1988       | Applied_AI | 22         |\n",
       "\n"
      ],
      "text/plain": [
       "   Year GPT_Scope  Number_Applicants\n",
       "1  1978 Applied_AI  1               \n",
       "2  1981 Applied_AI  1               \n",
       "3  1982 Applied_AI  5               \n",
       "4  1983 Applied_AI  3               \n",
       "5  1984 Applied_AI  9               \n",
       "6  1985 Applied_AI  9               \n",
       "7  1985 Core_AI     1               \n",
       "8  1986 Applied_AI 11               \n",
       "9  1987 Applied_AI 11               \n",
       "10 1988 Applied_AI 22               "
      ]
     },
     "metadata": {},
     "output_type": "display_data"
    }
   ],
   "source": [
    "ByDate_Applicant <- ByDate_Applicant[,.N, by=c(\"Year\",\"GPT_Scope\")]\n",
    "colnames(ByDate_Applicant)[3] <- \"Number_Applicants\"\n",
    "\n",
    "head(ByDate_Applicant,10)"
   ]
  },
  {
   "cell_type": "code",
   "execution_count": 20,
   "metadata": {},
   "outputs": [
    {
     "data": {
      "text/html": [
       "<table>\n",
       "<thead><tr><th scope=col>Year</th><th scope=col>GPT_Scope</th><th scope=col>Number_Applicants</th></tr></thead>\n",
       "<tbody>\n",
       "\t<tr><td>1989      </td><td>Applied_AI</td><td> 34       </td></tr>\n",
       "\t<tr><td>1990      </td><td>Applied_AI</td><td> 64       </td></tr>\n",
       "\t<tr><td>1991      </td><td>Applied_AI</td><td> 77       </td></tr>\n",
       "\t<tr><td>1992      </td><td>Applied_AI</td><td> 92       </td></tr>\n",
       "\t<tr><td>1993      </td><td>Applied_AI</td><td>116       </td></tr>\n",
       "\t<tr><td>1994      </td><td>Applied_AI</td><td>102       </td></tr>\n",
       "\t<tr><td>1995      </td><td>Applied_AI</td><td> 99       </td></tr>\n",
       "\t<tr><td>1996      </td><td>Applied_AI</td><td>111       </td></tr>\n",
       "\t<tr><td>1997      </td><td>Applied_AI</td><td>117       </td></tr>\n",
       "\t<tr><td>1998      </td><td>Applied_AI</td><td>158       </td></tr>\n",
       "</tbody>\n",
       "</table>\n"
      ],
      "text/latex": [
       "\\begin{tabular}{r|lll}\n",
       " Year & GPT\\_Scope & Number\\_Applicants\\\\\n",
       "\\hline\n",
       "\t 1989         & Applied\\_AI &  34         \\\\\n",
       "\t 1990         & Applied\\_AI &  64         \\\\\n",
       "\t 1991         & Applied\\_AI &  77         \\\\\n",
       "\t 1992         & Applied\\_AI &  92         \\\\\n",
       "\t 1993         & Applied\\_AI & 116         \\\\\n",
       "\t 1994         & Applied\\_AI & 102         \\\\\n",
       "\t 1995         & Applied\\_AI &  99         \\\\\n",
       "\t 1996         & Applied\\_AI & 111         \\\\\n",
       "\t 1997         & Applied\\_AI & 117         \\\\\n",
       "\t 1998         & Applied\\_AI & 158         \\\\\n",
       "\\end{tabular}\n"
      ],
      "text/markdown": [
       "\n",
       "| Year | GPT_Scope | Number_Applicants |\n",
       "|---|---|---|\n",
       "| 1989       | Applied_AI |  34        |\n",
       "| 1990       | Applied_AI |  64        |\n",
       "| 1991       | Applied_AI |  77        |\n",
       "| 1992       | Applied_AI |  92        |\n",
       "| 1993       | Applied_AI | 116        |\n",
       "| 1994       | Applied_AI | 102        |\n",
       "| 1995       | Applied_AI |  99        |\n",
       "| 1996       | Applied_AI | 111        |\n",
       "| 1997       | Applied_AI | 117        |\n",
       "| 1998       | Applied_AI | 158        |\n",
       "\n"
      ],
      "text/plain": [
       "   Year GPT_Scope  Number_Applicants\n",
       "1  1989 Applied_AI  34              \n",
       "2  1990 Applied_AI  64              \n",
       "3  1991 Applied_AI  77              \n",
       "4  1992 Applied_AI  92              \n",
       "5  1993 Applied_AI 116              \n",
       "6  1994 Applied_AI 102              \n",
       "7  1995 Applied_AI  99              \n",
       "8  1996 Applied_AI 111              \n",
       "9  1997 Applied_AI 117              \n",
       "10 1998 Applied_AI 158              "
      ]
     },
     "metadata": {},
     "output_type": "display_data"
    }
   ],
   "source": [
    "ByDate_Applicant[Year>1988 & Year<=1998 & GPT_Scope==\"Applied_AI\",]"
   ]
  },
  {
   "cell_type": "code",
   "execution_count": 21,
   "metadata": {},
   "outputs": [
    {
     "data": {
      "text/html": [
       "<table>\n",
       "<thead><tr><th scope=col>Year</th><th scope=col>GPT_Scope</th><th scope=col>Number_Applicants</th></tr></thead>\n",
       "<tbody>\n",
       "\t<tr><td>1999      </td><td>Applied_AI</td><td>199       </td></tr>\n",
       "\t<tr><td>2000      </td><td>Applied_AI</td><td>275       </td></tr>\n",
       "\t<tr><td>2001      </td><td>Applied_AI</td><td>322       </td></tr>\n",
       "\t<tr><td>2002      </td><td>Applied_AI</td><td>330       </td></tr>\n",
       "\t<tr><td>2003      </td><td>Applied_AI</td><td>306       </td></tr>\n",
       "\t<tr><td>2004      </td><td>Applied_AI</td><td>333       </td></tr>\n",
       "\t<tr><td>2005      </td><td>Applied_AI</td><td>359       </td></tr>\n",
       "\t<tr><td>2006      </td><td>Applied_AI</td><td>347       </td></tr>\n",
       "\t<tr><td>2007      </td><td>Applied_AI</td><td>328       </td></tr>\n",
       "\t<tr><td>2008      </td><td>Applied_AI</td><td>332       </td></tr>\n",
       "\t<tr><td>2009      </td><td>Applied_AI</td><td>320       </td></tr>\n",
       "\t<tr><td>2010      </td><td>Applied_AI</td><td>336       </td></tr>\n",
       "\t<tr><td>2011      </td><td>Applied_AI</td><td>303       </td></tr>\n",
       "\t<tr><td>2012      </td><td>Applied_AI</td><td>383       </td></tr>\n",
       "</tbody>\n",
       "</table>\n"
      ],
      "text/latex": [
       "\\begin{tabular}{r|lll}\n",
       " Year & GPT\\_Scope & Number\\_Applicants\\\\\n",
       "\\hline\n",
       "\t 1999         & Applied\\_AI & 199         \\\\\n",
       "\t 2000         & Applied\\_AI & 275         \\\\\n",
       "\t 2001         & Applied\\_AI & 322         \\\\\n",
       "\t 2002         & Applied\\_AI & 330         \\\\\n",
       "\t 2003         & Applied\\_AI & 306         \\\\\n",
       "\t 2004         & Applied\\_AI & 333         \\\\\n",
       "\t 2005         & Applied\\_AI & 359         \\\\\n",
       "\t 2006         & Applied\\_AI & 347         \\\\\n",
       "\t 2007         & Applied\\_AI & 328         \\\\\n",
       "\t 2008         & Applied\\_AI & 332         \\\\\n",
       "\t 2009         & Applied\\_AI & 320         \\\\\n",
       "\t 2010         & Applied\\_AI & 336         \\\\\n",
       "\t 2011         & Applied\\_AI & 303         \\\\\n",
       "\t 2012         & Applied\\_AI & 383         \\\\\n",
       "\\end{tabular}\n"
      ],
      "text/markdown": [
       "\n",
       "| Year | GPT_Scope | Number_Applicants |\n",
       "|---|---|---|\n",
       "| 1999       | Applied_AI | 199        |\n",
       "| 2000       | Applied_AI | 275        |\n",
       "| 2001       | Applied_AI | 322        |\n",
       "| 2002       | Applied_AI | 330        |\n",
       "| 2003       | Applied_AI | 306        |\n",
       "| 2004       | Applied_AI | 333        |\n",
       "| 2005       | Applied_AI | 359        |\n",
       "| 2006       | Applied_AI | 347        |\n",
       "| 2007       | Applied_AI | 328        |\n",
       "| 2008       | Applied_AI | 332        |\n",
       "| 2009       | Applied_AI | 320        |\n",
       "| 2010       | Applied_AI | 336        |\n",
       "| 2011       | Applied_AI | 303        |\n",
       "| 2012       | Applied_AI | 383        |\n",
       "\n"
      ],
      "text/plain": [
       "   Year GPT_Scope  Number_Applicants\n",
       "1  1999 Applied_AI 199              \n",
       "2  2000 Applied_AI 275              \n",
       "3  2001 Applied_AI 322              \n",
       "4  2002 Applied_AI 330              \n",
       "5  2003 Applied_AI 306              \n",
       "6  2004 Applied_AI 333              \n",
       "7  2005 Applied_AI 359              \n",
       "8  2006 Applied_AI 347              \n",
       "9  2007 Applied_AI 328              \n",
       "10 2008 Applied_AI 332              \n",
       "11 2009 Applied_AI 320              \n",
       "12 2010 Applied_AI 336              \n",
       "13 2011 Applied_AI 303              \n",
       "14 2012 Applied_AI 383              "
      ]
     },
     "metadata": {},
     "output_type": "display_data"
    }
   ],
   "source": [
    "ByDate_Applicant[Year>1998 & Year<=2012 & GPT_Scope==\"Applied_AI\",]"
   ]
  },
  {
   "cell_type": "code",
   "execution_count": 22,
   "metadata": {},
   "outputs": [
    {
     "data": {
      "text/html": [
       "<table>\n",
       "<thead><tr><th scope=col>Year</th><th scope=col>GPT_Scope</th><th scope=col>Number_Applicants</th></tr></thead>\n",
       "<tbody>\n",
       "\t<tr><td>2013      </td><td>Applied_AI</td><td> 455      </td></tr>\n",
       "\t<tr><td>2014      </td><td>Applied_AI</td><td> 520      </td></tr>\n",
       "\t<tr><td>2015      </td><td>Applied_AI</td><td> 587      </td></tr>\n",
       "\t<tr><td>2016      </td><td>Applied_AI</td><td> 874      </td></tr>\n",
       "\t<tr><td>2017      </td><td>Applied_AI</td><td>1237      </td></tr>\n",
       "\t<tr><td>2018      </td><td>Applied_AI</td><td>1416      </td></tr>\n",
       "</tbody>\n",
       "</table>\n"
      ],
      "text/latex": [
       "\\begin{tabular}{r|lll}\n",
       " Year & GPT\\_Scope & Number\\_Applicants\\\\\n",
       "\\hline\n",
       "\t 2013         & Applied\\_AI &  455        \\\\\n",
       "\t 2014         & Applied\\_AI &  520        \\\\\n",
       "\t 2015         & Applied\\_AI &  587        \\\\\n",
       "\t 2016         & Applied\\_AI &  874        \\\\\n",
       "\t 2017         & Applied\\_AI & 1237        \\\\\n",
       "\t 2018         & Applied\\_AI & 1416        \\\\\n",
       "\\end{tabular}\n"
      ],
      "text/markdown": [
       "\n",
       "| Year | GPT_Scope | Number_Applicants |\n",
       "|---|---|---|\n",
       "| 2013       | Applied_AI |  455       |\n",
       "| 2014       | Applied_AI |  520       |\n",
       "| 2015       | Applied_AI |  587       |\n",
       "| 2016       | Applied_AI |  874       |\n",
       "| 2017       | Applied_AI | 1237       |\n",
       "| 2018       | Applied_AI | 1416       |\n",
       "\n"
      ],
      "text/plain": [
       "  Year GPT_Scope  Number_Applicants\n",
       "1 2013 Applied_AI  455             \n",
       "2 2014 Applied_AI  520             \n",
       "3 2015 Applied_AI  587             \n",
       "4 2016 Applied_AI  874             \n",
       "5 2017 Applied_AI 1237             \n",
       "6 2018 Applied_AI 1416             "
      ]
     },
     "metadata": {},
     "output_type": "display_data"
    }
   ],
   "source": [
    "ByDate_Applicant[Year>2012 & Year<2019 & GPT_Scope==\"Applied_AI\",]"
   ]
  },
  {
   "cell_type": "code",
   "execution_count": 30,
   "metadata": {},
   "outputs": [
    {
     "data": {
      "image/png": "[encoded data removed]",
      "text/plain": [
       "plot without title"
      ]
     },
     "metadata": {},
     "output_type": "display_data"
    }
   ],
   "source": [
    "Applicants_per_Year<- ggplot(ByDate_Applicant, aes(x=Year, y=Number_Applicants, fill=GPT_Scope)) +\n",
    "      labs(caption=\"Number of applicants: 6,807\") +\n",
    "      geom_bar(stat=\"identity\") +\n",
    "      geom_segment(aes(x=1988, xend=1988, y=0, yend=750), color = \"black\", size=0.25, linetype=\"dashed\") +\n",
    "      geom_segment(aes(x=1998, xend=1998, y=0, yend=750), color = \"black\", size=0.25, linetype=\"dashed\") +\n",
    "      geom_segment(aes(x=2012, xend=2012, y=0, yend=750), color = \"black\", size=0.25, linetype=\"dashed\") +\n",
    "      theme_bw() +\n",
    "      theme(legend.position = \"top\",legend.title=element_blank(),legend.margin=margin(0,0,0,0),\n",
    "            legend.box.margin=margin(-5,-5,-5,-5),legend.key.size=unit(\"0.25\",\"cm\")) + \n",
    "      theme(plot.caption=element_text(family=\"sans\",size=8)) + \n",
    "      theme(axis.text.x = element_text(family=\"sans\",size=8, color=\"black\")) + \n",
    "      theme(axis.text.y = element_text(family=\"sans\",size=8, color=\"black\")) +\n",
    "      theme(axis.title.y=element_text(size=10)) + \n",
    "      scale_fill_manual(values=c(\"deepskyblue4\", \"darkgrey\"), name = \"GPT Scope\", labels = c(\"Applied AI\", \"Core AI\")) +\n",
    "      scale_x_continuous(name=NULL, breaks=seq(1978,2018,5), limits = c(1977,2019)) +\n",
    "      scale_y_continuous(name=\"Number of Patent Applicants per Year\", breaks=seq(0,1750,250), limits=c(0,1750),\n",
    "                         labels=function(x) format(x, big.mark = \",\", decimal.mark = \".\", scientific = FALSE))\n",
    "Applicants_per_Year"
   ]
  },
  {
   "cell_type": "markdown",
   "metadata": {},
   "source": [
    "Export graph for Word Document"
   ]
  },
  {
   "cell_type": "code",
   "execution_count": null,
   "metadata": {},
   "outputs": [],
   "source": [
    "#In Jupyter Notebook code gives error but in RSutdio it works fine. \n",
    "ggsave(plot=Applicants_per_Year,\n",
    "       filename=\"Applicants_per_Year.png\",\n",
    "       type = \"cairo-png\",\n",
    "       path=\"F:/Thesis/Charts/Final/Research_Question_I\",\n",
    "       scale=1,\n",
    "       width=3.54,\n",
    "       height=(3.54*0.75),\n",
    "       units=c(\"in\"),\n",
    "       dpi=300)"
   ]
  },
  {
   "cell_type": "markdown",
   "metadata": {},
   "source": [
    "## 2.3) Average Number of Patent Applications per Applicant per Year"
   ]
  },
  {
   "cell_type": "code",
   "execution_count": 25,
   "metadata": {},
   "outputs": [
    {
     "data": {
      "text/html": [
       "6807"
      ],
      "text/latex": [
       "6807"
      ],
      "text/markdown": [
       "6807"
      ],
      "text/plain": [
       "[1] 6807"
      ]
     },
     "metadata": {},
     "output_type": "display_data"
    },
    {
     "data": {
      "text/html": [
       "19602"
      ],
      "text/latex": [
       "19602"
      ],
      "text/markdown": [
       "19602"
      ],
      "text/plain": [
       "[1] 19602"
      ]
     },
     "metadata": {},
     "output_type": "display_data"
    },
    {
     "data": {
      "text/html": [
       "<table>\n",
       "<thead><tr><th scope=col>APPLICANT_MATCH_NAME</th><th scope=col>Year</th><th scope=col>GPT_Scope</th><th scope=col>Number_Patents</th></tr></thead>\n",
       "<tbody>\n",
       "\t<tr><td>1026 LABS      </td><td>2017           </td><td>Applied_AI     </td><td>4              </td></tr>\n",
       "\t<tr><td><span style=white-space:pre-wrap>11 HEALTH &amp;    </span></td><td>2018                                                       </td><td>Applied_AI                                                 </td><td>1                                                          </td></tr>\n",
       "\t<tr><td>12 SIGMA       </td><td>2017           </td><td>Applied_AI     </td><td>1              </td></tr>\n",
       "\t<tr><td>12DX           </td><td>2014           </td><td>Applied_AI     </td><td>1              </td></tr>\n",
       "\t<tr><td>1QB INFORMATION</td><td>2017           </td><td>Applied_AI     </td><td>1              </td></tr>\n",
       "\t<tr><td>1QB INFORMATION</td><td>2018           </td><td>Applied_AI     </td><td>1              </td></tr>\n",
       "</tbody>\n",
       "</table>\n"
      ],
      "text/latex": [
       "\\begin{tabular}{r|llll}\n",
       " APPLICANT\\_MATCH\\_NAME & Year & GPT\\_Scope & Number\\_Patents\\\\\n",
       "\\hline\n",
       "\t 1026 LABS       & 2017            & Applied\\_AI    & 4              \\\\\n",
       "\t 11 HEALTH \\&     & 2018              & Applied\\_AI      & 1                \\\\\n",
       "\t 12 SIGMA        & 2017            & Applied\\_AI    & 1              \\\\\n",
       "\t 12DX            & 2014            & Applied\\_AI    & 1              \\\\\n",
       "\t 1QB INFORMATION & 2017            & Applied\\_AI    & 1              \\\\\n",
       "\t 1QB INFORMATION & 2018            & Applied\\_AI    & 1              \\\\\n",
       "\\end{tabular}\n"
      ],
      "text/markdown": [
       "\n",
       "| APPLICANT_MATCH_NAME | Year | GPT_Scope | Number_Patents |\n",
       "|---|---|---|---|\n",
       "| 1026 LABS       | 2017            | Applied_AI      | 4               |\n",
       "| 11 HEALTH &     | 2018            | Applied_AI      | 1               |\n",
       "| 12 SIGMA        | 2017            | Applied_AI      | 1               |\n",
       "| 12DX            | 2014            | Applied_AI      | 1               |\n",
       "| 1QB INFORMATION | 2017            | Applied_AI      | 1               |\n",
       "| 1QB INFORMATION | 2018            | Applied_AI      | 1               |\n",
       "\n"
      ],
      "text/plain": [
       "  APPLICANT_MATCH_NAME Year GPT_Scope  Number_Patents\n",
       "1 1026 LABS            2017 Applied_AI 4             \n",
       "2 11 HEALTH &          2018 Applied_AI 1             \n",
       "3 12 SIGMA             2017 Applied_AI 1             \n",
       "4 12DX                 2014 Applied_AI 1             \n",
       "5 1QB INFORMATION      2017 Applied_AI 1             \n",
       "6 1QB INFORMATION      2018 Applied_AI 1             "
      ]
     },
     "metadata": {},
     "output_type": "display_data"
    }
   ],
   "source": [
    "Avg_Application <- Industrial_Patent_Dataset[, keyby = .(APPLICANT_MATCH_NAME, Year, GPT_Scope),\n",
    "                                        .(Number_Patents = .N)]\n",
    "#Consistency Check\n",
    "length(unique(Avg_Application$APPLICANT_MATCH_NAME))\n",
    "sum(Avg_Application$Number_Patents)\n",
    "\n",
    "head(Avg_Application)"
   ]
  },
  {
   "cell_type": "code",
   "execution_count": 26,
   "metadata": {
    "scrolled": true
   },
   "outputs": [
    {
     "data": {
      "text/html": [
       "<table>\n",
       "<thead><tr><th scope=col>Year</th><th scope=col>GPT_Scope</th><th scope=col>Average_Patent</th></tr></thead>\n",
       "<tbody>\n",
       "\t<tr><td>1978      </td><td>Applied_AI</td><td>1.000000  </td></tr>\n",
       "\t<tr><td>1981      </td><td>Applied_AI</td><td>1.000000  </td></tr>\n",
       "\t<tr><td>1982      </td><td>Applied_AI</td><td>1.200000  </td></tr>\n",
       "\t<tr><td>1983      </td><td>Applied_AI</td><td>1.000000  </td></tr>\n",
       "\t<tr><td>1984      </td><td>Applied_AI</td><td>1.444444  </td></tr>\n",
       "\t<tr><td>1985      </td><td>Applied_AI</td><td>1.111111  </td></tr>\n",
       "\t<tr><td>1985      </td><td>Core_AI   </td><td>1.000000  </td></tr>\n",
       "\t<tr><td>1986      </td><td>Applied_AI</td><td>1.090909  </td></tr>\n",
       "\t<tr><td>1987      </td><td>Applied_AI</td><td>1.272727  </td></tr>\n",
       "\t<tr><td>1988      </td><td>Applied_AI</td><td>1.590909  </td></tr>\n",
       "\t<tr><td>1989      </td><td>Applied_AI</td><td>2.117647  </td></tr>\n",
       "\t<tr><td>1989      </td><td>Core_AI   </td><td>1.200000  </td></tr>\n",
       "\t<tr><td>1990      </td><td>Applied_AI</td><td>2.078125  </td></tr>\n",
       "\t<tr><td>1990      </td><td>Core_AI   </td><td>1.000000  </td></tr>\n",
       "\t<tr><td>1991      </td><td>Applied_AI</td><td>1.896104  </td></tr>\n",
       "\t<tr><td>1991      </td><td>Core_AI   </td><td>1.250000  </td></tr>\n",
       "\t<tr><td>1992      </td><td>Applied_AI</td><td>1.510870  </td></tr>\n",
       "\t<tr><td>1992      </td><td>Core_AI   </td><td>1.000000  </td></tr>\n",
       "\t<tr><td>1993      </td><td>Applied_AI</td><td>1.362069  </td></tr>\n",
       "\t<tr><td>1993      </td><td>Core_AI   </td><td>1.222222  </td></tr>\n",
       "</tbody>\n",
       "</table>\n"
      ],
      "text/latex": [
       "\\begin{tabular}{r|lll}\n",
       " Year & GPT\\_Scope & Average\\_Patent\\\\\n",
       "\\hline\n",
       "\t 1978         & Applied\\_AI & 1.000000    \\\\\n",
       "\t 1981         & Applied\\_AI & 1.000000    \\\\\n",
       "\t 1982         & Applied\\_AI & 1.200000    \\\\\n",
       "\t 1983         & Applied\\_AI & 1.000000    \\\\\n",
       "\t 1984         & Applied\\_AI & 1.444444    \\\\\n",
       "\t 1985         & Applied\\_AI & 1.111111    \\\\\n",
       "\t 1985         & Core\\_AI    & 1.000000    \\\\\n",
       "\t 1986         & Applied\\_AI & 1.090909    \\\\\n",
       "\t 1987         & Applied\\_AI & 1.272727    \\\\\n",
       "\t 1988         & Applied\\_AI & 1.590909    \\\\\n",
       "\t 1989         & Applied\\_AI & 2.117647    \\\\\n",
       "\t 1989         & Core\\_AI    & 1.200000    \\\\\n",
       "\t 1990         & Applied\\_AI & 2.078125    \\\\\n",
       "\t 1990         & Core\\_AI    & 1.000000    \\\\\n",
       "\t 1991         & Applied\\_AI & 1.896104    \\\\\n",
       "\t 1991         & Core\\_AI    & 1.250000    \\\\\n",
       "\t 1992         & Applied\\_AI & 1.510870    \\\\\n",
       "\t 1992         & Core\\_AI    & 1.000000    \\\\\n",
       "\t 1993         & Applied\\_AI & 1.362069    \\\\\n",
       "\t 1993         & Core\\_AI    & 1.222222    \\\\\n",
       "\\end{tabular}\n"
      ],
      "text/markdown": [
       "\n",
       "| Year | GPT_Scope | Average_Patent |\n",
       "|---|---|---|\n",
       "| 1978       | Applied_AI | 1.000000   |\n",
       "| 1981       | Applied_AI | 1.000000   |\n",
       "| 1982       | Applied_AI | 1.200000   |\n",
       "| 1983       | Applied_AI | 1.000000   |\n",
       "| 1984       | Applied_AI | 1.444444   |\n",
       "| 1985       | Applied_AI | 1.111111   |\n",
       "| 1985       | Core_AI    | 1.000000   |\n",
       "| 1986       | Applied_AI | 1.090909   |\n",
       "| 1987       | Applied_AI | 1.272727   |\n",
       "| 1988       | Applied_AI | 1.590909   |\n",
       "| 1989       | Applied_AI | 2.117647   |\n",
       "| 1989       | Core_AI    | 1.200000   |\n",
       "| 1990       | Applied_AI | 2.078125   |\n",
       "| 1990       | Core_AI    | 1.000000   |\n",
       "| 1991       | Applied_AI | 1.896104   |\n",
       "| 1991       | Core_AI    | 1.250000   |\n",
       "| 1992       | Applied_AI | 1.510870   |\n",
       "| 1992       | Core_AI    | 1.000000   |\n",
       "| 1993       | Applied_AI | 1.362069   |\n",
       "| 1993       | Core_AI    | 1.222222   |\n",
       "\n"
      ],
      "text/plain": [
       "   Year GPT_Scope  Average_Patent\n",
       "1  1978 Applied_AI 1.000000      \n",
       "2  1981 Applied_AI 1.000000      \n",
       "3  1982 Applied_AI 1.200000      \n",
       "4  1983 Applied_AI 1.000000      \n",
       "5  1984 Applied_AI 1.444444      \n",
       "6  1985 Applied_AI 1.111111      \n",
       "7  1985 Core_AI    1.000000      \n",
       "8  1986 Applied_AI 1.090909      \n",
       "9  1987 Applied_AI 1.272727      \n",
       "10 1988 Applied_AI 1.590909      \n",
       "11 1989 Applied_AI 2.117647      \n",
       "12 1989 Core_AI    1.200000      \n",
       "13 1990 Applied_AI 2.078125      \n",
       "14 1990 Core_AI    1.000000      \n",
       "15 1991 Applied_AI 1.896104      \n",
       "16 1991 Core_AI    1.250000      \n",
       "17 1992 Applied_AI 1.510870      \n",
       "18 1992 Core_AI    1.000000      \n",
       "19 1993 Applied_AI 1.362069      \n",
       "20 1993 Core_AI    1.222222      "
      ]
     },
     "metadata": {},
     "output_type": "display_data"
    }
   ],
   "source": [
    "Avg_Application <- Avg_Application[, keyby= c(\"Year\", \"GPT_Scope\"),\n",
    "                                   .(Average_Patent = mean(Number_Patents, na.rm = TRUE))]\n",
    "head(Avg_Application,20)"
   ]
  },
  {
   "cell_type": "code",
   "execution_count": 31,
   "metadata": {
    "scrolled": false
   },
   "outputs": [
    {
     "data": {
      "image/png": "[encoded data removed]",
      "text/plain": [
       "plot without title"
      ]
     },
     "metadata": {},
     "output_type": "display_data"
    }
   ],
   "source": [
    "Avg_Application_Trend <- ggplot(Avg_Application, aes(x = Year, y = Average_Patent)) + \n",
    "      labs(caption=\"Number of applicants: 6,807\\nNumber of patents: 19,602\\nIncludes patents with multiple applicants\\nDashed line: LOESS\") +\n",
    "      geom_line(aes(color=\"Core_AI\"), Avg_Application%>%filter(GPT_Scope==\"Core_AI\"), size=1) +\n",
    "      geom_line(aes(color=\"Applied_AI\"),Avg_Application %>%filter(GPT_Scope==\"Applied_AI\"), size=1) +\n",
    "      stat_smooth(method = \"loess\", formula = y ~ x, se = FALSE, alpha=0.3, color=\"black\", linetype=\"dashed\", size=0.5) + \n",
    "      scale_color_manual(name = \"GPT Scope\", \n",
    "                         values = c(\"Core_AI\" = \"darkgrey\", \"Applied_AI\" = \"deepskyblue4\"),\n",
    "                         labels=c(\"Applied AI\", \"Core AI\")) +\n",
    "      scale_x_continuous(name=NULL, breaks=seq(1978,2018,5), limits=c(1977,2019)) +\n",
    "      scale_y_continuous(name=\"Average Number of\\n Patent Applications\", breaks=seq(0,3,0.5), limits=c(0,3)) +\n",
    "      theme_bw()+\n",
    "      theme(legend.position = \"top\",legend.title=element_blank(),legend.margin=margin(0,0,0,0),\n",
    "            legend.box.margin=margin(-10,-10,-10,-10),legend.key = element_blank()) +\n",
    "      theme(plot.caption=element_text(family=\"sans\",size=8)) + \n",
    "      theme(axis.text.x = element_text(family=\"sans\",size=8, color=\"black\")) + \n",
    "      theme(axis.text.y = element_text(family=\"sans\",size=6, color=\"black\")) +\n",
    "      theme(axis.title.y=element_text(size=10))+\n",
    "      scale_linetype_manual(labels=c(\"Applied AI\", \"Core AI\"),\n",
    "                            values = c(\"Applied AI\"=2, \"Core AI\"=2))\n",
    "Avg_Application_Trend"
   ]
  },
  {
   "cell_type": "markdown",
   "metadata": {},
   "source": [
    "Export graph for Word Document"
   ]
  },
  {
   "cell_type": "code",
   "execution_count": null,
   "metadata": {},
   "outputs": [],
   "source": [
    "#In Jupyter Notebook code gives error but in RSutdio it works fine. \n",
    "ggsave(plot=Avg_Application_Trend,\n",
    "       filename=\"Avg_Application_Trend.png\",\n",
    "       type = \"cairo-png\",\n",
    "       path=\"F:/Thesis/Charts/Final/Research_Question_I\",\n",
    "       scale=1,\n",
    "       width=3.54,\n",
    "       height=(3.54*0.75),\n",
    "       units=c(\"in\"),\n",
    "       dpi=300)"
   ]
  },
  {
   "cell_type": "markdown",
   "metadata": {},
   "source": [
    "## 2.3) New Applicants per Year"
   ]
  },
  {
   "cell_type": "markdown",
   "metadata": {},
   "source": [
    "Identify for each unique Applicant the 1st patent application"
   ]
  },
  {
   "cell_type": "code",
   "execution_count": 32,
   "metadata": {},
   "outputs": [
    {
     "data": {
      "text/html": [
       "6807"
      ],
      "text/latex": [
       "6807"
      ],
      "text/markdown": [
       "6807"
      ],
      "text/plain": [
       "[1] 6807"
      ]
     },
     "metadata": {},
     "output_type": "display_data"
    },
    {
     "data": {
      "text/html": [
       "<table>\n",
       "<thead><tr><th scope=col>APPLICANT_MATCH_NAME</th><th scope=col>Patent_number</th><th scope=col>Application_Date</th><th scope=col>Clean_name</th><th scope=col>PDL_ORIGINAL_NAME</th><th scope=col>PDL_MATCH_NAME</th><th scope=col>METHOD</th><th scope=col>Person_ctry_code</th><th scope=col>COUNTRY</th><th scope=col>Applicant_Type</th><th scope=col>...</th><th scope=col>Publishing</th><th scope=col>Robotics</th><th scope=col>Search Methods</th><th scope=col>Security</th><th scope=col>Speech Processing</th><th scope=col>Telecommunications</th><th scope=col>Transportation</th><th scope=col>Field_Applications</th><th scope=col>Functional_Applications</th><th scope=col>Techniques</th></tr></thead>\n",
       "<tbody>\n",
       "\t<tr><td>SYSTRAN INSTITUT GES FUR FORSCHUNG &amp; ENTWICKLUNG MASCHINELLER SPRACHUBERSETZUNGSSYSTEME    </td><td>EP0012777                                                                                      </td><td>1978-12-30                                                                                     </td><td>SYSTRAN INSTITUT GES FUR FORSCHUNG &amp; ENTWICKLUNG MASCHINELLER SPRACHUBERSETZUNGSSYSTEME MBH</td><td><span style=white-space:pre-wrap>NA                  </span>                                   </td><td><span style=white-space:pre-wrap>NA            </span>                                         </td><td><span style=white-space:pre-wrap>NA          </span>                                           </td><td><span style=white-space:pre-wrap>GERMANY      </span>                                          </td><td><span style=white-space:pre-wrap>NA           </span>                                          </td><td>Enterprise                                                                                     </td><td>...                                                                                            </td><td>0                                                                                              </td><td>0                                                                                              </td><td>0                                                                                              </td><td>0                                                                                              </td><td>0                                                                                              </td><td>0                                                                                              </td><td>1                                                                                              </td><td>1                                                                                              </td><td>1                                                                                              </td><td>1                                                                                              </td></tr>\n",
       "\t<tr><td>IBM                                                                                        </td><td>EP0039393                                                                                  </td><td>1981-03-06                                                                                 </td><td>IBM CORP                                                                                   </td><td>IBM                                                                                        </td><td>IBM                                                                                        </td><td>Direct_Match                                                                               </td><td>UNITED STATES                                                                              </td><td>UNITED STATES                                                                              </td><td>Enterprise                                                                                 </td><td>...                                                                                        </td><td>0                                                                                          </td><td>0                                                                                          </td><td>0                                                                                          </td><td>0                                                                                          </td><td>0                                                                                          </td><td>0                                                                                          </td><td>0                                                                                          </td><td>1                                                                                          </td><td>1                                                                                          </td><td>1                                                                                          </td></tr>\n",
       "\t<tr><td>STEULER INDUSTRIEWERKE                                                                     </td><td>EP0059929                                                                                  </td><td>1982-03-03                                                                                 </td><td>STEULER INDUSTRIEWERKE GMBH                                                                </td><td>NA                                                                                         </td><td>NA                                                                                         </td><td>NA                                                                                         </td><td>GERMANY                                                                                    </td><td>NA                                                                                         </td><td>Enterprise                                                                                 </td><td>...                                                                                        </td><td>0                                                                                          </td><td>0                                                                                          </td><td>0                                                                                          </td><td>1                                                                                          </td><td>0                                                                                          </td><td>0                                                                                          </td><td>0                                                                                          </td><td>1                                                                                          </td><td>0                                                                                          </td><td>0                                                                                          </td></tr>\n",
       "\t<tr><td>UBE IND                                                                                    </td><td>EP0060671                                                                                  </td><td>1982-03-09                                                                                 </td><td>UBE IND LTD                                                                                </td><td>UBE INDUSTRIES, LTD.                                                                       </td><td>UBE INDUSTRIES                                                                             </td><td>Fuzzy_Match                                                                                </td><td>JAPAN                                                                                      </td><td>JAPAN                                                                                      </td><td>Enterprise                                                                                 </td><td>...                                                                                        </td><td>0                                                                                          </td><td>0                                                                                          </td><td>0                                                                                          </td><td>0                                                                                          </td><td>0                                                                                          </td><td>0                                                                                          </td><td>0                                                                                          </td><td>1                                                                                          </td><td>0                                                                                          </td><td>0                                                                                          </td></tr>\n",
       "\t<tr><td>NCR                                                                                        </td><td>EP0096712                                                                                  </td><td>1982-12-07                                                                                 </td><td>NCR CORP                                                                                   </td><td>NCR CORPORATION                                                                            </td><td>NCR                                                                                        </td><td>Direct_Match                                                                               </td><td>UNITED STATES                                                                              </td><td>UNITED STATES                                                                              </td><td>Enterprise                                                                                 </td><td>...                                                                                        </td><td>0                                                                                          </td><td>0                                                                                          </td><td>0                                                                                          </td><td>0                                                                                          </td><td>1                                                                                          </td><td>0                                                                                          </td><td>0                                                                                          </td><td>1                                                                                          </td><td>1                                                                                          </td><td>1                                                                                          </td></tr>\n",
       "\t<tr><td>EASTMAN KODAK                                                                              </td><td>EP0097689                                                                                  </td><td>1982-12-01                                                                                 </td><td>EASTMAN KODAK CO                                                                           </td><td>EASTMAN KODAK                                                                              </td><td>EASTMAN KODAK                                                                              </td><td>Direct_Match                                                                               </td><td>UNITED STATES                                                                              </td><td>UNITED STATES                                                                              </td><td>Enterprise                                                                                 </td><td>...                                                                                        </td><td>0                                                                                          </td><td>0                                                                                          </td><td>0                                                                                          </td><td>0                                                                                          </td><td>0                                                                                          </td><td>0                                                                                          </td><td>0                                                                                          </td><td>1                                                                                          </td><td>0                                                                                          </td><td>1                                                                                          </td></tr>\n",
       "</tbody>\n",
       "</table>\n"
      ],
      "text/latex": [
       "\\begin{tabular}{r|llllllllllllllllllllllllllllllllllllllllllllllllllllll}\n",
       " APPLICANT\\_MATCH\\_NAME & Patent\\_number & Application\\_Date & Clean\\_name & PDL\\_ORIGINAL\\_NAME & PDL\\_MATCH\\_NAME & METHOD & Person\\_ctry\\_code & COUNTRY & Applicant\\_Type & ... & Publishing & Robotics & Search Methods & Security & Speech Processing & Telecommunications & Transportation & Field\\_Applications & Functional\\_Applications & Techniques\\\\\n",
       "\\hline\n",
       "\t SYSTRAN INSTITUT GES FUR FORSCHUNG \\& ENTWICKLUNG MASCHINELLER SPRACHUBERSETZUNGSSYSTEME     & EP0012777                                                                                     & 1978-12-30                                                                                    & SYSTRAN INSTITUT GES FUR FORSCHUNG \\& ENTWICKLUNG MASCHINELLER SPRACHUBERSETZUNGSSYSTEME MBH & NA                                                                                            & NA                                                                                            & NA                                                                                            & GERMANY                                                                                       & NA                                                                                            & Enterprise                                                                                    & ...                                                                                           & 0                                                                                             & 0                                                                                             & 0                                                                                             & 0                                                                                             & 0                                                                                             & 0                                                                                             & 1                                                                                             & 1                                                                                             & 1                                                                                             & 1                                                                                            \\\\\n",
       "\t IBM                                                                                         & EP0039393                                                                                   & 1981-03-06                                                                                  & IBM CORP                                                                                    & IBM                                                                                         & IBM                                                                                         & Direct\\_Match                                                                              & UNITED STATES                                                                               & UNITED STATES                                                                               & Enterprise                                                                                  & ...                                                                                         & 0                                                                                           & 0                                                                                           & 0                                                                                           & 0                                                                                           & 0                                                                                           & 0                                                                                           & 0                                                                                           & 1                                                                                           & 1                                                                                           & 1                                                                                          \\\\\n",
       "\t STEULER INDUSTRIEWERKE                                                                      & EP0059929                                                                                   & 1982-03-03                                                                                  & STEULER INDUSTRIEWERKE GMBH                                                                 & NA                                                                                          & NA                                                                                          & NA                                                                                          & GERMANY                                                                                     & NA                                                                                          & Enterprise                                                                                  & ...                                                                                         & 0                                                                                           & 0                                                                                           & 0                                                                                           & 1                                                                                           & 0                                                                                           & 0                                                                                           & 0                                                                                           & 1                                                                                           & 0                                                                                           & 0                                                                                          \\\\\n",
       "\t UBE IND                                                                                     & EP0060671                                                                                   & 1982-03-09                                                                                  & UBE IND LTD                                                                                 & UBE INDUSTRIES, LTD.                                                                        & UBE INDUSTRIES                                                                              & Fuzzy\\_Match                                                                               & JAPAN                                                                                       & JAPAN                                                                                       & Enterprise                                                                                  & ...                                                                                         & 0                                                                                           & 0                                                                                           & 0                                                                                           & 0                                                                                           & 0                                                                                           & 0                                                                                           & 0                                                                                           & 1                                                                                           & 0                                                                                           & 0                                                                                          \\\\\n",
       "\t NCR                                                                                         & EP0096712                                                                                   & 1982-12-07                                                                                  & NCR CORP                                                                                    & NCR CORPORATION                                                                             & NCR                                                                                         & Direct\\_Match                                                                              & UNITED STATES                                                                               & UNITED STATES                                                                               & Enterprise                                                                                  & ...                                                                                         & 0                                                                                           & 0                                                                                           & 0                                                                                           & 0                                                                                           & 1                                                                                           & 0                                                                                           & 0                                                                                           & 1                                                                                           & 1                                                                                           & 1                                                                                          \\\\\n",
       "\t EASTMAN KODAK                                                                               & EP0097689                                                                                   & 1982-12-01                                                                                  & EASTMAN KODAK CO                                                                            & EASTMAN KODAK                                                                               & EASTMAN KODAK                                                                               & Direct\\_Match                                                                              & UNITED STATES                                                                               & UNITED STATES                                                                               & Enterprise                                                                                  & ...                                                                                         & 0                                                                                           & 0                                                                                           & 0                                                                                           & 0                                                                                           & 0                                                                                           & 0                                                                                           & 0                                                                                           & 1                                                                                           & 0                                                                                           & 1                                                                                          \\\\\n",
       "\\end{tabular}\n"
      ],
      "text/markdown": [
       "\n",
       "| APPLICANT_MATCH_NAME | Patent_number | Application_Date | Clean_name | PDL_ORIGINAL_NAME | PDL_MATCH_NAME | METHOD | Person_ctry_code | COUNTRY | Applicant_Type | ... | Publishing | Robotics | Search Methods | Security | Speech Processing | Telecommunications | Transportation | Field_Applications | Functional_Applications | Techniques |\n",
       "|---|---|---|---|---|---|---|---|---|---|---|---|---|---|---|---|---|---|---|---|---|\n",
       "| SYSTRAN INSTITUT GES FUR FORSCHUNG & ENTWICKLUNG MASCHINELLER SPRACHUBERSETZUNGSSYSTEME     | EP0012777                                                                                   | 1978-12-30                                                                                  | SYSTRAN INSTITUT GES FUR FORSCHUNG & ENTWICKLUNG MASCHINELLER SPRACHUBERSETZUNGSSYSTEME MBH | NA                                                                                          | NA                                                                                          | NA                                                                                          | GERMANY                                                                                     | NA                                                                                          | Enterprise                                                                                  | ...                                                                                         | 0                                                                                           | 0                                                                                           | 0                                                                                           | 0                                                                                           | 0                                                                                           | 0                                                                                           | 1                                                                                           | 1                                                                                           | 1                                                                                           | 1                                                                                           |\n",
       "| IBM                                                                                         | EP0039393                                                                                   | 1981-03-06                                                                                  | IBM CORP                                                                                    | IBM                                                                                         | IBM                                                                                         | Direct_Match                                                                                | UNITED STATES                                                                               | UNITED STATES                                                                               | Enterprise                                                                                  | ...                                                                                         | 0                                                                                           | 0                                                                                           | 0                                                                                           | 0                                                                                           | 0                                                                                           | 0                                                                                           | 0                                                                                           | 1                                                                                           | 1                                                                                           | 1                                                                                           |\n",
       "| STEULER INDUSTRIEWERKE                                                                      | EP0059929                                                                                   | 1982-03-03                                                                                  | STEULER INDUSTRIEWERKE GMBH                                                                 | NA                                                                                          | NA                                                                                          | NA                                                                                          | GERMANY                                                                                     | NA                                                                                          | Enterprise                                                                                  | ...                                                                                         | 0                                                                                           | 0                                                                                           | 0                                                                                           | 1                                                                                           | 0                                                                                           | 0                                                                                           | 0                                                                                           | 1                                                                                           | 0                                                                                           | 0                                                                                           |\n",
       "| UBE IND                                                                                     | EP0060671                                                                                   | 1982-03-09                                                                                  | UBE IND LTD                                                                                 | UBE INDUSTRIES, LTD.                                                                        | UBE INDUSTRIES                                                                              | Fuzzy_Match                                                                                 | JAPAN                                                                                       | JAPAN                                                                                       | Enterprise                                                                                  | ...                                                                                         | 0                                                                                           | 0                                                                                           | 0                                                                                           | 0                                                                                           | 0                                                                                           | 0                                                                                           | 0                                                                                           | 1                                                                                           | 0                                                                                           | 0                                                                                           |\n",
       "| NCR                                                                                         | EP0096712                                                                                   | 1982-12-07                                                                                  | NCR CORP                                                                                    | NCR CORPORATION                                                                             | NCR                                                                                         | Direct_Match                                                                                | UNITED STATES                                                                               | UNITED STATES                                                                               | Enterprise                                                                                  | ...                                                                                         | 0                                                                                           | 0                                                                                           | 0                                                                                           | 0                                                                                           | 1                                                                                           | 0                                                                                           | 0                                                                                           | 1                                                                                           | 1                                                                                           | 1                                                                                           |\n",
       "| EASTMAN KODAK                                                                               | EP0097689                                                                                   | 1982-12-01                                                                                  | EASTMAN KODAK CO                                                                            | EASTMAN KODAK                                                                               | EASTMAN KODAK                                                                               | Direct_Match                                                                                | UNITED STATES                                                                               | UNITED STATES                                                                               | Enterprise                                                                                  | ...                                                                                         | 0                                                                                           | 0                                                                                           | 0                                                                                           | 0                                                                                           | 0                                                                                           | 0                                                                                           | 0                                                                                           | 1                                                                                           | 0                                                                                           | 1                                                                                           |\n",
       "\n"
      ],
      "text/plain": [
       "  APPLICANT_MATCH_NAME                                                                   \n",
       "1 SYSTRAN INSTITUT GES FUR FORSCHUNG & ENTWICKLUNG MASCHINELLER SPRACHUBERSETZUNGSSYSTEME\n",
       "2 IBM                                                                                    \n",
       "3 STEULER INDUSTRIEWERKE                                                                 \n",
       "4 UBE IND                                                                                \n",
       "5 NCR                                                                                    \n",
       "6 EASTMAN KODAK                                                                          \n",
       "  Patent_number Application_Date\n",
       "1 EP0012777     1978-12-30      \n",
       "2 EP0039393     1981-03-06      \n",
       "3 EP0059929     1982-03-03      \n",
       "4 EP0060671     1982-03-09      \n",
       "5 EP0096712     1982-12-07      \n",
       "6 EP0097689     1982-12-01      \n",
       "  Clean_name                                                                                 \n",
       "1 SYSTRAN INSTITUT GES FUR FORSCHUNG & ENTWICKLUNG MASCHINELLER SPRACHUBERSETZUNGSSYSTEME MBH\n",
       "2 IBM CORP                                                                                   \n",
       "3 STEULER INDUSTRIEWERKE GMBH                                                                \n",
       "4 UBE IND LTD                                                                                \n",
       "5 NCR CORP                                                                                   \n",
       "6 EASTMAN KODAK CO                                                                           \n",
       "  PDL_ORIGINAL_NAME    PDL_MATCH_NAME METHOD       Person_ctry_code\n",
       "1 NA                   NA             NA           GERMANY         \n",
       "2 IBM                  IBM            Direct_Match UNITED STATES   \n",
       "3 NA                   NA             NA           GERMANY         \n",
       "4 UBE INDUSTRIES, LTD. UBE INDUSTRIES Fuzzy_Match  JAPAN           \n",
       "5 NCR CORPORATION      NCR            Direct_Match UNITED STATES   \n",
       "6 EASTMAN KODAK        EASTMAN KODAK  Direct_Match UNITED STATES   \n",
       "  COUNTRY       Applicant_Type ... Publishing Robotics Search Methods Security\n",
       "1 NA            Enterprise     ... 0          0        0              0       \n",
       "2 UNITED STATES Enterprise     ... 0          0        0              0       \n",
       "3 NA            Enterprise     ... 0          0        0              1       \n",
       "4 JAPAN         Enterprise     ... 0          0        0              0       \n",
       "5 UNITED STATES Enterprise     ... 0          0        0              0       \n",
       "6 UNITED STATES Enterprise     ... 0          0        0              0       \n",
       "  Speech Processing Telecommunications Transportation Field_Applications\n",
       "1 0                 0                  1              1                 \n",
       "2 0                 0                  0              1                 \n",
       "3 0                 0                  0              1                 \n",
       "4 0                 0                  0              1                 \n",
       "5 1                 0                  0              1                 \n",
       "6 0                 0                  0              1                 \n",
       "  Functional_Applications Techniques\n",
       "1 1                       1         \n",
       "2 1                       1         \n",
       "3 0                       0         \n",
       "4 0                       0         \n",
       "5 1                       1         \n",
       "6 0                       1         "
      ]
     },
     "metadata": {},
     "output_type": "display_data"
    }
   ],
   "source": [
    "setorder(Industrial_Patent_Dataset,Year)\n",
    "New_Applicant <- Industrial_Patent_Dataset[, .SD[1], by = APPLICANT_MATCH_NAME]\n",
    "\n",
    "#Consistency Check should match the number of unique applicants\n",
    "nrow(New_Applicant)\n",
    "\n",
    "head(New_Applicant)"
   ]
  },
  {
   "cell_type": "markdown",
   "metadata": {},
   "source": [
    "Group per year and distinguish between Applied and Core AI"
   ]
  },
  {
   "cell_type": "code",
   "execution_count": 33,
   "metadata": {},
   "outputs": [
    {
     "data": {
      "text/html": [
       "<table>\n",
       "<thead><tr><th scope=col>Year</th><th scope=col>GPT_Scope</th><th scope=col>New_Applicant</th></tr></thead>\n",
       "<tbody>\n",
       "\t<tr><td>1978      </td><td>Applied_AI</td><td>1         </td></tr>\n",
       "\t<tr><td>1981      </td><td>Applied_AI</td><td>1         </td></tr>\n",
       "\t<tr><td>1982      </td><td>Applied_AI</td><td>5         </td></tr>\n",
       "\t<tr><td>1983      </td><td>Applied_AI</td><td>2         </td></tr>\n",
       "\t<tr><td>1984      </td><td>Applied_AI</td><td>9         </td></tr>\n",
       "\t<tr><td>1985      </td><td>Applied_AI</td><td>6         </td></tr>\n",
       "</tbody>\n",
       "</table>\n"
      ],
      "text/latex": [
       "\\begin{tabular}{r|lll}\n",
       " Year & GPT\\_Scope & New\\_Applicant\\\\\n",
       "\\hline\n",
       "\t 1978         & Applied\\_AI & 1           \\\\\n",
       "\t 1981         & Applied\\_AI & 1           \\\\\n",
       "\t 1982         & Applied\\_AI & 5           \\\\\n",
       "\t 1983         & Applied\\_AI & 2           \\\\\n",
       "\t 1984         & Applied\\_AI & 9           \\\\\n",
       "\t 1985         & Applied\\_AI & 6           \\\\\n",
       "\\end{tabular}\n"
      ],
      "text/markdown": [
       "\n",
       "| Year | GPT_Scope | New_Applicant |\n",
       "|---|---|---|\n",
       "| 1978       | Applied_AI | 1          |\n",
       "| 1981       | Applied_AI | 1          |\n",
       "| 1982       | Applied_AI | 5          |\n",
       "| 1983       | Applied_AI | 2          |\n",
       "| 1984       | Applied_AI | 9          |\n",
       "| 1985       | Applied_AI | 6          |\n",
       "\n"
      ],
      "text/plain": [
       "  Year GPT_Scope  New_Applicant\n",
       "1 1978 Applied_AI 1            \n",
       "2 1981 Applied_AI 1            \n",
       "3 1982 Applied_AI 5            \n",
       "4 1983 Applied_AI 2            \n",
       "5 1984 Applied_AI 9            \n",
       "6 1985 Applied_AI 6            "
      ]
     },
     "metadata": {},
     "output_type": "display_data"
    }
   ],
   "source": [
    "New_Applicant <- New_Applicant[,.N, by=c(\"Year\",\"GPT_Scope\")]\n",
    "colnames(New_Applicant)[3] <- \"New_Applicant\"\n",
    "\n",
    "head(New_Applicant)"
   ]
  },
  {
   "cell_type": "code",
   "execution_count": 34,
   "metadata": {},
   "outputs": [
    {
     "data": {
      "text/html": [
       "6.1"
      ],
      "text/latex": [
       "6.1"
      ],
      "text/markdown": [
       "6.1"
      ],
      "text/plain": [
       "[1] 6.1"
      ]
     },
     "metadata": {},
     "output_type": "display_data"
    },
    {
     "data": {
      "text/html": [
       "33.2"
      ],
      "text/latex": [
       "33.2"
      ],
      "text/markdown": [
       "33.2"
      ],
      "text/plain": [
       "[1] 33.2"
      ]
     },
     "metadata": {},
     "output_type": "display_data"
    },
    {
     "data": {
      "text/html": [
       "103.5"
      ],
      "text/latex": [
       "103.5"
      ],
      "text/markdown": [
       "103.5"
      ],
      "text/plain": [
       "[1] 103.5"
      ]
     },
     "metadata": {},
     "output_type": "display_data"
    },
    {
     "data": {
      "text/html": [
       "<table>\n",
       "<thead><tr><th scope=col>Year</th><th scope=col>GPT_Scope</th><th scope=col>New_Applicant</th></tr></thead>\n",
       "<tbody>\n",
       "\t<tr><td>2018      </td><td>Applied_AI</td><td>854       </td></tr>\n",
       "\t<tr><td>2018      </td><td>Core_AI   </td><td> 43       </td></tr>\n",
       "</tbody>\n",
       "</table>\n"
      ],
      "text/latex": [
       "\\begin{tabular}{r|lll}\n",
       " Year & GPT\\_Scope & New\\_Applicant\\\\\n",
       "\\hline\n",
       "\t 2018         & Applied\\_AI & 854         \\\\\n",
       "\t 2018         & Core\\_AI    &  43         \\\\\n",
       "\\end{tabular}\n"
      ],
      "text/markdown": [
       "\n",
       "| Year | GPT_Scope | New_Applicant |\n",
       "|---|---|---|\n",
       "| 2018       | Applied_AI | 854        |\n",
       "| 2018       | Core_AI    |  43        |\n",
       "\n"
      ],
      "text/plain": [
       "  Year GPT_Scope  New_Applicant\n",
       "1 2018 Applied_AI 854          \n",
       "2 2018 Core_AI     43          "
      ]
     },
     "metadata": {},
     "output_type": "display_data"
    }
   ],
   "source": [
    "mean(New_Applicant[Year<=1988 ,New_Applicant])\n",
    "mean(New_Applicant[Year>1988 & Year<=1998,New_Applicant])\n",
    "mean(New_Applicant[Year>1998 & Year<=2012,New_Applicant])\n",
    "New_Applicant[Year==2018,]"
   ]
  },
  {
   "cell_type": "code",
   "execution_count": 35,
   "metadata": {},
   "outputs": [
    {
     "data": {
      "image/png": "[encoded data removed]",
      "text/plain": [
       "plot without title"
      ]
     },
     "metadata": {},
     "output_type": "display_data"
    }
   ],
   "source": [
    "New_Applicants_per_Year<- ggplot(New_Applicant, aes(x=Year, y=New_Applicant, fill=GPT_Scope)) +\n",
    "      labs(caption=\"Number of applicants: 6,807\") +\n",
    "      geom_bar(stat=\"identity\") +\n",
    "      geom_segment(aes(x=1988, xend=1988, y=0, yend=500), color = \"black\", size=0.25, linetype=\"dashed\") +\n",
    "      geom_segment(aes(x=1998, xend=1998, y=0, yend=500), color = \"black\", size=0.25, linetype=\"dashed\") +\n",
    "      geom_segment(aes(x=2012, xend=2012, y=0, yend=500), color = \"black\", size=0.25, linetype=\"dashed\") +\n",
    "      theme_bw() +\n",
    "      theme(legend.position = \"top\",legend.title=element_blank(),legend.margin=margin(0,0,0,0),\n",
    "            legend.box.margin=margin(-5,-5,-5,-5),legend.key.size=unit(\"0.25\",\"cm\")) + \n",
    "      theme(plot.caption=element_text(family=\"sans\",size=8)) + \n",
    "      theme(axis.text.x = element_text(family=\"sans\",size=8, color=\"black\")) + \n",
    "      theme(axis.text.y = element_text(family=\"sans\",size=8, color=\"black\")) +\n",
    "      theme(axis.title.y=element_text(size=10)) + \n",
    "      scale_fill_manual(values=c(\"deepskyblue4\", \"darkgrey\"), name = \"GPT Scope\", labels = c(\"Applied AI\", \"Core AI\")) +\n",
    "      scale_x_continuous(name=NULL, breaks=seq(1978,2018,5), limits = c(1977,2019)) +\n",
    "      scale_y_continuous(name=\"Number of New Applicants\\n per Year\", breaks=seq(0,1000,250), limits=c(0,1000),\n",
    "                         labels=function(x) format(x, big.mark = \",\", decimal.mark = \".\", scientific = FALSE))\n",
    "New_Applicants_per_Year"
   ]
  },
  {
   "cell_type": "markdown",
   "metadata": {},
   "source": [
    "Export graph for Word Document"
   ]
  },
  {
   "cell_type": "code",
   "execution_count": null,
   "metadata": {},
   "outputs": [],
   "source": [
    "#In Jupyter Notebook code gives error but in RSutdio it works fine. \n",
    "ggsave(plot=New_Applicants_per_Year,\n",
    "       filename=\"New_Applicants_per_Year.png\",\n",
    "       type = \"cairo-png\",\n",
    "       path=\"F:/Thesis/Charts/Final/Research_Question_I\",\n",
    "       scale=1,\n",
    "       width=3.54,\n",
    "       height=(3.54*0.75),\n",
    "       units=c(\"in\"),\n",
    "       dpi=300)"
   ]
  },
  {
   "cell_type": "markdown",
   "metadata": {},
   "source": [
    "## 2.4) Share of New Applicants per Year"
   ]
  },
  {
   "cell_type": "markdown",
   "metadata": {},
   "source": [
    "Merge 'New_Applicant' table with 'ByDate_Applicant' table to calculate share of applicants that are new per year"
   ]
  },
  {
   "cell_type": "code",
   "execution_count": 36,
   "metadata": {},
   "outputs": [
    {
     "data": {
      "text/html": [
       "<table>\n",
       "<thead><tr><th scope=col>Year</th><th scope=col>GPT_Scope</th><th scope=col>Number_Applicants</th><th scope=col>New_Applicant</th></tr></thead>\n",
       "<tbody>\n",
       "\t<tr><td>1978      </td><td>Applied_AI</td><td>1         </td><td>1         </td></tr>\n",
       "\t<tr><td>1981      </td><td>Applied_AI</td><td>1         </td><td>1         </td></tr>\n",
       "\t<tr><td>1982      </td><td>Applied_AI</td><td>5         </td><td>5         </td></tr>\n",
       "\t<tr><td>1983      </td><td>Applied_AI</td><td>3         </td><td>2         </td></tr>\n",
       "\t<tr><td>1984      </td><td>Applied_AI</td><td>9         </td><td>9         </td></tr>\n",
       "\t<tr><td>1985      </td><td>Applied_AI</td><td>9         </td><td>6         </td></tr>\n",
       "</tbody>\n",
       "</table>\n"
      ],
      "text/latex": [
       "\\begin{tabular}{r|llll}\n",
       " Year & GPT\\_Scope & Number\\_Applicants & New\\_Applicant\\\\\n",
       "\\hline\n",
       "\t 1978         & Applied\\_AI & 1            & 1           \\\\\n",
       "\t 1981         & Applied\\_AI & 1            & 1           \\\\\n",
       "\t 1982         & Applied\\_AI & 5            & 5           \\\\\n",
       "\t 1983         & Applied\\_AI & 3            & 2           \\\\\n",
       "\t 1984         & Applied\\_AI & 9            & 9           \\\\\n",
       "\t 1985         & Applied\\_AI & 9            & 6           \\\\\n",
       "\\end{tabular}\n"
      ],
      "text/markdown": [
       "\n",
       "| Year | GPT_Scope | Number_Applicants | New_Applicant |\n",
       "|---|---|---|---|\n",
       "| 1978       | Applied_AI | 1          | 1          |\n",
       "| 1981       | Applied_AI | 1          | 1          |\n",
       "| 1982       | Applied_AI | 5          | 5          |\n",
       "| 1983       | Applied_AI | 3          | 2          |\n",
       "| 1984       | Applied_AI | 9          | 9          |\n",
       "| 1985       | Applied_AI | 9          | 6          |\n",
       "\n"
      ],
      "text/plain": [
       "  Year GPT_Scope  Number_Applicants New_Applicant\n",
       "1 1978 Applied_AI 1                 1            \n",
       "2 1981 Applied_AI 1                 1            \n",
       "3 1982 Applied_AI 5                 5            \n",
       "4 1983 Applied_AI 3                 2            \n",
       "5 1984 Applied_AI 9                 9            \n",
       "6 1985 Applied_AI 9                 6            "
      ]
     },
     "metadata": {},
     "output_type": "display_data"
    }
   ],
   "source": [
    "setkey(New_Applicant, Year, GPT_Scope)\n",
    "setkey(ByDate_Applicant, Year, GPT_Scope)\n",
    "\n",
    "Share_New_Applicants <- ByDate_Applicant[New_Applicant]\n",
    "\n",
    "head(Share_New_Applicants)"
   ]
  },
  {
   "cell_type": "markdown",
   "metadata": {},
   "source": [
    "Calculate Share of New Applicants"
   ]
  },
  {
   "cell_type": "code",
   "execution_count": 37,
   "metadata": {},
   "outputs": [
    {
     "data": {
      "text/html": [
       "<table>\n",
       "<thead><tr><th scope=col>Year</th><th scope=col>GPT_Scope</th><th scope=col>Number_Applicants</th><th scope=col>New_Applicant</th><th scope=col>Share_New</th></tr></thead>\n",
       "<tbody>\n",
       "\t<tr><td>1978      </td><td>Applied_AI</td><td>1         </td><td>1         </td><td>1.0000000 </td></tr>\n",
       "\t<tr><td>1981      </td><td>Applied_AI</td><td>1         </td><td>1         </td><td>1.0000000 </td></tr>\n",
       "\t<tr><td>1982      </td><td>Applied_AI</td><td>5         </td><td>5         </td><td>1.0000000 </td></tr>\n",
       "\t<tr><td>1983      </td><td>Applied_AI</td><td>3         </td><td>2         </td><td>0.6666667 </td></tr>\n",
       "\t<tr><td>1984      </td><td>Applied_AI</td><td>9         </td><td>9         </td><td>1.0000000 </td></tr>\n",
       "\t<tr><td>1985      </td><td>Applied_AI</td><td>9         </td><td>6         </td><td>0.6666667 </td></tr>\n",
       "</tbody>\n",
       "</table>\n"
      ],
      "text/latex": [
       "\\begin{tabular}{r|lllll}\n",
       " Year & GPT\\_Scope & Number\\_Applicants & New\\_Applicant & Share\\_New\\\\\n",
       "\\hline\n",
       "\t 1978         & Applied\\_AI & 1            & 1            & 1.0000000   \\\\\n",
       "\t 1981         & Applied\\_AI & 1            & 1            & 1.0000000   \\\\\n",
       "\t 1982         & Applied\\_AI & 5            & 5            & 1.0000000   \\\\\n",
       "\t 1983         & Applied\\_AI & 3            & 2            & 0.6666667   \\\\\n",
       "\t 1984         & Applied\\_AI & 9            & 9            & 1.0000000   \\\\\n",
       "\t 1985         & Applied\\_AI & 9            & 6            & 0.6666667   \\\\\n",
       "\\end{tabular}\n"
      ],
      "text/markdown": [
       "\n",
       "| Year | GPT_Scope | Number_Applicants | New_Applicant | Share_New |\n",
       "|---|---|---|---|---|\n",
       "| 1978       | Applied_AI | 1          | 1          | 1.0000000  |\n",
       "| 1981       | Applied_AI | 1          | 1          | 1.0000000  |\n",
       "| 1982       | Applied_AI | 5          | 5          | 1.0000000  |\n",
       "| 1983       | Applied_AI | 3          | 2          | 0.6666667  |\n",
       "| 1984       | Applied_AI | 9          | 9          | 1.0000000  |\n",
       "| 1985       | Applied_AI | 9          | 6          | 0.6666667  |\n",
       "\n"
      ],
      "text/plain": [
       "  Year GPT_Scope  Number_Applicants New_Applicant Share_New\n",
       "1 1978 Applied_AI 1                 1             1.0000000\n",
       "2 1981 Applied_AI 1                 1             1.0000000\n",
       "3 1982 Applied_AI 5                 5             1.0000000\n",
       "4 1983 Applied_AI 3                 2             0.6666667\n",
       "5 1984 Applied_AI 9                 9             1.0000000\n",
       "6 1985 Applied_AI 9                 6             0.6666667"
      ]
     },
     "metadata": {},
     "output_type": "display_data"
    }
   ],
   "source": [
    "Share_New_Applicants <- Share_New_Applicants[, Share_New := New_Applicant/Number_Applicants]\n",
    "\n",
    "head(Share_New_Applicants)"
   ]
  },
  {
   "cell_type": "code",
   "execution_count": 38,
   "metadata": {
    "scrolled": true
   },
   "outputs": [
    {
     "data": {
      "text/plain": [
       "   Min. 1st Qu.  Median    Mean 3rd Qu.    Max. \n",
       " 0.5560  0.6042  0.6239  0.6852  0.7230  1.0000 "
      ]
     },
     "metadata": {},
     "output_type": "display_data"
    },
    {
     "data": {
      "text/plain": [
       "   Min. 1st Qu.  Median    Mean 3rd Qu.    Max. \n",
       " 0.2000  0.3452  0.4135  0.4451  0.5000  1.0000 "
      ]
     },
     "metadata": {},
     "output_type": "display_data"
    }
   ],
   "source": [
    "summary(Share_New_Applicants[GPT_Scope==\"Applied_AI\",Share_New])\n",
    "summary(Share_New_Applicants[GPT_Scope==\"Core_AI\",Share_New])"
   ]
  },
  {
   "cell_type": "code",
   "execution_count": 39,
   "metadata": {},
   "outputs": [
    {
     "data": {
      "image/png": "[encoded data removed]",
      "text/plain": [
       "plot without title"
      ]
     },
     "metadata": {},
     "output_type": "display_data"
    }
   ],
   "source": [
    "Share_New_Applicants_Chart<- ggplot(Share_New_Applicants, aes(x=Year, y=Share_New, color=GPT_Scope)) +\n",
    "      labs(caption=\"Dashed line: LOESS\") +\n",
    "      geom_line(size=1) +\n",
    "      stat_smooth(method = \"loess\", formula = y ~ x, se = FALSE, alpha=0.3, color=\"black\", linetype=\"dashed\", size=0.5) + \n",
    "      theme_bw() +\n",
    "      theme(legend.position = \"top\",legend.title=element_blank(),legend.margin=margin(0,0,0,0),\n",
    "            legend.box.margin=margin(-5,-5,-5,-5),legend.key.size=unit(\"0.25\",\"cm\")) + \n",
    "      theme(plot.caption=element_text(family=\"sans\",size=8)) + \n",
    "      theme(axis.text.x = element_text(family=\"sans\",size=8, color=\"black\")) + \n",
    "      theme(axis.text.y = element_text(family=\"sans\",size=8, color=\"black\")) +\n",
    "      theme(axis.title.y=element_text(size=10)) + \n",
    "      scale_color_manual(values=c(\"deepskyblue4\", \"darkgrey\"), name = \"GPT Scope\", labels = c(\"Applied AI\", \"Core AI\")) +\n",
    "      scale_x_continuous(name=NULL, breaks=seq(1978,2018,5), limits = c(1977,2019)) +\n",
    "      scale_y_continuous(name=\"Share of New Applicants per Year\",\n",
    "                         labels = percent_format(), limits=c(0,1), breaks=seq(0,1,0.2))\n",
    "Share_New_Applicants_Chart"
   ]
  },
  {
   "cell_type": "markdown",
   "metadata": {},
   "source": [
    "Export graph for Word Document "
   ]
  },
  {
   "cell_type": "code",
   "execution_count": null,
   "metadata": {},
   "outputs": [],
   "source": [
    "#In Jupyter Notebook code gives error but in RSutdio it works fine.\n",
    "ggsave(plot=Share_New_Applicants_Chart,\n",
    "       filename=\"Share_New_Applicants_Chart.png\",\n",
    "       type = \"cairo-png\",\n",
    "       path=\"F:/Thesis/Charts/Final/Research_Question_I\",\n",
    "       scale=1,\n",
    "       width=5,\n",
    "       height=(5*0.75),\n",
    "       units=c(\"in\"),\n",
    "       dpi=300)"
   ]
  },
  {
   "cell_type": "markdown",
   "metadata": {},
   "source": [
    "## 2.5) First Application Rate"
   ]
  },
  {
   "cell_type": "markdown",
   "metadata": {},
   "source": [
    "Combined GPT_ByYear and Fisrt_Application already created"
   ]
  },
  {
   "cell_type": "code",
   "execution_count": 40,
   "metadata": {},
   "outputs": [
    {
     "data": {
      "text/html": [
       "<table>\n",
       "<thead><tr><th scope=col>Year</th><th scope=col>GPT_Scope</th><th scope=col>Number_Patents</th><th scope=col>New_Applicant</th></tr></thead>\n",
       "<tbody>\n",
       "\t<tr><td>1978      </td><td>Applied_AI</td><td> 1        </td><td>1         </td></tr>\n",
       "\t<tr><td>1981      </td><td>Applied_AI</td><td> 1        </td><td>1         </td></tr>\n",
       "\t<tr><td>1982      </td><td>Applied_AI</td><td> 6        </td><td>5         </td></tr>\n",
       "\t<tr><td>1983      </td><td>Applied_AI</td><td> 3        </td><td>2         </td></tr>\n",
       "\t<tr><td>1984      </td><td>Applied_AI</td><td>10        </td><td>9         </td></tr>\n",
       "\t<tr><td>1985      </td><td>Applied_AI</td><td>10        </td><td>6         </td></tr>\n",
       "</tbody>\n",
       "</table>\n"
      ],
      "text/latex": [
       "\\begin{tabular}{r|llll}\n",
       " Year & GPT\\_Scope & Number\\_Patents & New\\_Applicant\\\\\n",
       "\\hline\n",
       "\t 1978         & Applied\\_AI &  1           & 1           \\\\\n",
       "\t 1981         & Applied\\_AI &  1           & 1           \\\\\n",
       "\t 1982         & Applied\\_AI &  6           & 5           \\\\\n",
       "\t 1983         & Applied\\_AI &  3           & 2           \\\\\n",
       "\t 1984         & Applied\\_AI & 10           & 9           \\\\\n",
       "\t 1985         & Applied\\_AI & 10           & 6           \\\\\n",
       "\\end{tabular}\n"
      ],
      "text/markdown": [
       "\n",
       "| Year | GPT_Scope | Number_Patents | New_Applicant |\n",
       "|---|---|---|---|\n",
       "| 1978       | Applied_AI |  1         | 1          |\n",
       "| 1981       | Applied_AI |  1         | 1          |\n",
       "| 1982       | Applied_AI |  6         | 5          |\n",
       "| 1983       | Applied_AI |  3         | 2          |\n",
       "| 1984       | Applied_AI | 10         | 9          |\n",
       "| 1985       | Applied_AI | 10         | 6          |\n",
       "\n"
      ],
      "text/plain": [
       "  Year GPT_Scope  Number_Patents New_Applicant\n",
       "1 1978 Applied_AI  1             1            \n",
       "2 1981 Applied_AI  1             1            \n",
       "3 1982 Applied_AI  6             5            \n",
       "4 1983 Applied_AI  3             2            \n",
       "5 1984 Applied_AI 10             9            \n",
       "6 1985 Applied_AI 10             6            "
      ]
     },
     "metadata": {},
     "output_type": "display_data"
    }
   ],
   "source": [
    "setkey(New_Applicant, Year, GPT_Scope)\n",
    "setkey(GPT_ByYear, Year, GPT_Scope)\n",
    "First_Application_Rate <- GPT_ByYear[New_Applicant]\n",
    "\n",
    "head(First_Application_Rate)"
   ]
  },
  {
   "cell_type": "markdown",
   "metadata": {},
   "source": [
    "Calculate the share of patent applicatiosn that represent the 1st application of the corresponding applicant"
   ]
  },
  {
   "cell_type": "code",
   "execution_count": 41,
   "metadata": {},
   "outputs": [
    {
     "data": {
      "text/html": [
       "<table>\n",
       "<thead><tr><th scope=col>Year</th><th scope=col>GPT_Scope</th><th scope=col>Number_Patents</th><th scope=col>New_Applicant</th><th scope=col>First_Patent_Rate</th></tr></thead>\n",
       "<tbody>\n",
       "\t<tr><td>1978      </td><td>Applied_AI</td><td> 1        </td><td>1         </td><td>1.0000000 </td></tr>\n",
       "\t<tr><td>1981      </td><td>Applied_AI</td><td> 1        </td><td>1         </td><td>1.0000000 </td></tr>\n",
       "\t<tr><td>1982      </td><td>Applied_AI</td><td> 6        </td><td>5         </td><td>0.8333333 </td></tr>\n",
       "\t<tr><td>1983      </td><td>Applied_AI</td><td> 3        </td><td>2         </td><td>0.6666667 </td></tr>\n",
       "\t<tr><td>1984      </td><td>Applied_AI</td><td>10        </td><td>9         </td><td>0.9000000 </td></tr>\n",
       "\t<tr><td>1985      </td><td>Applied_AI</td><td>10        </td><td>6         </td><td>0.6000000 </td></tr>\n",
       "</tbody>\n",
       "</table>\n"
      ],
      "text/latex": [
       "\\begin{tabular}{r|lllll}\n",
       " Year & GPT\\_Scope & Number\\_Patents & New\\_Applicant & First\\_Patent\\_Rate\\\\\n",
       "\\hline\n",
       "\t 1978         & Applied\\_AI &  1           & 1            & 1.0000000   \\\\\n",
       "\t 1981         & Applied\\_AI &  1           & 1            & 1.0000000   \\\\\n",
       "\t 1982         & Applied\\_AI &  6           & 5            & 0.8333333   \\\\\n",
       "\t 1983         & Applied\\_AI &  3           & 2            & 0.6666667   \\\\\n",
       "\t 1984         & Applied\\_AI & 10           & 9            & 0.9000000   \\\\\n",
       "\t 1985         & Applied\\_AI & 10           & 6            & 0.6000000   \\\\\n",
       "\\end{tabular}\n"
      ],
      "text/markdown": [
       "\n",
       "| Year | GPT_Scope | Number_Patents | New_Applicant | First_Patent_Rate |\n",
       "|---|---|---|---|---|\n",
       "| 1978       | Applied_AI |  1         | 1          | 1.0000000  |\n",
       "| 1981       | Applied_AI |  1         | 1          | 1.0000000  |\n",
       "| 1982       | Applied_AI |  6         | 5          | 0.8333333  |\n",
       "| 1983       | Applied_AI |  3         | 2          | 0.6666667  |\n",
       "| 1984       | Applied_AI | 10         | 9          | 0.9000000  |\n",
       "| 1985       | Applied_AI | 10         | 6          | 0.6000000  |\n",
       "\n"
      ],
      "text/plain": [
       "  Year GPT_Scope  Number_Patents New_Applicant First_Patent_Rate\n",
       "1 1978 Applied_AI  1             1             1.0000000        \n",
       "2 1981 Applied_AI  1             1             1.0000000        \n",
       "3 1982 Applied_AI  6             5             0.8333333        \n",
       "4 1983 Applied_AI  3             2             0.6666667        \n",
       "5 1984 Applied_AI 10             9             0.9000000        \n",
       "6 1985 Applied_AI 10             6             0.6000000        "
      ]
     },
     "metadata": {},
     "output_type": "display_data"
    }
   ],
   "source": [
    "First_Application_Rate <- First_Application_Rate[, First_Patent_Rate := New_Applicant/Number_Patents]\n",
    "head(First_Application_Rate)"
   ]
  },
  {
   "cell_type": "code",
   "execution_count": 42,
   "metadata": {},
   "outputs": [
    {
     "data": {
      "image/png": "[encoded data removed]",
      "text/plain": [
       "plot without title"
      ]
     },
     "metadata": {},
     "output_type": "display_data"
    }
   ],
   "source": [
    "First_Application_Trend <- ggplot(First_Application_Rate, aes(x = Year, y = First_Patent_Rate)) + \n",
    "      labs(caption=\"Number of 1st-time applications: 6,807\\nNumber of patents:19,602\\nIncludes patents with multiple applicants\\nDashed line: LOESS\") +\n",
    "      geom_line(aes(color=\"Core AI\"), First_Application_Rate %>% filter(GPT_Scope==\"Core_AI\"), size=1) +\n",
    "      geom_line(aes(color=\"Applied AI\"), First_Application_Rate %>% filter(GPT_Scope==\"Applied_AI\"), size=1) +\n",
    "      stat_smooth(method = \"loess\", formula = y ~ x, se = FALSE, alpha=0.4, color=\"black\", linetype=\"dashed\", size=0.5) + \n",
    "      scale_color_manual(name = \"GPT Scope\", \n",
    "                         values = c(\"Core AI\" = \"darkgrey\", \"Applied AI\" = \"deepskyblue4\")) +\n",
    "      scale_x_continuous(name=NULL, breaks=seq(1978,2018,5), limits=c(1977,2019)) +\n",
    "      scale_y_continuous(name=\"Share of First-time Applications\\n per Year\",\n",
    "                         labels = percent_format(), limits=c(0,1), breaks=seq(0,1,0.2))+\n",
    "      theme_bw() +\n",
    "      theme(legend.position = \"top\",legend.title=element_blank(),legend.margin=margin(0,0,0,0),\n",
    "            legend.box.margin=margin(-10,-10,-10,-10))  +\n",
    "      theme(plot.caption=element_text(family=\"sans\",size=8)) + \n",
    "      theme(axis.text.x = element_text(family=\"sans\",size=8, color=\"black\")) + \n",
    "      theme(axis.text.y = element_text(family=\"sans\",size=8, color=\"black\")) + \n",
    "      theme(axis.title.y=element_text(size=10))\n",
    "First_Application_Trend"
   ]
  },
  {
   "cell_type": "markdown",
   "metadata": {},
   "source": [
    "Export graph for Word Document"
   ]
  },
  {
   "cell_type": "code",
   "execution_count": null,
   "metadata": {},
   "outputs": [],
   "source": [
    "#In Jupyter Notebook code gives error but in RSutdio it works fine. \n",
    "ggsave(plot=First_Application_Trend,\n",
    "       filename=\"First_Application_Trend.png\",\n",
    "       type = \"cairo-png\",\n",
    "       path=\"F:/Thesis/Charts/Final/Research_Question_I\",\n",
    "       scale=1,\n",
    "       width=5,\n",
    "       height=(5*0.75),\n",
    "       units=c(\"in\"),\n",
    "       dpi=300)"
   ]
  },
  {
   "cell_type": "markdown",
   "metadata": {},
   "source": [
    "## 2.6) Distribution of Applicants by Number of Patent Applications"
   ]
  },
  {
   "cell_type": "markdown",
   "metadata": {},
   "source": [
    "Count nuber of applications by unique applicant"
   ]
  },
  {
   "cell_type": "code",
   "execution_count": 43,
   "metadata": {},
   "outputs": [
    {
     "data": {
      "text/html": [
       "6807"
      ],
      "text/latex": [
       "6807"
      ],
      "text/markdown": [
       "6807"
      ],
      "text/plain": [
       "[1] 6807"
      ]
     },
     "metadata": {},
     "output_type": "display_data"
    },
    {
     "data": {
      "text/html": [
       "<table>\n",
       "<thead><tr><th scope=col>APPLICANT_MATCH_NAME</th><th scope=col>Number_Patents</th></tr></thead>\n",
       "<tbody>\n",
       "\t<tr><td>SYSTRAN INSTITUT GES FUR FORSCHUNG &amp; ENTWICKLUNG MASCHINELLER SPRACHUBERSETZUNGSSYSTEME</td><td><span style=white-space:pre-wrap>  1</span>                                                </td></tr>\n",
       "\t<tr><td>IBM                                                                                    </td><td>275                                                                                    </td></tr>\n",
       "\t<tr><td>STEULER INDUSTRIEWERKE                                                                 </td><td>  1                                                                                    </td></tr>\n",
       "\t<tr><td>UBE IND                                                                                </td><td>  1                                                                                    </td></tr>\n",
       "\t<tr><td>NCR                                                                                    </td><td>  6                                                                                    </td></tr>\n",
       "\t<tr><td>EASTMAN KODAK                                                                          </td><td> 35                                                                                    </td></tr>\n",
       "</tbody>\n",
       "</table>\n"
      ],
      "text/latex": [
       "\\begin{tabular}{r|ll}\n",
       " APPLICANT\\_MATCH\\_NAME & Number\\_Patents\\\\\n",
       "\\hline\n",
       "\t SYSTRAN INSTITUT GES FUR FORSCHUNG \\& ENTWICKLUNG MASCHINELLER SPRACHUBERSETZUNGSSYSTEME &   1                                                                                      \\\\\n",
       "\t IBM                                                                                     & 275                                                                                    \\\\\n",
       "\t STEULER INDUSTRIEWERKE                                                                  &   1                                                                                    \\\\\n",
       "\t UBE IND                                                                                 &   1                                                                                    \\\\\n",
       "\t NCR                                                                                     &   6                                                                                    \\\\\n",
       "\t EASTMAN KODAK                                                                           &  35                                                                                    \\\\\n",
       "\\end{tabular}\n"
      ],
      "text/markdown": [
       "\n",
       "| APPLICANT_MATCH_NAME | Number_Patents |\n",
       "|---|---|\n",
       "| SYSTRAN INSTITUT GES FUR FORSCHUNG & ENTWICKLUNG MASCHINELLER SPRACHUBERSETZUNGSSYSTEME |   1                                                                                     |\n",
       "| IBM                                                                                     | 275                                                                                     |\n",
       "| STEULER INDUSTRIEWERKE                                                                  |   1                                                                                     |\n",
       "| UBE IND                                                                                 |   1                                                                                     |\n",
       "| NCR                                                                                     |   6                                                                                     |\n",
       "| EASTMAN KODAK                                                                           |  35                                                                                     |\n",
       "\n"
      ],
      "text/plain": [
       "  APPLICANT_MATCH_NAME                                                                   \n",
       "1 SYSTRAN INSTITUT GES FUR FORSCHUNG & ENTWICKLUNG MASCHINELLER SPRACHUBERSETZUNGSSYSTEME\n",
       "2 IBM                                                                                    \n",
       "3 STEULER INDUSTRIEWERKE                                                                 \n",
       "4 UBE IND                                                                                \n",
       "5 NCR                                                                                    \n",
       "6 EASTMAN KODAK                                                                          \n",
       "  Number_Patents\n",
       "1   1           \n",
       "2 275           \n",
       "3   1           \n",
       "4   1           \n",
       "5   6           \n",
       "6  35           "
      ]
     },
     "metadata": {},
     "output_type": "display_data"
    }
   ],
   "source": [
    "Patenting_Distribution <- Industrial_Patent_Dataset[, .N, by=c(\"APPLICANT_MATCH_NAME\")]\n",
    "colnames(Patenting_Distribution)[2] <- \"Number_Patents\"\n",
    "\n",
    "#Consistency Check\n",
    "nrow(Patenting_Distribution)\n",
    "\n",
    "head(Patenting_Distribution)"
   ]
  },
  {
   "cell_type": "code",
   "execution_count": 44,
   "metadata": {},
   "outputs": [
    {
     "data": {
      "text/plain": [
       "   Min. 1st Qu.  Median    Mean 3rd Qu.    Max. \n",
       "   1.00    1.00    1.00    2.88    2.00  512.00 "
      ]
     },
     "metadata": {},
     "output_type": "display_data"
    }
   ],
   "source": [
    "summary(Patenting_Distribution$Number_Patents)"
   ]
  },
  {
   "cell_type": "markdown",
   "metadata": {},
   "source": [
    "Group applicants by number of applications"
   ]
  },
  {
   "cell_type": "code",
   "execution_count": 45,
   "metadata": {},
   "outputs": [
    {
     "data": {
      "text/html": [
       "<table>\n",
       "<thead><tr><th scope=col>Number_Patents</th><th scope=col>Number_Applicants</th></tr></thead>\n",
       "<tbody>\n",
       "\t<tr><td>1   </td><td>4747</td></tr>\n",
       "\t<tr><td>2   </td><td> 913</td></tr>\n",
       "\t<tr><td>3   </td><td> 355</td></tr>\n",
       "\t<tr><td>4   </td><td> 187</td></tr>\n",
       "\t<tr><td>5   </td><td> 132</td></tr>\n",
       "\t<tr><td>6   </td><td>  78</td></tr>\n",
       "</tbody>\n",
       "</table>\n"
      ],
      "text/latex": [
       "\\begin{tabular}{r|ll}\n",
       " Number\\_Patents & Number\\_Applicants\\\\\n",
       "\\hline\n",
       "\t 1    & 4747\\\\\n",
       "\t 2    &  913\\\\\n",
       "\t 3    &  355\\\\\n",
       "\t 4    &  187\\\\\n",
       "\t 5    &  132\\\\\n",
       "\t 6    &   78\\\\\n",
       "\\end{tabular}\n"
      ],
      "text/markdown": [
       "\n",
       "| Number_Patents | Number_Applicants |\n",
       "|---|---|\n",
       "| 1    | 4747 |\n",
       "| 2    |  913 |\n",
       "| 3    |  355 |\n",
       "| 4    |  187 |\n",
       "| 5    |  132 |\n",
       "| 6    |   78 |\n",
       "\n"
      ],
      "text/plain": [
       "  Number_Patents Number_Applicants\n",
       "1 1              4747             \n",
       "2 2               913             \n",
       "3 3               355             \n",
       "4 4               187             \n",
       "5 5               132             \n",
       "6 6                78             "
      ]
     },
     "metadata": {},
     "output_type": "display_data"
    },
    {
     "data": {
      "text/html": [
       "<table>\n",
       "<thead><tr><th scope=col>Number_Patents</th><th scope=col>Number_Applicants</th></tr></thead>\n",
       "<tbody>\n",
       "\t<tr><td>252</td><td>1  </td></tr>\n",
       "\t<tr><td>255</td><td>1  </td></tr>\n",
       "\t<tr><td>275</td><td>1  </td></tr>\n",
       "\t<tr><td>280</td><td>1  </td></tr>\n",
       "\t<tr><td>391</td><td>1  </td></tr>\n",
       "\t<tr><td>512</td><td>1  </td></tr>\n",
       "</tbody>\n",
       "</table>\n"
      ],
      "text/latex": [
       "\\begin{tabular}{r|ll}\n",
       " Number\\_Patents & Number\\_Applicants\\\\\n",
       "\\hline\n",
       "\t 252 & 1  \\\\\n",
       "\t 255 & 1  \\\\\n",
       "\t 275 & 1  \\\\\n",
       "\t 280 & 1  \\\\\n",
       "\t 391 & 1  \\\\\n",
       "\t 512 & 1  \\\\\n",
       "\\end{tabular}\n"
      ],
      "text/markdown": [
       "\n",
       "| Number_Patents | Number_Applicants |\n",
       "|---|---|\n",
       "| 252 | 1   |\n",
       "| 255 | 1   |\n",
       "| 275 | 1   |\n",
       "| 280 | 1   |\n",
       "| 391 | 1   |\n",
       "| 512 | 1   |\n",
       "\n"
      ],
      "text/plain": [
       "  Number_Patents Number_Applicants\n",
       "1 252            1                \n",
       "2 255            1                \n",
       "3 275            1                \n",
       "4 280            1                \n",
       "5 391            1                \n",
       "6 512            1                "
      ]
     },
     "metadata": {},
     "output_type": "display_data"
    }
   ],
   "source": [
    "Patenting_Distribution <- Patenting_Distribution[, .N, by=c(\"Number_Patents\")]\n",
    "colnames(Patenting_Distribution)[2] <- \"Number_Applicants\"\n",
    "setorder(Patenting_Distribution,Number_Patents)\n",
    "head(Patenting_Distribution)\n",
    "tail(Patenting_Distribution)"
   ]
  },
  {
   "cell_type": "markdown",
   "metadata": {},
   "source": [
    "Add column calculating total number of patents by cohort"
   ]
  },
  {
   "cell_type": "code",
   "execution_count": 46,
   "metadata": {},
   "outputs": [
    {
     "data": {
      "text/html": [
       "6807"
      ],
      "text/latex": [
       "6807"
      ],
      "text/markdown": [
       "6807"
      ],
      "text/plain": [
       "[1] 6807"
      ]
     },
     "metadata": {},
     "output_type": "display_data"
    },
    {
     "data": {
      "text/html": [
       "19602"
      ],
      "text/latex": [
       "19602"
      ],
      "text/markdown": [
       "19602"
      ],
      "text/plain": [
       "[1] 19602"
      ]
     },
     "metadata": {},
     "output_type": "display_data"
    },
    {
     "data": {
      "text/html": [
       "19602"
      ],
      "text/latex": [
       "19602"
      ],
      "text/markdown": [
       "19602"
      ],
      "text/plain": [
       "[1] 19602"
      ]
     },
     "metadata": {},
     "output_type": "display_data"
    },
    {
     "data": {
      "text/html": [
       "<table>\n",
       "<thead><tr><th scope=col>Number_Patents</th><th scope=col>Number_Applicants</th><th scope=col>Total_Patents_Cohort</th></tr></thead>\n",
       "<tbody>\n",
       "\t<tr><td>1   </td><td>4747</td><td>4747</td></tr>\n",
       "\t<tr><td>2   </td><td> 913</td><td>1826</td></tr>\n",
       "\t<tr><td>3   </td><td> 355</td><td>1065</td></tr>\n",
       "\t<tr><td>4   </td><td> 187</td><td> 748</td></tr>\n",
       "\t<tr><td>5   </td><td> 132</td><td> 660</td></tr>\n",
       "\t<tr><td>6   </td><td>  78</td><td> 468</td></tr>\n",
       "</tbody>\n",
       "</table>\n"
      ],
      "text/latex": [
       "\\begin{tabular}{r|lll}\n",
       " Number\\_Patents & Number\\_Applicants & Total\\_Patents\\_Cohort\\\\\n",
       "\\hline\n",
       "\t 1    & 4747 & 4747\\\\\n",
       "\t 2    &  913 & 1826\\\\\n",
       "\t 3    &  355 & 1065\\\\\n",
       "\t 4    &  187 &  748\\\\\n",
       "\t 5    &  132 &  660\\\\\n",
       "\t 6    &   78 &  468\\\\\n",
       "\\end{tabular}\n"
      ],
      "text/markdown": [
       "\n",
       "| Number_Patents | Number_Applicants | Total_Patents_Cohort |\n",
       "|---|---|---|\n",
       "| 1    | 4747 | 4747 |\n",
       "| 2    |  913 | 1826 |\n",
       "| 3    |  355 | 1065 |\n",
       "| 4    |  187 |  748 |\n",
       "| 5    |  132 |  660 |\n",
       "| 6    |   78 |  468 |\n",
       "\n"
      ],
      "text/plain": [
       "  Number_Patents Number_Applicants Total_Patents_Cohort\n",
       "1 1              4747              4747                \n",
       "2 2               913              1826                \n",
       "3 3               355              1065                \n",
       "4 4               187               748                \n",
       "5 5               132               660                \n",
       "6 6                78               468                "
      ]
     },
     "metadata": {},
     "output_type": "display_data"
    },
    {
     "data": {
      "text/html": [
       "<table>\n",
       "<thead><tr><th scope=col>Number_Patents</th><th scope=col>Number_Applicants</th><th scope=col>Total_Patents_Cohort</th></tr></thead>\n",
       "<tbody>\n",
       "\t<tr><td>252</td><td>1  </td><td>252</td></tr>\n",
       "\t<tr><td>255</td><td>1  </td><td>255</td></tr>\n",
       "\t<tr><td>275</td><td>1  </td><td>275</td></tr>\n",
       "\t<tr><td>280</td><td>1  </td><td>280</td></tr>\n",
       "\t<tr><td>391</td><td>1  </td><td>391</td></tr>\n",
       "\t<tr><td>512</td><td>1  </td><td>512</td></tr>\n",
       "</tbody>\n",
       "</table>\n"
      ],
      "text/latex": [
       "\\begin{tabular}{r|lll}\n",
       " Number\\_Patents & Number\\_Applicants & Total\\_Patents\\_Cohort\\\\\n",
       "\\hline\n",
       "\t 252 & 1   & 252\\\\\n",
       "\t 255 & 1   & 255\\\\\n",
       "\t 275 & 1   & 275\\\\\n",
       "\t 280 & 1   & 280\\\\\n",
       "\t 391 & 1   & 391\\\\\n",
       "\t 512 & 1   & 512\\\\\n",
       "\\end{tabular}\n"
      ],
      "text/markdown": [
       "\n",
       "| Number_Patents | Number_Applicants | Total_Patents_Cohort |\n",
       "|---|---|---|\n",
       "| 252 | 1   | 252 |\n",
       "| 255 | 1   | 255 |\n",
       "| 275 | 1   | 275 |\n",
       "| 280 | 1   | 280 |\n",
       "| 391 | 1   | 391 |\n",
       "| 512 | 1   | 512 |\n",
       "\n"
      ],
      "text/plain": [
       "  Number_Patents Number_Applicants Total_Patents_Cohort\n",
       "1 252            1                 252                 \n",
       "2 255            1                 255                 \n",
       "3 275            1                 275                 \n",
       "4 280            1                 280                 \n",
       "5 391            1                 391                 \n",
       "6 512            1                 512                 "
      ]
     },
     "metadata": {},
     "output_type": "display_data"
    }
   ],
   "source": [
    "Patenting_Distribution <- Patenting_Distribution[, Total_Patents_Cohort:= Number_Patents*Number_Applicants]\n",
    "\n",
    "#Consistency Check\n",
    "sum(Patenting_Distribution$Number_Applicants)\n",
    "sum(Patenting_Distribution$Total_Patents)\n",
    "sum(Patenting_Distribution$Total_Patents_Cohort)\n",
    "\n",
    "head(Patenting_Distribution)\n",
    "tail(Patenting_Distribution)"
   ]
  },
  {
   "cell_type": "code",
   "execution_count": 47,
   "metadata": {},
   "outputs": [
    {
     "data": {
      "image/png": "[encoded data removed]",
      "text/plain": [
       "plot without title"
      ]
     },
     "metadata": {},
     "output_type": "display_data"
    }
   ],
   "source": [
    "Patent_Distr_Chart <- ggplot(Patenting_Distribution, aes(x=Number_Patents, y=Number_Applicants)) +\n",
    "      labs(caption=\"Number of applicants: 6,807\\nNumber of patent applications: 16,971\") +\n",
    "      geom_bar(stat=\"identity\") + \n",
    "      scale_x_continuous(name=\"Number of Patents per Applicant\",breaks=seq(0,75,5), limits = c(0,76)) +\n",
    "      scale_y_continuous(name=\"Number of Applicants\", breaks=seq(0,5000,1000), limits=c(0,5000),\n",
    "                         labels=function(x) format(x, big.mark = \",\", decimal.mark = \".\", scientific = FALSE)) +\n",
    "      theme_bw() +\n",
    "      theme(plot.caption=element_text(family=\"sans\",size=8)) +\n",
    "      theme(axis.text.x = element_text(family=\"sans\",size=8, color=\"black\")) + \n",
    "      theme(axis.text.y = element_text(family=\"sans\",size=8, color=\"black\")) + \n",
    "      theme(axis.title.x=element_text(size=10)) +\n",
    "      theme(axis.title.y=element_text(size=10))\n",
    "Patent_Distr_Chart"
   ]
  },
  {
   "cell_type": "markdown",
   "metadata": {},
   "source": [
    "Export graph for Word Document"
   ]
  },
  {
   "cell_type": "code",
   "execution_count": null,
   "metadata": {},
   "outputs": [],
   "source": [
    "#In Jupyter Notebook code gives error but in RSutdio it works fine. \n",
    "ggsave(plot=Patent_Distr_Chart,\n",
    "       filename=\"Patent_Distr_Chart.png\",\n",
    "       type = \"cairo-png\",\n",
    "       path=\"F:/Thesis/Charts/Final/Research_Question_I\",\n",
    "       scale=1,\n",
    "       width=3.54,\n",
    "       height=(5*0.75),\n",
    "       units=c(\"in\"),\n",
    "       dpi=300)"
   ]
  },
  {
   "cell_type": "markdown",
   "metadata": {},
   "source": [
    "## 2.7) Cumulative Share of Patent Applications by Number of Applications Cohorts"
   ]
  },
  {
   "cell_type": "markdown",
   "metadata": {},
   "source": [
    "Statistics:\n",
    "\n",
    "1) Share of patent applications by Applicants with 12 or less applications\n",
    "\n",
    "2) Share of patent applications by Applicants with 75 or more applications"
   ]
  },
  {
   "cell_type": "markdown",
   "metadata": {},
   "source": [
    "(1) 12 or less"
   ]
  },
  {
   "cell_type": "code",
   "execution_count": 48,
   "metadata": {},
   "outputs": [
    {
     "data": {
      "text/html": [
       "6624"
      ],
      "text/latex": [
       "6624"
      ],
      "text/markdown": [
       "6624"
      ],
      "text/plain": [
       "[1] 6624"
      ]
     },
     "metadata": {},
     "output_type": "display_data"
    },
    {
     "data": {
      "text/html": [
       "0.973"
      ],
      "text/latex": [
       "0.973"
      ],
      "text/markdown": [
       "0.973"
      ],
      "text/plain": [
       "[1] 0.973"
      ]
     },
     "metadata": {},
     "output_type": "display_data"
    },
    {
     "data": {
      "text/html": [
       "11397"
      ],
      "text/latex": [
       "11397"
      ],
      "text/markdown": [
       "11397"
      ],
      "text/plain": [
       "[1] 11397"
      ]
     },
     "metadata": {},
     "output_type": "display_data"
    },
    {
     "data": {
      "text/html": [
       "0.581"
      ],
      "text/latex": [
       "0.581"
      ],
      "text/markdown": [
       "0.581"
      ],
      "text/plain": [
       "[1] 0.581"
      ]
     },
     "metadata": {},
     "output_type": "display_data"
    }
   ],
   "source": [
    "#Number of Applicants\n",
    "Small_Applicants <- sum(Patenting_Distribution[Number_Patents<=12,Number_Applicants])\n",
    "Small_Applicants\n",
    "\n",
    "#Share of patent applicants\n",
    "round(Small_Applicants/sum(Patenting_Distribution[,Number_Applicants]),3)\n",
    "\n",
    "#Number Applications\n",
    "Small_Applications <- sum(Patenting_Distribution[Number_Patents<=12,Total_Patents_Cohort])\n",
    "Small_Applications\n",
    "\n",
    "#Share of patent applications\n",
    "round(Small_Applications/sum(Patenting_Distribution[,Total_Patents_Cohort]),3)"
   ]
  },
  {
   "cell_type": "markdown",
   "metadata": {},
   "source": [
    "(2) 75 or more"
   ]
  },
  {
   "cell_type": "code",
   "execution_count": 49,
   "metadata": {},
   "outputs": [
    {
     "data": {
      "text/html": [
       "22"
      ],
      "text/latex": [
       "22"
      ],
      "text/markdown": [
       "22"
      ],
      "text/plain": [
       "[1] 22"
      ]
     },
     "metadata": {},
     "output_type": "display_data"
    },
    {
     "data": {
      "text/html": [
       "0.003"
      ],
      "text/latex": [
       "0.003"
      ],
      "text/markdown": [
       "0.003"
      ],
      "text/plain": [
       "[1] 0.003"
      ]
     },
     "metadata": {},
     "output_type": "display_data"
    },
    {
     "data": {
      "text/html": [
       "4017"
      ],
      "text/latex": [
       "4017"
      ],
      "text/markdown": [
       "4017"
      ],
      "text/plain": [
       "[1] 4017"
      ]
     },
     "metadata": {},
     "output_type": "display_data"
    },
    {
     "data": {
      "text/html": [
       "0.205"
      ],
      "text/latex": [
       "0.205"
      ],
      "text/markdown": [
       "0.205"
      ],
      "text/plain": [
       "[1] 0.205"
      ]
     },
     "metadata": {},
     "output_type": "display_data"
    }
   ],
   "source": [
    "#Number of Applicants\n",
    "Large_Applicants <- sum(Patenting_Distribution[Number_Patents>=75,Number_Applicants])\n",
    "Large_Applicants\n",
    "\n",
    "#Share of patent applicants\n",
    "round(Large_Applicants/sum(Patenting_Distribution[,Number_Applicants]),3)\n",
    "\n",
    "#Number Applications\n",
    "Large_Applications <- sum(Patenting_Distribution[Number_Patents>=75,Total_Patents_Cohort])\n",
    "Large_Applications\n",
    "\n",
    "#Share of patent applications\n",
    "round(Large_Applications/sum(Patenting_Distribution[,Total_Patents_Cohort]),3)"
   ]
  },
  {
   "cell_type": "code",
   "execution_count": 50,
   "metadata": {},
   "outputs": [
    {
     "data": {
      "text/html": [
       "<table>\n",
       "<thead><tr><th scope=col>Number_Patents</th><th scope=col>Number_Applicants</th><th scope=col>Total_Patents_Cohort</th></tr></thead>\n",
       "<tbody>\n",
       "\t<tr><td>1   </td><td>4747</td><td>4747</td></tr>\n",
       "\t<tr><td>2   </td><td> 913</td><td>1826</td></tr>\n",
       "\t<tr><td>3   </td><td> 355</td><td>1065</td></tr>\n",
       "\t<tr><td>4   </td><td> 187</td><td> 748</td></tr>\n",
       "\t<tr><td>5   </td><td> 132</td><td> 660</td></tr>\n",
       "\t<tr><td>6   </td><td>  78</td><td> 468</td></tr>\n",
       "</tbody>\n",
       "</table>\n"
      ],
      "text/latex": [
       "\\begin{tabular}{r|lll}\n",
       " Number\\_Patents & Number\\_Applicants & Total\\_Patents\\_Cohort\\\\\n",
       "\\hline\n",
       "\t 1    & 4747 & 4747\\\\\n",
       "\t 2    &  913 & 1826\\\\\n",
       "\t 3    &  355 & 1065\\\\\n",
       "\t 4    &  187 &  748\\\\\n",
       "\t 5    &  132 &  660\\\\\n",
       "\t 6    &   78 &  468\\\\\n",
       "\\end{tabular}\n"
      ],
      "text/markdown": [
       "\n",
       "| Number_Patents | Number_Applicants | Total_Patents_Cohort |\n",
       "|---|---|---|\n",
       "| 1    | 4747 | 4747 |\n",
       "| 2    |  913 | 1826 |\n",
       "| 3    |  355 | 1065 |\n",
       "| 4    |  187 |  748 |\n",
       "| 5    |  132 |  660 |\n",
       "| 6    |   78 |  468 |\n",
       "\n"
      ],
      "text/plain": [
       "  Number_Patents Number_Applicants Total_Patents_Cohort\n",
       "1 1              4747              4747                \n",
       "2 2               913              1826                \n",
       "3 3               355              1065                \n",
       "4 4               187               748                \n",
       "5 5               132               660                \n",
       "6 6                78               468                "
      ]
     },
     "metadata": {},
     "output_type": "display_data"
    }
   ],
   "source": [
    "head(Patenting_Distribution)"
   ]
  },
  {
   "cell_type": "code",
   "execution_count": 51,
   "metadata": {},
   "outputs": [
    {
     "data": {
      "image/png": "[encoded data removed]",
      "text/plain": [
       "plot without title"
      ]
     },
     "metadata": {},
     "output_type": "display_data"
    }
   ],
   "source": [
    "Distribution_Curve <- ggplot(Patenting_Distribution, aes(x=Number_Patents,\n",
    "                                                             y=cumsum(Total_Patents_Cohort)/sum(Total_Patents_Cohort))) +\n",
    "      labs(caption=\"Number of applicants: 6,807\\n Number of patent applications: 16,971\") +\n",
    "      geom_line(colour=\"gray8\", size=1) + \n",
    "      geom_rug(sides=\"b\") + \n",
    "      geom_segment(aes(x = 12, y = 0.2, xend = 12, yend = 1), size=0.25, linetype= \"dashed\") + \n",
    "      geom_segment(aes(x = 75, y = 0.2, xend = 75, yend = 1), size=0.25,  linetype= \"dashed\") + \n",
    "      scale_x_continuous(name=\"Number of Patents per Applicant\", breaks = seq(0,500,50))+\n",
    "      scale_y_continuous(name=\"Cumulative Share of Patents\",\n",
    "                         breaks=seq(0,1,0.1),labels = percent_format(accuracy = 5L)) +\n",
    "      theme_bw() +\n",
    "      theme(plot.caption=element_text(family=\"sans\",size=8)) +\n",
    "      theme(axis.text.x = element_text(family=\"sans\",size=8, color=\"black\")) + \n",
    "      theme(axis.text.y = element_text(family=\"sans\",size=8, color=\"black\")) + \n",
    "      theme(axis.title.x=element_text(size=10)) +\n",
    "      theme(axis.title.y=element_text(size=10))\n",
    "Distribution_Curve"
   ]
  },
  {
   "cell_type": "code",
   "execution_count": null,
   "metadata": {},
   "outputs": [],
   "source": [
    "ggsave(plot=Distribution_Curve,\n",
    "       filename=\"Distribution_Curve.png\",\n",
    "       type = \"cairo-png\",\n",
    "       path=\"F:/Thesis/Charts/Final/Research_Question_I\",\n",
    "       scale=1,\n",
    "       width=3.54,\n",
    "       height=(3.54*0.75),\n",
    "       units=c(\"in\"),\n",
    "       dpi=300)"
   ]
  },
  {
   "cell_type": "markdown",
   "metadata": {},
   "source": [
    "## 2.8) Top Patent Applicants"
   ]
  },
  {
   "cell_type": "code",
   "execution_count": 52,
   "metadata": {},
   "outputs": [
    {
     "data": {
      "text/html": [
       "<table>\n",
       "<thead><tr><th scope=col>APPLICANT_MATCH_NAME</th><th scope=col>Number_Patents</th></tr></thead>\n",
       "<tbody>\n",
       "\t<tr><td>SYSTRAN INSTITUT GES FUR FORSCHUNG &amp; ENTWICKLUNG MASCHINELLER SPRACHUBERSETZUNGSSYSTEME</td><td><span style=white-space:pre-wrap>  1</span>                                                </td></tr>\n",
       "\t<tr><td>IBM                                                                                    </td><td>275                                                                                    </td></tr>\n",
       "\t<tr><td>STEULER INDUSTRIEWERKE                                                                 </td><td>  1                                                                                    </td></tr>\n",
       "\t<tr><td>UBE IND                                                                                </td><td>  1                                                                                    </td></tr>\n",
       "\t<tr><td>NCR                                                                                    </td><td>  6                                                                                    </td></tr>\n",
       "\t<tr><td>EASTMAN KODAK                                                                          </td><td> 35                                                                                    </td></tr>\n",
       "</tbody>\n",
       "</table>\n"
      ],
      "text/latex": [
       "\\begin{tabular}{r|ll}\n",
       " APPLICANT\\_MATCH\\_NAME & Number\\_Patents\\\\\n",
       "\\hline\n",
       "\t SYSTRAN INSTITUT GES FUR FORSCHUNG \\& ENTWICKLUNG MASCHINELLER SPRACHUBERSETZUNGSSYSTEME &   1                                                                                      \\\\\n",
       "\t IBM                                                                                     & 275                                                                                    \\\\\n",
       "\t STEULER INDUSTRIEWERKE                                                                  &   1                                                                                    \\\\\n",
       "\t UBE IND                                                                                 &   1                                                                                    \\\\\n",
       "\t NCR                                                                                     &   6                                                                                    \\\\\n",
       "\t EASTMAN KODAK                                                                           &  35                                                                                    \\\\\n",
       "\\end{tabular}\n"
      ],
      "text/markdown": [
       "\n",
       "| APPLICANT_MATCH_NAME | Number_Patents |\n",
       "|---|---|\n",
       "| SYSTRAN INSTITUT GES FUR FORSCHUNG & ENTWICKLUNG MASCHINELLER SPRACHUBERSETZUNGSSYSTEME |   1                                                                                     |\n",
       "| IBM                                                                                     | 275                                                                                     |\n",
       "| STEULER INDUSTRIEWERKE                                                                  |   1                                                                                     |\n",
       "| UBE IND                                                                                 |   1                                                                                     |\n",
       "| NCR                                                                                     |   6                                                                                     |\n",
       "| EASTMAN KODAK                                                                           |  35                                                                                     |\n",
       "\n"
      ],
      "text/plain": [
       "  APPLICANT_MATCH_NAME                                                                   \n",
       "1 SYSTRAN INSTITUT GES FUR FORSCHUNG & ENTWICKLUNG MASCHINELLER SPRACHUBERSETZUNGSSYSTEME\n",
       "2 IBM                                                                                    \n",
       "3 STEULER INDUSTRIEWERKE                                                                 \n",
       "4 UBE IND                                                                                \n",
       "5 NCR                                                                                    \n",
       "6 EASTMAN KODAK                                                                          \n",
       "  Number_Patents\n",
       "1   1           \n",
       "2 275           \n",
       "3   1           \n",
       "4   1           \n",
       "5   6           \n",
       "6  35           "
      ]
     },
     "metadata": {},
     "output_type": "display_data"
    }
   ],
   "source": [
    "Top_Owners <- Industrial_Patent_Dataset[, .N, by=c(\"APPLICANT_MATCH_NAME\")]\n",
    "colnames(Top_Owners)[2] <-\n",
    "\"Number_Patents\"\n",
    "head(Top_Owners)"
   ]
  },
  {
   "cell_type": "code",
   "execution_count": 53,
   "metadata": {},
   "outputs": [
    {
     "data": {
      "text/html": [
       "<table>\n",
       "<thead><tr><th scope=col>APPLICANT_MATCH_NAME</th><th scope=col>Number_Patents</th></tr></thead>\n",
       "<tbody>\n",
       "\t<tr><td>GOOGLE                                     </td><td>512                                        </td></tr>\n",
       "\t<tr><td>MICROSOFT TECH LICENSING                   </td><td>391                                        </td></tr>\n",
       "\t<tr><td>MICROSOFT                                  </td><td>280                                        </td></tr>\n",
       "\t<tr><td>IBM                                        </td><td>275                                        </td></tr>\n",
       "\t<tr><td>INTEL                                      </td><td>255                                        </td></tr>\n",
       "\t<tr><td>SIEMENS                                    </td><td>252                                        </td></tr>\n",
       "\t<tr><td>SAMSUNG ELECT                              </td><td>242                                        </td></tr>\n",
       "\t<tr><td>QUALCOMM                                   </td><td>187                                        </td></tr>\n",
       "\t<tr><td>KON PHILIPS                                </td><td>184                                        </td></tr>\n",
       "\t<tr><td>KON PHILIPS ELECT                          </td><td>181                                        </td></tr>\n",
       "\t<tr><td>HUAWEI                                     </td><td>179                                        </td></tr>\n",
       "\t<tr><td>SONY                                       </td><td>133                                        </td></tr>\n",
       "\t<tr><td>NOKIA                                      </td><td>132                                        </td></tr>\n",
       "\t<tr><td>NEC                                        </td><td>106                                        </td></tr>\n",
       "\t<tr><td>FUJITSU                                    </td><td>101                                        </td></tr>\n",
       "\t<tr><td>GENERAL ELECT                              </td><td> 97                                        </td></tr>\n",
       "\t<tr><td>THE REGENTS OF THE UNIVERSITY OF CALIFORNIA</td><td> 95                                        </td></tr>\n",
       "\t<tr><td>IBM UK                                     </td><td> 93                                        </td></tr>\n",
       "\t<tr><td>MITSUBISHI ELECT                           </td><td> 92                                        </td></tr>\n",
       "\t<tr><td>TENCENT TECH SHENZHEN                      </td><td> 78                                        </td></tr>\n",
       "\t<tr><td>HEWLETT PACKARD DEV CO                     </td><td> 77                                        </td></tr>\n",
       "\t<tr><td>TELEFON AB LM ERICSSON PUBL                </td><td> 75                                        </td></tr>\n",
       "</tbody>\n",
       "</table>\n"
      ],
      "text/latex": [
       "\\begin{tabular}{r|ll}\n",
       " APPLICANT\\_MATCH\\_NAME & Number\\_Patents\\\\\n",
       "\\hline\n",
       "\t GOOGLE                                      & 512                                        \\\\\n",
       "\t MICROSOFT TECH LICENSING                    & 391                                        \\\\\n",
       "\t MICROSOFT                                   & 280                                        \\\\\n",
       "\t IBM                                         & 275                                        \\\\\n",
       "\t INTEL                                       & 255                                        \\\\\n",
       "\t SIEMENS                                     & 252                                        \\\\\n",
       "\t SAMSUNG ELECT                               & 242                                        \\\\\n",
       "\t QUALCOMM                                    & 187                                        \\\\\n",
       "\t KON PHILIPS                                 & 184                                        \\\\\n",
       "\t KON PHILIPS ELECT                           & 181                                        \\\\\n",
       "\t HUAWEI                                      & 179                                        \\\\\n",
       "\t SONY                                        & 133                                        \\\\\n",
       "\t NOKIA                                       & 132                                        \\\\\n",
       "\t NEC                                         & 106                                        \\\\\n",
       "\t FUJITSU                                     & 101                                        \\\\\n",
       "\t GENERAL ELECT                               &  97                                        \\\\\n",
       "\t THE REGENTS OF THE UNIVERSITY OF CALIFORNIA &  95                                        \\\\\n",
       "\t IBM UK                                      &  93                                        \\\\\n",
       "\t MITSUBISHI ELECT                            &  92                                        \\\\\n",
       "\t TENCENT TECH SHENZHEN                       &  78                                        \\\\\n",
       "\t HEWLETT PACKARD DEV CO                      &  77                                        \\\\\n",
       "\t TELEFON AB LM ERICSSON PUBL                 &  75                                        \\\\\n",
       "\\end{tabular}\n"
      ],
      "text/markdown": [
       "\n",
       "| APPLICANT_MATCH_NAME | Number_Patents |\n",
       "|---|---|\n",
       "| GOOGLE                                      | 512                                         |\n",
       "| MICROSOFT TECH LICENSING                    | 391                                         |\n",
       "| MICROSOFT                                   | 280                                         |\n",
       "| IBM                                         | 275                                         |\n",
       "| INTEL                                       | 255                                         |\n",
       "| SIEMENS                                     | 252                                         |\n",
       "| SAMSUNG ELECT                               | 242                                         |\n",
       "| QUALCOMM                                    | 187                                         |\n",
       "| KON PHILIPS                                 | 184                                         |\n",
       "| KON PHILIPS ELECT                           | 181                                         |\n",
       "| HUAWEI                                      | 179                                         |\n",
       "| SONY                                        | 133                                         |\n",
       "| NOKIA                                       | 132                                         |\n",
       "| NEC                                         | 106                                         |\n",
       "| FUJITSU                                     | 101                                         |\n",
       "| GENERAL ELECT                               |  97                                         |\n",
       "| THE REGENTS OF THE UNIVERSITY OF CALIFORNIA |  95                                         |\n",
       "| IBM UK                                      |  93                                         |\n",
       "| MITSUBISHI ELECT                            |  92                                         |\n",
       "| TENCENT TECH SHENZHEN                       |  78                                         |\n",
       "| HEWLETT PACKARD DEV CO                      |  77                                         |\n",
       "| TELEFON AB LM ERICSSON PUBL                 |  75                                         |\n",
       "\n"
      ],
      "text/plain": [
       "   APPLICANT_MATCH_NAME                        Number_Patents\n",
       "1  GOOGLE                                      512           \n",
       "2  MICROSOFT TECH LICENSING                    391           \n",
       "3  MICROSOFT                                   280           \n",
       "4  IBM                                         275           \n",
       "5  INTEL                                       255           \n",
       "6  SIEMENS                                     252           \n",
       "7  SAMSUNG ELECT                               242           \n",
       "8  QUALCOMM                                    187           \n",
       "9  KON PHILIPS                                 184           \n",
       "10 KON PHILIPS ELECT                           181           \n",
       "11 HUAWEI                                      179           \n",
       "12 SONY                                        133           \n",
       "13 NOKIA                                       132           \n",
       "14 NEC                                         106           \n",
       "15 FUJITSU                                     101           \n",
       "16 GENERAL ELECT                                97           \n",
       "17 THE REGENTS OF THE UNIVERSITY OF CALIFORNIA  95           \n",
       "18 IBM UK                                       93           \n",
       "19 MITSUBISHI ELECT                             92           \n",
       "20 TENCENT TECH SHENZHEN                        78           \n",
       "21 HEWLETT PACKARD DEV CO                       77           \n",
       "22 TELEFON AB LM ERICSSON PUBL                  75           "
      ]
     },
     "metadata": {},
     "output_type": "display_data"
    }
   ],
   "source": [
    "Top_Owners <- Top_Owners[Number_Patents>=75,]\n",
    "setorder(Top_Owners,-Number_Patents )\n",
    "Top_Owners"
   ]
  },
  {
   "cell_type": "code",
   "execution_count": 54,
   "metadata": {},
   "outputs": [
    {
     "data": {
      "text/html": [
       "<ol class=list-inline>\n",
       "\t<li>'GOOGLE'</li>\n",
       "\t<li>'MICROSOFT TECH LICENSING'</li>\n",
       "\t<li>'MICROSOFT'</li>\n",
       "\t<li>'IBM'</li>\n",
       "\t<li>'INTEL'</li>\n",
       "\t<li>'SIEMENS'</li>\n",
       "\t<li>'SAMSUNG ELECT'</li>\n",
       "\t<li>'QUALCOMM'</li>\n",
       "\t<li>'KON PHILIPS'</li>\n",
       "\t<li>'KON PHILIPS ELECT'</li>\n",
       "\t<li>'HUAWEI'</li>\n",
       "\t<li>'SONY'</li>\n",
       "\t<li>'NOKIA'</li>\n",
       "\t<li>'NEC'</li>\n",
       "\t<li>'FUJITSU'</li>\n",
       "\t<li>'GENERAL ELECT'</li>\n",
       "\t<li>'THE REGENTS OF THE UNIVERSITY OF CALIFORNIA'</li>\n",
       "\t<li>'IBM UK'</li>\n",
       "\t<li>'MITSUBISHI ELECT'</li>\n",
       "\t<li>'TENCENT TECH SHENZHEN'</li>\n",
       "\t<li>'HEWLETT PACKARD DEV CO'</li>\n",
       "\t<li>'TELEFON AB LM ERICSSON PUBL'</li>\n",
       "</ol>\n"
      ],
      "text/latex": [
       "\\begin{enumerate*}\n",
       "\\item 'GOOGLE'\n",
       "\\item 'MICROSOFT TECH LICENSING'\n",
       "\\item 'MICROSOFT'\n",
       "\\item 'IBM'\n",
       "\\item 'INTEL'\n",
       "\\item 'SIEMENS'\n",
       "\\item 'SAMSUNG ELECT'\n",
       "\\item 'QUALCOMM'\n",
       "\\item 'KON PHILIPS'\n",
       "\\item 'KON PHILIPS ELECT'\n",
       "\\item 'HUAWEI'\n",
       "\\item 'SONY'\n",
       "\\item 'NOKIA'\n",
       "\\item 'NEC'\n",
       "\\item 'FUJITSU'\n",
       "\\item 'GENERAL ELECT'\n",
       "\\item 'THE REGENTS OF THE UNIVERSITY OF CALIFORNIA'\n",
       "\\item 'IBM UK'\n",
       "\\item 'MITSUBISHI ELECT'\n",
       "\\item 'TENCENT TECH SHENZHEN'\n",
       "\\item 'HEWLETT PACKARD DEV CO'\n",
       "\\item 'TELEFON AB LM ERICSSON PUBL'\n",
       "\\end{enumerate*}\n"
      ],
      "text/markdown": [
       "1. 'GOOGLE'\n",
       "2. 'MICROSOFT TECH LICENSING'\n",
       "3. 'MICROSOFT'\n",
       "4. 'IBM'\n",
       "5. 'INTEL'\n",
       "6. 'SIEMENS'\n",
       "7. 'SAMSUNG ELECT'\n",
       "8. 'QUALCOMM'\n",
       "9. 'KON PHILIPS'\n",
       "10. 'KON PHILIPS ELECT'\n",
       "11. 'HUAWEI'\n",
       "12. 'SONY'\n",
       "13. 'NOKIA'\n",
       "14. 'NEC'\n",
       "15. 'FUJITSU'\n",
       "16. 'GENERAL ELECT'\n",
       "17. 'THE REGENTS OF THE UNIVERSITY OF CALIFORNIA'\n",
       "18. 'IBM UK'\n",
       "19. 'MITSUBISHI ELECT'\n",
       "20. 'TENCENT TECH SHENZHEN'\n",
       "21. 'HEWLETT PACKARD DEV CO'\n",
       "22. 'TELEFON AB LM ERICSSON PUBL'\n",
       "\n",
       "\n"
      ],
      "text/plain": [
       " [1] \"GOOGLE\"                                     \n",
       " [2] \"MICROSOFT TECH LICENSING\"                   \n",
       " [3] \"MICROSOFT\"                                  \n",
       " [4] \"IBM\"                                        \n",
       " [5] \"INTEL\"                                      \n",
       " [6] \"SIEMENS\"                                    \n",
       " [7] \"SAMSUNG ELECT\"                              \n",
       " [8] \"QUALCOMM\"                                   \n",
       " [9] \"KON PHILIPS\"                                \n",
       "[10] \"KON PHILIPS ELECT\"                          \n",
       "[11] \"HUAWEI\"                                     \n",
       "[12] \"SONY\"                                       \n",
       "[13] \"NOKIA\"                                      \n",
       "[14] \"NEC\"                                        \n",
       "[15] \"FUJITSU\"                                    \n",
       "[16] \"GENERAL ELECT\"                              \n",
       "[17] \"THE REGENTS OF THE UNIVERSITY OF CALIFORNIA\"\n",
       "[18] \"IBM UK\"                                     \n",
       "[19] \"MITSUBISHI ELECT\"                           \n",
       "[20] \"TENCENT TECH SHENZHEN\"                      \n",
       "[21] \"HEWLETT PACKARD DEV CO\"                     \n",
       "[22] \"TELEFON AB LM ERICSSON PUBL\"                "
      ]
     },
     "metadata": {},
     "output_type": "display_data"
    }
   ],
   "source": [
    "Top_Owners$APPLICANT_MATCH_NAME"
   ]
  }
 ],
 "metadata": {
  "kernelspec": {
   "display_name": "R",
   "language": "R",
   "name": "ir"
  },
  "language_info": {
   "codemirror_mode": "r",
   "file_extension": ".r",
   "mimetype": "text/x-r-source",
   "name": "R",
   "pygments_lexer": "r",
   "version": "3.6.1"
  }
 },
 "nbformat": 4,
 "nbformat_minor": 4
}
