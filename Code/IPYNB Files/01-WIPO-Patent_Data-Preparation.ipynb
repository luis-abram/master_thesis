{
 "cells": [
  {
   "cell_type": "markdown",
   "metadata": {},
   "source": [
    "Library and Directory Setup"
   ]
  },
  {
   "cell_type": "code",
   "execution_count": 1,
   "metadata": {
    "collapsed": true
   },
   "outputs": [
    {
     "name": "stderr",
     "output_type": "stream",
     "text": [
      "Warning message:\n",
      "\"package 'data.table' was built under R version 3.6.3\"Warning message:\n",
      "\"package 'dplyr' was built under R version 3.6.3\"\n",
      "Attaching package: 'dplyr'\n",
      "\n",
      "The following objects are masked from 'package:data.table':\n",
      "\n",
      "    between, first, last\n",
      "\n",
      "The following objects are masked from 'package:stats':\n",
      "\n",
      "    filter, lag\n",
      "\n",
      "The following objects are masked from 'package:base':\n",
      "\n",
      "    intersect, setdiff, setequal, union\n",
      "\n",
      "Warning message:\n",
      "\"package 'readr' was built under R version 3.6.3\"Warning message:\n",
      "\"package 'purrr' was built under R version 3.6.3\"\n",
      "Attaching package: 'purrr'\n",
      "\n",
      "The following object is masked from 'package:data.table':\n",
      "\n",
      "    transpose\n",
      "\n",
      "Warning message:\n",
      "\"package 'tidyr' was built under R version 3.6.3\"Warning message:\n",
      "\"package 'lubridate' was built under R version 3.6.3\"\n",
      "Attaching package: 'lubridate'\n",
      "\n",
      "The following objects are masked from 'package:data.table':\n",
      "\n",
      "    hour, isoweek, mday, minute, month, quarter, second, wday, week,\n",
      "    yday, year\n",
      "\n",
      "The following object is masked from 'package:base':\n",
      "\n",
      "    date\n",
      "\n",
      "Warning message:\n",
      "\"package 'tidyverse' was built under R version 3.6.3\""
     ]
    },
    {
     "ename": "ERROR",
     "evalue": "Error: package or namespace load failed for 'tidyverse' in loadNamespace(j <- i[[1L]], c(lib.loc, .libPaths()), versionCheck = vI[[j]]):\n there is no package called 'nlme'\n",
     "output_type": "error",
     "traceback": [
      "Error: package or namespace load failed for 'tidyverse' in loadNamespace(j <- i[[1L]], c(lib.loc, .libPaths()), versionCheck = vI[[j]]):\n there is no package called 'nlme'\nTraceback:\n",
      "1. library(tidyverse)",
      "2. tryCatch({\n .     attr(package, \"LibPath\") <- which.lib.loc\n .     ns <- loadNamespace(package, lib.loc)\n .     env <- attachNamespace(ns, pos = pos, deps, exclude, include.only)\n . }, error = function(e) {\n .     P <- if (!is.null(cc <- conditionCall(e))) \n .         paste(\" in\", deparse(cc)[1L])\n .     else \"\"\n .     msg <- gettextf(\"package or namespace load failed for %s%s:\\n %s\", \n .         sQuote(package), P, conditionMessage(e))\n .     if (logical.return) \n .         message(paste(\"Error:\", msg), domain = NA)\n .     else stop(msg, call. = FALSE, domain = NA)\n . })",
      "3. tryCatchList(expr, classes, parentenv, handlers)",
      "4. tryCatchOne(expr, names, parentenv, handlers[[1L]])",
      "5. value[[3L]](cond)",
      "6. stop(msg, call. = FALSE, domain = NA)"
     ]
    }
   ],
   "source": [
    "library(data.table)\n",
    "library(dplyr)\n",
    "library(readr)\n",
    "library(purrr)\n",
    "library(tidyr)\n",
    "library(lubridate)\n",
    "library(tidyverse)\n",
    "library(stringr)\n",
    "library(rio)"
   ]
  },
  {
   "cell_type": "code",
   "execution_count": 2,
   "metadata": {},
   "outputs": [
    {
     "data": {
      "text/html": [
       "'F:/Thesis/Source_Data/WIPO_AI_Patents/WIPO_Patenscope-Transnational_Patents'"
      ],
      "text/latex": [
       "'F:/Thesis/Source\\_Data/WIPO\\_AI\\_Patents/WIPO\\_Patenscope-Transnational\\_Patents'"
      ],
      "text/markdown": [
       "'F:/Thesis/Source_Data/WIPO_AI_Patents/WIPO_Patenscope-Transnational_Patents'"
      ],
      "text/plain": [
       "[1] \"F:/Thesis/Source_Data/WIPO_AI_Patents/WIPO_Patenscope-Transnational_Patents\""
      ]
     },
     "metadata": {},
     "output_type": "display_data"
    }
   ],
   "source": [
    "setwd(\"F:/Thesis/Source_Data/WIPO_AI_Patents/WIPO_Patenscope-Transnational_Patents\")\n",
    "getwd()"
   ]
  },
  {
   "cell_type": "code",
   "execution_count": null,
   "metadata": {},
   "outputs": [],
   "source": [
    "Directory"
   ]
  },
  {
   "cell_type": "markdown",
   "metadata": {},
   "source": [
    "## 1.1) Queries Consolidation\n",
    "PATENTSCOPE AI Index developed by WIPO allows a maximum of 10 thousand patent applications to be donwloaded in a Microsoft 97-2003 Excel format. In total, 66 queries were necessary to retrieve all the relevant patent applications, meaning the data is distributed across 66 differentfiles "
   ]
  },
  {
   "cell_type": "markdown",
   "metadata": {},
   "source": [
    "However, the first step necessary is the transformation of the files from xls to csv. This has to be run in case the files have not yet been transformed. At the time of the submission of the thesis the csv files were already created and included in the WIPO_Patenscope-Transnational_Patents folder"
   ]
  },
  {
   "cell_type": "code",
   "execution_count": null,
   "metadata": {},
   "outputs": [],
   "source": [
    "#xls <- list.files(pattern = \"*.xls\", recursive = TRUE, full.names = TRUE)\n",
    "#created <- mapply(convert, xls, gsub(\"xls\", \"csv\", xls))"
   ]
  },
  {
   "cell_type": "markdown",
   "metadata": {},
   "source": [
    "Now we proceed to open and combine all files. Each query has been saved in the following format:\n",
    "\n",
    "Category/Field/-Subfield-TimeSpan.csv"
   ]
  },
  {
   "cell_type": "code",
   "execution_count": 3,
   "metadata": {
    "scrolled": false
   },
   "outputs": [
    {
     "data": {
      "text/html": [
       "66"
      ],
      "text/latex": [
       "66"
      ],
      "text/markdown": [
       "66"
      ],
      "text/plain": [
       "[1] 66"
      ]
     },
     "metadata": {},
     "output_type": "display_data"
    },
    {
     "data": {
      "text/html": [
       "<ol class=list-inline>\n",
       "\t<li>'Field_Applications/Agriculture-Agriculture-All.csv'</li>\n",
       "\t<li>'Field_Applications/Arts and Humanities-Arts and Humanities-All.csv'</li>\n",
       "\t<li>'Field_Applications/Banking and Finance-Banking and Finance-All.csv'</li>\n",
       "</ol>\n"
      ],
      "text/latex": [
       "\\begin{enumerate*}\n",
       "\\item 'Field\\_Applications/Agriculture-Agriculture-All.csv'\n",
       "\\item 'Field\\_Applications/Arts and Humanities-Arts and Humanities-All.csv'\n",
       "\\item 'Field\\_Applications/Banking and Finance-Banking and Finance-All.csv'\n",
       "\\end{enumerate*}\n"
      ],
      "text/markdown": [
       "1. 'Field_Applications/Agriculture-Agriculture-All.csv'\n",
       "2. 'Field_Applications/Arts and Humanities-Arts and Humanities-All.csv'\n",
       "3. 'Field_Applications/Banking and Finance-Banking and Finance-All.csv'\n",
       "\n",
       "\n"
      ],
      "text/plain": [
       "[1] \"Field_Applications/Agriculture-Agriculture-All.csv\"                \n",
       "[2] \"Field_Applications/Arts and Humanities-Arts and Humanities-All.csv\"\n",
       "[3] \"Field_Applications/Banking and Finance-Banking and Finance-All.csv\""
      ]
     },
     "metadata": {},
     "output_type": "display_data"
    },
    {
     "data": {
      "text/html": [
       "<ol class=list-inline>\n",
       "\t<li>'Techniques/Ontology Engineering-Ontology Engineering-All.csv'</li>\n",
       "\t<li>'Techniques/Probabilistic Reasoning-Probabilistic Reasoning-All.csv'</li>\n",
       "\t<li>'Techniques/Search Methods-Search Methods-All.csv'</li>\n",
       "</ol>\n"
      ],
      "text/latex": [
       "\\begin{enumerate*}\n",
       "\\item 'Techniques/Ontology Engineering-Ontology Engineering-All.csv'\n",
       "\\item 'Techniques/Probabilistic Reasoning-Probabilistic Reasoning-All.csv'\n",
       "\\item 'Techniques/Search Methods-Search Methods-All.csv'\n",
       "\\end{enumerate*}\n"
      ],
      "text/markdown": [
       "1. 'Techniques/Ontology Engineering-Ontology Engineering-All.csv'\n",
       "2. 'Techniques/Probabilistic Reasoning-Probabilistic Reasoning-All.csv'\n",
       "3. 'Techniques/Search Methods-Search Methods-All.csv'\n",
       "\n",
       "\n"
      ],
      "text/plain": [
       "[1] \"Techniques/Ontology Engineering-Ontology Engineering-All.csv\"      \n",
       "[2] \"Techniques/Probabilistic Reasoning-Probabilistic Reasoning-All.csv\"\n",
       "[3] \"Techniques/Search Methods-Search Methods-All.csv\"                  "
      ]
     },
     "metadata": {},
     "output_type": "display_data"
    }
   ],
   "source": [
    "DirectoryFiles <- list.files(pattern=\"*.csv\", recursive = TRUE)\n",
    "\n",
    "#Number of Queries: 66\n",
    "length(DirectoryFiles)\n",
    "head(DirectoryFiles,3)\n",
    "tail(DirectoryFiles,3)"
   ]
  },
  {
   "cell_type": "markdown",
   "metadata": {},
   "source": [
    "Combine all files into one table: \"RawPatents\"  "
   ]
  },
  {
   "cell_type": "code",
   "execution_count": 4,
   "metadata": {
    "scrolled": false
   },
   "outputs": [
    {
     "name": "stderr",
     "output_type": "stream",
     "text": [
      "Warning message:\n",
      "\"`data_frame()` is deprecated, use `tibble()`.\n",
      "This warning is displayed once per session.\"Warning message:\n",
      "\"`cols` is now required.\n",
      "Please use `cols = c(FileContent)`\""
     ]
    },
    {
     "data": {
      "text/html": [
       "<ol class=list-inline>\n",
       "\t<li>263988</li>\n",
       "\t<li>14</li>\n",
       "</ol>\n"
      ],
      "text/latex": [
       "\\begin{enumerate*}\n",
       "\\item 263988\n",
       "\\item 14\n",
       "\\end{enumerate*}\n"
      ],
      "text/markdown": [
       "1. 263988\n",
       "2. 14\n",
       "\n",
       "\n"
      ],
      "text/plain": [
       "[1] 263988     14"
      ]
     },
     "metadata": {},
     "output_type": "display_data"
    }
   ],
   "source": [
    "RawPatents <- data_frame(File = DirectoryFiles) %>%\n",
    "      mutate(FileContent = \n",
    "                   map(DirectoryFiles, ~ fread(., header=TRUE, skip=5, na.string=c(\"\"),\n",
    "                                               encoding = \"UTF-8\", stringsAsFactors=FALSE)))\n",
    "RawPatents<- data.table(unnest(RawPatents))\n",
    "\n",
    "#Dimension of combined dataset\n",
    "dim(RawPatents)\n",
    "n_rows0 <- nrow(RawPatents)"
   ]
  },
  {
   "cell_type": "markdown",
   "metadata": {},
   "source": [
    "The data collected from WIPO PATENTSCOPE AI Index contains almost 264 thousand entries, which includes duplicates due to the allocation of a patent to several subfields and fields"
   ]
  },
  {
   "cell_type": "markdown",
   "metadata": {},
   "source": [
    "## 1.1) Columns Preparation"
   ]
  },
  {
   "cell_type": "code",
   "execution_count": 5,
   "metadata": {},
   "outputs": [
    {
     "data": {
      "text/html": [
       "<ol class=list-inline>\n",
       "\t<li>'File'</li>\n",
       "\t<li>'Application Id'</li>\n",
       "\t<li>'Application Number'</li>\n",
       "\t<li>'Application Date'</li>\n",
       "\t<li>'Publication Number'</li>\n",
       "\t<li>'Publication Date'</li>\n",
       "\t<li>'Country'</li>\n",
       "\t<li>'Title'</li>\n",
       "\t<li>'Abstract'</li>\n",
       "\t<li>'I P C'</li>\n",
       "\t<li>'Applicants'</li>\n",
       "\t<li>'Inventors'</li>\n",
       "\t<li>'Priorities Data'</li>\n",
       "\t<li>'National Phase Entries'</li>\n",
       "</ol>\n"
      ],
      "text/latex": [
       "\\begin{enumerate*}\n",
       "\\item 'File'\n",
       "\\item 'Application Id'\n",
       "\\item 'Application Number'\n",
       "\\item 'Application Date'\n",
       "\\item 'Publication Number'\n",
       "\\item 'Publication Date'\n",
       "\\item 'Country'\n",
       "\\item 'Title'\n",
       "\\item 'Abstract'\n",
       "\\item 'I P C'\n",
       "\\item 'Applicants'\n",
       "\\item 'Inventors'\n",
       "\\item 'Priorities Data'\n",
       "\\item 'National Phase Entries'\n",
       "\\end{enumerate*}\n"
      ],
      "text/markdown": [
       "1. 'File'\n",
       "2. 'Application Id'\n",
       "3. 'Application Number'\n",
       "4. 'Application Date'\n",
       "5. 'Publication Number'\n",
       "6. 'Publication Date'\n",
       "7. 'Country'\n",
       "8. 'Title'\n",
       "9. 'Abstract'\n",
       "10. 'I P C'\n",
       "11. 'Applicants'\n",
       "12. 'Inventors'\n",
       "13. 'Priorities Data'\n",
       "14. 'National Phase Entries'\n",
       "\n",
       "\n"
      ],
      "text/plain": [
       " [1] \"File\"                   \"Application Id\"         \"Application Number\"    \n",
       " [4] \"Application Date\"       \"Publication Number\"     \"Publication Date\"      \n",
       " [7] \"Country\"                \"Title\"                  \"Abstract\"              \n",
       "[10] \"I P C\"                  \"Applicants\"             \"Inventors\"             \n",
       "[13] \"Priorities Data\"        \"National Phase Entries\""
      ]
     },
     "metadata": {},
     "output_type": "display_data"
    }
   ],
   "source": [
    "colnames(RawPatents)"
   ]
  },
  {
   "cell_type": "markdown",
   "metadata": {},
   "source": [
    "### 1.1.1. Remove empty spaces in column headers"
   ]
  },
  {
   "cell_type": "code",
   "execution_count": 6,
   "metadata": {},
   "outputs": [
    {
     "data": {
      "text/html": [
       "<ol class=list-inline>\n",
       "\t<li>'File'</li>\n",
       "\t<li>'Application_Id'</li>\n",
       "\t<li>'Application_Number'</li>\n",
       "\t<li>'Application_Date'</li>\n",
       "\t<li>'Publication_Number'</li>\n",
       "\t<li>'Publication_Date'</li>\n",
       "\t<li>'Country'</li>\n",
       "\t<li>'Title'</li>\n",
       "\t<li>'Abstract'</li>\n",
       "\t<li>'I_P_C'</li>\n",
       "\t<li>'Applicants'</li>\n",
       "\t<li>'Inventors'</li>\n",
       "\t<li>'Priorities_Data'</li>\n",
       "\t<li>'National_Phase_Entries'</li>\n",
       "</ol>\n"
      ],
      "text/latex": [
       "\\begin{enumerate*}\n",
       "\\item 'File'\n",
       "\\item 'Application\\_Id'\n",
       "\\item 'Application\\_Number'\n",
       "\\item 'Application\\_Date'\n",
       "\\item 'Publication\\_Number'\n",
       "\\item 'Publication\\_Date'\n",
       "\\item 'Country'\n",
       "\\item 'Title'\n",
       "\\item 'Abstract'\n",
       "\\item 'I\\_P\\_C'\n",
       "\\item 'Applicants'\n",
       "\\item 'Inventors'\n",
       "\\item 'Priorities\\_Data'\n",
       "\\item 'National\\_Phase\\_Entries'\n",
       "\\end{enumerate*}\n"
      ],
      "text/markdown": [
       "1. 'File'\n",
       "2. 'Application_Id'\n",
       "3. 'Application_Number'\n",
       "4. 'Application_Date'\n",
       "5. 'Publication_Number'\n",
       "6. 'Publication_Date'\n",
       "7. 'Country'\n",
       "8. 'Title'\n",
       "9. 'Abstract'\n",
       "10. 'I_P_C'\n",
       "11. 'Applicants'\n",
       "12. 'Inventors'\n",
       "13. 'Priorities_Data'\n",
       "14. 'National_Phase_Entries'\n",
       "\n",
       "\n"
      ],
      "text/plain": [
       " [1] \"File\"                   \"Application_Id\"         \"Application_Number\"    \n",
       " [4] \"Application_Date\"       \"Publication_Number\"     \"Publication_Date\"      \n",
       " [7] \"Country\"                \"Title\"                  \"Abstract\"              \n",
       "[10] \"I_P_C\"                  \"Applicants\"             \"Inventors\"             \n",
       "[13] \"Priorities_Data\"        \"National_Phase_Entries\""
      ]
     },
     "metadata": {},
     "output_type": "display_data"
    },
    {
     "data": {
      "text/html": [
       "<ol class=list-inline>\n",
       "\t<li>263988</li>\n",
       "\t<li>14</li>\n",
       "</ol>\n"
      ],
      "text/latex": [
       "\\begin{enumerate*}\n",
       "\\item 263988\n",
       "\\item 14\n",
       "\\end{enumerate*}\n"
      ],
      "text/markdown": [
       "1. 263988\n",
       "2. 14\n",
       "\n",
       "\n"
      ],
      "text/plain": [
       "[1] 263988     14"
      ]
     },
     "metadata": {},
     "output_type": "display_data"
    }
   ],
   "source": [
    "colnames(RawPatents) <- gsub(\" \",\"_\", names(RawPatents))\n",
    "colnames(RawPatents)\n",
    "dim(RawPatents)"
   ]
  },
  {
   "cell_type": "markdown",
   "metadata": {},
   "source": [
    "### 1.1.2.   Assign Category, Field and Subfield to Patent\n",
    "\n",
    "\"File\" column indicates the file from which the entry in the RawPatents has been obtained. From this field we can extract the Category, Field and Subfield of patent record."
   ]
  },
  {
   "cell_type": "code",
   "execution_count": 7,
   "metadata": {},
   "outputs": [
    {
     "data": {
      "text/html": [
       "<ol class=list-inline>\n",
       "\t<li>'Field_Applications/Agriculture-Agriculture-All.csv'</li>\n",
       "\t<li>'Field_Applications/Agriculture-Agriculture-All.csv'</li>\n",
       "\t<li>'Field_Applications/Agriculture-Agriculture-All.csv'</li>\n",
       "\t<li>'Field_Applications/Agriculture-Agriculture-All.csv'</li>\n",
       "\t<li>'Field_Applications/Agriculture-Agriculture-All.csv'</li>\n",
       "\t<li>'Field_Applications/Agriculture-Agriculture-All.csv'</li>\n",
       "</ol>\n"
      ],
      "text/latex": [
       "\\begin{enumerate*}\n",
       "\\item 'Field\\_Applications/Agriculture-Agriculture-All.csv'\n",
       "\\item 'Field\\_Applications/Agriculture-Agriculture-All.csv'\n",
       "\\item 'Field\\_Applications/Agriculture-Agriculture-All.csv'\n",
       "\\item 'Field\\_Applications/Agriculture-Agriculture-All.csv'\n",
       "\\item 'Field\\_Applications/Agriculture-Agriculture-All.csv'\n",
       "\\item 'Field\\_Applications/Agriculture-Agriculture-All.csv'\n",
       "\\end{enumerate*}\n"
      ],
      "text/markdown": [
       "1. 'Field_Applications/Agriculture-Agriculture-All.csv'\n",
       "2. 'Field_Applications/Agriculture-Agriculture-All.csv'\n",
       "3. 'Field_Applications/Agriculture-Agriculture-All.csv'\n",
       "4. 'Field_Applications/Agriculture-Agriculture-All.csv'\n",
       "5. 'Field_Applications/Agriculture-Agriculture-All.csv'\n",
       "6. 'Field_Applications/Agriculture-Agriculture-All.csv'\n",
       "\n",
       "\n"
      ],
      "text/plain": [
       "[1] \"Field_Applications/Agriculture-Agriculture-All.csv\"\n",
       "[2] \"Field_Applications/Agriculture-Agriculture-All.csv\"\n",
       "[3] \"Field_Applications/Agriculture-Agriculture-All.csv\"\n",
       "[4] \"Field_Applications/Agriculture-Agriculture-All.csv\"\n",
       "[5] \"Field_Applications/Agriculture-Agriculture-All.csv\"\n",
       "[6] \"Field_Applications/Agriculture-Agriculture-All.csv\""
      ]
     },
     "metadata": {},
     "output_type": "display_data"
    }
   ],
   "source": [
    "head(RawPatents$File)"
   ]
  },
  {
   "cell_type": "code",
   "execution_count": 8,
   "metadata": {},
   "outputs": [
    {
     "name": "stderr",
     "output_type": "stream",
     "text": [
      "Warning message:\n",
      "\"Expected 5 pieces. Additional pieces discarded in 6324 rows [158862, 158863, 158864, 158865, 158866, 158867, 158868, 158869, 158870, 158871, 158872, 158873, 158874, 158875, 158876, 158877, 158878, 158879, 158880, 158881, ...].\""
     ]
    },
    {
     "data": {
      "text/html": [
       "<ol class=list-inline>\n",
       "\t<li>'Category'</li>\n",
       "\t<li>'Field'</li>\n",
       "\t<li>'Subfield'</li>\n",
       "\t<li>'Query_Period'</li>\n",
       "\t<li>'Application_Id'</li>\n",
       "\t<li>'Application_Number'</li>\n",
       "\t<li>'Application_Date'</li>\n",
       "\t<li>'Publication_Number'</li>\n",
       "\t<li>'Publication_Date'</li>\n",
       "\t<li>'Country'</li>\n",
       "\t<li>'Title'</li>\n",
       "\t<li>'Abstract'</li>\n",
       "\t<li>'I_P_C'</li>\n",
       "\t<li>'Applicants'</li>\n",
       "\t<li>'Inventors'</li>\n",
       "\t<li>'Priorities_Data'</li>\n",
       "\t<li>'National_Phase_Entries'</li>\n",
       "</ol>\n"
      ],
      "text/latex": [
       "\\begin{enumerate*}\n",
       "\\item 'Category'\n",
       "\\item 'Field'\n",
       "\\item 'Subfield'\n",
       "\\item 'Query\\_Period'\n",
       "\\item 'Application\\_Id'\n",
       "\\item 'Application\\_Number'\n",
       "\\item 'Application\\_Date'\n",
       "\\item 'Publication\\_Number'\n",
       "\\item 'Publication\\_Date'\n",
       "\\item 'Country'\n",
       "\\item 'Title'\n",
       "\\item 'Abstract'\n",
       "\\item 'I\\_P\\_C'\n",
       "\\item 'Applicants'\n",
       "\\item 'Inventors'\n",
       "\\item 'Priorities\\_Data'\n",
       "\\item 'National\\_Phase\\_Entries'\n",
       "\\end{enumerate*}\n"
      ],
      "text/markdown": [
       "1. 'Category'\n",
       "2. 'Field'\n",
       "3. 'Subfield'\n",
       "4. 'Query_Period'\n",
       "5. 'Application_Id'\n",
       "6. 'Application_Number'\n",
       "7. 'Application_Date'\n",
       "8. 'Publication_Number'\n",
       "9. 'Publication_Date'\n",
       "10. 'Country'\n",
       "11. 'Title'\n",
       "12. 'Abstract'\n",
       "13. 'I_P_C'\n",
       "14. 'Applicants'\n",
       "15. 'Inventors'\n",
       "16. 'Priorities_Data'\n",
       "17. 'National_Phase_Entries'\n",
       "\n",
       "\n"
      ],
      "text/plain": [
       " [1] \"Category\"               \"Field\"                  \"Subfield\"              \n",
       " [4] \"Query_Period\"           \"Application_Id\"         \"Application_Number\"    \n",
       " [7] \"Application_Date\"       \"Publication_Number\"     \"Publication_Date\"      \n",
       "[10] \"Country\"                \"Title\"                  \"Abstract\"              \n",
       "[13] \"I_P_C\"                  \"Applicants\"             \"Inventors\"             \n",
       "[16] \"Priorities_Data\"        \"National_Phase_Entries\""
      ]
     },
     "metadata": {},
     "output_type": "display_data"
    },
    {
     "data": {
      "text/html": [
       "<ol class=list-inline>\n",
       "\t<li>263988</li>\n",
       "\t<li>17</li>\n",
       "</ol>\n"
      ],
      "text/latex": [
       "\\begin{enumerate*}\n",
       "\\item 263988\n",
       "\\item 17\n",
       "\\end{enumerate*}\n"
      ],
      "text/markdown": [
       "1. 263988\n",
       "2. 17\n",
       "\n",
       "\n"
      ],
      "text/plain": [
       "[1] 263988     17"
      ]
     },
     "metadata": {},
     "output_type": "display_data"
    }
   ],
   "source": [
    "RawPatents <- separate(RawPatents, File,\n",
    "                       into = c(\"Category\",\"Field\", \"Subfield\", \"Query_Period\", NA), sep=\"([\\\\/\\\\-\\\\-\\\\.])\")\n",
    "\n",
    "colnames(RawPatents)\n",
    "dim(RawPatents)"
   ]
  },
  {
   "cell_type": "code",
   "execution_count": 9,
   "metadata": {
    "scrolled": true
   },
   "outputs": [
    {
     "data": {
      "text/html": [
       "<table>\n",
       "<thead><tr><th scope=col>Category</th><th scope=col>Field</th><th scope=col>Subfield</th><th scope=col>Query_Period</th><th scope=col>Application_Id</th><th scope=col>Application_Number</th><th scope=col>Application_Date</th><th scope=col>Publication_Number</th><th scope=col>Publication_Date</th><th scope=col>Country</th><th scope=col>Title</th><th scope=col>Abstract</th><th scope=col>I_P_C</th><th scope=col>Applicants</th><th scope=col>Inventors</th><th scope=col>Priorities_Data</th><th scope=col>National_Phase_Entries</th></tr></thead>\n",
       "<tbody>\n",
       "\t<tr><td>Field_Applications                                                                                                                                                                                                                                                                                                                                                                                                                                                                                                                                                                                                                                                                                                                                                                                                                                                                                                                                              </td><td>Agriculture                                                                                                                                                                                                                                                                                                                                                                                                                                                                                                                                                                                                                                                                                                                                                                                                                                                                                                                                                     </td><td>Agriculture                                                                                                                                                                                                                                                                                                                                                                                                                                                                                                                                                                                                                                                                                                                                                                                                                                                                                                                                                     </td><td>All                                                                                                                                                                                                                                                                                                                                                                                                                                                                                                                                                                                                                                                                                                                                                                                                                                                                                                                                                             </td><td>WO2019217152                                                                                                                                                                                                                                                                                                                                                                                                                                                                                                                                                                                                                                                                                                                                                                                                                                                                                                                                                    </td><td>PCT/US2019/029989                                                                                                                                                                                                                                                                                                                                                                                                                                                                                                                                                                                                                                                                                                                                                                                                                                                                                                                                               </td><td>30.04.2019                                                                                                                                                                                                                                                                                                                                                                                                                                                                                                                                                                                                                                                                                                                                                                                                                                                                                                                                                      </td><td>WO/2019/217152                                                                                                                                                                                                                                                                                                                                                                                                                                                                                                                                                                                                                                                                                                                                                                                                                                                                                                                                                  </td><td>14.11.2019                                                                                                                                                                                                                                                                                                                                                                                                                                                                                                                                                                                                                                                                                                                                                                                                                                                                                                                                                      </td><td>WO                                                                                                                                                                                                                                                                                                                                                                                                                                                                                                                                                                                                                                                                                                                                                                                                                                                                                                                                                              </td><td>DIGITAL VISUALIZATION OF PERIODICALLY UPDATED IN-SEASON AGRICULTURAL FERTILITY PRESCRIPTIONS                                                                                                                                                                                                                                                                                                                                                                                                                                                                                                                                                                                                                                                                                                                                                                                                                                                                    </td><td>In an embodiment, a computer-implemented data processing method comprises: receiving digital input specifying a request to display a map image of a specified agricultural field for a particular day; in response to receiving the input, calculating an interpolated digital image of the specified agricultural field with a plurality of different field properties, by: dividing a digital map of the specified field into a plurality of grids each having a same size and a same area; obtaining, from digital storage, a plurality of data for the different field properties and assigning the data as covariates; grouping the grids into a specified number of clusters based on values of the covariates; pseudo-randomly selecting a specified number of one or more sample values in each of the clusters; evaluating a digital fertility model using the sample values and storing a plurality of output values from the digital fertility model.</td><td>A01B 79/00; A01B 79/02; G06F 17/00; G06Q 50/02                                                                                                                                                                                                                                                                                                                                                                                                                                                                                                                                                                                                                                                                                                                                                                                                                                                                                                                  </td><td>THE CLIMATE CORPORATION                                                                                                                                                                                                                                                                                                                                                                                                                                                                                                                                                                                                                                                                                                                                                                                                                                                                                                                                         </td><td>SANGIREDDY, Harish; DZOTSI, Kofikuma; ARRIAZA, Juan Lopez; GATES, John B.                                                                                                                                                                                                                                                                                                                                                                                                                                                                                                                                                                                                                                                                                                                                                                                                                                                                                       </td><td>62/670,707 11.05.2018 US; 16/048,062 27.07.2018 US                                                                                                                                                                                                                                                                                                                                                                                                                                                                                                                                                                                                                                                                                                                                                                                                                                                                                                              </td><td>NA                                                                                                                                                                                                                                                                                                                                                                                                                                                                                                                                                                                                                                                                                                                                                                                                                                                                                                                                                              </td></tr>\n",
       "</tbody>\n",
       "</table>\n"
      ],
      "text/latex": [
       "\\begin{tabular}{r|lllllllllllllllll}\n",
       " Category & Field & Subfield & Query\\_Period & Application\\_Id & Application\\_Number & Application\\_Date & Publication\\_Number & Publication\\_Date & Country & Title & Abstract & I\\_P\\_C & Applicants & Inventors & Priorities\\_Data & National\\_Phase\\_Entries\\\\\n",
       "\\hline\n",
       "\t Field\\_Applications                                                                                                                                                                                                                                                                                                                                                                                                                                                                                                                                                                                                                                                                                                                                                                                                                                                                                                                                             & Agriculture                                                                                                                                                                                                                                                                                                                                                                                                                                                                                                                                                                                                                                                                                                                                                                                                                                                                                                                                                      & Agriculture                                                                                                                                                                                                                                                                                                                                                                                                                                                                                                                                                                                                                                                                                                                                                                                                                                                                                                                                                      & All                                                                                                                                                                                                                                                                                                                                                                                                                                                                                                                                                                                                                                                                                                                                                                                                                                                                                                                                                              & WO2019217152                                                                                                                                                                                                                                                                                                                                                                                                                                                                                                                                                                                                                                                                                                                                                                                                                                                                                                                                                     & PCT/US2019/029989                                                                                                                                                                                                                                                                                                                                                                                                                                                                                                                                                                                                                                                                                                                                                                                                                                                                                                                                                & 30.04.2019                                                                                                                                                                                                                                                                                                                                                                                                                                                                                                                                                                                                                                                                                                                                                                                                                                                                                                                                                       & WO/2019/217152                                                                                                                                                                                                                                                                                                                                                                                                                                                                                                                                                                                                                                                                                                                                                                                                                                                                                                                                                   & 14.11.2019                                                                                                                                                                                                                                                                                                                                                                                                                                                                                                                                                                                                                                                                                                                                                                                                                                                                                                                                                       & WO                                                                                                                                                                                                                                                                                                                                                                                                                                                                                                                                                                                                                                                                                                                                                                                                                                                                                                                                                               & DIGITAL VISUALIZATION OF PERIODICALLY UPDATED IN-SEASON AGRICULTURAL FERTILITY PRESCRIPTIONS                                                                                                                                                                                                                                                                                                                                                                                                                                                                                                                                                                                                                                                                                                                                                                                                                                                                     & In an embodiment, a computer-implemented data processing method comprises: receiving digital input specifying a request to display a map image of a specified agricultural field for a particular day; in response to receiving the input, calculating an interpolated digital image of the specified agricultural field with a plurality of different field properties, by: dividing a digital map of the specified field into a plurality of grids each having a same size and a same area; obtaining, from digital storage, a plurality of data for the different field properties and assigning the data as covariates; grouping the grids into a specified number of clusters based on values of the covariates; pseudo-randomly selecting a specified number of one or more sample values in each of the clusters; evaluating a digital fertility model using the sample values and storing a plurality of output values from the digital fertility model. & A01B 79/00; A01B 79/02; G06F 17/00; G06Q 50/02                                                                                                                                                                                                                                                                                                                                                                                                                                                                                                                                                                                                                                                                                                                                                                                                                                                                                                                   & THE CLIMATE CORPORATION                                                                                                                                                                                                                                                                                                                                                                                                                                                                                                                                                                                                                                                                                                                                                                                                                                                                                                                                          & SANGIREDDY, Harish; DZOTSI, Kofikuma; ARRIAZA, Juan Lopez; GATES, John B.                                                                                                                                                                                                                                                                                                                                                                                                                                                                                                                                                                                                                                                                                                                                                                                                                                                                                        & 62/670,707 11.05.2018 US; 16/048,062 27.07.2018 US                                                                                                                                                                                                                                                                                                                                                                                                                                                                                                                                                                                                                                                                                                                                                                                                                                                                                                               & NA                                                                                                                                                                                                                                                                                                                                                                                                                                                                                                                                                                                                                                                                                                                                                                                                                                                                                                                                                              \\\\\n",
       "\\end{tabular}\n"
      ],
      "text/markdown": [
       "\n",
       "| Category | Field | Subfield | Query_Period | Application_Id | Application_Number | Application_Date | Publication_Number | Publication_Date | Country | Title | Abstract | I_P_C | Applicants | Inventors | Priorities_Data | National_Phase_Entries |\n",
       "|---|---|---|---|---|---|---|---|---|---|---|---|---|---|---|---|---|\n",
       "| Field_Applications                                                                                                                                                                                                                                                                                                                                                                                                                                                                                                                                                                                                                                                                                                                                                                                                                                                                                                                                               | Agriculture                                                                                                                                                                                                                                                                                                                                                                                                                                                                                                                                                                                                                                                                                                                                                                                                                                                                                                                                                      | Agriculture                                                                                                                                                                                                                                                                                                                                                                                                                                                                                                                                                                                                                                                                                                                                                                                                                                                                                                                                                      | All                                                                                                                                                                                                                                                                                                                                                                                                                                                                                                                                                                                                                                                                                                                                                                                                                                                                                                                                                              | WO2019217152                                                                                                                                                                                                                                                                                                                                                                                                                                                                                                                                                                                                                                                                                                                                                                                                                                                                                                                                                     | PCT/US2019/029989                                                                                                                                                                                                                                                                                                                                                                                                                                                                                                                                                                                                                                                                                                                                                                                                                                                                                                                                                | 30.04.2019                                                                                                                                                                                                                                                                                                                                                                                                                                                                                                                                                                                                                                                                                                                                                                                                                                                                                                                                                       | WO/2019/217152                                                                                                                                                                                                                                                                                                                                                                                                                                                                                                                                                                                                                                                                                                                                                                                                                                                                                                                                                   | 14.11.2019                                                                                                                                                                                                                                                                                                                                                                                                                                                                                                                                                                                                                                                                                                                                                                                                                                                                                                                                                       | WO                                                                                                                                                                                                                                                                                                                                                                                                                                                                                                                                                                                                                                                                                                                                                                                                                                                                                                                                                               | DIGITAL VISUALIZATION OF PERIODICALLY UPDATED IN-SEASON AGRICULTURAL FERTILITY PRESCRIPTIONS                                                                                                                                                                                                                                                                                                                                                                                                                                                                                                                                                                                                                                                                                                                                                                                                                                                                     | In an embodiment, a computer-implemented data processing method comprises: receiving digital input specifying a request to display a map image of a specified agricultural field for a particular day; in response to receiving the input, calculating an interpolated digital image of the specified agricultural field with a plurality of different field properties, by: dividing a digital map of the specified field into a plurality of grids each having a same size and a same area; obtaining, from digital storage, a plurality of data for the different field properties and assigning the data as covariates; grouping the grids into a specified number of clusters based on values of the covariates; pseudo-randomly selecting a specified number of one or more sample values in each of the clusters; evaluating a digital fertility model using the sample values and storing a plurality of output values from the digital fertility model. | A01B 79/00; A01B 79/02; G06F 17/00; G06Q 50/02                                                                                                                                                                                                                                                                                                                                                                                                                                                                                                                                                                                                                                                                                                                                                                                                                                                                                                                   | THE CLIMATE CORPORATION                                                                                                                                                                                                                                                                                                                                                                                                                                                                                                                                                                                                                                                                                                                                                                                                                                                                                                                                          | SANGIREDDY, Harish; DZOTSI, Kofikuma; ARRIAZA, Juan Lopez; GATES, John B.                                                                                                                                                                                                                                                                                                                                                                                                                                                                                                                                                                                                                                                                                                                                                                                                                                                                                        | 62/670,707 11.05.2018 US; 16/048,062 27.07.2018 US                                                                                                                                                                                                                                                                                                                                                                                                                                                                                                                                                                                                                                                                                                                                                                                                                                                                                                               | NA                                                                                                                                                                                                                                                                                                                                                                                                                                                                                                                                                                                                                                                                                                                                                                                                                                                                                                                                                               |\n",
       "\n"
      ],
      "text/plain": [
       "  Category           Field       Subfield    Query_Period Application_Id\n",
       "1 Field_Applications Agriculture Agriculture All          WO2019217152  \n",
       "  Application_Number Application_Date Publication_Number Publication_Date\n",
       "1 PCT/US2019/029989  30.04.2019       WO/2019/217152     14.11.2019      \n",
       "  Country\n",
       "1 WO     \n",
       "  Title                                                                                       \n",
       "1 DIGITAL VISUALIZATION OF PERIODICALLY UPDATED IN-SEASON AGRICULTURAL FERTILITY PRESCRIPTIONS\n",
       "  Abstract                                                                                                                                                                                                                                                                                                                                                                                                                                                                                                                                                                                                                                                                                                                                                                                                                                                                                                                                                        \n",
       "1 In an embodiment, a computer-implemented data processing method comprises: receiving digital input specifying a request to display a map image of a specified agricultural field for a particular day; in response to receiving the input, calculating an interpolated digital image of the specified agricultural field with a plurality of different field properties, by: dividing a digital map of the specified field into a plurality of grids each having a same size and a same area; obtaining, from digital storage, a plurality of data for the different field properties and assigning the data as covariates; grouping the grids into a specified number of clusters based on values of the covariates; pseudo-randomly selecting a specified number of one or more sample values in each of the clusters; evaluating a digital fertility model using the sample values and storing a plurality of output values from the digital fertility model.\n",
       "  I_P_C                                          Applicants             \n",
       "1 A01B 79/00; A01B 79/02; G06F 17/00; G06Q 50/02 THE CLIMATE CORPORATION\n",
       "  Inventors                                                                \n",
       "1 SANGIREDDY, Harish; DZOTSI, Kofikuma; ARRIAZA, Juan Lopez; GATES, John B.\n",
       "  Priorities_Data                                    National_Phase_Entries\n",
       "1 62/670,707 11.05.2018 US; 16/048,062 27.07.2018 US NA                    "
      ]
     },
     "metadata": {},
     "output_type": "display_data"
    },
    {
     "data": {
      "text/html": [
       "<table>\n",
       "<thead><tr><th scope=col>Category</th><th scope=col>Field</th><th scope=col>Subfield</th><th scope=col>Query_Period</th><th scope=col>Application_Id</th><th scope=col>Application_Number</th><th scope=col>Application_Date</th><th scope=col>Publication_Number</th><th scope=col>Publication_Date</th><th scope=col>Country</th><th scope=col>Title</th><th scope=col>Abstract</th><th scope=col>I_P_C</th><th scope=col>Applicants</th><th scope=col>Inventors</th><th scope=col>Priorities_Data</th><th scope=col>National_Phase_Entries</th></tr></thead>\n",
       "<tbody>\n",
       "\t<tr><td>Techniques                                                                                                                                                                                                                                                                                                                                                                                                                                                                                                                                                                                                                                                                                                                                                                                                                                                                                                                                                                                                            </td><td>Search Methods                                                                                                                                                                                                                                                                                                                                                                                                                                                                                                                                                                                                                                                                                                                                                                                                                                                                                                                                                                                                        </td><td>Search Methods                                                                                                                                                                                                                                                                                                                                                                                                                                                                                                                                                                                                                                                                                                                                                                                                                                                                                                                                                                                                        </td><td>All                                                                                                                                                                                                                                                                                                                                                                                                                                                                                                                                                                                                                                                                                                                                                                                                                                                                                                                                                                                                                   </td><td>WO2018132614                                                                                                                                                                                                                                                                                                                                                                                                                                                                                                                                                                                                                                                                                                                                                                                                                                                                                                                                                                                                          </td><td>PCT/US2018/013391                                                                                                                                                                                                                                                                                                                                                                                                                                                                                                                                                                                                                                                                                                                                                                                                                                                                                                                                                                                                     </td><td>11.01.2018                                                                                                                                                                                                                                                                                                                                                                                                                                                                                                                                                                                                                                                                                                                                                                                                                                                                                                                                                                                                            </td><td>WO/2018/132614                                                                                                                                                                                                                                                                                                                                                                                                                                                                                                                                                                                                                                                                                                                                                                                                                                                                                                                                                                                                        </td><td>19.07.2018                                                                                                                                                                                                                                                                                                                                                                                                                                                                                                                                                                                                                                                                                                                                                                                                                                                                                                                                                                                                            </td><td>WO                                                                                                                                                                                                                                                                                                                                                                                                                                                                                                                                                                                                                                                                                                                                                                                                                                                                                                                                                                                                                    </td><td>RULES-BASED NAVIGATION                                                                                                                                                                                                                                                                                                                                                                                                                                                                                                                                                                                                                                                                                                                                                                                                                                                                                                                                                                                                </td><td>In one embodiment, a navigation system (100) for a host vehicle (200) may comprise, at least one processing device (110). The processing device (110) may be programmed to receive a plurality of images representative of an environment of the host vehicle (200). The processing device (110) may also be programmed to analyze the plurality of images to identify at least one navigational state of the host vehicle (200). The processing device (110) may also be programmed to identify a jurisdiction based on at least one indicator of a location of the host vehicle (200), the at least one indicator based at least in part on an analysis of the plurality of images. The processing device (110) may also be programmed to determine at least one navigational rule specific to the identified jurisdiction. The processing device (110) may also be programmed to cause a navigational change based on the identified navigational state and based on the determined at least one navigational rule.</td><td>G01C 21/36; G05D 1/02                                                                                                                                                                                                                                                                                                                                                                                                                                                                                                                                                                                                                                                                                                                                                                                                                                                                                                                                                                                                 </td><td>MOBILEYE VISION TECHNOLOGIES LTD.                                                                                                                                                                                                                                                                                                                                                                                                                                                                                                                                                                                                                                                                                                                                                                                                                                                                                                                                                                                     </td><td>SHALEV-SHWARTZ, Shai; SHASHUA, Amnon; STEIN, Gideon; SHAMMAH, Shaked; TAIEB, Yoav                                                                                                                                                                                                                                                                                                                                                                                                                                                                                                                                                                                                                                                                                                                                                                                                                                                                                                                                     </td><td>62/445,500 12.01.2017 US; 62/546,343 16.08.2017 US; 62/565,244 29.09.2017 US; 62/582,687 07.11.2017 US                                                                                                                                                                                                                                                                                                                                                                                                                                                                                                                                                                                                                                                                                                                                                                                                                                                                                                                </td><td>KR-1020197023466; CN-201880013023.2; EP-2018701918; JP-2019533493                                                                                                                                                                                                                                                                                                                                                                                                                                                                                                                                                                                                                                                                                                                                                                                                                                                                                                                                                     </td></tr>\n",
       "</tbody>\n",
       "</table>\n"
      ],
      "text/latex": [
       "\\begin{tabular}{r|lllllllllllllllll}\n",
       " Category & Field & Subfield & Query\\_Period & Application\\_Id & Application\\_Number & Application\\_Date & Publication\\_Number & Publication\\_Date & Country & Title & Abstract & I\\_P\\_C & Applicants & Inventors & Priorities\\_Data & National\\_Phase\\_Entries\\\\\n",
       "\\hline\n",
       "\t Techniques                                                                                                                                                                                                                                                                                                                                                                                                                                                                                                                                                                                                                                                                                                                                                                                                                                                                                                                                                                                                             & Search Methods                                                                                                                                                                                                                                                                                                                                                                                                                                                                                                                                                                                                                                                                                                                                                                                                                                                                                                                                                                                                         & Search Methods                                                                                                                                                                                                                                                                                                                                                                                                                                                                                                                                                                                                                                                                                                                                                                                                                                                                                                                                                                                                         & All                                                                                                                                                                                                                                                                                                                                                                                                                                                                                                                                                                                                                                                                                                                                                                                                                                                                                                                                                                                                                    & WO2018132614                                                                                                                                                                                                                                                                                                                                                                                                                                                                                                                                                                                                                                                                                                                                                                                                                                                                                                                                                                                                           & PCT/US2018/013391                                                                                                                                                                                                                                                                                                                                                                                                                                                                                                                                                                                                                                                                                                                                                                                                                                                                                                                                                                                                      & 11.01.2018                                                                                                                                                                                                                                                                                                                                                                                                                                                                                                                                                                                                                                                                                                                                                                                                                                                                                                                                                                                                             & WO/2018/132614                                                                                                                                                                                                                                                                                                                                                                                                                                                                                                                                                                                                                                                                                                                                                                                                                                                                                                                                                                                                         & 19.07.2018                                                                                                                                                                                                                                                                                                                                                                                                                                                                                                                                                                                                                                                                                                                                                                                                                                                                                                                                                                                                             & WO                                                                                                                                                                                                                                                                                                                                                                                                                                                                                                                                                                                                                                                                                                                                                                                                                                                                                                                                                                                                                     & RULES-BASED NAVIGATION                                                                                                                                                                                                                                                                                                                                                                                                                                                                                                                                                                                                                                                                                                                                                                                                                                                                                                                                                                                                 & In one embodiment, a navigation system (100) for a host vehicle (200) may comprise, at least one processing device (110). The processing device (110) may be programmed to receive a plurality of images representative of an environment of the host vehicle (200). The processing device (110) may also be programmed to analyze the plurality of images to identify at least one navigational state of the host vehicle (200). The processing device (110) may also be programmed to identify a jurisdiction based on at least one indicator of a location of the host vehicle (200), the at least one indicator based at least in part on an analysis of the plurality of images. The processing device (110) may also be programmed to determine at least one navigational rule specific to the identified jurisdiction. The processing device (110) may also be programmed to cause a navigational change based on the identified navigational state and based on the determined at least one navigational rule. & G01C 21/36; G05D 1/02                                                                                                                                                                                                                                                                                                                                                                                                                                                                                                                                                                                                                                                                                                                                                                                                                                                                                                                                                                                                  & MOBILEYE VISION TECHNOLOGIES LTD.                                                                                                                                                                                                                                                                                                                                                                                                                                                                                                                                                                                                                                                                                                                                                                                                                                                                                                                                                                                      & SHALEV-SHWARTZ, Shai; SHASHUA, Amnon; STEIN, Gideon; SHAMMAH, Shaked; TAIEB, Yoav                                                                                                                                                                                                                                                                                                                                                                                                                                                                                                                                                                                                                                                                                                                                                                                                                                                                                                                                      & 62/445,500 12.01.2017 US; 62/546,343 16.08.2017 US; 62/565,244 29.09.2017 US; 62/582,687 07.11.2017 US                                                                                                                                                                                                                                                                                                                                                                                                                                                                                                                                                                                                                                                                                                                                                                                                                                                                                                                 & KR-1020197023466; CN-201880013023.2; EP-2018701918; JP-2019533493                                                                                                                                                                                                                                                                                                                                                                                                                                                                                                                                                                                                                                                                                                                                                                                                                                                                                                                                                     \\\\\n",
       "\\end{tabular}\n"
      ],
      "text/markdown": [
       "\n",
       "| Category | Field | Subfield | Query_Period | Application_Id | Application_Number | Application_Date | Publication_Number | Publication_Date | Country | Title | Abstract | I_P_C | Applicants | Inventors | Priorities_Data | National_Phase_Entries |\n",
       "|---|---|---|---|---|---|---|---|---|---|---|---|---|---|---|---|---|\n",
       "| Techniques                                                                                                                                                                                                                                                                                                                                                                                                                                                                                                                                                                                                                                                                                                                                                                                                                                                                                                                                                                                                             | Search Methods                                                                                                                                                                                                                                                                                                                                                                                                                                                                                                                                                                                                                                                                                                                                                                                                                                                                                                                                                                                                         | Search Methods                                                                                                                                                                                                                                                                                                                                                                                                                                                                                                                                                                                                                                                                                                                                                                                                                                                                                                                                                                                                         | All                                                                                                                                                                                                                                                                                                                                                                                                                                                                                                                                                                                                                                                                                                                                                                                                                                                                                                                                                                                                                    | WO2018132614                                                                                                                                                                                                                                                                                                                                                                                                                                                                                                                                                                                                                                                                                                                                                                                                                                                                                                                                                                                                           | PCT/US2018/013391                                                                                                                                                                                                                                                                                                                                                                                                                                                                                                                                                                                                                                                                                                                                                                                                                                                                                                                                                                                                      | 11.01.2018                                                                                                                                                                                                                                                                                                                                                                                                                                                                                                                                                                                                                                                                                                                                                                                                                                                                                                                                                                                                             | WO/2018/132614                                                                                                                                                                                                                                                                                                                                                                                                                                                                                                                                                                                                                                                                                                                                                                                                                                                                                                                                                                                                         | 19.07.2018                                                                                                                                                                                                                                                                                                                                                                                                                                                                                                                                                                                                                                                                                                                                                                                                                                                                                                                                                                                                             | WO                                                                                                                                                                                                                                                                                                                                                                                                                                                                                                                                                                                                                                                                                                                                                                                                                                                                                                                                                                                                                     | RULES-BASED NAVIGATION                                                                                                                                                                                                                                                                                                                                                                                                                                                                                                                                                                                                                                                                                                                                                                                                                                                                                                                                                                                                 | In one embodiment, a navigation system (100) for a host vehicle (200) may comprise, at least one processing device (110). The processing device (110) may be programmed to receive a plurality of images representative of an environment of the host vehicle (200). The processing device (110) may also be programmed to analyze the plurality of images to identify at least one navigational state of the host vehicle (200). The processing device (110) may also be programmed to identify a jurisdiction based on at least one indicator of a location of the host vehicle (200), the at least one indicator based at least in part on an analysis of the plurality of images. The processing device (110) may also be programmed to determine at least one navigational rule specific to the identified jurisdiction. The processing device (110) may also be programmed to cause a navigational change based on the identified navigational state and based on the determined at least one navigational rule. | G01C 21/36; G05D 1/02                                                                                                                                                                                                                                                                                                                                                                                                                                                                                                                                                                                                                                                                                                                                                                                                                                                                                                                                                                                                  | MOBILEYE VISION TECHNOLOGIES LTD.                                                                                                                                                                                                                                                                                                                                                                                                                                                                                                                                                                                                                                                                                                                                                                                                                                                                                                                                                                                      | SHALEV-SHWARTZ, Shai; SHASHUA, Amnon; STEIN, Gideon; SHAMMAH, Shaked; TAIEB, Yoav                                                                                                                                                                                                                                                                                                                                                                                                                                                                                                                                                                                                                                                                                                                                                                                                                                                                                                                                      | 62/445,500 12.01.2017 US; 62/546,343 16.08.2017 US; 62/565,244 29.09.2017 US; 62/582,687 07.11.2017 US                                                                                                                                                                                                                                                                                                                                                                                                                                                                                                                                                                                                                                                                                                                                                                                                                                                                                                                 | KR-1020197023466; CN-201880013023.2; EP-2018701918; JP-2019533493                                                                                                                                                                                                                                                                                                                                                                                                                                                                                                                                                                                                                                                                                                                                                                                                                                                                                                                                                      |\n",
       "\n"
      ],
      "text/plain": [
       "  Category   Field          Subfield       Query_Period Application_Id\n",
       "1 Techniques Search Methods Search Methods All          WO2018132614  \n",
       "  Application_Number Application_Date Publication_Number Publication_Date\n",
       "1 PCT/US2018/013391  11.01.2018       WO/2018/132614     19.07.2018      \n",
       "  Country Title                 \n",
       "1 WO      RULES-BASED NAVIGATION\n",
       "  Abstract                                                                                                                                                                                                                                                                                                                                                                                                                                                                                                                                                                                                                                                                                                                                                                                                                                                                                                                                                                                                              \n",
       "1 In one embodiment, a navigation system (100) for a host vehicle (200) may comprise, at least one processing device (110). The processing device (110) may be programmed to receive a plurality of images representative of an environment of the host vehicle (200). The processing device (110) may also be programmed to analyze the plurality of images to identify at least one navigational state of the host vehicle (200). The processing device (110) may also be programmed to identify a jurisdiction based on at least one indicator of a location of the host vehicle (200), the at least one indicator based at least in part on an analysis of the plurality of images. The processing device (110) may also be programmed to determine at least one navigational rule specific to the identified jurisdiction. The processing device (110) may also be programmed to cause a navigational change based on the identified navigational state and based on the determined at least one navigational rule.\n",
       "  I_P_C                 Applicants                       \n",
       "1 G01C 21/36; G05D 1/02 MOBILEYE VISION TECHNOLOGIES LTD.\n",
       "  Inventors                                                                        \n",
       "1 SHALEV-SHWARTZ, Shai; SHASHUA, Amnon; STEIN, Gideon; SHAMMAH, Shaked; TAIEB, Yoav\n",
       "  Priorities_Data                                                                                       \n",
       "1 62/445,500 12.01.2017 US; 62/546,343 16.08.2017 US; 62/565,244 29.09.2017 US; 62/582,687 07.11.2017 US\n",
       "  National_Phase_Entries                                           \n",
       "1 KR-1020197023466; CN-201880013023.2; EP-2018701918; JP-2019533493"
      ]
     },
     "metadata": {},
     "output_type": "display_data"
    }
   ],
   "source": [
    "head(RawPatents,1)\n",
    "tail(RawPatents,1)"
   ]
  },
  {
   "cell_type": "markdown",
   "metadata": {},
   "source": [
    "### 1.1.3 Drop Irrelevant Features\n",
    "\n",
    "Subfield will also be revomed because, in order to reduce the number of duplicates, the data was by default collected at the field level rather than at the subfield. Duplicates will be indetified and handeld at the Field level \n"
   ]
  },
  {
   "cell_type": "code",
   "execution_count": 10,
   "metadata": {
    "scrolled": true
   },
   "outputs": [
    {
     "data": {
      "text/html": [
       "<ol class=list-inline>\n",
       "\t<li>'Category'</li>\n",
       "\t<li>'Field'</li>\n",
       "\t<li>'Application_Id'</li>\n",
       "\t<li>'Application_Number'</li>\n",
       "\t<li>'Application_Date'</li>\n",
       "\t<li>'Publication_Number'</li>\n",
       "\t<li>'Publication_Date'</li>\n",
       "\t<li>'Country'</li>\n",
       "\t<li>'Title'</li>\n",
       "\t<li>'Applicants'</li>\n",
       "\t<li>'Inventors'</li>\n",
       "</ol>\n"
      ],
      "text/latex": [
       "\\begin{enumerate*}\n",
       "\\item 'Category'\n",
       "\\item 'Field'\n",
       "\\item 'Application\\_Id'\n",
       "\\item 'Application\\_Number'\n",
       "\\item 'Application\\_Date'\n",
       "\\item 'Publication\\_Number'\n",
       "\\item 'Publication\\_Date'\n",
       "\\item 'Country'\n",
       "\\item 'Title'\n",
       "\\item 'Applicants'\n",
       "\\item 'Inventors'\n",
       "\\end{enumerate*}\n"
      ],
      "text/markdown": [
       "1. 'Category'\n",
       "2. 'Field'\n",
       "3. 'Application_Id'\n",
       "4. 'Application_Number'\n",
       "5. 'Application_Date'\n",
       "6. 'Publication_Number'\n",
       "7. 'Publication_Date'\n",
       "8. 'Country'\n",
       "9. 'Title'\n",
       "10. 'Applicants'\n",
       "11. 'Inventors'\n",
       "\n",
       "\n"
      ],
      "text/plain": [
       " [1] \"Category\"           \"Field\"              \"Application_Id\"    \n",
       " [4] \"Application_Number\" \"Application_Date\"   \"Publication_Number\"\n",
       " [7] \"Publication_Date\"   \"Country\"            \"Title\"             \n",
       "[10] \"Applicants\"         \"Inventors\"         "
      ]
     },
     "metadata": {},
     "output_type": "display_data"
    },
    {
     "data": {
      "text/html": [
       "<ol class=list-inline>\n",
       "\t<li>263988</li>\n",
       "\t<li>11</li>\n",
       "</ol>\n"
      ],
      "text/latex": [
       "\\begin{enumerate*}\n",
       "\\item 263988\n",
       "\\item 11\n",
       "\\end{enumerate*}\n"
      ],
      "text/markdown": [
       "1. 263988\n",
       "2. 11\n",
       "\n",
       "\n"
      ],
      "text/plain": [
       "[1] 263988     11"
      ]
     },
     "metadata": {},
     "output_type": "display_data"
    }
   ],
   "source": [
    "DropFeatures <- c(\"Subfield\",\"Query_Period\", \"I_P_C\", \"Priorities_Data\", \"National_Phase_Entries\", \"Abstract\")\n",
    "RawPatents <-select(RawPatents, -!!DropFeatures)\n",
    "colnames(RawPatents)\n",
    "dim(RawPatents)"
   ]
  },
  {
   "cell_type": "markdown",
   "metadata": {},
   "source": [
    "### 1.1.4. Adjust Data Type"
   ]
  },
  {
   "cell_type": "code",
   "execution_count": 11,
   "metadata": {
    "scrolled": true
   },
   "outputs": [
    {
     "data": {
      "text/html": [
       "<dl class=dl-horizontal>\n",
       "\t<dt>Category</dt>\n",
       "\t\t<dd>'character'</dd>\n",
       "\t<dt>Field</dt>\n",
       "\t\t<dd>'character'</dd>\n",
       "\t<dt>Application_Id</dt>\n",
       "\t\t<dd>'character'</dd>\n",
       "\t<dt>Application_Number</dt>\n",
       "\t\t<dd>'character'</dd>\n",
       "\t<dt>Application_Date</dt>\n",
       "\t\t<dd>'character'</dd>\n",
       "\t<dt>Publication_Number</dt>\n",
       "\t\t<dd>'character'</dd>\n",
       "\t<dt>Publication_Date</dt>\n",
       "\t\t<dd>'character'</dd>\n",
       "\t<dt>Country</dt>\n",
       "\t\t<dd>'character'</dd>\n",
       "\t<dt>Title</dt>\n",
       "\t\t<dd>'character'</dd>\n",
       "\t<dt>Applicants</dt>\n",
       "\t\t<dd>'character'</dd>\n",
       "\t<dt>Inventors</dt>\n",
       "\t\t<dd>'character'</dd>\n",
       "</dl>\n"
      ],
      "text/latex": [
       "\\begin{description*}\n",
       "\\item[Category] 'character'\n",
       "\\item[Field] 'character'\n",
       "\\item[Application\\textbackslash{}\\_Id] 'character'\n",
       "\\item[Application\\textbackslash{}\\_Number] 'character'\n",
       "\\item[Application\\textbackslash{}\\_Date] 'character'\n",
       "\\item[Publication\\textbackslash{}\\_Number] 'character'\n",
       "\\item[Publication\\textbackslash{}\\_Date] 'character'\n",
       "\\item[Country] 'character'\n",
       "\\item[Title] 'character'\n",
       "\\item[Applicants] 'character'\n",
       "\\item[Inventors] 'character'\n",
       "\\end{description*}\n"
      ],
      "text/markdown": [
       "Category\n",
       ":   'character'Field\n",
       ":   'character'Application_Id\n",
       ":   'character'Application_Number\n",
       ":   'character'Application_Date\n",
       ":   'character'Publication_Number\n",
       ":   'character'Publication_Date\n",
       ":   'character'Country\n",
       ":   'character'Title\n",
       ":   'character'Applicants\n",
       ":   'character'Inventors\n",
       ":   'character'\n",
       "\n"
      ],
      "text/plain": [
       "          Category              Field     Application_Id Application_Number \n",
       "       \"character\"        \"character\"        \"character\"        \"character\" \n",
       "  Application_Date Publication_Number   Publication_Date            Country \n",
       "       \"character\"        \"character\"        \"character\"        \"character\" \n",
       "             Title         Applicants          Inventors \n",
       "       \"character\"        \"character\"        \"character\" "
      ]
     },
     "metadata": {},
     "output_type": "display_data"
    }
   ],
   "source": [
    "sapply(RawPatents, class)"
   ]
  },
  {
   "cell_type": "code",
   "execution_count": 12,
   "metadata": {},
   "outputs": [],
   "source": [
    "RawPatents$Application_Date <- dmy(RawPatents$Application_Date)"
   ]
  },
  {
   "cell_type": "code",
   "execution_count": 13,
   "metadata": {},
   "outputs": [
    {
     "data": {
      "text/html": [
       "<dl class=dl-horizontal>\n",
       "\t<dt>Category</dt>\n",
       "\t\t<dd>'character'</dd>\n",
       "\t<dt>Field</dt>\n",
       "\t\t<dd>'character'</dd>\n",
       "\t<dt>Application_Id</dt>\n",
       "\t\t<dd>'character'</dd>\n",
       "\t<dt>Application_Number</dt>\n",
       "\t\t<dd>'character'</dd>\n",
       "\t<dt>Application_Date</dt>\n",
       "\t\t<dd>'Date'</dd>\n",
       "\t<dt>Publication_Number</dt>\n",
       "\t\t<dd>'character'</dd>\n",
       "\t<dt>Publication_Date</dt>\n",
       "\t\t<dd>'character'</dd>\n",
       "\t<dt>Country</dt>\n",
       "\t\t<dd>'character'</dd>\n",
       "\t<dt>Title</dt>\n",
       "\t\t<dd>'character'</dd>\n",
       "\t<dt>Applicants</dt>\n",
       "\t\t<dd>'character'</dd>\n",
       "\t<dt>Inventors</dt>\n",
       "\t\t<dd>'character'</dd>\n",
       "</dl>\n"
      ],
      "text/latex": [
       "\\begin{description*}\n",
       "\\item[Category] 'character'\n",
       "\\item[Field] 'character'\n",
       "\\item[Application\\textbackslash{}\\_Id] 'character'\n",
       "\\item[Application\\textbackslash{}\\_Number] 'character'\n",
       "\\item[Application\\textbackslash{}\\_Date] 'Date'\n",
       "\\item[Publication\\textbackslash{}\\_Number] 'character'\n",
       "\\item[Publication\\textbackslash{}\\_Date] 'character'\n",
       "\\item[Country] 'character'\n",
       "\\item[Title] 'character'\n",
       "\\item[Applicants] 'character'\n",
       "\\item[Inventors] 'character'\n",
       "\\end{description*}\n"
      ],
      "text/markdown": [
       "Category\n",
       ":   'character'Field\n",
       ":   'character'Application_Id\n",
       ":   'character'Application_Number\n",
       ":   'character'Application_Date\n",
       ":   'Date'Publication_Number\n",
       ":   'character'Publication_Date\n",
       ":   'character'Country\n",
       ":   'character'Title\n",
       ":   'character'Applicants\n",
       ":   'character'Inventors\n",
       ":   'character'\n",
       "\n"
      ],
      "text/plain": [
       "          Category              Field     Application_Id Application_Number \n",
       "       \"character\"        \"character\"        \"character\"        \"character\" \n",
       "  Application_Date Publication_Number   Publication_Date            Country \n",
       "            \"Date\"        \"character\"        \"character\"        \"character\" \n",
       "             Title         Applicants          Inventors \n",
       "       \"character\"        \"character\"        \"character\" "
      ]
     },
     "metadata": {},
     "output_type": "display_data"
    }
   ],
   "source": [
    "sapply(RawPatents, class)"
   ]
  },
  {
   "cell_type": "code",
   "execution_count": 14,
   "metadata": {},
   "outputs": [
    {
     "data": {
      "text/html": [
       "<table>\n",
       "<thead><tr><th scope=col>Category</th><th scope=col>Field</th><th scope=col>Application_Id</th><th scope=col>Application_Number</th><th scope=col>Application_Date</th><th scope=col>Publication_Number</th><th scope=col>Publication_Date</th><th scope=col>Country</th><th scope=col>Title</th><th scope=col>Applicants</th><th scope=col>Inventors</th></tr></thead>\n",
       "<tbody>\n",
       "\t<tr><td>Field_Applications                                                                                                                                                                                                                                     </td><td>Agriculture                                                                                                                                                                                                                                            </td><td>WO2019217152                                                                                                                                                                                                                                           </td><td>PCT/US2019/029989                                                                                                                                                                                                                                      </td><td>2019-04-30                                                                                                                                                                                                                                             </td><td>WO/2019/217152                                                                                                                                                                                                                                         </td><td>14.11.2019                                                                                                                                                                                                                                             </td><td>WO                                                                                                                                                                                                                                                     </td><td>DIGITAL VISUALIZATION OF PERIODICALLY UPDATED IN-SEASON AGRICULTURAL FERTILITY PRESCRIPTIONS                                                                                                                                                           </td><td>THE CLIMATE CORPORATION                                                                                                                                                                                                                                </td><td>SANGIREDDY, Harish; DZOTSI, Kofikuma; ARRIAZA, Juan Lopez; GATES, John B.                                                                                                                                                                              </td></tr>\n",
       "\t<tr><td>Field_Applications                                                                                                                                                                                                                                     </td><td>Agriculture                                                                                                                                                                                                                                            </td><td>WO2020049182                                                                                                                                                                                                                                           </td><td>PCT/EP2019/073911                                                                                                                                                                                                                                      </td><td>2019-09-08                                                                                                                                                                                                                                             </td><td>WO/2020/049182                                                                                                                                                                                                                                         </td><td>12.03.2020                                                                                                                                                                                                                                             </td><td>WO                                                                                                                                                                                                                                                     </td><td>COGNITIVE COMPUTING METHODS AND SYSTEMS BASED ON BIOLOGICAL NEURAL NETWORKS                                                                                                                                                                            </td><td>ALPVISION S.A.                                                                                                                                                                                                                                         </td><td>JORDAN, Frédéric; KUTTER, Martin; DELACRETAZ, Yves                                                                                                                                                                                                     </td></tr>\n",
       "\t<tr><td>Field_Applications                                                                                                                                                                                                                                     </td><td>Agriculture                                                                                                                                                                                                                                            </td><td>WO2020061193                                                                                                                                                                                                                                           </td><td>PCT/US2019/051732                                                                                                                                                                                                                                      </td><td>2019-09-18                                                                                                                                                                                                                                             </td><td>WO/2020/061193                                                                                                                                                                                                                                         </td><td>26.03.2020                                                                                                                                                                                                                                             </td><td>WO                                                                                                                                                                                                                                                     </td><td>METHOD AND SYSTEM FOR EXECUTING MACHINE LEARNING ALGORITHMS                                                                                                                                                                                            </td><td>THE CLIMATE CORPORATION                                                                                                                                                                                                                                </td><td>ALVAREZ, Francisco; ALI, Mir; MELCHING, Jeff; HOCHMUTH, Erich                                                                                                                                                                                          </td></tr>\n",
       "\t<tr><td>Field_Applications                                                                                                                                                                                                                                     </td><td>Agriculture                                                                                                                                                                                                                                            </td><td>WO2012047834                                                                                                                                                                                                                                           </td><td>PCT/US2011/054689                                                                                                                                                                                                                                      </td><td>2011-10-04                                                                                                                                                                                                                                             </td><td>WO/2012/047834                                                                                                                                                                                                                                         </td><td>12.04.2012                                                                                                                                                                                                                                             </td><td>WO                                                                                                                                                                                                                                                     </td><td>A SYSTEM AND METHOD OF PROVIDING AGRICULTURAL PEDIGREE FOR AGRICULTURAL PRODUCTS THROUGHOUT PRODUCTION AND DISTRIBUTION AND USE OF THE SAME FOR COMMUNICATION, REAL TIME DECISION MAKING, PREDICTIVE MODELING, RISK SHARING AND SUSTAINABLE AGRICULTURE</td><td>BAYER CROPSCIENCE LP; KLAVINS, Maris                                                                                                                                                                                                                   </td><td>KLAVINS, Maris                                                                                                                                                                                                                                         </td></tr>\n",
       "\t<tr><td>Field_Applications                                                                                                                                                                                                                                     </td><td>Agriculture                                                                                                                                                                                                                                            </td><td>EP194755451                                                                                                                                                                                                                                            </td><td>16189806                                                                                                                                                                                                                                               </td><td>2016-09-21                                                                                                                                                                                                                                             </td><td>3151169                                                                                                                                                                                                                                                </td><td>05.04.2017                                                                                                                                                                                                                                             </td><td>EP                                                                                                                                                                                                                                                     </td><td>METHODS AND SYSTEMS FOR OPTIMIZING HIDDEN MARKOV MODEL BASED LAND CHANGE PREDICTION                                                                                                                                                                    </td><td>TATA CONSULTANCY SERVICES LTD                                                                                                                                                                                                                          </td><td>LADHA SHAMSUDDIN NASIRUDDIN; YADAV PIYUSH; DESHPANDE SHAILESH SHANKAR                                                                                                                                                                                  </td></tr>\n",
       "</tbody>\n",
       "</table>\n"
      ],
      "text/latex": [
       "\\begin{tabular}{r|lllllllllll}\n",
       " Category & Field & Application\\_Id & Application\\_Number & Application\\_Date & Publication\\_Number & Publication\\_Date & Country & Title & Applicants & Inventors\\\\\n",
       "\\hline\n",
       "\t Field\\_Applications                                                                                                                                                                                                                                    & Agriculture                                                                                                                                                                                                                                             & WO2019217152                                                                                                                                                                                                                                            & PCT/US2019/029989                                                                                                                                                                                                                                       & 2019-04-30                                                                                                                                                                                                                                              & WO/2019/217152                                                                                                                                                                                                                                          & 14.11.2019                                                                                                                                                                                                                                              & WO                                                                                                                                                                                                                                                      & DIGITAL VISUALIZATION OF PERIODICALLY UPDATED IN-SEASON AGRICULTURAL FERTILITY PRESCRIPTIONS                                                                                                                                                            & THE CLIMATE CORPORATION                                                                                                                                                                                                                                 & SANGIREDDY, Harish; DZOTSI, Kofikuma; ARRIAZA, Juan Lopez; GATES, John B.                                                                                                                                                                              \\\\\n",
       "\t Field\\_Applications                                                                                                                                                                                                                                    & Agriculture                                                                                                                                                                                                                                             & WO2020049182                                                                                                                                                                                                                                            & PCT/EP2019/073911                                                                                                                                                                                                                                       & 2019-09-08                                                                                                                                                                                                                                              & WO/2020/049182                                                                                                                                                                                                                                          & 12.03.2020                                                                                                                                                                                                                                              & WO                                                                                                                                                                                                                                                      & COGNITIVE COMPUTING METHODS AND SYSTEMS BASED ON BIOLOGICAL NEURAL NETWORKS                                                                                                                                                                             & ALPVISION S.A.                                                                                                                                                                                                                                          & JORDAN, Frédéric; KUTTER, Martin; DELACRETAZ, Yves                                                                                                                                                                                                     \\\\\n",
       "\t Field\\_Applications                                                                                                                                                                                                                                    & Agriculture                                                                                                                                                                                                                                             & WO2020061193                                                                                                                                                                                                                                            & PCT/US2019/051732                                                                                                                                                                                                                                       & 2019-09-18                                                                                                                                                                                                                                              & WO/2020/061193                                                                                                                                                                                                                                          & 26.03.2020                                                                                                                                                                                                                                              & WO                                                                                                                                                                                                                                                      & METHOD AND SYSTEM FOR EXECUTING MACHINE LEARNING ALGORITHMS                                                                                                                                                                                             & THE CLIMATE CORPORATION                                                                                                                                                                                                                                 & ALVAREZ, Francisco; ALI, Mir; MELCHING, Jeff; HOCHMUTH, Erich                                                                                                                                                                                          \\\\\n",
       "\t Field\\_Applications                                                                                                                                                                                                                                    & Agriculture                                                                                                                                                                                                                                             & WO2012047834                                                                                                                                                                                                                                            & PCT/US2011/054689                                                                                                                                                                                                                                       & 2011-10-04                                                                                                                                                                                                                                              & WO/2012/047834                                                                                                                                                                                                                                          & 12.04.2012                                                                                                                                                                                                                                              & WO                                                                                                                                                                                                                                                      & A SYSTEM AND METHOD OF PROVIDING AGRICULTURAL PEDIGREE FOR AGRICULTURAL PRODUCTS THROUGHOUT PRODUCTION AND DISTRIBUTION AND USE OF THE SAME FOR COMMUNICATION, REAL TIME DECISION MAKING, PREDICTIVE MODELING, RISK SHARING AND SUSTAINABLE AGRICULTURE & BAYER CROPSCIENCE LP; KLAVINS, Maris                                                                                                                                                                                                                    & KLAVINS, Maris                                                                                                                                                                                                                                         \\\\\n",
       "\t Field\\_Applications                                                                                                                                                                                                                                    & Agriculture                                                                                                                                                                                                                                             & EP194755451                                                                                                                                                                                                                                             & 16189806                                                                                                                                                                                                                                                & 2016-09-21                                                                                                                                                                                                                                              & 3151169                                                                                                                                                                                                                                                 & 05.04.2017                                                                                                                                                                                                                                              & EP                                                                                                                                                                                                                                                      & METHODS AND SYSTEMS FOR OPTIMIZING HIDDEN MARKOV MODEL BASED LAND CHANGE PREDICTION                                                                                                                                                                     & TATA CONSULTANCY SERVICES LTD                                                                                                                                                                                                                           & LADHA SHAMSUDDIN NASIRUDDIN; YADAV PIYUSH; DESHPANDE SHAILESH SHANKAR                                                                                                                                                                                  \\\\\n",
       "\\end{tabular}\n"
      ],
      "text/markdown": [
       "\n",
       "| Category | Field | Application_Id | Application_Number | Application_Date | Publication_Number | Publication_Date | Country | Title | Applicants | Inventors |\n",
       "|---|---|---|---|---|---|---|---|---|---|---|\n",
       "| Field_Applications                                                                                                                                                                                                                                      | Agriculture                                                                                                                                                                                                                                             | WO2019217152                                                                                                                                                                                                                                            | PCT/US2019/029989                                                                                                                                                                                                                                       | 2019-04-30                                                                                                                                                                                                                                              | WO/2019/217152                                                                                                                                                                                                                                          | 14.11.2019                                                                                                                                                                                                                                              | WO                                                                                                                                                                                                                                                      | DIGITAL VISUALIZATION OF PERIODICALLY UPDATED IN-SEASON AGRICULTURAL FERTILITY PRESCRIPTIONS                                                                                                                                                            | THE CLIMATE CORPORATION                                                                                                                                                                                                                                 | SANGIREDDY, Harish; DZOTSI, Kofikuma; ARRIAZA, Juan Lopez; GATES, John B.                                                                                                                                                                               |\n",
       "| Field_Applications                                                                                                                                                                                                                                      | Agriculture                                                                                                                                                                                                                                             | WO2020049182                                                                                                                                                                                                                                            | PCT/EP2019/073911                                                                                                                                                                                                                                       | 2019-09-08                                                                                                                                                                                                                                              | WO/2020/049182                                                                                                                                                                                                                                          | 12.03.2020                                                                                                                                                                                                                                              | WO                                                                                                                                                                                                                                                      | COGNITIVE COMPUTING METHODS AND SYSTEMS BASED ON BIOLOGICAL NEURAL NETWORKS                                                                                                                                                                             | ALPVISION S.A.                                                                                                                                                                                                                                          | JORDAN, Frédéric; KUTTER, Martin; DELACRETAZ, Yves                                                                                                                                                                                                      |\n",
       "| Field_Applications                                                                                                                                                                                                                                      | Agriculture                                                                                                                                                                                                                                             | WO2020061193                                                                                                                                                                                                                                            | PCT/US2019/051732                                                                                                                                                                                                                                       | 2019-09-18                                                                                                                                                                                                                                              | WO/2020/061193                                                                                                                                                                                                                                          | 26.03.2020                                                                                                                                                                                                                                              | WO                                                                                                                                                                                                                                                      | METHOD AND SYSTEM FOR EXECUTING MACHINE LEARNING ALGORITHMS                                                                                                                                                                                             | THE CLIMATE CORPORATION                                                                                                                                                                                                                                 | ALVAREZ, Francisco; ALI, Mir; MELCHING, Jeff; HOCHMUTH, Erich                                                                                                                                                                                           |\n",
       "| Field_Applications                                                                                                                                                                                                                                      | Agriculture                                                                                                                                                                                                                                             | WO2012047834                                                                                                                                                                                                                                            | PCT/US2011/054689                                                                                                                                                                                                                                       | 2011-10-04                                                                                                                                                                                                                                              | WO/2012/047834                                                                                                                                                                                                                                          | 12.04.2012                                                                                                                                                                                                                                              | WO                                                                                                                                                                                                                                                      | A SYSTEM AND METHOD OF PROVIDING AGRICULTURAL PEDIGREE FOR AGRICULTURAL PRODUCTS THROUGHOUT PRODUCTION AND DISTRIBUTION AND USE OF THE SAME FOR COMMUNICATION, REAL TIME DECISION MAKING, PREDICTIVE MODELING, RISK SHARING AND SUSTAINABLE AGRICULTURE | BAYER CROPSCIENCE LP; KLAVINS, Maris                                                                                                                                                                                                                    | KLAVINS, Maris                                                                                                                                                                                                                                          |\n",
       "| Field_Applications                                                                                                                                                                                                                                      | Agriculture                                                                                                                                                                                                                                             | EP194755451                                                                                                                                                                                                                                             | 16189806                                                                                                                                                                                                                                                | 2016-09-21                                                                                                                                                                                                                                              | 3151169                                                                                                                                                                                                                                                 | 05.04.2017                                                                                                                                                                                                                                              | EP                                                                                                                                                                                                                                                      | METHODS AND SYSTEMS FOR OPTIMIZING HIDDEN MARKOV MODEL BASED LAND CHANGE PREDICTION                                                                                                                                                                     | TATA CONSULTANCY SERVICES LTD                                                                                                                                                                                                                           | LADHA SHAMSUDDIN NASIRUDDIN; YADAV PIYUSH; DESHPANDE SHAILESH SHANKAR                                                                                                                                                                                   |\n",
       "\n"
      ],
      "text/plain": [
       "  Category           Field       Application_Id Application_Number\n",
       "1 Field_Applications Agriculture WO2019217152   PCT/US2019/029989 \n",
       "2 Field_Applications Agriculture WO2020049182   PCT/EP2019/073911 \n",
       "3 Field_Applications Agriculture WO2020061193   PCT/US2019/051732 \n",
       "4 Field_Applications Agriculture WO2012047834   PCT/US2011/054689 \n",
       "5 Field_Applications Agriculture EP194755451    16189806          \n",
       "  Application_Date Publication_Number Publication_Date Country\n",
       "1 2019-04-30       WO/2019/217152     14.11.2019       WO     \n",
       "2 2019-09-08       WO/2020/049182     12.03.2020       WO     \n",
       "3 2019-09-18       WO/2020/061193     26.03.2020       WO     \n",
       "4 2011-10-04       WO/2012/047834     12.04.2012       WO     \n",
       "5 2016-09-21       3151169            05.04.2017       EP     \n",
       "  Title                                                                                                                                                                                                                                                  \n",
       "1 DIGITAL VISUALIZATION OF PERIODICALLY UPDATED IN-SEASON AGRICULTURAL FERTILITY PRESCRIPTIONS                                                                                                                                                           \n",
       "2 COGNITIVE COMPUTING METHODS AND SYSTEMS BASED ON BIOLOGICAL NEURAL NETWORKS                                                                                                                                                                            \n",
       "3 METHOD AND SYSTEM FOR EXECUTING MACHINE LEARNING ALGORITHMS                                                                                                                                                                                            \n",
       "4 A SYSTEM AND METHOD OF PROVIDING AGRICULTURAL PEDIGREE FOR AGRICULTURAL PRODUCTS THROUGHOUT PRODUCTION AND DISTRIBUTION AND USE OF THE SAME FOR COMMUNICATION, REAL TIME DECISION MAKING, PREDICTIVE MODELING, RISK SHARING AND SUSTAINABLE AGRICULTURE\n",
       "5 METHODS AND SYSTEMS FOR OPTIMIZING HIDDEN MARKOV MODEL BASED LAND CHANGE PREDICTION                                                                                                                                                                    \n",
       "  Applicants                          \n",
       "1 THE CLIMATE CORPORATION             \n",
       "2 ALPVISION S.A.                      \n",
       "3 THE CLIMATE CORPORATION             \n",
       "4 BAYER CROPSCIENCE LP; KLAVINS, Maris\n",
       "5 TATA CONSULTANCY SERVICES LTD       \n",
       "  Inventors                                                                \n",
       "1 SANGIREDDY, Harish; DZOTSI, Kofikuma; ARRIAZA, Juan Lopez; GATES, John B.\n",
       "2 JORDAN, Frédéric; KUTTER, Martin; DELACRETAZ, Yves                       \n",
       "3 ALVAREZ, Francisco; ALI, Mir; MELCHING, Jeff; HOCHMUTH, Erich            \n",
       "4 KLAVINS, Maris                                                           \n",
       "5 LADHA SHAMSUDDIN NASIRUDDIN; YADAV PIYUSH; DESHPANDE SHAILESH SHANKAR    "
      ]
     },
     "metadata": {},
     "output_type": "display_data"
    }
   ],
   "source": [
    "head(RawPatents,5)"
   ]
  },
  {
   "cell_type": "markdown",
   "metadata": {},
   "source": [
    "## 2) Duplicates elimination and data transformation to show a unique patent application per row"
   ]
  },
  {
   "cell_type": "markdown",
   "metadata": {},
   "source": [
    "### 2.1 Summary entries per category and field"
   ]
  },
  {
   "cell_type": "code",
   "execution_count": 15,
   "metadata": {},
   "outputs": [
    {
     "data": {
      "text/plain": [
       "\n",
       "     Field_Applications Functional_Applications              Techniques \n",
       "                 133398                   80293                   50297 "
      ]
     },
     "metadata": {},
     "output_type": "display_data"
    },
    {
     "data": {
      "text/html": [
       "0"
      ],
      "text/latex": [
       "0"
      ],
      "text/markdown": [
       "0"
      ],
      "text/plain": [
       "[1] 0"
      ]
     },
     "metadata": {},
     "output_type": "display_data"
    }
   ],
   "source": [
    "#Category\n",
    "table((RawPatents$Category))\n",
    "\n",
    "#Consistency Check\n",
    "sum(table((RawPatents$Category)))- n_rows0\n"
   ]
  },
  {
   "cell_type": "code",
   "execution_count": 16,
   "metadata": {
    "scrolled": true
   },
   "outputs": [
    {
     "data": {
      "text/plain": [
       "\n",
       "                            Agriculture                     Arts and Humanities \n",
       "                                    852                                    6504 \n",
       "                    Banking and Finance                                Business \n",
       "                                   4573                                    6385 \n",
       "                            Cartography                         Computer Vision \n",
       "                                   3158                                   45560 \n",
       "                Computing in Government                         Control Methods \n",
       "                                   3840                                    1818 \n",
       "    Distributed Artificial Intelligence Document Management and Text Processing \n",
       "                                    474                                    4916 \n",
       "                              Education                       Energy Management \n",
       "                                   1532                                     733 \n",
       "                          Entertainment                             Fuzzy Logic \n",
       "                                   1997                                     843 \n",
       " Knowledge Representation And Reasoning      Law Social and Behavioral Sciences \n",
       "                                   1427                                    2129 \n",
       "              Life and Medical Sciences                       Logic Programming \n",
       "                                  17927                                    2454 \n",
       "                       Machine Learning                                Military \n",
       "                                  46884                                     957 \n",
       "            Natural Language Processing                                Networks \n",
       "                                  14155                                    3045 \n",
       "                   Ontology Engineering       Personal Devices Computing and Hc \n",
       "                                     14                                   15754 \n",
       "      Physical Sciences and Engineering                 Planning and Scheduling \n",
       "                                  15853                                    5591 \n",
       "                   Predictive Analytics                 Probabilistic Reasoning \n",
       "                                   2767                                      55 \n",
       "                             Publishing                                Robotics \n",
       "                                   8065                                    2597 \n",
       "                         Search Methods                                Security \n",
       "                                     47                                    5987 \n",
       "                      Speech Processing                      Telecommunications \n",
       "                                   5904                                   12597 \n",
       "                         Transportation \n",
       "                                  16594 "
      ]
     },
     "metadata": {},
     "output_type": "display_data"
    },
    {
     "data": {
      "text/html": [
       "0"
      ],
      "text/latex": [
       "0"
      ],
      "text/markdown": [
       "0"
      ],
      "text/plain": [
       "[1] 0"
      ]
     },
     "metadata": {},
     "output_type": "display_data"
    }
   ],
   "source": [
    "#Field\n",
    "table((RawPatents$Field))\n",
    "\n",
    "#Consistency Check\n",
    "sum(table((RawPatents$Field)))- n_rows0"
   ]
  },
  {
   "cell_type": "markdown",
   "metadata": {},
   "source": [
    "### 2.2  Duplicates Elimination\n",
    "\n",
    "Duplicates based on the Application ID are searched at the field level. Any existing duplicate is related to queries undertaken at subfield level. Due to the  limitation of the PATENTSCOPE of returning an error for queries with an excesively large number of patents, some queries at the field level gave an error. Thus, for this fields the data was retreived at the subfield level. Nonetheless, the scope of the study is set at the field level. \n",
    "\n",
    "Any patent assigned to a subfield  naturally will be part of the parent field. It is the case that a patent is assigned to multiple subfields pertainign to the same field. These are the duplicates to be removed. \n"
   ]
  },
  {
   "cell_type": "code",
   "execution_count": 17,
   "metadata": {},
   "outputs": [
    {
     "data": {
      "text/html": [
       "203717"
      ],
      "text/latex": [
       "203717"
      ],
      "text/markdown": [
       "203717"
      ],
      "text/plain": [
       "[1] 203717"
      ]
     },
     "metadata": {},
     "output_type": "display_data"
    },
    {
     "data": {
      "text/html": [
       "60271"
      ],
      "text/latex": [
       "60271"
      ],
      "text/markdown": [
       "60271"
      ],
      "text/plain": [
       "[1] 60271"
      ]
     },
     "metadata": {},
     "output_type": "display_data"
    },
    {
     "data": {
      "text/html": [
       "<ol class=list-inline>\n",
       "\t<li>203717</li>\n",
       "\t<li>11</li>\n",
       "</ol>\n"
      ],
      "text/latex": [
       "\\begin{enumerate*}\n",
       "\\item 203717\n",
       "\\item 11\n",
       "\\end{enumerate*}\n"
      ],
      "text/markdown": [
       "1. 203717\n",
       "2. 11\n",
       "\n",
       "\n"
      ],
      "text/plain": [
       "[1] 203717     11"
      ]
     },
     "metadata": {},
     "output_type": "display_data"
    }
   ],
   "source": [
    "RawPatents <- unique(RawPatents, by=c(\"Field\", \"Application_Id\"))\n",
    "n_rows2 <- nrow(RawPatents)\n",
    "n_rows2\n",
    "\n",
    "#Number entries removed\n",
    "n_rows0-n_rows2 \n",
    "\n",
    "dim(RawPatents)"
   ]
  },
  {
   "cell_type": "markdown",
   "metadata": {},
   "source": [
    "### 2.3 Modify Dataset Structure: From Multiple Entries to One Patent Application per Row\n",
    "\n",
    "Because a patent can be applied to multiple fields, the dataset contains multiple entries for the same patent application"
   ]
  },
  {
   "cell_type": "code",
   "execution_count": 18,
   "metadata": {},
   "outputs": [
    {
     "data": {
      "text/html": [
       "203717"
      ],
      "text/latex": [
       "203717"
      ],
      "text/markdown": [
       "203717"
      ],
      "text/plain": [
       "[1] 203717"
      ]
     },
     "metadata": {},
     "output_type": "display_data"
    },
    {
     "data": {
      "text/html": [
       "22010"
      ],
      "text/latex": [
       "22010"
      ],
      "text/markdown": [
       "22010"
      ],
      "text/plain": [
       "[1] 22010"
      ]
     },
     "metadata": {},
     "output_type": "display_data"
    }
   ],
   "source": [
    "#Number of entries in the dataset\n",
    "n_rows2\n",
    "\n",
    "#Number of unique patent applications\n",
    "length(unique(RawPatents$Application_Id))\n"
   ]
  },
  {
   "cell_type": "markdown",
   "metadata": {},
   "source": [
    "To do this, Field and Category columns will be horizontally casted into dummy variables, so each Field and each Category is a column in the dataset. If a patent has been assigend to a given field and category the value in the corresponsing columns is 1, and 0 otherwise."
   ]
  },
  {
   "cell_type": "code",
   "execution_count": 19,
   "metadata": {},
   "outputs": [
    {
     "data": {
      "text/html": [
       "60403"
      ],
      "text/latex": [
       "60403"
      ],
      "text/markdown": [
       "60403"
      ],
      "text/plain": [
       "[1] 60403"
      ]
     },
     "metadata": {},
     "output_type": "display_data"
    },
    {
     "data": {
      "text/html": [
       "<ol class=list-inline>\n",
       "\t<li>60403</li>\n",
       "\t<li>47</li>\n",
       "</ol>\n"
      ],
      "text/latex": [
       "\\begin{enumerate*}\n",
       "\\item 60403\n",
       "\\item 47\n",
       "\\end{enumerate*}\n"
      ],
      "text/markdown": [
       "1. 60403\n",
       "2. 47\n",
       "\n",
       "\n"
      ],
      "text/plain": [
       "[1] 60403    47"
      ]
     },
     "metadata": {},
     "output_type": "display_data"
    },
    {
     "data": {
      "text/html": [
       "<ol class=list-inline>\n",
       "\t<li>'Application_Id'</li>\n",
       "\t<li>'Application_Number'</li>\n",
       "\t<li>'Application_Date'</li>\n",
       "\t<li>'Publication_Number'</li>\n",
       "\t<li>'Publication_Date'</li>\n",
       "\t<li>'Country'</li>\n",
       "\t<li>'Title'</li>\n",
       "\t<li>'Applicants'</li>\n",
       "\t<li>'Inventors'</li>\n",
       "\t<li>'Agriculture'</li>\n",
       "\t<li>'Arts and Humanities'</li>\n",
       "\t<li>'Banking and Finance'</li>\n",
       "\t<li>'Business'</li>\n",
       "\t<li>'Cartography'</li>\n",
       "\t<li>'Computer Vision'</li>\n",
       "\t<li>'Computing in Government'</li>\n",
       "\t<li>'Control Methods'</li>\n",
       "\t<li>'Distributed Artificial Intelligence'</li>\n",
       "\t<li>'Document Management and Text Processing'</li>\n",
       "\t<li>'Education'</li>\n",
       "\t<li>'Energy Management'</li>\n",
       "\t<li>'Entertainment'</li>\n",
       "\t<li>'Fuzzy Logic'</li>\n",
       "\t<li>'Knowledge Representation And Reasoning'</li>\n",
       "\t<li>'Law Social and Behavioral Sciences'</li>\n",
       "\t<li>'Life and Medical Sciences'</li>\n",
       "\t<li>'Logic Programming'</li>\n",
       "\t<li>'Machine Learning'</li>\n",
       "\t<li>'Military'</li>\n",
       "\t<li>'Natural Language Processing'</li>\n",
       "\t<li>'Networks'</li>\n",
       "\t<li>'Ontology Engineering'</li>\n",
       "\t<li>'Personal Devices Computing and Hc'</li>\n",
       "\t<li>'Physical Sciences and Engineering'</li>\n",
       "\t<li>'Planning and Scheduling'</li>\n",
       "\t<li>'Predictive Analytics'</li>\n",
       "\t<li>'Probabilistic Reasoning'</li>\n",
       "\t<li>'Publishing'</li>\n",
       "\t<li>'Robotics'</li>\n",
       "\t<li>'Search Methods'</li>\n",
       "\t<li>'Security'</li>\n",
       "\t<li>'Speech Processing'</li>\n",
       "\t<li>'Telecommunications'</li>\n",
       "\t<li>'Transportation'</li>\n",
       "\t<li>'Field_Applications'</li>\n",
       "\t<li>'Functional_Applications'</li>\n",
       "\t<li>'Techniques'</li>\n",
       "</ol>\n"
      ],
      "text/latex": [
       "\\begin{enumerate*}\n",
       "\\item 'Application\\_Id'\n",
       "\\item 'Application\\_Number'\n",
       "\\item 'Application\\_Date'\n",
       "\\item 'Publication\\_Number'\n",
       "\\item 'Publication\\_Date'\n",
       "\\item 'Country'\n",
       "\\item 'Title'\n",
       "\\item 'Applicants'\n",
       "\\item 'Inventors'\n",
       "\\item 'Agriculture'\n",
       "\\item 'Arts and Humanities'\n",
       "\\item 'Banking and Finance'\n",
       "\\item 'Business'\n",
       "\\item 'Cartography'\n",
       "\\item 'Computer Vision'\n",
       "\\item 'Computing in Government'\n",
       "\\item 'Control Methods'\n",
       "\\item 'Distributed Artificial Intelligence'\n",
       "\\item 'Document Management and Text Processing'\n",
       "\\item 'Education'\n",
       "\\item 'Energy Management'\n",
       "\\item 'Entertainment'\n",
       "\\item 'Fuzzy Logic'\n",
       "\\item 'Knowledge Representation And Reasoning'\n",
       "\\item 'Law Social and Behavioral Sciences'\n",
       "\\item 'Life and Medical Sciences'\n",
       "\\item 'Logic Programming'\n",
       "\\item 'Machine Learning'\n",
       "\\item 'Military'\n",
       "\\item 'Natural Language Processing'\n",
       "\\item 'Networks'\n",
       "\\item 'Ontology Engineering'\n",
       "\\item 'Personal Devices Computing and Hc'\n",
       "\\item 'Physical Sciences and Engineering'\n",
       "\\item 'Planning and Scheduling'\n",
       "\\item 'Predictive Analytics'\n",
       "\\item 'Probabilistic Reasoning'\n",
       "\\item 'Publishing'\n",
       "\\item 'Robotics'\n",
       "\\item 'Search Methods'\n",
       "\\item 'Security'\n",
       "\\item 'Speech Processing'\n",
       "\\item 'Telecommunications'\n",
       "\\item 'Transportation'\n",
       "\\item 'Field\\_Applications'\n",
       "\\item 'Functional\\_Applications'\n",
       "\\item 'Techniques'\n",
       "\\end{enumerate*}\n"
      ],
      "text/markdown": [
       "1. 'Application_Id'\n",
       "2. 'Application_Number'\n",
       "3. 'Application_Date'\n",
       "4. 'Publication_Number'\n",
       "5. 'Publication_Date'\n",
       "6. 'Country'\n",
       "7. 'Title'\n",
       "8. 'Applicants'\n",
       "9. 'Inventors'\n",
       "10. 'Agriculture'\n",
       "11. 'Arts and Humanities'\n",
       "12. 'Banking and Finance'\n",
       "13. 'Business'\n",
       "14. 'Cartography'\n",
       "15. 'Computer Vision'\n",
       "16. 'Computing in Government'\n",
       "17. 'Control Methods'\n",
       "18. 'Distributed Artificial Intelligence'\n",
       "19. 'Document Management and Text Processing'\n",
       "20. 'Education'\n",
       "21. 'Energy Management'\n",
       "22. 'Entertainment'\n",
       "23. 'Fuzzy Logic'\n",
       "24. 'Knowledge Representation And Reasoning'\n",
       "25. 'Law Social and Behavioral Sciences'\n",
       "26. 'Life and Medical Sciences'\n",
       "27. 'Logic Programming'\n",
       "28. 'Machine Learning'\n",
       "29. 'Military'\n",
       "30. 'Natural Language Processing'\n",
       "31. 'Networks'\n",
       "32. 'Ontology Engineering'\n",
       "33. 'Personal Devices Computing and Hc'\n",
       "34. 'Physical Sciences and Engineering'\n",
       "35. 'Planning and Scheduling'\n",
       "36. 'Predictive Analytics'\n",
       "37. 'Probabilistic Reasoning'\n",
       "38. 'Publishing'\n",
       "39. 'Robotics'\n",
       "40. 'Search Methods'\n",
       "41. 'Security'\n",
       "42. 'Speech Processing'\n",
       "43. 'Telecommunications'\n",
       "44. 'Transportation'\n",
       "45. 'Field_Applications'\n",
       "46. 'Functional_Applications'\n",
       "47. 'Techniques'\n",
       "\n",
       "\n"
      ],
      "text/plain": [
       " [1] \"Application_Id\"                         \n",
       " [2] \"Application_Number\"                     \n",
       " [3] \"Application_Date\"                       \n",
       " [4] \"Publication_Number\"                     \n",
       " [5] \"Publication_Date\"                       \n",
       " [6] \"Country\"                                \n",
       " [7] \"Title\"                                  \n",
       " [8] \"Applicants\"                             \n",
       " [9] \"Inventors\"                              \n",
       "[10] \"Agriculture\"                            \n",
       "[11] \"Arts and Humanities\"                    \n",
       "[12] \"Banking and Finance\"                    \n",
       "[13] \"Business\"                               \n",
       "[14] \"Cartography\"                            \n",
       "[15] \"Computer Vision\"                        \n",
       "[16] \"Computing in Government\"                \n",
       "[17] \"Control Methods\"                        \n",
       "[18] \"Distributed Artificial Intelligence\"    \n",
       "[19] \"Document Management and Text Processing\"\n",
       "[20] \"Education\"                              \n",
       "[21] \"Energy Management\"                      \n",
       "[22] \"Entertainment\"                          \n",
       "[23] \"Fuzzy Logic\"                            \n",
       "[24] \"Knowledge Representation And Reasoning\" \n",
       "[25] \"Law Social and Behavioral Sciences\"     \n",
       "[26] \"Life and Medical Sciences\"              \n",
       "[27] \"Logic Programming\"                      \n",
       "[28] \"Machine Learning\"                       \n",
       "[29] \"Military\"                               \n",
       "[30] \"Natural Language Processing\"            \n",
       "[31] \"Networks\"                               \n",
       "[32] \"Ontology Engineering\"                   \n",
       "[33] \"Personal Devices Computing and Hc\"      \n",
       "[34] \"Physical Sciences and Engineering\"      \n",
       "[35] \"Planning and Scheduling\"                \n",
       "[36] \"Predictive Analytics\"                   \n",
       "[37] \"Probabilistic Reasoning\"                \n",
       "[38] \"Publishing\"                             \n",
       "[39] \"Robotics\"                               \n",
       "[40] \"Search Methods\"                         \n",
       "[41] \"Security\"                               \n",
       "[42] \"Speech Processing\"                      \n",
       "[43] \"Telecommunications\"                     \n",
       "[44] \"Transportation\"                         \n",
       "[45] \"Field_Applications\"                     \n",
       "[46] \"Functional_Applications\"                \n",
       "[47] \"Techniques\"                             "
      ]
     },
     "metadata": {},
     "output_type": "display_data"
    }
   ],
   "source": [
    "## Map field and category into dummy features\n",
    "RawPatents$Dummy <- as.integer(1)\n",
    "RawPatents$Dummy1 <- as.integer(1) \n",
    "\n",
    "RawPatents <- dcast(RawPatents, ... ~ Field, value.var =  \"Dummy\", fill=0)\n",
    "RawPatents <- dcast(RawPatents, ... ~ Category, value.var = \"Dummy1\", fill=0 )\n",
    "n_rows3 <- nrow(RawPatents)\n",
    "\n",
    "#Output\n",
    "n_rows3\n",
    "dim(RawPatents)\n",
    "colnames(RawPatents)"
   ]
  },
  {
   "cell_type": "code",
   "execution_count": 20,
   "metadata": {},
   "outputs": [
    {
     "data": {
      "text/html": [
       "<table>\n",
       "<thead><tr><th scope=col>Application_Id</th><th scope=col>Application_Number</th><th scope=col>Application_Date</th><th scope=col>Publication_Number</th><th scope=col>Publication_Date</th><th scope=col>Country</th><th scope=col>Title</th><th scope=col>Applicants</th><th scope=col>Inventors</th><th scope=col>Agriculture</th><th scope=col>...</th><th scope=col>Publishing</th><th scope=col>Robotics</th><th scope=col>Search Methods</th><th scope=col>Security</th><th scope=col>Speech Processing</th><th scope=col>Telecommunications</th><th scope=col>Transportation</th><th scope=col>Field_Applications</th><th scope=col>Functional_Applications</th><th scope=col>Techniques</th></tr></thead>\n",
       "<tbody>\n",
       "\t<tr><td>EP105446266                                                             </td><td>13198348                                                                </td><td>2013-12-19                                                              </td><td>2746975                                                                 </td><td>25.06.2014                                                              </td><td>EP                                                                      </td><td>CAD drawing notes manager                                               </td><td>SIKORSKY AIRCRAFT CORP                                                  </td><td>MARCHESSEAULT BRIAN DAVID                                               </td><td>0                                                                       </td><td>...                                                                     </td><td>0                                                                       </td><td>0                                                                       </td><td>0                                                                       </td><td>0                                                                       </td><td>0                                                                       </td><td>0                                                                       </td><td>0                                                                       </td><td>0                                                                       </td><td>1                                                                       </td><td>0                                                                       </td></tr>\n",
       "\t<tr><td>EP105446266                                                             </td><td>13198348                                                                </td><td>2013-12-19                                                              </td><td>2746975                                                                 </td><td>25.06.2014                                                              </td><td>EP                                                                      </td><td>CAD drawing notes manager                                               </td><td>SIKORSKY AIRCRAFT CORP                                                  </td><td>MARCHESSEAULT BRIAN DAVID                                               </td><td>0                                                                       </td><td>...                                                                     </td><td>0                                                                       </td><td>0                                                                       </td><td>0                                                                       </td><td>0                                                                       </td><td>0                                                                       </td><td>1                                                                       </td><td>0                                                                       </td><td>1                                                                       </td><td>0                                                                       </td><td>0                                                                       </td></tr>\n",
       "\t<tr><td>EP105446280                                                             </td><td>12199334                                                                </td><td>2012-12-24                                                              </td><td>2746988                                                                 </td><td>25.06.2014                                                              </td><td>EP                                                                      </td><td>Method for identifying a user manipulating a touchscreen device         </td><td>ORANGE                                                                  </td><td>JONCZYK MACIEJ; KARPINSKI MICHAL; STAROSZCZYK TOMASZ                    </td><td>0                                                                       </td><td>...                                                                     </td><td>0                                                                       </td><td>0                                                                       </td><td>0                                                                       </td><td>0                                                                       </td><td>0                                                                       </td><td>0                                                                       </td><td>0                                                                       </td><td>0                                                                       </td><td>1                                                                       </td><td>0                                                                       </td></tr>\n",
       "\t<tr><td>EP105446280                                                             </td><td>12199334                                                                </td><td>2012-12-24                                                              </td><td>2746988                                                                 </td><td>25.06.2014                                                              </td><td>EP                                                                      </td><td>Method for identifying a user manipulating a touchscreen device         </td><td>ORANGE                                                                  </td><td>JONCZYK MACIEJ; KARPINSKI MICHAL; STAROSZCZYK TOMASZ                    </td><td>0                                                                       </td><td>...                                                                     </td><td>0                                                                       </td><td>0                                                                       </td><td>0                                                                       </td><td>1                                                                       </td><td>0                                                                       </td><td>1                                                                       </td><td>1                                                                       </td><td>1                                                                       </td><td>0                                                                       </td><td>0                                                                       </td></tr>\n",
       "\t<tr><td>EP105446307                                                             </td><td>14151134                                                                </td><td>2012-02-23                                                              </td><td>2747013                                                                 </td><td>25.06.2014                                                              </td><td>EP                                                                      </td><td>System and Method for Analyzing Messages in a Network or Across Networks</td><td>BOTTLENOSE INC                                                          </td><td>SPIVACK NOVA; TER HEIDE DOMINIEK                                        </td><td>0                                                                       </td><td>...                                                                     </td><td>0                                                                       </td><td>0                                                                       </td><td>0                                                                       </td><td>0                                                                       </td><td>0                                                                       </td><td>0                                                                       </td><td>0                                                                       </td><td>0                                                                       </td><td>0                                                                       </td><td>1                                                                       </td></tr>\n",
       "</tbody>\n",
       "</table>\n"
      ],
      "text/latex": [
       "\\begin{tabular}{r|lllllllllllllllllllllllllllllllllllllllllllllll}\n",
       " Application\\_Id & Application\\_Number & Application\\_Date & Publication\\_Number & Publication\\_Date & Country & Title & Applicants & Inventors & Agriculture & ... & Publishing & Robotics & Search Methods & Security & Speech Processing & Telecommunications & Transportation & Field\\_Applications & Functional\\_Applications & Techniques\\\\\n",
       "\\hline\n",
       "\t EP105446266                                                              & 13198348                                                                 & 2013-12-19                                                               & 2746975                                                                  & 25.06.2014                                                               & EP                                                                       & CAD drawing notes manager                                                & SIKORSKY AIRCRAFT CORP                                                   & MARCHESSEAULT BRIAN DAVID                                                & 0                                                                        & ...                                                                      & 0                                                                        & 0                                                                        & 0                                                                        & 0                                                                        & 0                                                                        & 0                                                                        & 0                                                                        & 0                                                                        & 1                                                                        & 0                                                                       \\\\\n",
       "\t EP105446266                                                              & 13198348                                                                 & 2013-12-19                                                               & 2746975                                                                  & 25.06.2014                                                               & EP                                                                       & CAD drawing notes manager                                                & SIKORSKY AIRCRAFT CORP                                                   & MARCHESSEAULT BRIAN DAVID                                                & 0                                                                        & ...                                                                      & 0                                                                        & 0                                                                        & 0                                                                        & 0                                                                        & 0                                                                        & 1                                                                        & 0                                                                        & 1                                                                        & 0                                                                        & 0                                                                       \\\\\n",
       "\t EP105446280                                                              & 12199334                                                                 & 2012-12-24                                                               & 2746988                                                                  & 25.06.2014                                                               & EP                                                                       & Method for identifying a user manipulating a touchscreen device          & ORANGE                                                                   & JONCZYK MACIEJ; KARPINSKI MICHAL; STAROSZCZYK TOMASZ                     & 0                                                                        & ...                                                                      & 0                                                                        & 0                                                                        & 0                                                                        & 0                                                                        & 0                                                                        & 0                                                                        & 0                                                                        & 0                                                                        & 1                                                                        & 0                                                                       \\\\\n",
       "\t EP105446280                                                              & 12199334                                                                 & 2012-12-24                                                               & 2746988                                                                  & 25.06.2014                                                               & EP                                                                       & Method for identifying a user manipulating a touchscreen device          & ORANGE                                                                   & JONCZYK MACIEJ; KARPINSKI MICHAL; STAROSZCZYK TOMASZ                     & 0                                                                        & ...                                                                      & 0                                                                        & 0                                                                        & 0                                                                        & 1                                                                        & 0                                                                        & 1                                                                        & 1                                                                        & 1                                                                        & 0                                                                        & 0                                                                       \\\\\n",
       "\t EP105446307                                                              & 14151134                                                                 & 2012-02-23                                                               & 2747013                                                                  & 25.06.2014                                                               & EP                                                                       & System and Method for Analyzing Messages in a Network or Across Networks & BOTTLENOSE INC                                                           & SPIVACK NOVA; TER HEIDE DOMINIEK                                         & 0                                                                        & ...                                                                      & 0                                                                        & 0                                                                        & 0                                                                        & 0                                                                        & 0                                                                        & 0                                                                        & 0                                                                        & 0                                                                        & 0                                                                        & 1                                                                       \\\\\n",
       "\\end{tabular}\n"
      ],
      "text/markdown": [
       "\n",
       "| Application_Id | Application_Number | Application_Date | Publication_Number | Publication_Date | Country | Title | Applicants | Inventors | Agriculture | ... | Publishing | Robotics | Search Methods | Security | Speech Processing | Telecommunications | Transportation | Field_Applications | Functional_Applications | Techniques |\n",
       "|---|---|---|---|---|---|---|---|---|---|---|---|---|---|---|---|---|---|---|---|---|\n",
       "| EP105446266                                                              | 13198348                                                                 | 2013-12-19                                                               | 2746975                                                                  | 25.06.2014                                                               | EP                                                                       | CAD drawing notes manager                                                | SIKORSKY AIRCRAFT CORP                                                   | MARCHESSEAULT BRIAN DAVID                                                | 0                                                                        | ...                                                                      | 0                                                                        | 0                                                                        | 0                                                                        | 0                                                                        | 0                                                                        | 0                                                                        | 0                                                                        | 0                                                                        | 1                                                                        | 0                                                                        |\n",
       "| EP105446266                                                              | 13198348                                                                 | 2013-12-19                                                               | 2746975                                                                  | 25.06.2014                                                               | EP                                                                       | CAD drawing notes manager                                                | SIKORSKY AIRCRAFT CORP                                                   | MARCHESSEAULT BRIAN DAVID                                                | 0                                                                        | ...                                                                      | 0                                                                        | 0                                                                        | 0                                                                        | 0                                                                        | 0                                                                        | 1                                                                        | 0                                                                        | 1                                                                        | 0                                                                        | 0                                                                        |\n",
       "| EP105446280                                                              | 12199334                                                                 | 2012-12-24                                                               | 2746988                                                                  | 25.06.2014                                                               | EP                                                                       | Method for identifying a user manipulating a touchscreen device          | ORANGE                                                                   | JONCZYK MACIEJ; KARPINSKI MICHAL; STAROSZCZYK TOMASZ                     | 0                                                                        | ...                                                                      | 0                                                                        | 0                                                                        | 0                                                                        | 0                                                                        | 0                                                                        | 0                                                                        | 0                                                                        | 0                                                                        | 1                                                                        | 0                                                                        |\n",
       "| EP105446280                                                              | 12199334                                                                 | 2012-12-24                                                               | 2746988                                                                  | 25.06.2014                                                               | EP                                                                       | Method for identifying a user manipulating a touchscreen device          | ORANGE                                                                   | JONCZYK MACIEJ; KARPINSKI MICHAL; STAROSZCZYK TOMASZ                     | 0                                                                        | ...                                                                      | 0                                                                        | 0                                                                        | 0                                                                        | 1                                                                        | 0                                                                        | 1                                                                        | 1                                                                        | 1                                                                        | 0                                                                        | 0                                                                        |\n",
       "| EP105446307                                                              | 14151134                                                                 | 2012-02-23                                                               | 2747013                                                                  | 25.06.2014                                                               | EP                                                                       | System and Method for Analyzing Messages in a Network or Across Networks | BOTTLENOSE INC                                                           | SPIVACK NOVA; TER HEIDE DOMINIEK                                         | 0                                                                        | ...                                                                      | 0                                                                        | 0                                                                        | 0                                                                        | 0                                                                        | 0                                                                        | 0                                                                        | 0                                                                        | 0                                                                        | 0                                                                        | 1                                                                        |\n",
       "\n"
      ],
      "text/plain": [
       "  Application_Id Application_Number Application_Date Publication_Number\n",
       "1 EP105446266    13198348           2013-12-19       2746975           \n",
       "2 EP105446266    13198348           2013-12-19       2746975           \n",
       "3 EP105446280    12199334           2012-12-24       2746988           \n",
       "4 EP105446280    12199334           2012-12-24       2746988           \n",
       "5 EP105446307    14151134           2012-02-23       2747013           \n",
       "  Publication_Date Country\n",
       "1 25.06.2014       EP     \n",
       "2 25.06.2014       EP     \n",
       "3 25.06.2014       EP     \n",
       "4 25.06.2014       EP     \n",
       "5 25.06.2014       EP     \n",
       "  Title                                                                   \n",
       "1 CAD drawing notes manager                                               \n",
       "2 CAD drawing notes manager                                               \n",
       "3 Method for identifying a user manipulating a touchscreen device         \n",
       "4 Method for identifying a user manipulating a touchscreen device         \n",
       "5 System and Method for Analyzing Messages in a Network or Across Networks\n",
       "  Applicants             Inventors                                           \n",
       "1 SIKORSKY AIRCRAFT CORP MARCHESSEAULT BRIAN DAVID                           \n",
       "2 SIKORSKY AIRCRAFT CORP MARCHESSEAULT BRIAN DAVID                           \n",
       "3 ORANGE                 JONCZYK MACIEJ; KARPINSKI MICHAL; STAROSZCZYK TOMASZ\n",
       "4 ORANGE                 JONCZYK MACIEJ; KARPINSKI MICHAL; STAROSZCZYK TOMASZ\n",
       "5 BOTTLENOSE INC         SPIVACK NOVA; TER HEIDE DOMINIEK                    \n",
       "  Agriculture ... Publishing Robotics Search Methods Security Speech Processing\n",
       "1 0           ... 0          0        0              0        0                \n",
       "2 0           ... 0          0        0              0        0                \n",
       "3 0           ... 0          0        0              0        0                \n",
       "4 0           ... 0          0        0              1        0                \n",
       "5 0           ... 0          0        0              0        0                \n",
       "  Telecommunications Transportation Field_Applications Functional_Applications\n",
       "1 0                  0              0                  1                      \n",
       "2 1                  0              1                  0                      \n",
       "3 0                  0              0                  1                      \n",
       "4 1                  1              1                  0                      \n",
       "5 0                  0              0                  0                      \n",
       "  Techniques\n",
       "1 0         \n",
       "2 0         \n",
       "3 0         \n",
       "4 0         \n",
       "5 1         "
      ]
     },
     "metadata": {},
     "output_type": "display_data"
    }
   ],
   "source": [
    "head(RawPatents,5)"
   ]
  },
  {
   "cell_type": "markdown",
   "metadata": {},
   "source": [
    "Agregate all dummy values per unique Application_Id by adding all the columns containing the Fields and Categories.\n",
    "The first Field column is column 10."
   ]
  },
  {
   "cell_type": "code",
   "execution_count": 21,
   "metadata": {
    "scrolled": true
   },
   "outputs": [
    {
     "data": {
      "text/html": [
       "<dl class=dl-horizontal>\n",
       "\t<dt>Application_Id</dt>\n",
       "\t\t<dd>'character'</dd>\n",
       "\t<dt>Application_Number</dt>\n",
       "\t\t<dd>'character'</dd>\n",
       "\t<dt>Application_Date</dt>\n",
       "\t\t<dd>'Date'</dd>\n",
       "\t<dt>Publication_Number</dt>\n",
       "\t\t<dd>'character'</dd>\n",
       "\t<dt>Publication_Date</dt>\n",
       "\t\t<dd>'character'</dd>\n",
       "\t<dt>Country</dt>\n",
       "\t\t<dd>'character'</dd>\n",
       "\t<dt>Title</dt>\n",
       "\t\t<dd>'character'</dd>\n",
       "\t<dt>Applicants</dt>\n",
       "\t\t<dd>'character'</dd>\n",
       "\t<dt>Inventors</dt>\n",
       "\t\t<dd>'character'</dd>\n",
       "\t<dt>Agriculture</dt>\n",
       "\t\t<dd>'integer'</dd>\n",
       "\t<dt>Arts and Humanities</dt>\n",
       "\t\t<dd>'integer'</dd>\n",
       "\t<dt>Banking and Finance</dt>\n",
       "\t\t<dd>'integer'</dd>\n",
       "\t<dt>Business</dt>\n",
       "\t\t<dd>'integer'</dd>\n",
       "\t<dt>Cartography</dt>\n",
       "\t\t<dd>'integer'</dd>\n",
       "\t<dt>Computer Vision</dt>\n",
       "\t\t<dd>'integer'</dd>\n",
       "\t<dt>Computing in Government</dt>\n",
       "\t\t<dd>'integer'</dd>\n",
       "\t<dt>Control Methods</dt>\n",
       "\t\t<dd>'integer'</dd>\n",
       "\t<dt>Distributed Artificial Intelligence</dt>\n",
       "\t\t<dd>'integer'</dd>\n",
       "\t<dt>Document Management and Text Processing</dt>\n",
       "\t\t<dd>'integer'</dd>\n",
       "\t<dt>Education</dt>\n",
       "\t\t<dd>'integer'</dd>\n",
       "\t<dt>Energy Management</dt>\n",
       "\t\t<dd>'integer'</dd>\n",
       "\t<dt>Entertainment</dt>\n",
       "\t\t<dd>'integer'</dd>\n",
       "\t<dt>Fuzzy Logic</dt>\n",
       "\t\t<dd>'integer'</dd>\n",
       "\t<dt>Knowledge Representation And Reasoning</dt>\n",
       "\t\t<dd>'integer'</dd>\n",
       "\t<dt>Law Social and Behavioral Sciences</dt>\n",
       "\t\t<dd>'integer'</dd>\n",
       "\t<dt>Life and Medical Sciences</dt>\n",
       "\t\t<dd>'integer'</dd>\n",
       "\t<dt>Logic Programming</dt>\n",
       "\t\t<dd>'integer'</dd>\n",
       "\t<dt>Machine Learning</dt>\n",
       "\t\t<dd>'integer'</dd>\n",
       "\t<dt>Military</dt>\n",
       "\t\t<dd>'integer'</dd>\n",
       "\t<dt>Natural Language Processing</dt>\n",
       "\t\t<dd>'integer'</dd>\n",
       "\t<dt>Networks</dt>\n",
       "\t\t<dd>'integer'</dd>\n",
       "\t<dt>Ontology Engineering</dt>\n",
       "\t\t<dd>'integer'</dd>\n",
       "\t<dt>Personal Devices Computing and Hc</dt>\n",
       "\t\t<dd>'integer'</dd>\n",
       "\t<dt>Physical Sciences and Engineering</dt>\n",
       "\t\t<dd>'integer'</dd>\n",
       "\t<dt>Planning and Scheduling</dt>\n",
       "\t\t<dd>'integer'</dd>\n",
       "\t<dt>Predictive Analytics</dt>\n",
       "\t\t<dd>'integer'</dd>\n",
       "\t<dt>Probabilistic Reasoning</dt>\n",
       "\t\t<dd>'integer'</dd>\n",
       "\t<dt>Publishing</dt>\n",
       "\t\t<dd>'integer'</dd>\n",
       "\t<dt>Robotics</dt>\n",
       "\t\t<dd>'integer'</dd>\n",
       "\t<dt>Search Methods</dt>\n",
       "\t\t<dd>'integer'</dd>\n",
       "\t<dt>Security</dt>\n",
       "\t\t<dd>'integer'</dd>\n",
       "\t<dt>Speech Processing</dt>\n",
       "\t\t<dd>'integer'</dd>\n",
       "\t<dt>Telecommunications</dt>\n",
       "\t\t<dd>'integer'</dd>\n",
       "\t<dt>Transportation</dt>\n",
       "\t\t<dd>'integer'</dd>\n",
       "\t<dt>Field_Applications</dt>\n",
       "\t\t<dd>'integer'</dd>\n",
       "\t<dt>Functional_Applications</dt>\n",
       "\t\t<dd>'integer'</dd>\n",
       "\t<dt>Techniques</dt>\n",
       "\t\t<dd>'integer'</dd>\n",
       "</dl>\n"
      ],
      "text/latex": [
       "\\begin{description*}\n",
       "\\item[Application\\textbackslash{}\\_Id] 'character'\n",
       "\\item[Application\\textbackslash{}\\_Number] 'character'\n",
       "\\item[Application\\textbackslash{}\\_Date] 'Date'\n",
       "\\item[Publication\\textbackslash{}\\_Number] 'character'\n",
       "\\item[Publication\\textbackslash{}\\_Date] 'character'\n",
       "\\item[Country] 'character'\n",
       "\\item[Title] 'character'\n",
       "\\item[Applicants] 'character'\n",
       "\\item[Inventors] 'character'\n",
       "\\item[Agriculture] 'integer'\n",
       "\\item[Arts and Humanities] 'integer'\n",
       "\\item[Banking and Finance] 'integer'\n",
       "\\item[Business] 'integer'\n",
       "\\item[Cartography] 'integer'\n",
       "\\item[Computer Vision] 'integer'\n",
       "\\item[Computing in Government] 'integer'\n",
       "\\item[Control Methods] 'integer'\n",
       "\\item[Distributed Artificial Intelligence] 'integer'\n",
       "\\item[Document Management and Text Processing] 'integer'\n",
       "\\item[Education] 'integer'\n",
       "\\item[Energy Management] 'integer'\n",
       "\\item[Entertainment] 'integer'\n",
       "\\item[Fuzzy Logic] 'integer'\n",
       "\\item[Knowledge Representation And Reasoning] 'integer'\n",
       "\\item[Law Social and Behavioral Sciences] 'integer'\n",
       "\\item[Life and Medical Sciences] 'integer'\n",
       "\\item[Logic Programming] 'integer'\n",
       "\\item[Machine Learning] 'integer'\n",
       "\\item[Military] 'integer'\n",
       "\\item[Natural Language Processing] 'integer'\n",
       "\\item[Networks] 'integer'\n",
       "\\item[Ontology Engineering] 'integer'\n",
       "\\item[Personal Devices Computing and Hc] 'integer'\n",
       "\\item[Physical Sciences and Engineering] 'integer'\n",
       "\\item[Planning and Scheduling] 'integer'\n",
       "\\item[Predictive Analytics] 'integer'\n",
       "\\item[Probabilistic Reasoning] 'integer'\n",
       "\\item[Publishing] 'integer'\n",
       "\\item[Robotics] 'integer'\n",
       "\\item[Search Methods] 'integer'\n",
       "\\item[Security] 'integer'\n",
       "\\item[Speech Processing] 'integer'\n",
       "\\item[Telecommunications] 'integer'\n",
       "\\item[Transportation] 'integer'\n",
       "\\item[Field\\textbackslash{}\\_Applications] 'integer'\n",
       "\\item[Functional\\textbackslash{}\\_Applications] 'integer'\n",
       "\\item[Techniques] 'integer'\n",
       "\\end{description*}\n"
      ],
      "text/markdown": [
       "Application_Id\n",
       ":   'character'Application_Number\n",
       ":   'character'Application_Date\n",
       ":   'Date'Publication_Number\n",
       ":   'character'Publication_Date\n",
       ":   'character'Country\n",
       ":   'character'Title\n",
       ":   'character'Applicants\n",
       ":   'character'Inventors\n",
       ":   'character'Agriculture\n",
       ":   'integer'Arts and Humanities\n",
       ":   'integer'Banking and Finance\n",
       ":   'integer'Business\n",
       ":   'integer'Cartography\n",
       ":   'integer'Computer Vision\n",
       ":   'integer'Computing in Government\n",
       ":   'integer'Control Methods\n",
       ":   'integer'Distributed Artificial Intelligence\n",
       ":   'integer'Document Management and Text Processing\n",
       ":   'integer'Education\n",
       ":   'integer'Energy Management\n",
       ":   'integer'Entertainment\n",
       ":   'integer'Fuzzy Logic\n",
       ":   'integer'Knowledge Representation And Reasoning\n",
       ":   'integer'Law Social and Behavioral Sciences\n",
       ":   'integer'Life and Medical Sciences\n",
       ":   'integer'Logic Programming\n",
       ":   'integer'Machine Learning\n",
       ":   'integer'Military\n",
       ":   'integer'Natural Language Processing\n",
       ":   'integer'Networks\n",
       ":   'integer'Ontology Engineering\n",
       ":   'integer'Personal Devices Computing and Hc\n",
       ":   'integer'Physical Sciences and Engineering\n",
       ":   'integer'Planning and Scheduling\n",
       ":   'integer'Predictive Analytics\n",
       ":   'integer'Probabilistic Reasoning\n",
       ":   'integer'Publishing\n",
       ":   'integer'Robotics\n",
       ":   'integer'Search Methods\n",
       ":   'integer'Security\n",
       ":   'integer'Speech Processing\n",
       ":   'integer'Telecommunications\n",
       ":   'integer'Transportation\n",
       ":   'integer'Field_Applications\n",
       ":   'integer'Functional_Applications\n",
       ":   'integer'Techniques\n",
       ":   'integer'\n",
       "\n"
      ],
      "text/plain": [
       "                         Application_Id                      Application_Number \n",
       "                            \"character\"                             \"character\" \n",
       "                       Application_Date                      Publication_Number \n",
       "                                 \"Date\"                             \"character\" \n",
       "                       Publication_Date                                 Country \n",
       "                            \"character\"                             \"character\" \n",
       "                                  Title                              Applicants \n",
       "                            \"character\"                             \"character\" \n",
       "                              Inventors                             Agriculture \n",
       "                            \"character\"                               \"integer\" \n",
       "                    Arts and Humanities                     Banking and Finance \n",
       "                              \"integer\"                               \"integer\" \n",
       "                               Business                             Cartography \n",
       "                              \"integer\"                               \"integer\" \n",
       "                        Computer Vision                 Computing in Government \n",
       "                              \"integer\"                               \"integer\" \n",
       "                        Control Methods     Distributed Artificial Intelligence \n",
       "                              \"integer\"                               \"integer\" \n",
       "Document Management and Text Processing                               Education \n",
       "                              \"integer\"                               \"integer\" \n",
       "                      Energy Management                           Entertainment \n",
       "                              \"integer\"                               \"integer\" \n",
       "                            Fuzzy Logic  Knowledge Representation And Reasoning \n",
       "                              \"integer\"                               \"integer\" \n",
       "     Law Social and Behavioral Sciences               Life and Medical Sciences \n",
       "                              \"integer\"                               \"integer\" \n",
       "                      Logic Programming                        Machine Learning \n",
       "                              \"integer\"                               \"integer\" \n",
       "                               Military             Natural Language Processing \n",
       "                              \"integer\"                               \"integer\" \n",
       "                               Networks                    Ontology Engineering \n",
       "                              \"integer\"                               \"integer\" \n",
       "      Personal Devices Computing and Hc       Physical Sciences and Engineering \n",
       "                              \"integer\"                               \"integer\" \n",
       "                Planning and Scheduling                    Predictive Analytics \n",
       "                              \"integer\"                               \"integer\" \n",
       "                Probabilistic Reasoning                              Publishing \n",
       "                              \"integer\"                               \"integer\" \n",
       "                               Robotics                          Search Methods \n",
       "                              \"integer\"                               \"integer\" \n",
       "                               Security                       Speech Processing \n",
       "                              \"integer\"                               \"integer\" \n",
       "                     Telecommunications                          Transportation \n",
       "                              \"integer\"                               \"integer\" \n",
       "                     Field_Applications                 Functional_Applications \n",
       "                              \"integer\"                               \"integer\" \n",
       "                             Techniques \n",
       "                              \"integer\" "
      ]
     },
     "metadata": {},
     "output_type": "display_data"
    }
   ],
   "source": [
    "## Transform data type of dummy variables\n",
    "RawPatents[,10:ncol(RawPatents):= lapply(.SD, as.integer),\n",
    "           .SDcols = 10:ncol(RawPatents)]\n",
    "sapply(RawPatents, class)"
   ]
  },
  {
   "cell_type": "code",
   "execution_count": 22,
   "metadata": {},
   "outputs": [
    {
     "data": {
      "text/html": [
       "<ol class=list-inline>\n",
       "\t<li>60403</li>\n",
       "\t<li>47</li>\n",
       "</ol>\n"
      ],
      "text/latex": [
       "\\begin{enumerate*}\n",
       "\\item 60403\n",
       "\\item 47\n",
       "\\end{enumerate*}\n"
      ],
      "text/markdown": [
       "1. 60403\n",
       "2. 47\n",
       "\n",
       "\n"
      ],
      "text/plain": [
       "[1] 60403    47"
      ]
     },
     "metadata": {},
     "output_type": "display_data"
    }
   ],
   "source": [
    "# Agregate all dummy values per unique Application_Id\n",
    "RawPatents <-RawPatents[, 10:ncol(RawPatents) := lapply(.SD, sum),\n",
    "                        by = Application_Id,\n",
    "                        .SDcols = 10:ncol(RawPatents)]\n",
    "dim(RawPatents)"
   ]
  },
  {
   "cell_type": "code",
   "execution_count": 23,
   "metadata": {},
   "outputs": [
    {
     "data": {
      "text/html": [
       "22010"
      ],
      "text/latex": [
       "22010"
      ],
      "text/markdown": [
       "22010"
      ],
      "text/plain": [
       "[1] 22010"
      ]
     },
     "metadata": {},
     "output_type": "display_data"
    }
   ],
   "source": [
    "#Drop duplicates\n",
    "RawPatents <- unique(RawPatents, by=c(\"Application_Id\"))\n",
    "n_rows4 <- nrow(RawPatents)\n",
    "n_rows4"
   ]
  },
  {
   "cell_type": "markdown",
   "metadata": {},
   "source": [
    "### 2.4) Check Completeness of Data Processing"
   ]
  },
  {
   "cell_type": "code",
   "execution_count": 26,
   "metadata": {},
   "outputs": [
    {
     "data": {
      "text/html": [
       "<ol class=list-inline>\n",
       "\t<li>'Field_Applications'</li>\n",
       "\t<li>'Functional_Applications'</li>\n",
       "\t<li>'Techniques'</li>\n",
       "</ol>\n"
      ],
      "text/latex": [
       "\\begin{enumerate*}\n",
       "\\item 'Field\\_Applications'\n",
       "\\item 'Functional\\_Applications'\n",
       "\\item 'Techniques'\n",
       "\\end{enumerate*}\n"
      ],
      "text/markdown": [
       "1. 'Field_Applications'\n",
       "2. 'Functional_Applications'\n",
       "3. 'Techniques'\n",
       "\n",
       "\n"
      ],
      "text/plain": [
       "[1] \"Field_Applications\"      \"Functional_Applications\"\n",
       "[3] \"Techniques\"             "
      ]
     },
     "metadata": {},
     "output_type": "display_data"
    },
    {
     "data": {
      "text/html": [
       "<ol class=list-inline>\n",
       "\t<li>'Agriculture'</li>\n",
       "\t<li>'Arts and Humanities'</li>\n",
       "\t<li>'Banking and Finance'</li>\n",
       "\t<li>'Business'</li>\n",
       "\t<li>'Cartography'</li>\n",
       "\t<li>'Computer Vision'</li>\n",
       "\t<li>'Computing in Government'</li>\n",
       "\t<li>'Control Methods'</li>\n",
       "\t<li>'Distributed Artificial Intelligence'</li>\n",
       "\t<li>'Document Management and Text Processing'</li>\n",
       "\t<li>'Education'</li>\n",
       "\t<li>'Energy Management'</li>\n",
       "\t<li>'Entertainment'</li>\n",
       "\t<li>'Fuzzy Logic'</li>\n",
       "\t<li>'Knowledge Representation And Reasoning'</li>\n",
       "\t<li>'Law Social and Behavioral Sciences'</li>\n",
       "\t<li>'Life and Medical Sciences'</li>\n",
       "\t<li>'Logic Programming'</li>\n",
       "\t<li>'Machine Learning'</li>\n",
       "\t<li>'Military'</li>\n",
       "\t<li>'Natural Language Processing'</li>\n",
       "\t<li>'Networks'</li>\n",
       "\t<li>'Ontology Engineering'</li>\n",
       "\t<li>'Personal Devices Computing and Hc'</li>\n",
       "\t<li>'Physical Sciences and Engineering'</li>\n",
       "\t<li>'Planning and Scheduling'</li>\n",
       "\t<li>'Predictive Analytics'</li>\n",
       "\t<li>'Probabilistic Reasoning'</li>\n",
       "\t<li>'Publishing'</li>\n",
       "\t<li>'Robotics'</li>\n",
       "\t<li>'Search Methods'</li>\n",
       "\t<li>'Security'</li>\n",
       "\t<li>'Speech Processing'</li>\n",
       "\t<li>'Telecommunications'</li>\n",
       "\t<li>'Transportation'</li>\n",
       "</ol>\n"
      ],
      "text/latex": [
       "\\begin{enumerate*}\n",
       "\\item 'Agriculture'\n",
       "\\item 'Arts and Humanities'\n",
       "\\item 'Banking and Finance'\n",
       "\\item 'Business'\n",
       "\\item 'Cartography'\n",
       "\\item 'Computer Vision'\n",
       "\\item 'Computing in Government'\n",
       "\\item 'Control Methods'\n",
       "\\item 'Distributed Artificial Intelligence'\n",
       "\\item 'Document Management and Text Processing'\n",
       "\\item 'Education'\n",
       "\\item 'Energy Management'\n",
       "\\item 'Entertainment'\n",
       "\\item 'Fuzzy Logic'\n",
       "\\item 'Knowledge Representation And Reasoning'\n",
       "\\item 'Law Social and Behavioral Sciences'\n",
       "\\item 'Life and Medical Sciences'\n",
       "\\item 'Logic Programming'\n",
       "\\item 'Machine Learning'\n",
       "\\item 'Military'\n",
       "\\item 'Natural Language Processing'\n",
       "\\item 'Networks'\n",
       "\\item 'Ontology Engineering'\n",
       "\\item 'Personal Devices Computing and Hc'\n",
       "\\item 'Physical Sciences and Engineering'\n",
       "\\item 'Planning and Scheduling'\n",
       "\\item 'Predictive Analytics'\n",
       "\\item 'Probabilistic Reasoning'\n",
       "\\item 'Publishing'\n",
       "\\item 'Robotics'\n",
       "\\item 'Search Methods'\n",
       "\\item 'Security'\n",
       "\\item 'Speech Processing'\n",
       "\\item 'Telecommunications'\n",
       "\\item 'Transportation'\n",
       "\\end{enumerate*}\n"
      ],
      "text/markdown": [
       "1. 'Agriculture'\n",
       "2. 'Arts and Humanities'\n",
       "3. 'Banking and Finance'\n",
       "4. 'Business'\n",
       "5. 'Cartography'\n",
       "6. 'Computer Vision'\n",
       "7. 'Computing in Government'\n",
       "8. 'Control Methods'\n",
       "9. 'Distributed Artificial Intelligence'\n",
       "10. 'Document Management and Text Processing'\n",
       "11. 'Education'\n",
       "12. 'Energy Management'\n",
       "13. 'Entertainment'\n",
       "14. 'Fuzzy Logic'\n",
       "15. 'Knowledge Representation And Reasoning'\n",
       "16. 'Law Social and Behavioral Sciences'\n",
       "17. 'Life and Medical Sciences'\n",
       "18. 'Logic Programming'\n",
       "19. 'Machine Learning'\n",
       "20. 'Military'\n",
       "21. 'Natural Language Processing'\n",
       "22. 'Networks'\n",
       "23. 'Ontology Engineering'\n",
       "24. 'Personal Devices Computing and Hc'\n",
       "25. 'Physical Sciences and Engineering'\n",
       "26. 'Planning and Scheduling'\n",
       "27. 'Predictive Analytics'\n",
       "28. 'Probabilistic Reasoning'\n",
       "29. 'Publishing'\n",
       "30. 'Robotics'\n",
       "31. 'Search Methods'\n",
       "32. 'Security'\n",
       "33. 'Speech Processing'\n",
       "34. 'Telecommunications'\n",
       "35. 'Transportation'\n",
       "\n",
       "\n"
      ],
      "text/plain": [
       " [1] \"Agriculture\"                            \n",
       " [2] \"Arts and Humanities\"                    \n",
       " [3] \"Banking and Finance\"                    \n",
       " [4] \"Business\"                               \n",
       " [5] \"Cartography\"                            \n",
       " [6] \"Computer Vision\"                        \n",
       " [7] \"Computing in Government\"                \n",
       " [8] \"Control Methods\"                        \n",
       " [9] \"Distributed Artificial Intelligence\"    \n",
       "[10] \"Document Management and Text Processing\"\n",
       "[11] \"Education\"                              \n",
       "[12] \"Energy Management\"                      \n",
       "[13] \"Entertainment\"                          \n",
       "[14] \"Fuzzy Logic\"                            \n",
       "[15] \"Knowledge Representation And Reasoning\" \n",
       "[16] \"Law Social and Behavioral Sciences\"     \n",
       "[17] \"Life and Medical Sciences\"              \n",
       "[18] \"Logic Programming\"                      \n",
       "[19] \"Machine Learning\"                       \n",
       "[20] \"Military\"                               \n",
       "[21] \"Natural Language Processing\"            \n",
       "[22] \"Networks\"                               \n",
       "[23] \"Ontology Engineering\"                   \n",
       "[24] \"Personal Devices Computing and Hc\"      \n",
       "[25] \"Physical Sciences and Engineering\"      \n",
       "[26] \"Planning and Scheduling\"                \n",
       "[27] \"Predictive Analytics\"                   \n",
       "[28] \"Probabilistic Reasoning\"                \n",
       "[29] \"Publishing\"                             \n",
       "[30] \"Robotics\"                               \n",
       "[31] \"Search Methods\"                         \n",
       "[32] \"Security\"                               \n",
       "[33] \"Speech Processing\"                      \n",
       "[34] \"Telecommunications\"                     \n",
       "[35] \"Transportation\"                         "
      ]
     },
     "metadata": {},
     "output_type": "display_data"
    }
   ],
   "source": [
    "#Splt Columns into Groups\n",
    "Features <- colnames(RawPatents)\n",
    "GeneralFeatures <- Features[1:9]\n",
    "Categories <- Features[(length(Features)-2):length(Features)]\n",
    "Fields <- Features[10:(length(Features)-3)]\n",
    "\n",
    "#Output\n",
    "Categories\n",
    "Fields"
   ]
  },
  {
   "cell_type": "code",
   "execution_count": 27,
   "metadata": {},
   "outputs": [
    {
     "data": {
      "text/html": [
       "3"
      ],
      "text/latex": [
       "3"
      ],
      "text/markdown": [
       "3"
      ],
      "text/plain": [
       "[1] 3"
      ]
     },
     "metadata": {},
     "output_type": "display_data"
    },
    {
     "data": {
      "text/html": [
       "35"
      ],
      "text/latex": [
       "35"
      ],
      "text/markdown": [
       "35"
      ],
      "text/plain": [
       "[1] 35"
      ]
     },
     "metadata": {},
     "output_type": "display_data"
    }
   ],
   "source": [
    "length(Categories)\n",
    "length(Fields)"
   ]
  },
  {
   "cell_type": "code",
   "execution_count": 28,
   "metadata": {},
   "outputs": [
    {
     "data": {
      "text/html": [
       "203717"
      ],
      "text/latex": [
       "203717"
      ],
      "text/markdown": [
       "203717"
      ],
      "text/plain": [
       "[1] 203717"
      ]
     },
     "metadata": {},
     "output_type": "display_data"
    },
    {
     "data": {
      "text/html": [
       "0"
      ],
      "text/latex": [
       "0"
      ],
      "text/markdown": [
       "0"
      ],
      "text/plain": [
       "[1] 0"
      ]
     },
     "metadata": {},
     "output_type": "display_data"
    }
   ],
   "source": [
    "# Patent count by Field\n",
    "Count_Fields <- RawPatents[, lapply(.SD, sum),\n",
    "                           .SDcols= Fields]\n",
    "#Consistency Check\n",
    "sum(Count_Fields)\n",
    "sum(Count_Fields) - n_rows2"
   ]
  },
  {
   "cell_type": "code",
   "execution_count": 29,
   "metadata": {},
   "outputs": [
    {
     "data": {
      "text/html": [
       "60403"
      ],
      "text/latex": [
       "60403"
      ],
      "text/markdown": [
       "60403"
      ],
      "text/plain": [
       "[1] 60403"
      ]
     },
     "metadata": {},
     "output_type": "display_data"
    },
    {
     "data": {
      "text/html": [
       "0"
      ],
      "text/latex": [
       "0"
      ],
      "text/markdown": [
       "0"
      ],
      "text/plain": [
       "[1] 0"
      ]
     },
     "metadata": {},
     "output_type": "display_data"
    }
   ],
   "source": [
    "# Patent count by Category\n",
    "Count_Categories <- RawPatents[, lapply(.SD, sum),\n",
    "                               .SDcols= Categories]\n",
    "#Consistency Check\n",
    "sum(Count_Categories)\n",
    "sum(Count_Categories) - n_rows3"
   ]
  },
  {
   "cell_type": "markdown",
   "metadata": {
    "scrolled": true
   },
   "source": [
    "## Output File: WIPO_Patents"
   ]
  },
  {
   "cell_type": "code",
   "execution_count": 30,
   "metadata": {},
   "outputs": [],
   "source": [
    "fwrite(RawPatents, file=\"F:/Thesis/Working_Data/Final\\\\WIPO_Patents.csv\", col.names = TRUE)"
   ]
  },
  {
   "cell_type": "code",
   "execution_count": null,
   "metadata": {},
   "outputs": [],
   "source": []
  }
 ],
 "metadata": {
  "kernelspec": {
   "display_name": "R",
   "language": "R",
   "name": "ir"
  },
  "language_info": {
   "codemirror_mode": "r",
   "file_extension": ".r",
   "mimetype": "text/x-r-source",
   "name": "R",
   "pygments_lexer": "r",
   "version": "3.6.1"
  }
 },
 "nbformat": 4,
 "nbformat_minor": 2
}
