{
 "cells": [
  {
   "cell_type": "markdown",
   "metadata": {},
   "source": [
    "Library and Directory Setup"
   ]
  },
  {
   "cell_type": "code",
   "execution_count": 2,
   "metadata": {},
   "outputs": [],
   "source": [
    "options(warn=-1)"
   ]
  },
  {
   "cell_type": "code",
   "execution_count": 3,
   "metadata": {
    "scrolled": false
   },
   "outputs": [
    {
     "ename": "ERROR",
     "evalue": "Error: package or namespace load failed for 'tidyverse' in loadNamespace(j <- i[[1L]], c(lib.loc, .libPaths()), versionCheck = vI[[j]]):\n there is no package called 'nlme'\n",
     "output_type": "error",
     "traceback": [
      "Error: package or namespace load failed for 'tidyverse' in loadNamespace(j <- i[[1L]], c(lib.loc, .libPaths()), versionCheck = vI[[j]]):\n there is no package called 'nlme'\nTraceback:\n",
      "1. library(tidyverse)",
      "2. tryCatch({\n .     attr(package, \"LibPath\") <- which.lib.loc\n .     ns <- loadNamespace(package, lib.loc)\n .     env <- attachNamespace(ns, pos = pos, deps, exclude, include.only)\n . }, error = function(e) {\n .     P <- if (!is.null(cc <- conditionCall(e))) \n .         paste(\" in\", deparse(cc)[1L])\n .     else \"\"\n .     msg <- gettextf(\"package or namespace load failed for %s%s:\\n %s\", \n .         sQuote(package), P, conditionMessage(e))\n .     if (logical.return) \n .         message(paste(\"Error:\", msg), domain = NA)\n .     else stop(msg, call. = FALSE, domain = NA)\n . })",
      "3. tryCatchList(expr, classes, parentenv, handlers)",
      "4. tryCatchOne(expr, names, parentenv, handlers[[1L]])",
      "5. value[[3L]](cond)",
      "6. stop(msg, call. = FALSE, domain = NA)"
     ]
    }
   ],
   "source": [
    "library(data.table)\n",
    "library(dplyr)\n",
    "library(readr)\n",
    "library(purrr)\n",
    "library(tidyr)\n",
    "library(lubridate)\n",
    "library(tidyverse)\n",
    "library(stringr)\n",
    "library(rio)"
   ]
  },
  {
   "cell_type": "code",
   "execution_count": 4,
   "metadata": {},
   "outputs": [
    {
     "data": {
      "text/html": [
       "'F:/Thesis/Working_Data/Final'"
      ],
      "text/latex": [
       "'F:/Thesis/Working\\_Data/Final'"
      ],
      "text/markdown": [
       "'F:/Thesis/Working_Data/Final'"
      ],
      "text/plain": [
       "[1] \"F:/Thesis/Working_Data/Final\""
      ]
     },
     "metadata": {},
     "output_type": "display_data"
    }
   ],
   "source": [
    "setwd(\"F:/Thesis/Working_Data/Final\")\n",
    "getwd()"
   ]
  },
  {
   "cell_type": "markdown",
   "metadata": {},
   "source": [
    "# 1) Merge WIPO_Patents with HAN_Dataset"
   ]
  },
  {
   "cell_type": "markdown",
   "metadata": {},
   "source": [
    "## 1.1) Open Both Datasests\n",
    "\n",
    "Warning: Open HAN_Dataset may take some time due to size"
   ]
  },
  {
   "cell_type": "code",
   "execution_count": 5,
   "metadata": {},
   "outputs": [
    {
     "data": {
      "text/html": [
       "<dl class=dl-horizontal>\n",
       "\t<dt>HARM_ID</dt>\n",
       "\t\t<dd>'integer'</dd>\n",
       "\t<dt>HAN_ID</dt>\n",
       "\t\t<dd>'integer'</dd>\n",
       "\t<dt>Appln_id</dt>\n",
       "\t\t<dd>'integer'</dd>\n",
       "\t<dt>Publn_auth</dt>\n",
       "\t\t<dd>'character'</dd>\n",
       "\t<dt>Patent_number</dt>\n",
       "\t\t<dd>'character'</dd>\n",
       "\t<dt>Clean_name</dt>\n",
       "\t\t<dd>'character'</dd>\n",
       "\t<dt>Person_ctry_code</dt>\n",
       "\t\t<dd>'character'</dd>\n",
       "</dl>\n"
      ],
      "text/latex": [
       "\\begin{description*}\n",
       "\\item[HARM\\textbackslash{}\\_ID] 'integer'\n",
       "\\item[HAN\\textbackslash{}\\_ID] 'integer'\n",
       "\\item[Appln\\textbackslash{}\\_id] 'integer'\n",
       "\\item[Publn\\textbackslash{}\\_auth] 'character'\n",
       "\\item[Patent\\textbackslash{}\\_number] 'character'\n",
       "\\item[Clean\\textbackslash{}\\_name] 'character'\n",
       "\\item[Person\\textbackslash{}\\_ctry\\textbackslash{}\\_code] 'character'\n",
       "\\end{description*}\n"
      ],
      "text/markdown": [
       "HARM_ID\n",
       ":   'integer'HAN_ID\n",
       ":   'integer'Appln_id\n",
       ":   'integer'Publn_auth\n",
       ":   'character'Patent_number\n",
       ":   'character'Clean_name\n",
       ":   'character'Person_ctry_code\n",
       ":   'character'\n",
       "\n"
      ],
      "text/plain": [
       "         HARM_ID           HAN_ID         Appln_id       Publn_auth \n",
       "       \"integer\"        \"integer\"        \"integer\"      \"character\" \n",
       "   Patent_number       Clean_name Person_ctry_code \n",
       "     \"character\"      \"character\"      \"character\" "
      ]
     },
     "metadata": {},
     "output_type": "display_data"
    }
   ],
   "source": [
    "HAN_Dataset <- fread(\"F:/Thesis/Working_Data/Final\\\\HAN_Dataset.txt\", header=T, sep=\"|\",encoding = \"UTF-8\")\n",
    "sapply(HAN_Dataset, class)"
   ]
  },
  {
   "cell_type": "code",
   "execution_count": 6,
   "metadata": {
    "scrolled": true
   },
   "outputs": [
    {
     "data": {
      "text/html": [
       "<dl class=dl-horizontal>\n",
       "\t<dt>Application_Id</dt>\n",
       "\t\t<dd>'character'</dd>\n",
       "\t<dt>Application_Number</dt>\n",
       "\t\t<dd>'character'</dd>\n",
       "\t<dt>Application_Date</dt>\n",
       "\t\t<dd>'character'</dd>\n",
       "\t<dt>Publication_Number</dt>\n",
       "\t\t<dd>'character'</dd>\n",
       "\t<dt>Publication_Date</dt>\n",
       "\t\t<dd>'character'</dd>\n",
       "\t<dt>Country</dt>\n",
       "\t\t<dd>'character'</dd>\n",
       "\t<dt>Title</dt>\n",
       "\t\t<dd>'character'</dd>\n",
       "\t<dt>Applicants</dt>\n",
       "\t\t<dd>'character'</dd>\n",
       "\t<dt>Inventors</dt>\n",
       "\t\t<dd>'character'</dd>\n",
       "\t<dt>Agriculture</dt>\n",
       "\t\t<dd>'integer'</dd>\n",
       "\t<dt>Arts and Humanities</dt>\n",
       "\t\t<dd>'integer'</dd>\n",
       "\t<dt>Banking and Finance</dt>\n",
       "\t\t<dd>'integer'</dd>\n",
       "\t<dt>Business</dt>\n",
       "\t\t<dd>'integer'</dd>\n",
       "\t<dt>Cartography</dt>\n",
       "\t\t<dd>'integer'</dd>\n",
       "\t<dt>Computer Vision</dt>\n",
       "\t\t<dd>'integer'</dd>\n",
       "\t<dt>Computing in Government</dt>\n",
       "\t\t<dd>'integer'</dd>\n",
       "\t<dt>Control Methods</dt>\n",
       "\t\t<dd>'integer'</dd>\n",
       "\t<dt>Distributed Artificial Intelligence</dt>\n",
       "\t\t<dd>'integer'</dd>\n",
       "\t<dt>Document Management and Text Processing</dt>\n",
       "\t\t<dd>'integer'</dd>\n",
       "\t<dt>Education</dt>\n",
       "\t\t<dd>'integer'</dd>\n",
       "\t<dt>Energy Management</dt>\n",
       "\t\t<dd>'integer'</dd>\n",
       "\t<dt>Entertainment</dt>\n",
       "\t\t<dd>'integer'</dd>\n",
       "\t<dt>Fuzzy Logic</dt>\n",
       "\t\t<dd>'integer'</dd>\n",
       "\t<dt>Knowledge Representation And Reasoning</dt>\n",
       "\t\t<dd>'integer'</dd>\n",
       "\t<dt>Law Social and Behavioral Sciences</dt>\n",
       "\t\t<dd>'integer'</dd>\n",
       "\t<dt>Life and Medical Sciences</dt>\n",
       "\t\t<dd>'integer'</dd>\n",
       "\t<dt>Logic Programming</dt>\n",
       "\t\t<dd>'integer'</dd>\n",
       "\t<dt>Machine Learning</dt>\n",
       "\t\t<dd>'integer'</dd>\n",
       "\t<dt>Military</dt>\n",
       "\t\t<dd>'integer'</dd>\n",
       "\t<dt>Natural Language Processing</dt>\n",
       "\t\t<dd>'integer'</dd>\n",
       "\t<dt>Networks</dt>\n",
       "\t\t<dd>'integer'</dd>\n",
       "\t<dt>Ontology Engineering</dt>\n",
       "\t\t<dd>'integer'</dd>\n",
       "\t<dt>Personal Devices Computing and Hc</dt>\n",
       "\t\t<dd>'integer'</dd>\n",
       "\t<dt>Physical Sciences and Engineering</dt>\n",
       "\t\t<dd>'integer'</dd>\n",
       "\t<dt>Planning and Scheduling</dt>\n",
       "\t\t<dd>'integer'</dd>\n",
       "\t<dt>Predictive Analytics</dt>\n",
       "\t\t<dd>'integer'</dd>\n",
       "\t<dt>Probabilistic Reasoning</dt>\n",
       "\t\t<dd>'integer'</dd>\n",
       "\t<dt>Publishing</dt>\n",
       "\t\t<dd>'integer'</dd>\n",
       "\t<dt>Robotics</dt>\n",
       "\t\t<dd>'integer'</dd>\n",
       "\t<dt>Search Methods</dt>\n",
       "\t\t<dd>'integer'</dd>\n",
       "\t<dt>Security</dt>\n",
       "\t\t<dd>'integer'</dd>\n",
       "\t<dt>Speech Processing</dt>\n",
       "\t\t<dd>'integer'</dd>\n",
       "\t<dt>Telecommunications</dt>\n",
       "\t\t<dd>'integer'</dd>\n",
       "\t<dt>Transportation</dt>\n",
       "\t\t<dd>'integer'</dd>\n",
       "\t<dt>Field_Applications</dt>\n",
       "\t\t<dd>'integer'</dd>\n",
       "\t<dt>Functional_Applications</dt>\n",
       "\t\t<dd>'integer'</dd>\n",
       "\t<dt>Techniques</dt>\n",
       "\t\t<dd>'integer'</dd>\n",
       "</dl>\n"
      ],
      "text/latex": [
       "\\begin{description*}\n",
       "\\item[Application\\textbackslash{}\\_Id] 'character'\n",
       "\\item[Application\\textbackslash{}\\_Number] 'character'\n",
       "\\item[Application\\textbackslash{}\\_Date] 'character'\n",
       "\\item[Publication\\textbackslash{}\\_Number] 'character'\n",
       "\\item[Publication\\textbackslash{}\\_Date] 'character'\n",
       "\\item[Country] 'character'\n",
       "\\item[Title] 'character'\n",
       "\\item[Applicants] 'character'\n",
       "\\item[Inventors] 'character'\n",
       "\\item[Agriculture] 'integer'\n",
       "\\item[Arts and Humanities] 'integer'\n",
       "\\item[Banking and Finance] 'integer'\n",
       "\\item[Business] 'integer'\n",
       "\\item[Cartography] 'integer'\n",
       "\\item[Computer Vision] 'integer'\n",
       "\\item[Computing in Government] 'integer'\n",
       "\\item[Control Methods] 'integer'\n",
       "\\item[Distributed Artificial Intelligence] 'integer'\n",
       "\\item[Document Management and Text Processing] 'integer'\n",
       "\\item[Education] 'integer'\n",
       "\\item[Energy Management] 'integer'\n",
       "\\item[Entertainment] 'integer'\n",
       "\\item[Fuzzy Logic] 'integer'\n",
       "\\item[Knowledge Representation And Reasoning] 'integer'\n",
       "\\item[Law Social and Behavioral Sciences] 'integer'\n",
       "\\item[Life and Medical Sciences] 'integer'\n",
       "\\item[Logic Programming] 'integer'\n",
       "\\item[Machine Learning] 'integer'\n",
       "\\item[Military] 'integer'\n",
       "\\item[Natural Language Processing] 'integer'\n",
       "\\item[Networks] 'integer'\n",
       "\\item[Ontology Engineering] 'integer'\n",
       "\\item[Personal Devices Computing and Hc] 'integer'\n",
       "\\item[Physical Sciences and Engineering] 'integer'\n",
       "\\item[Planning and Scheduling] 'integer'\n",
       "\\item[Predictive Analytics] 'integer'\n",
       "\\item[Probabilistic Reasoning] 'integer'\n",
       "\\item[Publishing] 'integer'\n",
       "\\item[Robotics] 'integer'\n",
       "\\item[Search Methods] 'integer'\n",
       "\\item[Security] 'integer'\n",
       "\\item[Speech Processing] 'integer'\n",
       "\\item[Telecommunications] 'integer'\n",
       "\\item[Transportation] 'integer'\n",
       "\\item[Field\\textbackslash{}\\_Applications] 'integer'\n",
       "\\item[Functional\\textbackslash{}\\_Applications] 'integer'\n",
       "\\item[Techniques] 'integer'\n",
       "\\end{description*}\n"
      ],
      "text/markdown": [
       "Application_Id\n",
       ":   'character'Application_Number\n",
       ":   'character'Application_Date\n",
       ":   'character'Publication_Number\n",
       ":   'character'Publication_Date\n",
       ":   'character'Country\n",
       ":   'character'Title\n",
       ":   'character'Applicants\n",
       ":   'character'Inventors\n",
       ":   'character'Agriculture\n",
       ":   'integer'Arts and Humanities\n",
       ":   'integer'Banking and Finance\n",
       ":   'integer'Business\n",
       ":   'integer'Cartography\n",
       ":   'integer'Computer Vision\n",
       ":   'integer'Computing in Government\n",
       ":   'integer'Control Methods\n",
       ":   'integer'Distributed Artificial Intelligence\n",
       ":   'integer'Document Management and Text Processing\n",
       ":   'integer'Education\n",
       ":   'integer'Energy Management\n",
       ":   'integer'Entertainment\n",
       ":   'integer'Fuzzy Logic\n",
       ":   'integer'Knowledge Representation And Reasoning\n",
       ":   'integer'Law Social and Behavioral Sciences\n",
       ":   'integer'Life and Medical Sciences\n",
       ":   'integer'Logic Programming\n",
       ":   'integer'Machine Learning\n",
       ":   'integer'Military\n",
       ":   'integer'Natural Language Processing\n",
       ":   'integer'Networks\n",
       ":   'integer'Ontology Engineering\n",
       ":   'integer'Personal Devices Computing and Hc\n",
       ":   'integer'Physical Sciences and Engineering\n",
       ":   'integer'Planning and Scheduling\n",
       ":   'integer'Predictive Analytics\n",
       ":   'integer'Probabilistic Reasoning\n",
       ":   'integer'Publishing\n",
       ":   'integer'Robotics\n",
       ":   'integer'Search Methods\n",
       ":   'integer'Security\n",
       ":   'integer'Speech Processing\n",
       ":   'integer'Telecommunications\n",
       ":   'integer'Transportation\n",
       ":   'integer'Field_Applications\n",
       ":   'integer'Functional_Applications\n",
       ":   'integer'Techniques\n",
       ":   'integer'\n",
       "\n"
      ],
      "text/plain": [
       "                         Application_Id                      Application_Number \n",
       "                            \"character\"                             \"character\" \n",
       "                       Application_Date                      Publication_Number \n",
       "                            \"character\"                             \"character\" \n",
       "                       Publication_Date                                 Country \n",
       "                            \"character\"                             \"character\" \n",
       "                                  Title                              Applicants \n",
       "                            \"character\"                             \"character\" \n",
       "                              Inventors                             Agriculture \n",
       "                            \"character\"                               \"integer\" \n",
       "                    Arts and Humanities                     Banking and Finance \n",
       "                              \"integer\"                               \"integer\" \n",
       "                               Business                             Cartography \n",
       "                              \"integer\"                               \"integer\" \n",
       "                        Computer Vision                 Computing in Government \n",
       "                              \"integer\"                               \"integer\" \n",
       "                        Control Methods     Distributed Artificial Intelligence \n",
       "                              \"integer\"                               \"integer\" \n",
       "Document Management and Text Processing                               Education \n",
       "                              \"integer\"                               \"integer\" \n",
       "                      Energy Management                           Entertainment \n",
       "                              \"integer\"                               \"integer\" \n",
       "                            Fuzzy Logic  Knowledge Representation And Reasoning \n",
       "                              \"integer\"                               \"integer\" \n",
       "     Law Social and Behavioral Sciences               Life and Medical Sciences \n",
       "                              \"integer\"                               \"integer\" \n",
       "                      Logic Programming                        Machine Learning \n",
       "                              \"integer\"                               \"integer\" \n",
       "                               Military             Natural Language Processing \n",
       "                              \"integer\"                               \"integer\" \n",
       "                               Networks                    Ontology Engineering \n",
       "                              \"integer\"                               \"integer\" \n",
       "      Personal Devices Computing and Hc       Physical Sciences and Engineering \n",
       "                              \"integer\"                               \"integer\" \n",
       "                Planning and Scheduling                    Predictive Analytics \n",
       "                              \"integer\"                               \"integer\" \n",
       "                Probabilistic Reasoning                              Publishing \n",
       "                              \"integer\"                               \"integer\" \n",
       "                               Robotics                          Search Methods \n",
       "                              \"integer\"                               \"integer\" \n",
       "                               Security                       Speech Processing \n",
       "                              \"integer\"                               \"integer\" \n",
       "                     Telecommunications                          Transportation \n",
       "                              \"integer\"                               \"integer\" \n",
       "                     Field_Applications                 Functional_Applications \n",
       "                              \"integer\"                               \"integer\" \n",
       "                             Techniques \n",
       "                              \"integer\" "
      ]
     },
     "metadata": {},
     "output_type": "display_data"
    }
   ],
   "source": [
    "WIPO_Patents <- fread(\"F:/Thesis/Working_Data/Final\\\\WIPO_Patents.csv\",stringsAsFactors = FALSE, na.strings=\"\",encoding = \"UTF-8\")\n",
    "sapply(WIPO_Patents, class)"
   ]
  },
  {
   "cell_type": "code",
   "execution_count": 7,
   "metadata": {
    "scrolled": true
   },
   "outputs": [
    {
     "data": {
      "text/html": [
       "<table>\n",
       "<thead><tr><th scope=col>HARM_ID</th><th scope=col>HAN_ID</th><th scope=col>Appln_id</th><th scope=col>Publn_auth</th><th scope=col>Patent_number</th><th scope=col>Clean_name</th><th scope=col>Person_ctry_code</th></tr></thead>\n",
       "<tbody>\n",
       "\t<tr><td>27                   </td><td>27                   </td><td>56203289             </td><td>EP                   </td><td>EP2044418            </td><td>002134761 ONTARIO LTD</td><td>CA                   </td></tr>\n",
       "</tbody>\n",
       "</table>\n"
      ],
      "text/latex": [
       "\\begin{tabular}{r|lllllll}\n",
       " HARM\\_ID & HAN\\_ID & Appln\\_id & Publn\\_auth & Patent\\_number & Clean\\_name & Person\\_ctry\\_code\\\\\n",
       "\\hline\n",
       "\t 27                    & 27                    & 56203289              & EP                    & EP2044418             & 002134761 ONTARIO LTD & CA                   \\\\\n",
       "\\end{tabular}\n"
      ],
      "text/markdown": [
       "\n",
       "| HARM_ID | HAN_ID | Appln_id | Publn_auth | Patent_number | Clean_name | Person_ctry_code |\n",
       "|---|---|---|---|---|---|---|\n",
       "| 27                    | 27                    | 56203289              | EP                    | EP2044418             | 002134761 ONTARIO LTD | CA                    |\n",
       "\n"
      ],
      "text/plain": [
       "  HARM_ID HAN_ID Appln_id Publn_auth Patent_number Clean_name           \n",
       "1 27      27     56203289 EP         EP2044418     002134761 ONTARIO LTD\n",
       "  Person_ctry_code\n",
       "1 CA              "
      ]
     },
     "metadata": {},
     "output_type": "display_data"
    },
    {
     "data": {
      "text/html": [
       "<table>\n",
       "<thead><tr><th scope=col>HARM_ID</th><th scope=col>HAN_ID</th><th scope=col>Appln_id</th><th scope=col>Publn_auth</th><th scope=col>Patent_number</th><th scope=col>Clean_name</th><th scope=col>Person_ctry_code</th></tr></thead>\n",
       "<tbody>\n",
       "\t<tr><td>14                                                                   </td><td>14                                                                   </td><td>336903179                                                            </td><td>WO                                                                   </td><td>WO2011112122                                                         </td><td>«FEDERAL GRID CO UNIFIED ENERGY SYSTEMS» JOINT STOCK CO «FGC UES» JSC</td><td>RU                                                                   </td></tr>\n",
       "</tbody>\n",
       "</table>\n"
      ],
      "text/latex": [
       "\\begin{tabular}{r|lllllll}\n",
       " HARM\\_ID & HAN\\_ID & Appln\\_id & Publn\\_auth & Patent\\_number & Clean\\_name & Person\\_ctry\\_code\\\\\n",
       "\\hline\n",
       "\t 14                                                                    & 14                                                                    & 336903179                                                             & WO                                                                    & WO2011112122                                                          & «FEDERAL GRID CO UNIFIED ENERGY SYSTEMS» JOINT STOCK CO «FGC UES» JSC & RU                                                                   \\\\\n",
       "\\end{tabular}\n"
      ],
      "text/markdown": [
       "\n",
       "| HARM_ID | HAN_ID | Appln_id | Publn_auth | Patent_number | Clean_name | Person_ctry_code |\n",
       "|---|---|---|---|---|---|---|\n",
       "| 14                                                                    | 14                                                                    | 336903179                                                             | WO                                                                    | WO2011112122                                                          | «FEDERAL GRID CO UNIFIED ENERGY SYSTEMS» JOINT STOCK CO «FGC UES» JSC | RU                                                                    |\n",
       "\n"
      ],
      "text/plain": [
       "  HARM_ID HAN_ID Appln_id  Publn_auth Patent_number\n",
       "1 14      14     336903179 WO         WO2011112122 \n",
       "  Clean_name                                                           \n",
       "1 «FEDERAL GRID CO UNIFIED ENERGY SYSTEMS» JOINT STOCK CO «FGC UES» JSC\n",
       "  Person_ctry_code\n",
       "1 RU              "
      ]
     },
     "metadata": {},
     "output_type": "display_data"
    }
   ],
   "source": [
    "head(HAN_Dataset[Publn_auth==\"EP\",],1)\n",
    "head(HAN_Dataset[Publn_auth==\"WO\",],1)"
   ]
  },
  {
   "cell_type": "code",
   "execution_count": 8,
   "metadata": {},
   "outputs": [
    {
     "data": {
      "text/html": [
       "<table>\n",
       "<thead><tr><th scope=col>Application_Id</th><th scope=col>Application_Number</th><th scope=col>Application_Date</th><th scope=col>Publication_Number</th><th scope=col>Publication_Date</th><th scope=col>Country</th><th scope=col>Title</th><th scope=col>Applicants</th><th scope=col>Inventors</th><th scope=col>Agriculture</th><th scope=col>...</th><th scope=col>Publishing</th><th scope=col>Robotics</th><th scope=col>Search Methods</th><th scope=col>Security</th><th scope=col>Speech Processing</th><th scope=col>Telecommunications</th><th scope=col>Transportation</th><th scope=col>Field_Applications</th><th scope=col>Functional_Applications</th><th scope=col>Techniques</th></tr></thead>\n",
       "<tbody>\n",
       "\t<tr><td>EP105446266              </td><td>13198348                 </td><td>2013-12-19               </td><td>2746975                  </td><td>25.06.2014               </td><td>EP                       </td><td>CAD drawing notes manager</td><td>SIKORSKY AIRCRAFT CORP   </td><td>MARCHESSEAULT BRIAN DAVID</td><td>0                        </td><td>...                      </td><td>0                        </td><td>0                        </td><td>0                        </td><td>0                        </td><td>0                        </td><td>1                        </td><td>0                        </td><td>1                        </td><td>1                        </td><td>0                        </td></tr>\n",
       "</tbody>\n",
       "</table>\n"
      ],
      "text/latex": [
       "\\begin{tabular}{r|lllllllllllllllllllllllllllllllllllllllllllllll}\n",
       " Application\\_Id & Application\\_Number & Application\\_Date & Publication\\_Number & Publication\\_Date & Country & Title & Applicants & Inventors & Agriculture & ... & Publishing & Robotics & Search Methods & Security & Speech Processing & Telecommunications & Transportation & Field\\_Applications & Functional\\_Applications & Techniques\\\\\n",
       "\\hline\n",
       "\t EP105446266               & 13198348                  & 2013-12-19                & 2746975                   & 25.06.2014                & EP                        & CAD drawing notes manager & SIKORSKY AIRCRAFT CORP    & MARCHESSEAULT BRIAN DAVID & 0                         & ...                       & 0                         & 0                         & 0                         & 0                         & 0                         & 1                         & 0                         & 1                         & 1                         & 0                        \\\\\n",
       "\\end{tabular}\n"
      ],
      "text/markdown": [
       "\n",
       "| Application_Id | Application_Number | Application_Date | Publication_Number | Publication_Date | Country | Title | Applicants | Inventors | Agriculture | ... | Publishing | Robotics | Search Methods | Security | Speech Processing | Telecommunications | Transportation | Field_Applications | Functional_Applications | Techniques |\n",
       "|---|---|---|---|---|---|---|---|---|---|---|---|---|---|---|---|---|---|---|---|---|\n",
       "| EP105446266               | 13198348                  | 2013-12-19                | 2746975                   | 25.06.2014                | EP                        | CAD drawing notes manager | SIKORSKY AIRCRAFT CORP    | MARCHESSEAULT BRIAN DAVID | 0                         | ...                       | 0                         | 0                         | 0                         | 0                         | 0                         | 1                         | 0                         | 1                         | 1                         | 0                         |\n",
       "\n"
      ],
      "text/plain": [
       "  Application_Id Application_Number Application_Date Publication_Number\n",
       "1 EP105446266    13198348           2013-12-19       2746975           \n",
       "  Publication_Date Country Title                     Applicants            \n",
       "1 25.06.2014       EP      CAD drawing notes manager SIKORSKY AIRCRAFT CORP\n",
       "  Inventors                 Agriculture ... Publishing Robotics Search Methods\n",
       "1 MARCHESSEAULT BRIAN DAVID 0           ... 0          0        0             \n",
       "  Security Speech Processing Telecommunications Transportation\n",
       "1 0        0                 1                  0             \n",
       "  Field_Applications Functional_Applications Techniques\n",
       "1 1                  1                       0         "
      ]
     },
     "metadata": {},
     "output_type": "display_data"
    },
    {
     "data": {
      "text/html": [
       "<table>\n",
       "<thead><tr><th scope=col>Application_Id</th><th scope=col>Application_Number</th><th scope=col>Application_Date</th><th scope=col>Publication_Number</th><th scope=col>Publication_Date</th><th scope=col>Country</th><th scope=col>Title</th><th scope=col>Applicants</th><th scope=col>Inventors</th><th scope=col>Agriculture</th><th scope=col>...</th><th scope=col>Publishing</th><th scope=col>Robotics</th><th scope=col>Search Methods</th><th scope=col>Security</th><th scope=col>Speech Processing</th><th scope=col>Telecommunications</th><th scope=col>Transportation</th><th scope=col>Field_Applications</th><th scope=col>Functional_Applications</th><th scope=col>Techniques</th></tr></thead>\n",
       "<tbody>\n",
       "\t<tr><td>WO1983001574                              </td><td>PCT/US1982/001494                         </td><td>1982-10-21                                </td><td>WO/1983/001574                            </td><td>11.05.1983                                </td><td>WO                                        </td><td>THRESHOLD PENILE RIGIDITY MEASURING DEVICE</td><td>DACOMED CORPORATION                       </td><td>TIMM, Gerald, W.; BRADLEY, William, E.    </td><td>0                                         </td><td>...                                       </td><td>0                                         </td><td>0                                         </td><td>0                                         </td><td>1                                         </td><td>0                                         </td><td>0                                         </td><td>1                                         </td><td>1                                         </td><td>1                                         </td><td>1                                         </td></tr>\n",
       "</tbody>\n",
       "</table>\n"
      ],
      "text/latex": [
       "\\begin{tabular}{r|lllllllllllllllllllllllllllllllllllllllllllllll}\n",
       " Application\\_Id & Application\\_Number & Application\\_Date & Publication\\_Number & Publication\\_Date & Country & Title & Applicants & Inventors & Agriculture & ... & Publishing & Robotics & Search Methods & Security & Speech Processing & Telecommunications & Transportation & Field\\_Applications & Functional\\_Applications & Techniques\\\\\n",
       "\\hline\n",
       "\t WO1983001574                               & PCT/US1982/001494                          & 1982-10-21                                 & WO/1983/001574                             & 11.05.1983                                 & WO                                         & THRESHOLD PENILE RIGIDITY MEASURING DEVICE & DACOMED CORPORATION                        & TIMM, Gerald, W.; BRADLEY, William, E.     & 0                                          & ...                                        & 0                                          & 0                                          & 0                                          & 1                                          & 0                                          & 0                                          & 1                                          & 1                                          & 1                                          & 1                                         \\\\\n",
       "\\end{tabular}\n"
      ],
      "text/markdown": [
       "\n",
       "| Application_Id | Application_Number | Application_Date | Publication_Number | Publication_Date | Country | Title | Applicants | Inventors | Agriculture | ... | Publishing | Robotics | Search Methods | Security | Speech Processing | Telecommunications | Transportation | Field_Applications | Functional_Applications | Techniques |\n",
       "|---|---|---|---|---|---|---|---|---|---|---|---|---|---|---|---|---|---|---|---|---|\n",
       "| WO1983001574                               | PCT/US1982/001494                          | 1982-10-21                                 | WO/1983/001574                             | 11.05.1983                                 | WO                                         | THRESHOLD PENILE RIGIDITY MEASURING DEVICE | DACOMED CORPORATION                        | TIMM, Gerald, W.; BRADLEY, William, E.     | 0                                          | ...                                        | 0                                          | 0                                          | 0                                          | 1                                          | 0                                          | 0                                          | 1                                          | 1                                          | 1                                          | 1                                          |\n",
       "\n"
      ],
      "text/plain": [
       "  Application_Id Application_Number Application_Date Publication_Number\n",
       "1 WO1983001574   PCT/US1982/001494  1982-10-21       WO/1983/001574    \n",
       "  Publication_Date Country Title                                     \n",
       "1 11.05.1983       WO      THRESHOLD PENILE RIGIDITY MEASURING DEVICE\n",
       "  Applicants          Inventors                              Agriculture ...\n",
       "1 DACOMED CORPORATION TIMM, Gerald, W.; BRADLEY, William, E. 0           ...\n",
       "  Publishing Robotics Search Methods Security Speech Processing\n",
       "1 0          0        0              1        0                \n",
       "  Telecommunications Transportation Field_Applications Functional_Applications\n",
       "1 0                  1              1                  1                      \n",
       "  Techniques\n",
       "1 1         "
      ]
     },
     "metadata": {},
     "output_type": "display_data"
    }
   ],
   "source": [
    "head(WIPO_Patents[Country==\"EP\",], 1)\n",
    "head(WIPO_Patents[Country==\"WO\",], 1)"
   ]
  },
  {
   "cell_type": "markdown",
   "metadata": {},
   "source": [
    "## 1.2) Prepare Data Before Merging"
   ]
  },
  {
   "cell_type": "markdown",
   "metadata": {},
   "source": [
    "Key IDs to match both tables are:\n",
    "+ HAN_Dataset: \"Patent_number\"\n",
    "+ WIPO_Patents: depends on the Patent Office:\n",
    "    + EP Office: \"Publication_Number\" although it misses \"EP\" in front in order to match with HAN Database\n",
    "    + WO Office: \"Application_Id\"\n",
    " \n",
    "As is, there are two column keys in the WIPO_Patents, which depends on the office. To adjust this, a new column in the WIPO_Patents table called \"Patent_number\" will be created that will take the \"Application_Id\" for WO patents and the \"Publication_Number\" for EP patents. Also, we will add \"EP\" in front of the later."
   ]
  },
  {
   "cell_type": "code",
   "execution_count": 9,
   "metadata": {},
   "outputs": [
    {
     "data": {
      "text/html": [
       "<table>\n",
       "<thead><tr><th scope=col>Application_Id</th><th scope=col>Application_Number</th><th scope=col>Application_Date</th><th scope=col>Publication_Number</th><th scope=col>Publication_Date</th><th scope=col>Country</th><th scope=col>Title</th><th scope=col>Applicants</th><th scope=col>Inventors</th><th scope=col>Agriculture</th><th scope=col>...</th><th scope=col>Robotics</th><th scope=col>Search Methods</th><th scope=col>Security</th><th scope=col>Speech Processing</th><th scope=col>Telecommunications</th><th scope=col>Transportation</th><th scope=col>Field_Applications</th><th scope=col>Functional_Applications</th><th scope=col>Techniques</th><th scope=col>Patent_number</th></tr></thead>\n",
       "<tbody>\n",
       "\t<tr><td>EP105446266              </td><td>13198348                 </td><td>2013-12-19               </td><td>2746975                  </td><td>25.06.2014               </td><td>EP                       </td><td>CAD drawing notes manager</td><td>SIKORSKY AIRCRAFT CORP   </td><td>MARCHESSEAULT BRIAN DAVID</td><td>0                        </td><td>...                      </td><td>0                        </td><td>0                        </td><td>0                        </td><td>0                        </td><td>1                        </td><td>0                        </td><td>1                        </td><td>1                        </td><td>0                        </td><td>EP2746975                </td></tr>\n",
       "</tbody>\n",
       "</table>\n"
      ],
      "text/latex": [
       "\\begin{tabular}{r|llllllllllllllllllllllllllllllllllllllllllllllll}\n",
       " Application\\_Id & Application\\_Number & Application\\_Date & Publication\\_Number & Publication\\_Date & Country & Title & Applicants & Inventors & Agriculture & ... & Robotics & Search Methods & Security & Speech Processing & Telecommunications & Transportation & Field\\_Applications & Functional\\_Applications & Techniques & Patent\\_number\\\\\n",
       "\\hline\n",
       "\t EP105446266               & 13198348                  & 2013-12-19                & 2746975                   & 25.06.2014                & EP                        & CAD drawing notes manager & SIKORSKY AIRCRAFT CORP    & MARCHESSEAULT BRIAN DAVID & 0                         & ...                       & 0                         & 0                         & 0                         & 0                         & 1                         & 0                         & 1                         & 1                         & 0                         & EP2746975                \\\\\n",
       "\\end{tabular}\n"
      ],
      "text/markdown": [
       "\n",
       "| Application_Id | Application_Number | Application_Date | Publication_Number | Publication_Date | Country | Title | Applicants | Inventors | Agriculture | ... | Robotics | Search Methods | Security | Speech Processing | Telecommunications | Transportation | Field_Applications | Functional_Applications | Techniques | Patent_number |\n",
       "|---|---|---|---|---|---|---|---|---|---|---|---|---|---|---|---|---|---|---|---|---|\n",
       "| EP105446266               | 13198348                  | 2013-12-19                | 2746975                   | 25.06.2014                | EP                        | CAD drawing notes manager | SIKORSKY AIRCRAFT CORP    | MARCHESSEAULT BRIAN DAVID | 0                         | ...                       | 0                         | 0                         | 0                         | 0                         | 1                         | 0                         | 1                         | 1                         | 0                         | EP2746975                 |\n",
       "\n"
      ],
      "text/plain": [
       "  Application_Id Application_Number Application_Date Publication_Number\n",
       "1 EP105446266    13198348           2013-12-19       2746975           \n",
       "  Publication_Date Country Title                     Applicants            \n",
       "1 25.06.2014       EP      CAD drawing notes manager SIKORSKY AIRCRAFT CORP\n",
       "  Inventors                 Agriculture ... Robotics Search Methods Security\n",
       "1 MARCHESSEAULT BRIAN DAVID 0           ... 0        0              0       \n",
       "  Speech Processing Telecommunications Transportation Field_Applications\n",
       "1 0                 1                  0              1                 \n",
       "  Functional_Applications Techniques Patent_number\n",
       "1 1                       0          EP2746975    "
      ]
     },
     "metadata": {},
     "output_type": "display_data"
    },
    {
     "data": {
      "text/html": [
       "<table>\n",
       "<thead><tr><th scope=col>Application_Id</th><th scope=col>Application_Number</th><th scope=col>Application_Date</th><th scope=col>Publication_Number</th><th scope=col>Publication_Date</th><th scope=col>Country</th><th scope=col>Title</th><th scope=col>Applicants</th><th scope=col>Inventors</th><th scope=col>Agriculture</th><th scope=col>...</th><th scope=col>Robotics</th><th scope=col>Search Methods</th><th scope=col>Security</th><th scope=col>Speech Processing</th><th scope=col>Telecommunications</th><th scope=col>Transportation</th><th scope=col>Field_Applications</th><th scope=col>Functional_Applications</th><th scope=col>Techniques</th><th scope=col>Patent_number</th></tr></thead>\n",
       "<tbody>\n",
       "\t<tr><td>WO1983001574                              </td><td>PCT/US1982/001494                         </td><td>1982-10-21                                </td><td>WO/1983/001574                            </td><td>11.05.1983                                </td><td>WO                                        </td><td>THRESHOLD PENILE RIGIDITY MEASURING DEVICE</td><td>DACOMED CORPORATION                       </td><td>TIMM, Gerald, W.; BRADLEY, William, E.    </td><td>0                                         </td><td>...                                       </td><td>0                                         </td><td>0                                         </td><td>1                                         </td><td>0                                         </td><td>0                                         </td><td>1                                         </td><td>1                                         </td><td>1                                         </td><td>1                                         </td><td>WO1983001574                              </td></tr>\n",
       "</tbody>\n",
       "</table>\n"
      ],
      "text/latex": [
       "\\begin{tabular}{r|llllllllllllllllllllllllllllllllllllllllllllllll}\n",
       " Application\\_Id & Application\\_Number & Application\\_Date & Publication\\_Number & Publication\\_Date & Country & Title & Applicants & Inventors & Agriculture & ... & Robotics & Search Methods & Security & Speech Processing & Telecommunications & Transportation & Field\\_Applications & Functional\\_Applications & Techniques & Patent\\_number\\\\\n",
       "\\hline\n",
       "\t WO1983001574                               & PCT/US1982/001494                          & 1982-10-21                                 & WO/1983/001574                             & 11.05.1983                                 & WO                                         & THRESHOLD PENILE RIGIDITY MEASURING DEVICE & DACOMED CORPORATION                        & TIMM, Gerald, W.; BRADLEY, William, E.     & 0                                          & ...                                        & 0                                          & 0                                          & 1                                          & 0                                          & 0                                          & 1                                          & 1                                          & 1                                          & 1                                          & WO1983001574                              \\\\\n",
       "\\end{tabular}\n"
      ],
      "text/markdown": [
       "\n",
       "| Application_Id | Application_Number | Application_Date | Publication_Number | Publication_Date | Country | Title | Applicants | Inventors | Agriculture | ... | Robotics | Search Methods | Security | Speech Processing | Telecommunications | Transportation | Field_Applications | Functional_Applications | Techniques | Patent_number |\n",
       "|---|---|---|---|---|---|---|---|---|---|---|---|---|---|---|---|---|---|---|---|---|\n",
       "| WO1983001574                               | PCT/US1982/001494                          | 1982-10-21                                 | WO/1983/001574                             | 11.05.1983                                 | WO                                         | THRESHOLD PENILE RIGIDITY MEASURING DEVICE | DACOMED CORPORATION                        | TIMM, Gerald, W.; BRADLEY, William, E.     | 0                                          | ...                                        | 0                                          | 0                                          | 1                                          | 0                                          | 0                                          | 1                                          | 1                                          | 1                                          | 1                                          | WO1983001574                               |\n",
       "\n"
      ],
      "text/plain": [
       "  Application_Id Application_Number Application_Date Publication_Number\n",
       "1 WO1983001574   PCT/US1982/001494  1982-10-21       WO/1983/001574    \n",
       "  Publication_Date Country Title                                     \n",
       "1 11.05.1983       WO      THRESHOLD PENILE RIGIDITY MEASURING DEVICE\n",
       "  Applicants          Inventors                              Agriculture ...\n",
       "1 DACOMED CORPORATION TIMM, Gerald, W.; BRADLEY, William, E. 0           ...\n",
       "  Robotics Search Methods Security Speech Processing Telecommunications\n",
       "1 0        0              1        0                 0                 \n",
       "  Transportation Field_Applications Functional_Applications Techniques\n",
       "1 1              1                  1                       1         \n",
       "  Patent_number\n",
       "1 WO1983001574 "
      ]
     },
     "metadata": {},
     "output_type": "display_data"
    }
   ],
   "source": [
    "WIPO_Patents[, Patent_number := ifelse(WIPO_Patents$Country==\"EP\", \n",
    "                                     paste0(\"EP\", WIPO_Patents$Publication_Number),\n",
    "                                     WIPO_Patents$Application_Id)]\n",
    "\n",
    "#Check Last Column\n",
    "head(WIPO_Patents[Country==\"EP\",], 1)\n",
    "head(WIPO_Patents[Country==\"WO\",], 1)"
   ]
  },
  {
   "cell_type": "markdown",
   "metadata": {},
   "source": [
    "## 1.3) Merge Tables"
   ]
  },
  {
   "cell_type": "code",
   "execution_count": 10,
   "metadata": {
    "scrolled": false
   },
   "outputs": [
    {
     "data": {
      "text/html": [
       "<table>\n",
       "<thead><tr><th scope=col>HARM_ID</th><th scope=col>HAN_ID</th><th scope=col>Appln_id</th><th scope=col>Publn_auth</th><th scope=col>Patent_number</th><th scope=col>Clean_name</th><th scope=col>Person_ctry_code</th><th scope=col>Application_Id</th><th scope=col>Application_Number</th><th scope=col>Application_Date</th><th scope=col>...</th><th scope=col>Publishing</th><th scope=col>Robotics</th><th scope=col>Search Methods</th><th scope=col>Security</th><th scope=col>Speech Processing</th><th scope=col>Telecommunications</th><th scope=col>Transportation</th><th scope=col>Field_Applications</th><th scope=col>Functional_Applications</th><th scope=col>Techniques</th></tr></thead>\n",
       "<tbody>\n",
       "\t<tr><td>2850861                                                                                        </td><td>2850861                                                                                        </td><td>16428843                                                                                       </td><td>EP                                                                                             </td><td>EP0012777                                                                                      </td><td>SYSTRAN INSTITUT GES FUR FORSCHUNG &amp; ENTWICKLUNG MASCHINELLER SPRACHUBERSETZUNGSSYSTEME MBH</td><td>DE                                                                                             </td><td>EP11269342                                                                                     </td><td>78101879                                                                                       </td><td>1978-12-30                                                                                     </td><td>...                                                                                            </td><td>0                                                                                              </td><td>0                                                                                              </td><td>0                                                                                              </td><td>0                                                                                              </td><td>0                                                                                              </td><td>0                                                                                              </td><td>1                                                                                              </td><td>1                                                                                              </td><td>1                                                                                              </td><td>1                                                                                              </td></tr>\n",
       "\t<tr><td>1318206                                                                                    </td><td>1318206                                                                                    </td><td>16463303                                                                                   </td><td>EP                                                                                         </td><td>EP0039393                                                                                  </td><td>IBM CORP                                                                                   </td><td>US                                                                                         </td><td>EP11305954                                                                                 </td><td>81101634                                                                                   </td><td>1981-03-06                                                                                 </td><td>...                                                                                        </td><td>0                                                                                          </td><td>0                                                                                          </td><td>0                                                                                          </td><td>0                                                                                          </td><td>0                                                                                          </td><td>0                                                                                          </td><td>0                                                                                          </td><td>1                                                                                          </td><td>1                                                                                          </td><td>1                                                                                          </td></tr>\n",
       "\t<tr><td>     NA                                                                                    </td><td>     NA                                                                                    </td><td>      NA                                                                                   </td><td>NA                                                                                         </td><td>EP0052207                                                                                  </td><td>NA                                                                                         </td><td>NA                                                                                         </td><td>EP11348653                                                                                 </td><td>81107831                                                                                   </td><td>1981-10-02                                                                                 </td><td>...                                                                                        </td><td>0                                                                                          </td><td>0                                                                                          </td><td>0                                                                                          </td><td>0                                                                                          </td><td>0                                                                                          </td><td>0                                                                                          </td><td>0                                                                                          </td><td>1                                                                                          </td><td>0                                                                                          </td><td>0                                                                                          </td></tr>\n",
       "\t<tr><td>2931262                                                                                    </td><td>2931262                                                                                    </td><td>16487476                                                                                   </td><td>EP                                                                                         </td><td>EP0059929                                                                                  </td><td>STEULER INDUSTRIEWERKE GMBH                                                                </td><td>DE                                                                                         </td><td>EP11373001                                                                                 </td><td>82101617                                                                                   </td><td>1982-03-03                                                                                 </td><td>...                                                                                        </td><td>0                                                                                          </td><td>0                                                                                          </td><td>0                                                                                          </td><td>1                                                                                          </td><td>0                                                                                          </td><td>0                                                                                          </td><td>0                                                                                          </td><td>1                                                                                          </td><td>0                                                                                          </td><td>0                                                                                          </td></tr>\n",
       "\t<tr><td>3324113                                                                                    </td><td> 698993                                                                                    </td><td>16500043                                                                                   </td><td>EP                                                                                         </td><td>EP0060671                                                                                  </td><td>UBE IND LTD                                                                                </td><td>JP                                                                                         </td><td>EP11366509                                                                                 </td><td>82301198                                                                                   </td><td>1982-03-09                                                                                 </td><td>...                                                                                        </td><td>0                                                                                          </td><td>0                                                                                          </td><td>0                                                                                          </td><td>0                                                                                          </td><td>0                                                                                          </td><td>0                                                                                          </td><td>0                                                                                          </td><td>1                                                                                          </td><td>0                                                                                          </td><td>0                                                                                          </td></tr>\n",
       "</tbody>\n",
       "</table>\n"
      ],
      "text/latex": [
       "\\begin{tabular}{r|llllllllllllllllllllllllllllllllllllllllllllllllllllll}\n",
       " HARM\\_ID & HAN\\_ID & Appln\\_id & Publn\\_auth & Patent\\_number & Clean\\_name & Person\\_ctry\\_code & Application\\_Id & Application\\_Number & Application\\_Date & ... & Publishing & Robotics & Search Methods & Security & Speech Processing & Telecommunications & Transportation & Field\\_Applications & Functional\\_Applications & Techniques\\\\\n",
       "\\hline\n",
       "\t 2850861                                                                                       & 2850861                                                                                       & 16428843                                                                                      & EP                                                                                            & EP0012777                                                                                     & SYSTRAN INSTITUT GES FUR FORSCHUNG \\& ENTWICKLUNG MASCHINELLER SPRACHUBERSETZUNGSSYSTEME MBH & DE                                                                                            & EP11269342                                                                                    & 78101879                                                                                      & 1978-12-30                                                                                    & ...                                                                                           & 0                                                                                             & 0                                                                                             & 0                                                                                             & 0                                                                                             & 0                                                                                             & 0                                                                                             & 1                                                                                             & 1                                                                                             & 1                                                                                             & 1                                                                                            \\\\\n",
       "\t 1318206                                                                                     & 1318206                                                                                     & 16463303                                                                                    & EP                                                                                          & EP0039393                                                                                   & IBM CORP                                                                                    & US                                                                                          & EP11305954                                                                                  & 81101634                                                                                    & 1981-03-06                                                                                  & ...                                                                                         & 0                                                                                           & 0                                                                                           & 0                                                                                           & 0                                                                                           & 0                                                                                           & 0                                                                                           & 0                                                                                           & 1                                                                                           & 1                                                                                           & 1                                                                                          \\\\\n",
       "\t      NA                                                                                     &      NA                                                                                     &       NA                                                                                    & NA                                                                                          & EP0052207                                                                                   & NA                                                                                          & NA                                                                                          & EP11348653                                                                                  & 81107831                                                                                    & 1981-10-02                                                                                  & ...                                                                                         & 0                                                                                           & 0                                                                                           & 0                                                                                           & 0                                                                                           & 0                                                                                           & 0                                                                                           & 0                                                                                           & 1                                                                                           & 0                                                                                           & 0                                                                                          \\\\\n",
       "\t 2931262                                                                                     & 2931262                                                                                     & 16487476                                                                                    & EP                                                                                          & EP0059929                                                                                   & STEULER INDUSTRIEWERKE GMBH                                                                 & DE                                                                                          & EP11373001                                                                                  & 82101617                                                                                    & 1982-03-03                                                                                  & ...                                                                                         & 0                                                                                           & 0                                                                                           & 0                                                                                           & 1                                                                                           & 0                                                                                           & 0                                                                                           & 0                                                                                           & 1                                                                                           & 0                                                                                           & 0                                                                                          \\\\\n",
       "\t 3324113                                                                                     &  698993                                                                                     & 16500043                                                                                    & EP                                                                                          & EP0060671                                                                                   & UBE IND LTD                                                                                 & JP                                                                                          & EP11366509                                                                                  & 82301198                                                                                    & 1982-03-09                                                                                  & ...                                                                                         & 0                                                                                           & 0                                                                                           & 0                                                                                           & 0                                                                                           & 0                                                                                           & 0                                                                                           & 0                                                                                           & 1                                                                                           & 0                                                                                           & 0                                                                                          \\\\\n",
       "\\end{tabular}\n"
      ],
      "text/markdown": [
       "\n",
       "| HARM_ID | HAN_ID | Appln_id | Publn_auth | Patent_number | Clean_name | Person_ctry_code | Application_Id | Application_Number | Application_Date | ... | Publishing | Robotics | Search Methods | Security | Speech Processing | Telecommunications | Transportation | Field_Applications | Functional_Applications | Techniques |\n",
       "|---|---|---|---|---|---|---|---|---|---|---|---|---|---|---|---|---|---|---|---|---|\n",
       "| 2850861                                                                                     | 2850861                                                                                     | 16428843                                                                                    | EP                                                                                          | EP0012777                                                                                   | SYSTRAN INSTITUT GES FUR FORSCHUNG & ENTWICKLUNG MASCHINELLER SPRACHUBERSETZUNGSSYSTEME MBH | DE                                                                                          | EP11269342                                                                                  | 78101879                                                                                    | 1978-12-30                                                                                  | ...                                                                                         | 0                                                                                           | 0                                                                                           | 0                                                                                           | 0                                                                                           | 0                                                                                           | 0                                                                                           | 1                                                                                           | 1                                                                                           | 1                                                                                           | 1                                                                                           |\n",
       "| 1318206                                                                                     | 1318206                                                                                     | 16463303                                                                                    | EP                                                                                          | EP0039393                                                                                   | IBM CORP                                                                                    | US                                                                                          | EP11305954                                                                                  | 81101634                                                                                    | 1981-03-06                                                                                  | ...                                                                                         | 0                                                                                           | 0                                                                                           | 0                                                                                           | 0                                                                                           | 0                                                                                           | 0                                                                                           | 0                                                                                           | 1                                                                                           | 1                                                                                           | 1                                                                                           |\n",
       "|      NA                                                                                     |      NA                                                                                     |       NA                                                                                    | NA                                                                                          | EP0052207                                                                                   | NA                                                                                          | NA                                                                                          | EP11348653                                                                                  | 81107831                                                                                    | 1981-10-02                                                                                  | ...                                                                                         | 0                                                                                           | 0                                                                                           | 0                                                                                           | 0                                                                                           | 0                                                                                           | 0                                                                                           | 0                                                                                           | 1                                                                                           | 0                                                                                           | 0                                                                                           |\n",
       "| 2931262                                                                                     | 2931262                                                                                     | 16487476                                                                                    | EP                                                                                          | EP0059929                                                                                   | STEULER INDUSTRIEWERKE GMBH                                                                 | DE                                                                                          | EP11373001                                                                                  | 82101617                                                                                    | 1982-03-03                                                                                  | ...                                                                                         | 0                                                                                           | 0                                                                                           | 0                                                                                           | 1                                                                                           | 0                                                                                           | 0                                                                                           | 0                                                                                           | 1                                                                                           | 0                                                                                           | 0                                                                                           |\n",
       "| 3324113                                                                                     |  698993                                                                                     | 16500043                                                                                    | EP                                                                                          | EP0060671                                                                                   | UBE IND LTD                                                                                 | JP                                                                                          | EP11366509                                                                                  | 82301198                                                                                    | 1982-03-09                                                                                  | ...                                                                                         | 0                                                                                           | 0                                                                                           | 0                                                                                           | 0                                                                                           | 0                                                                                           | 0                                                                                           | 0                                                                                           | 1                                                                                           | 0                                                                                           | 0                                                                                           |\n",
       "\n"
      ],
      "text/plain": [
       "  HARM_ID HAN_ID  Appln_id Publn_auth Patent_number\n",
       "1 2850861 2850861 16428843 EP         EP0012777    \n",
       "2 1318206 1318206 16463303 EP         EP0039393    \n",
       "3      NA      NA       NA NA         EP0052207    \n",
       "4 2931262 2931262 16487476 EP         EP0059929    \n",
       "5 3324113  698993 16500043 EP         EP0060671    \n",
       "  Clean_name                                                                                 \n",
       "1 SYSTRAN INSTITUT GES FUR FORSCHUNG & ENTWICKLUNG MASCHINELLER SPRACHUBERSETZUNGSSYSTEME MBH\n",
       "2 IBM CORP                                                                                   \n",
       "3 NA                                                                                         \n",
       "4 STEULER INDUSTRIEWERKE GMBH                                                                \n",
       "5 UBE IND LTD                                                                                \n",
       "  Person_ctry_code Application_Id Application_Number Application_Date ...\n",
       "1 DE               EP11269342     78101879           1978-12-30       ...\n",
       "2 US               EP11305954     81101634           1981-03-06       ...\n",
       "3 NA               EP11348653     81107831           1981-10-02       ...\n",
       "4 DE               EP11373001     82101617           1982-03-03       ...\n",
       "5 JP               EP11366509     82301198           1982-03-09       ...\n",
       "  Publishing Robotics Search Methods Security Speech Processing\n",
       "1 0          0        0              0        0                \n",
       "2 0          0        0              0        0                \n",
       "3 0          0        0              0        0                \n",
       "4 0          0        0              1        0                \n",
       "5 0          0        0              0        0                \n",
       "  Telecommunications Transportation Field_Applications Functional_Applications\n",
       "1 0                  1              1                  1                      \n",
       "2 0                  0              1                  1                      \n",
       "3 0                  0              1                  0                      \n",
       "4 0                  0              1                  0                      \n",
       "5 0                  0              1                  0                      \n",
       "  Techniques\n",
       "1 1         \n",
       "2 1         \n",
       "3 0         \n",
       "4 0         \n",
       "5 0         "
      ]
     },
     "metadata": {},
     "output_type": "display_data"
    }
   ],
   "source": [
    "setkey(WIPO_Patents, Patent_number)\n",
    "setkey(HAN_Dataset, Patent_number)\n",
    "Patent_HAN <- HAN_Dataset[WIPO_Patents]\n",
    "\n",
    "head(Patent_HAN,5)"
   ]
  },
  {
   "cell_type": "markdown",
   "metadata": {},
   "source": [
    "### 1.3.1) Explore non-matched patent applications"
   ]
  },
  {
   "cell_type": "code",
   "execution_count": 11,
   "metadata": {},
   "outputs": [
    {
     "data": {
      "text/html": [
       "4445"
      ],
      "text/latex": [
       "4445"
      ],
      "text/markdown": [
       "4445"
      ],
      "text/plain": [
       "[1] 4445"
      ]
     },
     "metadata": {},
     "output_type": "display_data"
    }
   ],
   "source": [
    "# of Patents without HAN identifier\n",
    "sum(is.na(Patent_HAN$HAN_ID)) "
   ]
  },
  {
   "cell_type": "code",
   "execution_count": 12,
   "metadata": {},
   "outputs": [
    {
     "data": {
      "text/plain": [
       "\n",
       "1981 1987 1988 1989 1990 1991 1992 1993 1994 1995 1996 1997 1998 1999 2000 2001 \n",
       "   1    2    1    1    3    7    7    5    4   13    7   13   12   13   23   28 \n",
       "2002 2003 2004 2005 2006 2007 2008 2009 2010 2011 2012 2013 2014 2015 2016 2017 \n",
       "  22   25   25   24   37   43   38   27   26   35   31   40   53   63   74  172 \n",
       "2018 2019 \n",
       " 974 2596 "
      ]
     },
     "metadata": {},
     "output_type": "display_data"
    }
   ],
   "source": [
    "#By year\n",
    "Year_NO_HAN <- table(year(Patent_HAN[is.na(Patent_HAN$HAN_ID),Application_Date]))\n",
    "Year_NO_HAN"
   ]
  },
  {
   "cell_type": "markdown",
   "metadata": {},
   "source": [
    "2019 clearly is the eyar with most missing patent applications in the HAN_Dataset"
   ]
  },
  {
   "cell_type": "code",
   "execution_count": 13,
   "metadata": {},
   "outputs": [
    {
     "data": {
      "text/html": [
       "<strong>2019:</strong> 0.584026996625422"
      ],
      "text/latex": [
       "\\textbf{2019:} 0.584026996625422"
      ],
      "text/markdown": [
       "**2019:** 0.584026996625422"
      ],
      "text/plain": [
       "    2019 \n",
       "0.584027 "
      ]
     },
     "metadata": {},
     "output_type": "display_data"
    }
   ],
   "source": [
    "#Share of 2019 from all years\n",
    "Year_NO_HAN[34]/sum(Year_NO_HAN)"
   ]
  },
  {
   "cell_type": "markdown",
   "metadata": {},
   "source": [
    "How many Patent Applications from 2019 were matched witch the HAN_Dataset? "
   ]
  },
  {
   "cell_type": "code",
   "execution_count": 14,
   "metadata": {},
   "outputs": [
    {
     "data": {
      "text/plain": [
       "\n",
       "1978 1981 1982 1983 1984 1985 1986 1987 1988 1989 1990 1991 1992 1993 1994 1995 \n",
       "   1    1    9    3   13   11   13   15   35   79  138  162  142  175  170  165 \n",
       "1996 1997 1998 1999 2000 2001 2002 2003 2004 2005 2006 2007 2008 2009 2010 2011 \n",
       " 167  190  239  309  399  487  522  467  522  542  523  498  521  506  502  501 \n",
       "2012 2013 2014 2015 2016 2017 2018 2019 \n",
       " 596  770  971 1250 2126 3090 3358  122 "
      ]
     },
     "metadata": {},
     "output_type": "display_data"
    }
   ],
   "source": [
    "Year_Patents <- table(year(Patent_HAN[!is.na(Patent_HAN$HAN_ID),Application_Date]))\n",
    "Year_Patents"
   ]
  },
  {
   "cell_type": "markdown",
   "metadata": {},
   "source": [
    "Only 122 Patent Applications from 2019 were matched. Thus, to avoid missinterpretations, the study will exlude 2019 patent applications"
   ]
  },
  {
   "cell_type": "markdown",
   "metadata": {},
   "source": [
    "### 1.3.2) Drop 2019 Patent Applications"
   ]
  },
  {
   "cell_type": "code",
   "execution_count": 15,
   "metadata": {},
   "outputs": [
    {
     "data": {
      "text/plain": [
       "\n",
       "1978 1981 1982 1983 1984 1985 1986 1987 1988 1989 1990 1991 1992 1993 1994 1995 \n",
       "   1    1    9    3   13   11   13   15   35   79  138  162  142  175  170  165 \n",
       "1996 1997 1998 1999 2000 2001 2002 2003 2004 2005 2006 2007 2008 2009 2010 2011 \n",
       " 167  190  239  309  399  487  522  467  522  542  523  498  521  506  502  501 \n",
       "2012 2013 2014 2015 2016 2017 2018 \n",
       " 596  770  971 1250 2126 3090 3358 "
      ]
     },
     "metadata": {},
     "output_type": "display_data"
    }
   ],
   "source": [
    "Patent_HAN <- Patent_HAN[year(Application_Date)<2019,]\n",
    "Year_Patents <- table(year(Patent_HAN[!is.na(Patent_HAN$HAN_ID),Application_Date]))\n",
    "\n",
    "Year_Patents"
   ]
  },
  {
   "cell_type": "markdown",
   "metadata": {},
   "source": [
    "# 2) Data Processing"
   ]
  },
  {
   "cell_type": "markdown",
   "metadata": {},
   "source": [
    "## 2.1) Drop Irrelevant Columns"
   ]
  },
  {
   "cell_type": "code",
   "execution_count": 16,
   "metadata": {},
   "outputs": [
    {
     "data": {
      "text/html": [
       "<ol class=list-inline>\n",
       "\t<li>22037</li>\n",
       "\t<li>47</li>\n",
       "</ol>\n"
      ],
      "text/latex": [
       "\\begin{enumerate*}\n",
       "\\item 22037\n",
       "\\item 47\n",
       "\\end{enumerate*}\n"
      ],
      "text/markdown": [
       "1. 22037\n",
       "2. 47\n",
       "\n",
       "\n"
      ],
      "text/plain": [
       "[1] 22037    47"
      ]
     },
     "metadata": {},
     "output_type": "display_data"
    }
   ],
   "source": [
    "DropFeatures2 <- c(\"Application_Id\",\"Application_Number\", \"Publication_Number\", \"Publication_Date\",\n",
    "                   \"HARM_ID\", \"Appln_id\", \"Publn_auth\")\n",
    "Patent_HAN <- select(Patent_HAN, -!!DropFeatures2)\n",
    "\n",
    "n_rows_HAN <- nrow(Patent_HAN)\n",
    "dim(Patent_HAN)"
   ]
  },
  {
   "cell_type": "markdown",
   "metadata": {},
   "source": [
    "Patent_HAN includes 22,037 patent applicationsm which are more than the 22,010 unique patents that had been identified. This is because a patent can have more than one applicant causing the HAN_Dataset to have in many instances multiple entries for the same patent application"
   ]
  },
  {
   "cell_type": "markdown",
   "metadata": {},
   "source": [
    "## 2.2) Country Selection"
   ]
  },
  {
   "cell_type": "markdown",
   "metadata": {},
   "source": [
    "Due to limitations in subsequent data preparation steps, the study was limited to the 20 countries with the most patent applications as per the \"Person_ctry_code\" from the HAN_Dataset"
   ]
  },
  {
   "cell_type": "code",
   "execution_count": 17,
   "metadata": {},
   "outputs": [
    {
     "data": {
      "text/plain": [
       "\n",
       "  BS   CR   HK   ID   LI   LV   PA   CL   CO   AN   LT   SI   SK   CY   IS   EE \n",
       "   1    1    1    1    1    1    1    2    2    3    3    3    3    4    4    5 \n",
       "  GR   HR   VG   CZ   LU   KY   PT   ZA   HU   SA   TR   BB   PL   TW   NZ   MY \n",
       "   5    6    6    9   14   15   15   15   17   21   21   22   22   25   27   28 \n",
       "  NO   BR   RU   AT   IE   BE   DK   ES   SG   IN   IT   FI   SE   AU   CH   IL \n",
       "  30   31   37   51  129  135  137  138  138  159  202  232  260  267  322  405 \n",
       "  CA   FR   NL   KR   GB   DE   CN   JP   US \n",
       " 498  531  594  684  993 1091 1552 1750 9518 "
      ]
     },
     "metadata": {},
     "output_type": "display_data"
    }
   ],
   "source": [
    "#Identify Top 20 Countries\n",
    "sort(table(Patent_HAN$Person_ctry_code)) "
   ]
  },
  {
   "cell_type": "code",
   "execution_count": 18,
   "metadata": {},
   "outputs": [
    {
     "data": {
      "text/html": [
       "<ol class=list-inline>\n",
       "\t<li>'GERMANY'</li>\n",
       "\t<li>'UNITED STATES'</li>\n",
       "\t<li>NA</li>\n",
       "\t<li>'JAPAN'</li>\n",
       "\t<li>'UNITED KINGDOM'</li>\n",
       "\t<li>'NETHERLANDS'</li>\n",
       "\t<li>'LI'</li>\n",
       "\t<li>'FRANCE'</li>\n",
       "\t<li>'AN'</li>\n",
       "\t<li>'SWITZERLAND'</li>\n",
       "\t<li>'DENMARK'</li>\n",
       "\t<li>'CANADA'</li>\n",
       "\t<li>'ITALY'</li>\n",
       "\t<li>'SWEDEN'</li>\n",
       "\t<li>'ISRAEL'</li>\n",
       "\t<li>'TW'</li>\n",
       "\t<li>'SINGAPORE'</li>\n",
       "\t<li>'AT'</li>\n",
       "\t<li>'ZA'</li>\n",
       "\t<li>'FINLAND'</li>\n",
       "\t<li>'SPAIN'</li>\n",
       "\t<li>'SOUTH KOREA'</li>\n",
       "\t<li>'BELGIUM'</li>\n",
       "\t<li>'AUSTRALIA'</li>\n",
       "\t<li>'LU'</li>\n",
       "\t<li>'RU'</li>\n",
       "\t<li>'BR'</li>\n",
       "\t<li>'NZ'</li>\n",
       "\t<li>'VG'</li>\n",
       "\t<li>'IE'</li>\n",
       "\t<li>'CHINA'</li>\n",
       "\t<li>'INDIA'</li>\n",
       "\t<li>'MY'</li>\n",
       "\t<li>'BB'</li>\n",
       "\t<li>'IS'</li>\n",
       "\t<li>'PT'</li>\n",
       "\t<li>'PL'</li>\n",
       "\t<li>'GR'</li>\n",
       "\t<li>'HU'</li>\n",
       "\t<li>'EE'</li>\n",
       "\t<li>'KY'</li>\n",
       "\t<li>'SA'</li>\n",
       "\t<li>'CZ'</li>\n",
       "\t<li>'LV'</li>\n",
       "\t<li>'SI'</li>\n",
       "\t<li>'TR'</li>\n",
       "\t<li>'LT'</li>\n",
       "\t<li>'HK'</li>\n",
       "\t<li>'SK'</li>\n",
       "\t<li>'HR'</li>\n",
       "\t<li>'CY'</li>\n",
       "\t<li>'CL'</li>\n",
       "\t<li>'NO'</li>\n",
       "\t<li>'CO'</li>\n",
       "\t<li>'ID'</li>\n",
       "\t<li>'PA'</li>\n",
       "\t<li>'CR'</li>\n",
       "\t<li>'BS'</li>\n",
       "</ol>\n"
      ],
      "text/latex": [
       "\\begin{enumerate*}\n",
       "\\item 'GERMANY'\n",
       "\\item 'UNITED STATES'\n",
       "\\item NA\n",
       "\\item 'JAPAN'\n",
       "\\item 'UNITED KINGDOM'\n",
       "\\item 'NETHERLANDS'\n",
       "\\item 'LI'\n",
       "\\item 'FRANCE'\n",
       "\\item 'AN'\n",
       "\\item 'SWITZERLAND'\n",
       "\\item 'DENMARK'\n",
       "\\item 'CANADA'\n",
       "\\item 'ITALY'\n",
       "\\item 'SWEDEN'\n",
       "\\item 'ISRAEL'\n",
       "\\item 'TW'\n",
       "\\item 'SINGAPORE'\n",
       "\\item 'AT'\n",
       "\\item 'ZA'\n",
       "\\item 'FINLAND'\n",
       "\\item 'SPAIN'\n",
       "\\item 'SOUTH KOREA'\n",
       "\\item 'BELGIUM'\n",
       "\\item 'AUSTRALIA'\n",
       "\\item 'LU'\n",
       "\\item 'RU'\n",
       "\\item 'BR'\n",
       "\\item 'NZ'\n",
       "\\item 'VG'\n",
       "\\item 'IE'\n",
       "\\item 'CHINA'\n",
       "\\item 'INDIA'\n",
       "\\item 'MY'\n",
       "\\item 'BB'\n",
       "\\item 'IS'\n",
       "\\item 'PT'\n",
       "\\item 'PL'\n",
       "\\item 'GR'\n",
       "\\item 'HU'\n",
       "\\item 'EE'\n",
       "\\item 'KY'\n",
       "\\item 'SA'\n",
       "\\item 'CZ'\n",
       "\\item 'LV'\n",
       "\\item 'SI'\n",
       "\\item 'TR'\n",
       "\\item 'LT'\n",
       "\\item 'HK'\n",
       "\\item 'SK'\n",
       "\\item 'HR'\n",
       "\\item 'CY'\n",
       "\\item 'CL'\n",
       "\\item 'NO'\n",
       "\\item 'CO'\n",
       "\\item 'ID'\n",
       "\\item 'PA'\n",
       "\\item 'CR'\n",
       "\\item 'BS'\n",
       "\\end{enumerate*}\n"
      ],
      "text/markdown": [
       "1. 'GERMANY'\n",
       "2. 'UNITED STATES'\n",
       "3. NA\n",
       "4. 'JAPAN'\n",
       "5. 'UNITED KINGDOM'\n",
       "6. 'NETHERLANDS'\n",
       "7. 'LI'\n",
       "8. 'FRANCE'\n",
       "9. 'AN'\n",
       "10. 'SWITZERLAND'\n",
       "11. 'DENMARK'\n",
       "12. 'CANADA'\n",
       "13. 'ITALY'\n",
       "14. 'SWEDEN'\n",
       "15. 'ISRAEL'\n",
       "16. 'TW'\n",
       "17. 'SINGAPORE'\n",
       "18. 'AT'\n",
       "19. 'ZA'\n",
       "20. 'FINLAND'\n",
       "21. 'SPAIN'\n",
       "22. 'SOUTH KOREA'\n",
       "23. 'BELGIUM'\n",
       "24. 'AUSTRALIA'\n",
       "25. 'LU'\n",
       "26. 'RU'\n",
       "27. 'BR'\n",
       "28. 'NZ'\n",
       "29. 'VG'\n",
       "30. 'IE'\n",
       "31. 'CHINA'\n",
       "32. 'INDIA'\n",
       "33. 'MY'\n",
       "34. 'BB'\n",
       "35. 'IS'\n",
       "36. 'PT'\n",
       "37. 'PL'\n",
       "38. 'GR'\n",
       "39. 'HU'\n",
       "40. 'EE'\n",
       "41. 'KY'\n",
       "42. 'SA'\n",
       "43. 'CZ'\n",
       "44. 'LV'\n",
       "45. 'SI'\n",
       "46. 'TR'\n",
       "47. 'LT'\n",
       "48. 'HK'\n",
       "49. 'SK'\n",
       "50. 'HR'\n",
       "51. 'CY'\n",
       "52. 'CL'\n",
       "53. 'NO'\n",
       "54. 'CO'\n",
       "55. 'ID'\n",
       "56. 'PA'\n",
       "57. 'CR'\n",
       "58. 'BS'\n",
       "\n",
       "\n"
      ],
      "text/plain": [
       " [1] \"GERMANY\"        \"UNITED STATES\"  NA               \"JAPAN\"         \n",
       " [5] \"UNITED KINGDOM\" \"NETHERLANDS\"    \"LI\"             \"FRANCE\"        \n",
       " [9] \"AN\"             \"SWITZERLAND\"    \"DENMARK\"        \"CANADA\"        \n",
       "[13] \"ITALY\"          \"SWEDEN\"         \"ISRAEL\"         \"TW\"            \n",
       "[17] \"SINGAPORE\"      \"AT\"             \"ZA\"             \"FINLAND\"       \n",
       "[21] \"SPAIN\"          \"SOUTH KOREA\"    \"BELGIUM\"        \"AUSTRALIA\"     \n",
       "[25] \"LU\"             \"RU\"             \"BR\"             \"NZ\"            \n",
       "[29] \"VG\"             \"IE\"             \"CHINA\"          \"INDIA\"         \n",
       "[33] \"MY\"             \"BB\"             \"IS\"             \"PT\"            \n",
       "[37] \"PL\"             \"GR\"             \"HU\"             \"EE\"            \n",
       "[41] \"KY\"             \"SA\"             \"CZ\"             \"LV\"            \n",
       "[45] \"SI\"             \"TR\"             \"LT\"             \"HK\"            \n",
       "[49] \"SK\"             \"HR\"             \"CY\"             \"CL\"            \n",
       "[53] \"NO\"             \"CO\"             \"ID\"             \"PA\"            \n",
       "[57] \"CR\"             \"BS\"            "
      ]
     },
     "metadata": {},
     "output_type": "display_data"
    }
   ],
   "source": [
    "#Subsitute Country code with Country name\n",
    "Patent_HAN <- Patent_HAN[, Person_ctry_code := Person_ctry_code %>%\n",
    "                               gsub(\"^US\", \"UNITED STATES\",.) %>%\n",
    "                               gsub(\"^JP\", \"JAPAN\",.) %>%\n",
    "                               gsub(\"^GB\", \"UNITED KINGDOM\",.) %>%\n",
    "                               gsub(\"^DE\", \"GERMANY\",.) %>%\n",
    "                               gsub(\"^CH\", \"SWITZERLAND\",.) %>%\n",
    "                               gsub(\"^CN\", \"CHINA\",.) %>%\n",
    "                               gsub(\"^CA\", \"CANADA\",.) %>%\n",
    "                               gsub(\"^NL\", \"NETHERLANDS\",.) %>%\n",
    "                               gsub(\"^IL\", \"ISRAEL\",.) %>%\n",
    "                               gsub(\"^KR\", \"SOUTH KOREA\",.) %>%\n",
    "                               gsub(\"^FR\", \"FRANCE\",.) %>%\n",
    "                               gsub(\"^AU\", \"AUSTRALIA\",.) %>%\n",
    "                               gsub(\"^FI\", \"FINLAND\",.) %>%\n",
    "                               gsub(\"^IT\", \"ITALY\",.) %>%\n",
    "                               gsub(\"^SE\", \"SWEDEN\",.) %>%\n",
    "                               gsub(\"^IN\", \"INDIA\",.) %>%\n",
    "                               gsub(\"^BE\", \"BELGIUM\",.) %>%\n",
    "                               gsub(\"^SG\", \"SINGAPORE\",.) %>%\n",
    "                               gsub(\"^ES\", \"SPAIN\",.) %>%\n",
    "                               gsub(\"^DK\", \"DENMARK\",.)]\n",
    "\n",
    "unique(Patent_HAN$Person_ctry_code)"
   ]
  },
  {
   "cell_type": "code",
   "execution_count": 19,
   "metadata": {},
   "outputs": [
    {
     "data": {
      "text/html": [
       "19606"
      ],
      "text/latex": [
       "19606"
      ],
      "text/markdown": [
       "19606"
      ],
      "text/plain": [
       "[1] 19606"
      ]
     },
     "metadata": {},
     "output_type": "display_data"
    },
    {
     "data": {
      "text/html": [
       "2431"
      ],
      "text/latex": [
       "2431"
      ],
      "text/markdown": [
       "2431"
      ],
      "text/plain": [
       "[1] 2431"
      ]
     },
     "metadata": {},
     "output_type": "display_data"
    }
   ],
   "source": [
    "#Select only patent applications related to top countries\n",
    "\n",
    "Top_Countries <- c(\"UNITED STATES\", \"JAPAN\",\"UNITED KINGDOM\", \"GERMANY\", \"CHINA\", \"CANADA\", \"NETHERLANDS\",\n",
    "                   \"ISRAEL\", \"SOUTH KOREA\", \"FRANCE\", \"SWITZERLAND\", \"AUSTRALIA\", \"FINLAND\", \"ITALY\",\n",
    "                   \"SWEDEN\", \"INDIA\", \"BELGIUM\", \"SINGAPORE\", \"SPAIN\", \"DENMARK\")\n",
    "\n",
    "Patent_HAN <- Patent_HAN[Person_ctry_code %in% Top_Countries,]\n",
    "\n",
    "#Number of remaining patent applications\n",
    "n_rows_HAN2 <- nrow(Patent_HAN)\n",
    "n_rows_HAN2\n",
    "\n",
    "#Number of dropped patent applications\n",
    "n_rows_HAN - n_rows_HAN2"
   ]
  },
  {
   "cell_type": "markdown",
   "metadata": {},
   "source": [
    "Country Breakdown"
   ]
  },
  {
   "cell_type": "code",
   "execution_count": 20,
   "metadata": {},
   "outputs": [
    {
     "data": {
      "text/plain": [
       "\n",
       "       BELGIUM        DENMARK      SINGAPORE          SPAIN          INDIA \n",
       "          0.01           0.01           0.01           0.01           0.01 \n",
       "         ITALY        FINLAND         SWEDEN      AUSTRALIA    SWITZERLAND \n",
       "          0.01           0.01           0.01           0.01           0.02 \n",
       "        ISRAEL         CANADA         FRANCE    NETHERLANDS    SOUTH KOREA \n",
       "          0.02           0.03           0.03           0.03           0.03 \n",
       "UNITED KINGDOM        GERMANY          CHINA          JAPAN  UNITED STATES \n",
       "          0.05           0.06           0.08           0.09           0.49 "
      ]
     },
     "metadata": {},
     "output_type": "display_data"
    }
   ],
   "source": [
    "Country_Breakdown <- round(prop.table(sort(table(Patent_HAN$Person_ctry_code))),2)\n",
    "Country_Breakdown"
   ]
  },
  {
   "cell_type": "markdown",
   "metadata": {},
   "source": [
    "## 2.3) Identification of Type of Applicant"
   ]
  },
  {
   "cell_type": "code",
   "execution_count": 21,
   "metadata": {},
   "outputs": [
    {
     "data": {
      "text/html": [
       "<ol class=list-inline>\n",
       "\t<li>'HAN_ID'</li>\n",
       "\t<li>'Patent_number'</li>\n",
       "\t<li>'Clean_name'</li>\n",
       "\t<li>'Person_ctry_code'</li>\n",
       "\t<li>'Application_Date'</li>\n",
       "\t<li>'Country'</li>\n",
       "\t<li>'Title'</li>\n",
       "\t<li>'Applicants'</li>\n",
       "\t<li>'Inventors'</li>\n",
       "\t<li>'Agriculture'</li>\n",
       "\t<li>'Arts and Humanities'</li>\n",
       "\t<li>'Banking and Finance'</li>\n",
       "\t<li>'Business'</li>\n",
       "\t<li>'Cartography'</li>\n",
       "\t<li>'Computer Vision'</li>\n",
       "\t<li>'Computing in Government'</li>\n",
       "\t<li>'Control Methods'</li>\n",
       "\t<li>'Distributed Artificial Intelligence'</li>\n",
       "\t<li>'Document Management and Text Processing'</li>\n",
       "\t<li>'Education'</li>\n",
       "\t<li>'Energy Management'</li>\n",
       "\t<li>'Entertainment'</li>\n",
       "\t<li>'Fuzzy Logic'</li>\n",
       "\t<li>'Knowledge Representation And Reasoning'</li>\n",
       "\t<li>'Law Social and Behavioral Sciences'</li>\n",
       "\t<li>'Life and Medical Sciences'</li>\n",
       "\t<li>'Logic Programming'</li>\n",
       "\t<li>'Machine Learning'</li>\n",
       "\t<li>'Military'</li>\n",
       "\t<li>'Natural Language Processing'</li>\n",
       "\t<li>'Networks'</li>\n",
       "\t<li>'Ontology Engineering'</li>\n",
       "\t<li>'Personal Devices Computing and Hc'</li>\n",
       "\t<li>'Physical Sciences and Engineering'</li>\n",
       "\t<li>'Planning and Scheduling'</li>\n",
       "\t<li>'Predictive Analytics'</li>\n",
       "\t<li>'Probabilistic Reasoning'</li>\n",
       "\t<li>'Publishing'</li>\n",
       "\t<li>'Robotics'</li>\n",
       "\t<li>'Search Methods'</li>\n",
       "\t<li>'Security'</li>\n",
       "\t<li>'Speech Processing'</li>\n",
       "\t<li>'Telecommunications'</li>\n",
       "\t<li>'Transportation'</li>\n",
       "\t<li>'Field_Applications'</li>\n",
       "\t<li>'Functional_Applications'</li>\n",
       "\t<li>'Techniques'</li>\n",
       "</ol>\n"
      ],
      "text/latex": [
       "\\begin{enumerate*}\n",
       "\\item 'HAN\\_ID'\n",
       "\\item 'Patent\\_number'\n",
       "\\item 'Clean\\_name'\n",
       "\\item 'Person\\_ctry\\_code'\n",
       "\\item 'Application\\_Date'\n",
       "\\item 'Country'\n",
       "\\item 'Title'\n",
       "\\item 'Applicants'\n",
       "\\item 'Inventors'\n",
       "\\item 'Agriculture'\n",
       "\\item 'Arts and Humanities'\n",
       "\\item 'Banking and Finance'\n",
       "\\item 'Business'\n",
       "\\item 'Cartography'\n",
       "\\item 'Computer Vision'\n",
       "\\item 'Computing in Government'\n",
       "\\item 'Control Methods'\n",
       "\\item 'Distributed Artificial Intelligence'\n",
       "\\item 'Document Management and Text Processing'\n",
       "\\item 'Education'\n",
       "\\item 'Energy Management'\n",
       "\\item 'Entertainment'\n",
       "\\item 'Fuzzy Logic'\n",
       "\\item 'Knowledge Representation And Reasoning'\n",
       "\\item 'Law Social and Behavioral Sciences'\n",
       "\\item 'Life and Medical Sciences'\n",
       "\\item 'Logic Programming'\n",
       "\\item 'Machine Learning'\n",
       "\\item 'Military'\n",
       "\\item 'Natural Language Processing'\n",
       "\\item 'Networks'\n",
       "\\item 'Ontology Engineering'\n",
       "\\item 'Personal Devices Computing and Hc'\n",
       "\\item 'Physical Sciences and Engineering'\n",
       "\\item 'Planning and Scheduling'\n",
       "\\item 'Predictive Analytics'\n",
       "\\item 'Probabilistic Reasoning'\n",
       "\\item 'Publishing'\n",
       "\\item 'Robotics'\n",
       "\\item 'Search Methods'\n",
       "\\item 'Security'\n",
       "\\item 'Speech Processing'\n",
       "\\item 'Telecommunications'\n",
       "\\item 'Transportation'\n",
       "\\item 'Field\\_Applications'\n",
       "\\item 'Functional\\_Applications'\n",
       "\\item 'Techniques'\n",
       "\\end{enumerate*}\n"
      ],
      "text/markdown": [
       "1. 'HAN_ID'\n",
       "2. 'Patent_number'\n",
       "3. 'Clean_name'\n",
       "4. 'Person_ctry_code'\n",
       "5. 'Application_Date'\n",
       "6. 'Country'\n",
       "7. 'Title'\n",
       "8. 'Applicants'\n",
       "9. 'Inventors'\n",
       "10. 'Agriculture'\n",
       "11. 'Arts and Humanities'\n",
       "12. 'Banking and Finance'\n",
       "13. 'Business'\n",
       "14. 'Cartography'\n",
       "15. 'Computer Vision'\n",
       "16. 'Computing in Government'\n",
       "17. 'Control Methods'\n",
       "18. 'Distributed Artificial Intelligence'\n",
       "19. 'Document Management and Text Processing'\n",
       "20. 'Education'\n",
       "21. 'Energy Management'\n",
       "22. 'Entertainment'\n",
       "23. 'Fuzzy Logic'\n",
       "24. 'Knowledge Representation And Reasoning'\n",
       "25. 'Law Social and Behavioral Sciences'\n",
       "26. 'Life and Medical Sciences'\n",
       "27. 'Logic Programming'\n",
       "28. 'Machine Learning'\n",
       "29. 'Military'\n",
       "30. 'Natural Language Processing'\n",
       "31. 'Networks'\n",
       "32. 'Ontology Engineering'\n",
       "33. 'Personal Devices Computing and Hc'\n",
       "34. 'Physical Sciences and Engineering'\n",
       "35. 'Planning and Scheduling'\n",
       "36. 'Predictive Analytics'\n",
       "37. 'Probabilistic Reasoning'\n",
       "38. 'Publishing'\n",
       "39. 'Robotics'\n",
       "40. 'Search Methods'\n",
       "41. 'Security'\n",
       "42. 'Speech Processing'\n",
       "43. 'Telecommunications'\n",
       "44. 'Transportation'\n",
       "45. 'Field_Applications'\n",
       "46. 'Functional_Applications'\n",
       "47. 'Techniques'\n",
       "\n",
       "\n"
      ],
      "text/plain": [
       " [1] \"HAN_ID\"                                 \n",
       " [2] \"Patent_number\"                          \n",
       " [3] \"Clean_name\"                             \n",
       " [4] \"Person_ctry_code\"                       \n",
       " [5] \"Application_Date\"                       \n",
       " [6] \"Country\"                                \n",
       " [7] \"Title\"                                  \n",
       " [8] \"Applicants\"                             \n",
       " [9] \"Inventors\"                              \n",
       "[10] \"Agriculture\"                            \n",
       "[11] \"Arts and Humanities\"                    \n",
       "[12] \"Banking and Finance\"                    \n",
       "[13] \"Business\"                               \n",
       "[14] \"Cartography\"                            \n",
       "[15] \"Computer Vision\"                        \n",
       "[16] \"Computing in Government\"                \n",
       "[17] \"Control Methods\"                        \n",
       "[18] \"Distributed Artificial Intelligence\"    \n",
       "[19] \"Document Management and Text Processing\"\n",
       "[20] \"Education\"                              \n",
       "[21] \"Energy Management\"                      \n",
       "[22] \"Entertainment\"                          \n",
       "[23] \"Fuzzy Logic\"                            \n",
       "[24] \"Knowledge Representation And Reasoning\" \n",
       "[25] \"Law Social and Behavioral Sciences\"     \n",
       "[26] \"Life and Medical Sciences\"              \n",
       "[27] \"Logic Programming\"                      \n",
       "[28] \"Machine Learning\"                       \n",
       "[29] \"Military\"                               \n",
       "[30] \"Natural Language Processing\"            \n",
       "[31] \"Networks\"                               \n",
       "[32] \"Ontology Engineering\"                   \n",
       "[33] \"Personal Devices Computing and Hc\"      \n",
       "[34] \"Physical Sciences and Engineering\"      \n",
       "[35] \"Planning and Scheduling\"                \n",
       "[36] \"Predictive Analytics\"                   \n",
       "[37] \"Probabilistic Reasoning\"                \n",
       "[38] \"Publishing\"                             \n",
       "[39] \"Robotics\"                               \n",
       "[40] \"Search Methods\"                         \n",
       "[41] \"Security\"                               \n",
       "[42] \"Speech Processing\"                      \n",
       "[43] \"Telecommunications\"                     \n",
       "[44] \"Transportation\"                         \n",
       "[45] \"Field_Applications\"                     \n",
       "[46] \"Functional_Applications\"                \n",
       "[47] \"Techniques\"                             "
      ]
     },
     "metadata": {},
     "output_type": "display_data"
    }
   ],
   "source": [
    "colnames(Patent_HAN)"
   ]
  },
  {
   "cell_type": "markdown",
   "metadata": {},
   "source": [
    "Based on exploration of data, three types of applicants are identified:\n",
    "+ \"Inventor\": 'Inventors' and 'Applicant' names are identical. Normally Applicant referrs to the organization \"sponsoring\" the patent application while the Inventor referres to the individual behind the invention. Assumed is that when these fields are identical, an individual rather than an organization is the ultimate benefactor of the ivnention protection.\n",
    "\n",
    "+ \"Research Institution\": the Applicant is an institution but is not a for-profit company. Examples: Universities or Foundations. Identified thorugh a series of key words both in the harmonized name ('Clean_name') and the original applicant name ('Applicants')\n",
    "\n",
    "+ \"Enterprises\": for profit organizations"
   ]
  },
  {
   "cell_type": "markdown",
   "metadata": {},
   "source": [
    "Identification is recorded in a new column called \"Applicant_Type\" and is done throught two consecutive (but separate) ifelse statemens:\n",
    "\n",
    " + If the 'Applicants' and 'Inventors' column match --> \"Inventor\"\n",
    "     + else: if 'Clean_name' **or** 'Applicants contains any of the key words --> \"Research Institution\"\n",
    "         + else: \"Enterprise\"\n"
   ]
  },
  {
   "cell_type": "code",
   "execution_count": 22,
   "metadata": {},
   "outputs": [
    {
     "data": {
      "text/plain": [
       "\n",
       "          Enterprise             Inventor Research Institution \n",
       "               16768                   63                 2733 "
      ]
     },
     "metadata": {},
     "output_type": "display_data"
    },
    {
     "data": {
      "text/html": [
       "-42"
      ],
      "text/latex": [
       "-42"
      ],
      "text/markdown": [
       "-42"
      ],
      "text/plain": [
       "[1] -42"
      ]
     },
     "metadata": {},
     "output_type": "display_data"
    }
   ],
   "source": [
    "Patent_HAN <- Patent_HAN[, Applicant_Type := \n",
    "                               ifelse(Patent_HAN$Inventors==Patent_HAN$Applicants, \"Inventor\",\n",
    "                                      ifelse(grepl(\"UNIVERSITY|COLLEGE|INSTITUTE|FOUNDATION|ECOLE|FOUND\n",
    "                                                   |UNIV|FUNDACIO|UNIVERSIDAD|UNIVERSITÄT|INSTITUT|\n",
    "                                                   CONSERVAT|ACADEMY|HOCHSCHULE|STIFTUNG|UNIVERSITAT|\n",
    "                                                   UNIVERSITAET|UNIVERSITIT|SCOLA\",\n",
    "                                                   Applicants) | grepl(\"UNIVERSITY|COLLEGE|INSTITUTE|FOUNDATION|\n",
    "                                                                  ECOLE|FOUND|UNIV|FUNDACIO|UNIVERSIDAD|UNIVERSITÄT|\n",
    "                                                                  INSTITUT|CONSERVAT|ACADEMY|HOCHSCHULE|STIFTUNG|\n",
    "                                                                  UNIVERSITAT|UNIVERSITAET|UNIVERSITIT|SCOLA\", Clean_name),\n",
    "                                             \"Research Institution\",\"Enterprise\"))]\n",
    "#Applicant Type Breakdown\n",
    "table(Patent_HAN[,Applicant_Type])\n",
    "\n",
    "#Consistency Check\n",
    "sum(table(Patent_HAN[,Applicant_Type]))-n_rows_HAN2"
   ]
  },
  {
   "cell_type": "markdown",
   "metadata": {},
   "source": [
    "This difference is because For some applications the Type of Applicant is not identified"
   ]
  },
  {
   "cell_type": "code",
   "execution_count": 23,
   "metadata": {},
   "outputs": [
    {
     "data": {
      "text/html": [
       "42"
      ],
      "text/latex": [
       "42"
      ],
      "text/markdown": [
       "42"
      ],
      "text/plain": [
       "[1] 42"
      ]
     },
     "metadata": {},
     "output_type": "display_data"
    }
   ],
   "source": [
    "sum(is.na(Patent_HAN[,Applicant_Type]))"
   ]
  },
  {
   "cell_type": "code",
   "execution_count": 24,
   "metadata": {},
   "outputs": [
    {
     "data": {
      "text/plain": [
       "\n",
       "          Enterprise             Inventor Research Institution \n",
       "               16810                   63                 2733 "
      ]
     },
     "metadata": {},
     "output_type": "display_data"
    },
    {
     "data": {
      "text/html": [
       "0"
      ],
      "text/latex": [
       "0"
      ],
      "text/markdown": [
       "0"
      ],
      "text/plain": [
       "[1] 0"
      ]
     },
     "metadata": {},
     "output_type": "display_data"
    }
   ],
   "source": [
    "#These are assumed to be enterprise\n",
    "Patent_HAN <- Patent_HAN[, Applicant_Type := ifelse(is.na(Applicant_Type),\"Enterprise\", Applicant_Type)]\n",
    "\n",
    "table(Patent_HAN$Applicant_Type)\n",
    "sum(is.na(Patent_HAN$Applicant_Type))"
   ]
  },
  {
   "cell_type": "markdown",
   "metadata": {},
   "source": [
    "## 2.4) Removal of Legal Designation and Non-Alphanumeric Characters"
   ]
  },
  {
   "cell_type": "markdown",
   "metadata": {},
   "source": [
    "Create new column \"APPLICANT_MATCH_NAME\" where to store the edited name without erasing the original harmonized names"
   ]
  },
  {
   "cell_type": "code",
   "execution_count": 25,
   "metadata": {},
   "outputs": [
    {
     "data": {
      "text/html": [
       "6925"
      ],
      "text/latex": [
       "6925"
      ],
      "text/markdown": [
       "6925"
      ],
      "text/plain": [
       "[1] 6925"
      ]
     },
     "metadata": {},
     "output_type": "display_data"
    }
   ],
   "source": [
    "Patent_HAN <- Patent_HAN[, APPLICANT_MATCH_NAME := Clean_name]\n",
    "\n",
    "length(unique(Patent_HAN$APPLICANT_MATCH_NAME))"
   ]
  },
  {
   "cell_type": "markdown",
   "metadata": {},
   "source": [
    "Remove non-alphanumeric characters"
   ]
  },
  {
   "cell_type": "code",
   "execution_count": 26,
   "metadata": {},
   "outputs": [
    {
     "data": {
      "text/html": [
       "6925"
      ],
      "text/latex": [
       "6925"
      ],
      "text/markdown": [
       "6925"
      ],
      "text/plain": [
       "[1] 6925"
      ]
     },
     "metadata": {},
     "output_type": "display_data"
    }
   ],
   "source": [
    "Patent_HAN[, APPLICANT_MATCH_NAME:= APPLICANT_MATCH_NAME %>%\n",
    "                 iconv(., from = \"UTF-8\", to=\"ASCII//TRANSLIT\") %>%\n",
    "                 gsub(\"\\\\.$\",\"\",.) %>%\n",
    "                 gsub(\"[^[:alnum:][:blank:].,&]\",\"\",.) %>%\n",
    "                 trimws()]\n",
    "\n",
    "length(unique(Patent_HAN$APPLICANT_MATCH_NAME))"
   ]
  },
  {
   "cell_type": "markdown",
   "metadata": {},
   "source": [
    "Legal designation was removed on a country basis. "
   ]
  },
  {
   "cell_type": "code",
   "execution_count": 27,
   "metadata": {},
   "outputs": [],
   "source": [
    "#United States\n",
    "Patent_HAN[Person_ctry_code==\"UNITED STATES\", APPLICANT_MATCH_NAME := APPLICANT_MATCH_NAME %>%\n",
    "                 gsub(\"INCORPORATED$\",\"\",.) %>%\n",
    "                 gsub(\" INC$\",\"\",.) %>%\n",
    "                 gsub(\",INC$\",\"\",.) %>%\n",
    "                 gsub(\"LIMITED$\",\"\",.) %>%\n",
    "                 gsub(\" LTD$\",\"\",.) %>%\n",
    "                 gsub(\",LTD$\",\"\",.) %>%\n",
    "                 gsub(\" LLC$\",\"\",.) %>%\n",
    "                 gsub(\",LLC$\",\"\",.) %>%\n",
    "                 gsub(\"L.L.C$\",\"\",.) %>%\n",
    "                 gsub(\" LLP$\",\"\",.) %>%\n",
    "                 gsub(\",LLP$\",\"\",.) %>%\n",
    "                 gsub(\"CORPORATION$\",\"\",.) %>%\n",
    "                 gsub(\" CORP$\",\"\",.) %>%\n",
    "                 gsub(\",CORP$\",\"\",.) %>%\n",
    "                 gsub(\" CO INC$\",\"\",.) %>%\n",
    "                 gsub(\" CO LLC$\",\"\",.) %>%\n",
    "                 gsub(\" CO$\",\"\",.) %>%\n",
    "                 gsub(\",CO$\",\"\",.) %>%\n",
    "                 gsub(\" LP$\",\"\",.) %>%\n",
    "                 gsub(\",LP$\",\"\",.) %>%\n",
    "                 trimws()]                 "
   ]
  },
  {
   "cell_type": "code",
   "execution_count": 28,
   "metadata": {},
   "outputs": [],
   "source": [
    "#China\n",
    "Patent_HAN[Person_ctry_code==\"CHINA\", APPLICANT_MATCH_NAME := APPLICANT_MATCH_NAME %>%\n",
    "                 gsub(\"CO.,LTD$\",\"\",.) %>%\n",
    "                 gsub(\"CO., LTD$\",\"\",.) %>%\n",
    "                 gsub(\"CO. LTD$\",\"\",.) %>%\n",
    "                 gsub(\"CO.LTD$\",\"\",.) %>%\n",
    "                 gsub(\"CORPORATION$\",\"\",.) %>%\n",
    "                 gsub(\" CORP$\",\"\",.) %>%\n",
    "                 gsub(\",CORP$\",\"\",.) %>%\n",
    "                 gsub(\" CO$\",\"\",.) %>%\n",
    "                 gsub(\"CO$\",\"\",.) %>%\n",
    "                 gsub(\" CORP LTD$\",\"\",.) %>%\n",
    "                 gsub(\",CORP LTD$\",\"\",.) %>%\n",
    "                 gsub(\"LIMITED$\",\"\",.) %>%\n",
    "                 gsub(\" LTD$\",\"\",.) %>%\n",
    "                 gsub(\",LTD$\",\"\",.) %>%\n",
    "                 gsub(\"INCORPORATED$\",\"\",.) %>%\n",
    "                 gsub(\" INC$\",\"\",.) %>%\n",
    "                 gsub(\",INC$\",\"\",.) %>%\n",
    "                 trimws()]"
   ]
  },
  {
   "cell_type": "code",
   "execution_count": 29,
   "metadata": {},
   "outputs": [],
   "source": [
    "#United Kingdom \n",
    "Patent_HAN[Person_ctry_code==\"UNITED KINGDOM\", APPLICANT_MATCH_NAME := APPLICANT_MATCH_NAME %>%\n",
    "                 gsub(\"LIMITED$\", \"\",.) %>%\n",
    "                 gsub(\" LTD$\", \"\",.) %>%\n",
    "                 gsub(\",LTD$\", \"\",.) %>%\n",
    "                 gsub(\" LLC$\", \"\",.) %>%\n",
    "                 gsub(\",LLC$\", \"\",.) %>%\n",
    "                 gsub(\" PLC$\", \"\",.) %>%\n",
    "                 gsub(\",PLC$\", \"\",.) %>%\n",
    "                 gsub(\" INC$\", \"\",.) %>%\n",
    "                 gsub(\",INC$\", \"\",.) %>%\n",
    "                 trimws()]"
   ]
  },
  {
   "cell_type": "code",
   "execution_count": 30,
   "metadata": {},
   "outputs": [],
   "source": [
    "#France\n",
    "Patent_HAN[Person_ctry_code==\"FRANCE\", APPLICANT_MATCH_NAME := APPLICANT_MATCH_NAME %>%\n",
    "                 gsub(\"SÀRL$\",\"\",.) %>%\n",
    "                 gsub(\" SARL$\",\"\",.) %>%\n",
    "                 gsub(\",SARL$\",\"\",.) %>%\n",
    "                 gsub(\" SASU$\",\"\",.) %>%\n",
    "                 gsub(\",SASU$\",\"\",.) %>%\n",
    "                 gsub(\" SRL$\",\"\",.) %>%\n",
    "                 gsub(\",SRL$\",\"\",.) %>%\n",
    "                 gsub(\"S.A.S$\",\"\",.) %>%\n",
    "                 gsub(\" SAS$\",\"\",.) %>%\n",
    "                 gsub(\",SAS$\",\"\",.) %>%\n",
    "                 gsub(\"S.A$\",\"\",.) %>%\n",
    "                 gsub(\" SA$\",\"\",.) %>%\n",
    "                 gsub(\",SA$\",\"\",.) %>%\n",
    "                 gsub(\" SE$\",\"\",.) %>%\n",
    "                 gsub(\",SE$\",\"\",.) %>%\n",
    "                 gsub(\"SOCIÉTÉ ANONYME$\",\"\",.) %>%\n",
    "                 gsub(\"^SAS \",\"\",.) %>%\n",
    "                 trimws()]"
   ]
  },
  {
   "cell_type": "code",
   "execution_count": 31,
   "metadata": {},
   "outputs": [],
   "source": [
    "#Israel\n",
    "Patent_HAN[Person_ctry_code==\"ISRAEL\", APPLICANT_MATCH_NAME := APPLICANT_MATCH_NAME %>%\n",
    "                 gsub(\"LIMITED$\",\"\",.) %>%\n",
    "                 gsub(\" LTD$\", \"\",.) %>%\n",
    "                 gsub(\",LTD$\", \"\",.) %>%\n",
    "                 gsub(\"INCOPORATED$\",\"\",.) %>%\n",
    "                 gsub(\" INC$\", \"\",.) %>%\n",
    "                 gsub(\",INC$\", \"\",.) %>%\n",
    "                 gsub(\"CO LTD$\",\"\",.) %>%\n",
    "                 trimws()]"
   ]
  },
  {
   "cell_type": "code",
   "execution_count": 32,
   "metadata": {},
   "outputs": [],
   "source": [
    "#Canada\n",
    "Patent_HAN[Person_ctry_code==\"CANADA\", APPLICANT_MATCH_NAME := APPLICANT_MATCH_NAME %>%\n",
    "                 gsub(\"INCORPORATED$\",\"\",.) %>%\n",
    "                 gsub(\" INC$\", \"\",.) %>%\n",
    "                 gsub(\",INC$\", \"\",.) %>%\n",
    "                 gsub(\"CORPORATION$\", \"\",.) %>%\n",
    "                 gsub(\" CORP$\", \"\",.) %>%\n",
    "                 gsub(\",CORP$\", \"\",.) %>%\n",
    "                 gsub(\"LIMITED$\", \"\",.) %>%\n",
    "                 gsub(\" LTD$\", \"\",.) %>%\n",
    "                 gsub(\",LTD$\", \"\",.) %>%\n",
    "                 gsub(\" ULC$\",\"\",.) %>%\n",
    "                 gsub(\",ULC$\",\"\",.) %>%\n",
    "                 gsub(\" LP$\",\"\",.) %>%\n",
    "                 gsub(\",LP$\",\"\",.) %>%\n",
    "                 trimws()]"
   ]
  },
  {
   "cell_type": "code",
   "execution_count": 33,
   "metadata": {},
   "outputs": [],
   "source": [
    "#Japan\n",
    "Patent_HAN[Person_ctry_code==\"JAPAN\", APPLICANT_MATCH_NAME := APPLICANT_MATCH_NAME %>%\n",
    "                 gsub(\"CO.,LTD$\",\"\",.) %>%\n",
    "                 gsub(\"CO., LTD$\",\"\",.) %>%\n",
    "                 gsub(\"CO. LTD$\",\"\",.) %>%\n",
    "                 gsub(\"CO.LTD$\",\"\",.) %>% \n",
    "                 gsub(\"CORPORATION$\",\"\",.) %>%\n",
    "                 gsub(\" CORP$\",\"\",.) %>%\n",
    "                 gsub(\",CORP$\",\"\",.) %>%\n",
    "                 gsub(\"CO INC$\",\"\",.) %>%\n",
    "                 gsub(\" CO$\",\"\",.) %>%\n",
    "                 gsub(\",CO$\",\"\",.) %>%\n",
    "                 gsub(\"LIMITED$\",\"\",.) %>%\n",
    "                 gsub(\" LTD$\",\"\",.) %>%\n",
    "                 gsub(\",LTD$\",\"\",.) %>%\n",
    "                 gsub(\"INCORPORATED$\",\"\",.) %>%\n",
    "                 gsub(\" INC$\",\"\",.) %>%\n",
    "                 gsub(\",INC$\",\"\",.) %>%\n",
    "                 gsub(\"K.K$\",\"\",.) %>%\n",
    "                 gsub(\" KK$\",\"\",.) %>%\n",
    "                 gsub(\",KK$\",\"\",.) %>%\n",
    "                 gsub(\"^CO LTD\",\"\",.) %>%\n",
    "                 trimws()]"
   ]
  },
  {
   "cell_type": "code",
   "execution_count": 34,
   "metadata": {},
   "outputs": [],
   "source": [
    "#India\n",
    "Patent_HAN[Person_ctry_code==\"INDIA\", APPLICANT_MATCH_NAME :=  APPLICANT_MATCH_NAME %>%\n",
    "                 gsub(\"PRIVATE LIMITED$\",\"\",.) %>%\n",
    "                 gsub(\"PRIVATE LTD$\",\"\",.) %>%\n",
    "                 gsub(\"PVT.LTD$\",\"\",.) %>%\n",
    "                 gsub(\"PVT. LTD$\",\"\",.) %>%\n",
    "                 gsub(\"PVT LTD$\",\"\",.) %>%\n",
    "                 gsub(\" PVT$\",\"\",.) %>%\n",
    "                 gsub(\",PVT$\",\"\",.) %>%\n",
    "                 gsub(\" INC$\",\"\",.) %>%\n",
    "                 gsub(\",INC$\",\"\",.) %>%\n",
    "                 gsub(\" LTD$\",\"\",.) %>%\n",
    "                 gsub(\",LTD$\",\"\",.) %>%\n",
    "                 trimws()]"
   ]
  },
  {
   "cell_type": "code",
   "execution_count": 35,
   "metadata": {},
   "outputs": [],
   "source": [
    "#Germany\n",
    "Patent_HAN[Person_ctry_code==\"GERMANY\", APPLICANT_MATCH_NAME := APPLICANT_MATCH_NAME %>%\n",
    "                 gsub(\" SLU GMBH$\", \"\",.) %>%\n",
    "                 gsub(\"GMBH & CO KG$\", \"\",.) %>%\n",
    "                 gsub(\"GMBH & CO. KG$\", \"\",.) %>%\n",
    "                 gsub(\"GMBH & CO$\", \"\",.) %>%\n",
    "                 gsub(\" KG$\", \"\",.) %>%\n",
    "                 gsub(\",KG$\", \"\",.) %>%\n",
    "                 gsub(\"GMBH$\", \"\",.) %>%\n",
    "                 gsub(\"MBH$\", \"\",.) %>%\n",
    "                 gsub(\" AG$\", \"\",.) %>%\n",
    "                 gsub(\",AG$\", \"\",.) %>%\n",
    "                 gsub(\" SE$\", \"\",.) %>%\n",
    "                 gsub(\",SE$\", \"\",.) %>%\n",
    "                 trimws()]"
   ]
  },
  {
   "cell_type": "code",
   "execution_count": 36,
   "metadata": {},
   "outputs": [],
   "source": [
    "#Singapore\n",
    "Patent_HAN[Person_ctry_code==\"SINGAPORE\", APPLICANT_MATCH_NAME := APPLICANT_MATCH_NAME %>%\n",
    "                 gsub(\"PRIVATE LIMITED$\", \"\",.) %>%\n",
    "                 gsub(\"PTE. LTD$\", \"\",.) %>%\n",
    "                 gsub(\"PTE LTD$\", \"\",.) %>%\n",
    "                 gsub(\"LIMITED$\", \"\",.) %>%\n",
    "                 gsub(\" LTD$\", \"\",.) %>%\n",
    "                 gsub(\",LTD$\", \"\",.) %>%\n",
    "                 gsub(\"CORP LTD$\",\"\",.) %>%\n",
    "                 trimws()]"
   ]
  },
  {
   "cell_type": "code",
   "execution_count": 37,
   "metadata": {},
   "outputs": [],
   "source": [
    "#Australia\n",
    "Patent_HAN[Person_ctry_code==\"AUSTRALIA\", APPLICANT_MATCH_NAME := APPLICANT_MATCH_NAME %>%\n",
    "                 gsub(\"PTY. LTD$\",\"\",.) %>%\n",
    "                 gsub(\"PTY.LTD$\",\"\",.) %>%\n",
    "                 gsub(\"PTY LTD$\",\"\",.) %>%\n",
    "                 gsub(\"(PTY)$\",\"\",.) %>%\n",
    "                 gsub(\"PTY LIMITED$\",\"\",.) %>%\n",
    "                 gsub(\"LIMITED$\",\"\",.) %>%\n",
    "                 gsub(\" LTD$\",\"\",.) %>%\n",
    "                 gsub(\",LTD$\",\"\",.) %>%\n",
    "                 gsub(\"CORPORATION$\",\"\",.) %>%\n",
    "                 gsub(\" CROP$\",\"\",.) %>%\n",
    "                 gsub(\" CO$\",\"\",.) %>%\n",
    "                 gsub(\",CO$\",\"\",.) %>%\n",
    "                 trimws()]"
   ]
  },
  {
   "cell_type": "code",
   "execution_count": 38,
   "metadata": {},
   "outputs": [],
   "source": [
    "#Sweden\n",
    "Patent_HAN[Person_ctry_code==\"SWEDEN\", APPLICANT_MATCH_NAME := APPLICANT_MATCH_NAME %>%\n",
    "                 gsub(\"\\\\(PUBL)$\",\"\",.) %>%\n",
    "                 gsub(\"SE AB$\",\"\",.) %>% \n",
    "                 gsub(\" AB$\",\"\",.) %>%\n",
    "                 gsub(\",AB$\",\"\",.) %>%\n",
    "                 gsub(\"^AB \",\"\",.) %>%\n",
    "                 gsub(\" CORP$\",\"\",.) %>%\n",
    "                 gsub(\",CORP$\",\"\",.) %>%\n",
    "                 trimws()]"
   ]
  },
  {
   "cell_type": "code",
   "execution_count": 39,
   "metadata": {},
   "outputs": [],
   "source": [
    "#Spain\n",
    "Patent_HAN[Person_ctry_code==\"SPAIN\", APPLICANT_MATCH_NAME := APPLICANT_MATCH_NAME %>%\n",
    "                 gsub(\" SL$\",\"\",.) %>%\n",
    "                 gsub(\",SL$\",\"\",.) %>%\n",
    "                 gsub(\"S.L$\",\"\",.) %>%\n",
    "                 gsub(\", S.L$\",\"\",.) %>%\n",
    "                 gsub(\" SA$\",\"\",.) %>%\n",
    "                 gsub(\",SA$\",\"\",.) %>%\n",
    "                 gsub(\"S.A$\",\"\",.) %>%\n",
    "                 gsub(\", S.A$\",\"\",.) %>%\n",
    "                 gsub(\"S.L.U$\",\"\",.) %>%\n",
    "                 gsub(\" SLU$\",\"\",.) %>%\n",
    "                 gsub(\",SLU$\",\"\",.) %>%\n",
    "                 trimws()]"
   ]
  },
  {
   "cell_type": "code",
   "execution_count": 40,
   "metadata": {},
   "outputs": [],
   "source": [
    "#Switzerland\n",
    "Patent_HAN[Person_ctry_code==\"SWITZERLAND\", APPLICANT_MATCH_NAME := APPLICANT_MATCH_NAME %>%\n",
    "                 gsub(\"SÀRL$\",\"\",.) %>%\n",
    "                 gsub(\" AG$\",\"\",.) %>% \n",
    "                 gsub(\",AG$\",\"\",.) %>% \n",
    "                 gsub(\"GMBH$\",\"\",.) %>%\n",
    "                 gsub(\"S.A$\",\"\",.) %>%\n",
    "                 gsub(\" SA$\",\"\",.) %>%\n",
    "                 gsub(\",SA$\",\"\",.) %>%\n",
    "                 gsub(\" SARL$\",\"\",.) %>%\n",
    "                 gsub(\" LTD$\",\"\",.) %>%\n",
    "                 gsub(\",LTD$\",\"\",.) %>%\n",
    "                 trimws()]"
   ]
  },
  {
   "cell_type": "code",
   "execution_count": 41,
   "metadata": {},
   "outputs": [],
   "source": [
    "#Belgium\n",
    "Patent_HAN[Person_ctry_code==\"BELGIUM\", APPLICANT_MATCH_NAME := APPLICANT_MATCH_NAME %>%\n",
    "                 gsub(\" NV SA$\",\"\",.) %>%\n",
    "                 gsub(\" NV$\",\"\",.) %>%\n",
    "                 gsub(\" SA$\",\"\",.) %>%\n",
    "                 gsub(\" VZW$\",\"\",.) %>%\n",
    "                 gsub(\" BVBA$\",\"\",.) %>%\n",
    "                 gsub(\" SPRL$\",\"\",.) %>%\n",
    "                 trimws()]"
   ]
  },
  {
   "cell_type": "code",
   "execution_count": 42,
   "metadata": {},
   "outputs": [],
   "source": [
    "#Netherlands\n",
    "Patent_HAN[Person_ctry_code==\"NETHERLANDS\", APPLICANT_MATCH_NAME := APPLICANT_MATCH_NAME %>%\n",
    "                 gsub(\"N.V$\",\"\",.) %>%\n",
    "                 gsub(\" NV$\",\"\",.) %>%\n",
    "                 gsub(\",NV$\",\"\",.) %>%\n",
    "                 gsub(\"B.V$\",\"\",.) %>%\n",
    "                 gsub(\" BV$\",\"\",.) %>%\n",
    "                 gsub(\",BV$\",\"\",.) %>%\n",
    "                 trimws()]"
   ]
  },
  {
   "cell_type": "code",
   "execution_count": 43,
   "metadata": {},
   "outputs": [],
   "source": [
    "#South Korea\n",
    "Patent_HAN[Person_ctry_code==\"SOUTH KOREA\", APPLICANT_MATCH_NAME := APPLICANT_MATCH_NAME %>%\n",
    "                 gsub(\"CO.,LTD$\",\"\",.) %>%\n",
    "                 gsub(\"CO., LTD$\",\"\",.) %>%\n",
    "                 gsub(\"CO. LTD$\",\"\",.) %>%\n",
    "                 gsub(\"CO.LTD$\",\"\",.) %>%\n",
    "                 gsub(\"CORPORATION$\",\"\",.) %>%\n",
    "                 gsub(\"CORP$\",\"\",.) %>%\n",
    "                 gsub(\" CO$\",\"\",.) %>%\n",
    "                 gsub(\",CO$\",\"\",.) %>%\n",
    "                 gsub(\"LIMITED$\",\"\",.) %>%\n",
    "                 gsub(\" LTD$\",\"\",.) %>%\n",
    "                 gsub(\",LTD$\",\"\",.) %>%\n",
    "                 gsub(\"INCORPORATED$\",\"\",.) %>%\n",
    "                 gsub(\" INC$\",\"\",.) %>%\n",
    "                 gsub(\", INC$\",\"\",.) %>%\n",
    "                 trimws()]"
   ]
  },
  {
   "cell_type": "code",
   "execution_count": 44,
   "metadata": {},
   "outputs": [],
   "source": [
    "#Italy\n",
    "Patent_HAN[Person_ctry_code==\"ITALY\", APPLICANT_MATCH_NAME := APPLICANT_MATCH_NAME %>%\n",
    "                 gsub(\"S.P.A$\",\"\",.) %>%\n",
    "                 gsub(\" SPA$\",\"\",.) %>%\n",
    "                 gsub(\",SPA$\",\"\",.) %>%\n",
    "                 gsub(\"S.R.L$\",\"\",.) %>%\n",
    "                 gsub(\" SRL$\",\"\",.) %>%\n",
    "                 gsub(\",SRL$\",\"\",.) %>%\n",
    "                 trimws()]"
   ]
  },
  {
   "cell_type": "code",
   "execution_count": 45,
   "metadata": {},
   "outputs": [],
   "source": [
    "#Finland\n",
    "Patent_HAN[Person_ctry_code==\"FINLAND\", APPLICANT_MATCH_NAME := APPLICANT_MATCH_NAME %>%\n",
    "                 gsub(\"OYJ$\",\"\",.) %>%\n",
    "                 gsub(\"OY AB$\",\"\",.) %>%\n",
    "                 gsub(\"OY$\",\"\",.) %>%\n",
    "                 gsub(\" INC$\",\"\",.) %>%\n",
    "                 gsub(\",INC$\",\"\",.) %>%\n",
    "                 gsub(\" LTD$\",\"\",.) %>%\n",
    "                 gsub(\", LTD$\",\"\",.) %>%\n",
    "                 gsub(\" CORP$\",\"\",.) %>%\n",
    "                 gsub(\" CORP$\",\"\",.) %>%\n",
    "                 gsub(\" AB$\",\"\",.) %>%\n",
    "                 gsub(\" AB LTD$\",\"\",.) %>%\n",
    "                 gsub(\" PLC$\",\"\",.) %>%\n",
    "                 gsub(\"^OY \",\"\",.) %>%\n",
    "                 trimws()]"
   ]
  },
  {
   "cell_type": "code",
   "execution_count": 46,
   "metadata": {},
   "outputs": [],
   "source": [
    "#Denmark\n",
    "Patent_HAN[Person_ctry_code==\"DENMARK\", APPLICANT_MATCH_NAME := APPLICANT_MATCH_NAME %>%\n",
    "                 gsub(\" APS$\",\"\",.) %>%\n",
    "                 gsub(\" AS$\",\"\",.) %>%\n",
    "                trimws()]"
   ]
  },
  {
   "cell_type": "code",
   "execution_count": 47,
   "metadata": {},
   "outputs": [],
   "source": [
    "#Remove commas and dots at end of names\n",
    "Patent_HAN[, APPLICANT_MATCH_NAME := APPLICANT_MATCH_NAME %>%\n",
    "                 gsub(\"\\\\.$\",\"\",.) %>%\n",
    "                 gsub(\",$\",\"\",.) %>%\n",
    "                 gsub(\" TECH$\",\"\",.) %>%      \n",
    "                 trimws()]\n"
   ]
  },
  {
   "cell_type": "code",
   "execution_count": 48,
   "metadata": {},
   "outputs": [
    {
     "data": {
      "text/html": [
       "<ol class=list-inline>\n",
       "\t<li>'SYSTRAN INSTITUT GES FUR FORSCHUNG &amp; ENTWICKLUNG MASCHINELLER SPRACHUBERSETZUNGSSYSTEME'</li>\n",
       "\t<li>'IBM'</li>\n",
       "\t<li>'STEULER INDUSTRIEWERKE'</li>\n",
       "\t<li>'UBE IND'</li>\n",
       "\t<li>'TOSHIBA'</li>\n",
       "\t<li>'NCR'</li>\n",
       "\t<li>'EASTMAN KODAK'</li>\n",
       "\t<li>'IBM'</li>\n",
       "\t<li>'PICKER INT'</li>\n",
       "\t<li>'RUTLAND PLASTICS'</li>\n",
       "\t<li>'VICTAULIC'</li>\n",
       "\t<li>'CAMBRIDGE LIFE SCIENCES'</li>\n",
       "\t<li>'TEXAS INSTRUMENTS'</li>\n",
       "\t<li>'ADVANCED MAGNETICS'</li>\n",
       "\t<li>'TEXAS INSTRUMENTS'</li>\n",
       "\t<li>'VANDERBILT UNIVERSITY'</li>\n",
       "\t<li>'PELAM'</li>\n",
       "\t<li>'SCHAEFER PHILIPP'</li>\n",
       "\t<li>'VELCRO IND'</li>\n",
       "\t<li>'NIPPON OIL'</li>\n",
       "</ol>\n"
      ],
      "text/latex": [
       "\\begin{enumerate*}\n",
       "\\item 'SYSTRAN INSTITUT GES FUR FORSCHUNG \\& ENTWICKLUNG MASCHINELLER SPRACHUBERSETZUNGSSYSTEME'\n",
       "\\item 'IBM'\n",
       "\\item 'STEULER INDUSTRIEWERKE'\n",
       "\\item 'UBE IND'\n",
       "\\item 'TOSHIBA'\n",
       "\\item 'NCR'\n",
       "\\item 'EASTMAN KODAK'\n",
       "\\item 'IBM'\n",
       "\\item 'PICKER INT'\n",
       "\\item 'RUTLAND PLASTICS'\n",
       "\\item 'VICTAULIC'\n",
       "\\item 'CAMBRIDGE LIFE SCIENCES'\n",
       "\\item 'TEXAS INSTRUMENTS'\n",
       "\\item 'ADVANCED MAGNETICS'\n",
       "\\item 'TEXAS INSTRUMENTS'\n",
       "\\item 'VANDERBILT UNIVERSITY'\n",
       "\\item 'PELAM'\n",
       "\\item 'SCHAEFER PHILIPP'\n",
       "\\item 'VELCRO IND'\n",
       "\\item 'NIPPON OIL'\n",
       "\\end{enumerate*}\n"
      ],
      "text/markdown": [
       "1. 'SYSTRAN INSTITUT GES FUR FORSCHUNG &amp; ENTWICKLUNG MASCHINELLER SPRACHUBERSETZUNGSSYSTEME'\n",
       "2. 'IBM'\n",
       "3. 'STEULER INDUSTRIEWERKE'\n",
       "4. 'UBE IND'\n",
       "5. 'TOSHIBA'\n",
       "6. 'NCR'\n",
       "7. 'EASTMAN KODAK'\n",
       "8. 'IBM'\n",
       "9. 'PICKER INT'\n",
       "10. 'RUTLAND PLASTICS'\n",
       "11. 'VICTAULIC'\n",
       "12. 'CAMBRIDGE LIFE SCIENCES'\n",
       "13. 'TEXAS INSTRUMENTS'\n",
       "14. 'ADVANCED MAGNETICS'\n",
       "15. 'TEXAS INSTRUMENTS'\n",
       "16. 'VANDERBILT UNIVERSITY'\n",
       "17. 'PELAM'\n",
       "18. 'SCHAEFER PHILIPP'\n",
       "19. 'VELCRO IND'\n",
       "20. 'NIPPON OIL'\n",
       "\n",
       "\n"
      ],
      "text/plain": [
       " [1] \"SYSTRAN INSTITUT GES FUR FORSCHUNG & ENTWICKLUNG MASCHINELLER SPRACHUBERSETZUNGSSYSTEME\"\n",
       " [2] \"IBM\"                                                                                    \n",
       " [3] \"STEULER INDUSTRIEWERKE\"                                                                 \n",
       " [4] \"UBE IND\"                                                                                \n",
       " [5] \"TOSHIBA\"                                                                                \n",
       " [6] \"NCR\"                                                                                    \n",
       " [7] \"EASTMAN KODAK\"                                                                          \n",
       " [8] \"IBM\"                                                                                    \n",
       " [9] \"PICKER INT\"                                                                             \n",
       "[10] \"RUTLAND PLASTICS\"                                                                       \n",
       "[11] \"VICTAULIC\"                                                                              \n",
       "[12] \"CAMBRIDGE LIFE SCIENCES\"                                                                \n",
       "[13] \"TEXAS INSTRUMENTS\"                                                                      \n",
       "[14] \"ADVANCED MAGNETICS\"                                                                     \n",
       "[15] \"TEXAS INSTRUMENTS\"                                                                      \n",
       "[16] \"VANDERBILT UNIVERSITY\"                                                                  \n",
       "[17] \"PELAM\"                                                                                  \n",
       "[18] \"SCHAEFER PHILIPP\"                                                                       \n",
       "[19] \"VELCRO IND\"                                                                             \n",
       "[20] \"NIPPON OIL\"                                                                             "
      ]
     },
     "metadata": {},
     "output_type": "display_data"
    }
   ],
   "source": [
    "head(Patent_HAN$APPLICANT_MATCH_NAME,20)"
   ]
  },
  {
   "cell_type": "markdown",
   "metadata": {},
   "source": [
    "## 2.5) Insert Key Word for Posterior Patent-Industrial Dataset Matching"
   ]
  },
  {
   "cell_type": "markdown",
   "metadata": {},
   "source": [
    "To guide the Convoluted Fuzzy Match algorithm, the first word of the Applicant's name is needed to be stored in a column (\"Applicant_Key_Word\")"
   ]
  },
  {
   "cell_type": "code",
   "execution_count": 49,
   "metadata": {},
   "outputs": [
    {
     "data": {
      "text/html": [
       "<ol class=list-inline>\n",
       "\t<li>'SYSTRAN'</li>\n",
       "\t<li>'IBM'</li>\n",
       "\t<li>'STEULER'</li>\n",
       "\t<li>'UBE'</li>\n",
       "\t<li>'TOSHIBA'</li>\n",
       "\t<li>'NCR'</li>\n",
       "\t<li>'EASTMAN'</li>\n",
       "\t<li>'IBM'</li>\n",
       "\t<li>'PICKER'</li>\n",
       "\t<li>'RUTLAND'</li>\n",
       "\t<li>'VICTAULIC'</li>\n",
       "\t<li>'CAMBRIDGE'</li>\n",
       "\t<li>'TEXAS'</li>\n",
       "\t<li>'ADVANCED'</li>\n",
       "\t<li>'TEXAS'</li>\n",
       "\t<li>'VANDERBILT'</li>\n",
       "\t<li>'PELAM'</li>\n",
       "\t<li>'SCHAEFER'</li>\n",
       "\t<li>'VELCRO'</li>\n",
       "\t<li>'NIPPON'</li>\n",
       "</ol>\n"
      ],
      "text/latex": [
       "\\begin{enumerate*}\n",
       "\\item 'SYSTRAN'\n",
       "\\item 'IBM'\n",
       "\\item 'STEULER'\n",
       "\\item 'UBE'\n",
       "\\item 'TOSHIBA'\n",
       "\\item 'NCR'\n",
       "\\item 'EASTMAN'\n",
       "\\item 'IBM'\n",
       "\\item 'PICKER'\n",
       "\\item 'RUTLAND'\n",
       "\\item 'VICTAULIC'\n",
       "\\item 'CAMBRIDGE'\n",
       "\\item 'TEXAS'\n",
       "\\item 'ADVANCED'\n",
       "\\item 'TEXAS'\n",
       "\\item 'VANDERBILT'\n",
       "\\item 'PELAM'\n",
       "\\item 'SCHAEFER'\n",
       "\\item 'VELCRO'\n",
       "\\item 'NIPPON'\n",
       "\\end{enumerate*}\n"
      ],
      "text/markdown": [
       "1. 'SYSTRAN'\n",
       "2. 'IBM'\n",
       "3. 'STEULER'\n",
       "4. 'UBE'\n",
       "5. 'TOSHIBA'\n",
       "6. 'NCR'\n",
       "7. 'EASTMAN'\n",
       "8. 'IBM'\n",
       "9. 'PICKER'\n",
       "10. 'RUTLAND'\n",
       "11. 'VICTAULIC'\n",
       "12. 'CAMBRIDGE'\n",
       "13. 'TEXAS'\n",
       "14. 'ADVANCED'\n",
       "15. 'TEXAS'\n",
       "16. 'VANDERBILT'\n",
       "17. 'PELAM'\n",
       "18. 'SCHAEFER'\n",
       "19. 'VELCRO'\n",
       "20. 'NIPPON'\n",
       "\n",
       "\n"
      ],
      "text/plain": [
       " [1] \"SYSTRAN\"    \"IBM\"        \"STEULER\"    \"UBE\"        \"TOSHIBA\"   \n",
       " [6] \"NCR\"        \"EASTMAN\"    \"IBM\"        \"PICKER\"     \"RUTLAND\"   \n",
       "[11] \"VICTAULIC\"  \"CAMBRIDGE\"  \"TEXAS\"      \"ADVANCED\"   \"TEXAS\"     \n",
       "[16] \"VANDERBILT\" \"PELAM\"      \"SCHAEFER\"   \"VELCRO\"     \"NIPPON\"    "
      ]
     },
     "metadata": {},
     "output_type": "display_data"
    }
   ],
   "source": [
    "Patent_HAN[, Applicant_Key_Word := stringr::word(APPLICANT_MATCH_NAME,1)]\n",
    "head(Patent_HAN$Applicant_Key_Word,20)"
   ]
  },
  {
   "cell_type": "markdown",
   "metadata": {},
   "source": [
    "## 2.6) Identify Patent Application that have Multiple Applicants"
   ]
  },
  {
   "cell_type": "code",
   "execution_count": 50,
   "metadata": {},
   "outputs": [
    {
     "data": {
      "text/html": [
       "2635"
      ],
      "text/latex": [
       "2635"
      ],
      "text/markdown": [
       "2635"
      ],
      "text/plain": [
       "[1] 2635"
      ]
     },
     "metadata": {},
     "output_type": "display_data"
    }
   ],
   "source": [
    "Duplicated_Applicant <- Patent_HAN[duplicated(Patent_HAN$Patent_number),Patent_number]\n",
    "length(Duplicated_Applicant)"
   ]
  },
  {
   "cell_type": "markdown",
   "metadata": {},
   "source": [
    "Add a coumn to Patent_HAN labeling patent application with multiple applicants"
   ]
  },
  {
   "cell_type": "code",
   "execution_count": 51,
   "metadata": {},
   "outputs": [
    {
     "data": {
      "text/plain": [
       "\n",
       "FALSE  TRUE \n",
       "14949  4657 "
      ]
     },
     "metadata": {},
     "output_type": "display_data"
    }
   ],
   "source": [
    "Patent_HAN[, Multiple_Applicants := Patent_number %in% Duplicated_Applicant]\n",
    "\n",
    "#Overview\n",
    "table(Patent_HAN[, Multiple_Applicants])"
   ]
  },
  {
   "cell_type": "markdown",
   "metadata": {},
   "source": [
    "## 2.7) GPT Market Cluster Mapping"
   ]
  },
  {
   "cell_type": "code",
   "execution_count": 52,
   "metadata": {},
   "outputs": [
    {
     "data": {
      "text/plain": [
       "\n",
       "Applied_AI    Core_AI \n",
       "     18693        913 "
      ]
     },
     "metadata": {},
     "output_type": "display_data"
    }
   ],
   "source": [
    "Patent_HAN <- Patent_HAN[, GPT_Scope:= as.factor(ifelse(Field_Applications==1, \"Applied_AI\", \"Core_AI\"))]\n",
    "table(Patent_HAN$GPT_Scope)"
   ]
  },
  {
   "cell_type": "code",
   "execution_count": 53,
   "metadata": {},
   "outputs": [
    {
     "data": {
      "text/html": [
       "<table>\n",
       "<thead><tr><th scope=col>HAN_ID</th><th scope=col>Patent_number</th><th scope=col>Clean_name</th><th scope=col>Person_ctry_code</th><th scope=col>Application_Date</th><th scope=col>Country</th><th scope=col>Title</th><th scope=col>Applicants</th><th scope=col>Inventors</th><th scope=col>Agriculture</th><th scope=col>...</th><th scope=col>Telecommunications</th><th scope=col>Transportation</th><th scope=col>Field_Applications</th><th scope=col>Functional_Applications</th><th scope=col>Techniques</th><th scope=col>Applicant_Type</th><th scope=col>APPLICANT_MATCH_NAME</th><th scope=col>Applicant_Key_Word</th><th scope=col>Multiple_Applicants</th><th scope=col>GPT_Scope</th></tr></thead>\n",
       "<tbody>\n",
       "\t<tr><td>2850861                                                                                                                                                                                                                                        </td><td>EP0012777                                                                                                                                                                                                                                      </td><td>SYSTRAN INSTITUT GES FUR FORSCHUNG &amp; ENTWICKLUNG MASCHINELLER SPRACHUBERSETZUNGSSYSTEME MBH                                                                                                                                                </td><td><span style=white-space:pre-wrap>GERMANY      </span>                                                                                                                                                                                          </td><td>1978-12-30                                                                                                                                                                                                                                     </td><td>EP                                                                                                                                                                                                                                             </td><td><span style=white-space:pre-wrap>Method using a programmed digital computer system for translation between natural languages.                       </span>                                                                                    </td><td><span style=white-space:pre-wrap>SYSTRAN INST                               </span>                                                                                                                                                            </td><td><span style=white-space:pre-wrap>TOMA PETER DR                                                                                                                                                                                          </span></td><td>0                                                                                                                                                                                                                                              </td><td>...                                                                                                                                                                                                                                            </td><td>0                                                                                                                                                                                                                                              </td><td>1                                                                                                                                                                                                                                              </td><td>1                                                                                                                                                                                                                                              </td><td>1                                                                                                                                                                                                                                              </td><td>1                                                                                                                                                                                                                                              </td><td>Enterprise                                                                                                                                                                                                                                     </td><td>SYSTRAN INSTITUT GES FUR FORSCHUNG &amp; ENTWICKLUNG MASCHINELLER SPRACHUBERSETZUNGSSYSTEME                                                                                                                                                    </td><td>SYSTRAN                                                                                                                                                                                                                                        </td><td>FALSE                                                                                                                                                                                                                                          </td><td>Applied_AI                                                                                                                                                                                                                                     </td></tr>\n",
       "\t<tr><td>1318206                                                                                                                                                                                                </td><td>EP0039393                                                                                                                                                                                              </td><td>IBM CORP                                                                                                                                                                                               </td><td>UNITED STATES                                                                                                                                                                                          </td><td>1981-03-06                                                                                                                                                                                             </td><td>EP                                                                                                                                                                                                     </td><td>TEXT RECORDER WITH AUTOMATIC WORD ENDING AND METHOD OF OPERATING THE SAME                                                                                                                              </td><td>INTERNATIONAL BUSINESS MACHINES CORPORATION                                                                                                                                                            </td><td>HANFT, ROY FRANCIS; PECHANEK, GERALD GEORGE                                                                                                                                                            </td><td>0                                                                                                                                                                                                      </td><td>...                                                                                                                                                                                                    </td><td>0                                                                                                                                                                                                      </td><td>0                                                                                                                                                                                                      </td><td>1                                                                                                                                                                                                      </td><td>1                                                                                                                                                                                                      </td><td>1                                                                                                                                                                                                      </td><td>Enterprise                                                                                                                                                                                             </td><td>IBM                                                                                                                                                                                                    </td><td>IBM                                                                                                                                                                                                    </td><td>FALSE                                                                                                                                                                                                  </td><td>Applied_AI                                                                                                                                                                                             </td></tr>\n",
       "\t<tr><td>2931262                                                                                                                                                                                                </td><td>EP0059929                                                                                                                                                                                              </td><td>STEULER INDUSTRIEWERKE GMBH                                                                                                                                                                            </td><td>GERMANY                                                                                                                                                                                                </td><td>1982-03-03                                                                                                                                                                                             </td><td>EP                                                                                                                                                                                                     </td><td>A METHOD FOR PRODUCING LINING PANELS WHICH CAN BE REMOVABLY ATTACHED TO A SURFACE                                                                                                                      </td><td>STEULER- INDUSTRIEWERKE GMBH                                                                                                                                                                           </td><td>ROHRINGER, ERNST                                                                                                                                                                                       </td><td>0                                                                                                                                                                                                      </td><td>...                                                                                                                                                                                                    </td><td>0                                                                                                                                                                                                      </td><td>0                                                                                                                                                                                                      </td><td>1                                                                                                                                                                                                      </td><td>0                                                                                                                                                                                                      </td><td>0                                                                                                                                                                                                      </td><td>Enterprise                                                                                                                                                                                             </td><td>STEULER INDUSTRIEWERKE                                                                                                                                                                                 </td><td>STEULER                                                                                                                                                                                                </td><td>FALSE                                                                                                                                                                                                  </td><td>Applied_AI                                                                                                                                                                                             </td></tr>\n",
       "\t<tr><td> 698993                                                                                                                                                                                                </td><td>EP0060671                                                                                                                                                                                              </td><td>UBE IND LTD                                                                                                                                                                                            </td><td>JAPAN                                                                                                                                                                                                  </td><td>1982-03-09                                                                                                                                                                                             </td><td>EP                                                                                                                                                                                                     </td><td>PROCESS FOR CONTINUOUSLY PRODUCING A POLYMERIC LAMINATE TAPE HAVING A PLURALITY OF METAL WIRES EMBEDDED THEREWITHIN                                                                                    </td><td>UBE INDUSTRIES, LTD.                                                                                                                                                                                   </td><td>HAYASHI, MASUMI C/O UBE INDUSTRIES LTD.; OGAWA, KAZUO C/O UBE INDUSTRIES LTD.; KIMURA, KATSUMI C/O UBE INDUSTRIES LTD.; ISHII, HIROSHI C/O UBE INDUSTRIES LTD.; BANDAI, SATOSHI C/O UBE INDUSTRIES LTD.</td><td>0                                                                                                                                                                                                      </td><td>...                                                                                                                                                                                                    </td><td>0                                                                                                                                                                                                      </td><td>0                                                                                                                                                                                                      </td><td>1                                                                                                                                                                                                      </td><td>0                                                                                                                                                                                                      </td><td>0                                                                                                                                                                                                      </td><td>Enterprise                                                                                                                                                                                             </td><td>UBE IND                                                                                                                                                                                                </td><td>UBE                                                                                                                                                                                                    </td><td>FALSE                                                                                                                                                                                                  </td><td>Applied_AI                                                                                                                                                                                             </td></tr>\n",
       "\t<tr><td> 558027                                                                                                                                                                                                </td><td>EP0091317                                                                                                                                                                                              </td><td>CO LTD TOSHIBA                                                                                                                                                                                         </td><td>JAPAN                                                                                                                                                                                                  </td><td>1983-04-06                                                                                                                                                                                             </td><td>EP                                                                                                                                                                                                     </td><td>SYNTAX ANALYZING METHOD AND APPARATUS                                                                                                                                                                  </td><td>TOKYO SHIBAURA DENKI KABUSHIKI KAISHA                                                                                                                                                                  </td><td>AMANO, SHIN-YA; HIRAKAWA, HIDEKI                                                                                                                                                                       </td><td>0                                                                                                                                                                                                      </td><td>...                                                                                                                                                                                                    </td><td>0                                                                                                                                                                                                      </td><td>0                                                                                                                                                                                                      </td><td>1                                                                                                                                                                                                      </td><td>1                                                                                                                                                                                                      </td><td>0                                                                                                                                                                                                      </td><td>Enterprise                                                                                                                                                                                             </td><td>TOSHIBA                                                                                                                                                                                                </td><td>TOSHIBA                                                                                                                                                                                                </td><td>FALSE                                                                                                                                                                                                  </td><td>Applied_AI                                                                                                                                                                                             </td></tr>\n",
       "\t<tr><td> 422610                                                                                                                                                                                                </td><td>EP0096712                                                                                                                                                                                              </td><td>NCR CORP                                                                                                                                                                                               </td><td>UNITED STATES                                                                                                                                                                                          </td><td>1982-12-07                                                                                                                                                                                             </td><td>EP                                                                                                                                                                                                     </td><td>A SYSTEM AND METHOD FOR RECOGNIZING SPEECH                                                                                                                                                             </td><td>NCR CORPORATION                                                                                                                                                                                        </td><td>AVERY, JAMES MARTIN; HOYER, ELMER AUGUST                                                                                                                                                               </td><td>0                                                                                                                                                                                                      </td><td>...                                                                                                                                                                                                    </td><td>0                                                                                                                                                                                                      </td><td>0                                                                                                                                                                                                      </td><td>1                                                                                                                                                                                                      </td><td>1                                                                                                                                                                                                      </td><td>1                                                                                                                                                                                                      </td><td>Enterprise                                                                                                                                                                                             </td><td>NCR                                                                                                                                                                                                    </td><td>NCR                                                                                                                                                                                                    </td><td>FALSE                                                                                                                                                                                                  </td><td>Applied_AI                                                                                                                                                                                             </td></tr>\n",
       "</tbody>\n",
       "</table>\n"
      ],
      "text/latex": [
       "\\begin{tabular}{r|llllllllllllllllllllllllllllllllllllllllllllllllllll}\n",
       " HAN\\_ID & Patent\\_number & Clean\\_name & Person\\_ctry\\_code & Application\\_Date & Country & Title & Applicants & Inventors & Agriculture & ... & Telecommunications & Transportation & Field\\_Applications & Functional\\_Applications & Techniques & Applicant\\_Type & APPLICANT\\_MATCH\\_NAME & Applicant\\_Key\\_Word & Multiple\\_Applicants & GPT\\_Scope\\\\\n",
       "\\hline\n",
       "\t 2850861                                                                                                                                                                                                 & EP0012777                                                                                                                                                                                               & SYSTRAN INSTITUT GES FUR FORSCHUNG \\& ENTWICKLUNG MASCHINELLER SPRACHUBERSETZUNGSSYSTEME MBH                                                                                                           & GERMANY                                                                                                                                                                                                 & 1978-12-30                                                                                                                                                                                              & EP                                                                                                                                                                                                      & Method using a programmed digital computer system for translation between natural languages.                                                                                                            & SYSTRAN INST                                                                                                                                                                                            & TOMA PETER DR                                                                                                                                                                                           & 0                                                                                                                                                                                                       & ...                                                                                                                                                                                                     & 0                                                                                                                                                                                                       & 1                                                                                                                                                                                                       & 1                                                                                                                                                                                                       & 1                                                                                                                                                                                                       & 1                                                                                                                                                                                                       & Enterprise                                                                                                                                                                                              & SYSTRAN INSTITUT GES FUR FORSCHUNG \\& ENTWICKLUNG MASCHINELLER SPRACHUBERSETZUNGSSYSTEME                                                                                                               & SYSTRAN                                                                                                                                                                                                 & FALSE                                                                                                                                                                                                   & Applied\\_AI                                                                                                                                                                                           \\\\\n",
       "\t 1318206                                                                                                                                                                                                 & EP0039393                                                                                                                                                                                               & IBM CORP                                                                                                                                                                                                & UNITED STATES                                                                                                                                                                                           & 1981-03-06                                                                                                                                                                                              & EP                                                                                                                                                                                                      & TEXT RECORDER WITH AUTOMATIC WORD ENDING AND METHOD OF OPERATING THE SAME                                                                                                                               & INTERNATIONAL BUSINESS MACHINES CORPORATION                                                                                                                                                             & HANFT, ROY FRANCIS; PECHANEK, GERALD GEORGE                                                                                                                                                             & 0                                                                                                                                                                                                       & ...                                                                                                                                                                                                     & 0                                                                                                                                                                                                       & 0                                                                                                                                                                                                       & 1                                                                                                                                                                                                       & 1                                                                                                                                                                                                       & 1                                                                                                                                                                                                       & Enterprise                                                                                                                                                                                              & IBM                                                                                                                                                                                                     & IBM                                                                                                                                                                                                     & FALSE                                                                                                                                                                                                   & Applied\\_AI                                                                                                                                                                                           \\\\\n",
       "\t 2931262                                                                                                                                                                                                 & EP0059929                                                                                                                                                                                               & STEULER INDUSTRIEWERKE GMBH                                                                                                                                                                             & GERMANY                                                                                                                                                                                                 & 1982-03-03                                                                                                                                                                                              & EP                                                                                                                                                                                                      & A METHOD FOR PRODUCING LINING PANELS WHICH CAN BE REMOVABLY ATTACHED TO A SURFACE                                                                                                                       & STEULER- INDUSTRIEWERKE GMBH                                                                                                                                                                            & ROHRINGER, ERNST                                                                                                                                                                                        & 0                                                                                                                                                                                                       & ...                                                                                                                                                                                                     & 0                                                                                                                                                                                                       & 0                                                                                                                                                                                                       & 1                                                                                                                                                                                                       & 0                                                                                                                                                                                                       & 0                                                                                                                                                                                                       & Enterprise                                                                                                                                                                                              & STEULER INDUSTRIEWERKE                                                                                                                                                                                  & STEULER                                                                                                                                                                                                 & FALSE                                                                                                                                                                                                   & Applied\\_AI                                                                                                                                                                                           \\\\\n",
       "\t  698993                                                                                                                                                                                                 & EP0060671                                                                                                                                                                                               & UBE IND LTD                                                                                                                                                                                             & JAPAN                                                                                                                                                                                                   & 1982-03-09                                                                                                                                                                                              & EP                                                                                                                                                                                                      & PROCESS FOR CONTINUOUSLY PRODUCING A POLYMERIC LAMINATE TAPE HAVING A PLURALITY OF METAL WIRES EMBEDDED THEREWITHIN                                                                                     & UBE INDUSTRIES, LTD.                                                                                                                                                                                    & HAYASHI, MASUMI C/O UBE INDUSTRIES LTD.; OGAWA, KAZUO C/O UBE INDUSTRIES LTD.; KIMURA, KATSUMI C/O UBE INDUSTRIES LTD.; ISHII, HIROSHI C/O UBE INDUSTRIES LTD.; BANDAI, SATOSHI C/O UBE INDUSTRIES LTD. & 0                                                                                                                                                                                                       & ...                                                                                                                                                                                                     & 0                                                                                                                                                                                                       & 0                                                                                                                                                                                                       & 1                                                                                                                                                                                                       & 0                                                                                                                                                                                                       & 0                                                                                                                                                                                                       & Enterprise                                                                                                                                                                                              & UBE IND                                                                                                                                                                                                 & UBE                                                                                                                                                                                                     & FALSE                                                                                                                                                                                                   & Applied\\_AI                                                                                                                                                                                           \\\\\n",
       "\t  558027                                                                                                                                                                                                 & EP0091317                                                                                                                                                                                               & CO LTD TOSHIBA                                                                                                                                                                                          & JAPAN                                                                                                                                                                                                   & 1983-04-06                                                                                                                                                                                              & EP                                                                                                                                                                                                      & SYNTAX ANALYZING METHOD AND APPARATUS                                                                                                                                                                   & TOKYO SHIBAURA DENKI KABUSHIKI KAISHA                                                                                                                                                                   & AMANO, SHIN-YA; HIRAKAWA, HIDEKI                                                                                                                                                                        & 0                                                                                                                                                                                                       & ...                                                                                                                                                                                                     & 0                                                                                                                                                                                                       & 0                                                                                                                                                                                                       & 1                                                                                                                                                                                                       & 1                                                                                                                                                                                                       & 0                                                                                                                                                                                                       & Enterprise                                                                                                                                                                                              & TOSHIBA                                                                                                                                                                                                 & TOSHIBA                                                                                                                                                                                                 & FALSE                                                                                                                                                                                                   & Applied\\_AI                                                                                                                                                                                           \\\\\n",
       "\t  422610                                                                                                                                                                                                 & EP0096712                                                                                                                                                                                               & NCR CORP                                                                                                                                                                                                & UNITED STATES                                                                                                                                                                                           & 1982-12-07                                                                                                                                                                                              & EP                                                                                                                                                                                                      & A SYSTEM AND METHOD FOR RECOGNIZING SPEECH                                                                                                                                                              & NCR CORPORATION                                                                                                                                                                                         & AVERY, JAMES MARTIN; HOYER, ELMER AUGUST                                                                                                                                                                & 0                                                                                                                                                                                                       & ...                                                                                                                                                                                                     & 0                                                                                                                                                                                                       & 0                                                                                                                                                                                                       & 1                                                                                                                                                                                                       & 1                                                                                                                                                                                                       & 1                                                                                                                                                                                                       & Enterprise                                                                                                                                                                                              & NCR                                                                                                                                                                                                     & NCR                                                                                                                                                                                                     & FALSE                                                                                                                                                                                                   & Applied\\_AI                                                                                                                                                                                           \\\\\n",
       "\\end{tabular}\n"
      ],
      "text/markdown": [
       "\n",
       "| HAN_ID | Patent_number | Clean_name | Person_ctry_code | Application_Date | Country | Title | Applicants | Inventors | Agriculture | ... | Telecommunications | Transportation | Field_Applications | Functional_Applications | Techniques | Applicant_Type | APPLICANT_MATCH_NAME | Applicant_Key_Word | Multiple_Applicants | GPT_Scope |\n",
       "|---|---|---|---|---|---|---|---|---|---|---|---|---|---|---|---|---|---|---|---|---|\n",
       "| 2850861                                                                                                                                                                                                 | EP0012777                                                                                                                                                                                               | SYSTRAN INSTITUT GES FUR FORSCHUNG & ENTWICKLUNG MASCHINELLER SPRACHUBERSETZUNGSSYSTEME MBH                                                                                                             | GERMANY                                                                                                                                                                                                 | 1978-12-30                                                                                                                                                                                              | EP                                                                                                                                                                                                      | Method using a programmed digital computer system for translation between natural languages.                                                                                                            | SYSTRAN INST                                                                                                                                                                                            | TOMA PETER DR                                                                                                                                                                                           | 0                                                                                                                                                                                                       | ...                                                                                                                                                                                                     | 0                                                                                                                                                                                                       | 1                                                                                                                                                                                                       | 1                                                                                                                                                                                                       | 1                                                                                                                                                                                                       | 1                                                                                                                                                                                                       | Enterprise                                                                                                                                                                                              | SYSTRAN INSTITUT GES FUR FORSCHUNG & ENTWICKLUNG MASCHINELLER SPRACHUBERSETZUNGSSYSTEME                                                                                                                 | SYSTRAN                                                                                                                                                                                                 | FALSE                                                                                                                                                                                                   | Applied_AI                                                                                                                                                                                              |\n",
       "| 1318206                                                                                                                                                                                                 | EP0039393                                                                                                                                                                                               | IBM CORP                                                                                                                                                                                                | UNITED STATES                                                                                                                                                                                           | 1981-03-06                                                                                                                                                                                              | EP                                                                                                                                                                                                      | TEXT RECORDER WITH AUTOMATIC WORD ENDING AND METHOD OF OPERATING THE SAME                                                                                                                               | INTERNATIONAL BUSINESS MACHINES CORPORATION                                                                                                                                                             | HANFT, ROY FRANCIS; PECHANEK, GERALD GEORGE                                                                                                                                                             | 0                                                                                                                                                                                                       | ...                                                                                                                                                                                                     | 0                                                                                                                                                                                                       | 0                                                                                                                                                                                                       | 1                                                                                                                                                                                                       | 1                                                                                                                                                                                                       | 1                                                                                                                                                                                                       | Enterprise                                                                                                                                                                                              | IBM                                                                                                                                                                                                     | IBM                                                                                                                                                                                                     | FALSE                                                                                                                                                                                                   | Applied_AI                                                                                                                                                                                              |\n",
       "| 2931262                                                                                                                                                                                                 | EP0059929                                                                                                                                                                                               | STEULER INDUSTRIEWERKE GMBH                                                                                                                                                                             | GERMANY                                                                                                                                                                                                 | 1982-03-03                                                                                                                                                                                              | EP                                                                                                                                                                                                      | A METHOD FOR PRODUCING LINING PANELS WHICH CAN BE REMOVABLY ATTACHED TO A SURFACE                                                                                                                       | STEULER- INDUSTRIEWERKE GMBH                                                                                                                                                                            | ROHRINGER, ERNST                                                                                                                                                                                        | 0                                                                                                                                                                                                       | ...                                                                                                                                                                                                     | 0                                                                                                                                                                                                       | 0                                                                                                                                                                                                       | 1                                                                                                                                                                                                       | 0                                                                                                                                                                                                       | 0                                                                                                                                                                                                       | Enterprise                                                                                                                                                                                              | STEULER INDUSTRIEWERKE                                                                                                                                                                                  | STEULER                                                                                                                                                                                                 | FALSE                                                                                                                                                                                                   | Applied_AI                                                                                                                                                                                              |\n",
       "|  698993                                                                                                                                                                                                 | EP0060671                                                                                                                                                                                               | UBE IND LTD                                                                                                                                                                                             | JAPAN                                                                                                                                                                                                   | 1982-03-09                                                                                                                                                                                              | EP                                                                                                                                                                                                      | PROCESS FOR CONTINUOUSLY PRODUCING A POLYMERIC LAMINATE TAPE HAVING A PLURALITY OF METAL WIRES EMBEDDED THEREWITHIN                                                                                     | UBE INDUSTRIES, LTD.                                                                                                                                                                                    | HAYASHI, MASUMI C/O UBE INDUSTRIES LTD.; OGAWA, KAZUO C/O UBE INDUSTRIES LTD.; KIMURA, KATSUMI C/O UBE INDUSTRIES LTD.; ISHII, HIROSHI C/O UBE INDUSTRIES LTD.; BANDAI, SATOSHI C/O UBE INDUSTRIES LTD. | 0                                                                                                                                                                                                       | ...                                                                                                                                                                                                     | 0                                                                                                                                                                                                       | 0                                                                                                                                                                                                       | 1                                                                                                                                                                                                       | 0                                                                                                                                                                                                       | 0                                                                                                                                                                                                       | Enterprise                                                                                                                                                                                              | UBE IND                                                                                                                                                                                                 | UBE                                                                                                                                                                                                     | FALSE                                                                                                                                                                                                   | Applied_AI                                                                                                                                                                                              |\n",
       "|  558027                                                                                                                                                                                                 | EP0091317                                                                                                                                                                                               | CO LTD TOSHIBA                                                                                                                                                                                          | JAPAN                                                                                                                                                                                                   | 1983-04-06                                                                                                                                                                                              | EP                                                                                                                                                                                                      | SYNTAX ANALYZING METHOD AND APPARATUS                                                                                                                                                                   | TOKYO SHIBAURA DENKI KABUSHIKI KAISHA                                                                                                                                                                   | AMANO, SHIN-YA; HIRAKAWA, HIDEKI                                                                                                                                                                        | 0                                                                                                                                                                                                       | ...                                                                                                                                                                                                     | 0                                                                                                                                                                                                       | 0                                                                                                                                                                                                       | 1                                                                                                                                                                                                       | 1                                                                                                                                                                                                       | 0                                                                                                                                                                                                       | Enterprise                                                                                                                                                                                              | TOSHIBA                                                                                                                                                                                                 | TOSHIBA                                                                                                                                                                                                 | FALSE                                                                                                                                                                                                   | Applied_AI                                                                                                                                                                                              |\n",
       "|  422610                                                                                                                                                                                                 | EP0096712                                                                                                                                                                                               | NCR CORP                                                                                                                                                                                                | UNITED STATES                                                                                                                                                                                           | 1982-12-07                                                                                                                                                                                              | EP                                                                                                                                                                                                      | A SYSTEM AND METHOD FOR RECOGNIZING SPEECH                                                                                                                                                              | NCR CORPORATION                                                                                                                                                                                         | AVERY, JAMES MARTIN; HOYER, ELMER AUGUST                                                                                                                                                                | 0                                                                                                                                                                                                       | ...                                                                                                                                                                                                     | 0                                                                                                                                                                                                       | 0                                                                                                                                                                                                       | 1                                                                                                                                                                                                       | 1                                                                                                                                                                                                       | 1                                                                                                                                                                                                       | Enterprise                                                                                                                                                                                              | NCR                                                                                                                                                                                                     | NCR                                                                                                                                                                                                     | FALSE                                                                                                                                                                                                   | Applied_AI                                                                                                                                                                                              |\n",
       "\n"
      ],
      "text/plain": [
       "  HAN_ID  Patent_number\n",
       "1 2850861 EP0012777    \n",
       "2 1318206 EP0039393    \n",
       "3 2931262 EP0059929    \n",
       "4  698993 EP0060671    \n",
       "5  558027 EP0091317    \n",
       "6  422610 EP0096712    \n",
       "  Clean_name                                                                                 \n",
       "1 SYSTRAN INSTITUT GES FUR FORSCHUNG & ENTWICKLUNG MASCHINELLER SPRACHUBERSETZUNGSSYSTEME MBH\n",
       "2 IBM CORP                                                                                   \n",
       "3 STEULER INDUSTRIEWERKE GMBH                                                                \n",
       "4 UBE IND LTD                                                                                \n",
       "5 CO LTD TOSHIBA                                                                             \n",
       "6 NCR CORP                                                                                   \n",
       "  Person_ctry_code Application_Date Country\n",
       "1 GERMANY          1978-12-30       EP     \n",
       "2 UNITED STATES    1981-03-06       EP     \n",
       "3 GERMANY          1982-03-03       EP     \n",
       "4 JAPAN            1982-03-09       EP     \n",
       "5 JAPAN            1983-04-06       EP     \n",
       "6 UNITED STATES    1982-12-07       EP     \n",
       "  Title                                                                                                              \n",
       "1 Method using a programmed digital computer system for translation between natural languages.                       \n",
       "2 TEXT RECORDER WITH AUTOMATIC WORD ENDING AND METHOD OF OPERATING THE SAME                                          \n",
       "3 A METHOD FOR PRODUCING LINING PANELS WHICH CAN BE REMOVABLY ATTACHED TO A SURFACE                                  \n",
       "4 PROCESS FOR CONTINUOUSLY PRODUCING A POLYMERIC LAMINATE TAPE HAVING A PLURALITY OF METAL WIRES EMBEDDED THEREWITHIN\n",
       "5 SYNTAX ANALYZING METHOD AND APPARATUS                                                                              \n",
       "6 A SYSTEM AND METHOD FOR RECOGNIZING SPEECH                                                                         \n",
       "  Applicants                                 \n",
       "1 SYSTRAN INST                               \n",
       "2 INTERNATIONAL BUSINESS MACHINES CORPORATION\n",
       "3 STEULER- INDUSTRIEWERKE GMBH               \n",
       "4 UBE INDUSTRIES, LTD.                       \n",
       "5 TOKYO SHIBAURA DENKI KABUSHIKI KAISHA      \n",
       "6 NCR CORPORATION                            \n",
       "  Inventors                                                                                                                                                                                              \n",
       "1 TOMA PETER DR                                                                                                                                                                                          \n",
       "2 HANFT, ROY FRANCIS; PECHANEK, GERALD GEORGE                                                                                                                                                            \n",
       "3 ROHRINGER, ERNST                                                                                                                                                                                       \n",
       "4 HAYASHI, MASUMI C/O UBE INDUSTRIES LTD.; OGAWA, KAZUO C/O UBE INDUSTRIES LTD.; KIMURA, KATSUMI C/O UBE INDUSTRIES LTD.; ISHII, HIROSHI C/O UBE INDUSTRIES LTD.; BANDAI, SATOSHI C/O UBE INDUSTRIES LTD.\n",
       "5 AMANO, SHIN-YA; HIRAKAWA, HIDEKI                                                                                                                                                                       \n",
       "6 AVERY, JAMES MARTIN; HOYER, ELMER AUGUST                                                                                                                                                               \n",
       "  Agriculture ... Telecommunications Transportation Field_Applications\n",
       "1 0           ... 0                  1              1                 \n",
       "2 0           ... 0                  0              1                 \n",
       "3 0           ... 0                  0              1                 \n",
       "4 0           ... 0                  0              1                 \n",
       "5 0           ... 0                  0              1                 \n",
       "6 0           ... 0                  0              1                 \n",
       "  Functional_Applications Techniques Applicant_Type\n",
       "1 1                       1          Enterprise    \n",
       "2 1                       1          Enterprise    \n",
       "3 0                       0          Enterprise    \n",
       "4 0                       0          Enterprise    \n",
       "5 1                       0          Enterprise    \n",
       "6 1                       1          Enterprise    \n",
       "  APPLICANT_MATCH_NAME                                                                   \n",
       "1 SYSTRAN INSTITUT GES FUR FORSCHUNG & ENTWICKLUNG MASCHINELLER SPRACHUBERSETZUNGSSYSTEME\n",
       "2 IBM                                                                                    \n",
       "3 STEULER INDUSTRIEWERKE                                                                 \n",
       "4 UBE IND                                                                                \n",
       "5 TOSHIBA                                                                                \n",
       "6 NCR                                                                                    \n",
       "  Applicant_Key_Word Multiple_Applicants GPT_Scope \n",
       "1 SYSTRAN            FALSE               Applied_AI\n",
       "2 IBM                FALSE               Applied_AI\n",
       "3 STEULER            FALSE               Applied_AI\n",
       "4 UBE                FALSE               Applied_AI\n",
       "5 TOSHIBA            FALSE               Applied_AI\n",
       "6 NCR                FALSE               Applied_AI"
      ]
     },
     "metadata": {},
     "output_type": "display_data"
    }
   ],
   "source": [
    "head(Patent_HAN)"
   ]
  },
  {
   "cell_type": "markdown",
   "metadata": {},
   "source": [
    "# Output"
   ]
  },
  {
   "cell_type": "code",
   "execution_count": 54,
   "metadata": {},
   "outputs": [],
   "source": [
    "fwrite(Patent_HAN, file=\"F:/Thesis/Working_Data/Final\\\\Patent_Dataset.csv\", col.names = TRUE)"
   ]
  }
 ],
 "metadata": {
  "kernelspec": {
   "display_name": "R",
   "language": "R",
   "name": "ir"
  },
  "language_info": {
   "codemirror_mode": "r",
   "file_extension": ".r",
   "mimetype": "text/x-r-source",
   "name": "R",
   "pygments_lexer": "r",
   "version": "3.6.1"
  }
 },
 "nbformat": 4,
 "nbformat_minor": 2
}
