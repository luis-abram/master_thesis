{
 "cells": [
  {
   "cell_type": "markdown",
   "metadata": {},
   "source": [
    "Library and Directory Setup"
   ]
  },
  {
   "cell_type": "code",
   "execution_count": 1,
   "metadata": {
    "collapsed": true
   },
   "outputs": [
    {
     "name": "stderr",
     "output_type": "stream",
     "text": [
      "Warning message:\n",
      "\"package 'data.table' was built under R version 3.6.3\"Warning message:\n",
      "\"package 'dplyr' was built under R version 3.6.3\"\n",
      "Attaching package: 'dplyr'\n",
      "\n",
      "The following objects are masked from 'package:data.table':\n",
      "\n",
      "    between, first, last\n",
      "\n",
      "The following objects are masked from 'package:stats':\n",
      "\n",
      "    filter, lag\n",
      "\n",
      "The following objects are masked from 'package:base':\n",
      "\n",
      "    intersect, setdiff, setequal, union\n",
      "\n",
      "Warning message:\n",
      "\"package 'readr' was built under R version 3.6.3\"Warning message:\n",
      "\"package 'purrr' was built under R version 3.6.3\"\n",
      "Attaching package: 'purrr'\n",
      "\n",
      "The following object is masked from 'package:data.table':\n",
      "\n",
      "    transpose\n",
      "\n",
      "Warning message:\n",
      "\"package 'tidyr' was built under R version 3.6.3\"Warning message:\n",
      "\"package 'lubridate' was built under R version 3.6.3\"\n",
      "Attaching package: 'lubridate'\n",
      "\n",
      "The following objects are masked from 'package:data.table':\n",
      "\n",
      "    hour, isoweek, mday, minute, month, quarter, second, wday, week,\n",
      "    yday, year\n",
      "\n",
      "The following object is masked from 'package:base':\n",
      "\n",
      "    date\n",
      "\n",
      "Warning message:\n",
      "\"package 'tidyverse' was built under R version 3.6.3\""
     ]
    },
    {
     "ename": "ERROR",
     "evalue": "Error: package or namespace load failed for 'tidyverse' in loadNamespace(j <- i[[1L]], c(lib.loc, .libPaths()), versionCheck = vI[[j]]):\n there is no package called 'nlme'\n",
     "output_type": "error",
     "traceback": [
      "Error: package or namespace load failed for 'tidyverse' in loadNamespace(j <- i[[1L]], c(lib.loc, .libPaths()), versionCheck = vI[[j]]):\n there is no package called 'nlme'\nTraceback:\n",
      "1. library(tidyverse)",
      "2. tryCatch({\n .     attr(package, \"LibPath\") <- which.lib.loc\n .     ns <- loadNamespace(package, lib.loc)\n .     env <- attachNamespace(ns, pos = pos, deps, exclude, include.only)\n . }, error = function(e) {\n .     P <- if (!is.null(cc <- conditionCall(e))) \n .         paste(\" in\", deparse(cc)[1L])\n .     else \"\"\n .     msg <- gettextf(\"package or namespace load failed for %s%s:\\n %s\", \n .         sQuote(package), P, conditionMessage(e))\n .     if (logical.return) \n .         message(paste(\"Error:\", msg), domain = NA)\n .     else stop(msg, call. = FALSE, domain = NA)\n . })",
      "3. tryCatchList(expr, classes, parentenv, handlers)",
      "4. tryCatchOne(expr, names, parentenv, handlers[[1L]])",
      "5. value[[3L]](cond)",
      "6. stop(msg, call. = FALSE, domain = NA)"
     ]
    }
   ],
   "source": [
    "library(data.table)\n",
    "library(dplyr)\n",
    "library(readr)\n",
    "library(purrr)\n",
    "library(tidyr)\n",
    "library(lubridate)\n",
    "library(tidyverse)\n",
    "library(stringr)\n",
    "library(rio)"
   ]
  },
  {
   "cell_type": "code",
   "execution_count": 2,
   "metadata": {},
   "outputs": [
    {
     "data": {
      "text/html": [
       "'F:/Thesis/Source_Data/People_Data_Lab'"
      ],
      "text/latex": [
       "'F:/Thesis/Source\\_Data/People\\_Data\\_Lab'"
      ],
      "text/markdown": [
       "'F:/Thesis/Source_Data/People_Data_Lab'"
      ],
      "text/plain": [
       "[1] \"F:/Thesis/Source_Data/People_Data_Lab\""
      ]
     },
     "metadata": {},
     "output_type": "display_data"
    }
   ],
   "source": [
    "setwd(\"F:/Thesis/Source_Data/People_Data_Lab\")\n",
    "getwd()"
   ]
  },
  {
   "cell_type": "markdown",
   "metadata": {},
   "source": [
    "# 1) Input"
   ]
  },
  {
   "cell_type": "markdown",
   "metadata": {},
   "source": [
    "Due to the sizez of the Free Company dataset, only the relevant columns are imported from original file"
   ]
  },
  {
   "cell_type": "code",
   "execution_count": 3,
   "metadata": {},
   "outputs": [
    {
     "data": {
      "text/html": [
       "<ol class=list-inline>\n",
       "\t<li>7173426</li>\n",
       "\t<li>6</li>\n",
       "</ol>\n"
      ],
      "text/latex": [
       "\\begin{enumerate*}\n",
       "\\item 7173426\n",
       "\\item 6\n",
       "\\end{enumerate*}\n"
      ],
      "text/markdown": [
       "1. 7173426\n",
       "2. 6\n",
       "\n",
       "\n"
      ],
      "text/plain": [
       "[1] 7173426       6"
      ]
     },
     "metadata": {},
     "output_type": "display_data"
    }
   ],
   "source": [
    "PDL_Raw <- fread(\"F:/Thesis/Source_Data/People_Data_Lab/companies_sorted\\\\companies_sorted.csv\", \n",
    "                 stringsAsFactors = FALSE,\n",
    "                 header = TRUE,\n",
    "                 na.strings = \"\",\n",
    "                 select = c(\"V1\", \"name\", \"year founded\", \"industry\", \"size range\", \"country\"),\n",
    "                 encoding = \"UTF-8\")\n",
    "\n",
    "#Overview Statistics\n",
    "dim(PDL_Raw)\n",
    "n_rows0 <- nrow(PDL_Raw)"
   ]
  },
  {
   "cell_type": "markdown",
   "metadata": {},
   "source": [
    "# 2) Data Preparation"
   ]
  },
  {
   "cell_type": "code",
   "execution_count": 4,
   "metadata": {},
   "outputs": [
    {
     "data": {
      "text/html": [
       "<table>\n",
       "<thead><tr><th scope=col>V1</th><th scope=col>name</th><th scope=col>year founded</th><th scope=col>industry</th><th scope=col>size range</th><th scope=col>country</th></tr></thead>\n",
       "<tbody>\n",
       "\t<tr><td>5872184                            </td><td>ibm                                </td><td>1911                               </td><td>information technology and services</td><td>10001+                             </td><td>united states                      </td></tr>\n",
       "\t<tr><td>4425416                            </td><td>tata consultancy services          </td><td>1968                               </td><td>information technology and services</td><td>10001+                             </td><td>india                              </td></tr>\n",
       "\t<tr><td>  21074                            </td><td>accenture                          </td><td>1989                               </td><td>information technology and services</td><td>10001+                             </td><td>ireland                            </td></tr>\n",
       "\t<tr><td>2309813                            </td><td>us army                            </td><td>1800                               </td><td>military                           </td><td>10001+                             </td><td>united states                      </td></tr>\n",
       "\t<tr><td>1558607                            </td><td>ey                                 </td><td>1989                               </td><td>accounting                         </td><td>10001+                             </td><td>united kingdom                     </td></tr>\n",
       "</tbody>\n",
       "</table>\n"
      ],
      "text/latex": [
       "\\begin{tabular}{r|llllll}\n",
       " V1 & name & year founded & industry & size range & country\\\\\n",
       "\\hline\n",
       "\t 5872184                             & ibm                                 & 1911                                & information technology and services & 10001+                              & united states                      \\\\\n",
       "\t 4425416                             & tata consultancy services           & 1968                                & information technology and services & 10001+                              & india                              \\\\\n",
       "\t   21074                             & accenture                           & 1989                                & information technology and services & 10001+                              & ireland                            \\\\\n",
       "\t 2309813                             & us army                             & 1800                                & military                            & 10001+                              & united states                      \\\\\n",
       "\t 1558607                             & ey                                  & 1989                                & accounting                          & 10001+                              & united kingdom                     \\\\\n",
       "\\end{tabular}\n"
      ],
      "text/markdown": [
       "\n",
       "| V1 | name | year founded | industry | size range | country |\n",
       "|---|---|---|---|---|---|\n",
       "| 5872184                             | ibm                                 | 1911                                | information technology and services | 10001+                              | united states                       |\n",
       "| 4425416                             | tata consultancy services           | 1968                                | information technology and services | 10001+                              | india                               |\n",
       "|   21074                             | accenture                           | 1989                                | information technology and services | 10001+                              | ireland                             |\n",
       "| 2309813                             | us army                             | 1800                                | military                            | 10001+                              | united states                       |\n",
       "| 1558607                             | ey                                  | 1989                                | accounting                          | 10001+                              | united kingdom                      |\n",
       "\n"
      ],
      "text/plain": [
       "  V1      name                      year founded\n",
       "1 5872184 ibm                       1911        \n",
       "2 4425416 tata consultancy services 1968        \n",
       "3   21074 accenture                 1989        \n",
       "4 2309813 us army                   1800        \n",
       "5 1558607 ey                        1989        \n",
       "  industry                            size range country       \n",
       "1 information technology and services 10001+     united states \n",
       "2 information technology and services 10001+     india         \n",
       "3 information technology and services 10001+     ireland       \n",
       "4 military                            10001+     united states \n",
       "5 accounting                          10001+     united kingdom"
      ]
     },
     "metadata": {},
     "output_type": "display_data"
    }
   ],
   "source": [
    "head(PDL_Raw,5)"
   ]
  },
  {
   "cell_type": "markdown",
   "metadata": {},
   "source": [
    "## 2.1) Edit Column Headers"
   ]
  },
  {
   "cell_type": "code",
   "execution_count": 5,
   "metadata": {},
   "outputs": [
    {
     "data": {
      "text/html": [
       "<ol class=list-inline>\n",
       "\t<li>'PDL_ID'</li>\n",
       "\t<li>'PDL_ORIGINAL_NAME'</li>\n",
       "\t<li>'YEAR_FOUNDED'</li>\n",
       "\t<li>'INDUSTRY'</li>\n",
       "\t<li>'SIZE_RANGE'</li>\n",
       "\t<li>'COUNTRY'</li>\n",
       "</ol>\n"
      ],
      "text/latex": [
       "\\begin{enumerate*}\n",
       "\\item 'PDL\\_ID'\n",
       "\\item 'PDL\\_ORIGINAL\\_NAME'\n",
       "\\item 'YEAR\\_FOUNDED'\n",
       "\\item 'INDUSTRY'\n",
       "\\item 'SIZE\\_RANGE'\n",
       "\\item 'COUNTRY'\n",
       "\\end{enumerate*}\n"
      ],
      "text/markdown": [
       "1. 'PDL_ID'\n",
       "2. 'PDL_ORIGINAL_NAME'\n",
       "3. 'YEAR_FOUNDED'\n",
       "4. 'INDUSTRY'\n",
       "5. 'SIZE_RANGE'\n",
       "6. 'COUNTRY'\n",
       "\n",
       "\n"
      ],
      "text/plain": [
       "[1] \"PDL_ID\"            \"PDL_ORIGINAL_NAME\" \"YEAR_FOUNDED\"     \n",
       "[4] \"INDUSTRY\"          \"SIZE_RANGE\"        \"COUNTRY\"          "
      ]
     },
     "metadata": {},
     "output_type": "display_data"
    }
   ],
   "source": [
    "colnames(PDL_Raw) <- toupper(colnames(PDL_Raw))\n",
    "colnames(PDL_Raw)[1] <- \"PDL_ID\"\n",
    "colnames(PDL_Raw)[2] <- \"PDL_ORIGINAL_NAME\"\n",
    "colnames(PDL_Raw) <- gsub(\" \",\"_\",colnames(PDL_Raw))\n",
    "colnames(PDL_Raw)"
   ]
  },
  {
   "cell_type": "markdown",
   "metadata": {},
   "source": [
    "## 2.2) Capital Letters"
   ]
  },
  {
   "cell_type": "markdown",
   "metadata": {},
   "source": [
    "Change from small to capital letters columns"
   ]
  },
  {
   "cell_type": "code",
   "execution_count": 6,
   "metadata": {},
   "outputs": [
    {
     "data": {
      "text/html": [
       "<table>\n",
       "<thead><tr><th scope=col>PDL_ID</th><th scope=col>PDL_ORIGINAL_NAME</th><th scope=col>YEAR_FOUNDED</th><th scope=col>INDUSTRY</th><th scope=col>SIZE_RANGE</th><th scope=col>COUNTRY</th></tr></thead>\n",
       "<tbody>\n",
       "\t<tr><td>5872184                            </td><td>IBM                                </td><td>1911                               </td><td>INFORMATION TECHNOLOGY AND SERVICES</td><td>10001+                             </td><td>UNITED STATES                      </td></tr>\n",
       "\t<tr><td>4425416                            </td><td>TATA CONSULTANCY SERVICES          </td><td>1968                               </td><td>INFORMATION TECHNOLOGY AND SERVICES</td><td>10001+                             </td><td>INDIA                              </td></tr>\n",
       "\t<tr><td>  21074                            </td><td>ACCENTURE                          </td><td>1989                               </td><td>INFORMATION TECHNOLOGY AND SERVICES</td><td>10001+                             </td><td>IRELAND                            </td></tr>\n",
       "\t<tr><td>2309813                            </td><td>US ARMY                            </td><td>1800                               </td><td>MILITARY                           </td><td>10001+                             </td><td>UNITED STATES                      </td></tr>\n",
       "\t<tr><td>1558607                            </td><td>EY                                 </td><td>1989                               </td><td>ACCOUNTING                         </td><td>10001+                             </td><td>UNITED KINGDOM                     </td></tr>\n",
       "</tbody>\n",
       "</table>\n"
      ],
      "text/latex": [
       "\\begin{tabular}{r|llllll}\n",
       " PDL\\_ID & PDL\\_ORIGINAL\\_NAME & YEAR\\_FOUNDED & INDUSTRY & SIZE\\_RANGE & COUNTRY\\\\\n",
       "\\hline\n",
       "\t 5872184                             & IBM                                 & 1911                                & INFORMATION TECHNOLOGY AND SERVICES & 10001+                              & UNITED STATES                      \\\\\n",
       "\t 4425416                             & TATA CONSULTANCY SERVICES           & 1968                                & INFORMATION TECHNOLOGY AND SERVICES & 10001+                              & INDIA                              \\\\\n",
       "\t   21074                             & ACCENTURE                           & 1989                                & INFORMATION TECHNOLOGY AND SERVICES & 10001+                              & IRELAND                            \\\\\n",
       "\t 2309813                             & US ARMY                             & 1800                                & MILITARY                            & 10001+                              & UNITED STATES                      \\\\\n",
       "\t 1558607                             & EY                                  & 1989                                & ACCOUNTING                          & 10001+                              & UNITED KINGDOM                     \\\\\n",
       "\\end{tabular}\n"
      ],
      "text/markdown": [
       "\n",
       "| PDL_ID | PDL_ORIGINAL_NAME | YEAR_FOUNDED | INDUSTRY | SIZE_RANGE | COUNTRY |\n",
       "|---|---|---|---|---|---|\n",
       "| 5872184                             | IBM                                 | 1911                                | INFORMATION TECHNOLOGY AND SERVICES | 10001+                              | UNITED STATES                       |\n",
       "| 4425416                             | TATA CONSULTANCY SERVICES           | 1968                                | INFORMATION TECHNOLOGY AND SERVICES | 10001+                              | INDIA                               |\n",
       "|   21074                             | ACCENTURE                           | 1989                                | INFORMATION TECHNOLOGY AND SERVICES | 10001+                              | IRELAND                             |\n",
       "| 2309813                             | US ARMY                             | 1800                                | MILITARY                            | 10001+                              | UNITED STATES                       |\n",
       "| 1558607                             | EY                                  | 1989                                | ACCOUNTING                          | 10001+                              | UNITED KINGDOM                      |\n",
       "\n"
      ],
      "text/plain": [
       "  PDL_ID  PDL_ORIGINAL_NAME         YEAR_FOUNDED\n",
       "1 5872184 IBM                       1911        \n",
       "2 4425416 TATA CONSULTANCY SERVICES 1968        \n",
       "3   21074 ACCENTURE                 1989        \n",
       "4 2309813 US ARMY                   1800        \n",
       "5 1558607 EY                        1989        \n",
       "  INDUSTRY                            SIZE_RANGE COUNTRY       \n",
       "1 INFORMATION TECHNOLOGY AND SERVICES 10001+     UNITED STATES \n",
       "2 INFORMATION TECHNOLOGY AND SERVICES 10001+     INDIA         \n",
       "3 INFORMATION TECHNOLOGY AND SERVICES 10001+     IRELAND       \n",
       "4 MILITARY                            10001+     UNITED STATES \n",
       "5 ACCOUNTING                          10001+     UNITED KINGDOM"
      ]
     },
     "metadata": {},
     "output_type": "display_data"
    }
   ],
   "source": [
    "PDL_Raw <- PDL_Raw[, c(\"PDL_ORIGINAL_NAME\", \"INDUSTRY\", \"COUNTRY\") := lapply(.SD, toupper),\n",
    "                   .SDcols= c(\"PDL_ORIGINAL_NAME\", \"INDUSTRY\", \"COUNTRY\")]\n",
    "head(PDL_Raw,5)"
   ]
  },
  {
   "cell_type": "markdown",
   "metadata": {},
   "source": [
    "## 2.3) Size Clusters"
   ]
  },
  {
   "cell_type": "code",
   "execution_count": 7,
   "metadata": {},
   "outputs": [
    {
     "data": {
      "text/html": [
       "<ol class=list-inline>\n",
       "\t<li>'10001+'</li>\n",
       "\t<li>'5001 - 10000'</li>\n",
       "\t<li>'1001 - 5000'</li>\n",
       "\t<li>'501 - 1000'</li>\n",
       "\t<li>'201 - 500'</li>\n",
       "\t<li>'51 - 200'</li>\n",
       "\t<li>'11 - 50'</li>\n",
       "\t<li>'1 - 10'</li>\n",
       "</ol>\n"
      ],
      "text/latex": [
       "\\begin{enumerate*}\n",
       "\\item '10001+'\n",
       "\\item '5001 - 10000'\n",
       "\\item '1001 - 5000'\n",
       "\\item '501 - 1000'\n",
       "\\item '201 - 500'\n",
       "\\item '51 - 200'\n",
       "\\item '11 - 50'\n",
       "\\item '1 - 10'\n",
       "\\end{enumerate*}\n"
      ],
      "text/markdown": [
       "1. '10001+'\n",
       "2. '5001 - 10000'\n",
       "3. '1001 - 5000'\n",
       "4. '501 - 1000'\n",
       "5. '201 - 500'\n",
       "6. '51 - 200'\n",
       "7. '11 - 50'\n",
       "8. '1 - 10'\n",
       "\n",
       "\n"
      ],
      "text/plain": [
       "[1] \"10001+\"       \"5001 - 10000\" \"1001 - 5000\"  \"501 - 1000\"   \"201 - 500\"   \n",
       "[6] \"51 - 200\"     \"11 - 50\"      \"1 - 10\"      "
      ]
     },
     "metadata": {},
     "output_type": "display_data"
    }
   ],
   "source": [
    "#Identify original size ranges\n",
    "unique(PDL_Raw$SIZE_RANGE)"
   ]
  },
  {
   "cell_type": "code",
   "execution_count": 8,
   "metadata": {
    "scrolled": true
   },
   "outputs": [
    {
     "data": {
      "text/plain": [
       "\n",
       "    >10000       1-10  1001-5000      11-50    201-500 5001-10000  501-1,000 \n",
       "      2095    5585399      24537    1126610      78494       3044      28394 \n",
       "    51-200 \n",
       "    324853 "
      ]
     },
     "metadata": {},
     "output_type": "display_data"
    }
   ],
   "source": [
    "#Clean classification\n",
    "PDL_Raw <- PDL_Raw[,SIZE_RANGE := SIZE_RANGE %>% \n",
    "                         gsub(\"10001\\\\+\",\">10000\",.) %>%\n",
    "                         gsub(\"5001 - 10000\",\"5001-10000\",.) %>%\n",
    "                         gsub(\"1001 - 5000\",\"1001-5000\",.) %>%\n",
    "                         gsub(\"501 - 1000\",\"501-1,000\",.) %>%\n",
    "                         gsub(\"201 - 500\",\"201-500\",.) %>%\n",
    "                         gsub(\"51 - 200\",\"51-200\",.) %>%\n",
    "                         gsub(\"11 - 50\",\"11-50\",.) %>%\n",
    "                         gsub(\"1 - 10\",\"1-10\",.) %>%\n",
    "                         trimws()]\n",
    "#Overview\n",
    "table(PDL_Raw[,SIZE_RANGE])"
   ]
  },
  {
   "cell_type": "markdown",
   "metadata": {},
   "source": [
    "## 2.4) Remove Organisations for which Name, Year of Foundation or Industry are blank"
   ]
  },
  {
   "cell_type": "code",
   "execution_count": 9,
   "metadata": {},
   "outputs": [
    {
     "data": {
      "text/html": [
       "3565475"
      ],
      "text/latex": [
       "3565475"
      ],
      "text/markdown": [
       "3565475"
      ],
      "text/plain": [
       "[1] 3565475"
      ]
     },
     "metadata": {},
     "output_type": "display_data"
    },
    {
     "data": {
      "text/html": [
       "3607951"
      ],
      "text/latex": [
       "3607951"
      ],
      "text/markdown": [
       "3607951"
      ],
      "text/plain": [
       "[1] 3607951"
      ]
     },
     "metadata": {},
     "output_type": "display_data"
    }
   ],
   "source": [
    "PDL_Raw <- na.omit(PDL_Raw, cols = c(2,3,4))\n",
    "\n",
    "#Number remaining Organizations\n",
    "n_rows1 <- nrow(PDL_Raw)\n",
    "n_rows1\n",
    "\n",
    "#Deleted entries\n",
    "n_rows0-n_rows1"
   ]
  },
  {
   "cell_type": "markdown",
   "metadata": {},
   "source": [
    "# 3) Data Filtering"
   ]
  },
  {
   "cell_type": "markdown",
   "metadata": {},
   "source": [
    "## 3.1) Include only Organization from Selected Countries"
   ]
  },
  {
   "cell_type": "code",
   "execution_count": 10,
   "metadata": {},
   "outputs": [
    {
     "data": {
      "text/html": [
       "2207480"
      ],
      "text/latex": [
       "2207480"
      ],
      "text/markdown": [
       "2207480"
      ],
      "text/plain": [
       "[1] 2207480"
      ]
     },
     "metadata": {},
     "output_type": "display_data"
    },
    {
     "data": {
      "text/html": [
       "1357995"
      ],
      "text/latex": [
       "1357995"
      ],
      "text/markdown": [
       "1357995"
      ],
      "text/plain": [
       "[1] 1357995"
      ]
     },
     "metadata": {},
     "output_type": "display_data"
    }
   ],
   "source": [
    "Top_Countries <- c(\"UNITED STATES\", \"JAPAN\",\"UNITED KINGDOM\", \"GERMANY\", \"CHINA\", \"CANADA\", \"NETHERLANDS\",\n",
    "                   \"ISRAEL\", \"SOUTH KOREA\", \"FRANCE\", \"SWITZERLAND\", \"AUSTRALIA\", \"FINLAND\", \"ITALY\",\n",
    "                   \"SWEDEN\", \"INDIA\", \"BELGIUM\", \"SINGAPORE\", \"SPAIN\", \"DENMARK\")\n",
    "\n",
    "PDL_Raw <- PDL_Raw[COUNTRY %in% Top_Countries,]\n",
    "\n",
    "#Number remaining Organizations\n",
    "n_rows2 <- nrow(PDL_Raw)\n",
    "n_rows2\n",
    "\n",
    "#Deleted entries\n",
    "n_rows1-n_rows2"
   ]
  },
  {
   "cell_type": "markdown",
   "metadata": {},
   "source": [
    "## 3.2) Elimination Duplicates"
   ]
  },
  {
   "cell_type": "markdown",
   "metadata": {},
   "source": [
    "There are duplicate entries in the dataset. Example od well known companies: \"IBM\", \"APPLE\". Uknwon company; \"ELEVATE\""
   ]
  },
  {
   "cell_type": "code",
   "execution_count": 11,
   "metadata": {},
   "outputs": [
    {
     "data": {
      "text/html": [
       "<table>\n",
       "<thead><tr><th scope=col>PDL_ID</th><th scope=col>PDL_ORIGINAL_NAME</th><th scope=col>YEAR_FOUNDED</th><th scope=col>INDUSTRY</th><th scope=col>SIZE_RANGE</th><th scope=col>COUNTRY</th></tr></thead>\n",
       "<tbody>\n",
       "\t<tr><td>5872184                            </td><td>IBM                                </td><td>1911                               </td><td>INFORMATION TECHNOLOGY AND SERVICES</td><td>&gt;10000                          </td><td>UNITED STATES                      </td></tr>\n",
       "\t<tr><td>2567154                            </td><td>IBM                                </td><td>1914                               </td><td>INFORMATION TECHNOLOGY AND SERVICES</td><td>1-10                               </td><td>FRANCE                             </td></tr>\n",
       "\t<tr><td>5479744                            </td><td>IBM                                </td><td>2003                               </td><td>COMPUTER SOFTWARE                  </td><td>1-10                               </td><td>ISRAEL                             </td></tr>\n",
       "</tbody>\n",
       "</table>\n"
      ],
      "text/latex": [
       "\\begin{tabular}{r|llllll}\n",
       " PDL\\_ID & PDL\\_ORIGINAL\\_NAME & YEAR\\_FOUNDED & INDUSTRY & SIZE\\_RANGE & COUNTRY\\\\\n",
       "\\hline\n",
       "\t 5872184                             & IBM                                 & 1911                                & INFORMATION TECHNOLOGY AND SERVICES & >10000                              & UNITED STATES                      \\\\\n",
       "\t 2567154                             & IBM                                 & 1914                                & INFORMATION TECHNOLOGY AND SERVICES & 1-10                                & FRANCE                             \\\\\n",
       "\t 5479744                             & IBM                                 & 2003                                & COMPUTER SOFTWARE                   & 1-10                                & ISRAEL                             \\\\\n",
       "\\end{tabular}\n"
      ],
      "text/markdown": [
       "\n",
       "| PDL_ID | PDL_ORIGINAL_NAME | YEAR_FOUNDED | INDUSTRY | SIZE_RANGE | COUNTRY |\n",
       "|---|---|---|---|---|---|\n",
       "| 5872184                             | IBM                                 | 1911                                | INFORMATION TECHNOLOGY AND SERVICES | >10000                              | UNITED STATES                       |\n",
       "| 2567154                             | IBM                                 | 1914                                | INFORMATION TECHNOLOGY AND SERVICES | 1-10                                | FRANCE                              |\n",
       "| 5479744                             | IBM                                 | 2003                                | COMPUTER SOFTWARE                   | 1-10                                | ISRAEL                              |\n",
       "\n"
      ],
      "text/plain": [
       "  PDL_ID  PDL_ORIGINAL_NAME YEAR_FOUNDED INDUSTRY                           \n",
       "1 5872184 IBM               1911         INFORMATION TECHNOLOGY AND SERVICES\n",
       "2 2567154 IBM               1914         INFORMATION TECHNOLOGY AND SERVICES\n",
       "3 5479744 IBM               2003         COMPUTER SOFTWARE                  \n",
       "  SIZE_RANGE COUNTRY      \n",
       "1 >10000     UNITED STATES\n",
       "2 1-10       FRANCE       \n",
       "3 1-10       ISRAEL       "
      ]
     },
     "metadata": {},
     "output_type": "display_data"
    }
   ],
   "source": [
    "PDL_Raw[PDL_ORIGINAL_NAME==\"IBM\",]"
   ]
  },
  {
   "cell_type": "code",
   "execution_count": 12,
   "metadata": {
    "scrolled": false
   },
   "outputs": [
    {
     "data": {
      "text/html": [
       "<table>\n",
       "<thead><tr><th scope=col>PDL_ID</th><th scope=col>PDL_ORIGINAL_NAME</th><th scope=col>YEAR_FOUNDED</th><th scope=col>INDUSTRY</th><th scope=col>SIZE_RANGE</th><th scope=col>COUNTRY</th></tr></thead>\n",
       "<tbody>\n",
       "\t<tr><td>5735407                                             </td><td>APPLE                                               </td><td>1976                                                </td><td>CONSUMER ELECTRONICS                                </td><td><span style=white-space:pre-wrap>&gt;10000   </span></td><td>UNITED STATES                                       </td></tr>\n",
       "\t<tr><td>2389734             </td><td>APPLE               </td><td>1998                </td><td>COMPUTER SOFTWARE   </td><td>501-1,000           </td><td>UNITED STATES       </td></tr>\n",
       "</tbody>\n",
       "</table>\n"
      ],
      "text/latex": [
       "\\begin{tabular}{r|llllll}\n",
       " PDL\\_ID & PDL\\_ORIGINAL\\_NAME & YEAR\\_FOUNDED & INDUSTRY & SIZE\\_RANGE & COUNTRY\\\\\n",
       "\\hline\n",
       "\t 5735407              & APPLE                & 1976                 & CONSUMER ELECTRONICS & >10000               & UNITED STATES       \\\\\n",
       "\t 2389734              & APPLE                & 1998                 & COMPUTER SOFTWARE    & 501-1,000            & UNITED STATES       \\\\\n",
       "\\end{tabular}\n"
      ],
      "text/markdown": [
       "\n",
       "| PDL_ID | PDL_ORIGINAL_NAME | YEAR_FOUNDED | INDUSTRY | SIZE_RANGE | COUNTRY |\n",
       "|---|---|---|---|---|---|\n",
       "| 5735407              | APPLE                | 1976                 | CONSUMER ELECTRONICS | >10000               | UNITED STATES        |\n",
       "| 2389734              | APPLE                | 1998                 | COMPUTER SOFTWARE    | 501-1,000            | UNITED STATES        |\n",
       "\n"
      ],
      "text/plain": [
       "  PDL_ID  PDL_ORIGINAL_NAME YEAR_FOUNDED INDUSTRY             SIZE_RANGE\n",
       "1 5735407 APPLE             1976         CONSUMER ELECTRONICS >10000    \n",
       "2 2389734 APPLE             1998         COMPUTER SOFTWARE    501-1,000 \n",
       "  COUNTRY      \n",
       "1 UNITED STATES\n",
       "2 UNITED STATES"
      ]
     },
     "metadata": {},
     "output_type": "display_data"
    }
   ],
   "source": [
    "PDL_Raw[PDL_ORIGINAL_NAME==\"APPLE\",]"
   ]
  },
  {
   "cell_type": "code",
   "execution_count": 13,
   "metadata": {},
   "outputs": [
    {
     "data": {
      "text/html": [
       "<table>\n",
       "<thead><tr><th scope=col>PDL_ID</th><th scope=col>PDL_ORIGINAL_NAME</th><th scope=col>YEAR_FOUNDED</th><th scope=col>INDUSTRY</th><th scope=col>SIZE_RANGE</th><th scope=col>COUNTRY</th></tr></thead>\n",
       "<tbody>\n",
       "\t<tr><td>4629811                            </td><td>ELEVATE                            </td><td>2014                               </td><td>FINANCIAL SERVICES                 </td><td>501-1,000                          </td><td>UNITED STATES                      </td></tr>\n",
       "\t<tr><td>3382314                            </td><td>ELEVATE                            </td><td>1995                               </td><td>MARKETING AND ADVERTISING          </td><td>51-200                             </td><td>UNITED KINGDOM                     </td></tr>\n",
       "\t<tr><td>2436542                            </td><td>ELEVATE                            </td><td>2003                               </td><td>MARKETING AND ADVERTISING          </td><td>11-50                              </td><td>UNITED STATES                      </td></tr>\n",
       "\t<tr><td>2308685                            </td><td>ELEVATE                            </td><td>2005                               </td><td>COMPUTER NETWORKING                </td><td>11-50                              </td><td>UNITED STATES                      </td></tr>\n",
       "\t<tr><td>4256243                            </td><td>ELEVATE                            </td><td>2010                               </td><td>MANAGEMENT CONSULTING              </td><td>11-50                              </td><td>SWEDEN                             </td></tr>\n",
       "\t<tr><td> 193396                            </td><td>ELEVATE                            </td><td>2005                               </td><td>MEDIA PRODUCTION                   </td><td>1-10                               </td><td>UNITED STATES                      </td></tr>\n",
       "\t<tr><td>1772962                            </td><td>ELEVATE                            </td><td>2017                               </td><td>INFORMATION TECHNOLOGY AND SERVICES</td><td>1-10                               </td><td>CANADA                             </td></tr>\n",
       "\t<tr><td> 867427                            </td><td>ELEVATE                            </td><td>2018                               </td><td>CONSUMER GOODS                     </td><td>1-10                               </td><td>UNITED STATES                      </td></tr>\n",
       "\t<tr><td>7155184                            </td><td>ELEVATE                            </td><td>2017                               </td><td>HEALTH, WELLNESS AND FITNESS       </td><td>1-10                               </td><td>UNITED KINGDOM                     </td></tr>\n",
       "\t<tr><td>4727117                            </td><td>ELEVATE                            </td><td>2010                               </td><td>MARKETING AND ADVERTISING          </td><td>1-10                               </td><td>UNITED STATES                      </td></tr>\n",
       "\t<tr><td> 750209                            </td><td>ELEVATE                            </td><td>2014                               </td><td>MANAGEMENT CONSULTING              </td><td>1-10                               </td><td>UNITED STATES                      </td></tr>\n",
       "\t<tr><td>1713014                            </td><td>ELEVATE                            </td><td>2016                               </td><td>CONSUMER SERVICES                  </td><td>1-10                               </td><td>UNITED STATES                      </td></tr>\n",
       "</tbody>\n",
       "</table>\n"
      ],
      "text/latex": [
       "\\begin{tabular}{r|llllll}\n",
       " PDL\\_ID & PDL\\_ORIGINAL\\_NAME & YEAR\\_FOUNDED & INDUSTRY & SIZE\\_RANGE & COUNTRY\\\\\n",
       "\\hline\n",
       "\t 4629811                             & ELEVATE                             & 2014                                & FINANCIAL SERVICES                  & 501-1,000                           & UNITED STATES                      \\\\\n",
       "\t 3382314                             & ELEVATE                             & 1995                                & MARKETING AND ADVERTISING           & 51-200                              & UNITED KINGDOM                     \\\\\n",
       "\t 2436542                             & ELEVATE                             & 2003                                & MARKETING AND ADVERTISING           & 11-50                               & UNITED STATES                      \\\\\n",
       "\t 2308685                             & ELEVATE                             & 2005                                & COMPUTER NETWORKING                 & 11-50                               & UNITED STATES                      \\\\\n",
       "\t 4256243                             & ELEVATE                             & 2010                                & MANAGEMENT CONSULTING               & 11-50                               & SWEDEN                             \\\\\n",
       "\t  193396                             & ELEVATE                             & 2005                                & MEDIA PRODUCTION                    & 1-10                                & UNITED STATES                      \\\\\n",
       "\t 1772962                             & ELEVATE                             & 2017                                & INFORMATION TECHNOLOGY AND SERVICES & 1-10                                & CANADA                             \\\\\n",
       "\t  867427                             & ELEVATE                             & 2018                                & CONSUMER GOODS                      & 1-10                                & UNITED STATES                      \\\\\n",
       "\t 7155184                             & ELEVATE                             & 2017                                & HEALTH, WELLNESS AND FITNESS        & 1-10                                & UNITED KINGDOM                     \\\\\n",
       "\t 4727117                             & ELEVATE                             & 2010                                & MARKETING AND ADVERTISING           & 1-10                                & UNITED STATES                      \\\\\n",
       "\t  750209                             & ELEVATE                             & 2014                                & MANAGEMENT CONSULTING               & 1-10                                & UNITED STATES                      \\\\\n",
       "\t 1713014                             & ELEVATE                             & 2016                                & CONSUMER SERVICES                   & 1-10                                & UNITED STATES                      \\\\\n",
       "\\end{tabular}\n"
      ],
      "text/markdown": [
       "\n",
       "| PDL_ID | PDL_ORIGINAL_NAME | YEAR_FOUNDED | INDUSTRY | SIZE_RANGE | COUNTRY |\n",
       "|---|---|---|---|---|---|\n",
       "| 4629811                             | ELEVATE                             | 2014                                | FINANCIAL SERVICES                  | 501-1,000                           | UNITED STATES                       |\n",
       "| 3382314                             | ELEVATE                             | 1995                                | MARKETING AND ADVERTISING           | 51-200                              | UNITED KINGDOM                      |\n",
       "| 2436542                             | ELEVATE                             | 2003                                | MARKETING AND ADVERTISING           | 11-50                               | UNITED STATES                       |\n",
       "| 2308685                             | ELEVATE                             | 2005                                | COMPUTER NETWORKING                 | 11-50                               | UNITED STATES                       |\n",
       "| 4256243                             | ELEVATE                             | 2010                                | MANAGEMENT CONSULTING               | 11-50                               | SWEDEN                              |\n",
       "|  193396                             | ELEVATE                             | 2005                                | MEDIA PRODUCTION                    | 1-10                                | UNITED STATES                       |\n",
       "| 1772962                             | ELEVATE                             | 2017                                | INFORMATION TECHNOLOGY AND SERVICES | 1-10                                | CANADA                              |\n",
       "|  867427                             | ELEVATE                             | 2018                                | CONSUMER GOODS                      | 1-10                                | UNITED STATES                       |\n",
       "| 7155184                             | ELEVATE                             | 2017                                | HEALTH, WELLNESS AND FITNESS        | 1-10                                | UNITED KINGDOM                      |\n",
       "| 4727117                             | ELEVATE                             | 2010                                | MARKETING AND ADVERTISING           | 1-10                                | UNITED STATES                       |\n",
       "|  750209                             | ELEVATE                             | 2014                                | MANAGEMENT CONSULTING               | 1-10                                | UNITED STATES                       |\n",
       "| 1713014                             | ELEVATE                             | 2016                                | CONSUMER SERVICES                   | 1-10                                | UNITED STATES                       |\n",
       "\n"
      ],
      "text/plain": [
       "   PDL_ID  PDL_ORIGINAL_NAME YEAR_FOUNDED INDUSTRY                           \n",
       "1  4629811 ELEVATE           2014         FINANCIAL SERVICES                 \n",
       "2  3382314 ELEVATE           1995         MARKETING AND ADVERTISING          \n",
       "3  2436542 ELEVATE           2003         MARKETING AND ADVERTISING          \n",
       "4  2308685 ELEVATE           2005         COMPUTER NETWORKING                \n",
       "5  4256243 ELEVATE           2010         MANAGEMENT CONSULTING              \n",
       "6   193396 ELEVATE           2005         MEDIA PRODUCTION                   \n",
       "7  1772962 ELEVATE           2017         INFORMATION TECHNOLOGY AND SERVICES\n",
       "8   867427 ELEVATE           2018         CONSUMER GOODS                     \n",
       "9  7155184 ELEVATE           2017         HEALTH, WELLNESS AND FITNESS       \n",
       "10 4727117 ELEVATE           2010         MARKETING AND ADVERTISING          \n",
       "11  750209 ELEVATE           2014         MANAGEMENT CONSULTING              \n",
       "12 1713014 ELEVATE           2016         CONSUMER SERVICES                  \n",
       "   SIZE_RANGE COUNTRY       \n",
       "1  501-1,000  UNITED STATES \n",
       "2  51-200     UNITED KINGDOM\n",
       "3  11-50      UNITED STATES \n",
       "4  11-50      UNITED STATES \n",
       "5  11-50      SWEDEN        \n",
       "6  1-10       UNITED STATES \n",
       "7  1-10       CANADA        \n",
       "8  1-10       UNITED STATES \n",
       "9  1-10       UNITED KINGDOM\n",
       "10 1-10       UNITED STATES \n",
       "11 1-10       UNITED STATES \n",
       "12 1-10       UNITED STATES "
      ]
     },
     "metadata": {},
     "output_type": "display_data"
    }
   ],
   "source": [
    "PDL_Raw[PDL_ORIGINAL_NAME==\"ELEVATE\",]"
   ]
  },
  {
   "cell_type": "markdown",
   "metadata": {},
   "source": [
    "Normally, wihtin a jurisdiction company names cannot be repeated, however companies established in different countries can have the same name. Thus duplicate entries with the same name, coming from the same country will be deletd. The organization with the earliest year of foundation will be kept in the database."
   ]
  },
  {
   "cell_type": "code",
   "execution_count": 14,
   "metadata": {},
   "outputs": [
    {
     "data": {
      "text/html": [
       "2188981"
      ],
      "text/latex": [
       "2188981"
      ],
      "text/markdown": [
       "2188981"
      ],
      "text/plain": [
       "[1] 2188981"
      ]
     },
     "metadata": {},
     "output_type": "display_data"
    },
    {
     "data": {
      "text/html": [
       "18499"
      ],
      "text/latex": [
       "18499"
      ],
      "text/markdown": [
       "18499"
      ],
      "text/plain": [
       "[1] 18499"
      ]
     },
     "metadata": {},
     "output_type": "display_data"
    }
   ],
   "source": [
    "#Order dataset by fuondation year\n",
    "PDL_Raw <-PDL_Raw[order(PDL_Raw[,\"YEAR_FOUNDED\"]),]\n",
    "\n",
    "#Elimincate Duplicates\n",
    "PDL_Raw <- unique(PDL_Raw, by= c(\"PDL_ORIGINAL_NAME\", \"COUNTRY\"))\n",
    "\n",
    "#Number remaining Organizations\n",
    "n_rows3 <- nrow(PDL_Raw)\n",
    "n_rows3\n",
    "\n",
    "#Number organizations removed\n",
    "n_rows2-n_rows3\n"
   ]
  },
  {
   "cell_type": "code",
   "execution_count": 15,
   "metadata": {},
   "outputs": [
    {
     "data": {
      "text/html": [
       "<table>\n",
       "<thead><tr><th scope=col>PDL_ID</th><th scope=col>PDL_ORIGINAL_NAME</th><th scope=col>YEAR_FOUNDED</th><th scope=col>INDUSTRY</th><th scope=col>SIZE_RANGE</th><th scope=col>COUNTRY</th></tr></thead>\n",
       "<tbody>\n",
       "\t<tr><td>5872184                            </td><td>IBM                                </td><td>1911                               </td><td>INFORMATION TECHNOLOGY AND SERVICES</td><td>&gt;10000                          </td><td>UNITED STATES                      </td></tr>\n",
       "\t<tr><td>2567154                            </td><td>IBM                                </td><td>1914                               </td><td>INFORMATION TECHNOLOGY AND SERVICES</td><td>1-10                               </td><td>FRANCE                             </td></tr>\n",
       "\t<tr><td>5479744                            </td><td>IBM                                </td><td>2003                               </td><td>COMPUTER SOFTWARE                  </td><td>1-10                               </td><td>ISRAEL                             </td></tr>\n",
       "</tbody>\n",
       "</table>\n"
      ],
      "text/latex": [
       "\\begin{tabular}{r|llllll}\n",
       " PDL\\_ID & PDL\\_ORIGINAL\\_NAME & YEAR\\_FOUNDED & INDUSTRY & SIZE\\_RANGE & COUNTRY\\\\\n",
       "\\hline\n",
       "\t 5872184                             & IBM                                 & 1911                                & INFORMATION TECHNOLOGY AND SERVICES & >10000                              & UNITED STATES                      \\\\\n",
       "\t 2567154                             & IBM                                 & 1914                                & INFORMATION TECHNOLOGY AND SERVICES & 1-10                                & FRANCE                             \\\\\n",
       "\t 5479744                             & IBM                                 & 2003                                & COMPUTER SOFTWARE                   & 1-10                                & ISRAEL                             \\\\\n",
       "\\end{tabular}\n"
      ],
      "text/markdown": [
       "\n",
       "| PDL_ID | PDL_ORIGINAL_NAME | YEAR_FOUNDED | INDUSTRY | SIZE_RANGE | COUNTRY |\n",
       "|---|---|---|---|---|---|\n",
       "| 5872184                             | IBM                                 | 1911                                | INFORMATION TECHNOLOGY AND SERVICES | >10000                              | UNITED STATES                       |\n",
       "| 2567154                             | IBM                                 | 1914                                | INFORMATION TECHNOLOGY AND SERVICES | 1-10                                | FRANCE                              |\n",
       "| 5479744                             | IBM                                 | 2003                                | COMPUTER SOFTWARE                   | 1-10                                | ISRAEL                              |\n",
       "\n"
      ],
      "text/plain": [
       "  PDL_ID  PDL_ORIGINAL_NAME YEAR_FOUNDED INDUSTRY                           \n",
       "1 5872184 IBM               1911         INFORMATION TECHNOLOGY AND SERVICES\n",
       "2 2567154 IBM               1914         INFORMATION TECHNOLOGY AND SERVICES\n",
       "3 5479744 IBM               2003         COMPUTER SOFTWARE                  \n",
       "  SIZE_RANGE COUNTRY      \n",
       "1 >10000     UNITED STATES\n",
       "2 1-10       FRANCE       \n",
       "3 1-10       ISRAEL       "
      ]
     },
     "metadata": {},
     "output_type": "display_data"
    }
   ],
   "source": [
    "PDL_Raw[PDL_ORIGINAL_NAME==\"IBM\",]"
   ]
  },
  {
   "cell_type": "code",
   "execution_count": 16,
   "metadata": {},
   "outputs": [
    {
     "data": {
      "text/html": [
       "<table>\n",
       "<thead><tr><th scope=col>PDL_ID</th><th scope=col>PDL_ORIGINAL_NAME</th><th scope=col>YEAR_FOUNDED</th><th scope=col>INDUSTRY</th><th scope=col>SIZE_RANGE</th><th scope=col>COUNTRY</th></tr></thead>\n",
       "<tbody>\n",
       "\t<tr><td>5735407             </td><td>APPLE               </td><td>1976                </td><td>CONSUMER ELECTRONICS</td><td>&gt;10000           </td><td>UNITED STATES       </td></tr>\n",
       "</tbody>\n",
       "</table>\n"
      ],
      "text/latex": [
       "\\begin{tabular}{r|llllll}\n",
       " PDL\\_ID & PDL\\_ORIGINAL\\_NAME & YEAR\\_FOUNDED & INDUSTRY & SIZE\\_RANGE & COUNTRY\\\\\n",
       "\\hline\n",
       "\t 5735407              & APPLE                & 1976                 & CONSUMER ELECTRONICS & >10000               & UNITED STATES       \\\\\n",
       "\\end{tabular}\n"
      ],
      "text/markdown": [
       "\n",
       "| PDL_ID | PDL_ORIGINAL_NAME | YEAR_FOUNDED | INDUSTRY | SIZE_RANGE | COUNTRY |\n",
       "|---|---|---|---|---|---|\n",
       "| 5735407              | APPLE                | 1976                 | CONSUMER ELECTRONICS | >10000               | UNITED STATES        |\n",
       "\n"
      ],
      "text/plain": [
       "  PDL_ID  PDL_ORIGINAL_NAME YEAR_FOUNDED INDUSTRY             SIZE_RANGE\n",
       "1 5735407 APPLE             1976         CONSUMER ELECTRONICS >10000    \n",
       "  COUNTRY      \n",
       "1 UNITED STATES"
      ]
     },
     "metadata": {},
     "output_type": "display_data"
    }
   ],
   "source": [
    "PDL_Raw[PDL_ORIGINAL_NAME==\"APPLE\",]"
   ]
  },
  {
   "cell_type": "code",
   "execution_count": 17,
   "metadata": {},
   "outputs": [
    {
     "data": {
      "text/html": [
       "<table>\n",
       "<thead><tr><th scope=col>PDL_ID</th><th scope=col>PDL_ORIGINAL_NAME</th><th scope=col>YEAR_FOUNDED</th><th scope=col>INDUSTRY</th><th scope=col>SIZE_RANGE</th><th scope=col>COUNTRY</th></tr></thead>\n",
       "<tbody>\n",
       "\t<tr><td>3382314                            </td><td>ELEVATE                            </td><td>1995                               </td><td>MARKETING AND ADVERTISING          </td><td>51-200                             </td><td>UNITED KINGDOM                     </td></tr>\n",
       "\t<tr><td>2436542                            </td><td>ELEVATE                            </td><td>2003                               </td><td>MARKETING AND ADVERTISING          </td><td>11-50                              </td><td>UNITED STATES                      </td></tr>\n",
       "\t<tr><td>4256243                            </td><td>ELEVATE                            </td><td>2010                               </td><td>MANAGEMENT CONSULTING              </td><td>11-50                              </td><td>SWEDEN                             </td></tr>\n",
       "\t<tr><td>1772962                            </td><td>ELEVATE                            </td><td>2017                               </td><td>INFORMATION TECHNOLOGY AND SERVICES</td><td>1-10                               </td><td>CANADA                             </td></tr>\n",
       "</tbody>\n",
       "</table>\n"
      ],
      "text/latex": [
       "\\begin{tabular}{r|llllll}\n",
       " PDL\\_ID & PDL\\_ORIGINAL\\_NAME & YEAR\\_FOUNDED & INDUSTRY & SIZE\\_RANGE & COUNTRY\\\\\n",
       "\\hline\n",
       "\t 3382314                             & ELEVATE                             & 1995                                & MARKETING AND ADVERTISING           & 51-200                              & UNITED KINGDOM                     \\\\\n",
       "\t 2436542                             & ELEVATE                             & 2003                                & MARKETING AND ADVERTISING           & 11-50                               & UNITED STATES                      \\\\\n",
       "\t 4256243                             & ELEVATE                             & 2010                                & MANAGEMENT CONSULTING               & 11-50                               & SWEDEN                             \\\\\n",
       "\t 1772962                             & ELEVATE                             & 2017                                & INFORMATION TECHNOLOGY AND SERVICES & 1-10                                & CANADA                             \\\\\n",
       "\\end{tabular}\n"
      ],
      "text/markdown": [
       "\n",
       "| PDL_ID | PDL_ORIGINAL_NAME | YEAR_FOUNDED | INDUSTRY | SIZE_RANGE | COUNTRY |\n",
       "|---|---|---|---|---|---|\n",
       "| 3382314                             | ELEVATE                             | 1995                                | MARKETING AND ADVERTISING           | 51-200                              | UNITED KINGDOM                      |\n",
       "| 2436542                             | ELEVATE                             | 2003                                | MARKETING AND ADVERTISING           | 11-50                               | UNITED STATES                       |\n",
       "| 4256243                             | ELEVATE                             | 2010                                | MANAGEMENT CONSULTING               | 11-50                               | SWEDEN                              |\n",
       "| 1772962                             | ELEVATE                             | 2017                                | INFORMATION TECHNOLOGY AND SERVICES | 1-10                                | CANADA                              |\n",
       "\n"
      ],
      "text/plain": [
       "  PDL_ID  PDL_ORIGINAL_NAME YEAR_FOUNDED INDUSTRY                           \n",
       "1 3382314 ELEVATE           1995         MARKETING AND ADVERTISING          \n",
       "2 2436542 ELEVATE           2003         MARKETING AND ADVERTISING          \n",
       "3 4256243 ELEVATE           2010         MANAGEMENT CONSULTING              \n",
       "4 1772962 ELEVATE           2017         INFORMATION TECHNOLOGY AND SERVICES\n",
       "  SIZE_RANGE COUNTRY       \n",
       "1 51-200     UNITED KINGDOM\n",
       "2 11-50      UNITED STATES \n",
       "3 11-50      SWEDEN        \n",
       "4 1-10       CANADA        "
      ]
     },
     "metadata": {},
     "output_type": "display_data"
    }
   ],
   "source": [
    "PDL_Raw[PDL_ORIGINAL_NAME==\"ELEVATE\",]"
   ]
  },
  {
   "cell_type": "markdown",
   "metadata": {},
   "source": [
    "## 3.3) Remove Legal Designation and Non-Alphanumeric Charcters "
   ]
  },
  {
   "cell_type": "code",
   "execution_count": 18,
   "metadata": {},
   "outputs": [
    {
     "data": {
      "text/html": [
       "2176267"
      ],
      "text/latex": [
       "2176267"
      ],
      "text/markdown": [
       "2176267"
      ],
      "text/plain": [
       "[1] 2176267"
      ]
     },
     "metadata": {},
     "output_type": "display_data"
    }
   ],
   "source": [
    "#Create new column to store edited names \n",
    "PDL_Raw <- PDL_Raw[, PDL_MATCH_NAME := PDL_ORIGINAL_NAME]\n",
    "                   \n",
    "#Remove non-alphanumeric charcters\n",
    "PDL_Raw <- PDL_Raw[, PDL_MATCH_NAME := PDL_MATCH_NAME %>%\n",
    "                         iconv(., from = \"UTF-8\", to=\"ASCII//TRANSLIT\") %>%\n",
    "                         gsub(\"[^[:alnum:][:blank:].,&]\",\"\",.)]\n",
    "\n",
    "#Remove dots at the end of the name\n",
    "PDL_Raw[, PDL_MATCH_NAME:= PDL_MATCH_NAME %>%\n",
    "              gsub(\"\\\\.$\",\"\",.) %>%\n",
    "              trimws()]\n",
    "#Overview\n",
    "length(unique(PDL_Raw$PDL_MATCH_NAME))"
   ]
  },
  {
   "cell_type": "markdown",
   "metadata": {},
   "source": [
    "Legal designations were removed on a country basis. "
   ]
  },
  {
   "cell_type": "code",
   "execution_count": 19,
   "metadata": {},
   "outputs": [],
   "source": [
    "#United States\n",
    "PDL_Raw[COUNTRY==\"UNITED STATES\", PDL_MATCH_NAME := PDL_MATCH_NAME %>%\n",
    "              gsub(\"INCORPORATED$\",\"\",.) %>%\n",
    "              gsub(\" INC$\",\"\",.) %>%\n",
    "              gsub(\",INC$\",\"\",.) %>%\n",
    "              gsub(\"LIMITED$\",\"\",.) %>%\n",
    "              gsub(\" LTD$\",\"\",.) %>%\n",
    "              gsub(\",LTD$\",\"\",.) %>%\n",
    "              gsub(\" LLC$\",\"\",.) %>%\n",
    "              gsub(\",LLC$\",\"\",.) %>%\n",
    "              gsub(\"L.L.C$\",\"\",.) %>%\n",
    "              gsub(\" LLP$\",\"\",.) %>%\n",
    "              gsub(\",LLP$\",\"\",.) %>%\n",
    "              gsub(\"CORPORATION$\",\"\",.) %>%\n",
    "              gsub(\" CORP$\",\"\",.) %>%\n",
    "              gsub(\",CORP$\",\"\",.) %>%\n",
    "              gsub(\" CO INC$\",\"\",.) %>%\n",
    "              gsub(\" CO LLC$\",\"\",.) %>%\n",
    "              gsub(\" CO$\",\"\",.) %>%\n",
    "              gsub(\",CO$\",\"\",.) %>%\n",
    "              gsub(\" LP$\",\"\",.) %>%\n",
    "              gsub(\",LP$\",\"\",.) %>%\n",
    "              trimws()]\n"
   ]
  },
  {
   "cell_type": "code",
   "execution_count": 20,
   "metadata": {},
   "outputs": [],
   "source": [
    "#China\n",
    "PDL_Raw[COUNTRY==\"CHINA\", PDL_MATCH_NAME := PDL_MATCH_NAME %>%\n",
    "              gsub(\"CO.,LTD$\",\"\",.) %>%\n",
    "              gsub(\"CO., LTD$\",\"\",.) %>%\n",
    "              gsub(\"CO. LTD$\",\"\",.) %>%\n",
    "              gsub(\"CO.LTD$\",\"\",.) %>%\n",
    "              gsub(\"CORPORATION$\",\"\",.) %>%\n",
    "              gsub(\" CORP$\",\"\",.) %>%\n",
    "              gsub(\",CORP$\",\"\",.) %>%\n",
    "              gsub(\" CO$\",\"\",.) %>%\n",
    "              gsub(\"CO$\",\"\",.) %>%\n",
    "              gsub(\" CORP LTD$\",\"\",.) %>%\n",
    "              gsub(\",CORP LTD$\",\"\",.) %>%\n",
    "              gsub(\"LIMITED$\",\"\",.) %>%\n",
    "              gsub(\" LTD$\",\"\",.) %>%\n",
    "              gsub(\",LTD$\",\"\",.) %>%\n",
    "              gsub(\"INCORPORATED$\",\"\",.) %>%\n",
    "              gsub(\" INC$\",\"\",.) %>%\n",
    "              gsub(\",INC$\",\"\",.) %>%\n",
    "              trimws()]"
   ]
  },
  {
   "cell_type": "code",
   "execution_count": 21,
   "metadata": {},
   "outputs": [],
   "source": [
    "#United Kingdom \n",
    "PDL_Raw[COUNTRY==\"UNITED KINGDOM\", PDL_MATCH_NAME := PDL_MATCH_NAME %>%\n",
    "              gsub(\"LIMITED$\", \"\",.) %>%\n",
    "              gsub(\" LTD$\", \"\",.) %>%\n",
    "              gsub(\",LTD$\", \"\",.) %>%\n",
    "              gsub(\" LLC$\", \"\",.) %>%\n",
    "              gsub(\",LLC$\", \"\",.) %>%\n",
    "              gsub(\" PLC$\", \"\",.) %>%\n",
    "              gsub(\",PLC$\", \"\",.) %>%\n",
    "              gsub(\" INC$\", \"\",.) %>%\n",
    "              gsub(\",INC$\", \"\",.) %>%\n",
    "              trimws()]\n"
   ]
  },
  {
   "cell_type": "code",
   "execution_count": 22,
   "metadata": {},
   "outputs": [],
   "source": [
    "#France\n",
    "PDL_Raw[COUNTRY==\"FRANCE\", PDL_MATCH_NAME := PDL_MATCH_NAME %>%\n",
    "              gsub(\"SÀRL$\",\"\",.) %>%\n",
    "              gsub(\" SARL$\",\"\",.) %>%\n",
    "              gsub(\",SARL$\",\"\",.) %>%\n",
    "              gsub(\" SASU$\",\"\",.) %>%\n",
    "              gsub(\",SASU$\",\"\",.) %>%\n",
    "              gsub(\" SRL$\",\"\",.) %>%\n",
    "              gsub(\",SRL$\",\"\",.) %>%\n",
    "              gsub(\"S.A.S$\",\"\",.) %>%\n",
    "              gsub(\" SAS$\",\"\",.) %>%\n",
    "              gsub(\",SAS$\",\"\",.) %>%\n",
    "              gsub(\"S.A$\",\"\",.) %>%\n",
    "              gsub(\" SA$\",\"\",.) %>%\n",
    "              gsub(\",SA$\",\"\",.) %>%\n",
    "              gsub(\" SE$\",\"\",.) %>%\n",
    "              gsub(\",SE$\",\"\",.) %>%\n",
    "              gsub(\"SOCIÉTÉ ANONYME$\",\"\",.) %>%\n",
    "              gsub(\"^SAS \",\"\",.) %>%\n",
    "              trimws()]"
   ]
  },
  {
   "cell_type": "code",
   "execution_count": 23,
   "metadata": {},
   "outputs": [],
   "source": [
    "#Israel\n",
    "PDL_Raw[COUNTRY==\"ISRAEL\", PDL_MATCH_NAME := PDL_MATCH_NAME %>%\n",
    "              gsub(\"LIMITED$\",\"\",.) %>%\n",
    "              gsub(\" LTD$\", \"\",.) %>%\n",
    "              gsub(\",LTD$\", \"\",.) %>%\n",
    "              gsub(\"INCOPORATED$\",\"\",.) %>%\n",
    "              gsub(\" INC$\", \"\",.) %>%\n",
    "              gsub(\",INC$\", \"\",.) %>%\n",
    "              gsub(\"CO LTD$\",\"\",.) %>%\n",
    "              trimws()]"
   ]
  },
  {
   "cell_type": "code",
   "execution_count": 24,
   "metadata": {},
   "outputs": [],
   "source": [
    "#Canada\n",
    "PDL_Raw[COUNTRY==\"CANADA\", PDL_MATCH_NAME := PDL_MATCH_NAME %>%\n",
    "              gsub(\"INCORPORATED$\",\"\",.) %>%\n",
    "              gsub(\" INC$\", \"\",.) %>%\n",
    "              gsub(\",INC$\", \"\",.) %>%\n",
    "              gsub(\"CORPORATION$\", \"\",.) %>%\n",
    "              gsub(\" CORP$\", \"\",.) %>%\n",
    "              gsub(\",CORP$\", \"\",.) %>%\n",
    "              gsub(\"LIMITED$\", \"\",.) %>%\n",
    "              gsub(\" LTD$\", \"\",.) %>%\n",
    "              gsub(\",LTD$\", \"\",.) %>%\n",
    "              gsub(\" ULC$\",\"\",.) %>%\n",
    "              gsub(\",ULC$\",\"\",.) %>%\n",
    "              gsub(\" LP$\",\"\",.) %>%\n",
    "              gsub(\",LP$\",\"\",.) %>%\n",
    "              trimws()]\n"
   ]
  },
  {
   "cell_type": "code",
   "execution_count": 25,
   "metadata": {},
   "outputs": [],
   "source": [
    "#Japan\n",
    "PDL_Raw[COUNTRY==\"JAPAN\", PDL_MATCH_NAME := PDL_MATCH_NAME %>%\n",
    "              gsub(\"CO.,LTD$\",\"\",.) %>%\n",
    "              gsub(\"CO., LTD$\",\"\",.) %>%\n",
    "              gsub(\"CO. LTD$\",\"\",.) %>%\n",
    "              gsub(\"CO.LTD$\",\"\",.) %>% \n",
    "              gsub(\"CORPORATION$\",\"\",.) %>%\n",
    "              gsub(\" CORP$\",\"\",.) %>%\n",
    "              gsub(\",CORP$\",\"\",.) %>%\n",
    "              gsub(\"CO INC$\",\"\",.) %>%\n",
    "              gsub(\" CO$\",\"\",.) %>%\n",
    "              gsub(\",CO$\",\"\",.) %>%\n",
    "              gsub(\"LIMITED$\",\"\",.) %>%\n",
    "              gsub(\" LTD$\",\"\",.) %>%\n",
    "              gsub(\",LTD$\",\"\",.) %>%\n",
    "              gsub(\"INCORPORATED$\",\"\",.) %>%\n",
    "              gsub(\" INC$\",\"\",.) %>%\n",
    "              gsub(\",INC$\",\"\",.) %>%\n",
    "              gsub(\"K.K$\",\"\",.) %>%\n",
    "              gsub(\" KK$\",\"\",.) %>%\n",
    "              gsub(\",KK$\",\"\",.) %>%\n",
    "              gsub(\"^CO LTD\",\"\",.) %>%\n",
    "              trimws()]"
   ]
  },
  {
   "cell_type": "code",
   "execution_count": 26,
   "metadata": {},
   "outputs": [],
   "source": [
    "#India\n",
    "PDL_Raw[COUNTRY==\"INDIA\", PDL_MATCH_NAME :=  PDL_MATCH_NAME %>%\n",
    "              gsub(\"PRIVATE LIMITED$\",\"\",.) %>%\n",
    "              gsub(\"PRIVATE LTD$\",\"\",.) %>%\n",
    "              gsub(\"PVT.LTD$\",\"\",.) %>%\n",
    "              gsub(\"PVT. LTD$\",\"\",.) %>%\n",
    "              gsub(\"PVT LTD$\",\"\",.) %>%\n",
    "              gsub(\" PVT$\",\"\",.) %>%\n",
    "              gsub(\",PVT$\",\"\",.) %>%\n",
    "              gsub(\" INC$\",\"\",.) %>%\n",
    "              gsub(\",INC$\",\"\",.) %>%\n",
    "              gsub(\" LTD$\",\"\",.) %>%\n",
    "              gsub(\",LTD$\",\"\",.) %>%\n",
    "              trimws()]"
   ]
  },
  {
   "cell_type": "code",
   "execution_count": 27,
   "metadata": {},
   "outputs": [],
   "source": [
    "#Germany\n",
    "PDL_Raw[COUNTRY==\"GERMANY\", PDL_MATCH_NAME := PDL_MATCH_NAME %>%\n",
    "              gsub(\" SLU GMBH$\", \"\",.) %>%\n",
    "              gsub(\"GMBH & CO KG$\", \"\",.) %>%\n",
    "              gsub(\"GMBH$\", \"\",.) %>%\n",
    "              gsub(\"MBH$\", \"\",.) %>%\n",
    "              gsub(\" AG$\", \"\",.) %>%\n",
    "              gsub(\",AG$\", \"\",.) %>%\n",
    "              gsub(\" SE$\", \"\",.) %>%\n",
    "              gsub(\",SE$\", \"\",.) %>%\n",
    "              trimws()]"
   ]
  },
  {
   "cell_type": "code",
   "execution_count": 28,
   "metadata": {},
   "outputs": [],
   "source": [
    "#Singapore\n",
    "PDL_Raw[COUNTRY==\"SINGAPORE\", PDL_MATCH_NAME := PDL_MATCH_NAME %>%\n",
    "              gsub(\"PRIVATE LIMITED$\", \"\",.) %>%\n",
    "              gsub(\"PTE. LTD$\", \"\",.) %>%\n",
    "              gsub(\"PTE LTD$\", \"\",.) %>%\n",
    "              gsub(\"LIMITED$\", \"\",.) %>%\n",
    "              gsub(\" LTD$\", \"\",.) %>%\n",
    "              gsub(\",LTD$\", \"\",.) %>%\n",
    "              gsub(\"CORP LTD$\",\"\",.) %>%\n",
    "              trimws()]"
   ]
  },
  {
   "cell_type": "code",
   "execution_count": 29,
   "metadata": {},
   "outputs": [],
   "source": [
    "#Australia\n",
    "PDL_Raw[COUNTRY==\"AUSTRALIA\", PDL_MATCH_NAME := PDL_MATCH_NAME %>%\n",
    "              gsub(\"PTY. LTD$\",\"\",.) %>%\n",
    "              gsub(\"PTY.LTD$\",\"\",.) %>%\n",
    "              gsub(\"PTY LTD$\",\"\",.) %>%\n",
    "              gsub(\"(PTY)$\",\"\",.) %>%\n",
    "              gsub(\"PTY LIMITED$\",\"\",.) %>%\n",
    "              gsub(\"LIMITED$\",\"\",.) %>%\n",
    "              gsub(\" LTD$\",\"\",.) %>%\n",
    "              gsub(\",LTD$\",\"\",.) %>%\n",
    "              gsub(\"CORPORATION$\",\"\",.) %>%\n",
    "              gsub(\" CROP$\",\"\",.) %>%\n",
    "              gsub(\" CO$\",\"\",.) %>%\n",
    "              gsub(\",CO$\",\"\",.) %>%\n",
    "              trimws()]"
   ]
  },
  {
   "cell_type": "code",
   "execution_count": 30,
   "metadata": {},
   "outputs": [],
   "source": [
    "#Sweden\n",
    "PDL_Raw[COUNTRY==\"SWEDEN\", PDL_MATCH_NAME := PDL_MATCH_NAME %>%\n",
    "              gsub(\"\\\\(PUBL)$\",\"\",.) %>%\n",
    "              gsub(\"SE AB$\",\"\",.) %>% \n",
    "              gsub(\" AB$\",\"\",.) %>%\n",
    "              gsub(\",AB$\",\"\",.) %>%\n",
    "              gsub(\"AB $\",\"\",.) %>%\n",
    "              gsub(\" CORP$\",\"\",.) %>%\n",
    "              gsub(\",CORP$\",\"\",.) %>%\n",
    "              trimws()]"
   ]
  },
  {
   "cell_type": "code",
   "execution_count": 31,
   "metadata": {},
   "outputs": [],
   "source": [
    "#Spain\n",
    "PDL_Raw[COUNTRY==\"SPAIN\", PDL_MATCH_NAME := PDL_MATCH_NAME %>%\n",
    "              gsub(\" SL$\",\"\",.) %>%\n",
    "              gsub(\",SL$\",\"\",.) %>%\n",
    "              gsub(\"S.L$\",\"\",.) %>%\n",
    "              gsub(\", S.L$\",\"\",.) %>%\n",
    "              gsub(\" SA$\",\"\",.) %>%\n",
    "              gsub(\",SA$\",\"\",.) %>%\n",
    "              gsub(\"S.A$\",\"\",.) %>%\n",
    "              gsub(\", S.A$\",\"\",.) %>%\n",
    "              gsub(\"S.L.U$\",\"\",.) %>%\n",
    "              gsub(\" SLU$\",\"\",.) %>%\n",
    "              gsub(\",SLU$\",\"\",.) %>%\n",
    "              trimws()]"
   ]
  },
  {
   "cell_type": "code",
   "execution_count": 32,
   "metadata": {},
   "outputs": [],
   "source": [
    "#Switzerland\n",
    "PDL_Raw[COUNTRY==\"SWITZERLAND\", PDL_MATCH_NAME := PDL_MATCH_NAME %>%\n",
    "              gsub(\"SÀRL$\",\"\",.) %>%\n",
    "              gsub(\" AG$\",\"\",.) %>% \n",
    "              gsub(\",AG$\",\"\",.) %>% \n",
    "              gsub(\"GMBH$\",\"\",.) %>%\n",
    "              gsub(\"S.A$\",\"\",.) %>%\n",
    "              gsub(\" SA$\",\"\",.) %>%\n",
    "              gsub(\",SA$\",\"\",.) %>%\n",
    "              gsub(\" LTD$\",\"\",.) %>%\n",
    "              gsub(\",LTD$\",\"\",.) %>%\n",
    "              trimws()]"
   ]
  },
  {
   "cell_type": "code",
   "execution_count": 33,
   "metadata": {},
   "outputs": [],
   "source": [
    "#Belgium\n",
    "PDL_Raw[COUNTRY==\"BELGIUM\", PDL_MATCH_NAME := PDL_MATCH_NAME %>%\n",
    "              gsub(\" NVSA$\",\"\",.) %>%\n",
    "              gsub(\" NV$\",\"\",.) %>%\n",
    "              gsub(\" N.V$\",\"\",.) %>%\n",
    "              gsub(\" BVBA$\",\"\",.) %>%\n",
    "              gsub(\" BV$\",\"\",.) %>%\n",
    "              gsub(\" B.V$\",\"\",.) %>%\n",
    "              gsub(\" CVBA$\",\"\",.) %>%\n",
    "              gsub(\" SA$\",\"\",.) %>%\n",
    "              gsub(\" S.A$\",\"\",.) %>%\n",
    "              gsub(\" SPRL$\",\"\",.) %>%\n",
    "              gsub(\" S.P.R.L$\",\"\",.) %>%\n",
    "              gsub(\" ASBL$\",\"\",.) %>%\n",
    "              gsub(\" VZW$\",\"\",.) %>%\n",
    "              gsub(\" V.Z.W$\",\"\",.) %>%\n",
    "              gsub(\" SPA$\",\"\",.) %>%\n",
    "              gsub(\" S.P.A$\",\"\",.) %>%\n",
    "              trimws()]"
   ]
  },
  {
   "cell_type": "code",
   "execution_count": 34,
   "metadata": {},
   "outputs": [],
   "source": [
    "#Netherlands\n",
    "PDL_Raw[COUNTRY==\"NETHERLAND\", PDL_MATCH_NAME := PDL_MATCH_NAME %>%\n",
    "              gsub(\"N.V$\",\"\",.) %>%\n",
    "              gsub(\" NV$\",\"\",.) %>%\n",
    "              gsub(\",NV$\",\"\",.) %>%\n",
    "              gsub(\"B.V$\",\"\",.) %>%\n",
    "              gsub(\" BV$\",\"\",.) %>%\n",
    "              gsub(\",BV$\",\"\",.) %>%\n",
    "              trimws()]"
   ]
  },
  {
   "cell_type": "code",
   "execution_count": 35,
   "metadata": {},
   "outputs": [],
   "source": [
    "#South Korea\n",
    "PDL_Raw[COUNTRY==\"SOUTH KOREA\", PDL_MATCH_NAME := PDL_MATCH_NAME %>%\n",
    "              gsub(\"CO.,LTD$\",\"\",.) %>%\n",
    "              gsub(\"CO., LTD$\",\"\",.) %>%\n",
    "              gsub(\"CO. LTD$\",\"\",.) %>%\n",
    "              gsub(\"CO.LTD$\",\"\",.) %>%\n",
    "              gsub(\"CORPORATION$\",\"\",.) %>%\n",
    "              gsub(\"CORP$\",\"\",.) %>%\n",
    "              gsub(\" CO$\",\"\",.) %>%\n",
    "              gsub(\",CO$\",\"\",.) %>%\n",
    "              gsub(\"LIMITED$\",\"\",.) %>%\n",
    "              gsub(\" LTD$\",\"\",.) %>%\n",
    "              gsub(\",LTD$\",\"\",.) %>%\n",
    "              gsub(\"INCORPORATED$\",\"\",.) %>%\n",
    "              gsub(\" INC$\",\"\",.) %>%\n",
    "              gsub(\", INC$\",\"\",.) %>%\n",
    "              trimws()]"
   ]
  },
  {
   "cell_type": "code",
   "execution_count": 36,
   "metadata": {},
   "outputs": [],
   "source": [
    "#Italy\n",
    "PDL_Raw[COUNTRY==\"ITALY\", PDL_MATCH_NAME := PDL_MATCH_NAME %>%\n",
    "              gsub(\"S.P.A$\",\"\",.) %>%\n",
    "              gsub(\" SPA$\",\"\",.) %>%\n",
    "              gsub(\",SPA$\",\"\",.) %>%\n",
    "              gsub(\"S.R.L$\",\"\",.) %>%\n",
    "              gsub(\" SRL$\",\"\",.) %>%\n",
    "              gsub(\",SRL$\",\"\",.) %>%\n",
    "              trimws()]\n"
   ]
  },
  {
   "cell_type": "code",
   "execution_count": 37,
   "metadata": {},
   "outputs": [],
   "source": [
    "#Finland\n",
    "PDL_Raw[COUNTRY==\"FINLAND\", PDL_MATCH_NAME := PDL_MATCH_NAME %>%\n",
    "              gsub(\"OYJ$\",\"\",.) %>%\n",
    "              gsub(\"OY AB$\",\"\",.) %>%\n",
    "              gsub(\"OY$\",\"\",.) %>%\n",
    "              gsub(\" INC$\",\"\",.) %>%\n",
    "              gsub(\",INC$\",\"\",.) %>%\n",
    "              gsub(\" LTD$\",\"\",.) %>%\n",
    "              gsub(\", LTD$\",\"\",.) %>%\n",
    "              gsub(\" CORP$\",\"\",.) %>%\n",
    "              gsub(\" CORP$\",\"\",.) %>%\n",
    "              trimws()]"
   ]
  },
  {
   "cell_type": "code",
   "execution_count": 38,
   "metadata": {},
   "outputs": [],
   "source": [
    "#Denmark\n",
    "PDL_Raw[COUNTRY==\"DENMARK\", PDL_MATCH_NAME := PDL_MATCH_NAME %>%\n",
    "              gsub(\" APS$\",\"\",.) %>%\n",
    "              gsub(\" AS$\",\"\",.) %>%\n",
    "              gsub(\" A.S$\",\"\",.) %>%\n",
    "              trimws()]"
   ]
  },
  {
   "cell_type": "code",
   "execution_count": 39,
   "metadata": {},
   "outputs": [],
   "source": [
    "#Remove commas and dots at end of names\n",
    "PDL_Raw[, PDL_MATCH_NAME := PDL_MATCH_NAME %>%\n",
    "              gsub(\"\\\\.$\",\"\",.) %>%\n",
    "              gsub(\",$\",\"\",.) %>%\n",
    "              gsub(\"^\\\\....\",\"\",.) %>%\n",
    "              gsub(\"^\\\\..\",\"\",.) %>%\n",
    "              gsub(\"^\\\\.\",\"\",.) %>%\n",
    "              gsub(\"^\\\\,\",\"\",.) %>%\n",
    "              trimws()]"
   ]
  },
  {
   "cell_type": "markdown",
   "metadata": {},
   "source": [
    "There are still duplicates as in the example below with \"VESTA\". However it is difficult to determine which is correct. In this sense it is preferable to err to the conservative side"
   ]
  },
  {
   "cell_type": "code",
   "execution_count": 42,
   "metadata": {},
   "outputs": [
    {
     "data": {
      "text/html": [
       "<table>\n",
       "<thead><tr><th scope=col>PDL_ID</th><th scope=col>PDL_ORIGINAL_NAME</th><th scope=col>YEAR_FOUNDED</th><th scope=col>INDUSTRY</th><th scope=col>SIZE_RANGE</th><th scope=col>COUNTRY</th><th scope=col>PDL_MATCH_NAME</th></tr></thead>\n",
       "<tbody>\n",
       "\t<tr><td>4010381                 </td><td>VESTA INC.              </td><td>1972                    </td><td>MEDICAL DEVICES         </td><td>51-200                  </td><td>UNITED STATES           </td><td>VESTA                   </td></tr>\n",
       "\t<tr><td>4178973                                                             </td><td><span style=white-space:pre-wrap>VESTA VZW        </span>           </td><td>1975                                                                </td><td><span style=white-space:pre-wrap>HOSPITAL &amp; HEALTH CARE  </span></td><td><span style=white-space:pre-wrap>11-50  </span>                     </td><td><span style=white-space:pre-wrap>BELGIUM       </span>              </td><td>VESTA                                                               </td></tr>\n",
       "\t<tr><td>5589323                 </td><td>VESTA S.R.L.            </td><td>1975                    </td><td>CONSTRUCTION            </td><td>1-10                    </td><td>ITALY                   </td><td>VESTA                   </td></tr>\n",
       "\t<tr><td>2753399                 </td><td>VESTA, INC              </td><td>1983                    </td><td>MENTAL HEALTH CARE      </td><td>51-200                  </td><td>UNITED STATES           </td><td>VESTA                   </td></tr>\n",
       "\t<tr><td>1040963                 </td><td>VESTA CORPORATION       </td><td>1995                    </td><td>FINANCIAL SERVICES      </td><td>201-500                 </td><td>UNITED STATES           </td><td>VESTA                   </td></tr>\n",
       "\t<tr><td>1274879                 </td><td>VESTA                   </td><td>2010                    </td><td>CONSTRUCTION            </td><td>1-10                    </td><td>UNITED STATES           </td><td>VESTA                   </td></tr>\n",
       "\t<tr><td>1281511                                                  </td><td><span style=white-space:pre-wrap>VESTA SRL        </span></td><td>2013                                                     </td><td>RENEWABLES &amp; ENVIRONMENT                             </td><td><span style=white-space:pre-wrap>1-10   </span>          </td><td><span style=white-space:pre-wrap>ITALY         </span>   </td><td>VESTA                                                    </td></tr>\n",
       "\t<tr><td> 552637                 </td><td>VESTA                   </td><td>2017                    </td><td>DESIGN                  </td><td>1-10                    </td><td>UNITED KINGDOM          </td><td>VESTA                   </td></tr>\n",
       "\t<tr><td>6091337                 </td><td>VESTA GMBH              </td><td>2017                    </td><td>WHOLESALE               </td><td>1-10                    </td><td>GERMANY                 </td><td>VESTA                   </td></tr>\n",
       "</tbody>\n",
       "</table>\n"
      ],
      "text/latex": [
       "\\begin{tabular}{r|lllllll}\n",
       " PDL\\_ID & PDL\\_ORIGINAL\\_NAME & YEAR\\_FOUNDED & INDUSTRY & SIZE\\_RANGE & COUNTRY & PDL\\_MATCH\\_NAME\\\\\n",
       "\\hline\n",
       "\t 4010381                  & VESTA INC.               & 1972                     & MEDICAL DEVICES          & 51-200                   & UNITED STATES            & VESTA                   \\\\\n",
       "\t 4178973                    & VESTA VZW                  & 1975                       & HOSPITAL \\& HEALTH CARE   & 11-50                      & BELGIUM                    & VESTA                     \\\\\n",
       "\t 5589323                  & VESTA S.R.L.             & 1975                     & CONSTRUCTION             & 1-10                     & ITALY                    & VESTA                   \\\\\n",
       "\t 2753399                  & VESTA, INC               & 1983                     & MENTAL HEALTH CARE       & 51-200                   & UNITED STATES            & VESTA                   \\\\\n",
       "\t 1040963                  & VESTA CORPORATION        & 1995                     & FINANCIAL SERVICES       & 201-500                  & UNITED STATES            & VESTA                   \\\\\n",
       "\t 1274879                  & VESTA                    & 2010                     & CONSTRUCTION             & 1-10                     & UNITED STATES            & VESTA                   \\\\\n",
       "\t 1281511                    & VESTA SRL                  & 2013                       & RENEWABLES \\& ENVIRONMENT & 1-10                       & ITALY                      & VESTA                     \\\\\n",
       "\t  552637                  & VESTA                    & 2017                     & DESIGN                   & 1-10                     & UNITED KINGDOM           & VESTA                   \\\\\n",
       "\t 6091337                  & VESTA GMBH               & 2017                     & WHOLESALE                & 1-10                     & GERMANY                  & VESTA                   \\\\\n",
       "\\end{tabular}\n"
      ],
      "text/markdown": [
       "\n",
       "| PDL_ID | PDL_ORIGINAL_NAME | YEAR_FOUNDED | INDUSTRY | SIZE_RANGE | COUNTRY | PDL_MATCH_NAME |\n",
       "|---|---|---|---|---|---|---|\n",
       "| 4010381                  | VESTA INC.               | 1972                     | MEDICAL DEVICES          | 51-200                   | UNITED STATES            | VESTA                    |\n",
       "| 4178973                  | VESTA VZW                | 1975                     | HOSPITAL & HEALTH CARE   | 11-50                    | BELGIUM                  | VESTA                    |\n",
       "| 5589323                  | VESTA S.R.L.             | 1975                     | CONSTRUCTION             | 1-10                     | ITALY                    | VESTA                    |\n",
       "| 2753399                  | VESTA, INC               | 1983                     | MENTAL HEALTH CARE       | 51-200                   | UNITED STATES            | VESTA                    |\n",
       "| 1040963                  | VESTA CORPORATION        | 1995                     | FINANCIAL SERVICES       | 201-500                  | UNITED STATES            | VESTA                    |\n",
       "| 1274879                  | VESTA                    | 2010                     | CONSTRUCTION             | 1-10                     | UNITED STATES            | VESTA                    |\n",
       "| 1281511                  | VESTA SRL                | 2013                     | RENEWABLES & ENVIRONMENT | 1-10                     | ITALY                    | VESTA                    |\n",
       "|  552637                  | VESTA                    | 2017                     | DESIGN                   | 1-10                     | UNITED KINGDOM           | VESTA                    |\n",
       "| 6091337                  | VESTA GMBH               | 2017                     | WHOLESALE                | 1-10                     | GERMANY                  | VESTA                    |\n",
       "\n"
      ],
      "text/plain": [
       "  PDL_ID  PDL_ORIGINAL_NAME YEAR_FOUNDED INDUSTRY                 SIZE_RANGE\n",
       "1 4010381 VESTA INC.        1972         MEDICAL DEVICES          51-200    \n",
       "2 4178973 VESTA VZW         1975         HOSPITAL & HEALTH CARE   11-50     \n",
       "3 5589323 VESTA S.R.L.      1975         CONSTRUCTION             1-10      \n",
       "4 2753399 VESTA, INC        1983         MENTAL HEALTH CARE       51-200    \n",
       "5 1040963 VESTA CORPORATION 1995         FINANCIAL SERVICES       201-500   \n",
       "6 1274879 VESTA             2010         CONSTRUCTION             1-10      \n",
       "7 1281511 VESTA SRL         2013         RENEWABLES & ENVIRONMENT 1-10      \n",
       "8  552637 VESTA             2017         DESIGN                   1-10      \n",
       "9 6091337 VESTA GMBH        2017         WHOLESALE                1-10      \n",
       "  COUNTRY        PDL_MATCH_NAME\n",
       "1 UNITED STATES  VESTA         \n",
       "2 BELGIUM        VESTA         \n",
       "3 ITALY          VESTA         \n",
       "4 UNITED STATES  VESTA         \n",
       "5 UNITED STATES  VESTA         \n",
       "6 UNITED STATES  VESTA         \n",
       "7 ITALY          VESTA         \n",
       "8 UNITED KINGDOM VESTA         \n",
       "9 GERMANY        VESTA         "
      ]
     },
     "metadata": {},
     "output_type": "display_data"
    }
   ],
   "source": [
    "PDL_Raw[PDL_MATCH_NAME==\"VESTA\",]"
   ]
  },
  {
   "cell_type": "markdown",
   "metadata": {},
   "source": [
    "## 3.4) Selection of Industries"
   ]
  },
  {
   "cell_type": "markdown",
   "metadata": {},
   "source": [
    "The number of entries is excesively large for the Convoluted Fuzzy Match Algorith so that the number of organizations need to be reduced. A series of indsutries are removed under the assumption that they are less likely to be related to the development of Artificial Intelligence."
   ]
  },
  {
   "cell_type": "code",
   "execution_count": 43,
   "metadata": {},
   "outputs": [
    {
     "data": {
      "text/html": [
       "1468640"
      ],
      "text/latex": [
       "1468640"
      ],
      "text/markdown": [
       "1468640"
      ],
      "text/plain": [
       "[1] 1468640"
      ]
     },
     "metadata": {},
     "output_type": "display_data"
    },
    {
     "data": {
      "text/html": [
       "720341"
      ],
      "text/latex": [
       "720341"
      ],
      "text/markdown": [
       "720341"
      ],
      "text/plain": [
       "[1] 720341"
      ]
     },
     "metadata": {},
     "output_type": "display_data"
    }
   ],
   "source": [
    "Drop_Industries <- c (\"GOVERNMENT ADMINISTRATION\",\"NEWSPAPERS\",\"MILITARY\",\n",
    "                      \"NON-PROFIT ORGANIZATION MANAGEMENT\",\"EDUCATION MANAGEMENT\",\"LEGAL SERVICES\",\n",
    "                      \"LAW ENFORCEMENT\",\"RELIGIOUS INSTITUTIONS\",\"ARCHITECTURE & PLANNING\",\"LIBRARIES\",\n",
    "                      \"LAW PRACTICE\",\"MUSEUMS AND INSTITUTIONS\",\"PRIMARY/SECONDARY EDUCATION\",\n",
    "                      \"FINE ART\",\"PUBLIC SAFETY\",\"NONPROFIT ORGANIZATION MANAGEMENT\",\"GOVERNMENT RELATIONS\",\n",
    "                      \"CIVIC & SOCIAL ORGANIZATION\",\"PERFORMING ARTS\",\"RECREATIONAL FACILITIES AND SERVICES\",\n",
    "                      \"MENTAL HEALTH CARE\",\"MUSIC\",\"PHILANTHROPY\",\"INDIVIDUAL & FAMILY SERVICES\",\n",
    "                      \"FUND-RAISING\",\"LEGISLATIVE OFFICE\",\"JUDICIARY\",\"ENTERTAINMENT\",\"EVENTS SERVICES\",\n",
    "                      \"INTERNATIONAL AFFAIRS\",\"POLITICAL ORGANIZATION\",\"PUBLIC POLICY\",\"RESTAURANTS\",\n",
    "                      \"PROFESSIONAL TRAINING & COACHING\",\"INTERNATIONAL TRADE AND DEVELOPMENT\",\n",
    "                      \"EXECUTIVE OFFICE\",\"GAMBLING & CASINOS\",\"SPORTS\",\"ARTS AND CRAFTS\",\"VETERINARY\",\n",
    "                      \"SUPERMARKETS\",\"PHOTOGRAPHY\",\"ALTERNATIVE MEDICINE\",\"MOTION PICTURES AND FILM\",\n",
    "                      \"THINK TANKS\",\"ALTERNATIVE DISPUTE RESOLUTION\", \"HIGHER EDUCATION\",\"CONSTRUCTION\",\n",
    "                      \"FURNITURE\",\"WINE AND SPIRITS\", \"MANAGEMENT CONSULTING\", \"FOOD & BEVERAGES\", \"DESIGN\",\n",
    "                      \"PROGRAM DEVELOPMENT\", \"MEDICAL CARE\", \"DAIRY\", \"FACILITIES SERVICE\",\n",
    "                      \"GLASS, CERAMICS & CONCRETE\", \"IMPORT AND EXPORT\", \"LUXURY GOODS & JEWELRY\", \"MARITIME\",\n",
    "                      \"OUTSOURCING/OFFSHORING\", \"PAPER & FOREST PRODUCTS\", \"PUBLIC RELATIONS AND COMMUNICATIONS\",\n",
    "                      \"RANCHING\", \"SHIPBUILDING\", \"TOBACCO\", \"WAREHOUSING\", \"WHOLESALE\")\n",
    "\n",
    "PDL_Raw <- PDL_Raw[!(INDUSTRY %in% Drop_Industries),]\n",
    "\n",
    "#Remaining Industries\n",
    "n_rows4 <- nrow(PDL_Raw)\n",
    "n_rows4\n",
    "\n",
    "#Dropped Organizations\n",
    "n_rows3-n_rows4\n"
   ]
  },
  {
   "cell_type": "markdown",
   "metadata": {},
   "source": [
    "# 4) Add Column with Key Word for Fuzzy Match"
   ]
  },
  {
   "cell_type": "code",
   "execution_count": 44,
   "metadata": {},
   "outputs": [
    {
     "data": {
      "text/html": [
       "<ol class=list-inline>\n",
       "\t<li>'UNIVERSITY'</li>\n",
       "\t<li>'TECHNOLOGY'</li>\n",
       "\t<li>'US'</li>\n",
       "\t<li>'MARINE'</li>\n",
       "\t<li>'WHITE'</li>\n",
       "\t<li>'OLD'</li>\n",
       "</ol>\n"
      ],
      "text/latex": [
       "\\begin{enumerate*}\n",
       "\\item 'UNIVERSITY'\n",
       "\\item 'TECHNOLOGY'\n",
       "\\item 'US'\n",
       "\\item 'MARINE'\n",
       "\\item 'WHITE'\n",
       "\\item 'OLD'\n",
       "\\end{enumerate*}\n"
      ],
      "text/markdown": [
       "1. 'UNIVERSITY'\n",
       "2. 'TECHNOLOGY'\n",
       "3. 'US'\n",
       "4. 'MARINE'\n",
       "5. 'WHITE'\n",
       "6. 'OLD'\n",
       "\n",
       "\n"
      ],
      "text/plain": [
       "[1] \"UNIVERSITY\" \"TECHNOLOGY\" \"US\"         \"MARINE\"     \"WHITE\"     \n",
       "[6] \"OLD\"       "
      ]
     },
     "metadata": {},
     "output_type": "display_data"
    }
   ],
   "source": [
    "PDL_Raw[, PDL_Key_Word := stringr::word(PDL_MATCH_NAME,1)]\n",
    "head(PDL_Raw$PDL_Key_Word)"
   ]
  },
  {
   "cell_type": "markdown",
   "metadata": {},
   "source": [
    "# 5) OUTPUT"
   ]
  },
  {
   "cell_type": "code",
   "execution_count": 45,
   "metadata": {},
   "outputs": [],
   "source": [
    "fwrite(PDL_Raw,\"F:/Thesis/Working_Data/Final\\\\Industrial_Dataset.csv\", col.names = TRUE)"
   ]
  },
  {
   "cell_type": "code",
   "execution_count": null,
   "metadata": {},
   "outputs": [],
   "source": []
  }
 ],
 "metadata": {
  "kernelspec": {
   "display_name": "R",
   "language": "R",
   "name": "ir"
  },
  "language_info": {
   "codemirror_mode": "r",
   "file_extension": ".r",
   "mimetype": "text/x-r-source",
   "name": "R",
   "pygments_lexer": "r",
   "version": "3.6.1"
  }
 },
 "nbformat": 4,
 "nbformat_minor": 2
}
